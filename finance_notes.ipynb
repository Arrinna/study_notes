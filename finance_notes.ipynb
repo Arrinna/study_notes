{
 "cells": [
  {
   "cell_type": "code",
   "execution_count": 10,
   "id": "8bb42c78",
   "metadata": {},
   "outputs": [],
   "source": [
    "import numpy as np\n",
    "import numpy_financial as npf"
   ]
  },
  {
   "cell_type": "code",
   "execution_count": 44,
   "id": "67352e87",
   "metadata": {},
   "outputs": [],
   "source": [
    "def future_value(PV, rate, years):\n",
    "    ''' Будущая стоимость     '''\n",
    "    return PV * (1 + rate) ** years\n",
    "\n",
    "def present_value(FV, rate, years):\n",
    "    '''Приведенная cтоимость'''\n",
    "    return FV / ((1 + rate)** years)\n",
    "\n",
    "def effective_annual_rate(rate, n_times):\n",
    "    '''     effective annual rate - Эффективная процентная ставка    '''\n",
    "    return (1 + rate / n_times) ** n_times - 1\n",
    "\n",
    "def effective_periodic__rate(EAR, n_times):\n",
    "    '''     эффективная периодическая процентная ставка равна: APR/n=(EAR+1)**1/n − 1\n",
    "    '''\n",
    "    return ((EAR + 1) ** (1/n_times)) - 1\n",
    "\n",
    "def real_rate(nominal_rate, inflation_rate):\n",
    "    '''\n",
    "    Реальная ставка (по формуле Фишера)\n",
    "    '''\n",
    "    return (1 + nominal_rate) / (1 + inflation_rate) - 1  \n",
    "\n",
    "# Тогда приведенная стоимость перпетуитета равна:\n",
    "\n",
    "def perpetuity_PV(C, r):\n",
    "    return C / r\n"
   ]
  },
  {
   "cell_type": "code",
   "execution_count": 14,
   "id": "be67f18b",
   "metadata": {},
   "outputs": [
    {
     "name": "stdout",
     "output_type": "stream",
     "text": [
      "38.5\n"
     ]
    }
   ],
   "source": [
    "#  calculate NPV (чистая приведенная стоимость)\n",
    "\n",
    "import numpy_financial as npf\n",
    "\n",
    "values = [0, -65, -65, 10, 10, 40, 40, 40, 40, 40]  # платежи по годам\n",
    "rate = 0.05  # ставка\n",
    "\n",
    "result = npf.npv(rate, values)\n",
    "print(round(result, 1))"
   ]
  },
  {
   "cell_type": "code",
   "execution_count": 15,
   "id": "eed04956",
   "metadata": {},
   "outputs": [
    {
     "data": {
      "text/plain": [
       "16487.2"
      ]
     },
     "execution_count": 15,
     "metadata": {},
     "output_type": "execute_result"
    }
   ],
   "source": [
    "import numpy as np\n",
    "\n",
    "PV = 10000  # present_value\n",
    "t = 5  # лет\n",
    "r = 0.1  #  ставка 10%\n",
    "\n",
    "EAR = np.e ** r\n",
    "\n",
    "round(PV * (EAR ** t), 1)"
   ]
  },
  {
   "cell_type": "code",
   "execution_count": 16,
   "id": "f0750915",
   "metadata": {},
   "outputs": [
    {
     "data": {
      "text/plain": [
       "9.545"
      ]
     },
     "execution_count": 16,
     "metadata": {},
     "output_type": "execute_result"
    }
   ],
   "source": [
    "# Найти эффективную ставку, если известны PV & FV\n",
    "PV = 10\n",
    "FV = 12\n",
    "years = 2\n",
    "# FV = PV * (1 + EAR) ** years\n",
    "\n",
    "EAR = ((FV / PV) ** (1/years)) - 1\n",
    "\n",
    "round(EAR * 100, 3)"
   ]
  },
  {
   "cell_type": "code",
   "execution_count": 17,
   "id": "82cccd02",
   "metadata": {},
   "outputs": [
    {
     "name": "stdout",
     "output_type": "stream",
     "text": [
      "Сумма удвоится за 152 месяцев\n"
     ]
    }
   ],
   "source": [
    "PV = 5000\n",
    "FV = PV * 2\n",
    "rate = 0.055\n",
    "n = 12\n",
    "n_rate = rate / n  # ежемесячная ставка\n",
    "\n",
    "amount = PV\n",
    "months = 0\n",
    "\n",
    "while amount < FV:\n",
    "    amount *= (1 + n_rate)\n",
    "    months += 1\n",
    "\n",
    "print(f\"Сумма удвоится за {months} месяцев\")\n"
   ]
  },
  {
   "cell_type": "code",
   "execution_count": 18,
   "id": "daf73fc2",
   "metadata": {},
   "outputs": [
    {
     "name": "stdout",
     "output_type": "stream",
     "text": [
      "PV (реальные потоки и реальная ставка): 4.1 тыс. руб.\n",
      "PV (номинальные потоки и номинальная ставка): 4.1 тыс. руб.\n"
     ]
    }
   ],
   "source": [
    "# Исходные данные\n",
    "nominal_cash_flows = [1.5, 1.3, 1.05, 0.9, 0.75]  # в тыс. руб.\n",
    "nominal_rate = 0.12  # номинальная ставка (12%)\n",
    "inflation_rate = 0.03  # инфляция (3%)\n",
    "\n",
    "# Реальная ставка (по формуле Фишера)\n",
    "real_rate = (1 + nominal_rate) / (1 + inflation_rate) - 1\n",
    "\n",
    "# ---- Способ 1: реальные потоки и реальная ставка ----\n",
    "\n",
    "real_cash_flows = [\n",
    "    cf / ((1 + inflation_rate) ** (t + 1))\n",
    "    for t, cf in enumerate(nominal_cash_flows)\n",
    "]\n",
    "\n",
    "pv_real = sum(\n",
    "    cf / ((1 + real_rate) ** (t + 1))\n",
    "    for t, cf in enumerate(real_cash_flows)\n",
    ")\n",
    "\n",
    "# ---- Способ 2: номинальные потоки и номинальная ставка ----\n",
    "\n",
    "pv_nominal = sum(\n",
    "    cf / ((1 + nominal_rate) ** (t + 1))\n",
    "    for t, cf in enumerate(nominal_cash_flows)\n",
    ")\n",
    "\n",
    "# Округляем до одного знака после запятой\n",
    "pv_real = round(pv_real, 1)\n",
    "pv_nominal = round(pv_nominal, 1)\n",
    "\n",
    "# Выводим результаты\n",
    "print(f\"PV (реальные потоки и реальная ставка): {pv_real} тыс. руб.\")\n",
    "print(f\"PV (номинальные потоки и номинальная ставка): {pv_nominal} тыс. руб.\")\n"
   ]
  },
  {
   "cell_type": "code",
   "execution_count": 25,
   "id": "2c96526e",
   "metadata": {},
   "outputs": [
    {
     "name": "stdout",
     "output_type": "stream",
     "text": [
      "76680.1\n"
     ]
    }
   ],
   "source": [
    "PV = 50000\n",
    "years = 10\n",
    "nominal_rate = 0.075\n",
    "inflation_rate = 0.03\n",
    "\n",
    "rr = real_rate(nominal_rate, inflation_rate)\n",
    "FV = future_value(PV, rr, years)\n",
    "\n",
    "print(round(FV, 1))"
   ]
  },
  {
   "cell_type": "code",
   "execution_count": null,
   "id": "ee5c3f79",
   "metadata": {},
   "outputs": [],
   "source": []
  }
 ],
 "metadata": {
  "kernelspec": {
   "display_name": "Python [conda env:base] *",
   "language": "python",
   "name": "conda-base-py"
  },
  "language_info": {
   "codemirror_mode": {
    "name": "ipython",
    "version": 3
   },
   "file_extension": ".py",
   "mimetype": "text/x-python",
   "name": "python",
   "nbconvert_exporter": "python",
   "pygments_lexer": "ipython3",
   "version": "3.13.5"
  }
 },
 "nbformat": 4,
 "nbformat_minor": 5
}
