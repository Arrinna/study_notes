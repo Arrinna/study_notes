{
 "cells": [
  {
   "cell_type": "markdown",
   "id": "9373d473-9806-451f-83c1-868dad327f22",
   "metadata": {},
   "source": [
    "# Математический анализ"
   ]
  },
  {
   "cell_type": "code",
   "execution_count": null,
   "id": "e0133feb-b9e4-4f56-a60f-7ef0dadcaf40",
   "metadata": {},
   "outputs": [],
   "source": [
    "# вычисление предела\n",
    "# sympy.limit(function, variable, point)\n",
    "# limit_value = sp.limit(f, x, 0, '+') - One-Sided Limits\n",
    "\n",
    "import math\n",
    "import numpy as np\n",
    "import sympy as sp\n",
    "x = sp.symbols('x')  \n",
    "f = (2**(x+1) + 3**(x+3)) / (np.e ** (x + 100) + 3 ** x)\n",
    "\n",
    "# from sympy import E\n",
    "# f = (E**x + x**2 + sp.log(x, 3)) * (1 - sp.cos(1/E**x))\n",
    "\n",
    "limit_value = sp.limit(f, x, np.inf) # limit_value = sp.limit(f, x, sp.oo)\n",
    "\n",
    "# f = (sp.sin(x)) ** (sp.tan(x)**2)\n",
    "# limit_value = sp.limit(f, x, sp.pi/2)\n",
    "\n",
    "print(limit_value) "
   ]
  },
  {
   "cell_type": "code",
   "execution_count": 30,
   "id": "da1e4e68-d444-404a-89de-78af8b718a2b",
   "metadata": {},
   "outputs": [
    {
     "name": "stdout",
     "output_type": "stream",
     "text": [
      "0\n"
     ]
    }
   ],
   "source": [
    "import math\n",
    "import numpy as np\n",
    "import sympy as sp\n",
    "\n",
    "x = sp.symbols('x')  \n",
    "\n",
    "f = (0.2**x) * (sp.E**sp.sin(x**2))\n",
    "\n",
    "limit_value = sp.limit(f, x, sp.oo) \n",
    "\n",
    "print(limit_value) "
   ]
  },
  {
   "cell_type": "code",
   "execution_count": 27,
   "id": "af1cfbc7-565d-4c23-b280-98c94392ceb7",
   "metadata": {},
   "outputs": [
    {
     "data": {
      "text/plain": [
       "0.042"
      ]
     },
     "execution_count": 27,
     "metadata": {},
     "output_type": "execute_result"
    }
   ],
   "source": [
    "round(1/24, 3)"
   ]
  },
  {
   "cell_type": "code",
   "execution_count": 6,
   "id": "1c602f3d-246a-4ecc-b198-91092bd1c6f9",
   "metadata": {},
   "outputs": [
    {
     "data": {
      "text/latex": [
       "$\\displaystyle \\left[-1 + e, \\infty\\right)$"
      ],
      "text/plain": [
       "Interval(-1 + E, oo)"
      ]
     },
     "execution_count": 6,
     "metadata": {},
     "output_type": "execute_result"
    }
   ],
   "source": [
    "# Найдите область непрерывности функции\n",
    "\n",
    "import sympy as sp\n",
    "from sympy import Symbol, S\n",
    "from sympy.calculus.util import continuous_domain\n",
    "x = Symbol(\"x\")\n",
    "f = sp.sqrt(sp.ln(x+1) - 1)\n",
    "continuous_domain(f, x, S.Reals)"
   ]
  },
  {
   "cell_type": "markdown",
   "id": "c3643d53-2b2a-447a-ba2b-d3734b7a616f",
   "metadata": {},
   "source": [
    "f(x) = \n",
    "\\begin{cases}\n",
    "x - e, & x \\leq e \\\\\n",
    "\\dfrac{(x - e)^2}{\\sqrt{1 + e - x} - 1}, & x > e\n",
    "\\end{cases}"
   ]
  },
  {
   "cell_type": "code",
   "execution_count": 9,
   "id": "0e02c083-14ee-403d-999f-c34e8bca9c30",
   "metadata": {},
   "outputs": [
    {
     "name": "stdout",
     "output_type": "stream",
     "text": [
      "Левый предел: 0\n",
      "Правый предел: 0\n",
      "Значение функции в точке e: 0\n"
     ]
    }
   ],
   "source": [
    "# Вычислите левосторонний и правосторонний предел функции 𝑓(𝑥) в точке 𝑥 = 𝑒 \n",
    "# и сделайте вывод о ее непрерывности в этой точке, если\n",
    "\n",
    "import sympy as sp\n",
    "\n",
    "x = sp.symbols('x')\n",
    "e = sp.E \n",
    "\n",
    "# Определим кусочную функцию\n",
    "f = sp.Piecewise(\n",
    "    (x - e, x <= e),\n",
    "    ((x - e)**2 / (sp.sqrt(1 + e - x) - 1), x > e)\n",
    ")\n",
    "\n",
    "# Вычислим пределы\n",
    "limit_left = sp.limit(f, x, e, dir='-')\n",
    "limit_right = sp.limit(f, x, e, dir='+')\n",
    "f_at_e = f.subs(x, e)\n",
    "\n",
    "print(\"Левый предел:\", limit_left)\n",
    "print(\"Правый предел:\", limit_right)\n",
    "print(\"Значение функции в точке e:\", f_at_e)"
   ]
  },
  {
   "cell_type": "code",
   "execution_count": 11,
   "id": "ef86f9c6-7e34-4ad6-bfd5-42986a2043d5",
   "metadata": {},
   "outputs": [
    {
     "name": "stdout",
     "output_type": "stream",
     "text": [
      "Производная: 5*x**4 - 3\n",
      "Значение в точке x=2: 77\n"
     ]
    }
   ],
   "source": [
    "# Найдите значение производной y=x**5−3*x+1 в точке x=2\n",
    "\n",
    "import sympy as sp\n",
    "\n",
    "# Определяем переменную\n",
    "x = sp.symbols('x')\n",
    "\n",
    "# Задаём функцию\n",
    "y = x**5 - 3*x + 1\n",
    "\n",
    "# Находим производную\n",
    "dy_dx = sp.diff(y, x)\n",
    "\n",
    "# Подставляем x=2\n",
    "value = dy_dx.subs(x, 2)\n",
    "\n",
    "print(\"Производная:\", dy_dx)\n",
    "print(\"Значение в точке x=2:\", value)\n"
   ]
  },
  {
   "cell_type": "code",
   "execution_count": 42,
   "id": "014f2e2a-2a25-4d7c-9441-d404787dc63d",
   "metadata": {},
   "outputs": [
    {
     "name": "stdout",
     "output_type": "stream",
     "text": [
      "y(0) = 1\n",
      "y'(0) = 1\n",
      "y''(0) = 0\n",
      "Сумма = 2\n"
     ]
    }
   ],
   "source": [
    "import sympy as sp\n",
    "\n",
    "x = sp.symbols('x')\n",
    "y = sp.exp(sp.sin(x)) * sp.cos(sp.sin(x))\n",
    "\n",
    "y0 = y.subs(x, 0)\n",
    "\n",
    "y1 = sp.diff(y, x)\n",
    "y1_0 = y1.subs(x, 0)\n",
    "\n",
    "\n",
    "y2 = sp.diff(y1, x)\n",
    "y2_0 = y2.subs(x, 0)\n",
    "\n",
    "result = y0 + y1_0 + y2_0\n",
    "\n",
    "print(\"y(0) =\", y0)\n",
    "print(\"y'(0) =\", y1_0)\n",
    "print(\"y''(0) =\", y2_0)\n",
    "print(\"Сумма =\", result)"
   ]
  },
  {
   "cell_type": "code",
   "execution_count": 51,
   "id": "05dd099a-e902-4e8a-8e87-91ad168c163e",
   "metadata": {},
   "outputs": [
    {
     "name": "stdout",
     "output_type": "stream",
     "text": [
      "y^(6) = 2880\n",
      "y^(7) = 0\n",
      "Сумма = 2880\n"
     ]
    }
   ],
   "source": [
    "from sympy import symbols, diff\n",
    "\n",
    "x = sp.symbols('x')\n",
    "y = x * (2*x - 1)**2 * (x + 3)**3\n",
    "\n",
    "# Производные\n",
    "y6 = sp.diff(y, x, 6)\n",
    "y7 = sp.diff(y, x, 7)\n",
    "\n",
    "# Так как это многочлен, производные будут константами (после нужного порядка)\n",
    "print(\"y^(6) =\", y6)\n",
    "print(\"y^(7) =\", y7)\n",
    "print(\"Сумма =\", y6 + y7)\n"
   ]
  },
  {
   "cell_type": "code",
   "execution_count": 52,
   "id": "862e6ab0-e882-44f7-a98e-effdaceb36bf",
   "metadata": {},
   "outputs": [
    {
     "name": "stdout",
     "output_type": "stream",
     "text": [
      "Вещественные корни: [-1.00000000000000, -0.500000000000000, 1.00000000000000]\n",
      "Сумма вещественных корней = -0.500000000000000\n"
     ]
    }
   ],
   "source": [
    "# Посчитайте сумму вещественных корней уравнения y′(x)=0, где y=(1−x)*(1−x**2)**2*(1−x**3)**3\n",
    "import sympy as sp\n",
    "\n",
    "# Переменная\n",
    "x = sp.symbols('x')\n",
    "\n",
    "# Функция\n",
    "y = (1 - x) * (1 - x**2)**2 * (1 - x**3)**3\n",
    "\n",
    "# Производная\n",
    "y_prime = sp.diff(y, x)\n",
    "\n",
    "# Решение уравнения y'(x)=0\n",
    "roots = sp.solve(sp.simplify(y_prime), x)\n",
    "\n",
    "# Фильтрация вещественных корней и вычисление суммы\n",
    "real_roots = [r.evalf() for r in roots if r.is_real]\n",
    "sum_roots = sum(real_roots)\n",
    "\n",
    "print(\"Вещественные корни:\", real_roots)\n",
    "print(\"Сумма вещественных корней =\", sum_roots)\n"
   ]
  },
  {
   "cell_type": "code",
   "execution_count": 57,
   "id": "b5837a17-83e9-49b4-afad-b2978bbd0400",
   "metadata": {},
   "outputs": [
    {
     "name": "stdout",
     "output_type": "stream",
     "text": [
      "[-1.00000000000000, -0.500000000000000, 1.00000000000000]\n",
      "-0.500000000000000\n"
     ]
    }
   ],
   "source": [
    "from sympy import symbols, diff, Eq, solve, evalf, sympify\n",
    "\n",
    "# Определяем переменную x\n",
    "x = symbols('x')\n",
    "\n",
    "# Задаем функцию\n",
    "f = (1-x)*(1-x**2)**2*(1-x**3)**3\n",
    "\n",
    "# Вычисляем производную\n",
    "df_dx = diff(f, x)\n",
    "\n",
    "# Задаем уравнение\n",
    "equation = Eq(df_dx, 0)\n",
    "\n",
    "# Решаем\n",
    "solution = solve(equation)\n",
    "real_roots = [r.evalf() for r in solution if r.is_real]\n",
    "print(real_roots)\n",
    "sum_roots = sum(real_roots)\n",
    "\n",
    "# Выводим корни\n",
    "print(sum_roots)"
   ]
  },
  {
   "cell_type": "code",
   "execution_count": null,
   "id": "1b27e61e-9342-46e6-81b2-8987cb60391d",
   "metadata": {},
   "outputs": [],
   "source": []
  },
  {
   "cell_type": "code",
   "execution_count": null,
   "id": "4faabc1c-24eb-40f4-af51-ff2a3d3252c1",
   "metadata": {},
   "outputs": [],
   "source": []
  },
  {
   "cell_type": "code",
   "execution_count": null,
   "id": "41a3aa02-caf5-47ad-9d21-9ffb40375e4d",
   "metadata": {},
   "outputs": [],
   "source": []
  },
  {
   "cell_type": "code",
   "execution_count": 27,
   "id": "1b2bf630-a388-4f8e-b12c-116057a76417",
   "metadata": {},
   "outputs": [
    {
     "data": {
      "text/html": [
       "<div>\n",
       "<style scoped>\n",
       "    .dataframe tbody tr th:only-of-type {\n",
       "        vertical-align: middle;\n",
       "    }\n",
       "\n",
       "    .dataframe tbody tr th {\n",
       "        vertical-align: top;\n",
       "    }\n",
       "\n",
       "    .dataframe thead th {\n",
       "        text-align: right;\n",
       "    }\n",
       "</style>\n",
       "<table border=\"1\" class=\"dataframe\">\n",
       "  <thead>\n",
       "    <tr style=\"text-align: right;\">\n",
       "      <th></th>\n",
       "      <th>day</th>\n",
       "      <th>amount</th>\n",
       "    </tr>\n",
       "  </thead>\n",
       "  <tbody>\n",
       "    <tr>\n",
       "      <th>0</th>\n",
       "      <td>1</td>\n",
       "      <td>60000</td>\n",
       "    </tr>\n",
       "    <tr>\n",
       "      <th>1</th>\n",
       "      <td>2</td>\n",
       "      <td>59000</td>\n",
       "    </tr>\n",
       "    <tr>\n",
       "      <th>2</th>\n",
       "      <td>3</td>\n",
       "      <td>57500</td>\n",
       "    </tr>\n",
       "    <tr>\n",
       "      <th>3</th>\n",
       "      <td>4</td>\n",
       "      <td>56000</td>\n",
       "    </tr>\n",
       "    <tr>\n",
       "      <th>4</th>\n",
       "      <td>5</td>\n",
       "      <td>55500</td>\n",
       "    </tr>\n",
       "    <tr>\n",
       "      <th>5</th>\n",
       "      <td>6</td>\n",
       "      <td>50000</td>\n",
       "    </tr>\n",
       "  </tbody>\n",
       "</table>\n",
       "</div>"
      ],
      "text/plain": [
       "   day  amount\n",
       "0    1   60000\n",
       "1    2   59000\n",
       "2    3   57500\n",
       "3    4   56000\n",
       "4    5   55500\n",
       "5    6   50000"
      ]
     },
     "execution_count": 27,
     "metadata": {},
     "output_type": "execute_result"
    }
   ],
   "source": [
    "#  МАТАН: Интуиция на примере  https://www.youtube.com/watch?v=GP3JKA3TqFc\n",
    "\n",
    "import pandas as pd\n",
    "import numpy as np\n",
    "\n",
    "df = pd.DataFrame({'day':[1,2,3,4,5,6], 'amount':[60000,59000,57500,56000,55500,50000]})\n",
    "df"
   ]
  },
  {
   "cell_type": "code",
   "execution_count": 28,
   "id": "373907a4-743d-4db7-82cc-98ec75057d2f",
   "metadata": {},
   "outputs": [
    {
     "data": {
      "text/html": [
       "<div>\n",
       "<style scoped>\n",
       "    .dataframe tbody tr th:only-of-type {\n",
       "        vertical-align: middle;\n",
       "    }\n",
       "\n",
       "    .dataframe tbody tr th {\n",
       "        vertical-align: top;\n",
       "    }\n",
       "\n",
       "    .dataframe thead th {\n",
       "        text-align: right;\n",
       "    }\n",
       "</style>\n",
       "<table border=\"1\" class=\"dataframe\">\n",
       "  <thead>\n",
       "    <tr style=\"text-align: right;\">\n",
       "      <th></th>\n",
       "      <th>t</th>\n",
       "      <th>a</th>\n",
       "    </tr>\n",
       "  </thead>\n",
       "  <tbody>\n",
       "    <tr>\n",
       "      <th>0</th>\n",
       "      <td>1</td>\n",
       "      <td>60000</td>\n",
       "    </tr>\n",
       "    <tr>\n",
       "      <th>1</th>\n",
       "      <td>2</td>\n",
       "      <td>59000</td>\n",
       "    </tr>\n",
       "    <tr>\n",
       "      <th>2</th>\n",
       "      <td>3</td>\n",
       "      <td>57500</td>\n",
       "    </tr>\n",
       "    <tr>\n",
       "      <th>3</th>\n",
       "      <td>4</td>\n",
       "      <td>56000</td>\n",
       "    </tr>\n",
       "    <tr>\n",
       "      <th>4</th>\n",
       "      <td>5</td>\n",
       "      <td>55500</td>\n",
       "    </tr>\n",
       "    <tr>\n",
       "      <th>5</th>\n",
       "      <td>6</td>\n",
       "      <td>50000</td>\n",
       "    </tr>\n",
       "  </tbody>\n",
       "</table>\n",
       "</div>"
      ],
      "text/plain": [
       "   t      a\n",
       "0  1  60000\n",
       "1  2  59000\n",
       "2  3  57500\n",
       "3  4  56000\n",
       "4  5  55500\n",
       "5  6  50000"
      ]
     },
     "execution_count": 28,
     "metadata": {},
     "output_type": "execute_result"
    }
   ],
   "source": [
    "df.columns = ['t', 'a']\n",
    "df"
   ]
  },
  {
   "cell_type": "code",
   "execution_count": 29,
   "id": "8dd54613-46a0-4991-b294-668f7a3d5a37",
   "metadata": {},
   "outputs": [
    {
     "data": {
      "text/html": [
       "<div>\n",
       "<style scoped>\n",
       "    .dataframe tbody tr th:only-of-type {\n",
       "        vertical-align: middle;\n",
       "    }\n",
       "\n",
       "    .dataframe tbody tr th {\n",
       "        vertical-align: top;\n",
       "    }\n",
       "\n",
       "    .dataframe thead th {\n",
       "        text-align: right;\n",
       "    }\n",
       "</style>\n",
       "<table border=\"1\" class=\"dataframe\">\n",
       "  <thead>\n",
       "    <tr style=\"text-align: right;\">\n",
       "      <th></th>\n",
       "      <th>t</th>\n",
       "      <th>a</th>\n",
       "      <th>dt</th>\n",
       "    </tr>\n",
       "  </thead>\n",
       "  <tbody>\n",
       "    <tr>\n",
       "      <th>0</th>\n",
       "      <td>1</td>\n",
       "      <td>60000</td>\n",
       "      <td>NaN</td>\n",
       "    </tr>\n",
       "    <tr>\n",
       "      <th>1</th>\n",
       "      <td>2</td>\n",
       "      <td>59000</td>\n",
       "      <td>1.0</td>\n",
       "    </tr>\n",
       "    <tr>\n",
       "      <th>2</th>\n",
       "      <td>3</td>\n",
       "      <td>57500</td>\n",
       "      <td>1.0</td>\n",
       "    </tr>\n",
       "    <tr>\n",
       "      <th>3</th>\n",
       "      <td>4</td>\n",
       "      <td>56000</td>\n",
       "      <td>1.0</td>\n",
       "    </tr>\n",
       "    <tr>\n",
       "      <th>4</th>\n",
       "      <td>5</td>\n",
       "      <td>55500</td>\n",
       "      <td>1.0</td>\n",
       "    </tr>\n",
       "    <tr>\n",
       "      <th>5</th>\n",
       "      <td>6</td>\n",
       "      <td>50000</td>\n",
       "      <td>1.0</td>\n",
       "    </tr>\n",
       "  </tbody>\n",
       "</table>\n",
       "</div>"
      ],
      "text/plain": [
       "   t      a   dt\n",
       "0  1  60000  NaN\n",
       "1  2  59000  1.0\n",
       "2  3  57500  1.0\n",
       "3  4  56000  1.0\n",
       "4  5  55500  1.0\n",
       "5  6  50000  1.0"
      ]
     },
     "execution_count": 29,
     "metadata": {},
     "output_type": "execute_result"
    }
   ],
   "source": [
    "df['dt'] = df['t'].diff()\n",
    "df"
   ]
  },
  {
   "cell_type": "code",
   "execution_count": 30,
   "id": "d1d143d1-d205-48fa-a13a-79fd05bd97bf",
   "metadata": {},
   "outputs": [
    {
     "data": {
      "text/html": [
       "<div>\n",
       "<style scoped>\n",
       "    .dataframe tbody tr th:only-of-type {\n",
       "        vertical-align: middle;\n",
       "    }\n",
       "\n",
       "    .dataframe tbody tr th {\n",
       "        vertical-align: top;\n",
       "    }\n",
       "\n",
       "    .dataframe thead th {\n",
       "        text-align: right;\n",
       "    }\n",
       "</style>\n",
       "<table border=\"1\" class=\"dataframe\">\n",
       "  <thead>\n",
       "    <tr style=\"text-align: right;\">\n",
       "      <th></th>\n",
       "      <th>t</th>\n",
       "      <th>a</th>\n",
       "      <th>dt</th>\n",
       "      <th>da</th>\n",
       "    </tr>\n",
       "  </thead>\n",
       "  <tbody>\n",
       "    <tr>\n",
       "      <th>0</th>\n",
       "      <td>1</td>\n",
       "      <td>60000</td>\n",
       "      <td>NaN</td>\n",
       "      <td>NaN</td>\n",
       "    </tr>\n",
       "    <tr>\n",
       "      <th>1</th>\n",
       "      <td>2</td>\n",
       "      <td>59000</td>\n",
       "      <td>1.0</td>\n",
       "      <td>-1000.0</td>\n",
       "    </tr>\n",
       "    <tr>\n",
       "      <th>2</th>\n",
       "      <td>3</td>\n",
       "      <td>57500</td>\n",
       "      <td>1.0</td>\n",
       "      <td>-1500.0</td>\n",
       "    </tr>\n",
       "    <tr>\n",
       "      <th>3</th>\n",
       "      <td>4</td>\n",
       "      <td>56000</td>\n",
       "      <td>1.0</td>\n",
       "      <td>-1500.0</td>\n",
       "    </tr>\n",
       "    <tr>\n",
       "      <th>4</th>\n",
       "      <td>5</td>\n",
       "      <td>55500</td>\n",
       "      <td>1.0</td>\n",
       "      <td>-500.0</td>\n",
       "    </tr>\n",
       "    <tr>\n",
       "      <th>5</th>\n",
       "      <td>6</td>\n",
       "      <td>50000</td>\n",
       "      <td>1.0</td>\n",
       "      <td>-5500.0</td>\n",
       "    </tr>\n",
       "  </tbody>\n",
       "</table>\n",
       "</div>"
      ],
      "text/plain": [
       "   t      a   dt      da\n",
       "0  1  60000  NaN     NaN\n",
       "1  2  59000  1.0 -1000.0\n",
       "2  3  57500  1.0 -1500.0\n",
       "3  4  56000  1.0 -1500.0\n",
       "4  5  55500  1.0  -500.0\n",
       "5  6  50000  1.0 -5500.0"
      ]
     },
     "execution_count": 30,
     "metadata": {},
     "output_type": "execute_result"
    }
   ],
   "source": [
    "# изменение в период\n",
    "df['da'] = df['a'].diff()\n",
    "df"
   ]
  },
  {
   "cell_type": "code",
   "execution_count": 33,
   "id": "e38ef727-e137-4ad4-891b-2a3fee570a80",
   "metadata": {},
   "outputs": [
    {
     "data": {
      "text/html": [
       "<div>\n",
       "<style scoped>\n",
       "    .dataframe tbody tr th:only-of-type {\n",
       "        vertical-align: middle;\n",
       "    }\n",
       "\n",
       "    .dataframe tbody tr th {\n",
       "        vertical-align: top;\n",
       "    }\n",
       "\n",
       "    .dataframe thead th {\n",
       "        text-align: right;\n",
       "    }\n",
       "</style>\n",
       "<table border=\"1\" class=\"dataframe\">\n",
       "  <thead>\n",
       "    <tr style=\"text-align: right;\">\n",
       "      <th></th>\n",
       "      <th>t</th>\n",
       "      <th>a</th>\n",
       "      <th>dt</th>\n",
       "      <th>da</th>\n",
       "      <th>da/dt</th>\n",
       "      <th>a_int</th>\n",
       "    </tr>\n",
       "  </thead>\n",
       "  <tbody>\n",
       "    <tr>\n",
       "      <th>0</th>\n",
       "      <td>1</td>\n",
       "      <td>60000</td>\n",
       "      <td>NaN</td>\n",
       "      <td>NaN</td>\n",
       "      <td>NaN</td>\n",
       "      <td>NaN</td>\n",
       "    </tr>\n",
       "    <tr>\n",
       "      <th>1</th>\n",
       "      <td>2</td>\n",
       "      <td>59000</td>\n",
       "      <td>1.0</td>\n",
       "      <td>-1000.0</td>\n",
       "      <td>-1000.0</td>\n",
       "      <td>-1000.0</td>\n",
       "    </tr>\n",
       "    <tr>\n",
       "      <th>2</th>\n",
       "      <td>3</td>\n",
       "      <td>57500</td>\n",
       "      <td>1.0</td>\n",
       "      <td>-1500.0</td>\n",
       "      <td>-1500.0</td>\n",
       "      <td>-2500.0</td>\n",
       "    </tr>\n",
       "    <tr>\n",
       "      <th>3</th>\n",
       "      <td>4</td>\n",
       "      <td>56000</td>\n",
       "      <td>1.0</td>\n",
       "      <td>-1500.0</td>\n",
       "      <td>-1500.0</td>\n",
       "      <td>-4000.0</td>\n",
       "    </tr>\n",
       "    <tr>\n",
       "      <th>4</th>\n",
       "      <td>5</td>\n",
       "      <td>55500</td>\n",
       "      <td>1.0</td>\n",
       "      <td>-500.0</td>\n",
       "      <td>-500.0</td>\n",
       "      <td>-4500.0</td>\n",
       "    </tr>\n",
       "    <tr>\n",
       "      <th>5</th>\n",
       "      <td>6</td>\n",
       "      <td>50000</td>\n",
       "      <td>1.0</td>\n",
       "      <td>-5500.0</td>\n",
       "      <td>-5500.0</td>\n",
       "      <td>-10000.0</td>\n",
       "    </tr>\n",
       "  </tbody>\n",
       "</table>\n",
       "</div>"
      ],
      "text/plain": [
       "   t      a   dt      da   da/dt    a_int\n",
       "0  1  60000  NaN     NaN     NaN      NaN\n",
       "1  2  59000  1.0 -1000.0 -1000.0  -1000.0\n",
       "2  3  57500  1.0 -1500.0 -1500.0  -2500.0\n",
       "3  4  56000  1.0 -1500.0 -1500.0  -4000.0\n",
       "4  5  55500  1.0  -500.0  -500.0  -4500.0\n",
       "5  6  50000  1.0 -5500.0 -5500.0 -10000.0"
      ]
     },
     "execution_count": 33,
     "metadata": {},
     "output_type": "execute_result"
    }
   ],
   "source": [
    "# производная\n",
    "# скорость с которой тает счет в единицу времени\n",
    "\n",
    "df['da/dt'] = df['da'] / df['dt']\n",
    "df"
   ]
  },
  {
   "cell_type": "code",
   "execution_count": 32,
   "id": "1e2979ed-7ba5-477a-8ce0-04a46c778da3",
   "metadata": {},
   "outputs": [
    {
     "data": {
      "text/html": [
       "<div>\n",
       "<style scoped>\n",
       "    .dataframe tbody tr th:only-of-type {\n",
       "        vertical-align: middle;\n",
       "    }\n",
       "\n",
       "    .dataframe tbody tr th {\n",
       "        vertical-align: top;\n",
       "    }\n",
       "\n",
       "    .dataframe thead th {\n",
       "        text-align: right;\n",
       "    }\n",
       "</style>\n",
       "<table border=\"1\" class=\"dataframe\">\n",
       "  <thead>\n",
       "    <tr style=\"text-align: right;\">\n",
       "      <th></th>\n",
       "      <th>t</th>\n",
       "      <th>a</th>\n",
       "      <th>dt</th>\n",
       "      <th>da</th>\n",
       "      <th>da/dt</th>\n",
       "      <th>a_int</th>\n",
       "    </tr>\n",
       "  </thead>\n",
       "  <tbody>\n",
       "    <tr>\n",
       "      <th>0</th>\n",
       "      <td>1</td>\n",
       "      <td>60000</td>\n",
       "      <td>NaN</td>\n",
       "      <td>NaN</td>\n",
       "      <td>NaN</td>\n",
       "      <td>NaN</td>\n",
       "    </tr>\n",
       "    <tr>\n",
       "      <th>1</th>\n",
       "      <td>2</td>\n",
       "      <td>59000</td>\n",
       "      <td>1.0</td>\n",
       "      <td>-1000.0</td>\n",
       "      <td>-1000.0</td>\n",
       "      <td>-1000.0</td>\n",
       "    </tr>\n",
       "    <tr>\n",
       "      <th>2</th>\n",
       "      <td>3</td>\n",
       "      <td>57500</td>\n",
       "      <td>1.0</td>\n",
       "      <td>-1500.0</td>\n",
       "      <td>-1500.0</td>\n",
       "      <td>-2500.0</td>\n",
       "    </tr>\n",
       "    <tr>\n",
       "      <th>3</th>\n",
       "      <td>4</td>\n",
       "      <td>56000</td>\n",
       "      <td>1.0</td>\n",
       "      <td>-1500.0</td>\n",
       "      <td>-1500.0</td>\n",
       "      <td>-4000.0</td>\n",
       "    </tr>\n",
       "    <tr>\n",
       "      <th>4</th>\n",
       "      <td>5</td>\n",
       "      <td>55500</td>\n",
       "      <td>1.0</td>\n",
       "      <td>-500.0</td>\n",
       "      <td>-500.0</td>\n",
       "      <td>-4500.0</td>\n",
       "    </tr>\n",
       "    <tr>\n",
       "      <th>5</th>\n",
       "      <td>6</td>\n",
       "      <td>50000</td>\n",
       "      <td>1.0</td>\n",
       "      <td>-5500.0</td>\n",
       "      <td>-5500.0</td>\n",
       "      <td>-10000.0</td>\n",
       "    </tr>\n",
       "  </tbody>\n",
       "</table>\n",
       "</div>"
      ],
      "text/plain": [
       "   t      a   dt      da   da/dt    a_int\n",
       "0  1  60000  NaN     NaN     NaN      NaN\n",
       "1  2  59000  1.0 -1000.0 -1000.0  -1000.0\n",
       "2  3  57500  1.0 -1500.0 -1500.0  -2500.0\n",
       "3  4  56000  1.0 -1500.0 -1500.0  -4000.0\n",
       "4  5  55500  1.0  -500.0  -500.0  -4500.0\n",
       "5  6  50000  1.0 -5500.0 -5500.0 -10000.0"
      ]
     },
     "execution_count": 32,
     "metadata": {},
     "output_type": "execute_result"
    }
   ],
   "source": [
    "# интеграл\n",
    "df['a_int'] = (df['da/dt'] * df['dt']).cumsum()\n",
    "df"
   ]
  },
  {
   "cell_type": "code",
   "execution_count": 5,
   "id": "88f71d1e-e04c-4bbd-9d6c-fb8dd694d848",
   "metadata": {},
   "outputs": [],
   "source": [
    "from sympy import Symbol, diff, integrate\n",
    "\n",
    "x = Symbol('x')"
   ]
  },
  {
   "cell_type": "code",
   "execution_count": 6,
   "id": "8eeaec85-38d3-44c2-acc0-42f824eeba0d",
   "metadata": {},
   "outputs": [
    {
     "data": {
      "text/latex": [
       "$\\displaystyle 2 x$"
      ],
      "text/plain": [
       "2*x"
      ]
     },
     "execution_count": 6,
     "metadata": {},
     "output_type": "execute_result"
    }
   ],
   "source": [
    "diff(x**2)"
   ]
  },
  {
   "cell_type": "code",
   "execution_count": 8,
   "id": "90c94aa0-245e-41a8-908d-abd61cb3a6b7",
   "metadata": {},
   "outputs": [
    {
     "data": {
      "text/latex": [
       "$\\displaystyle \\frac{x^{2}}{2}$"
      ],
      "text/plain": [
       "x**2/2"
      ]
     },
     "execution_count": 8,
     "metadata": {},
     "output_type": "execute_result"
    }
   ],
   "source": [
    "integrate(x,x)"
   ]
  },
  {
   "cell_type": "code",
   "execution_count": 17,
   "id": "731acf08-435d-4903-9793-c4d8bbe1415d",
   "metadata": {},
   "outputs": [
    {
     "data": {
      "text/html": [
       "<div>\n",
       "<style scoped>\n",
       "    .dataframe tbody tr th:only-of-type {\n",
       "        vertical-align: middle;\n",
       "    }\n",
       "\n",
       "    .dataframe tbody tr th {\n",
       "        vertical-align: top;\n",
       "    }\n",
       "\n",
       "    .dataframe thead th {\n",
       "        text-align: right;\n",
       "    }\n",
       "</style>\n",
       "<table border=\"1\" class=\"dataframe\">\n",
       "  <thead>\n",
       "    <tr style=\"text-align: right;\">\n",
       "      <th></th>\n",
       "      <th>x</th>\n",
       "      <th>y</th>\n",
       "    </tr>\n",
       "  </thead>\n",
       "  <tbody>\n",
       "    <tr>\n",
       "      <th>0</th>\n",
       "      <td>0</td>\n",
       "      <td>0</td>\n",
       "    </tr>\n",
       "    <tr>\n",
       "      <th>1</th>\n",
       "      <td>1</td>\n",
       "      <td>1</td>\n",
       "    </tr>\n",
       "    <tr>\n",
       "      <th>2</th>\n",
       "      <td>2</td>\n",
       "      <td>4</td>\n",
       "    </tr>\n",
       "    <tr>\n",
       "      <th>3</th>\n",
       "      <td>3</td>\n",
       "      <td>9</td>\n",
       "    </tr>\n",
       "    <tr>\n",
       "      <th>4</th>\n",
       "      <td>4</td>\n",
       "      <td>16</td>\n",
       "    </tr>\n",
       "    <tr>\n",
       "      <th>5</th>\n",
       "      <td>5</td>\n",
       "      <td>25</td>\n",
       "    </tr>\n",
       "    <tr>\n",
       "      <th>6</th>\n",
       "      <td>6</td>\n",
       "      <td>36</td>\n",
       "    </tr>\n",
       "    <tr>\n",
       "      <th>7</th>\n",
       "      <td>7</td>\n",
       "      <td>49</td>\n",
       "    </tr>\n",
       "    <tr>\n",
       "      <th>8</th>\n",
       "      <td>8</td>\n",
       "      <td>64</td>\n",
       "    </tr>\n",
       "    <tr>\n",
       "      <th>9</th>\n",
       "      <td>9</td>\n",
       "      <td>81</td>\n",
       "    </tr>\n",
       "    <tr>\n",
       "      <th>10</th>\n",
       "      <td>10</td>\n",
       "      <td>100</td>\n",
       "    </tr>\n",
       "  </tbody>\n",
       "</table>\n",
       "</div>"
      ],
      "text/plain": [
       "     x    y\n",
       "0    0    0\n",
       "1    1    1\n",
       "2    2    4\n",
       "3    3    9\n",
       "4    4   16\n",
       "5    5   25\n",
       "6    6   36\n",
       "7    7   49\n",
       "8    8   64\n",
       "9    9   81\n",
       "10  10  100"
      ]
     },
     "execution_count": 17,
     "metadata": {},
     "output_type": "execute_result"
    }
   ],
   "source": [
    "import pandas as pd\n",
    "import numpy as np\n",
    "\n",
    "df = pd.DataFrame({'x':range(11)})\n",
    "\n",
    "df['y'] = df['x'] ** 2\n",
    "\n",
    "df"
   ]
  },
  {
   "cell_type": "code",
   "execution_count": 4,
   "id": "4303ac5c-ed91-403b-94d8-01a248e807be",
   "metadata": {},
   "outputs": [],
   "source": [
    "df['dx'] = df['x'].diff()\n",
    "df['dy'] = df['y'].diff()\n",
    "\n",
    "df['dy/dx'] = df['dy'] / df['dx']"
   ]
  },
  {
   "cell_type": "code",
   "execution_count": 5,
   "id": "a61f29c7-90ee-4cda-80d5-f1ed918edbbf",
   "metadata": {},
   "outputs": [],
   "source": [
    "df['2x'] = df['x'] * 2"
   ]
  },
  {
   "cell_type": "code",
   "execution_count": 6,
   "id": "1d864391-7484-40ee-8b4f-02435778f331",
   "metadata": {},
   "outputs": [
    {
     "data": {
      "text/html": [
       "<div>\n",
       "<style scoped>\n",
       "    .dataframe tbody tr th:only-of-type {\n",
       "        vertical-align: middle;\n",
       "    }\n",
       "\n",
       "    .dataframe tbody tr th {\n",
       "        vertical-align: top;\n",
       "    }\n",
       "\n",
       "    .dataframe thead th {\n",
       "        text-align: right;\n",
       "    }\n",
       "</style>\n",
       "<table border=\"1\" class=\"dataframe\">\n",
       "  <thead>\n",
       "    <tr style=\"text-align: right;\">\n",
       "      <th></th>\n",
       "      <th>x</th>\n",
       "      <th>y</th>\n",
       "      <th>dx</th>\n",
       "      <th>dy</th>\n",
       "      <th>dy/dx</th>\n",
       "      <th>2x</th>\n",
       "    </tr>\n",
       "  </thead>\n",
       "  <tbody>\n",
       "    <tr>\n",
       "      <th>0</th>\n",
       "      <td>0</td>\n",
       "      <td>0</td>\n",
       "      <td>NaN</td>\n",
       "      <td>NaN</td>\n",
       "      <td>NaN</td>\n",
       "      <td>0</td>\n",
       "    </tr>\n",
       "    <tr>\n",
       "      <th>1</th>\n",
       "      <td>1</td>\n",
       "      <td>1</td>\n",
       "      <td>1.0</td>\n",
       "      <td>1.0</td>\n",
       "      <td>1.0</td>\n",
       "      <td>2</td>\n",
       "    </tr>\n",
       "    <tr>\n",
       "      <th>2</th>\n",
       "      <td>2</td>\n",
       "      <td>4</td>\n",
       "      <td>1.0</td>\n",
       "      <td>3.0</td>\n",
       "      <td>3.0</td>\n",
       "      <td>4</td>\n",
       "    </tr>\n",
       "    <tr>\n",
       "      <th>3</th>\n",
       "      <td>3</td>\n",
       "      <td>9</td>\n",
       "      <td>1.0</td>\n",
       "      <td>5.0</td>\n",
       "      <td>5.0</td>\n",
       "      <td>6</td>\n",
       "    </tr>\n",
       "    <tr>\n",
       "      <th>4</th>\n",
       "      <td>4</td>\n",
       "      <td>16</td>\n",
       "      <td>1.0</td>\n",
       "      <td>7.0</td>\n",
       "      <td>7.0</td>\n",
       "      <td>8</td>\n",
       "    </tr>\n",
       "    <tr>\n",
       "      <th>5</th>\n",
       "      <td>5</td>\n",
       "      <td>25</td>\n",
       "      <td>1.0</td>\n",
       "      <td>9.0</td>\n",
       "      <td>9.0</td>\n",
       "      <td>10</td>\n",
       "    </tr>\n",
       "    <tr>\n",
       "      <th>6</th>\n",
       "      <td>6</td>\n",
       "      <td>36</td>\n",
       "      <td>1.0</td>\n",
       "      <td>11.0</td>\n",
       "      <td>11.0</td>\n",
       "      <td>12</td>\n",
       "    </tr>\n",
       "    <tr>\n",
       "      <th>7</th>\n",
       "      <td>7</td>\n",
       "      <td>49</td>\n",
       "      <td>1.0</td>\n",
       "      <td>13.0</td>\n",
       "      <td>13.0</td>\n",
       "      <td>14</td>\n",
       "    </tr>\n",
       "    <tr>\n",
       "      <th>8</th>\n",
       "      <td>8</td>\n",
       "      <td>64</td>\n",
       "      <td>1.0</td>\n",
       "      <td>15.0</td>\n",
       "      <td>15.0</td>\n",
       "      <td>16</td>\n",
       "    </tr>\n",
       "    <tr>\n",
       "      <th>9</th>\n",
       "      <td>9</td>\n",
       "      <td>81</td>\n",
       "      <td>1.0</td>\n",
       "      <td>17.0</td>\n",
       "      <td>17.0</td>\n",
       "      <td>18</td>\n",
       "    </tr>\n",
       "    <tr>\n",
       "      <th>10</th>\n",
       "      <td>10</td>\n",
       "      <td>100</td>\n",
       "      <td>1.0</td>\n",
       "      <td>19.0</td>\n",
       "      <td>19.0</td>\n",
       "      <td>20</td>\n",
       "    </tr>\n",
       "  </tbody>\n",
       "</table>\n",
       "</div>"
      ],
      "text/plain": [
       "     x    y   dx    dy  dy/dx  2x\n",
       "0    0    0  NaN   NaN    NaN   0\n",
       "1    1    1  1.0   1.0    1.0   2\n",
       "2    2    4  1.0   3.0    3.0   4\n",
       "3    3    9  1.0   5.0    5.0   6\n",
       "4    4   16  1.0   7.0    7.0   8\n",
       "5    5   25  1.0   9.0    9.0  10\n",
       "6    6   36  1.0  11.0   11.0  12\n",
       "7    7   49  1.0  13.0   13.0  14\n",
       "8    8   64  1.0  15.0   15.0  16\n",
       "9    9   81  1.0  17.0   17.0  18\n",
       "10  10  100  1.0  19.0   19.0  20"
      ]
     },
     "execution_count": 6,
     "metadata": {},
     "output_type": "execute_result"
    }
   ],
   "source": [
    "df"
   ]
  },
  {
   "cell_type": "code",
   "execution_count": 7,
   "id": "e2acf67f-aa34-43f2-95f2-418f993f73ab",
   "metadata": {},
   "outputs": [
    {
     "data": {
      "text/plain": [
       "<Axes: xlabel='x'>"
      ]
     },
     "execution_count": 7,
     "metadata": {},
     "output_type": "execute_result"
    },
    {
     "data": {
      "image/png": "[encoded data removed]",
      "text/plain": [
       "<Figure size 640x480 with 1 Axes>"
      ]
     },
     "metadata": {},
     "output_type": "display_data"
    }
   ],
   "source": [
    "df.plot(x='x', y=['dy/dx','2x'])"
   ]
  },
  {
   "cell_type": "code",
   "execution_count": 9,
   "id": "45e83747-9193-48a4-92dc-742ed2acb3b0",
   "metadata": {},
   "outputs": [],
   "source": [
    "df['err'] = abs(df['2x'] - df['dy/dx']) / df['2x']"
   ]
  },
  {
   "cell_type": "code",
   "execution_count": 10,
   "id": "71f82595-58d6-4d80-acd4-8fd53f4339fd",
   "metadata": {},
   "outputs": [
    {
     "data": {
      "text/html": [
       "<div>\n",
       "<style scoped>\n",
       "    .dataframe tbody tr th:only-of-type {\n",
       "        vertical-align: middle;\n",
       "    }\n",
       "\n",
       "    .dataframe tbody tr th {\n",
       "        vertical-align: top;\n",
       "    }\n",
       "\n",
       "    .dataframe thead th {\n",
       "        text-align: right;\n",
       "    }\n",
       "</style>\n",
       "<table border=\"1\" class=\"dataframe\">\n",
       "  <thead>\n",
       "    <tr style=\"text-align: right;\">\n",
       "      <th></th>\n",
       "      <th>x</th>\n",
       "      <th>y</th>\n",
       "      <th>dx</th>\n",
       "      <th>dy</th>\n",
       "      <th>dy/dx</th>\n",
       "      <th>2x</th>\n",
       "      <th>err</th>\n",
       "    </tr>\n",
       "  </thead>\n",
       "  <tbody>\n",
       "    <tr>\n",
       "      <th>0</th>\n",
       "      <td>0</td>\n",
       "      <td>0</td>\n",
       "      <td>NaN</td>\n",
       "      <td>NaN</td>\n",
       "      <td>NaN</td>\n",
       "      <td>0</td>\n",
       "      <td>NaN</td>\n",
       "    </tr>\n",
       "    <tr>\n",
       "      <th>1</th>\n",
       "      <td>1</td>\n",
       "      <td>1</td>\n",
       "      <td>1.0</td>\n",
       "      <td>1.0</td>\n",
       "      <td>1.0</td>\n",
       "      <td>2</td>\n",
       "      <td>0.500000</td>\n",
       "    </tr>\n",
       "    <tr>\n",
       "      <th>2</th>\n",
       "      <td>2</td>\n",
       "      <td>4</td>\n",
       "      <td>1.0</td>\n",
       "      <td>3.0</td>\n",
       "      <td>3.0</td>\n",
       "      <td>4</td>\n",
       "      <td>0.250000</td>\n",
       "    </tr>\n",
       "    <tr>\n",
       "      <th>3</th>\n",
       "      <td>3</td>\n",
       "      <td>9</td>\n",
       "      <td>1.0</td>\n",
       "      <td>5.0</td>\n",
       "      <td>5.0</td>\n",
       "      <td>6</td>\n",
       "      <td>0.166667</td>\n",
       "    </tr>\n",
       "    <tr>\n",
       "      <th>4</th>\n",
       "      <td>4</td>\n",
       "      <td>16</td>\n",
       "      <td>1.0</td>\n",
       "      <td>7.0</td>\n",
       "      <td>7.0</td>\n",
       "      <td>8</td>\n",
       "      <td>0.125000</td>\n",
       "    </tr>\n",
       "    <tr>\n",
       "      <th>5</th>\n",
       "      <td>5</td>\n",
       "      <td>25</td>\n",
       "      <td>1.0</td>\n",
       "      <td>9.0</td>\n",
       "      <td>9.0</td>\n",
       "      <td>10</td>\n",
       "      <td>0.100000</td>\n",
       "    </tr>\n",
       "    <tr>\n",
       "      <th>6</th>\n",
       "      <td>6</td>\n",
       "      <td>36</td>\n",
       "      <td>1.0</td>\n",
       "      <td>11.0</td>\n",
       "      <td>11.0</td>\n",
       "      <td>12</td>\n",
       "      <td>0.083333</td>\n",
       "    </tr>\n",
       "    <tr>\n",
       "      <th>7</th>\n",
       "      <td>7</td>\n",
       "      <td>49</td>\n",
       "      <td>1.0</td>\n",
       "      <td>13.0</td>\n",
       "      <td>13.0</td>\n",
       "      <td>14</td>\n",
       "      <td>0.071429</td>\n",
       "    </tr>\n",
       "    <tr>\n",
       "      <th>8</th>\n",
       "      <td>8</td>\n",
       "      <td>64</td>\n",
       "      <td>1.0</td>\n",
       "      <td>15.0</td>\n",
       "      <td>15.0</td>\n",
       "      <td>16</td>\n",
       "      <td>0.062500</td>\n",
       "    </tr>\n",
       "    <tr>\n",
       "      <th>9</th>\n",
       "      <td>9</td>\n",
       "      <td>81</td>\n",
       "      <td>1.0</td>\n",
       "      <td>17.0</td>\n",
       "      <td>17.0</td>\n",
       "      <td>18</td>\n",
       "      <td>0.055556</td>\n",
       "    </tr>\n",
       "    <tr>\n",
       "      <th>10</th>\n",
       "      <td>10</td>\n",
       "      <td>100</td>\n",
       "      <td>1.0</td>\n",
       "      <td>19.0</td>\n",
       "      <td>19.0</td>\n",
       "      <td>20</td>\n",
       "      <td>0.050000</td>\n",
       "    </tr>\n",
       "  </tbody>\n",
       "</table>\n",
       "</div>"
      ],
      "text/plain": [
       "     x    y   dx    dy  dy/dx  2x       err\n",
       "0    0    0  NaN   NaN    NaN   0       NaN\n",
       "1    1    1  1.0   1.0    1.0   2  0.500000\n",
       "2    2    4  1.0   3.0    3.0   4  0.250000\n",
       "3    3    9  1.0   5.0    5.0   6  0.166667\n",
       "4    4   16  1.0   7.0    7.0   8  0.125000\n",
       "5    5   25  1.0   9.0    9.0  10  0.100000\n",
       "6    6   36  1.0  11.0   11.0  12  0.083333\n",
       "7    7   49  1.0  13.0   13.0  14  0.071429\n",
       "8    8   64  1.0  15.0   15.0  16  0.062500\n",
       "9    9   81  1.0  17.0   17.0  18  0.055556\n",
       "10  10  100  1.0  19.0   19.0  20  0.050000"
      ]
     },
     "execution_count": 10,
     "metadata": {},
     "output_type": "execute_result"
    }
   ],
   "source": [
    "df"
   ]
  },
  {
   "cell_type": "code",
   "execution_count": 14,
   "id": "73455d3f-dfe9-4992-bb5a-f451fd4345dd",
   "metadata": {},
   "outputs": [
    {
     "data": {
      "text/plain": [
       "np.float64(0.1464484126984127)"
      ]
     },
     "execution_count": 14,
     "metadata": {},
     "output_type": "execute_result"
    }
   ],
   "source": [
    "df['err'].mean()"
   ]
  },
  {
   "cell_type": "code",
   "execution_count": 18,
   "id": "6f1aa3f5-0078-4f41-8e6b-061402b1f43a",
   "metadata": {},
   "outputs": [
    {
     "data": {
      "text/html": [
       "<div>\n",
       "<style scoped>\n",
       "    .dataframe tbody tr th:only-of-type {\n",
       "        vertical-align: middle;\n",
       "    }\n",
       "\n",
       "    .dataframe tbody tr th {\n",
       "        vertical-align: top;\n",
       "    }\n",
       "\n",
       "    .dataframe thead th {\n",
       "        text-align: right;\n",
       "    }\n",
       "</style>\n",
       "<table border=\"1\" class=\"dataframe\">\n",
       "  <thead>\n",
       "    <tr style=\"text-align: right;\">\n",
       "      <th></th>\n",
       "      <th>x</th>\n",
       "    </tr>\n",
       "  </thead>\n",
       "  <tbody>\n",
       "    <tr>\n",
       "      <th>0</th>\n",
       "      <td>0.00000</td>\n",
       "    </tr>\n",
       "    <tr>\n",
       "      <th>1</th>\n",
       "      <td>0.10101</td>\n",
       "    </tr>\n",
       "    <tr>\n",
       "      <th>2</th>\n",
       "      <td>0.20202</td>\n",
       "    </tr>\n",
       "    <tr>\n",
       "      <th>3</th>\n",
       "      <td>0.30303</td>\n",
       "    </tr>\n",
       "    <tr>\n",
       "      <th>4</th>\n",
       "      <td>0.40404</td>\n",
       "    </tr>\n",
       "    <tr>\n",
       "      <th>...</th>\n",
       "      <td>...</td>\n",
       "    </tr>\n",
       "    <tr>\n",
       "      <th>95</th>\n",
       "      <td>9.59596</td>\n",
       "    </tr>\n",
       "    <tr>\n",
       "      <th>96</th>\n",
       "      <td>9.69697</td>\n",
       "    </tr>\n",
       "    <tr>\n",
       "      <th>97</th>\n",
       "      <td>9.79798</td>\n",
       "    </tr>\n",
       "    <tr>\n",
       "      <th>98</th>\n",
       "      <td>9.89899</td>\n",
       "    </tr>\n",
       "    <tr>\n",
       "      <th>99</th>\n",
       "      <td>10.00000</td>\n",
       "    </tr>\n",
       "  </tbody>\n",
       "</table>\n",
       "<p>100 rows × 1 columns</p>\n",
       "</div>"
      ],
      "text/plain": [
       "           x\n",
       "0    0.00000\n",
       "1    0.10101\n",
       "2    0.20202\n",
       "3    0.30303\n",
       "4    0.40404\n",
       "..       ...\n",
       "95   9.59596\n",
       "96   9.69697\n",
       "97   9.79798\n",
       "98   9.89899\n",
       "99  10.00000\n",
       "\n",
       "[100 rows x 1 columns]"
      ]
     },
     "execution_count": 18,
     "metadata": {},
     "output_type": "execute_result"
    }
   ],
   "source": [
    "df = pd.DataFrame({'x':np.linspace(0,10,100)})\n",
    "df"
   ]
  },
  {
   "cell_type": "code",
   "execution_count": null,
   "id": "dce67947-27cc-4fe8-ac15-a3b34e9010ff",
   "metadata": {},
   "outputs": [],
   "source": []
  },
  {
   "cell_type": "code",
   "execution_count": null,
   "id": "522b1dc5-475f-4b9e-b6f1-78abcd5e32e8",
   "metadata": {},
   "outputs": [],
   "source": []
  },
  {
   "cell_type": "code",
   "execution_count": null,
   "id": "74c7a554-b29a-42a9-96d9-c57f95ebf92d",
   "metadata": {},
   "outputs": [],
   "source": []
  },
  {
   "cell_type": "code",
   "execution_count": null,
   "id": "de101180-06eb-42ad-b71f-39c0182ad1b4",
   "metadata": {},
   "outputs": [],
   "source": []
  },
  {
   "cell_type": "code",
   "execution_count": null,
   "id": "033e2478-d4ce-4fb1-a966-260e305a2a3b",
   "metadata": {},
   "outputs": [],
   "source": []
  },
  {
   "cell_type": "code",
   "execution_count": null,
   "id": "9fda233a-f5ce-4b99-b959-66b0e80fbec8",
   "metadata": {},
   "outputs": [],
   "source": []
  },
  {
   "cell_type": "code",
   "execution_count": null,
   "id": "1cca204d-d41c-4953-8454-f21d5c8b16be",
   "metadata": {},
   "outputs": [],
   "source": []
  },
  {
   "cell_type": "code",
   "execution_count": null,
   "id": "f9bd3386-464a-46f2-aeb5-38b4890a42d3",
   "metadata": {},
   "outputs": [],
   "source": []
  },
  {
   "cell_type": "code",
   "execution_count": null,
   "id": "8af49090-b2ab-421a-8f06-779e733fcf04",
   "metadata": {},
   "outputs": [],
   "source": []
  },
  {
   "cell_type": "code",
   "execution_count": null,
   "id": "341a123a-e0de-484f-b885-1fffad474f38",
   "metadata": {},
   "outputs": [],
   "source": []
  },
  {
   "cell_type": "code",
   "execution_count": null,
   "id": "ac5bb7b9-59c6-44ac-8b77-4fc894f61602",
   "metadata": {},
   "outputs": [],
   "source": []
  },
  {
   "cell_type": "code",
   "execution_count": null,
   "id": "dba229cd-fda5-4013-9fd6-b57a6d55a708",
   "metadata": {},
   "outputs": [],
   "source": []
  }
 ],
 "metadata": {
  "kernelspec": {
   "display_name": "Python 3 (ipykernel)",
   "language": "python",
   "name": "python3"
  },
  "language_info": {
   "codemirror_mode": {
    "name": "ipython",
    "version": 3
   },
   "file_extension": ".py",
   "mimetype": "text/x-python",
   "name": "python",
   "nbconvert_exporter": "python",
   "pygments_lexer": "ipython3",
   "version": "3.13.5"
  }
 },
 "nbformat": 4,
 "nbformat_minor": 5
}
