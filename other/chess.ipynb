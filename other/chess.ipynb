{
 "cells": [
  {
   "cell_type": "markdown",
   "id": "92f2d84d-39e1-465b-8b44-efe42405b6f6",
   "metadata": {},
   "source": [
    "Шпаргалка для всех задач по шахматам:\n",
    "\n",
    "Ход ладьи:\n",
    "x1 == x2 or y1 == y2\n",
    "\n",
    "Ход коня:\n",
    "abs((x1 - x2) * (y1 - y2)) == 2\n",
    "\n",
    "Ход слона:\n",
    "abs(x1 - x2) == abs(y1 - y2)\n",
    "\n",
    "Ход ферзя (слон or ладья):\n",
    "abs(x1 - x2) == abs(y1 - y2) or x1 == x2 or y1 == y2\n",
    "\n",
    "Ход короля:\n",
    "abs(x1 - x2) <= 1 and abs(y1 - y2) <= 1"
   ]
  },
  {
   "cell_type": "code",
   "execution_count": null,
   "id": "148f425b-a416-465d-ac14-90cdbf1b6cd5",
   "metadata": {},
   "outputs": [],
   "source": [
    "#  Ход ладьи\n",
    "#  x1 == x2 or y1 == y2\n",
    "\n",
    "n = 8\n",
    "m = [list(input()) for _ in range(n)]\n",
    "\n",
    "row, col = [(i, j) for i in range(n) for j in range(n) if m[i][j] == 'T'][0]\n",
    "\n",
    "for i in range(n):\n",
    "    for j in range(n):\n",
    "        if (i == row and j != col) or (j == col and i != row):\n",
    "            m[i][j] = '+'\n",
    "        \n",
    "for row in range(n):\n",
    "    print(*m[row], sep='')"
   ]
  },
  {
   "cell_type": "code",
   "execution_count": null,
   "id": "fac42986",
   "metadata": {},
   "outputs": [],
   "source": [
    "#  Ход слона\n",
    "#  abs(x1 - x2) == abs(y1 - y2)\n",
    "\n",
    "n = 8\n",
    "matrix = [list(input()) for _ in range(n)]\n",
    "\n",
    "row, col = [(i, j) for i in range(n) for j in range(n) if matrix[i][j] == 'S'][0]\n",
    "\n",
    "for i in range(n):\n",
    "    for j in range(n):\n",
    "        if (i != row and j != col) and ((i - j == row - col) or (i + j == row + col)):\n",
    "            matrix[i][j] = '+' \n",
    "        \n",
    "for row in range(n):\n",
    "    print(*matrix[row], sep='')"
   ]
  },
  {
   "cell_type": "code",
   "execution_count": null,
   "id": "442c8d99",
   "metadata": {},
   "outputs": [],
   "source": [
    "#  Ход ферзя\n",
    "#  abs(x1 - x2) == abs(y1 - y2) or x1 == x2 or y1 == y2\n",
    "\n",
    "n = 8\n",
    "matrix = [list(input()) for _ in range(n)]\n",
    "\n",
    "row, col = [(i, j) for i in range(n) for j in range(n) if matrix[i][j] == 'F'][0]\n",
    "\n",
    "for i in range(n):\n",
    "    for j in range(n):\n",
    "        if (i == row and j != col) or (j == col and i != row):\n",
    "            matrix[i][j] = '+'\n",
    "        if (i != row and j != col) and ((i - j == row - col) or (i + j == row + col)):\n",
    "            matrix[i][j] = '+' \n",
    "        \n",
    "for row in range(n):\n",
    "    print(*matrix[row], sep='')"
   ]
  },
  {
   "cell_type": "code",
   "execution_count": 2,
   "id": "0f0562d6",
   "metadata": {},
   "outputs": [],
   "source": [
    "#  Ход коня\n",
    "#  abs((x1 - x2) * (y1 - y2)) == 2\n",
    "\n",
    "n = 8\n",
    "matrix = [list(input()) for _ in range(n)]\n",
    "\n",
    "row, col = [(i, j) for i in range(n) for j in range(n) if matrix[i][j] == 'H'][0]\n",
    "\n",
    "for i in range(n):\n",
    "    for j in range(n):\n",
    "        if abs((i - row) * (j - col)) == 2:\n",
    "            matrix[i][j] = '+'\n",
    "        \n",
    "for row in range(n):\n",
    "    print(*matrix[row], sep='')"
   ]
  },
  {
   "cell_type": "markdown",
   "id": "5fac56c2-8ed7-483d-9491-cc144472254b",
   "metadata": {},
   "source": [
    "На шахматной доске 8×88×8 стоит конь. Напишите программу, которая отмечает положение коня на доске и все клетки, которые бьет конь. Клетку, где стоит конь, отметьте английской буквой N, а клетки, которые бьет конь, отметьте символами *, остальные клетки заполните точками.\n",
    "\n",
    "Формат входных данных\n",
    "На вход программе подаются координаты коня на шахматной доске в шахматной нотации (то есть в виде e4, где сначала записывается номер столбца (буква от a до h, слева направо), затем номеру строки (цифра от 11 до 88, снизу вверх))."
   ]
  },
  {
   "cell_type": "code",
   "execution_count": null,
   "id": "5be871e9",
   "metadata": {},
   "outputs": [],
   "source": [
    "n = 8\n",
    "chess = [['.'] * n for _ in range(n)]\n",
    "\n",
    "x1, x2 = list(input())\n",
    "x = 'abcdefgh'.find(x1)\n",
    "y = int(x2)-1 \n",
    "\n",
    "row = n - 1 - y\n",
    "col = x\n",
    "\n",
    "chess[row][col] = 'N'  # конь\n",
    "\n",
    "for i in range(n):\n",
    "    for j in range(n):\n",
    "        if abs((i - row) * (j - col)) == 2:\n",
    "            chess[i][j] = '*'\n",
    "\n",
    "for row in chess:\n",
    "    print(*row)"
   ]
  },
  {
   "cell_type": "code",
   "execution_count": null,
   "id": "a10388d4-45af-4026-8c9e-2a394c2b26f1",
   "metadata": {},
   "outputs": [],
   "source": []
  }
 ],
 "metadata": {
  "kernelspec": {
   "display_name": "Python 3 (ipykernel)",
   "language": "python",
   "name": "python3"
  },
  "language_info": {
   "codemirror_mode": {
    "name": "ipython",
    "version": 3
   },
   "file_extension": ".py",
   "mimetype": "text/x-python",
   "name": "python",
   "nbconvert_exporter": "python",
   "pygments_lexer": "ipython3",
   "version": "3.13.5"
  }
 },
 "nbformat": 4,
 "nbformat_minor": 5
}
