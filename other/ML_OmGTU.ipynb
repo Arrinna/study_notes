{
 "cells": [
  {
   "cell_type": "markdown",
   "id": "b945ed17-cf98-4575-b13a-a0ae231e1ffd",
   "metadata": {},
   "source": [
    "# Машинное обучение\n",
    "ОмГТУ, Артём Шевляков\n",
    "\n",
    "https://stepik.org/course/8057/syllabus"
   ]
  },
  {
   "cell_type": "code",
   "execution_count": 1,
   "id": "7caa7912-e88a-4ef2-bf7c-db24251412ca",
   "metadata": {},
   "outputs": [],
   "source": [
    "import pandas as pd\n",
    "import numpy as np\n"
   ]
  },
  {
   "cell_type": "markdown",
   "id": "c8756942-35af-4b6f-9c5f-7fd92717e095",
   "metadata": {},
   "source": [
    "## Введение в машинное обучение и основные понятия статистики, Восстановление пропущенных значений"
   ]
  },
  {
   "cell_type": "code",
   "execution_count": 21,
   "id": "1e285979-557b-4a25-991c-36b2738eeabc",
   "metadata": {},
   "outputs": [
    {
     "name": "stdout",
     "output_type": "stream",
     "text": [
      "2.0\n",
      "1.0\n"
     ]
    }
   ],
   "source": [
    "P = pd.Series([-0,1,5])\n",
    "\n",
    "print(round(P.mean(), 2))\n",
    "print(round(P.median(), 2))"
   ]
  },
  {
   "cell_type": "code",
   "execution_count": 30,
   "id": "1fb6c943-6602-423a-8fc2-f24409651253",
   "metadata": {},
   "outputs": [
    {
     "name": "stdout",
     "output_type": "stream",
     "text": [
      "2.83\n",
      "4.0\n",
      "2\n"
     ]
    }
   ],
   "source": [
    "# Даны два вектора значений признаков Р1=(0,1,2) Р2=(2,1,0).\n",
    "# Евклидово расстояние между ними равно\n",
    "# Расстояние в метрике Манхэттен между ними равно\n",
    "# Расстояние между ними в max-метрике равно \n",
    "\n",
    "Р1 = pd.Series([0,1,2]) \n",
    "Р2 = pd.Series([2,1,0])\n",
    "\n",
    "evq = np.linalg.norm(Р1 - Р2)\n",
    "manh = np.linalg.norm(Р1 - Р2,ord=1)\n",
    "maxmetr = max(np.abs(Р1 - Р2))\n",
    "print(round(evq, 2))\n",
    "print(round(manh, 2))\n",
    "print(round(maxmetr, 2))"
   ]
  },
  {
   "cell_type": "code",
   "execution_count": 31,
   "id": "2c51ccb4-c70a-4f96-9031-5cfb7a99a058",
   "metadata": {},
   "outputs": [
    {
     "data": {
      "text/plain": [
       "array([0.2, 0. , 1. , 0.4, 0.4])"
      ]
     },
     "execution_count": 31,
     "metadata": {},
     "output_type": "execute_result"
    }
   ],
   "source": [
    "# Дан вектор значений признака Р=(1,0,5,2,2). \n",
    "# Нормализуем этот вектор по формуле, использующей минимальное и максимальное значение признака Р. \n",
    "# Значение первой координаты нормализованного вектора будет равно \n",
    "\n",
    "a = np.array([1, 0, 5, 2, 2])\n",
    "\n",
    "np.vectorize(lambda x: (x - a.min())/(a.max() - a.min()))(a)"
   ]
  },
  {
   "cell_type": "code",
   "execution_count": 33,
   "id": "a09bf329-982a-47f2-8706-dca0977719ea",
   "metadata": {},
   "outputs": [
    {
     "data": {
      "text/plain": [
       "array([-0.5976143 , -1.19522861,  1.79284291,  0.        ,  0.        ])"
      ]
     },
     "execution_count": 33,
     "metadata": {},
     "output_type": "execute_result"
    }
   ],
   "source": [
    "# Дан вектор значений признака Р=(1,0,5,2,2). \n",
    "# Нормализуем этот вектор по формуле, использующей среднее значением и отклонение признака Р. \n",
    "# Значение последней координаты нормализованного вектора будет равно \n",
    "\n",
    "a = np.array([1, 0, 5, 2, 2])\n",
    "np.vectorize(lambda x: (x - a.mean())/a.std())(a)"
   ]
  },
  {
   "cell_type": "code",
   "execution_count": 60,
   "id": "dce614fa-9dcd-43e4-9f0b-3ddbd2d76eaf",
   "metadata": {},
   "outputs": [
    {
     "name": "stdout",
     "output_type": "stream",
     "text": [
      "4.0 3.0 3.0\n",
      "4.0\n"
     ]
    }
   ],
   "source": [
    "# Следующая таблица содержит информацию об оценках, выставленных фильмам.\n",
    "# Требуется оценить, какую оценку поставит Саша фильму «Гарри Поттер». \n",
    "# Сделаем это с помощью метрики Манхэттен (для простоты вычислений данные в таблице нормировать не нужно). \n",
    "# Для этого подсчитаем расстояния от Саши до других людей, используя информацию из первых 3 столбцов. \n",
    "# Чему равна ожидаемая оценка для «Гарри Поттера» (округлить до одного знака после запятой)?\n",
    "\n",
    "P1 = pd.Series([5,5,5,3])\n",
    "P2 = pd.Series([5,3,4,4])\n",
    "P3 = pd.Series([2,5,3,5])\n",
    "P4 = pd.Series([3,4,4,None])\n",
    "\n",
    "a = np.abs(P1[:3]-P4[:3]).sum()\n",
    "b = np.abs(P2[:3]-P4[:3]).sum()\n",
    "c = np.abs(P3[:3]-P4[:3]).sum()\n",
    "\n",
    "print(a,b,c)\n",
    "\n",
    "#print(np.floor((1/((1/a) + (1/b)+(1/c)))*((P1[3:4]/a)+(P2[3:4]/b)+(P3[3:4]/c))))\n",
    "P4[3] = (1/(1/a + 1/b + 1/c)) * (P1[3]/a + P2[3]/b + P3[3]/c)\n",
    "print(np.floor(P4[3]))"
   ]
  },
  {
   "cell_type": "code",
   "execution_count": 67,
   "id": "baa37f18-0d8a-47cd-8c60-2348aae6733a",
   "metadata": {},
   "outputs": [
    {
     "name": "stdout",
     "output_type": "stream",
     "text": [
      "1.73\n"
     ]
    }
   ],
   "source": [
    "# Таблица содержит сведения о заказах анонимных пользователей в интернет-магазине. \n",
    "# По строкам отложены наименования товаров, а столбцы — номера заказов \n",
    "# (в ячейке стоит 1, если товар входит в соответствующий заказ; 0 — в противном случае). \n",
    "# При построении рекомендательной системы необходимо оценить степень похожести товаров с помощью вычисления евклидовой метрики. \n",
    "# Наиболее похожим (близким) на товар А будет товар С и расстояние между этими товарами равно (ответ округлить до сотых).\n",
    "\n",
    "\n",
    "A = np.array([1,0,1,0,1,0])\n",
    "B = np.array([0,1,1,1,0,0])\n",
    "C = np.array([1,1,0,1,1,0])\n",
    "D = np.array([1,1,0,1,1,1])\n",
    "\n",
    "print(round(np.linalg.norm(A - C), 2))"
   ]
  },
  {
   "cell_type": "markdown",
   "id": "f536c11b-4128-4cfd-870d-e0acc9cae6a9",
   "metadata": {},
   "source": [
    "## Поиск выбросов и аномалий"
   ]
  },
  {
   "cell_type": "code",
   "execution_count": 6,
   "id": "1afe654a-dfe4-4a1a-a8ae-447da5657c79",
   "metadata": {},
   "outputs": [
    {
     "name": "stdout",
     "output_type": "stream",
     "text": [
      "-1.0 7.0\n"
     ]
    }
   ],
   "source": [
    "# Первая и третья квартиль значений признака Р равны 2, 4 соответственно. \n",
    "# Какие из следующих значений будут считаться выбросами?\n",
    "\n",
    "interval_1 = 2 - 1.5 * (4 - 2)  #  Q25 - 1.5 * (Q75 - Q25)\n",
    "\n",
    "interval_2 = 4 + 1.5 * (4 - 2)  #  Q75 + 1.5 *(Q75 - Q25)\n",
    "\n",
    "print(interval_1, interval_2)"
   ]
  },
  {
   "cell_type": "code",
   "execution_count": 8,
   "id": "1b2398cb-aa24-41a2-898f-88c00db5f17f",
   "metadata": {},
   "outputs": [
    {
     "name": "stdout",
     "output_type": "stream",
     "text": [
      "6.699999999999999 13.3\n"
     ]
    }
   ],
   "source": [
    "# Среднее значение, отклонение и медиана десяти значений признака Р равны 10, 1.1 (одна целая одна десятая), и 9 соответственно. \n",
    "# Какие из следующих значений будут выбросами? Не забудьте в процессе решения проверить симметричность выборки.\n",
    "\n",
    "\n",
    "\n",
    "# Если выборка семмитричная, то выброс за пределами интервала: \n",
    "#          (Среднее значение  - 3 * отклонение, Среднее значение  + 3 * отклонение)\n",
    "# Если несеммитричная то (Среднее значение  - 5 * отклонение, Среднее значение  + 5 * отклонение)\n",
    "# Если медиана и среднее близки друг к другу, то выборка считается семмитричной\n",
    "\n",
    "mean_p = 10\n",
    "median_p = 9\n",
    "std_p = 1.1\n",
    "\n",
    "interval_1 = (mean_p - 3 * std_p) \n",
    "interval_2 = (mean_p + 3 * std_p) \n",
    "\n",
    "print(interval_1, interval_2)"
   ]
  },
  {
   "cell_type": "code",
   "execution_count": 7,
   "id": "0291ac6b-15b3-4a07-981c-20189a4ef9e1",
   "metadata": {},
   "outputs": [
    {
     "name": "stdout",
     "output_type": "stream",
     "text": [
      "Выборка симметрична\n",
      "\n",
      "выбросы по Шовене: 7 13.5 6 14 13 6.5\n",
      "\n",
      "выбросы по квартилям: 13.5 6 14 6.5\n"
     ]
    }
   ],
   "source": [
    "p = [7, 13.5, 6, 14, 13, 6.5]\n",
    "n = 10\n",
    "mean_p = 10\n",
    "median_p = 9\n",
    "std_p = 1.1\n",
    "\n",
    "# проверка на симметричность\n",
    "symm = 'симметрична' if abs(mean_p - median_p) <= 3 * std_p / n**.5 else 'несимметрична'\n",
    "print('Выборка', symm)\n",
    "\n",
    "# проверка по Шовене\n",
    "from math import erfc\n",
    "out_sh = []\n",
    "for x in p:\n",
    "    if erfc(abs(x - mean_p) / std_p) < 1 / (2 * n):\n",
    "        out_sh.append(x)\n",
    "print('\\nвыбросы по Шовене:', *out_sh)\n",
    "\n",
    "# проверка по квартилям\n",
    "mult = 3 if symm == 'симметрична' else 5\n",
    "left, right = mean_p - mult * std_p, mean_p + mult * std_p\n",
    "out_q = []\n",
    "for x in p:\n",
    "    if not left <= x <= right:\n",
    "        out_q.append(x)\n",
    "print('\\nвыбросы по квартилям:', *out_q)"
   ]
  },
  {
   "cell_type": "code",
   "execution_count": 9,
   "id": "faec0876-7753-49ec-bee7-869dd66be160",
   "metadata": {},
   "outputs": [
    {
     "name": "stdout",
     "output_type": "stream",
     "text": [
      "a: 12\n",
      "b: 16\n",
      "c: 16\n",
      "d: 20\n"
     ]
    }
   ],
   "source": [
    "# В данной задаче выбросы будем искать по следующему правилу: \n",
    "# «Выбросом будет считаться объект, у которого суммарное расстояние от него до остальных объектов выборки наибольшее». \n",
    "# Таким образом, в указанной таблице выбросом будет (написать имя объекта в виде заглавной латинской буквы): \n",
    "# (при вычислении использовать метрику Манхэттен, нормализацию не проводить), \n",
    "# сумма расстояний от него до остальных объектов будет равна .\n",
    "\n",
    "    \n",
    "    def manhet(list1, list2, list3, list4):\n",
    "    s = 0\n",
    "    for a, b, c, d in zip(list1, list2, list3, list4):\n",
    "        s += abs(a - b) + abs(a - c) + abs(a - d)\n",
    "    return s\n",
    "\n",
    "a = [1, 1, 0]\n",
    "b = [0, 2, -1]\n",
    "c = [2, 3, 1]\n",
    "d = [1, 0, 4]\n",
    "\n",
    "print('a:', manhet(a, b, c, d))\n",
    "print('b:', manhet(b, c, d, a))\n",
    "print('c:', manhet(c, b, a, d))\n",
    "print('d:', manhet(d, b, c, a))"
   ]
  },
  {
   "cell_type": "code",
   "execution_count": null,
   "id": "f4fd690e-fa52-4091-8812-83160327ee5e",
   "metadata": {},
   "outputs": [],
   "source": [
    "# Кластеризация с помощью графов\n",
    "\n",
    "# Первый способ:\n",
    "import pandas as pd\n",
    "from neulab.Clustering import CGraph\n",
    "d = {'Age': [18, 33, 42, 24, 19, 25], 'Sex': [0, 1, 1, 0, 2, 2]}\n",
    "df = pd.DataFrame(data=d, index=['A', 'B', 'C', 'D', 'E', 'F'])\n",
    "\n",
    "clusters = CGraph(df, metric='manhattan', r='std', rnd=3, draw=False, info=True)\n",
    "\n",
    "Output:\n",
    "Distances: {'A|B': 1.125, 'A|C': 1.5, 'A|D': 0.25, 'A|E': 1.042, 'A|F': 1.292, 'B|C': 0.375, 'B|D': 0.875, 'B|E': 1.083, 'B|F': 0.833, 'C|B': 0.375, 'C|D': 1.25, 'C|E': 1.458, 'C|F': 1.208, 'D|B': 0.875, 'D|C': 1.25, 'D|E': 1.208, 'D|F': 1.042, 'E|B': 1.083, 'E|C': 1.458, 'E|D': 1.208, 'E|F': 0.25}\n",
    "R = 0.388\n",
    "Found clusters: [['D', 'A'], ['C', 'B'], ['E', 'F']]\n",
    "\n",
    "# Второй способ через остовное дерево:\n",
    "\n",
    "import pandas as pd\n",
    "from neulab.Clustering import CGraphMST\n",
    "\n",
    "d = {'Age': [18, 33, 42, 24, 19, 25], 'Sex': [0, 1, 1, 0, 2, 2]}\n",
    "df = pd.DataFrame(data=d, index=['A', 'B', 'C', 'D', 'E', 'F'])\n",
    "\n",
    "clusters = CGraphMST(df, clst_num=3, metric='manhattan', rnd=3, draw=True, info=True)"
   ]
  },
  {
   "cell_type": "code",
   "execution_count": 1,
   "id": "e03ceb26-6d39-43a3-847c-fb3deffe8e1b",
   "metadata": {},
   "outputs": [
    {
     "name": "stdout",
     "output_type": "stream",
     "text": [
      "12.0\n",
      "3.0\n",
      "6.324555320336759\n",
      "5.656854249492381\n"
     ]
    }
   ],
   "source": [
    "from math import sqrt\n",
    "x, y = 36, 4\n",
    "print(sqrt(x * y))\n",
    "print(sqrt(x / y))\n",
    "print(sqrt(x + y))\n",
    "print(sqrt(x - y))"
   ]
  },
  {
   "cell_type": "code",
   "execution_count": 2,
   "id": "f3a3a400-1a82-4941-9aea-765ccca02493",
   "metadata": {},
   "outputs": [
    {
     "name": "stdout",
     "output_type": "stream",
     "text": [
      "0.9\n",
      "33\n"
     ]
    }
   ],
   "source": [
    "# Дана таблица, содержащая истинное значение целевого признака Y и предсказанное значение Y'.\n",
    "# Значение MAE равно (ответ в виде десятичной дроби). Значение MAPE равно (количество процентов округлить до целого). %\n",
    "\n",
    "\n",
    "import numpy as np\n",
    "from sklearn.metrics import mean_absolute_error as mae\n",
    "\n",
    "y = np.array([1,2,3,4,5,-1,-2,-3,-4,-5])\n",
    "y_pred = np.array([0,2,2,5,3,-1,-1,-4,-6,-5])\n",
    "\n",
    "def mape(y, y_pred): \n",
    "    return np.mean(np.abs((y - y_pred) / y)) * 100\n",
    "\n",
    "print(mae(y, y_pred))\n",
    "print(round(mape(y, y_pred)))\n"
   ]
  },
  {
   "cell_type": "code",
   "execution_count": 3,
   "id": "c6a0128a-0004-40de-a80d-2db34fff4cea",
   "metadata": {},
   "outputs": [
    {
     "name": "stdout",
     "output_type": "stream",
     "text": [
      "mae: 0.9 \n",
      " mape: 33.166666666666664\n"
     ]
    }
   ],
   "source": [
    "import numpy as np\n",
    "\n",
    "def mae_mape(list1, list2):\n",
    "    s = 0\n",
    "    s1 = 0\n",
    "    for i, j in zip(list1, list2):\n",
    "        s += abs(i - j)\n",
    "        s1 += abs(i - j) / abs(i)\n",
    "    print('mae:', s / len(list1), '\\n', 'mape:', (s1 / len(a)) * 100)\n",
    "\n",
    "a = [1, 2, 3, 4, 5, -1, -2, -3, -4, -5]\n",
    "b = [0, 2, 2, 5, 3, -1, -1, -4, -6, -5]\n",
    "\n",
    "mae_mape(a, b)"
   ]
  },
  {
   "cell_type": "markdown",
   "id": "b7bf6483-8cd4-4277-8487-caafd6bf4d9a",
   "metadata": {},
   "source": [
    "# Линейная регрессия\n",
    "Объекты в следующей таблице имеют один нецелевой признак Х.\n",
    "Построим модель линейно регрессии для предсказания признака Y.\n",
    "Полученная модель будет иметь вид: Y="
   ]
  },
  {
   "cell_type": "code",
   "execution_count": 9,
   "id": "998f78ef-f6f7-4994-9112-e8eaee98251f",
   "metadata": {},
   "outputs": [
    {
     "data": {
      "text/plain": [
       "(np.float64(0.7999999999999997), np.float64(-0.19999999999999904))"
      ]
     },
     "execution_count": 9,
     "metadata": {},
     "output_type": "execute_result"
    }
   ],
   "source": [
    "import numpy as np\n",
    "\n",
    "x = np.array([0,1,2,3])\n",
    "y = np.array([0,1,0,3])\n",
    "\n",
    "A = np.vstack([x, np.ones(len(x))]).T\n",
    "\n",
    "w1, w0 = np.linalg.lstsq(A, y)[0]\n",
    "\n",
    "w1, w0"
   ]
  },
  {
   "cell_type": "code",
   "execution_count": 10,
   "id": "ebbd8caa-6fed-4a57-9819-3f451f6a624e",
   "metadata": {},
   "outputs": [
    {
     "data": {
      "image/png": "[encoded data removed]",
      "text/plain": [
       "<Figure size 640x480 with 1 Axes>"
      ]
     },
     "metadata": {},
     "output_type": "display_data"
    }
   ],
   "source": [
    "import matplotlib.pyplot as plt\n",
    "_ = plt.plot(x, y, 'o', label='Original data', markersize=10)\n",
    "_ = plt.plot(x, w1*x + w0, 'r', label='Fitted line')\n",
    "_ = plt.legend()\n",
    "plt.show()"
   ]
  },
  {
   "cell_type": "code",
   "execution_count": 6,
   "id": "d9a16027-9339-4f1d-ba8e-4b8d705fdf4e",
   "metadata": {},
   "outputs": [
    {
     "name": "stdout",
     "output_type": "stream",
     "text": [
      "Intercept:  -0.19999999999999973\n",
      "Coefficient:  [0.8]\n"
     ]
    }
   ],
   "source": [
    "from sklearn import linear_model as lm\n",
    "\n",
    "lr = lm.LinearRegression()\n",
    "lr.fit([[0],[1],[2],[3]], [0,1,0,3])\n",
    "\n",
    "print(\"Intercept: \", lr.intercept_)\n",
    "print(\"Coefficient: \", lr.coef_)"
   ]
  },
  {
   "cell_type": "code",
   "execution_count": 12,
   "id": "45eadc84-1662-4ac6-9674-9c64e26b5361",
   "metadata": {},
   "outputs": [
    {
     "data": {
      "image/png": "[encoded data removed]",
      "text/plain": [
       "<Figure size 800x600 with 2 Axes>"
      ]
     },
     "metadata": {},
     "output_type": "display_data"
    }
   ],
   "source": [
    "from scipy import stats\n",
    "import numpy as np\n",
    "import matplotlib.pyplot as plt\n",
    "\n",
    "# генерируем данные\n",
    "x = [0, 1, 2, 3]\n",
    "y = [0, 1, 0, 3]\n",
    "x = np.array(x)\n",
    "y = np.array(y)\n",
    "numb=np.arange(0,len(x),1)\n",
    "\n",
    "\n",
    "#линия регрессии\n",
    "slope, intercept, r_value, p_value, std_err = stats.linregress(x,y)\n",
    "\n",
    "line = slope*x+intercept\n",
    "\n",
    "#создание кроссплота\n",
    "fig = plt.figure(figsize=(8,6))\n",
    "ax = plt.subplot(111)\n",
    "\n",
    "plt.scatter(x,y, s=50, c=numb)\n",
    "plt.plot(x, line, 'r', label='y={:.2f}x+{:.2f}'.format(slope,intercept))\n",
    "plt.plot([], [], ' ', label='R_sq = '+'{:.2f}'.format(r_value**2))\n",
    "\n",
    "plt.grid(True)\n",
    "plt.legend(fontsize=12)\n",
    "plt.colorbar()\n",
    "plt.xlabel('X')\n",
    "plt.ylabel('Y')\n",
    "plt.show()"
   ]
  },
  {
   "cell_type": "code",
   "execution_count": 18,
   "id": "3e2f013b-a505-4e3d-85a9-071c7edcbac0",
   "metadata": {},
   "outputs": [
    {
     "name": "stdout",
     "output_type": "stream",
     "text": [
      "Производная: 4*x - 3*y - 2\n"
     ]
    }
   ],
   "source": [
    "import sympy as sp\n",
    "\n",
    "# Определяем переменную\n",
    "x, y = sp.symbols('x , y')\n",
    "\n",
    "# Задаём функцию\n",
    "y = 2*x**2 -3*x*y+4*y**2-2*x+y+10\n",
    "\n",
    "# Находим производную\n",
    "dy_dx = sp.diff(y, x)\n",
    "\n",
    "print(\"Производная:\", dy_dx)"
   ]
  },
  {
   "cell_type": "code",
   "execution_count": 19,
   "id": "1b17ddb4-ad8f-4b01-8ef2-d78d81e4d602",
   "metadata": {},
   "outputs": [
    {
     "name": "stdout",
     "output_type": "stream",
     "text": [
      "coef: [ 0.17391304  0.62450593 -0.1027668 ]\n"
     ]
    }
   ],
   "source": [
    "# Объекты в следующей таблице имеют два нецелевых признака Х1, Х2.\n",
    "# Проблема в том, что существует сильная (даже линейная) зависимость между признаками X1,X2.\n",
    "# Построим модель линейной регрессии с регуляризацией для предсказания признака Y \n",
    "# (значение константы регуляризации С положить равным 1).\n",
    "\n",
    "import numpy as np\n",
    "from sklearn.linear_model import Ridge\n",
    "\n",
    "X = np.array( [ [0,3], [1,2], [2,1], [3,0] ] )\n",
    "y = np.array( [ 0, 1, 0, 3 ] )\n",
    "\n",
    "#expand X by 1.0 column\n",
    "\n",
    "X = np.insert(X, 0, values=1, axis=1 )\n",
    "\n",
    "model = Ridge(alpha=1.0, fit_intercept=False )\n",
    "model.fit(X, y )\n",
    "\n",
    "print(\"coef:\", model.coef_);\n",
    "\n",
    "#  Полученная модель будет иметь вид: Y = 0.62 * Х1 + -0.1 * Х2 + 0.17"
   ]
  },
  {
   "cell_type": "markdown",
   "id": "9a24e696-7fa0-4649-ab60-daabb4134c05",
   "metadata": {},
   "source": [
    "# Задачи классификации"
   ]
  },
  {
   "cell_type": "code",
   "execution_count": 30,
   "id": "0a767d65-a84d-4694-b26d-9d676f9130e8",
   "metadata": {},
   "outputs": [
    {
     "name": "stdout",
     "output_type": "stream",
     "text": [
      "Accuracy: 0.57\n",
      "Precision: 0.60\n",
      "Recall: 0.43\n"
     ]
    }
   ],
   "source": [
    "# TP |  FP\n",
    "# -------\n",
    "# FN |  TN\n",
    "\n",
    "def get_classification_parameters(TN, FP, FN, TP):\n",
    "\n",
    "    Acc = (TN + TP) / (TN + TP + FN + FP)\n",
    "    Preс = TP / (TP + FP)\n",
    "    Rec = TP / (TP + FN)\n",
    "\n",
    "    print(f'Accuracy: {Acc:.2f}\\nPrecision: {Preс:.2f}\\nRecall: {Rec:.2f}')\n",
    "\n",
    "get_classification_parameters(TN=25,FP=10,FN=20,TP=15)"
   ]
  },
  {
   "cell_type": "markdown",
   "id": "96778dec-5300-4e11-9c9d-3f23858ee100",
   "metadata": {},
   "source": [
    "\n",
    " \n",
    "|            |   0        | 1        | \n",
    "|------------|------------|----------|\n",
    "|     0      |   TN       | FN       | \n",
    "|     1      |   FP       | TP       | "
   ]
  },
  {
   "cell_type": "code",
   "execution_count": 33,
   "id": "b5669eaf-1f89-491f-8a4b-e5e08a54a4c5",
   "metadata": {},
   "outputs": [
    {
     "name": "stdout",
     "output_type": "stream",
     "text": [
      "Accuracy: 0.60\n",
      "Precision: 0.60\n",
      "Recall: 1.00\n"
     ]
    }
   ],
   "source": [
    "# Один очень тупой классификатор С относит все объекты к классу 1. \n",
    "# Допустим,что выборка состоит из 50 объектов: \n",
    "# 20 из них действительно принадлежат классу 0, а 30 из них действительно принадлежат классу 1.\n",
    "\n",
    "# 0 |  0\n",
    "# -------\n",
    "# 20 | 30\n",
    "\n",
    "get_classification_parameters(TN=0,FP=20,FN=0,TP=30)"
   ]
  },
  {
   "cell_type": "markdown",
   "id": "325fee41-1f40-41c0-b261-04653eea2423",
   "metadata": {},
   "source": [
    "# Метод k ближайших соседей (kNN)"
   ]
  },
  {
   "cell_type": "code",
   "execution_count": 1,
   "id": "db4c6f47-b1d4-4328-84bf-18086c5e49f0",
   "metadata": {},
   "outputs": [
    {
     "data": {
      "text/plain": [
       "<matplotlib.collections.PathCollection at 0x1aa2eba5a90>"
      ]
     },
     "execution_count": 1,
     "metadata": {},
     "output_type": "execute_result"
    },
    {
     "data": {
      "image/png": "[encoded data removed]",
      "text/plain": [
       "<Figure size 640x480 with 1 Axes>"
      ]
     },
     "metadata": {},
     "output_type": "display_data"
    }
   ],
   "source": [
    "import matplotlib.pyplot as plt\n",
    "plt.scatter([-1,1,2,-3,3],[0,2,-2,-1,2],color=[\"b\",\"r\",\"r\",\"b\",\"b\"])\n",
    "plt.scatter(0,0,color=\"y\")"
   ]
  },
  {
   "cell_type": "code",
   "execution_count": 4,
   "id": "ea5ee4d0-2ccc-46e5-95db-49b540f89da6",
   "metadata": {},
   "outputs": [
    {
     "data": {
      "text/plain": [
       "array([1])"
      ]
     },
     "execution_count": 4,
     "metadata": {},
     "output_type": "execute_result"
    }
   ],
   "source": [
    "import pandas as pd\n",
    "from sklearn.neighbors import KNeighborsClassifier\n",
    "\n",
    "data = pd.DataFrame({'x1':[-1,1,2,-3,3], 'x2':[0,2,-2,-1,2], 'y':[1,0,0,1,1]}, index=['A','B','C','D','E'])\n",
    "\n",
    "y_test = pd.DataFrame({'x1':[0],'x2':[0]})\n",
    " \n",
    "\n",
    "X = data.drop(['y'], axis=1)\n",
    "y = data.y\n",
    "\n",
    "clf = KNeighborsClassifier(n_neighbors=5) #тут меняет количество соседей\n",
    "clf.fit(X,y)\n",
    "\n",
    "# после этого предсказываем данные на y_test\n",
    "test_predicts = clf.predict(y_test)\n",
    "\n",
    "test_predicts"
   ]
  },
  {
   "cell_type": "markdown",
   "id": "4039d052-c2d0-4920-91e7-940c3ccbe067",
   "metadata": {},
   "source": [
    "# Деревья решений"
   ]
  },
  {
   "cell_type": "code",
   "execution_count": 5,
   "id": "68fa5a79-12e8-4ca8-8432-61b4852504fb",
   "metadata": {},
   "outputs": [
    {
     "name": "stdout",
     "output_type": "stream",
     "text": [
      "0.23\n",
      "0.24\n",
      "0.0\n"
     ]
    }
   ],
   "source": [
    "p1 = [0, 0, 1, 1, 0]\n",
    "p2 = [1, 1, 1, 1, 1]\n",
    "p3 = [0, 0, 0, 1, 1]\n",
    "y = [1, 1, 1, 0, 0]\n",
    "\n",
    "def gini(x, y) -> float:\n",
    "    pr0 = []\n",
    "    pr1 = []\n",
    "    a = 0\n",
    "\n",
    "    for i in range(len(x)):\n",
    "        if x[i] == 0 : a += 1\n",
    "\n",
    "    pr0.append(a/len(y))\n",
    "    pr1.append((len(x) - a)/len(y))\n",
    "\n",
    "    a = 0\n",
    "    b = 0\n",
    "    c = 0\n",
    "    d = 0\n",
    "    result = 0\n",
    "\n",
    "    x0 = 0\n",
    "    x1 = 0\n",
    "    for i in range(len(x)):\n",
    "        if x[i] == 0 and y[i] == 0: a += 1\n",
    "        if x[i] == 0 and y[i] == 1: b += 1\n",
    "        if x[i] == 1 and y[i] == 0: c += 1\n",
    "        if x[i] == 1 and y[i] == 1: d += 1\n",
    "        if x[i] == 0: x0 += 1    \n",
    "        if x[i] == 1: x1 += 1\n",
    "\n",
    "    if x0 == 0: \n",
    "        pr0.append(0) \n",
    "        pr0.append(0)\n",
    "    else:\n",
    "        pr0.append(a/x0) \n",
    "        pr0.append(b/x0)\n",
    "\n",
    "    pr1.append(c/x1)\n",
    "    pr1.append(d/x1)\n",
    "   \n",
    "    result = (pr0[0]*pr0[1]*pr0[2]) + (pr1[0]*pr1[1]*pr1[2])\n",
    "    \n",
    "    return(round(result, 2))    \n",
    "\n",
    "print(gini(p1,y))\n",
    "print(gini(p2,y))\n",
    "print(gini(p3,y))"
   ]
  },
  {
   "cell_type": "code",
   "execution_count": null,
   "id": "deba1b1d-5611-4c45-a1ea-8d323b6a1d42",
   "metadata": {},
   "outputs": [],
   "source": []
  },
  {
   "cell_type": "code",
   "execution_count": null,
   "id": "31f06e42-6e64-406e-934c-21a04fcaaf2e",
   "metadata": {},
   "outputs": [],
   "source": []
  }
 ],
 "metadata": {
  "kernelspec": {
   "display_name": "Python 3 (ipykernel)",
   "language": "python",
   "name": "python3"
  },
  "language_info": {
   "codemirror_mode": {
    "name": "ipython",
    "version": 3
   },
   "file_extension": ".py",
   "mimetype": "text/x-python",
   "name": "python",
   "nbconvert_exporter": "python",
   "pygments_lexer": "ipython3",
   "version": "3.13.5"
  }
 },
 "nbformat": 4,
 "nbformat_minor": 5
}
