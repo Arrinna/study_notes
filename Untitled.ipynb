{
 "cells": [
  {
   "cell_type": "code",
   "execution_count": 11,
   "id": "56bc3569-0241-473b-8d4a-e6438d21e3a3",
   "metadata": {},
   "outputs": [],
   "source": [
    "import numpy as np\n",
    "import pandas as pd\n",
    "import seaborn as sns"
   ]
  },
  {
   "cell_type": "code",
   "execution_count": 19,
   "id": "c2d6296a-50be-4a73-97ad-b7a971932a0a",
   "metadata": {},
   "outputs": [],
   "source": [
    "drinks = pd.read_csv('http://bit.ly/drinksbycountry')\n",
    "\n"
   ]
  },
  {
   "cell_type": "code",
   "execution_count": 12,
   "id": "0458ed85-c53b-4a5e-8911-144545cc5c2b",
   "metadata": {},
   "outputs": [
    {
     "name": "stdout",
     "output_type": "stream",
     "text": [
      "0123456789abcdefghijklmnopqrstuvwxyzABCDEFGHIJKLMNOPQRSTUVWXYZ!\"#$%&'()*+,-./:;<=>?@[\\]^_`{|}~ \t\n",
      "\u000b",
      "\f",
      "\n"
     ]
    }
   ],
   "source": [
    "from string import printable\n",
    "\n",
    "print(printable)"
   ]
  },
  {
   "cell_type": "code",
   "execution_count": 51,
   "id": "be4d0df4-1168-4c22-af79-1b843ded428f",
   "metadata": {},
   "outputs": [
    {
     "name": "stdout",
     "output_type": "stream",
     "text": [
      "abcdefghijklmnopqrstuvwxyzABCDEFGHIJKLMNOPQRSTUVWXYZ0123456789!\"#$%&'()*+,-./:;<=>?@[\\]^_`{|}~ \t\n",
      "\u000b",
      "\f",
      "абвгдежзийклмнопрстуфхцчшщъыьэюяёАБВГДЕЖЗИЙКЛМНОПРСТУФХЦЧШЩЪЫЬЭЮЯЁ\n",
      "166\n"
     ]
    }
   ],
   "source": [
    "import string\n",
    "\n",
    "# Берём готовые наборы из string\n",
    "latin = string.ascii_letters      # abc...xyzABC...XYZ\n",
    "digits = string.digits            # 0123456789\n",
    "punct = string.punctuation        # !\"#$%&'()*+,-./:;<=>?@[\\]^_`{|}~\n",
    "space = string.whitespace         # пробел\n",
    "# string.printable\n",
    "\n",
    "# Кириллица\n",
    "lower_cyr = \"абвгдеёжзийклмнопрстуфхцчшщъыьэюя\"\n",
    "upper_cyr = \"АБВГДЕЁЖЗИЙКЛМНОПРСТУФХЦЧШЩЪЫЬЭЮЯ\"\n",
    "\n",
    "lower_cyr = \"\".join(chr(c) for c in range(ord(\"а\"), ord(\"я\") + 1)) + \"ё\"\n",
    "upper_cyr = \"\".join(chr(c) for c in range(ord(\"А\"), ord(\"Я\") + 1)) + \"Ё\"\n",
    "\n",
    "# Собираем\n",
    "charset = latin + digits + punct + space + lower_cyr + upper_cyr\n",
    "\n",
    "print(charset)\n",
    "print(len(charset))"
   ]
  },
  {
   "cell_type": "code",
   "execution_count": 54,
   "id": "cf672dbc-9ebf-41e1-a549-f3ae7ef4f659",
   "metadata": {},
   "outputs": [
    {
     "name": "stdout",
     "output_type": "stream",
     "text": [
      "<=>?@ABCDEFGHIJKLMNOPQRSTUVWXYZ[]^_`abcdefghijklmnopqrstuvwxyz{|}~ абвгдеёжзийклмнопрстуфхцчшщъыьэюяАБВГДЕЁЖЗИЙКЛМНОПРСТУФХЦЧШЩЪЫЬЭЮЯ !\"#$%&'()*+,-./0123456789:;\n"
     ]
    }
   ],
   "source": [
    "check = '<=>?@ABCDEFGHIJKLMNOPQRSTUVWXYZ[]^_`abcdefghijklmnopqrstuvwxyz{|}~ \\\n",
    "абвгдеёжзийклмнопрстуфхцчшщъыьэюяАБВГДЕЁЖЗИЙКЛМНОПРСТУФХЦЧШЩЪЫЬЭЮЯ !\"#$%&\\'()*+,-./0123456789:;'\n",
    "print(check)"
   ]
  },
  {
   "cell_type": "code",
   "execution_count": null,
   "id": "89b24094-0fe9-4873-9878-b7076ae63d95",
   "metadata": {},
   "outputs": [],
   "source": []
  },
  {
   "cell_type": "code",
   "execution_count": null,
   "id": "ed7a9dd5-8c7d-479a-8ea6-afb3cb3ebc6d",
   "metadata": {},
   "outputs": [],
   "source": []
  },
  {
   "cell_type": "code",
   "execution_count": 9,
   "id": "ad1c9c12-0517-4612-841a-3de02fe21d3f",
   "metadata": {},
   "outputs": [
    {
     "name": "stdout",
     "output_type": "stream",
     "text": [
      "['Лишь утратив вс', ' до конца', ' мы обретаем свободу']\n"
     ]
    }
   ],
   "source": [
    "import re\n",
    "text = \"Лишь утратив всё до конца, мы обретаем свободу\"\n",
    "pattern = r\"[A-Za-z]+\\d*\"\n",
    "result = re.findall(pattern, text)\n",
    "print(result)"
   ]
  },
  {
   "cell_type": "code",
   "execution_count": null,
   "id": "4cecd9d3-d0c2-400e-9a2c-5ee66396b972",
   "metadata": {},
   "outputs": [],
   "source": []
  },
  {
   "cell_type": "code",
   "execution_count": null,
   "id": "079c2aca-96f3-4892-ac76-f4478b9e047e",
   "metadata": {},
   "outputs": [],
   "source": []
  },
  {
   "cell_type": "code",
   "execution_count": null,
   "id": "d093402d-2a48-48c4-8e2d-18cf2f4b8849",
   "metadata": {},
   "outputs": [],
   "source": []
  }
 ],
 "metadata": {
  "kernelspec": {
   "display_name": "Python 3 (ipykernel)",
   "language": "python",
   "name": "python3"
  },
  "language_info": {
   "codemirror_mode": {
    "name": "ipython",
    "version": 3
   },
   "file_extension": ".py",
   "mimetype": "text/x-python",
   "name": "python",
   "nbconvert_exporter": "python",
   "pygments_lexer": "ipython3",
   "version": "3.13.5"
  }
 },
 "nbformat": 4,
 "nbformat_minor": 5
}
