{
 "cells": [
  {
   "cell_type": "markdown",
   "id": "f923c1c1",
   "metadata": {},
   "source": [
    "# Конспект по статистике"
   ]
  },
  {
   "cell_type": "markdown",
   "id": "edd49f2c",
   "metadata": {},
   "source": [
    "### Среднее, медиана, мода:"
   ]
  },
  {
   "cell_type": "code",
   "execution_count": null,
   "id": "95a95f02-f5e6-4444-b408-026cccac1452",
   "metadata": {},
   "outputs": [],
   "source": [
    "import numpy as np\n",
    "import pandas as pd\n",
    "from scipy import stats\n",
    "import matplotlib.pyplot as plt"
   ]
  },
  {
   "cell_type": "code",
   "execution_count": null,
   "id": "74632ed3",
   "metadata": {},
   "outputs": [],
   "source": [
    "# Среднее\n",
    "mean = np.mean(df['столбец'])\n",
    "mean = df['столбец'].mean() \n",
    "\n",
    "# Медиана\n",
    "median = np.median(df['столбец'])\n",
    "median = df['столбец'].median() \n",
    "\n",
    "# Мода\n",
    "mode = stats.mode(df['столбец'])\n",
    "mode = df['столбец'].mode()  # на выходе серия Pandas со значениями мод"
   ]
  },
  {
   "cell_type": "markdown",
   "id": "597408aa",
   "metadata": {},
   "source": [
    "### Дисперсия, стандартное отклонение:"
   ]
  },
  {
   "cell_type": "code",
   "execution_count": null,
   "id": "a23a26ba",
   "metadata": {},
   "outputs": [],
   "source": [
    "# дисперсия (по умолчанию несмещенная оценка)\n",
    "var = df['столбец'].var()\n",
    "# дисперсия (смещенная оценка)\n",
    "var = df['столбец'].var(ddof=0)\n",
    "\n",
    "\n",
    "# стандартное отклонение\n",
    "sd = df['столбец'].std()\n",
    "# дисперсия (смещенная оценка)\n",
    "var = df['столбец'].std(ddof=0)"
   ]
  },
  {
   "cell_type": "markdown",
   "id": "025104dd",
   "metadata": {},
   "source": [
    "### Ковариация, корреляция:"
   ]
  },
  {
   "cell_type": "code",
   "execution_count": null,
   "id": "c51fea42",
   "metadata": {},
   "outputs": [],
   "source": [
    "# создаем серии данных\n",
    "A = pd.Series([7.6, 7.9, 8.3, 7.2, 6.9, 7.9, 7.4, 7.8, 5.9, 7.1, 6.8])\n",
    "B = pd.Series([10, 12, 12, 8, 8, 7.5, 7.5, 7.5, 6.5, 7, 7])\n",
    "\n",
    "# рассчитываем значение корреляции Пирсона между двумя сериями данных A и B\n",
    "corr = stats.pearsonr(A,B).statistic\n",
    "\n",
    "\n",
    "df = pd.DataFrame({'столбец_1': [7.6, 7.9, 8.3, 7.2, 6.9, 7.9, 7.4, 7.8, 5.9, 7.1, 6.8],\n",
    " 'столбец_2': [10, 12, 12, 8, 8, 7.5, 7.5, 7.5, 6.5, 7, 7],\n",
    " 'столбец_3': [2.5, 1.8, 3.1, 1.9, 2.4, 2.8, 1.0, 3.2, 2.1, 2.2, 0.5]})\n",
    "\n",
    "# создаем корреляционную матрицу\n",
    "corr_matrix = df.corr()"
   ]
  },
  {
   "cell_type": "markdown",
   "id": "39692dc2",
   "metadata": {},
   "source": [
    "### Квантили, квартили, перцентили:"
   ]
  },
  {
   "cell_type": "code",
   "execution_count": null,
   "id": "65329ead",
   "metadata": {},
   "outputs": [],
   "source": [
    "# список квартилей, которые хотим рассчитать\n",
    "Q = [0.25, 0.5, 0.75]\n",
    "\n",
    "# рассчитываем квантили значений в столбец датафрейма\n",
    "print(df['столбец'].quantile(Q))"
   ]
  },
  {
   "cell_type": "markdown",
   "id": "7f58a1f1",
   "metadata": {},
   "source": [
    "### Box Plot:"
   ]
  },
  {
   "cell_type": "code",
   "execution_count": null,
   "id": "fe26313f",
   "metadata": {},
   "outputs": [],
   "source": [
    "# строим один Box Plot по столбцу датафрейма\n",
    "bp = plt.boxplot(df['столбец'],\n",
    "                     vert=True,  # расположение бокса (True по умолчанию)\n",
    "                     patch_artist=False,  # наполнение бокса цветом (False по умолчанию)\n",
    "                     showmeans=True, # показывать среднее (зеленый треугольник) (False по умолчанию)\n",
    "                     showfliers=True, # показывать выбросы (True по умолчанию)\n",
    "                     labels=['столбец'])  # надписи\n",
    "plt.show()\n",
    "\n",
    "# строим несколько Box Plot по столбцам датафрейма\n",
    "bp = plt.boxplot([df['столбец_1'],df['столбец_2']]) \n",
    "plt.show()\n",
    "\n",
    "# строим несколько Box Plot по столбцам датафрейма, сгруппированным по другому столбцу\n",
    "df.boxplot(column=['столбец_1','столбец_2'], by='столбец_3', grid= False , color='black')\n",
    "plt.show()"
   ]
  },
  {
   "cell_type": "markdown",
   "id": "78843332",
   "metadata": {},
   "source": [
    "### Нормальное распределение:"
   ]
  },
  {
   "cell_type": "code",
   "execution_count": null,
   "id": "81769e18",
   "metadata": {},
   "outputs": [],
   "source": [
    "# Создаем нормальное распределение со средним 0 и стандартным отклонением 3\n",
    "data = stats.norm(0,3)\n",
    "\n",
    "x = np.linspace(-10, 10, 1000) # Создаем ось Х из 1000 значений в интервале от -10 до 10\n",
    "# x = np.arange(-10,10,0.02) # Альтернативный способ создания оси Х из 1000 значений в интервале от -10 до 10 с заданием шага(0.02)\n",
    "\n",
    "CDF = data.cdf(x) # Создаем функкцию CDF от значений в интервале х\n",
    "plt.plot(x, CDF) # Строим график СDF\n",
    "plt.show()\n",
    "\n",
    "PDF = data.pdf(x) # Создаем функкцию PDF от значений в интервале х\n",
    "plt.plot(x, PDF) # Строим график PDF\n",
    "plt.show()\n",
    "\n",
    "SF = data.sf(x) # Создаем функкцию SF от значений в интервале х\n",
    "plt.plot(x, SF) # Строим график SF\n",
    "plt.show()\n",
    "\n",
    "PPF = data.ppf(x) # Создаем функкцию PPF от значений в интервале х\n",
    "plt.plot(x, PPF) # Строим график PPF\n",
    "plt.show()\n",
    "\n",
    "ISF = data.isf(x) # Создаем функкцию ISF от значений в интервале х\n",
    "plt.plot(x, ISF) # Строим график ISF\n",
    "plt.show()"
   ]
  },
  {
   "cell_type": "markdown",
   "id": "330cdad3",
   "metadata": {},
   "source": [
    "### Тест Колмогорова-Смирнова:"
   ]
  },
  {
   "cell_type": "code",
   "execution_count": null,
   "id": "cbeb337c",
   "metadata": {},
   "outputs": [],
   "source": [
    "from numpy.random import seed\n",
    "from numpy.random import lognormal, randn\n",
    "from scipy.stats import kstest, ks_2samp\n",
    "\n",
    "# инициализируем генератор псевдослучайных чисел\n",
    "seed(0)\n",
    "\n",
    "# создаем 1000 значений, имеющих логнормальное распределение со средним значением 0 и стандартным отклонением 2\n",
    "data = lognormal(0, 2, 1000)\n",
    "\n",
    "# создаем 1000 значений, имеющих стандартное нормальное распределение\n",
    "standard_normal = randn(1000)\n",
    "\n",
    "# запускаем одновыборочный тест Колмогорова-Смирнова на соответствие нашего распределения (data) нормальному распределению (norm)\n",
    "print(kstest(data, 'norm'))\n",
    "\n",
    "# запускаем двухвыборочный тест Колмогорова-Смирнова\n",
    "print(ks_2samp(standard_normal, log_normal))"
   ]
  },
  {
   "cell_type": "markdown",
   "id": "8900026e",
   "metadata": {},
   "source": [
    "### Тест Колмогорова-Смирнова с поправкой Лиллиефорса:"
   ]
  },
  {
   "cell_type": "code",
   "execution_count": null,
   "id": "1274cad1",
   "metadata": {},
   "outputs": [],
   "source": [
    "from numpy.random import seed\n",
    "from numpy.random import lognormal\n",
    "from statsmodels.stats.diagnostic import lilliefors\n",
    "\n",
    "# инициализируем генератор псевдослучайных чисел\n",
    "seed(0)\n",
    "\n",
    "# создаем 1000 значений, имеющих логнормальное распределение со средним значением 0 и стандартным отклонением 2\n",
    "data = lognormal(0, 2, 1000)\n",
    "\n",
    "# запускаем одновыборочный тест Колмогорова-Смирнова c поправкой Лиллиефорса\n",
    "print(lilliefors(data))"
   ]
  },
  {
   "cell_type": "markdown",
   "id": "090bdecc",
   "metadata": {},
   "source": [
    "### Тест Шапиро-Уилка:"
   ]
  },
  {
   "cell_type": "code",
   "execution_count": null,
   "id": "6ee9cdc8",
   "metadata": {},
   "outputs": [],
   "source": [
    "from numpy.random import seed\n",
    "from numpy.random import poisson\n",
    "from scipy.stats import shapiro\n",
    "\n",
    "# инициализируем генератор псевдослучайных чисел\n",
    "seed(0)\n",
    "\n",
    "# создаем 100 значений, имеющих распределение Пуассона с лямбдой, равной 5\n",
    "data = poisson(5, 100)\n",
    "\n",
    "# запускаем тест Шапиро-Уилка на соответствие нашего распределения (data) нормальному распределению\n",
    "print(shapiro(data))"
   ]
  },
  {
   "cell_type": "markdown",
   "id": "04d95c54",
   "metadata": {},
   "source": [
    "### QQ Plot:"
   ]
  },
  {
   "cell_type": "code",
   "execution_count": null,
   "id": "c3f77572",
   "metadata": {},
   "outputs": [],
   "source": [
    "import statsmodels.api as sm\n",
    "import matplotlib.pyplot as plt\n",
    "from numpy.random import lognormal, randn\n",
    "\n",
    "np.random.seed(0)\n",
    "# Создаем выборку из 1000 значений, имеющих стандартное нормальное распределение\n",
    "data = randn(1000)\n",
    "\n",
    "# Строим QQ plot с reference line в виде прямой линии под 45 градусов\n",
    "fig = sm.qqplot(data, line='45')\n",
    "plt.show()"
   ]
  },
  {
   "cell_type": "markdown",
   "id": "ea8bc97d",
   "metadata": {},
   "source": [
    "### t-тест:"
   ]
  },
  {
   "cell_type": "code",
   "execution_count": null,
   "id": "9d8195ab",
   "metadata": {},
   "outputs": [],
   "source": [
    "from scipy.stats import ttest_1samp, ttest_ind\n",
    "\n",
    "#создаем выборки\n",
    "sample_x = [7, 8, 9, 13, 10, 9, 9, 10, 9, 11, 12, 8, 9, 11, 10, 9, 10]\n",
    "sample_y = [9, 12, 11, 11, 12, 8, 7, 9, 8, 10, 11, 10, 9, 10, 11, 9, 8]\n",
    "\n",
    "# проводим одновыборочный t-тест на равенство среднего 9.71\n",
    "print(ttest_1samp(sample_x, 9.71))\n",
    "\n",
    "# проводим двухвыборочный t-тест на равенство средних\n",
    "print(ttest_ind(sample_x, sample_y))\n",
    "\n",
    "# в случае отсутствия гомогенности дисперсий (тест Уэлча)\n",
    "print(ttest_ind(sample_x, sample_y, equal_var=False))"
   ]
  }
 ],
 "metadata": {
  "kernelspec": {
   "display_name": "Python [conda env:base] *",
   "language": "python",
   "name": "conda-base-py"
  },
  "language_info": {
   "codemirror_mode": {
    "name": "ipython",
    "version": 3
   },
   "file_extension": ".py",
   "mimetype": "text/x-python",
   "name": "python",
   "nbconvert_exporter": "python",
   "pygments_lexer": "ipython3",
   "version": "3.13.5"
  }
 },
 "nbformat": 4,
 "nbformat_minor": 5
}
