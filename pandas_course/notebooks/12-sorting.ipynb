{
 "cells": [
  {
   "cell_type": "markdown",
   "id": "89a1455c",
   "metadata": {},
   "source": [
    "<a target=\"_blank\" href=\"https://colab.research.google.com/github/victorlymarev/pandas/blob/main/notebooks/12-ordering.ipynb\">\n",
    "  <img src=\"https://colab.research.google.com/assets/colab-badge.svg\" alt=\"Open In Colab\"/>\n",
    "</a>"
   ]
  },
  {
   "cell_type": "markdown",
   "id": "1fa3c0e0",
   "metadata": {},
   "source": [
    "# Сортировка в таблицах\n",
    "#### [Ссылка на видео](https://youtu.be/3RfgCZJLsgE)"
   ]
  },
  {
   "cell_type": "code",
   "execution_count": 1,
   "id": "74f25008",
   "metadata": {},
   "outputs": [],
   "source": [
    "import pandas as pd\n",
    "import os"
   ]
  },
  {
   "cell_type": "markdown",
   "id": "988454db",
   "metadata": {},
   "source": [
    "Читаем таблицу"
   ]
  },
  {
   "cell_type": "code",
   "execution_count": 2,
   "id": "895c2f2c",
   "metadata": {},
   "outputs": [
    {
     "data": {
      "text/html": [
       "<div>\n",
       "<style scoped>\n",
       "    .dataframe tbody tr th:only-of-type {\n",
       "        vertical-align: middle;\n",
       "    }\n",
       "\n",
       "    .dataframe tbody tr th {\n",
       "        vertical-align: top;\n",
       "    }\n",
       "\n",
       "    .dataframe thead th {\n",
       "        text-align: right;\n",
       "    }\n",
       "</style>\n",
       "<table border=\"1\" class=\"dataframe\">\n",
       "  <thead>\n",
       "    <tr style=\"text-align: right;\">\n",
       "      <th></th>\n",
       "      <th>report_dt</th>\n",
       "      <th>i_pernr</th>\n",
       "      <th>fio</th>\n",
       "      <th>pos_name</th>\n",
       "      <th>salary</th>\n",
       "    </tr>\n",
       "  </thead>\n",
       "  <tbody>\n",
       "    <tr>\n",
       "      <th>5472</th>\n",
       "      <td>2018-05-31</td>\n",
       "      <td>468</td>\n",
       "      <td>Фетисов Давид Иванович</td>\n",
       "      <td>Продавец-консультант</td>\n",
       "      <td>21300.0</td>\n",
       "    </tr>\n",
       "    <tr>\n",
       "      <th>2943</th>\n",
       "      <td>2017-08-31</td>\n",
       "      <td>253</td>\n",
       "      <td>Шарова Дарья Фёдоровна</td>\n",
       "      <td>Продавец-консультант</td>\n",
       "      <td>20500.0</td>\n",
       "    </tr>\n",
       "    <tr>\n",
       "      <th>27274</th>\n",
       "      <td>2022-08-31</td>\n",
       "      <td>100209</td>\n",
       "      <td>Шевелев Захар Владимирович</td>\n",
       "      <td>Директор магазина</td>\n",
       "      <td>123000.0</td>\n",
       "    </tr>\n",
       "    <tr>\n",
       "      <th>20345</th>\n",
       "      <td>2021-05-31</td>\n",
       "      <td>1260</td>\n",
       "      <td>Сазонова Валентина Владиславовна</td>\n",
       "      <td>Продавец-консультант</td>\n",
       "      <td>28300.0</td>\n",
       "    </tr>\n",
       "    <tr>\n",
       "      <th>16129</th>\n",
       "      <td>2020-08-31</td>\n",
       "      <td>963</td>\n",
       "      <td>Петровскиая Анна Леонидовна</td>\n",
       "      <td>Продавец-консультант</td>\n",
       "      <td>34100.0</td>\n",
       "    </tr>\n",
       "  </tbody>\n",
       "</table>\n",
       "</div>"
      ],
      "text/plain": [
       "       report_dt  i_pernr                               fio  \\\n",
       "5472  2018-05-31      468            Фетисов Давид Иванович   \n",
       "2943  2017-08-31      253            Шарова Дарья Фёдоровна   \n",
       "27274 2022-08-31   100209        Шевелев Захар Владимирович   \n",
       "20345 2021-05-31     1260  Сазонова Валентина Владиславовна   \n",
       "16129 2020-08-31      963       Петровскиая Анна Леонидовна   \n",
       "\n",
       "                   pos_name    salary  \n",
       "5472   Продавец-консультант   21300.0  \n",
       "2943   Продавец-консультант   20500.0  \n",
       "27274     Директор магазина  123000.0  \n",
       "20345  Продавец-консультант   28300.0  \n",
       "16129  Продавец-консультант   34100.0  "
      ]
     },
     "execution_count": 2,
     "metadata": {},
     "output_type": "execute_result"
    }
   ],
   "source": [
    "path_empl = '../tables/employees.parquet' if os.path.exists('../tables/employees.parquet') else 'https://drive.google.com/uc?id=1AARD5-eVlCxoApt5CYZebrC3Cqw42lvj'\n",
    "\n",
    "empl = (pd.read_parquet(path_empl)\n",
    "    .sample(frac=1, random_state=42)\n",
    "    [['report_dt', 'i_pernr', 'fio', 'pos_name', 'salary']]\n",
    ")\n",
    "empl.head()"
   ]
  },
  {
   "cell_type": "markdown",
   "id": "33757d0e",
   "metadata": {},
   "source": [
    "## Метод sort_values\n",
    "\n",
    "Сортирует таблицу по отдельным колонкам или строкам \n",
    "\n",
    "Синтаксис:\n",
    "\n",
    "df.sort_values(by=название колонки или список из колонок) - для сортировки по возрастанию\n",
    "\n",
    "df.sort_values(by=название колонки или список из колонок, ascending=False) - для сортировки по убыванию\n",
    "\n",
    "df.sort_values(by=название колонки или список из колонок, ascending=список из значений True False)\n"
   ]
  },
  {
   "cell_type": "markdown",
   "id": "ff87561b",
   "metadata": {},
   "source": [
    "#### Сортируем по зарплате в порядке возратания"
   ]
  },
  {
   "cell_type": "code",
   "execution_count": 3,
   "id": "ffcccbbe",
   "metadata": {},
   "outputs": [
    {
     "name": "stderr",
     "output_type": "stream",
     "text": [
      "C:\\Users\\Panda\\AppData\\Local\\Temp\\ipykernel_9672\\1980972840.py:1: FutureWarning: The behavior of 'isin' with dtype=datetime64[us] and castable values (e.g. strings) is deprecated. In a future version, these will not be considered matching by isin. Explicitly cast to the appropriate dtype before calling isin instead.\n",
      "  empl.query('report_dt == \"2022-12-31\"').sort_values(by='salary')\n"
     ]
    },
    {
     "data": {
      "text/html": [
       "<div>\n",
       "<style scoped>\n",
       "    .dataframe tbody tr th:only-of-type {\n",
       "        vertical-align: middle;\n",
       "    }\n",
       "\n",
       "    .dataframe tbody tr th {\n",
       "        vertical-align: top;\n",
       "    }\n",
       "\n",
       "    .dataframe thead th {\n",
       "        text-align: right;\n",
       "    }\n",
       "</style>\n",
       "<table border=\"1\" class=\"dataframe\">\n",
       "  <thead>\n",
       "    <tr style=\"text-align: right;\">\n",
       "      <th></th>\n",
       "      <th>report_dt</th>\n",
       "      <th>i_pernr</th>\n",
       "      <th>fio</th>\n",
       "      <th>pos_name</th>\n",
       "      <th>salary</th>\n",
       "    </tr>\n",
       "  </thead>\n",
       "  <tbody>\n",
       "    <tr>\n",
       "      <th>29302</th>\n",
       "      <td>2022-12-31</td>\n",
       "      <td>1741</td>\n",
       "      <td>Васильева Валерия Денисовна</td>\n",
       "      <td>Кассир</td>\n",
       "      <td>20800.0</td>\n",
       "    </tr>\n",
       "    <tr>\n",
       "      <th>29150</th>\n",
       "      <td>2022-12-31</td>\n",
       "      <td>1732</td>\n",
       "      <td>Воронков Дмитрий Иванович</td>\n",
       "      <td>Кассир</td>\n",
       "      <td>20800.0</td>\n",
       "    </tr>\n",
       "    <tr>\n",
       "      <th>29196</th>\n",
       "      <td>2022-12-31</td>\n",
       "      <td>1767</td>\n",
       "      <td>Зайцева Александра Захаровна</td>\n",
       "      <td>Кассир</td>\n",
       "      <td>20900.0</td>\n",
       "    </tr>\n",
       "    <tr>\n",
       "      <th>29352</th>\n",
       "      <td>2022-12-31</td>\n",
       "      <td>1775</td>\n",
       "      <td>Степанова Евгения Руслановна</td>\n",
       "      <td>Кассир</td>\n",
       "      <td>20900.0</td>\n",
       "    </tr>\n",
       "    <tr>\n",
       "      <th>28927</th>\n",
       "      <td>2022-12-31</td>\n",
       "      <td>1753</td>\n",
       "      <td>Киреев Федор Николаевич</td>\n",
       "      <td>Кассир</td>\n",
       "      <td>20900.0</td>\n",
       "    </tr>\n",
       "    <tr>\n",
       "      <th>...</th>\n",
       "      <td>...</td>\n",
       "      <td>...</td>\n",
       "      <td>...</td>\n",
       "      <td>...</td>\n",
       "      <td>...</td>\n",
       "    </tr>\n",
       "    <tr>\n",
       "      <th>29234</th>\n",
       "      <td>2022-12-31</td>\n",
       "      <td>100200</td>\n",
       "      <td>Безруков Глеб Артёмович</td>\n",
       "      <td>Директор магазина</td>\n",
       "      <td>134200.0</td>\n",
       "    </tr>\n",
       "    <tr>\n",
       "      <th>28973</th>\n",
       "      <td>2022-12-31</td>\n",
       "      <td>100195</td>\n",
       "      <td>Тимошенко Елизаваета Петровна</td>\n",
       "      <td>Директор магазина</td>\n",
       "      <td>134700.0</td>\n",
       "    </tr>\n",
       "    <tr>\n",
       "      <th>29001</th>\n",
       "      <td>2022-12-31</td>\n",
       "      <td>100185</td>\n",
       "      <td>Макаров Артем Арсеньевич</td>\n",
       "      <td>Директор магазина</td>\n",
       "      <td>135300.0</td>\n",
       "    </tr>\n",
       "    <tr>\n",
       "      <th>29123</th>\n",
       "      <td>2022-12-31</td>\n",
       "      <td>100152</td>\n",
       "      <td>Вешняков Егор Глебович</td>\n",
       "      <td>Директор магазина</td>\n",
       "      <td>148300.0</td>\n",
       "    </tr>\n",
       "    <tr>\n",
       "      <th>28898</th>\n",
       "      <td>2022-12-31</td>\n",
       "      <td>100193</td>\n",
       "      <td>Ларин Федор Алексеевич</td>\n",
       "      <td>Директор магазина</td>\n",
       "      <td>154700.0</td>\n",
       "    </tr>\n",
       "  </tbody>\n",
       "</table>\n",
       "<p>487 rows × 5 columns</p>\n",
       "</div>"
      ],
      "text/plain": [
       "       report_dt  i_pernr                            fio           pos_name  \\\n",
       "29302 2022-12-31     1741    Васильева Валерия Денисовна             Кассир   \n",
       "29150 2022-12-31     1732      Воронков Дмитрий Иванович             Кассир   \n",
       "29196 2022-12-31     1767   Зайцева Александра Захаровна             Кассир   \n",
       "29352 2022-12-31     1775   Степанова Евгения Руслановна             Кассир   \n",
       "28927 2022-12-31     1753        Киреев Федор Николаевич             Кассир   \n",
       "...          ...      ...                            ...                ...   \n",
       "29234 2022-12-31   100200        Безруков Глеб Артёмович  Директор магазина   \n",
       "28973 2022-12-31   100195  Тимошенко Елизаваета Петровна  Директор магазина   \n",
       "29001 2022-12-31   100185       Макаров Артем Арсеньевич  Директор магазина   \n",
       "29123 2022-12-31   100152         Вешняков Егор Глебович  Директор магазина   \n",
       "28898 2022-12-31   100193         Ларин Федор Алексеевич  Директор магазина   \n",
       "\n",
       "         salary  \n",
       "29302   20800.0  \n",
       "29150   20800.0  \n",
       "29196   20900.0  \n",
       "29352   20900.0  \n",
       "28927   20900.0  \n",
       "...         ...  \n",
       "29234  134200.0  \n",
       "28973  134700.0  \n",
       "29001  135300.0  \n",
       "29123  148300.0  \n",
       "28898  154700.0  \n",
       "\n",
       "[487 rows x 5 columns]"
      ]
     },
     "execution_count": 3,
     "metadata": {},
     "output_type": "execute_result"
    }
   ],
   "source": [
    "empl.query('report_dt == \"2022-12-31\"').sort_values(by='salary')"
   ]
  },
  {
   "cell_type": "markdown",
   "id": "9ca353d7",
   "metadata": {},
   "source": [
    "#### Сортируем по зарплате в порядке убывания"
   ]
  },
  {
   "cell_type": "code",
   "execution_count": 4,
   "id": "6671ad4e",
   "metadata": {},
   "outputs": [
    {
     "name": "stderr",
     "output_type": "stream",
     "text": [
      "C:\\Users\\Panda\\AppData\\Local\\Temp\\ipykernel_9672\\3033126153.py:1: FutureWarning: The behavior of 'isin' with dtype=datetime64[us] and castable values (e.g. strings) is deprecated. In a future version, these will not be considered matching by isin. Explicitly cast to the appropriate dtype before calling isin instead.\n",
      "  empl.query('report_dt == \"2022-12-31\"').sort_values(by='salary', ascending=False)\n"
     ]
    },
    {
     "data": {
      "text/html": [
       "<div>\n",
       "<style scoped>\n",
       "    .dataframe tbody tr th:only-of-type {\n",
       "        vertical-align: middle;\n",
       "    }\n",
       "\n",
       "    .dataframe tbody tr th {\n",
       "        vertical-align: top;\n",
       "    }\n",
       "\n",
       "    .dataframe thead th {\n",
       "        text-align: right;\n",
       "    }\n",
       "</style>\n",
       "<table border=\"1\" class=\"dataframe\">\n",
       "  <thead>\n",
       "    <tr style=\"text-align: right;\">\n",
       "      <th></th>\n",
       "      <th>report_dt</th>\n",
       "      <th>i_pernr</th>\n",
       "      <th>fio</th>\n",
       "      <th>pos_name</th>\n",
       "      <th>salary</th>\n",
       "    </tr>\n",
       "  </thead>\n",
       "  <tbody>\n",
       "    <tr>\n",
       "      <th>28898</th>\n",
       "      <td>2022-12-31</td>\n",
       "      <td>100193</td>\n",
       "      <td>Ларин Федор Алексеевич</td>\n",
       "      <td>Директор магазина</td>\n",
       "      <td>154700.0</td>\n",
       "    </tr>\n",
       "    <tr>\n",
       "      <th>29123</th>\n",
       "      <td>2022-12-31</td>\n",
       "      <td>100152</td>\n",
       "      <td>Вешняков Егор Глебович</td>\n",
       "      <td>Директор магазина</td>\n",
       "      <td>148300.0</td>\n",
       "    </tr>\n",
       "    <tr>\n",
       "      <th>29001</th>\n",
       "      <td>2022-12-31</td>\n",
       "      <td>100185</td>\n",
       "      <td>Макаров Артем Арсеньевич</td>\n",
       "      <td>Директор магазина</td>\n",
       "      <td>135300.0</td>\n",
       "    </tr>\n",
       "    <tr>\n",
       "      <th>28973</th>\n",
       "      <td>2022-12-31</td>\n",
       "      <td>100195</td>\n",
       "      <td>Тимошенко Елизаваета Петровна</td>\n",
       "      <td>Директор магазина</td>\n",
       "      <td>134700.0</td>\n",
       "    </tr>\n",
       "    <tr>\n",
       "      <th>29234</th>\n",
       "      <td>2022-12-31</td>\n",
       "      <td>100200</td>\n",
       "      <td>Безруков Глеб Артёмович</td>\n",
       "      <td>Директор магазина</td>\n",
       "      <td>134200.0</td>\n",
       "    </tr>\n",
       "    <tr>\n",
       "      <th>...</th>\n",
       "      <td>...</td>\n",
       "      <td>...</td>\n",
       "      <td>...</td>\n",
       "      <td>...</td>\n",
       "      <td>...</td>\n",
       "    </tr>\n",
       "    <tr>\n",
       "      <th>29060</th>\n",
       "      <td>2022-12-31</td>\n",
       "      <td>1758</td>\n",
       "      <td>Винниченко Владимир Андреевич</td>\n",
       "      <td>Кассир</td>\n",
       "      <td>20900.0</td>\n",
       "    </tr>\n",
       "    <tr>\n",
       "      <th>29352</th>\n",
       "      <td>2022-12-31</td>\n",
       "      <td>1775</td>\n",
       "      <td>Степанова Евгения Руслановна</td>\n",
       "      <td>Кассир</td>\n",
       "      <td>20900.0</td>\n",
       "    </tr>\n",
       "    <tr>\n",
       "      <th>29196</th>\n",
       "      <td>2022-12-31</td>\n",
       "      <td>1767</td>\n",
       "      <td>Зайцева Александра Захаровна</td>\n",
       "      <td>Кассир</td>\n",
       "      <td>20900.0</td>\n",
       "    </tr>\n",
       "    <tr>\n",
       "      <th>29150</th>\n",
       "      <td>2022-12-31</td>\n",
       "      <td>1732</td>\n",
       "      <td>Воронков Дмитрий Иванович</td>\n",
       "      <td>Кассир</td>\n",
       "      <td>20800.0</td>\n",
       "    </tr>\n",
       "    <tr>\n",
       "      <th>29302</th>\n",
       "      <td>2022-12-31</td>\n",
       "      <td>1741</td>\n",
       "      <td>Васильева Валерия Денисовна</td>\n",
       "      <td>Кассир</td>\n",
       "      <td>20800.0</td>\n",
       "    </tr>\n",
       "  </tbody>\n",
       "</table>\n",
       "<p>487 rows × 5 columns</p>\n",
       "</div>"
      ],
      "text/plain": [
       "       report_dt  i_pernr                            fio           pos_name  \\\n",
       "28898 2022-12-31   100193         Ларин Федор Алексеевич  Директор магазина   \n",
       "29123 2022-12-31   100152         Вешняков Егор Глебович  Директор магазина   \n",
       "29001 2022-12-31   100185       Макаров Артем Арсеньевич  Директор магазина   \n",
       "28973 2022-12-31   100195  Тимошенко Елизаваета Петровна  Директор магазина   \n",
       "29234 2022-12-31   100200        Безруков Глеб Артёмович  Директор магазина   \n",
       "...          ...      ...                            ...                ...   \n",
       "29060 2022-12-31     1758  Винниченко Владимир Андреевич             Кассир   \n",
       "29352 2022-12-31     1775   Степанова Евгения Руслановна             Кассир   \n",
       "29196 2022-12-31     1767   Зайцева Александра Захаровна             Кассир   \n",
       "29150 2022-12-31     1732      Воронков Дмитрий Иванович             Кассир   \n",
       "29302 2022-12-31     1741    Васильева Валерия Денисовна             Кассир   \n",
       "\n",
       "         salary  \n",
       "28898  154700.0  \n",
       "29123  148300.0  \n",
       "29001  135300.0  \n",
       "28973  134700.0  \n",
       "29234  134200.0  \n",
       "...         ...  \n",
       "29060   20900.0  \n",
       "29352   20900.0  \n",
       "29196   20900.0  \n",
       "29150   20800.0  \n",
       "29302   20800.0  \n",
       "\n",
       "[487 rows x 5 columns]"
      ]
     },
     "execution_count": 4,
     "metadata": {},
     "output_type": "execute_result"
    }
   ],
   "source": [
    "empl.query('report_dt == \"2022-12-31\"').sort_values(by='salary', ascending=False)"
   ]
  },
  {
   "cell_type": "markdown",
   "id": "9f3b3a35",
   "metadata": {},
   "source": [
    "#### Сортируем по дате"
   ]
  },
  {
   "cell_type": "code",
   "execution_count": 5,
   "id": "57762544",
   "metadata": {},
   "outputs": [
    {
     "data": {
      "text/html": [
       "<div>\n",
       "<style scoped>\n",
       "    .dataframe tbody tr th:only-of-type {\n",
       "        vertical-align: middle;\n",
       "    }\n",
       "\n",
       "    .dataframe tbody tr th {\n",
       "        vertical-align: top;\n",
       "    }\n",
       "\n",
       "    .dataframe thead th {\n",
       "        text-align: right;\n",
       "    }\n",
       "</style>\n",
       "<table border=\"1\" class=\"dataframe\">\n",
       "  <thead>\n",
       "    <tr style=\"text-align: right;\">\n",
       "      <th></th>\n",
       "      <th>report_dt</th>\n",
       "      <th>i_pernr</th>\n",
       "      <th>fio</th>\n",
       "      <th>pos_name</th>\n",
       "      <th>salary</th>\n",
       "    </tr>\n",
       "  </thead>\n",
       "  <tbody>\n",
       "    <tr>\n",
       "      <th>29242</th>\n",
       "      <td>2022-12-31</td>\n",
       "      <td>1708</td>\n",
       "      <td>Руднева Галина Данииловна</td>\n",
       "      <td>Кассир</td>\n",
       "      <td>24500.0</td>\n",
       "    </tr>\n",
       "    <tr>\n",
       "      <th>28971</th>\n",
       "      <td>2022-12-31</td>\n",
       "      <td>1622</td>\n",
       "      <td>Елизарова Елена Александровна</td>\n",
       "      <td>Продавец-консультант</td>\n",
       "      <td>30800.0</td>\n",
       "    </tr>\n",
       "    <tr>\n",
       "      <th>28967</th>\n",
       "      <td>2022-12-31</td>\n",
       "      <td>1825</td>\n",
       "      <td>Киреева Александра Семёновна</td>\n",
       "      <td>Продавец-консультант</td>\n",
       "      <td>25900.0</td>\n",
       "    </tr>\n",
       "    <tr>\n",
       "      <th>29002</th>\n",
       "      <td>2022-12-31</td>\n",
       "      <td>100223</td>\n",
       "      <td>Лукин Егор Алексеевич</td>\n",
       "      <td>Заместитель директора магазина</td>\n",
       "      <td>77300.0</td>\n",
       "    </tr>\n",
       "    <tr>\n",
       "      <th>29008</th>\n",
       "      <td>2022-12-31</td>\n",
       "      <td>1856</td>\n",
       "      <td>Исаев Григорий Даниилович</td>\n",
       "      <td>Кассир</td>\n",
       "      <td>21200.0</td>\n",
       "    </tr>\n",
       "    <tr>\n",
       "      <th>...</th>\n",
       "      <td>...</td>\n",
       "      <td>...</td>\n",
       "      <td>...</td>\n",
       "      <td>...</td>\n",
       "      <td>...</td>\n",
       "    </tr>\n",
       "    <tr>\n",
       "      <th>5</th>\n",
       "      <td>2015-01-31</td>\n",
       "      <td>4</td>\n",
       "      <td>Никифоров Даниил Глебович</td>\n",
       "      <td>Продавец-консультант</td>\n",
       "      <td>15400.0</td>\n",
       "    </tr>\n",
       "    <tr>\n",
       "      <th>0</th>\n",
       "      <td>2015-01-31</td>\n",
       "      <td>100000</td>\n",
       "      <td>Кожевников Андрей Максимович</td>\n",
       "      <td>Директор магазина</td>\n",
       "      <td>45700.0</td>\n",
       "    </tr>\n",
       "    <tr>\n",
       "      <th>6</th>\n",
       "      <td>2015-01-31</td>\n",
       "      <td>5</td>\n",
       "      <td>Грачев Даниил Артёмович</td>\n",
       "      <td>Продавец-консультант</td>\n",
       "      <td>15400.0</td>\n",
       "    </tr>\n",
       "    <tr>\n",
       "      <th>7</th>\n",
       "      <td>2015-01-31</td>\n",
       "      <td>6</td>\n",
       "      <td>Леонов Николай Артурович</td>\n",
       "      <td>Продавец-консультант</td>\n",
       "      <td>15400.0</td>\n",
       "    </tr>\n",
       "    <tr>\n",
       "      <th>2</th>\n",
       "      <td>2015-01-31</td>\n",
       "      <td>1</td>\n",
       "      <td>Вишневскиая Валентина Константиновна</td>\n",
       "      <td>Кассир</td>\n",
       "      <td>12600.0</td>\n",
       "    </tr>\n",
       "  </tbody>\n",
       "</table>\n",
       "<p>29372 rows × 5 columns</p>\n",
       "</div>"
      ],
      "text/plain": [
       "       report_dt  i_pernr                                   fio  \\\n",
       "29242 2022-12-31     1708             Руднева Галина Данииловна   \n",
       "28971 2022-12-31     1622         Елизарова Елена Александровна   \n",
       "28967 2022-12-31     1825          Киреева Александра Семёновна   \n",
       "29002 2022-12-31   100223                 Лукин Егор Алексеевич   \n",
       "29008 2022-12-31     1856             Исаев Григорий Даниилович   \n",
       "...          ...      ...                                   ...   \n",
       "5     2015-01-31        4             Никифоров Даниил Глебович   \n",
       "0     2015-01-31   100000          Кожевников Андрей Максимович   \n",
       "6     2015-01-31        5               Грачев Даниил Артёмович   \n",
       "7     2015-01-31        6              Леонов Николай Артурович   \n",
       "2     2015-01-31        1  Вишневскиая Валентина Константиновна   \n",
       "\n",
       "                             pos_name   salary  \n",
       "29242                          Кассир  24500.0  \n",
       "28971            Продавец-консультант  30800.0  \n",
       "28967            Продавец-консультант  25900.0  \n",
       "29002  Заместитель директора магазина  77300.0  \n",
       "29008                          Кассир  21200.0  \n",
       "...                               ...      ...  \n",
       "5                Продавец-консультант  15400.0  \n",
       "0                   Директор магазина  45700.0  \n",
       "6                Продавец-консультант  15400.0  \n",
       "7                Продавец-консультант  15400.0  \n",
       "2                              Кассир  12600.0  \n",
       "\n",
       "[29372 rows x 5 columns]"
      ]
     },
     "execution_count": 5,
     "metadata": {},
     "output_type": "execute_result"
    }
   ],
   "source": [
    "empl.sort_values(by='report_dt', ascending=False)"
   ]
  },
  {
   "cell_type": "markdown",
   "id": "8a597a6e",
   "metadata": {},
   "source": [
    "#### Сортируем сначала по дате, а затем строки с одинаковой датой сортируем по зарплате в порядке убывания"
   ]
  },
  {
   "cell_type": "code",
   "execution_count": 6,
   "id": "72d97597",
   "metadata": {},
   "outputs": [
    {
     "data": {
      "text/html": [
       "<div>\n",
       "<style scoped>\n",
       "    .dataframe tbody tr th:only-of-type {\n",
       "        vertical-align: middle;\n",
       "    }\n",
       "\n",
       "    .dataframe tbody tr th {\n",
       "        vertical-align: top;\n",
       "    }\n",
       "\n",
       "    .dataframe thead th {\n",
       "        text-align: right;\n",
       "    }\n",
       "</style>\n",
       "<table border=\"1\" class=\"dataframe\">\n",
       "  <thead>\n",
       "    <tr style=\"text-align: right;\">\n",
       "      <th></th>\n",
       "      <th>report_dt</th>\n",
       "      <th>i_pernr</th>\n",
       "      <th>fio</th>\n",
       "      <th>pos_name</th>\n",
       "      <th>salary</th>\n",
       "    </tr>\n",
       "  </thead>\n",
       "  <tbody>\n",
       "    <tr>\n",
       "      <th>28898</th>\n",
       "      <td>2022-12-31</td>\n",
       "      <td>100193</td>\n",
       "      <td>Ларин Федор Алексеевич</td>\n",
       "      <td>Директор магазина</td>\n",
       "      <td>154700.0</td>\n",
       "    </tr>\n",
       "    <tr>\n",
       "      <th>29123</th>\n",
       "      <td>2022-12-31</td>\n",
       "      <td>100152</td>\n",
       "      <td>Вешняков Егор Глебович</td>\n",
       "      <td>Директор магазина</td>\n",
       "      <td>148300.0</td>\n",
       "    </tr>\n",
       "    <tr>\n",
       "      <th>29001</th>\n",
       "      <td>2022-12-31</td>\n",
       "      <td>100185</td>\n",
       "      <td>Макаров Артем Арсеньевич</td>\n",
       "      <td>Директор магазина</td>\n",
       "      <td>135300.0</td>\n",
       "    </tr>\n",
       "    <tr>\n",
       "      <th>28973</th>\n",
       "      <td>2022-12-31</td>\n",
       "      <td>100195</td>\n",
       "      <td>Тимошенко Елизаваета Петровна</td>\n",
       "      <td>Директор магазина</td>\n",
       "      <td>134700.0</td>\n",
       "    </tr>\n",
       "    <tr>\n",
       "      <th>29234</th>\n",
       "      <td>2022-12-31</td>\n",
       "      <td>100200</td>\n",
       "      <td>Безруков Глеб Артёмович</td>\n",
       "      <td>Директор магазина</td>\n",
       "      <td>134200.0</td>\n",
       "    </tr>\n",
       "    <tr>\n",
       "      <th>...</th>\n",
       "      <td>...</td>\n",
       "      <td>...</td>\n",
       "      <td>...</td>\n",
       "      <td>...</td>\n",
       "      <td>...</td>\n",
       "    </tr>\n",
       "    <tr>\n",
       "      <th>8</th>\n",
       "      <td>2015-01-31</td>\n",
       "      <td>7</td>\n",
       "      <td>Воробьев Семён Александрович</td>\n",
       "      <td>Продавец-консультант</td>\n",
       "      <td>15400.0</td>\n",
       "    </tr>\n",
       "    <tr>\n",
       "      <th>5</th>\n",
       "      <td>2015-01-31</td>\n",
       "      <td>4</td>\n",
       "      <td>Никифоров Даниил Глебович</td>\n",
       "      <td>Продавец-консультант</td>\n",
       "      <td>15400.0</td>\n",
       "    </tr>\n",
       "    <tr>\n",
       "      <th>9</th>\n",
       "      <td>2015-01-31</td>\n",
       "      <td>8</td>\n",
       "      <td>Жилина Валерия Александровна</td>\n",
       "      <td>Продавец-консультант</td>\n",
       "      <td>15400.0</td>\n",
       "    </tr>\n",
       "    <tr>\n",
       "      <th>3</th>\n",
       "      <td>2015-01-31</td>\n",
       "      <td>2</td>\n",
       "      <td>Литвинов Александр Максимович</td>\n",
       "      <td>Кассир</td>\n",
       "      <td>12600.0</td>\n",
       "    </tr>\n",
       "    <tr>\n",
       "      <th>2</th>\n",
       "      <td>2015-01-31</td>\n",
       "      <td>1</td>\n",
       "      <td>Вишневскиая Валентина Константиновна</td>\n",
       "      <td>Кассир</td>\n",
       "      <td>12600.0</td>\n",
       "    </tr>\n",
       "  </tbody>\n",
       "</table>\n",
       "<p>29372 rows × 5 columns</p>\n",
       "</div>"
      ],
      "text/plain": [
       "       report_dt  i_pernr                                   fio  \\\n",
       "28898 2022-12-31   100193                Ларин Федор Алексеевич   \n",
       "29123 2022-12-31   100152                Вешняков Егор Глебович   \n",
       "29001 2022-12-31   100185              Макаров Артем Арсеньевич   \n",
       "28973 2022-12-31   100195         Тимошенко Елизаваета Петровна   \n",
       "29234 2022-12-31   100200               Безруков Глеб Артёмович   \n",
       "...          ...      ...                                   ...   \n",
       "8     2015-01-31        7          Воробьев Семён Александрович   \n",
       "5     2015-01-31        4             Никифоров Даниил Глебович   \n",
       "9     2015-01-31        8          Жилина Валерия Александровна   \n",
       "3     2015-01-31        2         Литвинов Александр Максимович   \n",
       "2     2015-01-31        1  Вишневскиая Валентина Константиновна   \n",
       "\n",
       "                   pos_name    salary  \n",
       "28898     Директор магазина  154700.0  \n",
       "29123     Директор магазина  148300.0  \n",
       "29001     Директор магазина  135300.0  \n",
       "28973     Директор магазина  134700.0  \n",
       "29234     Директор магазина  134200.0  \n",
       "...                     ...       ...  \n",
       "8      Продавец-консультант   15400.0  \n",
       "5      Продавец-консультант   15400.0  \n",
       "9      Продавец-консультант   15400.0  \n",
       "3                    Кассир   12600.0  \n",
       "2                    Кассир   12600.0  \n",
       "\n",
       "[29372 rows x 5 columns]"
      ]
     },
     "execution_count": 6,
     "metadata": {},
     "output_type": "execute_result"
    }
   ],
   "source": [
    "empl.sort_values(by=['report_dt', 'salary'], ascending=False)"
   ]
  },
  {
   "cell_type": "markdown",
   "id": "3c0efb9e",
   "metadata": {},
   "source": [
    "#### Сортируем сначала по дате в порядке убывания, а затем строки с одинаковой датой сортируем по зарплате в порядке возрастания"
   ]
  },
  {
   "cell_type": "code",
   "execution_count": 7,
   "id": "1e8b02a2",
   "metadata": {},
   "outputs": [
    {
     "data": {
      "text/html": [
       "<div>\n",
       "<style scoped>\n",
       "    .dataframe tbody tr th:only-of-type {\n",
       "        vertical-align: middle;\n",
       "    }\n",
       "\n",
       "    .dataframe tbody tr th {\n",
       "        vertical-align: top;\n",
       "    }\n",
       "\n",
       "    .dataframe thead th {\n",
       "        text-align: right;\n",
       "    }\n",
       "</style>\n",
       "<table border=\"1\" class=\"dataframe\">\n",
       "  <thead>\n",
       "    <tr style=\"text-align: right;\">\n",
       "      <th></th>\n",
       "      <th>report_dt</th>\n",
       "      <th>i_pernr</th>\n",
       "      <th>fio</th>\n",
       "      <th>pos_name</th>\n",
       "      <th>salary</th>\n",
       "    </tr>\n",
       "  </thead>\n",
       "  <tbody>\n",
       "    <tr>\n",
       "      <th>29302</th>\n",
       "      <td>2022-12-31</td>\n",
       "      <td>1741</td>\n",
       "      <td>Васильева Валерия Денисовна</td>\n",
       "      <td>Кассир</td>\n",
       "      <td>20800.0</td>\n",
       "    </tr>\n",
       "    <tr>\n",
       "      <th>29150</th>\n",
       "      <td>2022-12-31</td>\n",
       "      <td>1732</td>\n",
       "      <td>Воронков Дмитрий Иванович</td>\n",
       "      <td>Кассир</td>\n",
       "      <td>20800.0</td>\n",
       "    </tr>\n",
       "    <tr>\n",
       "      <th>29196</th>\n",
       "      <td>2022-12-31</td>\n",
       "      <td>1767</td>\n",
       "      <td>Зайцева Александра Захаровна</td>\n",
       "      <td>Кассир</td>\n",
       "      <td>20900.0</td>\n",
       "    </tr>\n",
       "    <tr>\n",
       "      <th>28927</th>\n",
       "      <td>2022-12-31</td>\n",
       "      <td>1753</td>\n",
       "      <td>Киреев Федор Николаевич</td>\n",
       "      <td>Кассир</td>\n",
       "      <td>20900.0</td>\n",
       "    </tr>\n",
       "    <tr>\n",
       "      <th>29282</th>\n",
       "      <td>2022-12-31</td>\n",
       "      <td>1246</td>\n",
       "      <td>Козина Екатерна Григорьевна</td>\n",
       "      <td>Кассир</td>\n",
       "      <td>20900.0</td>\n",
       "    </tr>\n",
       "    <tr>\n",
       "      <th>...</th>\n",
       "      <td>...</td>\n",
       "      <td>...</td>\n",
       "      <td>...</td>\n",
       "      <td>...</td>\n",
       "      <td>...</td>\n",
       "    </tr>\n",
       "    <tr>\n",
       "      <th>8</th>\n",
       "      <td>2015-01-31</td>\n",
       "      <td>7</td>\n",
       "      <td>Воробьев Семён Александрович</td>\n",
       "      <td>Продавец-консультант</td>\n",
       "      <td>15400.0</td>\n",
       "    </tr>\n",
       "    <tr>\n",
       "      <th>5</th>\n",
       "      <td>2015-01-31</td>\n",
       "      <td>4</td>\n",
       "      <td>Никифоров Даниил Глебович</td>\n",
       "      <td>Продавец-консультант</td>\n",
       "      <td>15400.0</td>\n",
       "    </tr>\n",
       "    <tr>\n",
       "      <th>9</th>\n",
       "      <td>2015-01-31</td>\n",
       "      <td>8</td>\n",
       "      <td>Жилина Валерия Александровна</td>\n",
       "      <td>Продавец-консультант</td>\n",
       "      <td>15400.0</td>\n",
       "    </tr>\n",
       "    <tr>\n",
       "      <th>1</th>\n",
       "      <td>2015-01-31</td>\n",
       "      <td>0</td>\n",
       "      <td>Дубинина Надежда Николаевна</td>\n",
       "      <td>Старший кассир</td>\n",
       "      <td>20000.0</td>\n",
       "    </tr>\n",
       "    <tr>\n",
       "      <th>0</th>\n",
       "      <td>2015-01-31</td>\n",
       "      <td>100000</td>\n",
       "      <td>Кожевников Андрей Максимович</td>\n",
       "      <td>Директор магазина</td>\n",
       "      <td>45700.0</td>\n",
       "    </tr>\n",
       "  </tbody>\n",
       "</table>\n",
       "<p>29372 rows × 5 columns</p>\n",
       "</div>"
      ],
      "text/plain": [
       "       report_dt  i_pernr                           fio              pos_name  \\\n",
       "29302 2022-12-31     1741   Васильева Валерия Денисовна                Кассир   \n",
       "29150 2022-12-31     1732     Воронков Дмитрий Иванович                Кассир   \n",
       "29196 2022-12-31     1767  Зайцева Александра Захаровна                Кассир   \n",
       "28927 2022-12-31     1753       Киреев Федор Николаевич                Кассир   \n",
       "29282 2022-12-31     1246   Козина Екатерна Григорьевна                Кассир   \n",
       "...          ...      ...                           ...                   ...   \n",
       "8     2015-01-31        7  Воробьев Семён Александрович  Продавец-консультант   \n",
       "5     2015-01-31        4     Никифоров Даниил Глебович  Продавец-консультант   \n",
       "9     2015-01-31        8  Жилина Валерия Александровна  Продавец-консультант   \n",
       "1     2015-01-31        0   Дубинина Надежда Николаевна        Старший кассир   \n",
       "0     2015-01-31   100000  Кожевников Андрей Максимович     Директор магазина   \n",
       "\n",
       "        salary  \n",
       "29302  20800.0  \n",
       "29150  20800.0  \n",
       "29196  20900.0  \n",
       "28927  20900.0  \n",
       "29282  20900.0  \n",
       "...        ...  \n",
       "8      15400.0  \n",
       "5      15400.0  \n",
       "9      15400.0  \n",
       "1      20000.0  \n",
       "0      45700.0  \n",
       "\n",
       "[29372 rows x 5 columns]"
      ]
     },
     "execution_count": 7,
     "metadata": {},
     "output_type": "execute_result"
    }
   ],
   "source": [
    "empl.sort_values(by=['report_dt', 'salary'], ascending=[False, True])"
   ]
  },
  {
   "cell_type": "code",
   "execution_count": null,
   "id": "f81692ba",
   "metadata": {},
   "outputs": [],
   "source": []
  },
  {
   "cell_type": "code",
   "execution_count": null,
   "id": "c8ccf94c",
   "metadata": {},
   "outputs": [],
   "source": []
  },
  {
   "cell_type": "code",
   "execution_count": null,
   "id": "149be42c",
   "metadata": {},
   "outputs": [],
   "source": []
  },
  {
   "cell_type": "code",
   "execution_count": null,
   "id": "c0804abe",
   "metadata": {},
   "outputs": [],
   "source": []
  },
  {
   "cell_type": "code",
   "execution_count": null,
   "id": "445b53c8",
   "metadata": {},
   "outputs": [],
   "source": []
  },
  {
   "cell_type": "code",
   "execution_count": null,
   "id": "53daeefb",
   "metadata": {},
   "outputs": [],
   "source": []
  },
  {
   "cell_type": "code",
   "execution_count": null,
   "id": "bf8aa170",
   "metadata": {},
   "outputs": [],
   "source": []
  },
  {
   "cell_type": "code",
   "execution_count": null,
   "id": "e1337f90",
   "metadata": {},
   "outputs": [],
   "source": []
  },
  {
   "cell_type": "code",
   "execution_count": null,
   "id": "282e0ab7",
   "metadata": {},
   "outputs": [],
   "source": []
  },
  {
   "cell_type": "markdown",
   "id": "3bdc32ee",
   "metadata": {},
   "source": [
    "#### Сортировка отдельной колонки"
   ]
  },
  {
   "cell_type": "code",
   "execution_count": 8,
   "id": "13ebf353",
   "metadata": {},
   "outputs": [
    {
     "data": {
      "text/plain": [
       "5       2015-01-31\n",
       "9       2015-01-31\n",
       "8       2015-01-31\n",
       "1       2015-01-31\n",
       "2       2015-01-31\n",
       "           ...    \n",
       "29013   2022-12-31\n",
       "29053   2022-12-31\n",
       "29285   2022-12-31\n",
       "29271   2022-12-31\n",
       "29339   2022-12-31\n",
       "Name: report_dt, Length: 29372, dtype: datetime64[us]"
      ]
     },
     "execution_count": 8,
     "metadata": {},
     "output_type": "execute_result"
    }
   ],
   "source": [
    "empl['report_dt'].sort_values()"
   ]
  },
  {
   "cell_type": "code",
   "execution_count": 9,
   "id": "6fa4ce6b",
   "metadata": {},
   "outputs": [
    {
     "data": {
      "text/plain": [
       "29242   2022-12-31\n",
       "28971   2022-12-31\n",
       "28967   2022-12-31\n",
       "29002   2022-12-31\n",
       "29008   2022-12-31\n",
       "           ...    \n",
       "5       2015-01-31\n",
       "0       2015-01-31\n",
       "6       2015-01-31\n",
       "7       2015-01-31\n",
       "2       2015-01-31\n",
       "Name: report_dt, Length: 29372, dtype: datetime64[us]"
      ]
     },
     "execution_count": 9,
     "metadata": {},
     "output_type": "execute_result"
    }
   ],
   "source": [
    "empl['report_dt'].sort_values(ascending=False)"
   ]
  },
  {
   "cell_type": "code",
   "execution_count": null,
   "id": "ad348c72",
   "metadata": {},
   "outputs": [],
   "source": []
  },
  {
   "cell_type": "code",
   "execution_count": null,
   "id": "03c1f2e6",
   "metadata": {},
   "outputs": [],
   "source": []
  },
  {
   "cell_type": "code",
   "execution_count": null,
   "id": "4855019e",
   "metadata": {},
   "outputs": [],
   "source": []
  },
  {
   "cell_type": "code",
   "execution_count": null,
   "id": "a05d810c",
   "metadata": {},
   "outputs": [],
   "source": []
  },
  {
   "cell_type": "code",
   "execution_count": null,
   "id": "6bc74c35",
   "metadata": {},
   "outputs": [],
   "source": []
  },
  {
   "cell_type": "code",
   "execution_count": null,
   "id": "f8c417dd",
   "metadata": {},
   "outputs": [],
   "source": []
  },
  {
   "cell_type": "code",
   "execution_count": null,
   "id": "4d2c7675",
   "metadata": {},
   "outputs": [],
   "source": []
  },
  {
   "cell_type": "code",
   "execution_count": null,
   "id": "3d4681ee",
   "metadata": {},
   "outputs": [],
   "source": []
  },
  {
   "cell_type": "code",
   "execution_count": null,
   "id": "ce3f6004",
   "metadata": {},
   "outputs": [],
   "source": []
  },
  {
   "cell_type": "code",
   "execution_count": null,
   "id": "4f1f4fad",
   "metadata": {},
   "outputs": [],
   "source": []
  },
  {
   "cell_type": "code",
   "execution_count": null,
   "id": "362a97ce",
   "metadata": {},
   "outputs": [],
   "source": []
  },
  {
   "cell_type": "code",
   "execution_count": null,
   "id": "3bb2dd6f",
   "metadata": {},
   "outputs": [],
   "source": []
  },
  {
   "cell_type": "code",
   "execution_count": null,
   "id": "043a4603",
   "metadata": {},
   "outputs": [],
   "source": []
  },
  {
   "cell_type": "code",
   "execution_count": null,
   "id": "f5fff0d6",
   "metadata": {},
   "outputs": [],
   "source": []
  },
  {
   "cell_type": "markdown",
   "id": "7eacde5f",
   "metadata": {},
   "source": [
    "#### Сортировка по индексу"
   ]
  },
  {
   "cell_type": "code",
   "execution_count": 10,
   "id": "4ab2c3fc",
   "metadata": {},
   "outputs": [
    {
     "data": {
      "text/html": [
       "<div>\n",
       "<style scoped>\n",
       "    .dataframe tbody tr th:only-of-type {\n",
       "        vertical-align: middle;\n",
       "    }\n",
       "\n",
       "    .dataframe tbody tr th {\n",
       "        vertical-align: top;\n",
       "    }\n",
       "\n",
       "    .dataframe thead th {\n",
       "        text-align: right;\n",
       "    }\n",
       "</style>\n",
       "<table border=\"1\" class=\"dataframe\">\n",
       "  <thead>\n",
       "    <tr style=\"text-align: right;\">\n",
       "      <th></th>\n",
       "      <th>report_dt</th>\n",
       "      <th>i_pernr</th>\n",
       "      <th>fio</th>\n",
       "      <th>pos_name</th>\n",
       "      <th>salary</th>\n",
       "    </tr>\n",
       "  </thead>\n",
       "  <tbody>\n",
       "    <tr>\n",
       "      <th>0</th>\n",
       "      <td>2015-01-31</td>\n",
       "      <td>100000</td>\n",
       "      <td>Кожевников Андрей Максимович</td>\n",
       "      <td>Директор магазина</td>\n",
       "      <td>45700.0</td>\n",
       "    </tr>\n",
       "    <tr>\n",
       "      <th>1</th>\n",
       "      <td>2015-01-31</td>\n",
       "      <td>0</td>\n",
       "      <td>Дубинина Надежда Николаевна</td>\n",
       "      <td>Старший кассир</td>\n",
       "      <td>20000.0</td>\n",
       "    </tr>\n",
       "    <tr>\n",
       "      <th>2</th>\n",
       "      <td>2015-01-31</td>\n",
       "      <td>1</td>\n",
       "      <td>Вишневскиая Валентина Константиновна</td>\n",
       "      <td>Кассир</td>\n",
       "      <td>12600.0</td>\n",
       "    </tr>\n",
       "    <tr>\n",
       "      <th>3</th>\n",
       "      <td>2015-01-31</td>\n",
       "      <td>2</td>\n",
       "      <td>Литвинов Александр Максимович</td>\n",
       "      <td>Кассир</td>\n",
       "      <td>12600.0</td>\n",
       "    </tr>\n",
       "    <tr>\n",
       "      <th>4</th>\n",
       "      <td>2015-01-31</td>\n",
       "      <td>3</td>\n",
       "      <td>Черняева Валерия Глебовна</td>\n",
       "      <td>Продавец-консультант</td>\n",
       "      <td>15400.0</td>\n",
       "    </tr>\n",
       "    <tr>\n",
       "      <th>...</th>\n",
       "      <td>...</td>\n",
       "      <td>...</td>\n",
       "      <td>...</td>\n",
       "      <td>...</td>\n",
       "      <td>...</td>\n",
       "    </tr>\n",
       "    <tr>\n",
       "      <th>29367</th>\n",
       "      <td>2022-12-31</td>\n",
       "      <td>1372</td>\n",
       "      <td>Морозова Раиса Ярославовна</td>\n",
       "      <td>Продавец-консультант</td>\n",
       "      <td>38000.0</td>\n",
       "    </tr>\n",
       "    <tr>\n",
       "      <th>29368</th>\n",
       "      <td>2022-12-31</td>\n",
       "      <td>1615</td>\n",
       "      <td>Фадеева Евгения Данииловна</td>\n",
       "      <td>Товаровед</td>\n",
       "      <td>31800.0</td>\n",
       "    </tr>\n",
       "    <tr>\n",
       "      <th>29369</th>\n",
       "      <td>2022-12-31</td>\n",
       "      <td>1748</td>\n",
       "      <td>Измайлов Григорий Артемович</td>\n",
       "      <td>Товаровед</td>\n",
       "      <td>28400.0</td>\n",
       "    </tr>\n",
       "    <tr>\n",
       "      <th>29370</th>\n",
       "      <td>2022-12-31</td>\n",
       "      <td>1616</td>\n",
       "      <td>Русаков Евгений Тимурович</td>\n",
       "      <td>Мастер по ремонту одежды</td>\n",
       "      <td>35500.0</td>\n",
       "    </tr>\n",
       "    <tr>\n",
       "      <th>29371</th>\n",
       "      <td>2022-12-31</td>\n",
       "      <td>1687</td>\n",
       "      <td>Суханова Дарья Фёдоровна</td>\n",
       "      <td>Уборщик</td>\n",
       "      <td>26400.0</td>\n",
       "    </tr>\n",
       "  </tbody>\n",
       "</table>\n",
       "<p>29372 rows × 5 columns</p>\n",
       "</div>"
      ],
      "text/plain": [
       "       report_dt  i_pernr                                   fio  \\\n",
       "0     2015-01-31   100000          Кожевников Андрей Максимович   \n",
       "1     2015-01-31        0           Дубинина Надежда Николаевна   \n",
       "2     2015-01-31        1  Вишневскиая Валентина Константиновна   \n",
       "3     2015-01-31        2         Литвинов Александр Максимович   \n",
       "4     2015-01-31        3             Черняева Валерия Глебовна   \n",
       "...          ...      ...                                   ...   \n",
       "29367 2022-12-31     1372            Морозова Раиса Ярославовна   \n",
       "29368 2022-12-31     1615            Фадеева Евгения Данииловна   \n",
       "29369 2022-12-31     1748           Измайлов Григорий Артемович   \n",
       "29370 2022-12-31     1616             Русаков Евгений Тимурович   \n",
       "29371 2022-12-31     1687              Суханова Дарья Фёдоровна   \n",
       "\n",
       "                       pos_name   salary  \n",
       "0             Директор магазина  45700.0  \n",
       "1                Старший кассир  20000.0  \n",
       "2                        Кассир  12600.0  \n",
       "3                        Кассир  12600.0  \n",
       "4          Продавец-консультант  15400.0  \n",
       "...                         ...      ...  \n",
       "29367      Продавец-консультант  38000.0  \n",
       "29368                 Товаровед  31800.0  \n",
       "29369                 Товаровед  28400.0  \n",
       "29370  Мастер по ремонту одежды  35500.0  \n",
       "29371                   Уборщик  26400.0  \n",
       "\n",
       "[29372 rows x 5 columns]"
      ]
     },
     "execution_count": 10,
     "metadata": {},
     "output_type": "execute_result"
    }
   ],
   "source": [
    "empl.sort_index()"
   ]
  },
  {
   "cell_type": "markdown",
   "id": "97ef2bb9",
   "metadata": {},
   "source": [
    "#### При использовании с параметрами по умолчанию таблица отсортируется сначала по первому столбцу в индексе, а затем по второму в порядке возрастания"
   ]
  },
  {
   "cell_type": "code",
   "execution_count": 11,
   "id": "a943b59a",
   "metadata": {},
   "outputs": [
    {
     "data": {
      "text/html": [
       "<div>\n",
       "<style scoped>\n",
       "    .dataframe tbody tr th:only-of-type {\n",
       "        vertical-align: middle;\n",
       "    }\n",
       "\n",
       "    .dataframe tbody tr th {\n",
       "        vertical-align: top;\n",
       "    }\n",
       "\n",
       "    .dataframe thead th {\n",
       "        text-align: right;\n",
       "    }\n",
       "</style>\n",
       "<table border=\"1\" class=\"dataframe\">\n",
       "  <thead>\n",
       "    <tr style=\"text-align: right;\">\n",
       "      <th></th>\n",
       "      <th></th>\n",
       "      <th>report_dt</th>\n",
       "      <th>fio</th>\n",
       "      <th>pos_name</th>\n",
       "    </tr>\n",
       "    <tr>\n",
       "      <th>salary</th>\n",
       "      <th>i_pernr</th>\n",
       "      <th></th>\n",
       "      <th></th>\n",
       "      <th></th>\n",
       "    </tr>\n",
       "  </thead>\n",
       "  <tbody>\n",
       "    <tr>\n",
       "      <th rowspan=\"5\" valign=\"top\">12600.0</th>\n",
       "      <th>1</th>\n",
       "      <td>2015-05-31</td>\n",
       "      <td>Вишневскиая Валентина Константиновна</td>\n",
       "      <td>Кассир</td>\n",
       "    </tr>\n",
       "    <tr>\n",
       "      <th>1</th>\n",
       "      <td>2015-04-30</td>\n",
       "      <td>Вишневскиая Валентина Константиновна</td>\n",
       "      <td>Кассир</td>\n",
       "    </tr>\n",
       "    <tr>\n",
       "      <th>1</th>\n",
       "      <td>2015-02-28</td>\n",
       "      <td>Вишневскиая Валентина Константиновна</td>\n",
       "      <td>Кассир</td>\n",
       "    </tr>\n",
       "    <tr>\n",
       "      <th>1</th>\n",
       "      <td>2015-01-31</td>\n",
       "      <td>Вишневскиая Валентина Константиновна</td>\n",
       "      <td>Кассир</td>\n",
       "    </tr>\n",
       "    <tr>\n",
       "      <th>1</th>\n",
       "      <td>2015-03-31</td>\n",
       "      <td>Вишневскиая Валентина Константиновна</td>\n",
       "      <td>Кассир</td>\n",
       "    </tr>\n",
       "    <tr>\n",
       "      <th>...</th>\n",
       "      <th>...</th>\n",
       "      <td>...</td>\n",
       "      <td>...</td>\n",
       "      <td>...</td>\n",
       "    </tr>\n",
       "    <tr>\n",
       "      <th rowspan=\"2\" valign=\"top\">148300.0</th>\n",
       "      <th>100152</th>\n",
       "      <td>2022-05-31</td>\n",
       "      <td>Вешняков Егор Глебович</td>\n",
       "      <td>Директор магазина</td>\n",
       "    </tr>\n",
       "    <tr>\n",
       "      <th>100152</th>\n",
       "      <td>2022-06-30</td>\n",
       "      <td>Вешняков Егор Глебович</td>\n",
       "      <td>Директор магазина</td>\n",
       "    </tr>\n",
       "    <tr>\n",
       "      <th rowspan=\"3\" valign=\"top\">154700.0</th>\n",
       "      <th>100193</th>\n",
       "      <td>2022-11-30</td>\n",
       "      <td>Ларин Федор Алексеевич</td>\n",
       "      <td>Директор магазина</td>\n",
       "    </tr>\n",
       "    <tr>\n",
       "      <th>100193</th>\n",
       "      <td>2022-10-31</td>\n",
       "      <td>Ларин Федор Алексеевич</td>\n",
       "      <td>Директор магазина</td>\n",
       "    </tr>\n",
       "    <tr>\n",
       "      <th>100193</th>\n",
       "      <td>2022-12-31</td>\n",
       "      <td>Ларин Федор Алексеевич</td>\n",
       "      <td>Директор магазина</td>\n",
       "    </tr>\n",
       "  </tbody>\n",
       "</table>\n",
       "<p>29372 rows × 3 columns</p>\n",
       "</div>"
      ],
      "text/plain": [
       "                  report_dt                                   fio  \\\n",
       "salary   i_pernr                                                    \n",
       "12600.0  1       2015-05-31  Вишневскиая Валентина Константиновна   \n",
       "         1       2015-04-30  Вишневскиая Валентина Константиновна   \n",
       "         1       2015-02-28  Вишневскиая Валентина Константиновна   \n",
       "         1       2015-01-31  Вишневскиая Валентина Константиновна   \n",
       "         1       2015-03-31  Вишневскиая Валентина Константиновна   \n",
       "...                     ...                                   ...   \n",
       "148300.0 100152  2022-05-31                Вешняков Егор Глебович   \n",
       "         100152  2022-06-30                Вешняков Егор Глебович   \n",
       "154700.0 100193  2022-11-30                Ларин Федор Алексеевич   \n",
       "         100193  2022-10-31                Ларин Федор Алексеевич   \n",
       "         100193  2022-12-31                Ларин Федор Алексеевич   \n",
       "\n",
       "                           pos_name  \n",
       "salary   i_pernr                     \n",
       "12600.0  1                   Кассир  \n",
       "         1                   Кассир  \n",
       "         1                   Кассир  \n",
       "         1                   Кассир  \n",
       "         1                   Кассир  \n",
       "...                             ...  \n",
       "148300.0 100152   Директор магазина  \n",
       "         100152   Директор магазина  \n",
       "154700.0 100193   Директор магазина  \n",
       "         100193   Директор магазина  \n",
       "         100193   Директор магазина  \n",
       "\n",
       "[29372 rows x 3 columns]"
      ]
     },
     "execution_count": 11,
     "metadata": {},
     "output_type": "execute_result"
    }
   ],
   "source": [
    "empl.set_index(['salary', 'i_pernr']).sort_index()"
   ]
  },
  {
   "cell_type": "code",
   "execution_count": 12,
   "id": "c200f60a",
   "metadata": {},
   "outputs": [
    {
     "data": {
      "text/html": [
       "<div>\n",
       "<style scoped>\n",
       "    .dataframe tbody tr th:only-of-type {\n",
       "        vertical-align: middle;\n",
       "    }\n",
       "\n",
       "    .dataframe tbody tr th {\n",
       "        vertical-align: top;\n",
       "    }\n",
       "\n",
       "    .dataframe thead th {\n",
       "        text-align: right;\n",
       "    }\n",
       "</style>\n",
       "<table border=\"1\" class=\"dataframe\">\n",
       "  <thead>\n",
       "    <tr style=\"text-align: right;\">\n",
       "      <th></th>\n",
       "      <th></th>\n",
       "      <th>report_dt</th>\n",
       "      <th>fio</th>\n",
       "      <th>pos_name</th>\n",
       "    </tr>\n",
       "    <tr>\n",
       "      <th>salary</th>\n",
       "      <th>i_pernr</th>\n",
       "      <th></th>\n",
       "      <th></th>\n",
       "      <th></th>\n",
       "    </tr>\n",
       "  </thead>\n",
       "  <tbody>\n",
       "    <tr>\n",
       "      <th>32100.0</th>\n",
       "      <th>0</th>\n",
       "      <td>2016-06-30</td>\n",
       "      <td>Дубинина Надежда Николаевна</td>\n",
       "      <td>Старший кассир</td>\n",
       "    </tr>\n",
       "    <tr>\n",
       "      <th rowspan=\"4\" valign=\"top\">31200.0</th>\n",
       "      <th>0</th>\n",
       "      <td>2016-03-31</td>\n",
       "      <td>Дубинина Надежда Николаевна</td>\n",
       "      <td>Старший кассир</td>\n",
       "    </tr>\n",
       "    <tr>\n",
       "      <th>0</th>\n",
       "      <td>2016-02-29</td>\n",
       "      <td>Дубинина Надежда Николаевна</td>\n",
       "      <td>Старший кассир</td>\n",
       "    </tr>\n",
       "    <tr>\n",
       "      <th>0</th>\n",
       "      <td>2016-04-30</td>\n",
       "      <td>Дубинина Надежда Николаевна</td>\n",
       "      <td>Старший кассир</td>\n",
       "    </tr>\n",
       "    <tr>\n",
       "      <th>0</th>\n",
       "      <td>2016-05-31</td>\n",
       "      <td>Дубинина Надежда Николаевна</td>\n",
       "      <td>Старший кассир</td>\n",
       "    </tr>\n",
       "    <tr>\n",
       "      <th>...</th>\n",
       "      <th>...</th>\n",
       "      <td>...</td>\n",
       "      <td>...</td>\n",
       "      <td>...</td>\n",
       "    </tr>\n",
       "    <tr>\n",
       "      <th>48300.0</th>\n",
       "      <th>100230</th>\n",
       "      <td>2022-12-31</td>\n",
       "      <td>Кулагин Матвей Вячеславович</td>\n",
       "      <td>Бухгалтер</td>\n",
       "    </tr>\n",
       "    <tr>\n",
       "      <th rowspan=\"2\" valign=\"top\">53800.0</th>\n",
       "      <th>100231</th>\n",
       "      <td>2022-12-31</td>\n",
       "      <td>Зайцев Вячеслав Тимурович</td>\n",
       "      <td>Бухгалтер</td>\n",
       "    </tr>\n",
       "    <tr>\n",
       "      <th>100231</th>\n",
       "      <td>2022-11-30</td>\n",
       "      <td>Зайцев Вячеслав Тимурович</td>\n",
       "      <td>Бухгалтер</td>\n",
       "    </tr>\n",
       "    <tr>\n",
       "      <th rowspan=\"2\" valign=\"top\">78300.0</th>\n",
       "      <th>100232</th>\n",
       "      <td>2022-11-30</td>\n",
       "      <td>Дегтярева Кристина Дмитриевна</td>\n",
       "      <td>Заместитель директора магазина</td>\n",
       "    </tr>\n",
       "    <tr>\n",
       "      <th>100232</th>\n",
       "      <td>2022-12-31</td>\n",
       "      <td>Дегтярева Кристина Дмитриевна</td>\n",
       "      <td>Заместитель директора магазина</td>\n",
       "    </tr>\n",
       "  </tbody>\n",
       "</table>\n",
       "<p>29372 rows × 3 columns</p>\n",
       "</div>"
      ],
      "text/plain": [
       "                 report_dt                            fio  \\\n",
       "salary  i_pernr                                             \n",
       "32100.0 0       2016-06-30    Дубинина Надежда Николаевна   \n",
       "31200.0 0       2016-03-31    Дубинина Надежда Николаевна   \n",
       "        0       2016-02-29    Дубинина Надежда Николаевна   \n",
       "        0       2016-04-30    Дубинина Надежда Николаевна   \n",
       "        0       2016-05-31    Дубинина Надежда Николаевна   \n",
       "...                    ...                            ...   \n",
       "48300.0 100230  2022-12-31    Кулагин Матвей Вячеславович   \n",
       "53800.0 100231  2022-12-31      Зайцев Вячеслав Тимурович   \n",
       "        100231  2022-11-30      Зайцев Вячеслав Тимурович   \n",
       "78300.0 100232  2022-11-30  Дегтярева Кристина Дмитриевна   \n",
       "        100232  2022-12-31  Дегтярева Кристина Дмитриевна   \n",
       "\n",
       "                                       pos_name  \n",
       "salary  i_pernr                                  \n",
       "32100.0 0                        Старший кассир  \n",
       "31200.0 0                        Старший кассир  \n",
       "        0                        Старший кассир  \n",
       "        0                        Старший кассир  \n",
       "        0                        Старший кассир  \n",
       "...                                         ...  \n",
       "48300.0 100230                        Бухгалтер  \n",
       "53800.0 100231                        Бухгалтер  \n",
       "        100231                        Бухгалтер  \n",
       "78300.0 100232   Заместитель директора магазина  \n",
       "        100232   Заместитель директора магазина  \n",
       "\n",
       "[29372 rows x 3 columns]"
      ]
     },
     "execution_count": 12,
     "metadata": {},
     "output_type": "execute_result"
    }
   ],
   "source": [
    "empl.set_index(['salary', 'i_pernr']).sort_index(level=['i_pernr', 0], ascending=[True, False])"
   ]
  },
  {
   "cell_type": "code",
   "execution_count": null,
   "id": "599d1f34",
   "metadata": {},
   "outputs": [],
   "source": []
  },
  {
   "cell_type": "code",
   "execution_count": null,
   "id": "4522ffd6",
   "metadata": {},
   "outputs": [],
   "source": []
  },
  {
   "cell_type": "code",
   "execution_count": null,
   "id": "a072cc3a",
   "metadata": {},
   "outputs": [],
   "source": []
  },
  {
   "cell_type": "code",
   "execution_count": null,
   "id": "2f396e59",
   "metadata": {},
   "outputs": [],
   "source": []
  },
  {
   "cell_type": "code",
   "execution_count": null,
   "id": "8bd310f6",
   "metadata": {},
   "outputs": [],
   "source": []
  },
  {
   "cell_type": "code",
   "execution_count": null,
   "id": "65372390",
   "metadata": {},
   "outputs": [],
   "source": []
  },
  {
   "cell_type": "code",
   "execution_count": null,
   "id": "45316bad",
   "metadata": {},
   "outputs": [],
   "source": []
  },
  {
   "cell_type": "code",
   "execution_count": null,
   "id": "56b37114",
   "metadata": {},
   "outputs": [],
   "source": []
  },
  {
   "cell_type": "code",
   "execution_count": null,
   "id": "e7fe0f39",
   "metadata": {},
   "outputs": [],
   "source": []
  },
  {
   "cell_type": "code",
   "execution_count": null,
   "id": "f15c3bad",
   "metadata": {},
   "outputs": [],
   "source": []
  },
  {
   "cell_type": "code",
   "execution_count": null,
   "id": "86bc1ae5",
   "metadata": {},
   "outputs": [],
   "source": []
  },
  {
   "cell_type": "code",
   "execution_count": null,
   "id": "66605e79",
   "metadata": {},
   "outputs": [],
   "source": []
  },
  {
   "cell_type": "code",
   "execution_count": null,
   "id": "76f04b0d",
   "metadata": {},
   "outputs": [],
   "source": []
  },
  {
   "cell_type": "code",
   "execution_count": null,
   "id": "4eaff8e6",
   "metadata": {},
   "outputs": [],
   "source": []
  },
  {
   "cell_type": "markdown",
   "id": "938bfe2c",
   "metadata": {},
   "source": [
    "### Метод sort_values удобно использовать вместе с методом drop_duplicates"
   ]
  },
  {
   "cell_type": "markdown",
   "id": "a9b4271e",
   "metadata": {},
   "source": [
    "Для каждого человека находим зарплату, с которой он впервые устраивался на работу"
   ]
  },
  {
   "cell_type": "code",
   "execution_count": 13,
   "id": "a0e9c2a2",
   "metadata": {},
   "outputs": [
    {
     "data": {
      "text/html": [
       "<div>\n",
       "<style scoped>\n",
       "    .dataframe tbody tr th:only-of-type {\n",
       "        vertical-align: middle;\n",
       "    }\n",
       "\n",
       "    .dataframe tbody tr th {\n",
       "        vertical-align: top;\n",
       "    }\n",
       "\n",
       "    .dataframe thead th {\n",
       "        text-align: right;\n",
       "    }\n",
       "</style>\n",
       "<table border=\"1\" class=\"dataframe\">\n",
       "  <thead>\n",
       "    <tr style=\"text-align: right;\">\n",
       "      <th></th>\n",
       "      <th>report_dt</th>\n",
       "      <th>i_pernr</th>\n",
       "      <th>fio</th>\n",
       "      <th>pos_name</th>\n",
       "      <th>salary</th>\n",
       "    </tr>\n",
       "  </thead>\n",
       "  <tbody>\n",
       "    <tr>\n",
       "      <th>5</th>\n",
       "      <td>2015-01-31</td>\n",
       "      <td>4</td>\n",
       "      <td>Никифоров Даниил Глебович</td>\n",
       "      <td>Продавец-консультант</td>\n",
       "      <td>15400.0</td>\n",
       "    </tr>\n",
       "    <tr>\n",
       "      <th>9</th>\n",
       "      <td>2015-01-31</td>\n",
       "      <td>8</td>\n",
       "      <td>Жилина Валерия Александровна</td>\n",
       "      <td>Продавец-консультант</td>\n",
       "      <td>15400.0</td>\n",
       "    </tr>\n",
       "    <tr>\n",
       "      <th>8</th>\n",
       "      <td>2015-01-31</td>\n",
       "      <td>7</td>\n",
       "      <td>Воробьев Семён Александрович</td>\n",
       "      <td>Продавец-консультант</td>\n",
       "      <td>15400.0</td>\n",
       "    </tr>\n",
       "    <tr>\n",
       "      <th>1</th>\n",
       "      <td>2015-01-31</td>\n",
       "      <td>0</td>\n",
       "      <td>Дубинина Надежда Николаевна</td>\n",
       "      <td>Старший кассир</td>\n",
       "      <td>20000.0</td>\n",
       "    </tr>\n",
       "    <tr>\n",
       "      <th>2</th>\n",
       "      <td>2015-01-31</td>\n",
       "      <td>1</td>\n",
       "      <td>Вишневскиая Валентина Константиновна</td>\n",
       "      <td>Кассир</td>\n",
       "      <td>12600.0</td>\n",
       "    </tr>\n",
       "    <tr>\n",
       "      <th>...</th>\n",
       "      <td>...</td>\n",
       "      <td>...</td>\n",
       "      <td>...</td>\n",
       "      <td>...</td>\n",
       "      <td>...</td>\n",
       "    </tr>\n",
       "    <tr>\n",
       "      <th>29067</th>\n",
       "      <td>2022-12-31</td>\n",
       "      <td>1941</td>\n",
       "      <td>Тихомирова Анна Дмитриевна</td>\n",
       "      <td>Продавец-консультант</td>\n",
       "      <td>27000.0</td>\n",
       "    </tr>\n",
       "    <tr>\n",
       "      <th>29043</th>\n",
       "      <td>2022-12-31</td>\n",
       "      <td>1924</td>\n",
       "      <td>Касаткина Мария Тимуровна</td>\n",
       "      <td>Продавец-консультант</td>\n",
       "      <td>26400.0</td>\n",
       "    </tr>\n",
       "    <tr>\n",
       "      <th>29110</th>\n",
       "      <td>2022-12-31</td>\n",
       "      <td>1943</td>\n",
       "      <td>Минаев Глеб Алексеевич</td>\n",
       "      <td>Продавец-консультант</td>\n",
       "      <td>27000.0</td>\n",
       "    </tr>\n",
       "    <tr>\n",
       "      <th>29073</th>\n",
       "      <td>2022-12-31</td>\n",
       "      <td>1942</td>\n",
       "      <td>Черкасов Борис Семенович</td>\n",
       "      <td>Продавец-консультант</td>\n",
       "      <td>27000.0</td>\n",
       "    </tr>\n",
       "    <tr>\n",
       "      <th>29151</th>\n",
       "      <td>2022-12-31</td>\n",
       "      <td>1929</td>\n",
       "      <td>Пономарева Варвара Олеговна</td>\n",
       "      <td>Кассир</td>\n",
       "      <td>21500.0</td>\n",
       "    </tr>\n",
       "  </tbody>\n",
       "</table>\n",
       "<p>2177 rows × 5 columns</p>\n",
       "</div>"
      ],
      "text/plain": [
       "       report_dt  i_pernr                                   fio  \\\n",
       "5     2015-01-31        4             Никифоров Даниил Глебович   \n",
       "9     2015-01-31        8          Жилина Валерия Александровна   \n",
       "8     2015-01-31        7          Воробьев Семён Александрович   \n",
       "1     2015-01-31        0           Дубинина Надежда Николаевна   \n",
       "2     2015-01-31        1  Вишневскиая Валентина Константиновна   \n",
       "...          ...      ...                                   ...   \n",
       "29067 2022-12-31     1941            Тихомирова Анна Дмитриевна   \n",
       "29043 2022-12-31     1924             Касаткина Мария Тимуровна   \n",
       "29110 2022-12-31     1943                Минаев Глеб Алексеевич   \n",
       "29073 2022-12-31     1942              Черкасов Борис Семенович   \n",
       "29151 2022-12-31     1929           Пономарева Варвара Олеговна   \n",
       "\n",
       "                   pos_name   salary  \n",
       "5      Продавец-консультант  15400.0  \n",
       "9      Продавец-консультант  15400.0  \n",
       "8      Продавец-консультант  15400.0  \n",
       "1            Старший кассир  20000.0  \n",
       "2                    Кассир  12600.0  \n",
       "...                     ...      ...  \n",
       "29067  Продавец-консультант  27000.0  \n",
       "29043  Продавец-консультант  26400.0  \n",
       "29110  Продавец-консультант  27000.0  \n",
       "29073  Продавец-консультант  27000.0  \n",
       "29151                Кассир  21500.0  \n",
       "\n",
       "[2177 rows x 5 columns]"
      ]
     },
     "execution_count": 13,
     "metadata": {},
     "output_type": "execute_result"
    }
   ],
   "source": [
    "empl.sort_values('report_dt').drop_duplicates('i_pernr')"
   ]
  },
  {
   "cell_type": "markdown",
   "id": "bac83895",
   "metadata": {},
   "source": [
    "Для каждого человека находим последнюю зарплату"
   ]
  },
  {
   "cell_type": "code",
   "execution_count": 14,
   "id": "66ec6a38",
   "metadata": {},
   "outputs": [
    {
     "data": {
      "text/html": [
       "<div>\n",
       "<style scoped>\n",
       "    .dataframe tbody tr th:only-of-type {\n",
       "        vertical-align: middle;\n",
       "    }\n",
       "\n",
       "    .dataframe tbody tr th {\n",
       "        vertical-align: top;\n",
       "    }\n",
       "\n",
       "    .dataframe thead th {\n",
       "        text-align: right;\n",
       "    }\n",
       "</style>\n",
       "<table border=\"1\" class=\"dataframe\">\n",
       "  <thead>\n",
       "    <tr style=\"text-align: right;\">\n",
       "      <th></th>\n",
       "      <th>report_dt</th>\n",
       "      <th>i_pernr</th>\n",
       "      <th>fio</th>\n",
       "      <th>pos_name</th>\n",
       "      <th>salary</th>\n",
       "    </tr>\n",
       "  </thead>\n",
       "  <tbody>\n",
       "    <tr>\n",
       "      <th>146</th>\n",
       "      <td>2015-07-31</td>\n",
       "      <td>11</td>\n",
       "      <td>Мельников Игорь Семёнович</td>\n",
       "      <td>Кассир</td>\n",
       "      <td>12800.0</td>\n",
       "    </tr>\n",
       "    <tr>\n",
       "      <th>151</th>\n",
       "      <td>2015-07-31</td>\n",
       "      <td>7</td>\n",
       "      <td>Воробьев Семён Александрович</td>\n",
       "      <td>Продавец-консультант</td>\n",
       "      <td>15400.0</td>\n",
       "    </tr>\n",
       "    <tr>\n",
       "      <th>180</th>\n",
       "      <td>2015-08-31</td>\n",
       "      <td>100000</td>\n",
       "      <td>Кожевников Андрей Максимович</td>\n",
       "      <td>Директор магазина</td>\n",
       "      <td>45700.0</td>\n",
       "    </tr>\n",
       "    <tr>\n",
       "      <th>251</th>\n",
       "      <td>2015-09-30</td>\n",
       "      <td>22</td>\n",
       "      <td>Ершова Маргарита Николаевна</td>\n",
       "      <td>Продавец-консультант</td>\n",
       "      <td>26400.0</td>\n",
       "    </tr>\n",
       "    <tr>\n",
       "      <th>291</th>\n",
       "      <td>2015-10-31</td>\n",
       "      <td>34</td>\n",
       "      <td>Свиридова Виктория Тимуровна</td>\n",
       "      <td>Продавец-консультант</td>\n",
       "      <td>26800.0</td>\n",
       "    </tr>\n",
       "    <tr>\n",
       "      <th>...</th>\n",
       "      <td>...</td>\n",
       "      <td>...</td>\n",
       "      <td>...</td>\n",
       "      <td>...</td>\n",
       "      <td>...</td>\n",
       "    </tr>\n",
       "    <tr>\n",
       "      <th>29013</th>\n",
       "      <td>2022-12-31</td>\n",
       "      <td>1667</td>\n",
       "      <td>Комаров Степан Захарович</td>\n",
       "      <td>Продавец-консультант</td>\n",
       "      <td>30800.0</td>\n",
       "    </tr>\n",
       "    <tr>\n",
       "      <th>29053</th>\n",
       "      <td>2022-12-31</td>\n",
       "      <td>1569</td>\n",
       "      <td>Петухова Татьяна Антоновна</td>\n",
       "      <td>Продавец-консультант</td>\n",
       "      <td>38000.0</td>\n",
       "    </tr>\n",
       "    <tr>\n",
       "      <th>29285</th>\n",
       "      <td>2022-12-31</td>\n",
       "      <td>1818</td>\n",
       "      <td>Онищенко Павел Максимович</td>\n",
       "      <td>Кассир</td>\n",
       "      <td>21100.0</td>\n",
       "    </tr>\n",
       "    <tr>\n",
       "      <th>29271</th>\n",
       "      <td>2022-12-31</td>\n",
       "      <td>1866</td>\n",
       "      <td>Дьякова Алена Антоновна</td>\n",
       "      <td>Продавец-консультант</td>\n",
       "      <td>26000.0</td>\n",
       "    </tr>\n",
       "    <tr>\n",
       "      <th>29339</th>\n",
       "      <td>2022-12-31</td>\n",
       "      <td>1745</td>\n",
       "      <td>Балашова Александра Владиславовна</td>\n",
       "      <td>Продавец-консультант</td>\n",
       "      <td>38700.0</td>\n",
       "    </tr>\n",
       "  </tbody>\n",
       "</table>\n",
       "<p>2177 rows × 5 columns</p>\n",
       "</div>"
      ],
      "text/plain": [
       "       report_dt  i_pernr                                fio  \\\n",
       "146   2015-07-31       11          Мельников Игорь Семёнович   \n",
       "151   2015-07-31        7       Воробьев Семён Александрович   \n",
       "180   2015-08-31   100000       Кожевников Андрей Максимович   \n",
       "251   2015-09-30       22        Ершова Маргарита Николаевна   \n",
       "291   2015-10-31       34       Свиридова Виктория Тимуровна   \n",
       "...          ...      ...                                ...   \n",
       "29013 2022-12-31     1667           Комаров Степан Захарович   \n",
       "29053 2022-12-31     1569         Петухова Татьяна Антоновна   \n",
       "29285 2022-12-31     1818          Онищенко Павел Максимович   \n",
       "29271 2022-12-31     1866            Дьякова Алена Антоновна   \n",
       "29339 2022-12-31     1745  Балашова Александра Владиславовна   \n",
       "\n",
       "                   pos_name   salary  \n",
       "146                  Кассир  12800.0  \n",
       "151    Продавец-консультант  15400.0  \n",
       "180       Директор магазина  45700.0  \n",
       "251    Продавец-консультант  26400.0  \n",
       "291    Продавец-консультант  26800.0  \n",
       "...                     ...      ...  \n",
       "29013  Продавец-консультант  30800.0  \n",
       "29053  Продавец-консультант  38000.0  \n",
       "29285                Кассир  21100.0  \n",
       "29271  Продавец-консультант  26000.0  \n",
       "29339  Продавец-консультант  38700.0  \n",
       "\n",
       "[2177 rows x 5 columns]"
      ]
     },
     "execution_count": 14,
     "metadata": {},
     "output_type": "execute_result"
    }
   ],
   "source": [
    "empl.sort_values('report_dt').drop_duplicates('i_pernr', keep='last')"
   ]
  },
  {
   "cell_type": "code",
   "execution_count": null,
   "id": "481920d4",
   "metadata": {},
   "outputs": [],
   "source": []
  },
  {
   "cell_type": "code",
   "execution_count": null,
   "id": "1697b2a5",
   "metadata": {},
   "outputs": [],
   "source": []
  },
  {
   "cell_type": "code",
   "execution_count": null,
   "id": "afb272ed",
   "metadata": {},
   "outputs": [],
   "source": []
  },
  {
   "cell_type": "code",
   "execution_count": null,
   "id": "6cd64dd8",
   "metadata": {},
   "outputs": [],
   "source": []
  },
  {
   "cell_type": "code",
   "execution_count": null,
   "id": "d26e8314",
   "metadata": {},
   "outputs": [],
   "source": []
  },
  {
   "cell_type": "code",
   "execution_count": null,
   "id": "05278644",
   "metadata": {},
   "outputs": [],
   "source": []
  },
  {
   "cell_type": "code",
   "execution_count": null,
   "id": "97c120d2",
   "metadata": {},
   "outputs": [],
   "source": []
  },
  {
   "cell_type": "code",
   "execution_count": null,
   "id": "2b6fa0fb",
   "metadata": {},
   "outputs": [],
   "source": []
  },
  {
   "cell_type": "code",
   "execution_count": null,
   "id": "0d192490",
   "metadata": {},
   "outputs": [],
   "source": []
  },
  {
   "cell_type": "code",
   "execution_count": null,
   "id": "6fa11020",
   "metadata": {},
   "outputs": [],
   "source": []
  },
  {
   "cell_type": "code",
   "execution_count": null,
   "id": "5dbc7a36",
   "metadata": {},
   "outputs": [],
   "source": []
  },
  {
   "cell_type": "code",
   "execution_count": null,
   "id": "5329ca99",
   "metadata": {},
   "outputs": [],
   "source": []
  },
  {
   "cell_type": "code",
   "execution_count": null,
   "id": "26923227",
   "metadata": {},
   "outputs": [],
   "source": []
  },
  {
   "cell_type": "code",
   "execution_count": null,
   "id": "21933744",
   "metadata": {},
   "outputs": [],
   "source": []
  },
  {
   "cell_type": "code",
   "execution_count": null,
   "id": "e255fd1e",
   "metadata": {},
   "outputs": [],
   "source": []
  },
  {
   "cell_type": "code",
   "execution_count": null,
   "id": "108b6b4b",
   "metadata": {},
   "outputs": [],
   "source": []
  },
  {
   "cell_type": "code",
   "execution_count": null,
   "id": "fde45486",
   "metadata": {},
   "outputs": [],
   "source": []
  },
  {
   "cell_type": "code",
   "execution_count": null,
   "id": "57a28c37",
   "metadata": {},
   "outputs": [],
   "source": []
  },
  {
   "cell_type": "markdown",
   "id": "ae386001",
   "metadata": {},
   "source": [
    "## rank\n",
    "\n",
    "Метод ранжирует наблюдения. Говорит каким по счету оно будет в отсортированном массиве"
   ]
  },
  {
   "cell_type": "markdown",
   "id": "2ceeb5c6",
   "metadata": {},
   "source": [
    "Метод может пригодиться если стоит задача найти какое-то по счету значение, например, второе по возрастанию"
   ]
  },
  {
   "cell_type": "code",
   "execution_count": 15,
   "id": "4bbc88fb",
   "metadata": {},
   "outputs": [
    {
     "data": {
      "text/plain": [
       "5472      21300.0\n",
       "2943      20500.0\n",
       "27274    123000.0\n",
       "20345     28300.0\n",
       "16129     34100.0\n",
       "Name: salary, dtype: float64"
      ]
     },
     "execution_count": 15,
     "metadata": {},
     "output_type": "execute_result"
    }
   ],
   "source": [
    "empl.iloc[:5, -1]"
   ]
  },
  {
   "cell_type": "code",
   "execution_count": 16,
   "id": "1d2b5bb2",
   "metadata": {},
   "outputs": [
    {
     "data": {
      "text/plain": [
       "5472     2.0\n",
       "2943     1.0\n",
       "27274    5.0\n",
       "20345    3.0\n",
       "16129    4.0\n",
       "Name: salary, dtype: float64"
      ]
     },
     "execution_count": 16,
     "metadata": {},
     "output_type": "execute_result"
    }
   ],
   "source": [
    "empl.iloc[:5, -1].rank()"
   ]
  },
  {
   "cell_type": "code",
   "execution_count": null,
   "id": "906d181f",
   "metadata": {},
   "outputs": [],
   "source": []
  },
  {
   "cell_type": "code",
   "execution_count": null,
   "id": "1cc8dc1b",
   "metadata": {},
   "outputs": [],
   "source": []
  },
  {
   "cell_type": "code",
   "execution_count": null,
   "id": "da790ab8",
   "metadata": {},
   "outputs": [],
   "source": []
  },
  {
   "cell_type": "code",
   "execution_count": null,
   "id": "e6f28eb2",
   "metadata": {},
   "outputs": [],
   "source": []
  },
  {
   "cell_type": "code",
   "execution_count": null,
   "id": "9d03829e",
   "metadata": {},
   "outputs": [],
   "source": []
  },
  {
   "cell_type": "code",
   "execution_count": null,
   "id": "9fda8b3e",
   "metadata": {},
   "outputs": [],
   "source": []
  },
  {
   "cell_type": "code",
   "execution_count": null,
   "id": "214ab700",
   "metadata": {},
   "outputs": [],
   "source": []
  },
  {
   "cell_type": "markdown",
   "id": "b3ac540c",
   "metadata": {},
   "source": [
    "#### Разные методы работы с повторяющимися значениями"
   ]
  },
  {
   "cell_type": "markdown",
   "id": "47e9e49e",
   "metadata": {},
   "source": [
    "method = method{‘average’, ‘min’, ‘max’, ‘first’, ‘dense’}, default ‘average’"
   ]
  },
  {
   "cell_type": "code",
   "execution_count": 17,
   "id": "52adbbae",
   "metadata": {},
   "outputs": [
    {
     "data": {
      "text/plain": [
       "20345    28300.0\n",
       "6281     61200.0\n",
       "20795    28300.0\n",
       "17321    23300.0\n",
       "Name: salary, dtype: float64"
      ]
     },
     "execution_count": 17,
     "metadata": {},
     "output_type": "execute_result"
    }
   ],
   "source": [
    "empl.iloc[[3, 5, 10, 23], -1]"
   ]
  },
  {
   "cell_type": "code",
   "execution_count": 18,
   "id": "b1aa567a",
   "metadata": {},
   "outputs": [
    {
     "data": {
      "text/plain": [
       "20345    2.5\n",
       "6281     4.0\n",
       "20795    2.5\n",
       "17321    1.0\n",
       "Name: salary, dtype: float64"
      ]
     },
     "execution_count": 18,
     "metadata": {},
     "output_type": "execute_result"
    }
   ],
   "source": [
    "empl.iloc[[3, 5, 10, 23], -1].rank()"
   ]
  },
  {
   "cell_type": "code",
   "execution_count": 19,
   "id": "5bc48b39",
   "metadata": {},
   "outputs": [
    {
     "data": {
      "text/plain": [
       "20345    2.0\n",
       "6281     4.0\n",
       "20795    2.0\n",
       "17321    1.0\n",
       "Name: salary, dtype: float64"
      ]
     },
     "execution_count": 19,
     "metadata": {},
     "output_type": "execute_result"
    }
   ],
   "source": [
    "empl.iloc[[3, 5, 10, 23], -1].rank(method='min')"
   ]
  },
  {
   "cell_type": "code",
   "execution_count": 20,
   "id": "c29b3161",
   "metadata": {},
   "outputs": [
    {
     "data": {
      "text/plain": [
       "20345    3.0\n",
       "6281     4.0\n",
       "20795    3.0\n",
       "17321    1.0\n",
       "Name: salary, dtype: float64"
      ]
     },
     "execution_count": 20,
     "metadata": {},
     "output_type": "execute_result"
    }
   ],
   "source": [
    "empl.iloc[[3, 5, 10, 23], -1].rank(method='max')"
   ]
  },
  {
   "cell_type": "code",
   "execution_count": 21,
   "id": "a07728fe",
   "metadata": {},
   "outputs": [
    {
     "data": {
      "text/plain": [
       "20345    2.0\n",
       "6281     4.0\n",
       "20795    3.0\n",
       "17321    1.0\n",
       "Name: salary, dtype: float64"
      ]
     },
     "execution_count": 21,
     "metadata": {},
     "output_type": "execute_result"
    }
   ],
   "source": [
    "empl.iloc[[3, 5, 10, 23], -1].rank(method='first')"
   ]
  },
  {
   "cell_type": "code",
   "execution_count": 22,
   "id": "b647cbb5",
   "metadata": {},
   "outputs": [
    {
     "data": {
      "text/plain": [
       "20345    2.0\n",
       "6281     3.0\n",
       "20795    2.0\n",
       "17321    1.0\n",
       "Name: salary, dtype: float64"
      ]
     },
     "execution_count": 22,
     "metadata": {},
     "output_type": "execute_result"
    }
   ],
   "source": [
    "empl.iloc[[3, 5, 10, 23], -1].rank(method='dense')"
   ]
  },
  {
   "cell_type": "code",
   "execution_count": null,
   "id": "b9718790",
   "metadata": {},
   "outputs": [],
   "source": []
  },
  {
   "cell_type": "code",
   "execution_count": null,
   "id": "0314754f",
   "metadata": {},
   "outputs": [],
   "source": []
  },
  {
   "cell_type": "markdown",
   "id": "31c92ecd",
   "metadata": {},
   "source": [
    "#### Ранжирование в обратном порядке"
   ]
  },
  {
   "cell_type": "code",
   "execution_count": 23,
   "id": "3600a5ab",
   "metadata": {},
   "outputs": [
    {
     "data": {
      "text/plain": [
       "20345    28300.0\n",
       "6281     61200.0\n",
       "20795    28300.0\n",
       "17321    23300.0\n",
       "Name: salary, dtype: float64"
      ]
     },
     "execution_count": 23,
     "metadata": {},
     "output_type": "execute_result"
    }
   ],
   "source": [
    "empl.iloc[[3, 5, 10, 23], -1]"
   ]
  },
  {
   "cell_type": "code",
   "execution_count": 24,
   "id": "a40f9611",
   "metadata": {},
   "outputs": [
    {
     "data": {
      "text/plain": [
       "20345    2.5\n",
       "6281     1.0\n",
       "20795    2.5\n",
       "17321    4.0\n",
       "Name: salary, dtype: float64"
      ]
     },
     "execution_count": 24,
     "metadata": {},
     "output_type": "execute_result"
    }
   ],
   "source": [
    "empl.iloc[[3, 5, 10, 23], -1].rank(ascending=False)"
   ]
  },
  {
   "cell_type": "code",
   "execution_count": 25,
   "id": "faf03fa2",
   "metadata": {},
   "outputs": [
    {
     "name": "stderr",
     "output_type": "stream",
     "text": [
      "C:\\Users\\Panda\\AppData\\Local\\Temp\\ipykernel_9672\\994604549.py:2: FutureWarning: The behavior of 'isin' with dtype=datetime64[us] and castable values (e.g. strings) is deprecated. In a future version, these will not be considered matching by isin. Explicitly cast to the appropriate dtype before calling isin instead.\n",
      "  .query('report_dt == \"2022-12-31\"')\n"
     ]
    },
    {
     "data": {
      "text/html": [
       "<div>\n",
       "<style scoped>\n",
       "    .dataframe tbody tr th:only-of-type {\n",
       "        vertical-align: middle;\n",
       "    }\n",
       "\n",
       "    .dataframe tbody tr th {\n",
       "        vertical-align: top;\n",
       "    }\n",
       "\n",
       "    .dataframe thead th {\n",
       "        text-align: right;\n",
       "    }\n",
       "</style>\n",
       "<table border=\"1\" class=\"dataframe\">\n",
       "  <thead>\n",
       "    <tr style=\"text-align: right;\">\n",
       "      <th></th>\n",
       "      <th>report_dt</th>\n",
       "      <th>i_pernr</th>\n",
       "      <th>fio</th>\n",
       "      <th>pos_name</th>\n",
       "      <th>salary</th>\n",
       "    </tr>\n",
       "  </thead>\n",
       "  <tbody>\n",
       "    <tr>\n",
       "      <th>29124</th>\n",
       "      <td>2022-12-31</td>\n",
       "      <td>100224</td>\n",
       "      <td>Цветков Захар Сергеевич</td>\n",
       "      <td>Заместитель директора магазина</td>\n",
       "      <td>111200.0</td>\n",
       "    </tr>\n",
       "    <tr>\n",
       "      <th>28900</th>\n",
       "      <td>2022-12-31</td>\n",
       "      <td>100221</td>\n",
       "      <td>Жданова Вероника Валерьевна</td>\n",
       "      <td>Заместитель директора магазина</td>\n",
       "      <td>111200.0</td>\n",
       "    </tr>\n",
       "  </tbody>\n",
       "</table>\n",
       "</div>"
      ],
      "text/plain": [
       "       report_dt  i_pernr                          fio  \\\n",
       "29124 2022-12-31   100224      Цветков Захар Сергеевич   \n",
       "28900 2022-12-31   100221  Жданова Вероника Валерьевна   \n",
       "\n",
       "                             pos_name    salary  \n",
       "29124  Заместитель директора магазина  111200.0  \n",
       "28900  Заместитель директора магазина  111200.0  "
      ]
     },
     "execution_count": 25,
     "metadata": {},
     "output_type": "execute_result"
    }
   ],
   "source": [
    "(empl\n",
    "    .query('report_dt == \"2022-12-31\"')\n",
    "    .query('salary.rank(method=\"dense\") == 95')\n",
    ")"
   ]
  },
  {
   "cell_type": "code",
   "execution_count": null,
   "id": "045accac",
   "metadata": {},
   "outputs": [],
   "source": []
  },
  {
   "cell_type": "code",
   "execution_count": null,
   "id": "d871bbf5",
   "metadata": {},
   "outputs": [],
   "source": []
  },
  {
   "cell_type": "code",
   "execution_count": null,
   "id": "0dbb3375",
   "metadata": {},
   "outputs": [],
   "source": []
  },
  {
   "cell_type": "code",
   "execution_count": null,
   "id": "3bd721cc",
   "metadata": {},
   "outputs": [],
   "source": []
  },
  {
   "cell_type": "code",
   "execution_count": null,
   "id": "bc7d7fd3",
   "metadata": {},
   "outputs": [],
   "source": []
  },
  {
   "cell_type": "code",
   "execution_count": null,
   "id": "eca5fb64",
   "metadata": {},
   "outputs": [],
   "source": []
  },
  {
   "cell_type": "code",
   "execution_count": null,
   "id": "75cff573",
   "metadata": {},
   "outputs": [],
   "source": []
  },
  {
   "cell_type": "code",
   "execution_count": null,
   "id": "6d0c0703",
   "metadata": {},
   "outputs": [],
   "source": []
  },
  {
   "cell_type": "code",
   "execution_count": null,
   "id": "7bbe68d1",
   "metadata": {},
   "outputs": [],
   "source": []
  },
  {
   "cell_type": "code",
   "execution_count": null,
   "id": "0c2c58a8",
   "metadata": {},
   "outputs": [],
   "source": []
  },
  {
   "cell_type": "markdown",
   "id": "5f72d08f",
   "metadata": {},
   "source": [
    "# Задания"
   ]
  },
  {
   "cell_type": "markdown",
   "id": "797f696f",
   "metadata": {},
   "source": [
    "#### Описание таблиц лежит [здесь](https://github.com/victorlymarev/pandas/tree/main/tables#%D0%BE%D0%BF%D0%B8%D1%81%D0%B0%D0%BD%D0%B8%D0%B5-%D1%82%D0%B0%D0%B1%D0%BB%D0%B8%D1%86)"
   ]
  },
  {
   "cell_type": "markdown",
   "id": "aa6dc947",
   "metadata": {},
   "source": [
    "Некоторые таблицы занимают много памяти, поэтому каждые 5-10 заданий лучше перезапускайте ноутбук.\n",
    "\n",
    "В формулировке некоторых заданий может содержаться вариативность. Если у вас есть сомнения, что требуется в задании, попробуйте решить несколько вариантов. Если вы не понимаете задание, можете написать об этом в комментариях под видео.\n",
    "\n",
    "В большинстве случаев внешний вид итоговой таблицы не определен. Выведите на экран наиболее адекватный вариант. То есть таблицу, из которой можно будет сделать выводы.\n",
    "\n",
    "Курс пока находится в разработке. Вы можете помочь другим людям добавив свое решение [сюда](https://docs.google.com/forms/d/1HYTBz_KfssY3Jps2dC3n0YnEqa6WBb5OIhLo1d32Xzw/edit).\n",
    "\n",
    "Посмотреть решения других людей можно [здесь](https://docs.google.com/spreadsheets/d/1pMDYO-9UneLbPPnEuQ2shig0TOJdQTU-zipifyAnZMk/edit?resourcekey#gid=1998648012)"
   ]
  },
  {
   "cell_type": "markdown",
   "id": "2d5a1bac",
   "metadata": {},
   "source": [
    "### Задание 1\n",
    "\n",
    "Отсортируйте таблицу по возрастанию дат. Строки с одинаковой датой отсортируйте по убыванию цены"
   ]
  },
  {
   "cell_type": "code",
   "execution_count": null,
   "id": "d99c3341",
   "metadata": {},
   "outputs": [],
   "source": [
    "import os\n",
    "import pandas as pd\n",
    "\n",
    "path_prices = '../tables/prices.parquet' if os.path.exists('../tables/prices.parquet') else 'https://drive.google.com/uc?id=1_KfYyYCsib8woanbP3VouLUpYp103dV5'\n",
    "\n",
    "prices = pd.read_parquet(path_prices)\n",
    "prices.head()"
   ]
  },
  {
   "cell_type": "markdown",
   "id": "cfac9062",
   "metadata": {},
   "source": [
    "### Задание 2\n",
    "Отсортируйте таблицу сначала по табельному номеру, а затем по зарплате"
   ]
  },
  {
   "cell_type": "code",
   "execution_count": null,
   "id": "66f4bc4e",
   "metadata": {},
   "outputs": [],
   "source": [
    "import os\n",
    "import pandas as pd\n",
    "\n",
    "path_empl = '../tables/employees.parquet' if os.path.exists('../tables/employees.parquet') else 'https://drive.google.com/uc?id=1AARD5-eVlCxoApt5CYZebrC3Cqw42lvj'\n",
    "\n",
    "empl = pd.read_parquet(path_empl)\n",
    "empl.head()"
   ]
  },
  {
   "cell_type": "markdown",
   "id": "996595e1",
   "metadata": {},
   "source": [
    "### Задание 3\n",
    "Отсортируйте таблицу по убыванию дат"
   ]
  },
  {
   "cell_type": "code",
   "execution_count": null,
   "id": "72ff0cb8",
   "metadata": {},
   "outputs": [],
   "source": [
    "import os\n",
    "import pandas as pd\n",
    "\n",
    "path_stocks = '../tables/stocks.parquet' if os.path.exists('../tables/stocks.parquet') else 'https://drive.google.com/uc?id=1weGquTtmR92mKYAeZhZCFHJjndyoSXZt'\n",
    "\n",
    "stocks = pd.read_parquet(path_stocks)\n",
    "stocks.head()"
   ]
  },
  {
   "cell_type": "code",
   "execution_count": null,
   "id": "5232aada",
   "metadata": {},
   "outputs": [],
   "source": [
    "\n",
    "# напишите свой код здесь"
   ]
  },
  {
   "cell_type": "markdown",
   "id": "c84701cb",
   "metadata": {},
   "source": [
    "### Задание 4\n",
    "Отсортируйте магазины так, чтобы сначала шли мелкие магазины, потом средние, а в конце крупные"
   ]
  },
  {
   "cell_type": "markdown",
   "id": "66626742",
   "metadata": {},
   "source": [
    "<details>\n",
    "\n",
    "<summary>Подсказка</summary>\n",
    " \n",
    "Здесь вам помогут методы set_index и loc\n",
    "\n",
    "</details>\n"
   ]
  },
  {
   "cell_type": "code",
   "execution_count": null,
   "id": "ebac8e70",
   "metadata": {},
   "outputs": [],
   "source": [
    "import os\n",
    "import pandas as pd\n",
    "\n",
    "path_shops = '../tables/shops.xlsx' if os.path.exists('../tables/shops.xlsx') else 'https://drive.google.com/uc?id=1gfnmceJa3Mc1X06NftTx9G9QfKfprjEB'\n",
    "\n",
    "shops = pd.read_excel(path_shops)\n",
    "shops.head()"
   ]
  },
  {
   "cell_type": "code",
   "execution_count": null,
   "id": "fe1a4d52",
   "metadata": {},
   "outputs": [],
   "source": [
    "# напишите свой код здесь"
   ]
  },
  {
   "cell_type": "markdown",
   "id": "aad1924e",
   "metadata": {},
   "source": [
    "### Задание 5\n",
    "По таблице sales найдите стоимость самого дорогово товара в чеке"
   ]
  },
  {
   "cell_type": "code",
   "execution_count": null,
   "id": "4ff43548",
   "metadata": {},
   "outputs": [],
   "source": [
    "import os\n",
    "import pandas as pd\n",
    "\n",
    "path_sales_sample_check = '../tables/sales_sample_check.parquet' if os.path.exists('../tables/sales_sample_check.parquet') else 'https://drive.google.com/uc?id=1oYT518oqGnEF51PSFHfSHYNP-690ktFL'\n",
    "# path_sales = '../tables/sales.parquet' if os.path.exists('../tables/sales.parquet') else \"https://drive.usercontent.google.com/download?id=15KwSxyM6hpNABGe6_vsrFZvD09VfHFyK&export=download&authuser=1&confirm=t&uuid=115bd48c-cc2c-4f2a-8b42-be5ca6ef6db8&at=APZUnTUVb8nfNANw5wr9Cad7PJ3U:1693327774694\"\n",
    "\n",
    "sales = pd.read_parquet(path_sales_sample_check)\n",
    "sales.head()"
   ]
  },
  {
   "cell_type": "code",
   "execution_count": null,
   "id": "393b4d8e",
   "metadata": {},
   "outputs": [],
   "source": [
    "# напишите свой код здесь"
   ]
  },
  {
   "cell_type": "markdown",
   "id": "81056773",
   "metadata": {},
   "source": [
    "### Задание 6\n",
    "Чему равна третья самая высокая зарплата за май 2020 года в плотно отранжированном ряду"
   ]
  },
  {
   "cell_type": "code",
   "execution_count": null,
   "id": "e2d0061e",
   "metadata": {},
   "outputs": [],
   "source": [
    "import os\n",
    "import pandas as pd\n",
    "\n",
    "path_empl = '../tables/employees.parquet' if os.path.exists('../tables/employees.parquet') else 'https://drive.google.com/uc?id=1AARD5-eVlCxoApt5CYZebrC3Cqw42lvj'\n",
    "\n",
    "empl = pd.read_parquet(path_empl)\n",
    "empl.head()"
   ]
  },
  {
   "cell_type": "code",
   "execution_count": null,
   "id": "7def84a5",
   "metadata": {},
   "outputs": [],
   "source": [
    "# напишите свой код здесь"
   ]
  },
  {
   "cell_type": "code",
   "execution_count": null,
   "id": "f31fd874",
   "metadata": {},
   "outputs": [],
   "source": []
  },
  {
   "cell_type": "code",
   "execution_count": null,
   "id": "8da1f078",
   "metadata": {},
   "outputs": [],
   "source": []
  },
  {
   "cell_type": "code",
   "execution_count": null,
   "id": "fc8dcfe7",
   "metadata": {},
   "outputs": [],
   "source": []
  },
  {
   "cell_type": "code",
   "execution_count": null,
   "id": "79df2ea5",
   "metadata": {},
   "outputs": [],
   "source": []
  },
  {
   "cell_type": "code",
   "execution_count": null,
   "id": "d6c98c1a",
   "metadata": {},
   "outputs": [],
   "source": []
  }
 ],
 "metadata": {
  "kernelspec": {
   "display_name": "Python 3 (ipykernel)",
   "language": "python",
   "name": "python3"
  },
  "language_info": {
   "codemirror_mode": {
    "name": "ipython",
    "version": 3
   },
   "file_extension": ".py",
   "mimetype": "text/x-python",
   "name": "python",
   "nbconvert_exporter": "python",
   "pygments_lexer": "ipython3",
   "version": "3.11.5"
  }
 },
 "nbformat": 4,
 "nbformat_minor": 5
}
