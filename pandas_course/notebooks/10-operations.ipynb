{
 "cells": [
  {
   "cell_type": "markdown",
   "id": "74ac051a",
   "metadata": {},
   "source": [
    "<a target=\"_blank\" href=\"https://colab.research.google.com/github/victorlymarev/pandas/blob/main/notebooks/10-operations.ipynb\">\n",
    "  <img src=\"https://colab.research.google.com/assets/colab-badge.svg\" alt=\"Open In Colab\"/>\n",
    "</a>"
   ]
  },
  {
   "cell_type": "markdown",
   "id": "2da6f904",
   "metadata": {},
   "source": [
    "# Операции с числами и строками\n",
    "#### [Ссылка на видео](https://youtu.be/km18qCeo99I)"
   ]
  },
  {
   "cell_type": "code",
   "execution_count": 2,
   "id": "2a632d18",
   "metadata": {},
   "outputs": [],
   "source": [
    "import pandas as pd\n",
    "import numpy as np"
   ]
  },
  {
   "cell_type": "markdown",
   "id": "04c3b09e",
   "metadata": {},
   "source": [
    "Создаем датафрейм"
   ]
  },
  {
   "cell_type": "code",
   "execution_count": 3,
   "id": "f93f2114",
   "metadata": {},
   "outputs": [],
   "source": [
    "df = pd.DataFrame({'Колонка 1': [1, 2, 3, 4, 5, 6],\n",
    "              'Колонка 2': [6, 5, 4, 3, 2, 1],\n",
    "              'Колонка 3': [np.nan, 3, 5, 0, 9, 11],\n",
    "              'Имя': ['Миша', 'Саша', 'Юля',\n",
    "                            'Настя', 'Андрей', 'Катя'],\n",
    "              'Увлечение': ['Баскетбол', 'Хоккей', 'Волейбол',\n",
    "                            'Футбол', 'Counter-Strike', 'Бильярд']\n",
    "             })"
   ]
  },
  {
   "cell_type": "code",
   "execution_count": 4,
   "id": "27d9a8cc",
   "metadata": {},
   "outputs": [
    {
     "data": {
      "text/html": [
       "<div>\n",
       "<style scoped>\n",
       "    .dataframe tbody tr th:only-of-type {\n",
       "        vertical-align: middle;\n",
       "    }\n",
       "\n",
       "    .dataframe tbody tr th {\n",
       "        vertical-align: top;\n",
       "    }\n",
       "\n",
       "    .dataframe thead th {\n",
       "        text-align: right;\n",
       "    }\n",
       "</style>\n",
       "<table border=\"1\" class=\"dataframe\">\n",
       "  <thead>\n",
       "    <tr style=\"text-align: right;\">\n",
       "      <th></th>\n",
       "      <th>Колонка 1</th>\n",
       "      <th>Колонка 2</th>\n",
       "      <th>Колонка 3</th>\n",
       "      <th>Имя</th>\n",
       "      <th>Увлечение</th>\n",
       "    </tr>\n",
       "  </thead>\n",
       "  <tbody>\n",
       "    <tr>\n",
       "      <th>0</th>\n",
       "      <td>1</td>\n",
       "      <td>6</td>\n",
       "      <td>NaN</td>\n",
       "      <td>Миша</td>\n",
       "      <td>Баскетбол</td>\n",
       "    </tr>\n",
       "    <tr>\n",
       "      <th>1</th>\n",
       "      <td>2</td>\n",
       "      <td>5</td>\n",
       "      <td>3.0</td>\n",
       "      <td>Саша</td>\n",
       "      <td>Хоккей</td>\n",
       "    </tr>\n",
       "    <tr>\n",
       "      <th>2</th>\n",
       "      <td>3</td>\n",
       "      <td>4</td>\n",
       "      <td>5.0</td>\n",
       "      <td>Юля</td>\n",
       "      <td>Волейбол</td>\n",
       "    </tr>\n",
       "    <tr>\n",
       "      <th>3</th>\n",
       "      <td>4</td>\n",
       "      <td>3</td>\n",
       "      <td>0.0</td>\n",
       "      <td>Настя</td>\n",
       "      <td>Футбол</td>\n",
       "    </tr>\n",
       "    <tr>\n",
       "      <th>4</th>\n",
       "      <td>5</td>\n",
       "      <td>2</td>\n",
       "      <td>9.0</td>\n",
       "      <td>Андрей</td>\n",
       "      <td>Counter-Strike</td>\n",
       "    </tr>\n",
       "    <tr>\n",
       "      <th>5</th>\n",
       "      <td>6</td>\n",
       "      <td>1</td>\n",
       "      <td>11.0</td>\n",
       "      <td>Катя</td>\n",
       "      <td>Бильярд</td>\n",
       "    </tr>\n",
       "  </tbody>\n",
       "</table>\n",
       "</div>"
      ],
      "text/plain": [
       "   Колонка 1  Колонка 2  Колонка 3     Имя       Увлечение\n",
       "0          1          6        NaN    Миша       Баскетбол\n",
       "1          2          5        3.0    Саша          Хоккей\n",
       "2          3          4        5.0     Юля        Волейбол\n",
       "3          4          3        0.0   Настя          Футбол\n",
       "4          5          2        9.0  Андрей  Counter-Strike\n",
       "5          6          1       11.0    Катя         Бильярд"
      ]
     },
     "execution_count": 4,
     "metadata": {},
     "output_type": "execute_result"
    }
   ],
   "source": [
    "df"
   ]
  },
  {
   "cell_type": "markdown",
   "id": "d482f594",
   "metadata": {},
   "source": [
    "# Операции с числами"
   ]
  },
  {
   "cell_type": "markdown",
   "id": "958cf943",
   "metadata": {},
   "source": [
    "| Знак   | Операция              | Метод                 |\n",
    "|:-------|:----------------------|:----------------------|\n",
    "| +      | Сумма                 | add                   |\n",
    "| -      | Разность              | sub                   |\n",
    "| *      | Умножение             | mul                   |\n",
    "| /      | Деление               | div, truediv          |\n",
    "| //     | Целочисленное деление | floordiv              |\n",
    "| %      | Остаток от деления    | mod                   |\n",
    "| **     | Возведение в степень  | pow                   |"
   ]
  },
  {
   "cell_type": "markdown",
   "id": "f670d966",
   "metadata": {},
   "source": [
    "#### Сложение колонки и числа"
   ]
  },
  {
   "cell_type": "markdown",
   "id": "58c86868",
   "metadata": {},
   "source": [
    "Выбирать колонку и присваивать ей значение вы можете как хотите"
   ]
  },
  {
   "cell_type": "code",
   "execution_count": 6,
   "id": "1afdce61",
   "metadata": {},
   "outputs": [
    {
     "data": {
      "text/plain": [
       "0    2\n",
       "1    3\n",
       "2    4\n",
       "3    5\n",
       "4    6\n",
       "5    7\n",
       "Name: Колонка 1, dtype: int64"
      ]
     },
     "execution_count": 6,
     "metadata": {},
     "output_type": "execute_result"
    }
   ],
   "source": [
    "# Каждое значение в колонке увеличилось на 1\n",
    "df['Колонка 1'] + 1"
   ]
  },
  {
   "cell_type": "code",
   "execution_count": 7,
   "id": "29a7664f",
   "metadata": {},
   "outputs": [
    {
     "data": {
      "text/plain": [
       "0    2\n",
       "1    3\n",
       "2    4\n",
       "3    5\n",
       "4    6\n",
       "5    7\n",
       "Name: Колонка 1, dtype: int64"
      ]
     },
     "execution_count": 7,
     "metadata": {},
     "output_type": "execute_result"
    }
   ],
   "source": [
    "df['Колонка 1'].add(1)"
   ]
  },
  {
   "cell_type": "markdown",
   "id": "bfbf792c",
   "metadata": {},
   "source": [
    "#### Сложение двух колонок"
   ]
  },
  {
   "cell_type": "code",
   "execution_count": 8,
   "id": "028202cf",
   "metadata": {},
   "outputs": [
    {
     "data": {
      "text/plain": [
       "0    7\n",
       "1    7\n",
       "2    7\n",
       "3    7\n",
       "4    7\n",
       "5    7\n",
       "dtype: int64"
      ]
     },
     "execution_count": 8,
     "metadata": {},
     "output_type": "execute_result"
    }
   ],
   "source": [
    "df['Колонка 1'] + df['Колонка 2']"
   ]
  },
  {
   "cell_type": "code",
   "execution_count": null,
   "id": "5f8610a3",
   "metadata": {},
   "outputs": [],
   "source": []
  },
  {
   "cell_type": "code",
   "execution_count": null,
   "id": "831e9178",
   "metadata": {},
   "outputs": [],
   "source": []
  },
  {
   "cell_type": "code",
   "execution_count": null,
   "id": "6eadac7e",
   "metadata": {},
   "outputs": [],
   "source": []
  },
  {
   "cell_type": "markdown",
   "id": "00e4f4a1",
   "metadata": {},
   "source": [
    "#### Сложение колонок с пропущенными значениями"
   ]
  },
  {
   "cell_type": "code",
   "execution_count": 9,
   "id": "1fb1a72e",
   "metadata": {},
   "outputs": [
    {
     "data": {
      "text/plain": [
       "0     NaN\n",
       "1     3.0\n",
       "2     5.0\n",
       "3     0.0\n",
       "4     9.0\n",
       "5    11.0\n",
       "Name: Колонка 3, dtype: float64"
      ]
     },
     "execution_count": 9,
     "metadata": {},
     "output_type": "execute_result"
    }
   ],
   "source": [
    "df['Колонка 3']"
   ]
  },
  {
   "cell_type": "markdown",
   "id": "450544ae",
   "metadata": {},
   "source": [
    "#### Пропущенное значение всегда остается пропущенным значением"
   ]
  },
  {
   "cell_type": "code",
   "execution_count": 10,
   "id": "8c009b0c",
   "metadata": {},
   "outputs": [
    {
     "data": {
      "text/plain": [
       "0     NaN\n",
       "1     5.0\n",
       "2     8.0\n",
       "3     4.0\n",
       "4    14.0\n",
       "5    17.0\n",
       "dtype: float64"
      ]
     },
     "execution_count": 10,
     "metadata": {},
     "output_type": "execute_result"
    }
   ],
   "source": [
    "df['Колонка 1'] + df['Колонка 3']"
   ]
  },
  {
   "cell_type": "markdown",
   "id": "143d62b3",
   "metadata": {},
   "source": [
    "#### Часто за пропусками скрываются нули. Заполнить пропуски нулем или каким-то другим значением можно методом fillna(), передав в него значение, которое вы хотите положить на метсто пропусков"
   ]
  },
  {
   "cell_type": "code",
   "execution_count": 11,
   "id": "523f1283",
   "metadata": {},
   "outputs": [
    {
     "data": {
      "text/plain": [
       "0     1.0\n",
       "1     5.0\n",
       "2     8.0\n",
       "3     4.0\n",
       "4    14.0\n",
       "5    17.0\n",
       "dtype: float64"
      ]
     },
     "execution_count": 11,
     "metadata": {},
     "output_type": "execute_result"
    }
   ],
   "source": [
    "df['Колонка 1'] + df['Колонка 3'].fillna(0)"
   ]
  },
  {
   "cell_type": "markdown",
   "id": "aafc697a",
   "metadata": {},
   "source": [
    "Изначально в колонке есть пропуск"
   ]
  },
  {
   "cell_type": "code",
   "execution_count": 12,
   "id": "dba6ec2e",
   "metadata": {},
   "outputs": [
    {
     "data": {
      "text/plain": [
       "0     NaN\n",
       "1     3.0\n",
       "2     5.0\n",
       "3     0.0\n",
       "4     9.0\n",
       "5    11.0\n",
       "Name: Колонка 3, dtype: float64"
      ]
     },
     "execution_count": 12,
     "metadata": {},
     "output_type": "execute_result"
    }
   ],
   "source": [
    "df['Колонка 3']"
   ]
  },
  {
   "cell_type": "markdown",
   "id": "23ea7c1a",
   "metadata": {},
   "source": [
    "Мы заполнили его нулем"
   ]
  },
  {
   "cell_type": "code",
   "execution_count": 13,
   "id": "89c95136",
   "metadata": {},
   "outputs": [
    {
     "data": {
      "text/plain": [
       "0     0.0\n",
       "1     3.0\n",
       "2     5.0\n",
       "3     0.0\n",
       "4     9.0\n",
       "5    11.0\n",
       "Name: Колонка 3, dtype: float64"
      ]
     },
     "execution_count": 13,
     "metadata": {},
     "output_type": "execute_result"
    }
   ],
   "source": [
    "df['Колонка 3'].fillna(0)"
   ]
  },
  {
   "cell_type": "code",
   "execution_count": null,
   "id": "51672f16",
   "metadata": {},
   "outputs": [],
   "source": []
  },
  {
   "cell_type": "markdown",
   "id": "ecc8f7a5",
   "metadata": {},
   "source": [
    "#### Сопоставление колонок при сложении идет по индексам\n",
    "\n",
    "Проэтому если вы складываете 2 разные таблицы, то проверьте, что в них совпадают индексы"
   ]
  },
  {
   "cell_type": "code",
   "execution_count": 14,
   "id": "8826ce1e",
   "metadata": {},
   "outputs": [
    {
     "data": {
      "text/plain": [
       "3    1\n",
       "4    2\n",
       "5    3\n",
       "6    4\n",
       "7    5\n",
       "8    6\n",
       "Name: Колонка 1, dtype: int64"
      ]
     },
     "execution_count": 14,
     "metadata": {},
     "output_type": "execute_result"
    }
   ],
   "source": [
    "# поменяли индексы\n",
    "df['Колонка 1'].set_axis([3, 4, 5, 6, 7, 8])"
   ]
  },
  {
   "cell_type": "code",
   "execution_count": 15,
   "id": "8d6ea962",
   "metadata": {},
   "outputs": [
    {
     "data": {
      "text/plain": [
       "0    NaN\n",
       "1    NaN\n",
       "2    NaN\n",
       "3    4.0\n",
       "4    4.0\n",
       "5    4.0\n",
       "6    NaN\n",
       "7    NaN\n",
       "8    NaN\n",
       "dtype: float64"
      ]
     },
     "execution_count": 15,
     "metadata": {},
     "output_type": "execute_result"
    }
   ],
   "source": [
    "df['Колонка 1'].set_axis([3, 4, 5, 6, 7, 8]) + df['Колонка 2']"
   ]
  },
  {
   "cell_type": "markdown",
   "id": "c87e9161",
   "metadata": {},
   "source": [
    "По этой же причине не допускайте повторяющихся индексов при арифметических операциях"
   ]
  },
  {
   "cell_type": "markdown",
   "id": "ffbab7fd",
   "metadata": {},
   "source": [
    "#### Вычитание"
   ]
  },
  {
   "cell_type": "code",
   "execution_count": null,
   "id": "c817f434",
   "metadata": {},
   "outputs": [],
   "source": [
    "df['Колонка 1'] - 2\n",
    "# df['Колонка 1'].sub(2)"
   ]
  },
  {
   "cell_type": "code",
   "execution_count": null,
   "id": "8fac70ca",
   "metadata": {},
   "outputs": [],
   "source": [
    "2 - df['Колонка 1']\n",
    "# df['Колонка 1'].rsub(2)"
   ]
  },
  {
   "cell_type": "markdown",
   "id": "4553fb5f",
   "metadata": {},
   "source": [
    "Разность двух колонок"
   ]
  },
  {
   "cell_type": "code",
   "execution_count": null,
   "id": "6017a3f8",
   "metadata": {},
   "outputs": [],
   "source": [
    "df['Колонка 1'] - df['Колонка 2']"
   ]
  },
  {
   "cell_type": "markdown",
   "id": "c6aebbe0",
   "metadata": {},
   "source": [
    "#### Умножение"
   ]
  },
  {
   "cell_type": "code",
   "execution_count": null,
   "id": "738f0397",
   "metadata": {},
   "outputs": [],
   "source": [
    "df['Колонка 1'] * 2"
   ]
  },
  {
   "cell_type": "code",
   "execution_count": null,
   "id": "ce967725",
   "metadata": {},
   "outputs": [],
   "source": [
    "df['Колонка 1'] * df['Колонка 2']"
   ]
  },
  {
   "cell_type": "markdown",
   "id": "1ccbee56",
   "metadata": {},
   "source": [
    "#### Деление"
   ]
  },
  {
   "cell_type": "code",
   "execution_count": null,
   "id": "c74eaaea",
   "metadata": {},
   "outputs": [],
   "source": [
    "df['Колонка 1'] / 2"
   ]
  },
  {
   "cell_type": "markdown",
   "id": "aadd931b",
   "metadata": {},
   "source": [
    "При делении на ноль получается знчение inf или NaN"
   ]
  },
  {
   "cell_type": "code",
   "execution_count": null,
   "id": "49693277",
   "metadata": {},
   "outputs": [],
   "source": [
    "df['Колонка 3']"
   ]
  },
  {
   "cell_type": "code",
   "execution_count": null,
   "id": "a2eaab64",
   "metadata": {},
   "outputs": [],
   "source": [
    "df['Колонка 1'] / df['Колонка 3']"
   ]
  },
  {
   "cell_type": "code",
   "execution_count": null,
   "id": "a5b3cf42",
   "metadata": {},
   "outputs": [],
   "source": [
    "(-df['Колонка 1']) / df['Колонка 3']"
   ]
  },
  {
   "cell_type": "code",
   "execution_count": null,
   "id": "0c7ce3f2",
   "metadata": {},
   "outputs": [],
   "source": [
    "(df['Колонка 1'] / df['Колонка 3']) > 1000000000000"
   ]
  },
  {
   "cell_type": "markdown",
   "id": "878682a4",
   "metadata": {},
   "source": [
    "0/0"
   ]
  },
  {
   "cell_type": "code",
   "execution_count": null,
   "id": "6c9cba4e",
   "metadata": {},
   "outputs": [],
   "source": [
    "df['Колонка 3'] / df['Колонка 3']"
   ]
  },
  {
   "cell_type": "markdown",
   "id": "d3408b8f",
   "metadata": {},
   "source": [
    "#### Целочисленное деление"
   ]
  },
  {
   "cell_type": "markdown",
   "id": "f8339a61",
   "metadata": {},
   "source": [
    "5 / 2 = 2, остаток 1    \n",
    "   \n",
    "   \n",
    "делеимое / делитель = частное и остаток от деления"
   ]
  },
  {
   "cell_type": "code",
   "execution_count": null,
   "id": "56a124cc",
   "metadata": {},
   "outputs": [],
   "source": [
    "df['Колонка 1'] // 2"
   ]
  },
  {
   "cell_type": "markdown",
   "id": "1e4eaa17",
   "metadata": {},
   "source": [
    "#### Остаток от деления"
   ]
  },
  {
   "cell_type": "code",
   "execution_count": null,
   "id": "a8480046",
   "metadata": {},
   "outputs": [],
   "source": [
    "df['Колонка 1'] % 2"
   ]
  },
  {
   "cell_type": "markdown",
   "id": "895d491f",
   "metadata": {},
   "source": [
    "#### Возведние в степень"
   ]
  },
  {
   "cell_type": "code",
   "execution_count": null,
   "id": "f3d1e1a9",
   "metadata": {},
   "outputs": [],
   "source": [
    "df['Колонка 1'] ** 2"
   ]
  },
  {
   "cell_type": "code",
   "execution_count": null,
   "id": "60c39e5d",
   "metadata": {},
   "outputs": [],
   "source": [
    "df['Колонка 1'] ** df['Колонка 1']"
   ]
  },
  {
   "cell_type": "markdown",
   "id": "dcb84a63",
   "metadata": {},
   "source": [
    "#### Целые числа нельзя возводить в отрицательную степень"
   ]
  },
  {
   "cell_type": "code",
   "execution_count": 16,
   "id": "0e646f19",
   "metadata": {},
   "outputs": [
    {
     "ename": "ValueError",
     "evalue": "Integers to negative integer powers are not allowed.",
     "output_type": "error",
     "traceback": [
      "\u001b[1;31m---------------------------------------------------------------------------\u001b[0m",
      "\u001b[1;31mValueError\u001b[0m                                Traceback (most recent call last)",
      "Cell \u001b[1;32mIn[16], line 1\u001b[0m\n\u001b[1;32m----> 1\u001b[0m df[\u001b[38;5;124m'\u001b[39m\u001b[38;5;124mКолонка 1\u001b[39m\u001b[38;5;124m'\u001b[39m] \u001b[38;5;241m*\u001b[39m\u001b[38;5;241m*\u001b[39m \u001b[38;5;241m-\u001b[39m \u001b[38;5;241m2\u001b[39m\n",
      "File \u001b[1;32mC:\\ProgramData\\anaconda3\\Lib\\site-packages\\pandas\\core\\ops\\common.py:76\u001b[0m, in \u001b[0;36m_unpack_zerodim_and_defer.<locals>.new_method\u001b[1;34m(self, other)\u001b[0m\n\u001b[0;32m     72\u001b[0m             \u001b[38;5;28;01mreturn\u001b[39;00m \u001b[38;5;28mNotImplemented\u001b[39m\n\u001b[0;32m     74\u001b[0m other \u001b[38;5;241m=\u001b[39m item_from_zerodim(other)\n\u001b[1;32m---> 76\u001b[0m \u001b[38;5;28;01mreturn\u001b[39;00m method(\u001b[38;5;28mself\u001b[39m, other)\n",
      "File \u001b[1;32mC:\\ProgramData\\anaconda3\\Lib\\site-packages\\pandas\\core\\arraylike.py:242\u001b[0m, in \u001b[0;36mOpsMixin.__pow__\u001b[1;34m(self, other)\u001b[0m\n\u001b[0;32m    240\u001b[0m \u001b[38;5;129m@unpack_zerodim_and_defer\u001b[39m(\u001b[38;5;124m\"\u001b[39m\u001b[38;5;124m__pow__\u001b[39m\u001b[38;5;124m\"\u001b[39m)\n\u001b[0;32m    241\u001b[0m \u001b[38;5;28;01mdef\u001b[39;00m \u001b[38;5;21m__pow__\u001b[39m(\u001b[38;5;28mself\u001b[39m, other):\n\u001b[1;32m--> 242\u001b[0m     \u001b[38;5;28;01mreturn\u001b[39;00m \u001b[38;5;28mself\u001b[39m\u001b[38;5;241m.\u001b[39m_arith_method(other, operator\u001b[38;5;241m.\u001b[39mpow)\n",
      "File \u001b[1;32mC:\\ProgramData\\anaconda3\\Lib\\site-packages\\pandas\\core\\series.py:6135\u001b[0m, in \u001b[0;36mSeries._arith_method\u001b[1;34m(self, other, op)\u001b[0m\n\u001b[0;32m   6133\u001b[0m \u001b[38;5;28;01mdef\u001b[39;00m \u001b[38;5;21m_arith_method\u001b[39m(\u001b[38;5;28mself\u001b[39m, other, op):\n\u001b[0;32m   6134\u001b[0m     \u001b[38;5;28mself\u001b[39m, other \u001b[38;5;241m=\u001b[39m \u001b[38;5;28mself\u001b[39m\u001b[38;5;241m.\u001b[39m_align_for_op(other)\n\u001b[1;32m-> 6135\u001b[0m     \u001b[38;5;28;01mreturn\u001b[39;00m base\u001b[38;5;241m.\u001b[39mIndexOpsMixin\u001b[38;5;241m.\u001b[39m_arith_method(\u001b[38;5;28mself\u001b[39m, other, op)\n",
      "File \u001b[1;32mC:\\ProgramData\\anaconda3\\Lib\\site-packages\\pandas\\core\\base.py:1382\u001b[0m, in \u001b[0;36mIndexOpsMixin._arith_method\u001b[1;34m(self, other, op)\u001b[0m\n\u001b[0;32m   1379\u001b[0m     rvalues \u001b[38;5;241m=\u001b[39m np\u001b[38;5;241m.\u001b[39marange(rvalues\u001b[38;5;241m.\u001b[39mstart, rvalues\u001b[38;5;241m.\u001b[39mstop, rvalues\u001b[38;5;241m.\u001b[39mstep)\n\u001b[0;32m   1381\u001b[0m \u001b[38;5;28;01mwith\u001b[39;00m np\u001b[38;5;241m.\u001b[39merrstate(\u001b[38;5;28mall\u001b[39m\u001b[38;5;241m=\u001b[39m\u001b[38;5;124m\"\u001b[39m\u001b[38;5;124mignore\u001b[39m\u001b[38;5;124m\"\u001b[39m):\n\u001b[1;32m-> 1382\u001b[0m     result \u001b[38;5;241m=\u001b[39m ops\u001b[38;5;241m.\u001b[39marithmetic_op(lvalues, rvalues, op)\n\u001b[0;32m   1384\u001b[0m \u001b[38;5;28;01mreturn\u001b[39;00m \u001b[38;5;28mself\u001b[39m\u001b[38;5;241m.\u001b[39m_construct_result(result, name\u001b[38;5;241m=\u001b[39mres_name)\n",
      "File \u001b[1;32mC:\\ProgramData\\anaconda3\\Lib\\site-packages\\pandas\\core\\ops\\array_ops.py:283\u001b[0m, in \u001b[0;36marithmetic_op\u001b[1;34m(left, right, op)\u001b[0m\n\u001b[0;32m    279\u001b[0m     _bool_arith_check(op, left, right)  \u001b[38;5;66;03m# type: ignore[arg-type]\u001b[39;00m\n\u001b[0;32m    281\u001b[0m     \u001b[38;5;66;03m# error: Argument 1 to \"_na_arithmetic_op\" has incompatible type\u001b[39;00m\n\u001b[0;32m    282\u001b[0m     \u001b[38;5;66;03m# \"Union[ExtensionArray, ndarray[Any, Any]]\"; expected \"ndarray[Any, Any]\"\u001b[39;00m\n\u001b[1;32m--> 283\u001b[0m     res_values \u001b[38;5;241m=\u001b[39m _na_arithmetic_op(left, right, op)  \u001b[38;5;66;03m# type: ignore[arg-type]\u001b[39;00m\n\u001b[0;32m    285\u001b[0m \u001b[38;5;28;01mreturn\u001b[39;00m res_values\n",
      "File \u001b[1;32mC:\\ProgramData\\anaconda3\\Lib\\site-packages\\pandas\\core\\ops\\array_ops.py:218\u001b[0m, in \u001b[0;36m_na_arithmetic_op\u001b[1;34m(left, right, op, is_cmp)\u001b[0m\n\u001b[0;32m    215\u001b[0m     func \u001b[38;5;241m=\u001b[39m partial(expressions\u001b[38;5;241m.\u001b[39mevaluate, op)\n\u001b[0;32m    217\u001b[0m \u001b[38;5;28;01mtry\u001b[39;00m:\n\u001b[1;32m--> 218\u001b[0m     result \u001b[38;5;241m=\u001b[39m func(left, right)\n\u001b[0;32m    219\u001b[0m \u001b[38;5;28;01mexcept\u001b[39;00m \u001b[38;5;167;01mTypeError\u001b[39;00m:\n\u001b[0;32m    220\u001b[0m     \u001b[38;5;28;01mif\u001b[39;00m \u001b[38;5;129;01mnot\u001b[39;00m is_cmp \u001b[38;5;129;01mand\u001b[39;00m (\n\u001b[0;32m    221\u001b[0m         left\u001b[38;5;241m.\u001b[39mdtype \u001b[38;5;241m==\u001b[39m \u001b[38;5;28mobject\u001b[39m \u001b[38;5;129;01mor\u001b[39;00m \u001b[38;5;28mgetattr\u001b[39m(right, \u001b[38;5;124m\"\u001b[39m\u001b[38;5;124mdtype\u001b[39m\u001b[38;5;124m\"\u001b[39m, \u001b[38;5;28;01mNone\u001b[39;00m) \u001b[38;5;241m==\u001b[39m \u001b[38;5;28mobject\u001b[39m\n\u001b[0;32m    222\u001b[0m     ):\n\u001b[1;32m   (...)\u001b[0m\n\u001b[0;32m    225\u001b[0m         \u001b[38;5;66;03m# Don't do this for comparisons, as that will handle complex numbers\u001b[39;00m\n\u001b[0;32m    226\u001b[0m         \u001b[38;5;66;03m#  incorrectly, see GH#32047\u001b[39;00m\n",
      "File \u001b[1;32mC:\\ProgramData\\anaconda3\\Lib\\site-packages\\pandas\\core\\computation\\expressions.py:242\u001b[0m, in \u001b[0;36mevaluate\u001b[1;34m(op, a, b, use_numexpr)\u001b[0m\n\u001b[0;32m    239\u001b[0m \u001b[38;5;28;01mif\u001b[39;00m op_str \u001b[38;5;129;01mis\u001b[39;00m \u001b[38;5;129;01mnot\u001b[39;00m \u001b[38;5;28;01mNone\u001b[39;00m:\n\u001b[0;32m    240\u001b[0m     \u001b[38;5;28;01mif\u001b[39;00m use_numexpr:\n\u001b[0;32m    241\u001b[0m         \u001b[38;5;66;03m# error: \"None\" not callable\u001b[39;00m\n\u001b[1;32m--> 242\u001b[0m         \u001b[38;5;28;01mreturn\u001b[39;00m _evaluate(op, op_str, a, b)  \u001b[38;5;66;03m# type: ignore[misc]\u001b[39;00m\n\u001b[0;32m    243\u001b[0m \u001b[38;5;28;01mreturn\u001b[39;00m _evaluate_standard(op, op_str, a, b)\n",
      "File \u001b[1;32mC:\\ProgramData\\anaconda3\\Lib\\site-packages\\pandas\\core\\computation\\expressions.py:131\u001b[0m, in \u001b[0;36m_evaluate_numexpr\u001b[1;34m(op, op_str, a, b)\u001b[0m\n\u001b[0;32m    128\u001b[0m     _store_test_result(result \u001b[38;5;129;01mis\u001b[39;00m \u001b[38;5;129;01mnot\u001b[39;00m \u001b[38;5;28;01mNone\u001b[39;00m)\n\u001b[0;32m    130\u001b[0m \u001b[38;5;28;01mif\u001b[39;00m result \u001b[38;5;129;01mis\u001b[39;00m \u001b[38;5;28;01mNone\u001b[39;00m:\n\u001b[1;32m--> 131\u001b[0m     result \u001b[38;5;241m=\u001b[39m _evaluate_standard(op, op_str, a, b)\n\u001b[0;32m    133\u001b[0m \u001b[38;5;28;01mreturn\u001b[39;00m result\n",
      "File \u001b[1;32mC:\\ProgramData\\anaconda3\\Lib\\site-packages\\pandas\\core\\computation\\expressions.py:73\u001b[0m, in \u001b[0;36m_evaluate_standard\u001b[1;34m(op, op_str, a, b)\u001b[0m\n\u001b[0;32m     71\u001b[0m \u001b[38;5;28;01mif\u001b[39;00m _TEST_MODE:\n\u001b[0;32m     72\u001b[0m     _store_test_result(\u001b[38;5;28;01mFalse\u001b[39;00m)\n\u001b[1;32m---> 73\u001b[0m \u001b[38;5;28;01mreturn\u001b[39;00m op(a, b)\n",
      "\u001b[1;31mValueError\u001b[0m: Integers to negative integer powers are not allowed."
     ]
    }
   ],
   "source": [
    "df['Колонка 1'] ** - 2"
   ]
  },
  {
   "cell_type": "code",
   "execution_count": 17,
   "id": "591b4d52",
   "metadata": {},
   "outputs": [
    {
     "data": {
      "text/plain": [
       "0    1.000000\n",
       "1    0.250000\n",
       "2    0.111111\n",
       "3    0.062500\n",
       "4    0.040000\n",
       "5    0.027778\n",
       "Name: Колонка 1, dtype: float64"
      ]
     },
     "execution_count": 17,
     "metadata": {},
     "output_type": "execute_result"
    }
   ],
   "source": [
    "df['Колонка 1'].astype(float) ** -2"
   ]
  },
  {
   "cell_type": "code",
   "execution_count": 18,
   "id": "9b4e7c21",
   "metadata": {},
   "outputs": [
    {
     "data": {
      "text/plain": [
       "0    1.000000\n",
       "1    0.250000\n",
       "2    0.111111\n",
       "3    0.062500\n",
       "4    0.040000\n",
       "5    0.027778\n",
       "Name: Колонка 1, dtype: float64"
      ]
     },
     "execution_count": 18,
     "metadata": {},
     "output_type": "execute_result"
    }
   ],
   "source": [
    "1 / df['Колонка 1'] ** 2"
   ]
  },
  {
   "cell_type": "markdown",
   "id": "615b6536",
   "metadata": {},
   "source": [
    "### Арифметические операции определены стандартно, но если что-то непонятно, то лучше ставить скобки"
   ]
  },
  {
   "cell_type": "code",
   "execution_count": null,
   "id": "5e0c087c",
   "metadata": {},
   "outputs": [],
   "source": [
    "((df['Колонка 1'] + df['Колонка 3']) * df['Колонка 2']) ** 0.5"
   ]
  },
  {
   "cell_type": "code",
   "execution_count": null,
   "id": "d6977b2a",
   "metadata": {},
   "outputs": [],
   "source": [
    "df['Колонка 1'] / 2 * 100"
   ]
  },
  {
   "cell_type": "code",
   "execution_count": null,
   "id": "9d3e785c",
   "metadata": {},
   "outputs": [],
   "source": [
    "(df['Колонка 1'] / 2) * 100"
   ]
  },
  {
   "cell_type": "markdown",
   "id": "02337489",
   "metadata": {},
   "source": [
    "#### Когда мы записываем выражение в скобках мы его можем переносить между строк как угодно"
   ]
  },
  {
   "cell_type": "code",
   "execution_count": null,
   "id": "6a88c6fb",
   "metadata": {},
   "outputs": [],
   "source": [
    "(\n",
    "df['Колонка 1']\n",
    "+\n",
    "df['Колонка 1']\n",
    ")"
   ]
  },
  {
   "cell_type": "markdown",
   "id": "6661380d",
   "metadata": {},
   "source": [
    "#### Если мы после выполнения арифметических операций хотим использовать какие-то другие методы, то все выражение мы должны обернуть в круглые скобки"
   ]
  },
  {
   "cell_type": "code",
   "execution_count": null,
   "id": "fca30f3f",
   "metadata": {},
   "outputs": [],
   "source": [
    "(df['Колонка 1'] + df['Колонка 2'])"
   ]
  },
  {
   "cell_type": "code",
   "execution_count": null,
   "id": "88316a0f",
   "metadata": {},
   "outputs": [],
   "source": [
    "(df['Колонка 1'] + df['Колонка 2']).sample(10, replace=True, random_state=9)"
   ]
  },
  {
   "cell_type": "markdown",
   "id": "b569c6fb",
   "metadata": {},
   "source": [
    "Иначе метод sample будет применен только к первому датафрейму"
   ]
  },
  {
   "cell_type": "code",
   "execution_count": null,
   "id": "cb8be895",
   "metadata": {},
   "outputs": [],
   "source": [
    "df['Колонка 1'] + df['Колонка 2'].sample(10, replace=True, random_state=9)"
   ]
  },
  {
   "cell_type": "code",
   "execution_count": null,
   "id": "88b51224",
   "metadata": {},
   "outputs": [],
   "source": []
  },
  {
   "cell_type": "code",
   "execution_count": null,
   "id": "ae4d2602",
   "metadata": {},
   "outputs": [],
   "source": []
  },
  {
   "cell_type": "code",
   "execution_count": null,
   "id": "d73b5b9f",
   "metadata": {},
   "outputs": [],
   "source": []
  },
  {
   "cell_type": "code",
   "execution_count": null,
   "id": "abd72a80",
   "metadata": {},
   "outputs": [],
   "source": []
  },
  {
   "cell_type": "code",
   "execution_count": null,
   "id": "8f4a3bdc",
   "metadata": {},
   "outputs": [],
   "source": []
  },
  {
   "cell_type": "code",
   "execution_count": null,
   "id": "41fd98e1",
   "metadata": {},
   "outputs": [],
   "source": []
  },
  {
   "cell_type": "markdown",
   "id": "7669a73c",
   "metadata": {},
   "source": [
    "# Операции со строками"
   ]
  },
  {
   "cell_type": "code",
   "execution_count": 19,
   "id": "f6044e91",
   "metadata": {},
   "outputs": [
    {
     "data": {
      "text/plain": [
       "0      Миша\n",
       "1      Саша\n",
       "2       Юля\n",
       "3     Настя\n",
       "4    Андрей\n",
       "5      Катя\n",
       "Name: Имя, dtype: object"
      ]
     },
     "execution_count": 19,
     "metadata": {},
     "output_type": "execute_result"
    }
   ],
   "source": [
    "df['Имя']"
   ]
  },
  {
   "cell_type": "markdown",
   "id": "bc56f276",
   "metadata": {},
   "source": [
    "#### Умножение на целое число"
   ]
  },
  {
   "cell_type": "code",
   "execution_count": 20,
   "id": "938eeba7",
   "metadata": {},
   "outputs": [
    {
     "data": {
      "text/plain": [
       "0          МишаМишаМиша\n",
       "1          СашаСашаСаша\n",
       "2             ЮляЮляЮля\n",
       "3       НастяНастяНастя\n",
       "4    АндрейАндрейАндрей\n",
       "5          КатяКатяКатя\n",
       "Name: Имя, dtype: object"
      ]
     },
     "execution_count": 20,
     "metadata": {},
     "output_type": "execute_result"
    }
   ],
   "source": [
    "df['Имя'] * 3"
   ]
  },
  {
   "cell_type": "markdown",
   "id": "c82e352c",
   "metadata": {},
   "source": [
    "#### Сложение двух строк"
   ]
  },
  {
   "cell_type": "code",
   "execution_count": 21,
   "id": "6da51c0c",
   "metadata": {},
   "outputs": [
    {
     "data": {
      "text/plain": [
       "0      Миша хороший человек\n",
       "1      Саша хороший человек\n",
       "2       Юля хороший человек\n",
       "3     Настя хороший человек\n",
       "4    Андрей хороший человек\n",
       "5      Катя хороший человек\n",
       "Name: Имя, dtype: object"
      ]
     },
     "execution_count": 21,
     "metadata": {},
     "output_type": "execute_result"
    }
   ],
   "source": [
    "df['Имя'] + ' хороший человек'"
   ]
  },
  {
   "cell_type": "code",
   "execution_count": 22,
   "id": "3445576a",
   "metadata": {},
   "outputs": [
    {
     "data": {
      "text/plain": [
       "0           МишаБаскетбол\n",
       "1              СашаХоккей\n",
       "2             ЮляВолейбол\n",
       "3             НастяФутбол\n",
       "4    АндрейCounter-Strike\n",
       "5             КатяБильярд\n",
       "dtype: object"
      ]
     },
     "execution_count": 22,
     "metadata": {},
     "output_type": "execute_result"
    }
   ],
   "source": [
    "df['Имя'] + df['Увлечение']"
   ]
  },
  {
   "cell_type": "code",
   "execution_count": 23,
   "id": "a0d7b157",
   "metadata": {},
   "outputs": [
    {
     "data": {
      "text/plain": [
       "0           Миша любит Баскетбол\n",
       "1              Саша любит Хоккей\n",
       "2             Юля любит Волейбол\n",
       "3             Настя любит Футбол\n",
       "4    Андрей любит Counter-Strike\n",
       "5             Катя любит Бильярд\n",
       "dtype: object"
      ]
     },
     "execution_count": 23,
     "metadata": {},
     "output_type": "execute_result"
    }
   ],
   "source": [
    "df['Имя'] + ' любит ' + df['Увлечение']"
   ]
  },
  {
   "cell_type": "code",
   "execution_count": null,
   "id": "60b4d554",
   "metadata": {},
   "outputs": [],
   "source": []
  },
  {
   "cell_type": "code",
   "execution_count": null,
   "id": "4dd9604c",
   "metadata": {},
   "outputs": [],
   "source": []
  },
  {
   "cell_type": "code",
   "execution_count": null,
   "id": "bb3782bd",
   "metadata": {},
   "outputs": [],
   "source": []
  },
  {
   "cell_type": "code",
   "execution_count": null,
   "id": "8ba5f358",
   "metadata": {},
   "outputs": [],
   "source": []
  },
  {
   "cell_type": "code",
   "execution_count": null,
   "id": "9bd5e834",
   "metadata": {},
   "outputs": [],
   "source": []
  },
  {
   "cell_type": "code",
   "execution_count": null,
   "id": "aaae2a69",
   "metadata": {},
   "outputs": [],
   "source": []
  },
  {
   "cell_type": "code",
   "execution_count": null,
   "id": "6a7bd7a2",
   "metadata": {},
   "outputs": [],
   "source": []
  },
  {
   "cell_type": "code",
   "execution_count": null,
   "id": "ed689339",
   "metadata": {},
   "outputs": [],
   "source": []
  },
  {
   "cell_type": "code",
   "execution_count": null,
   "id": "5a3aa4a5",
   "metadata": {},
   "outputs": [],
   "source": []
  },
  {
   "cell_type": "code",
   "execution_count": null,
   "id": "b8757bd7",
   "metadata": {},
   "outputs": [],
   "source": []
  },
  {
   "cell_type": "code",
   "execution_count": null,
   "id": "bf02496d",
   "metadata": {},
   "outputs": [],
   "source": []
  },
  {
   "cell_type": "code",
   "execution_count": null,
   "id": "a911da91",
   "metadata": {},
   "outputs": [],
   "source": []
  },
  {
   "cell_type": "code",
   "execution_count": null,
   "id": "d52dab39",
   "metadata": {},
   "outputs": [],
   "source": []
  },
  {
   "cell_type": "code",
   "execution_count": null,
   "id": "e4fca946",
   "metadata": {},
   "outputs": [],
   "source": []
  },
  {
   "cell_type": "code",
   "execution_count": null,
   "id": "597c93e1",
   "metadata": {},
   "outputs": [],
   "source": []
  },
  {
   "cell_type": "code",
   "execution_count": null,
   "id": "a32fc7d2",
   "metadata": {},
   "outputs": [],
   "source": []
  },
  {
   "cell_type": "code",
   "execution_count": null,
   "id": "c048cbe0",
   "metadata": {},
   "outputs": [],
   "source": []
  },
  {
   "cell_type": "markdown",
   "id": "0654409d",
   "metadata": {},
   "source": [
    "# Операции с датафреймами"
   ]
  },
  {
   "cell_type": "markdown",
   "id": "96a54d82",
   "metadata": {},
   "source": [
    "Если операция определена для всех колонок датафрейма, то она может быть применена"
   ]
  },
  {
   "cell_type": "code",
   "execution_count": 24,
   "id": "ca32c20d",
   "metadata": {},
   "outputs": [
    {
     "data": {
      "text/html": [
       "<div>\n",
       "<style scoped>\n",
       "    .dataframe tbody tr th:only-of-type {\n",
       "        vertical-align: middle;\n",
       "    }\n",
       "\n",
       "    .dataframe tbody tr th {\n",
       "        vertical-align: top;\n",
       "    }\n",
       "\n",
       "    .dataframe thead th {\n",
       "        text-align: right;\n",
       "    }\n",
       "</style>\n",
       "<table border=\"1\" class=\"dataframe\">\n",
       "  <thead>\n",
       "    <tr style=\"text-align: right;\">\n",
       "      <th></th>\n",
       "      <th>Колонка 1</th>\n",
       "      <th>Колонка 2</th>\n",
       "      <th>Колонка 3</th>\n",
       "      <th>Имя</th>\n",
       "      <th>Увлечение</th>\n",
       "    </tr>\n",
       "  </thead>\n",
       "  <tbody>\n",
       "    <tr>\n",
       "      <th>0</th>\n",
       "      <td>2</td>\n",
       "      <td>12</td>\n",
       "      <td>NaN</td>\n",
       "      <td>МишаМиша</td>\n",
       "      <td>БаскетболБаскетбол</td>\n",
       "    </tr>\n",
       "    <tr>\n",
       "      <th>1</th>\n",
       "      <td>4</td>\n",
       "      <td>10</td>\n",
       "      <td>6.0</td>\n",
       "      <td>СашаСаша</td>\n",
       "      <td>ХоккейХоккей</td>\n",
       "    </tr>\n",
       "    <tr>\n",
       "      <th>2</th>\n",
       "      <td>6</td>\n",
       "      <td>8</td>\n",
       "      <td>10.0</td>\n",
       "      <td>ЮляЮля</td>\n",
       "      <td>ВолейболВолейбол</td>\n",
       "    </tr>\n",
       "    <tr>\n",
       "      <th>3</th>\n",
       "      <td>8</td>\n",
       "      <td>6</td>\n",
       "      <td>0.0</td>\n",
       "      <td>НастяНастя</td>\n",
       "      <td>ФутболФутбол</td>\n",
       "    </tr>\n",
       "    <tr>\n",
       "      <th>4</th>\n",
       "      <td>10</td>\n",
       "      <td>4</td>\n",
       "      <td>18.0</td>\n",
       "      <td>АндрейАндрей</td>\n",
       "      <td>Counter-StrikeCounter-Strike</td>\n",
       "    </tr>\n",
       "    <tr>\n",
       "      <th>5</th>\n",
       "      <td>12</td>\n",
       "      <td>2</td>\n",
       "      <td>22.0</td>\n",
       "      <td>КатяКатя</td>\n",
       "      <td>БильярдБильярд</td>\n",
       "    </tr>\n",
       "  </tbody>\n",
       "</table>\n",
       "</div>"
      ],
      "text/plain": [
       "   Колонка 1  Колонка 2  Колонка 3           Имя                     Увлечение\n",
       "0          2         12        NaN      МишаМиша            БаскетболБаскетбол\n",
       "1          4         10        6.0      СашаСаша                  ХоккейХоккей\n",
       "2          6          8       10.0        ЮляЮля              ВолейболВолейбол\n",
       "3          8          6        0.0    НастяНастя                  ФутболФутбол\n",
       "4         10          4       18.0  АндрейАндрей  Counter-StrikeCounter-Strike\n",
       "5         12          2       22.0      КатяКатя                БильярдБильярд"
      ]
     },
     "execution_count": 24,
     "metadata": {},
     "output_type": "execute_result"
    }
   ],
   "source": [
    "df * 2"
   ]
  },
  {
   "cell_type": "code",
   "execution_count": 25,
   "id": "6d1f5061",
   "metadata": {},
   "outputs": [
    {
     "data": {
      "text/html": [
       "<div>\n",
       "<style scoped>\n",
       "    .dataframe tbody tr th:only-of-type {\n",
       "        vertical-align: middle;\n",
       "    }\n",
       "\n",
       "    .dataframe tbody tr th {\n",
       "        vertical-align: top;\n",
       "    }\n",
       "\n",
       "    .dataframe thead th {\n",
       "        text-align: right;\n",
       "    }\n",
       "</style>\n",
       "<table border=\"1\" class=\"dataframe\">\n",
       "  <thead>\n",
       "    <tr style=\"text-align: right;\">\n",
       "      <th></th>\n",
       "      <th>Колонка 1</th>\n",
       "      <th>Колонка 2</th>\n",
       "      <th>Колонка 3</th>\n",
       "      <th>Имя</th>\n",
       "      <th>Увлечение</th>\n",
       "    </tr>\n",
       "  </thead>\n",
       "  <tbody>\n",
       "    <tr>\n",
       "      <th>0</th>\n",
       "      <td>3</td>\n",
       "      <td>18</td>\n",
       "      <td>NaN</td>\n",
       "      <td>МишаМишаМиша</td>\n",
       "      <td>БаскетболБаскетболБаскетбол</td>\n",
       "    </tr>\n",
       "    <tr>\n",
       "      <th>1</th>\n",
       "      <td>6</td>\n",
       "      <td>15</td>\n",
       "      <td>9.0</td>\n",
       "      <td>СашаСашаСаша</td>\n",
       "      <td>ХоккейХоккейХоккей</td>\n",
       "    </tr>\n",
       "    <tr>\n",
       "      <th>2</th>\n",
       "      <td>9</td>\n",
       "      <td>12</td>\n",
       "      <td>15.0</td>\n",
       "      <td>ЮляЮляЮля</td>\n",
       "      <td>ВолейболВолейболВолейбол</td>\n",
       "    </tr>\n",
       "    <tr>\n",
       "      <th>3</th>\n",
       "      <td>12</td>\n",
       "      <td>9</td>\n",
       "      <td>0.0</td>\n",
       "      <td>НастяНастяНастя</td>\n",
       "      <td>ФутболФутболФутбол</td>\n",
       "    </tr>\n",
       "    <tr>\n",
       "      <th>4</th>\n",
       "      <td>15</td>\n",
       "      <td>6</td>\n",
       "      <td>27.0</td>\n",
       "      <td>АндрейАндрейАндрей</td>\n",
       "      <td>Counter-StrikeCounter-StrikeCounter-Strike</td>\n",
       "    </tr>\n",
       "    <tr>\n",
       "      <th>5</th>\n",
       "      <td>18</td>\n",
       "      <td>3</td>\n",
       "      <td>33.0</td>\n",
       "      <td>КатяКатяКатя</td>\n",
       "      <td>БильярдБильярдБильярд</td>\n",
       "    </tr>\n",
       "  </tbody>\n",
       "</table>\n",
       "</div>"
      ],
      "text/plain": [
       "   Колонка 1  Колонка 2  Колонка 3                 Имя  \\\n",
       "0          3         18        NaN        МишаМишаМиша   \n",
       "1          6         15        9.0        СашаСашаСаша   \n",
       "2          9         12       15.0           ЮляЮляЮля   \n",
       "3         12          9        0.0     НастяНастяНастя   \n",
       "4         15          6       27.0  АндрейАндрейАндрей   \n",
       "5         18          3       33.0        КатяКатяКатя   \n",
       "\n",
       "                                    Увлечение  \n",
       "0                 БаскетболБаскетболБаскетбол  \n",
       "1                          ХоккейХоккейХоккей  \n",
       "2                    ВолейболВолейболВолейбол  \n",
       "3                          ФутболФутболФутбол  \n",
       "4  Counter-StrikeCounter-StrikeCounter-Strike  \n",
       "5                       БильярдБильярдБильярд  "
      ]
     },
     "execution_count": 25,
     "metadata": {},
     "output_type": "execute_result"
    }
   ],
   "source": [
    "df + df + df"
   ]
  },
  {
   "cell_type": "code",
   "execution_count": 26,
   "id": "6ebe75fd",
   "metadata": {},
   "outputs": [
    {
     "data": {
      "text/html": [
       "<div>\n",
       "<style scoped>\n",
       "    .dataframe tbody tr th:only-of-type {\n",
       "        vertical-align: middle;\n",
       "    }\n",
       "\n",
       "    .dataframe tbody tr th {\n",
       "        vertical-align: top;\n",
       "    }\n",
       "\n",
       "    .dataframe thead th {\n",
       "        text-align: right;\n",
       "    }\n",
       "</style>\n",
       "<table border=\"1\" class=\"dataframe\">\n",
       "  <thead>\n",
       "    <tr style=\"text-align: right;\">\n",
       "      <th></th>\n",
       "      <th>Колонка 1</th>\n",
       "      <th>Колонка 2</th>\n",
       "      <th>Колонка 3</th>\n",
       "    </tr>\n",
       "  </thead>\n",
       "  <tbody>\n",
       "    <tr>\n",
       "      <th>0</th>\n",
       "      <td>1</td>\n",
       "      <td>6</td>\n",
       "      <td>NaN</td>\n",
       "    </tr>\n",
       "    <tr>\n",
       "      <th>1</th>\n",
       "      <td>2</td>\n",
       "      <td>5</td>\n",
       "      <td>3.0</td>\n",
       "    </tr>\n",
       "    <tr>\n",
       "      <th>2</th>\n",
       "      <td>3</td>\n",
       "      <td>4</td>\n",
       "      <td>5.0</td>\n",
       "    </tr>\n",
       "    <tr>\n",
       "      <th>3</th>\n",
       "      <td>4</td>\n",
       "      <td>3</td>\n",
       "      <td>0.0</td>\n",
       "    </tr>\n",
       "    <tr>\n",
       "      <th>4</th>\n",
       "      <td>5</td>\n",
       "      <td>2</td>\n",
       "      <td>9.0</td>\n",
       "    </tr>\n",
       "    <tr>\n",
       "      <th>5</th>\n",
       "      <td>6</td>\n",
       "      <td>1</td>\n",
       "      <td>11.0</td>\n",
       "    </tr>\n",
       "  </tbody>\n",
       "</table>\n",
       "</div>"
      ],
      "text/plain": [
       "   Колонка 1  Колонка 2  Колонка 3\n",
       "0          1          6        NaN\n",
       "1          2          5        3.0\n",
       "2          3          4        5.0\n",
       "3          4          3        0.0\n",
       "4          5          2        9.0\n",
       "5          6          1       11.0"
      ]
     },
     "execution_count": 26,
     "metadata": {},
     "output_type": "execute_result"
    }
   ],
   "source": [
    "df.iloc[:, :3]"
   ]
  },
  {
   "cell_type": "code",
   "execution_count": 27,
   "id": "b85ccdee",
   "metadata": {},
   "outputs": [
    {
     "data": {
      "text/html": [
       "<div>\n",
       "<style scoped>\n",
       "    .dataframe tbody tr th:only-of-type {\n",
       "        vertical-align: middle;\n",
       "    }\n",
       "\n",
       "    .dataframe tbody tr th {\n",
       "        vertical-align: top;\n",
       "    }\n",
       "\n",
       "    .dataframe thead th {\n",
       "        text-align: right;\n",
       "    }\n",
       "</style>\n",
       "<table border=\"1\" class=\"dataframe\">\n",
       "  <thead>\n",
       "    <tr style=\"text-align: right;\">\n",
       "      <th></th>\n",
       "      <th>Колонка 1</th>\n",
       "      <th>Колонка 2</th>\n",
       "      <th>Колонка 3</th>\n",
       "    </tr>\n",
       "  </thead>\n",
       "  <tbody>\n",
       "    <tr>\n",
       "      <th>0</th>\n",
       "      <td>2</td>\n",
       "      <td>7</td>\n",
       "      <td>NaN</td>\n",
       "    </tr>\n",
       "    <tr>\n",
       "      <th>1</th>\n",
       "      <td>3</td>\n",
       "      <td>6</td>\n",
       "      <td>4.0</td>\n",
       "    </tr>\n",
       "    <tr>\n",
       "      <th>2</th>\n",
       "      <td>4</td>\n",
       "      <td>5</td>\n",
       "      <td>6.0</td>\n",
       "    </tr>\n",
       "    <tr>\n",
       "      <th>3</th>\n",
       "      <td>5</td>\n",
       "      <td>4</td>\n",
       "      <td>1.0</td>\n",
       "    </tr>\n",
       "    <tr>\n",
       "      <th>4</th>\n",
       "      <td>6</td>\n",
       "      <td>3</td>\n",
       "      <td>10.0</td>\n",
       "    </tr>\n",
       "    <tr>\n",
       "      <th>5</th>\n",
       "      <td>7</td>\n",
       "      <td>2</td>\n",
       "      <td>12.0</td>\n",
       "    </tr>\n",
       "  </tbody>\n",
       "</table>\n",
       "</div>"
      ],
      "text/plain": [
       "   Колонка 1  Колонка 2  Колонка 3\n",
       "0          2          7        NaN\n",
       "1          3          6        4.0\n",
       "2          4          5        6.0\n",
       "3          5          4        1.0\n",
       "4          6          3       10.0\n",
       "5          7          2       12.0"
      ]
     },
     "execution_count": 27,
     "metadata": {},
     "output_type": "execute_result"
    }
   ],
   "source": [
    "df.iloc[:, :3] + 1"
   ]
  },
  {
   "cell_type": "code",
   "execution_count": 28,
   "id": "a9caca2e",
   "metadata": {},
   "outputs": [
    {
     "data": {
      "text/html": [
       "<div>\n",
       "<style scoped>\n",
       "    .dataframe tbody tr th:only-of-type {\n",
       "        vertical-align: middle;\n",
       "    }\n",
       "\n",
       "    .dataframe tbody tr th {\n",
       "        vertical-align: top;\n",
       "    }\n",
       "\n",
       "    .dataframe thead th {\n",
       "        text-align: right;\n",
       "    }\n",
       "</style>\n",
       "<table border=\"1\" class=\"dataframe\">\n",
       "  <thead>\n",
       "    <tr style=\"text-align: right;\">\n",
       "      <th></th>\n",
       "      <th>Колонка 1</th>\n",
       "      <th>Колонка 2</th>\n",
       "      <th>Колонка 3</th>\n",
       "    </tr>\n",
       "  </thead>\n",
       "  <tbody>\n",
       "    <tr>\n",
       "      <th>0</th>\n",
       "      <td>2</td>\n",
       "      <td>12</td>\n",
       "      <td>NaN</td>\n",
       "    </tr>\n",
       "    <tr>\n",
       "      <th>1</th>\n",
       "      <td>4</td>\n",
       "      <td>10</td>\n",
       "      <td>6.0</td>\n",
       "    </tr>\n",
       "    <tr>\n",
       "      <th>2</th>\n",
       "      <td>6</td>\n",
       "      <td>8</td>\n",
       "      <td>10.0</td>\n",
       "    </tr>\n",
       "    <tr>\n",
       "      <th>3</th>\n",
       "      <td>8</td>\n",
       "      <td>6</td>\n",
       "      <td>0.0</td>\n",
       "    </tr>\n",
       "    <tr>\n",
       "      <th>4</th>\n",
       "      <td>10</td>\n",
       "      <td>4</td>\n",
       "      <td>18.0</td>\n",
       "    </tr>\n",
       "    <tr>\n",
       "      <th>5</th>\n",
       "      <td>12</td>\n",
       "      <td>2</td>\n",
       "      <td>22.0</td>\n",
       "    </tr>\n",
       "  </tbody>\n",
       "</table>\n",
       "</div>"
      ],
      "text/plain": [
       "   Колонка 1  Колонка 2  Колонка 3\n",
       "0          2         12        NaN\n",
       "1          4         10        6.0\n",
       "2          6          8       10.0\n",
       "3          8          6        0.0\n",
       "4         10          4       18.0\n",
       "5         12          2       22.0"
      ]
     },
     "execution_count": 28,
     "metadata": {},
     "output_type": "execute_result"
    }
   ],
   "source": [
    "df.iloc[:, :3] * 2"
   ]
  },
  {
   "cell_type": "code",
   "execution_count": 29,
   "id": "78fcafc1",
   "metadata": {},
   "outputs": [
    {
     "data": {
      "text/html": [
       "<div>\n",
       "<style scoped>\n",
       "    .dataframe tbody tr th:only-of-type {\n",
       "        vertical-align: middle;\n",
       "    }\n",
       "\n",
       "    .dataframe tbody tr th {\n",
       "        vertical-align: top;\n",
       "    }\n",
       "\n",
       "    .dataframe thead th {\n",
       "        text-align: right;\n",
       "    }\n",
       "</style>\n",
       "<table border=\"1\" class=\"dataframe\">\n",
       "  <thead>\n",
       "    <tr style=\"text-align: right;\">\n",
       "      <th></th>\n",
       "      <th>Колонка 1</th>\n",
       "      <th>Колонка 2</th>\n",
       "      <th>Колонка 3</th>\n",
       "    </tr>\n",
       "  </thead>\n",
       "  <tbody>\n",
       "    <tr>\n",
       "      <th>0</th>\n",
       "      <td>1</td>\n",
       "      <td>36</td>\n",
       "      <td>NaN</td>\n",
       "    </tr>\n",
       "    <tr>\n",
       "      <th>1</th>\n",
       "      <td>4</td>\n",
       "      <td>25</td>\n",
       "      <td>9.0</td>\n",
       "    </tr>\n",
       "    <tr>\n",
       "      <th>2</th>\n",
       "      <td>9</td>\n",
       "      <td>16</td>\n",
       "      <td>25.0</td>\n",
       "    </tr>\n",
       "    <tr>\n",
       "      <th>3</th>\n",
       "      <td>16</td>\n",
       "      <td>9</td>\n",
       "      <td>0.0</td>\n",
       "    </tr>\n",
       "    <tr>\n",
       "      <th>4</th>\n",
       "      <td>25</td>\n",
       "      <td>4</td>\n",
       "      <td>81.0</td>\n",
       "    </tr>\n",
       "    <tr>\n",
       "      <th>5</th>\n",
       "      <td>36</td>\n",
       "      <td>1</td>\n",
       "      <td>121.0</td>\n",
       "    </tr>\n",
       "  </tbody>\n",
       "</table>\n",
       "</div>"
      ],
      "text/plain": [
       "   Колонка 1  Колонка 2  Колонка 3\n",
       "0          1         36        NaN\n",
       "1          4         25        9.0\n",
       "2          9         16       25.0\n",
       "3         16          9        0.0\n",
       "4         25          4       81.0\n",
       "5         36          1      121.0"
      ]
     },
     "execution_count": 29,
     "metadata": {},
     "output_type": "execute_result"
    }
   ],
   "source": [
    "df.iloc[:, :3] ** 2"
   ]
  },
  {
   "cell_type": "markdown",
   "id": "42705d37",
   "metadata": {},
   "source": [
    "#### Сложение со списком идет построчно"
   ]
  },
  {
   "cell_type": "code",
   "execution_count": 30,
   "id": "a86f8a8d",
   "metadata": {},
   "outputs": [
    {
     "data": {
      "text/html": [
       "<div>\n",
       "<style scoped>\n",
       "    .dataframe tbody tr th:only-of-type {\n",
       "        vertical-align: middle;\n",
       "    }\n",
       "\n",
       "    .dataframe tbody tr th {\n",
       "        vertical-align: top;\n",
       "    }\n",
       "\n",
       "    .dataframe thead th {\n",
       "        text-align: right;\n",
       "    }\n",
       "</style>\n",
       "<table border=\"1\" class=\"dataframe\">\n",
       "  <thead>\n",
       "    <tr style=\"text-align: right;\">\n",
       "      <th></th>\n",
       "      <th>Колонка 1</th>\n",
       "      <th>Колонка 2</th>\n",
       "      <th>Колонка 3</th>\n",
       "    </tr>\n",
       "  </thead>\n",
       "  <tbody>\n",
       "    <tr>\n",
       "      <th>0</th>\n",
       "      <td>101</td>\n",
       "      <td>10006</td>\n",
       "      <td>NaN</td>\n",
       "    </tr>\n",
       "    <tr>\n",
       "      <th>1</th>\n",
       "      <td>102</td>\n",
       "      <td>10005</td>\n",
       "      <td>1000003.0</td>\n",
       "    </tr>\n",
       "    <tr>\n",
       "      <th>2</th>\n",
       "      <td>103</td>\n",
       "      <td>10004</td>\n",
       "      <td>1000005.0</td>\n",
       "    </tr>\n",
       "    <tr>\n",
       "      <th>3</th>\n",
       "      <td>104</td>\n",
       "      <td>10003</td>\n",
       "      <td>1000000.0</td>\n",
       "    </tr>\n",
       "    <tr>\n",
       "      <th>4</th>\n",
       "      <td>105</td>\n",
       "      <td>10002</td>\n",
       "      <td>1000009.0</td>\n",
       "    </tr>\n",
       "    <tr>\n",
       "      <th>5</th>\n",
       "      <td>106</td>\n",
       "      <td>10001</td>\n",
       "      <td>1000011.0</td>\n",
       "    </tr>\n",
       "  </tbody>\n",
       "</table>\n",
       "</div>"
      ],
      "text/plain": [
       "   Колонка 1  Колонка 2  Колонка 3\n",
       "0        101      10006        NaN\n",
       "1        102      10005  1000003.0\n",
       "2        103      10004  1000005.0\n",
       "3        104      10003  1000000.0\n",
       "4        105      10002  1000009.0\n",
       "5        106      10001  1000011.0"
      ]
     },
     "execution_count": 30,
     "metadata": {},
     "output_type": "execute_result"
    }
   ],
   "source": [
    "df.iloc[:, :3] + [100, 10000, 1000000]"
   ]
  },
  {
   "cell_type": "markdown",
   "id": "6c9853e9",
   "metadata": {},
   "source": [
    "Поэтому просто так колонку к датафрему прибавить не получится"
   ]
  },
  {
   "cell_type": "code",
   "execution_count": null,
   "id": "d0534675",
   "metadata": {},
   "outputs": [],
   "source": [
    "df.iloc[:, :3] + df['Колонка 1']"
   ]
  },
  {
   "cell_type": "code",
   "execution_count": null,
   "id": "83518317",
   "metadata": {},
   "outputs": [],
   "source": [
    "df['Колонка 1'].to_numpy().reshape(-1, 1)"
   ]
  },
  {
   "cell_type": "code",
   "execution_count": null,
   "id": "1f018209",
   "metadata": {},
   "outputs": [],
   "source": [
    "df.iloc[:, :3] + df['Колонка 1'].to_numpy().reshape(-1, 1)"
   ]
  },
  {
   "cell_type": "code",
   "execution_count": null,
   "id": "ac586f3f",
   "metadata": {},
   "outputs": [],
   "source": []
  },
  {
   "cell_type": "code",
   "execution_count": null,
   "id": "aec79566",
   "metadata": {},
   "outputs": [],
   "source": []
  },
  {
   "cell_type": "code",
   "execution_count": null,
   "id": "ccd73dbe",
   "metadata": {},
   "outputs": [],
   "source": []
  },
  {
   "cell_type": "code",
   "execution_count": null,
   "id": "2b24c7b9",
   "metadata": {},
   "outputs": [],
   "source": []
  },
  {
   "cell_type": "code",
   "execution_count": null,
   "id": "4740024f",
   "metadata": {},
   "outputs": [],
   "source": []
  },
  {
   "cell_type": "code",
   "execution_count": null,
   "id": "2759e45a",
   "metadata": {},
   "outputs": [],
   "source": []
  },
  {
   "cell_type": "code",
   "execution_count": null,
   "id": "86930f45",
   "metadata": {},
   "outputs": [],
   "source": []
  },
  {
   "cell_type": "code",
   "execution_count": null,
   "id": "d2ead4cb",
   "metadata": {},
   "outputs": [],
   "source": []
  },
  {
   "cell_type": "code",
   "execution_count": null,
   "id": "e63d52bf",
   "metadata": {},
   "outputs": [],
   "source": []
  },
  {
   "cell_type": "markdown",
   "id": "a1906d90",
   "metadata": {},
   "source": [
    "# Операции с векторами и матрицами"
   ]
  },
  {
   "cell_type": "markdown",
   "id": "efc9da46",
   "metadata": {},
   "source": [
    "Создаем 2 матрицы и вектор"
   ]
  },
  {
   "cell_type": "code",
   "execution_count": 31,
   "id": "89c5e851",
   "metadata": {},
   "outputs": [
    {
     "data": {
      "text/plain": [
       "array([[ 0,  1,  2,  3],\n",
       "       [ 4,  5,  6,  7],\n",
       "       [ 8,  9, 10, 11],\n",
       "       [12, 13, 14, 15],\n",
       "       [16, 17, 18, 19],\n",
       "       [20, 21, 22, 23]])"
      ]
     },
     "execution_count": 31,
     "metadata": {},
     "output_type": "execute_result"
    }
   ],
   "source": [
    "np.random.seed(32)\n",
    "matrix_1 = np.arange(24).reshape(6, -1)\n",
    "matrix_1"
   ]
  },
  {
   "cell_type": "code",
   "execution_count": 32,
   "id": "87cb3200",
   "metadata": {},
   "outputs": [
    {
     "data": {
      "text/plain": [
       "array([[7, 5, 6, 8, 3, 7],\n",
       "       [9, 3, 5, 9, 4, 1],\n",
       "       [3, 1, 2, 3, 8, 2],\n",
       "       [4, 2, 4, 4, 9, 5]], dtype=int32)"
      ]
     },
     "execution_count": 32,
     "metadata": {},
     "output_type": "execute_result"
    }
   ],
   "source": [
    "np.random.seed(32)\n",
    "matrix_2 = np.random.randint(10, size=(4, 6))\n",
    "matrix_2"
   ]
  },
  {
   "cell_type": "code",
   "execution_count": 33,
   "id": "6ac32cc3",
   "metadata": {},
   "outputs": [
    {
     "data": {
      "text/plain": [
       "array([0, 1, 2, 3])"
      ]
     },
     "execution_count": 33,
     "metadata": {},
     "output_type": "execute_result"
    }
   ],
   "source": [
    "vector = np.arange(4)\n",
    "vector"
   ]
  },
  {
   "cell_type": "markdown",
   "id": "8f75d08f",
   "metadata": {},
   "source": [
    "Все операции определены так же, как и у DataFrame и Series"
   ]
  },
  {
   "cell_type": "code",
   "execution_count": 34,
   "id": "54aba467",
   "metadata": {},
   "outputs": [
    {
     "data": {
      "text/plain": [
       "array([[ 0,  2,  4,  6],\n",
       "       [ 8, 10, 12, 14],\n",
       "       [16, 18, 20, 22],\n",
       "       [24, 26, 28, 30],\n",
       "       [32, 34, 36, 38],\n",
       "       [40, 42, 44, 46]])"
      ]
     },
     "execution_count": 34,
     "metadata": {},
     "output_type": "execute_result"
    }
   ],
   "source": [
    "matrix_1 * 2"
   ]
  },
  {
   "cell_type": "code",
   "execution_count": 35,
   "id": "78a7bce6",
   "metadata": {},
   "outputs": [
    {
     "data": {
      "text/plain": [
       "array([10, 11, 12, 13])"
      ]
     },
     "execution_count": 35,
     "metadata": {},
     "output_type": "execute_result"
    }
   ],
   "source": [
    "vector + 10"
   ]
  },
  {
   "cell_type": "code",
   "execution_count": 36,
   "id": "d915d52a",
   "metadata": {},
   "outputs": [
    {
     "data": {
      "text/plain": [
       "array([[ 7, 10,  5,  7],\n",
       "       [ 9,  8,  7,  9],\n",
       "       [14, 14, 12, 15],\n",
       "       [20, 22, 17, 19],\n",
       "       [19, 21, 26, 28],\n",
       "       [27, 22, 24, 28]])"
      ]
     },
     "execution_count": 36,
     "metadata": {},
     "output_type": "execute_result"
    }
   ],
   "source": [
    "matrix_1 + matrix_2.T"
   ]
  },
  {
   "cell_type": "code",
   "execution_count": 37,
   "id": "5b5b9b4a",
   "metadata": {},
   "outputs": [
    {
     "data": {
      "text/plain": [
       "array([[ 0,  2,  4,  6],\n",
       "       [ 4,  6,  8, 10],\n",
       "       [ 8, 10, 12, 14],\n",
       "       [12, 14, 16, 18],\n",
       "       [16, 18, 20, 22],\n",
       "       [20, 22, 24, 26]])"
      ]
     },
     "execution_count": 37,
     "metadata": {},
     "output_type": "execute_result"
    }
   ],
   "source": [
    "matrix_1 + vector"
   ]
  },
  {
   "cell_type": "code",
   "execution_count": 38,
   "id": "37412363",
   "metadata": {},
   "outputs": [
    {
     "data": {
      "text/plain": [
       "array([[ 7,  5,  6,  8,  3,  7],\n",
       "       [10,  4,  6, 10,  5,  2],\n",
       "       [ 5,  3,  4,  5, 10,  4],\n",
       "       [ 7,  5,  7,  7, 12,  8]])"
      ]
     },
     "execution_count": 38,
     "metadata": {},
     "output_type": "execute_result"
    }
   ],
   "source": [
    "matrix_2 + vector.reshape(-1, 1)"
   ]
  },
  {
   "cell_type": "code",
   "execution_count": 39,
   "id": "37f29a24",
   "metadata": {},
   "outputs": [
    {
     "data": {
      "text/plain": [
       "array([[ 7,  5,  6,  8,  3,  7],\n",
       "       [10,  4,  6, 10,  5,  2],\n",
       "       [ 5,  3,  4,  5, 10,  4],\n",
       "       [ 7,  5,  7,  7, 12,  8]])"
      ]
     },
     "execution_count": 39,
     "metadata": {},
     "output_type": "execute_result"
    }
   ],
   "source": [
    "(matrix_2.T + vector).T"
   ]
  },
  {
   "cell_type": "markdown",
   "id": "a189c563",
   "metadata": {},
   "source": [
    "### Скалярное произведение"
   ]
  },
  {
   "cell_type": "code",
   "execution_count": 40,
   "id": "abc7f8ef",
   "metadata": {},
   "outputs": [
    {
     "data": {
      "text/plain": [
       "np.int64(44)"
      ]
     },
     "execution_count": 40,
     "metadata": {},
     "output_type": "execute_result"
    }
   ],
   "source": [
    "vector @ np.arange(5, 9)"
   ]
  },
  {
   "cell_type": "code",
   "execution_count": 41,
   "id": "a3d99e98",
   "metadata": {},
   "outputs": [
    {
     "name": "stdout",
     "output_type": "stream",
     "text": [
      "[0 1 2 3]\n",
      "[5 6 7 8]\n",
      "---------\n",
      "[ 0  6 14 24]\n",
      "44\n"
     ]
    }
   ],
   "source": [
    "print(vector)\n",
    "print(np.arange(5, 9))\n",
    "print('---------')\n",
    "print(vector * np.arange(5, 9))\n",
    "print((vector * np.arange(5, 9)).sum())"
   ]
  },
  {
   "cell_type": "markdown",
   "id": "18d96da6",
   "metadata": {},
   "source": [
    "#### Матричное умнжение"
   ]
  },
  {
   "attachments": {
    "image.png": {
     "image/png": "[encoded data removed]"
    }
   },
   "cell_type": "markdown",
   "id": "1e2bbccc",
   "metadata": {},
   "source": [
    "![image.png](attachment:image.png)"
   ]
  },
  {
   "cell_type": "code",
   "execution_count": 42,
   "id": "2d83634e",
   "metadata": {},
   "outputs": [
    {
     "data": {
      "text/plain": [
       "array([[ 27,  11,  21,  27,  47,  20],\n",
       "       [119,  55,  89, 123, 143,  80],\n",
       "       [211,  99, 157, 219, 239, 140],\n",
       "       [303, 143, 225, 315, 335, 200],\n",
       "       [395, 187, 293, 411, 431, 260],\n",
       "       [487, 231, 361, 507, 527, 320]])"
      ]
     },
     "execution_count": 42,
     "metadata": {},
     "output_type": "execute_result"
    }
   ],
   "source": [
    "matrix_1 @ matrix_2"
   ]
  },
  {
   "cell_type": "code",
   "execution_count": 43,
   "id": "e56ade8c",
   "metadata": {},
   "outputs": [
    {
     "data": {
      "text/plain": [
       "array([[ 0,  1,  2,  3],\n",
       "       [ 4,  5,  6,  7],\n",
       "       [ 8,  9, 10, 11],\n",
       "       [12, 13, 14, 15],\n",
       "       [16, 17, 18, 19],\n",
       "       [20, 21, 22, 23]])"
      ]
     },
     "execution_count": 43,
     "metadata": {},
     "output_type": "execute_result"
    }
   ],
   "source": [
    "matrix_1"
   ]
  },
  {
   "cell_type": "code",
   "execution_count": 44,
   "id": "0472fd97",
   "metadata": {},
   "outputs": [
    {
     "data": {
      "text/plain": [
       "array([[7, 5, 6, 8, 3, 7],\n",
       "       [9, 3, 5, 9, 4, 1],\n",
       "       [3, 1, 2, 3, 8, 2],\n",
       "       [4, 2, 4, 4, 9, 5]], dtype=int32)"
      ]
     },
     "execution_count": 44,
     "metadata": {},
     "output_type": "execute_result"
    }
   ],
   "source": [
    "matrix_2"
   ]
  },
  {
   "cell_type": "code",
   "execution_count": 45,
   "id": "6269578d",
   "metadata": {},
   "outputs": [
    {
     "data": {
      "text/plain": [
       "array([[352, 388, 424, 460],\n",
       "       [244, 275, 306, 337],\n",
       "       [224, 243, 262, 281],\n",
       "       [332, 360, 388, 416]])"
      ]
     },
     "execution_count": 45,
     "metadata": {},
     "output_type": "execute_result"
    }
   ],
   "source": [
    "matrix_2 @ matrix_1"
   ]
  },
  {
   "cell_type": "code",
   "execution_count": 46,
   "id": "415ab4f5",
   "metadata": {},
   "outputs": [
    {
     "data": {
      "text/plain": [
       "array([[ 27,  11,  21,  27,  47,  20],\n",
       "       [119,  55,  89, 123, 143,  80],\n",
       "       [211,  99, 157, 219, 239, 140],\n",
       "       [303, 143, 225, 315, 335, 200],\n",
       "       [395, 187, 293, 411, 431, 260],\n",
       "       [487, 231, 361, 507, 527, 320]])"
      ]
     },
     "execution_count": 46,
     "metadata": {},
     "output_type": "execute_result"
    }
   ],
   "source": [
    "matrix_1.dot(matrix_2)"
   ]
  },
  {
   "cell_type": "code",
   "execution_count": null,
   "id": "e01e7ddd",
   "metadata": {},
   "outputs": [],
   "source": []
  },
  {
   "cell_type": "code",
   "execution_count": null,
   "id": "84dbaa68",
   "metadata": {},
   "outputs": [],
   "source": []
  },
  {
   "cell_type": "code",
   "execution_count": null,
   "id": "01778cce",
   "metadata": {},
   "outputs": [],
   "source": []
  },
  {
   "cell_type": "markdown",
   "id": "68187511",
   "metadata": {},
   "source": [
    "### Операциями с векторами разных размеров"
   ]
  },
  {
   "cell_type": "code",
   "execution_count": null,
   "id": "cb666392",
   "metadata": {},
   "outputs": [],
   "source": [
    "vector_1 = np.arange(1, 10).reshape(-1, 1)\n",
    "vector_1"
   ]
  },
  {
   "cell_type": "code",
   "execution_count": null,
   "id": "3570f0bc",
   "metadata": {},
   "outputs": [],
   "source": [
    "vector_2 = np.arange(1, 7)\n",
    "vector_2"
   ]
  },
  {
   "cell_type": "code",
   "execution_count": null,
   "id": "4df19592",
   "metadata": {},
   "outputs": [],
   "source": [
    "vector_1 * vector_2"
   ]
  },
  {
   "cell_type": "code",
   "execution_count": null,
   "id": "97ba5162",
   "metadata": {},
   "outputs": [],
   "source": [
    "vector_1 @ vector_2.reshape(1, -1)"
   ]
  },
  {
   "cell_type": "code",
   "execution_count": null,
   "id": "13eae8f1",
   "metadata": {},
   "outputs": [],
   "source": [
    "vector_1 @ vector_2[None, ...]"
   ]
  },
  {
   "cell_type": "code",
   "execution_count": null,
   "id": "c3a7ce7a",
   "metadata": {},
   "outputs": [],
   "source": []
  },
  {
   "cell_type": "markdown",
   "id": "6948a6b5",
   "metadata": {},
   "source": [
    "### Многомерные операции"
   ]
  },
  {
   "cell_type": "code",
   "execution_count": 47,
   "id": "84c6c883",
   "metadata": {},
   "outputs": [
    {
     "data": {
      "text/plain": [
       "array([[[6, 3, 7, 4],\n",
       "        [6, 9, 2, 6],\n",
       "        [7, 4, 3, 7],\n",
       "        [7, 2, 5, 4]],\n",
       "\n",
       "       [[1, 7, 5, 1],\n",
       "        [4, 0, 9, 5],\n",
       "        [8, 0, 9, 2],\n",
       "        [6, 3, 8, 2]]], dtype=int32)"
      ]
     },
     "execution_count": 47,
     "metadata": {},
     "output_type": "execute_result"
    }
   ],
   "source": [
    "np.random.seed(42)\n",
    "tenzor = np.random.randint(10, size=(2, 4, 4))\n",
    "np.random.seed(4223)\n",
    "matrix = np.random.randint(10, size=(4, 4))\n",
    "tenzor"
   ]
  },
  {
   "cell_type": "code",
   "execution_count": null,
   "id": "5eeacc7b",
   "metadata": {},
   "outputs": [],
   "source": [
    "matrix"
   ]
  },
  {
   "cell_type": "code",
   "execution_count": null,
   "id": "c801655e",
   "metadata": {},
   "outputs": [],
   "source": [
    "tenzor.shape"
   ]
  },
  {
   "cell_type": "code",
   "execution_count": 48,
   "id": "b45a473c",
   "metadata": {},
   "outputs": [
    {
     "data": {
      "text/plain": [
       "array([[6, 3, 7, 4],\n",
       "       [6, 9, 2, 6],\n",
       "       [7, 4, 3, 7],\n",
       "       [7, 2, 5, 4]], dtype=int32)"
      ]
     },
     "execution_count": 48,
     "metadata": {},
     "output_type": "execute_result"
    }
   ],
   "source": [
    "tenzor[0]"
   ]
  },
  {
   "cell_type": "code",
   "execution_count": 49,
   "id": "9ba12764",
   "metadata": {},
   "outputs": [
    {
     "data": {
      "text/plain": [
       "array([[1, 7, 5, 1],\n",
       "       [4, 0, 9, 5],\n",
       "       [8, 0, 9, 2],\n",
       "       [6, 3, 8, 2]], dtype=int32)"
      ]
     },
     "execution_count": 49,
     "metadata": {},
     "output_type": "execute_result"
    }
   ],
   "source": [
    "tenzor[1]"
   ]
  },
  {
   "cell_type": "code",
   "execution_count": 50,
   "id": "feceb9a3",
   "metadata": {},
   "outputs": [
    {
     "data": {
      "text/plain": [
       "array([[[ 74,  80,  41,  68],\n",
       "        [ 78,  60,  46,  65],\n",
       "        [ 97,  42,  87,  66],\n",
       "        [138, 107,  75, 112]],\n",
       "\n",
       "       [[ 47,  21,  96,  42],\n",
       "        [ 60,  23,  97,  34],\n",
       "        [ 54,  71,  98,  22],\n",
       "        [113,  31, 177,  65]]], dtype=int32)"
      ]
     },
     "execution_count": 50,
     "metadata": {},
     "output_type": "execute_result"
    }
   ],
   "source": [
    "matrix @ tenzor"
   ]
  },
  {
   "cell_type": "code",
   "execution_count": 51,
   "id": "bfc86dc4",
   "metadata": {},
   "outputs": [
    {
     "data": {
      "text/plain": [
       "array([[ 74,  80,  41,  68],\n",
       "       [ 78,  60,  46,  65],\n",
       "       [ 97,  42,  87,  66],\n",
       "       [138, 107,  75, 112]], dtype=int32)"
      ]
     },
     "execution_count": 51,
     "metadata": {},
     "output_type": "execute_result"
    }
   ],
   "source": [
    "matrix @ tenzor[0]"
   ]
  },
  {
   "cell_type": "code",
   "execution_count": null,
   "id": "a995bdd5",
   "metadata": {},
   "outputs": [],
   "source": [
    "matrix @ tenzor[1]"
   ]
  },
  {
   "cell_type": "code",
   "execution_count": 52,
   "id": "87455a7a",
   "metadata": {},
   "outputs": [
    {
     "data": {
      "text/plain": [
       "array([[[131,  81,  89, 107],\n",
       "        [146, 119,  96, 116],\n",
       "        [136,  83, 101, 101],\n",
       "        [117,  67,  88,  91]],\n",
       "\n",
       "       [[ 75,  10, 121,  48],\n",
       "        [106,  43, 141,  32],\n",
       "        [ 92,  62, 137,  30],\n",
       "        [ 94,  48, 145,  41]]], dtype=int32)"
      ]
     },
     "execution_count": 52,
     "metadata": {},
     "output_type": "execute_result"
    }
   ],
   "source": [
    "tenzor @ tenzor"
   ]
  },
  {
   "cell_type": "code",
   "execution_count": 53,
   "id": "6f1823db",
   "metadata": {},
   "outputs": [
    {
     "data": {
      "text/plain": [
       "array([[131,  81,  89, 107],\n",
       "       [146, 119,  96, 116],\n",
       "       [136,  83, 101, 101],\n",
       "       [117,  67,  88,  91]], dtype=int32)"
      ]
     },
     "execution_count": 53,
     "metadata": {},
     "output_type": "execute_result"
    }
   ],
   "source": [
    "tenzor[0] @ tenzor[0]"
   ]
  },
  {
   "cell_type": "markdown",
   "id": "59837ccf",
   "metadata": {},
   "source": [
    "Это работает не только с матричным умножением, но и с другими операциями"
   ]
  },
  {
   "cell_type": "code",
   "execution_count": 54,
   "id": "ee05add1",
   "metadata": {},
   "outputs": [
    {
     "data": {
      "text/plain": [
       "array([[[36,  9, 49, 16],\n",
       "        [36, 81,  4, 36],\n",
       "        [49, 16,  9, 49],\n",
       "        [49,  4, 25, 16]],\n",
       "\n",
       "       [[ 6, 21, 35,  4],\n",
       "        [24,  0, 18, 30],\n",
       "        [56,  0, 27, 14],\n",
       "        [42,  6, 40,  8]]], dtype=int32)"
      ]
     },
     "execution_count": 54,
     "metadata": {},
     "output_type": "execute_result"
    }
   ],
   "source": [
    "tenzor * tenzor[0]"
   ]
  },
  {
   "cell_type": "code",
   "execution_count": null,
   "id": "2b1f9a03",
   "metadata": {},
   "outputs": [],
   "source": []
  },
  {
   "cell_type": "code",
   "execution_count": null,
   "id": "ee46a7fb",
   "metadata": {},
   "outputs": [],
   "source": []
  },
  {
   "cell_type": "code",
   "execution_count": null,
   "id": "2ec2931d",
   "metadata": {},
   "outputs": [],
   "source": []
  },
  {
   "cell_type": "code",
   "execution_count": null,
   "id": "7a0e11b8",
   "metadata": {},
   "outputs": [],
   "source": []
  },
  {
   "cell_type": "code",
   "execution_count": null,
   "id": "858627ef",
   "metadata": {},
   "outputs": [],
   "source": []
  },
  {
   "cell_type": "code",
   "execution_count": null,
   "id": "df325bcc",
   "metadata": {},
   "outputs": [],
   "source": []
  },
  {
   "cell_type": "code",
   "execution_count": null,
   "id": "8dff4889",
   "metadata": {},
   "outputs": [],
   "source": []
  },
  {
   "cell_type": "code",
   "execution_count": null,
   "id": "22372f9a",
   "metadata": {},
   "outputs": [],
   "source": []
  },
  {
   "cell_type": "code",
   "execution_count": null,
   "id": "5d2c3fbf",
   "metadata": {},
   "outputs": [],
   "source": []
  },
  {
   "cell_type": "markdown",
   "id": "84b02bf6",
   "metadata": {},
   "source": [
    "# Задания"
   ]
  },
  {
   "cell_type": "markdown",
   "id": "f503808b",
   "metadata": {},
   "source": [
    "#### Описание таблиц лежит [здесь](https://github.com/victorlymarev/pandas/tree/main/tables#%D0%BE%D0%BF%D0%B8%D1%81%D0%B0%D0%BD%D0%B8%D0%B5-%D1%82%D0%B0%D0%B1%D0%BB%D0%B8%D1%86)"
   ]
  },
  {
   "cell_type": "markdown",
   "id": "aa178744",
   "metadata": {},
   "source": [
    "Некоторые таблицы занимают много памяти, поэтому каждые 5-10 заданий лучше перезапускайте ноутбук.\n",
    "\n",
    "В формулировке некоторых заданий может содержаться вариативность. Если у вас есть сомнения, что требуется в задании, попробуйте решить несколько вариантов. Если вы не понимаете задание, можете написать об этом в комментариях под видео.\n",
    "\n",
    "В большинстве случаев внешний вид итоговой таблицы не определен. Выведите на экран наиболее адекватный вариант. То есть таблицу, из которой можно будет сделать выводы.\n",
    "\n",
    "Курс пока находится в разработке. Вы можете помочь другим людям добавив свое решение [сюда](https://docs.google.com/forms/d/1HYTBz_KfssY3Jps2dC3n0YnEqa6WBb5OIhLo1d32Xzw/edit).\n",
    "\n",
    "Посмотреть решения других людей можно [здесь](https://docs.google.com/spreadsheets/d/1pMDYO-9UneLbPPnEuQ2shig0TOJdQTU-zipifyAnZMk/edit?resourcekey#gid=1998648012)"
   ]
  },
  {
   "cell_type": "markdown",
   "id": "4c531203",
   "metadata": {},
   "source": [
    "### Задание 1\n",
    "\n",
    "Перемножьте колонки price (цена) и goods_number (количество товара в чеке). Назавите колонку sum_price"
   ]
  },
  {
   "cell_type": "code",
   "execution_count": null,
   "id": "5d0286e3",
   "metadata": {},
   "outputs": [],
   "source": [
    "# таблица sales - большая, и в некоторых случаях ваш компьютер может не справиться с ее обработкой\n",
    "# поэтому лучше работайте с частью этой таблицы\n",
    "# но если вы хотите попробовать поработать с полной версией таблицы,\n",
    "# можете заменить переменную path_sales_2022 на path_sales внутри функции read_parquet\n",
    "\n",
    "import os\n",
    "import pandas as pd\n",
    "\n",
    "path_sales_2022 = '../tables/sales_2022.parquet' if os.path.exists('../tables/sales_2022.parquet') else 'https://drive.google.com/uc?id=17e7FwXVdsWc2aziK9s5KidIvPcfKt9F5'\n",
    "# path_sales = '../tables/sales.parquet' if os.path.exists('../tables/sales.parquet') else \"https://drive.usercontent.google.com/download?id=15KwSxyM6hpNABGe6_vsrFZvD09VfHFyK&export=download&authuser=1&confirm=t&uuid=115bd48c-cc2c-4f2a-8b42-be5ca6ef6db8&at=APZUnTUVb8nfNANw5wr9Cad7PJ3U:1693327774694\"\n",
    "\n",
    "sales = pd.read_parquet(path_sales_2022)\n",
    "sales.head()"
   ]
  },
  {
   "cell_type": "code",
   "execution_count": null,
   "id": "efc68076",
   "metadata": {},
   "outputs": [],
   "source": [
    "# Напишите свой код здесь"
   ]
  },
  {
   "cell_type": "markdown",
   "id": "fcd706f2",
   "metadata": {},
   "source": [
    "### Задание 2\n",
    "\n",
    "Посчитайте заработную плату после вычета налога в 13%"
   ]
  },
  {
   "cell_type": "code",
   "execution_count": null,
   "id": "17618015",
   "metadata": {},
   "outputs": [],
   "source": [
    "import os\n",
    "import pandas as pd\n",
    "\n",
    "path_empl = '../tables/employees.parquet' if os.path.exists('../tables/employees.parquet') else 'https://drive.google.com/uc?id=1AARD5-eVlCxoApt5CYZebrC3Cqw42lvj'\n",
    "\n",
    "empl = pd.read_parquet(path_empl)\n",
    "empl.head()"
   ]
  },
  {
   "cell_type": "code",
   "execution_count": null,
   "id": "75dc21ba",
   "metadata": {},
   "outputs": [],
   "source": [
    "# Напишите свой код здесь"
   ]
  },
  {
   "cell_type": "markdown",
   "id": "ba759e49",
   "metadata": {},
   "source": [
    "### Задание 3\n",
    "\n",
    "Посчитайте размер премии. Для этого создайте новую колонку bonus.\n",
    "\n",
    "Премия выплачивается 31 декабря каждого года. В остальные месяцы премия равна нулю.\n",
    "Для управляющего персонала (mgmt == 1), она равна двум заработным платам, а для всех остальных сотрудников она равна зарплате,\n",
    "умноженной на оценку сотрудника и деленную на 5. Если оценка сотрудника пропущена. Заполните это значение числом 5."
   ]
  },
  {
   "cell_type": "code",
   "execution_count": null,
   "id": "ac688733",
   "metadata": {},
   "outputs": [],
   "source": [
    "import os\n",
    "import pandas as pd\n",
    "\n",
    "path_empl = '../tables/employees.parquet' if os.path.exists('../tables/employees.parquet') else 'https://drive.google.com/uc?id=1AARD5-eVlCxoApt5CYZebrC3Cqw42lvj'\n",
    "\n",
    "empl = pd.read_parquet(path_empl)\n",
    "empl.head()"
   ]
  },
  {
   "cell_type": "code",
   "execution_count": null,
   "id": "7e30693e",
   "metadata": {},
   "outputs": [],
   "source": [
    "# Напишите свой код здесь"
   ]
  },
  {
   "cell_type": "markdown",
   "id": "bd335fb4",
   "metadata": {},
   "source": [
    "### Задание 4\n",
    "\n",
    "Соедините колонки city и adress в одну.\n",
    "\n",
    "Пример того, как должна выглядить колонка: г. Воронеж, Пушкинская пл., д. 76"
   ]
  },
  {
   "cell_type": "code",
   "execution_count": null,
   "id": "ce2d942d",
   "metadata": {},
   "outputs": [],
   "source": [
    "import os\n",
    "import pandas as pd\n",
    "\n",
    "path_shops = '../tables/shops.xlsx' if os.path.exists('../tables/shops.xlsx') else 'https://drive.google.com/uc?id=1gfnmceJa3Mc1X06NftTx9G9QfKfprjEB'\n",
    "\n",
    "shops = pd.read_excel(path_shops)\n",
    "shops.head()"
   ]
  },
  {
   "cell_type": "code",
   "execution_count": null,
   "id": "7a36839f",
   "metadata": {},
   "outputs": [],
   "source": [
    "# Напишите свой код здесь"
   ]
  },
  {
   "cell_type": "markdown",
   "id": "5a735426",
   "metadata": {},
   "source": [
    "### Задание 5\n",
    "\n",
    "Для каждого школьника создайте 3 поля: первое поле должно содержать информацию о том, что у школьника по какому-то из предметов есть тройка, второе поле, что есть четверка и третье, что есть пятерка. Закодируйет эту информацию в один столбец\n",
    "\n",
    "Способ кодировки можете выбрать сами. Например, 1 может значить, что у человека выполнено 1 условие, а два других нет, 2 - у человека выполено 2 условие а все остальные нет, 3 - у человека выполено 3 условие а все остальные нет, 4 - у человека выполнено перовое и второе условие, а третье нет и так далее"
   ]
  },
  {
   "cell_type": "code",
   "execution_count": null,
   "id": "3e1a66c8",
   "metadata": {},
   "outputs": [],
   "source": [
    "import os\n",
    "import pandas as pd\n",
    "\n",
    "path_marks = '../tables/школьные оценки.xlsx' if os.path.exists('../tables/школьные оценки.xlsx') else 'https://drive.google.com/uc?id=1v9kRv1I03CXtQ6vFE4mE3hFAty436qAo'\n",
    "marks = pd.read_excel(path_marks)\n",
    "marks.head()"
   ]
  },
  {
   "cell_type": "code",
   "execution_count": null,
   "id": "83c21f3d",
   "metadata": {},
   "outputs": [],
   "source": [
    "# Напишите свой код здесь"
   ]
  },
  {
   "cell_type": "markdown",
   "id": "84c7f915",
   "metadata": {},
   "source": [
    "### Задание 6\n",
    "\n",
    "Мы знаем оценки по разным предметам, но не по геграфии. Оценку по ней уще не поставили. Однако у нас есть модель, которая предсказывает вероятность того, что школьник получит оценки 3, 4 и 5.\n",
    "\n",
    "Посчитайте ожидаемую оценку для каждого школьника (взвесте оценки по вероятности). Для этого колонку 3 умножьте на 3, затем прибавьте к ней колонку 4, уноженную на 4, и колонку 5, умноженную на 5. "
   ]
  },
  {
   "cell_type": "code",
   "execution_count": null,
   "id": "b592baf2",
   "metadata": {},
   "outputs": [],
   "source": [
    "import os\n",
    "import numpy as np\n",
    "import pandas as pd\n",
    "\n",
    "path_marks = '../tables/школьные оценки.xlsx' if os.path.exists('../tables/школьные оценки.xlsx') else 'https://drive.google.com/uc?id=1v9kRv1I03CXtQ6vFE4mE3hFAty436qAo'\n",
    "marks = pd.read_excel(path_marks)\n",
    "p = np.random.rand(len(marks) * 3).reshape(-1, 3)\n",
    "p = p / p.sum(1).reshape(-1, 1)\n",
    "\n",
    "np.random.seed(243)\n",
    "probs = marks[['ФИО', 'Пол']].join(pd.DataFrame(p, columns=[3, 4, 5]))\n",
    "probs.head()"
   ]
  },
  {
   "cell_type": "code",
   "execution_count": null,
   "id": "33a4ff84",
   "metadata": {},
   "outputs": [],
   "source": [
    "# Напишите свой код здесь"
   ]
  },
  {
   "cell_type": "markdown",
   "id": "2280cb4c",
   "metadata": {},
   "source": [
    "### Задание 6\n",
    "\n",
    "В ячейке ниже создается 2 матрицы. Посмотрите их на их размерность при помощи атрибута shape. После этого попробуйте их перемножить: сначала поэлементно, а затем матрично. Однако во втором случае одну из матриц придется транспонировать. Посчитайете 4 варианта: x<sup>T</sup>y, y<sup>T</sup>x, xy<sup>T</sup>, y<sup>T</sup>x"
   ]
  },
  {
   "cell_type": "code",
   "execution_count": null,
   "id": "4053eae5",
   "metadata": {},
   "outputs": [],
   "source": [
    "import numpy as np\n",
    "np.random.seed(455432)\n",
    "x, y = np.random.normal(0, 1, size=(2, 3, 50))"
   ]
  },
  {
   "cell_type": "code",
   "execution_count": null,
   "id": "4283df1f",
   "metadata": {},
   "outputs": [],
   "source": [
    "# Напишите свой код здесь"
   ]
  },
  {
   "cell_type": "markdown",
   "id": "dc9e83f0",
   "metadata": {},
   "source": [
    "### Задание 7\n",
    "\n",
    "Создайте 2 вектора одинакового размера и найдите между ними скалярное произведение"
   ]
  },
  {
   "cell_type": "code",
   "execution_count": null,
   "id": "593a3238",
   "metadata": {},
   "outputs": [],
   "source": [
    "import numpy as np"
   ]
  },
  {
   "cell_type": "code",
   "execution_count": null,
   "id": "b25abc8e",
   "metadata": {},
   "outputs": [],
   "source": [
    "# Напишите свой код здесь"
   ]
  },
  {
   "cell_type": "code",
   "execution_count": null,
   "id": "2050a7dc",
   "metadata": {},
   "outputs": [],
   "source": []
  },
  {
   "cell_type": "code",
   "execution_count": null,
   "id": "54499d76",
   "metadata": {},
   "outputs": [],
   "source": []
  },
  {
   "cell_type": "code",
   "execution_count": null,
   "id": "2d3cc725",
   "metadata": {},
   "outputs": [],
   "source": []
  }
 ],
 "metadata": {
  "kernelspec": {
   "display_name": "Python 3 (ipykernel)",
   "language": "python",
   "name": "python3"
  },
  "language_info": {
   "codemirror_mode": {
    "name": "ipython",
    "version": 3
   },
   "file_extension": ".py",
   "mimetype": "text/x-python",
   "name": "python",
   "nbconvert_exporter": "python",
   "pygments_lexer": "ipython3",
   "version": "3.11.5"
  }
 },
 "nbformat": 4,
 "nbformat_minor": 5
}
