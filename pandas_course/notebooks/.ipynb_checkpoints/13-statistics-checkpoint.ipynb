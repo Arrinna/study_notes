{
 "cells": [
  {
   "cell_type": "markdown",
   "id": "863f8c2b",
   "metadata": {},
   "source": [
    "<a target=\"_blank\" href=\"https://colab.research.google.com/github/victorlymarev/pandas/blob/main/notebooks/13-statistics.ipynb\">\n",
    "  <img src=\"https://colab.research.google.com/assets/colab-badge.svg\" alt=\"Open In Colab\"/>\n",
    "</a>"
   ]
  },
  {
   "cell_type": "markdown",
   "id": "e90dc97a",
   "metadata": {},
   "source": [
    "# Агрегации \n",
    "#### [Ссылка на видео](https://youtu.be/AYeN8DhNNIM)"
   ]
  },
  {
   "cell_type": "code",
   "execution_count": 1,
   "id": "0e95af5e",
   "metadata": {
    "scrolled": true
   },
   "outputs": [],
   "source": [
    "import pandas as pd\n",
    "import numpy as np\n",
    "import seaborn as sns\n",
    "import matplotlib.pyplot as plt\n",
    "import os"
   ]
  },
  {
   "cell_type": "code",
   "execution_count": 2,
   "id": "b9ea42f4",
   "metadata": {
    "scrolled": true
   },
   "outputs": [
    {
     "data": {
      "text/html": [
       "<div>\n",
       "<style scoped>\n",
       "    .dataframe tbody tr th:only-of-type {\n",
       "        vertical-align: middle;\n",
       "    }\n",
       "\n",
       "    .dataframe tbody tr th {\n",
       "        vertical-align: top;\n",
       "    }\n",
       "\n",
       "    .dataframe thead th {\n",
       "        text-align: right;\n",
       "    }\n",
       "</style>\n",
       "<table border=\"1\" class=\"dataframe\">\n",
       "  <thead>\n",
       "    <tr style=\"text-align: right;\">\n",
       "      <th></th>\n",
       "      <th>report_dt</th>\n",
       "      <th>fio</th>\n",
       "      <th>sex</th>\n",
       "      <th>birth_date</th>\n",
       "      <th>mgmt_flag</th>\n",
       "      <th>employee_evaluation</th>\n",
       "      <th>salary</th>\n",
       "    </tr>\n",
       "  </thead>\n",
       "  <tbody>\n",
       "    <tr>\n",
       "      <th>27931</th>\n",
       "      <td>2022-10-31</td>\n",
       "      <td>Васильева Дарья Тимуровна</td>\n",
       "      <td>женский</td>\n",
       "      <td>1994-02-16</td>\n",
       "      <td>1</td>\n",
       "      <td>4.0</td>\n",
       "      <td>76600.0</td>\n",
       "    </tr>\n",
       "    <tr>\n",
       "      <th>27932</th>\n",
       "      <td>2022-10-31</td>\n",
       "      <td>Балашов Петр Максимович</td>\n",
       "      <td>мужской</td>\n",
       "      <td>1980-09-16</td>\n",
       "      <td>0</td>\n",
       "      <td>7.0</td>\n",
       "      <td>42700.0</td>\n",
       "    </tr>\n",
       "    <tr>\n",
       "      <th>27933</th>\n",
       "      <td>2022-10-31</td>\n",
       "      <td>Филимонов Дмитрий Васильевич</td>\n",
       "      <td>мужской</td>\n",
       "      <td>1974-12-12</td>\n",
       "      <td>0</td>\n",
       "      <td>4.0</td>\n",
       "      <td>20900.0</td>\n",
       "    </tr>\n",
       "    <tr>\n",
       "      <th>27934</th>\n",
       "      <td>2022-10-31</td>\n",
       "      <td>Демьянова Юлия Ярославовна</td>\n",
       "      <td>женский</td>\n",
       "      <td>1980-08-15</td>\n",
       "      <td>0</td>\n",
       "      <td>5.0</td>\n",
       "      <td>21200.0</td>\n",
       "    </tr>\n",
       "    <tr>\n",
       "      <th>27935</th>\n",
       "      <td>2022-10-31</td>\n",
       "      <td>Головина Кристина Захаровна</td>\n",
       "      <td>женский</td>\n",
       "      <td>1974-04-30</td>\n",
       "      <td>0</td>\n",
       "      <td>8.0</td>\n",
       "      <td>29000.0</td>\n",
       "    </tr>\n",
       "  </tbody>\n",
       "</table>\n",
       "</div>"
      ],
      "text/plain": [
       "       report_dt                           fio      sex birth_date  mgmt_flag  \\\n",
       "27931 2022-10-31     Васильева Дарья Тимуровна  женский 1994-02-16          1   \n",
       "27932 2022-10-31       Балашов Петр Максимович  мужской 1980-09-16          0   \n",
       "27933 2022-10-31  Филимонов Дмитрий Васильевич  мужской 1974-12-12          0   \n",
       "27934 2022-10-31    Демьянова Юлия Ярославовна  женский 1980-08-15          0   \n",
       "27935 2022-10-31   Головина Кристина Захаровна  женский 1974-04-30          0   \n",
       "\n",
       "       employee_evaluation   salary  \n",
       "27931                  4.0  76600.0  \n",
       "27932                  7.0  42700.0  \n",
       "27933                  4.0  20900.0  \n",
       "27934                  5.0  21200.0  \n",
       "27935                  8.0  29000.0  "
      ]
     },
     "execution_count": 2,
     "metadata": {},
     "output_type": "execute_result"
    }
   ],
   "source": [
    "path_empl = '../tables_/employees.parquet' if os.path.exists('../tables_/employees.parquet') else 'https://drive.google.com/uc?id=1AARD5-eVlCxoApt5CYZebrC3Cqw42lvj'\n",
    "\n",
    "empl = pd.read_parquet(path_empl).query('report_dt >= \"2022-10-31\"')[\n",
    "    ['report_dt', 'fio', 'sex', 'birth_date', 'mgmt_flag', 'employee_evaluation', 'salary']]\n",
    "empl.head()"
   ]
  },
  {
   "cell_type": "code",
   "execution_count": null,
   "id": "a3752097",
   "metadata": {
    "scrolled": true
   },
   "outputs": [],
   "source": []
  },
  {
   "cell_type": "markdown",
   "id": "f53a8f4e",
   "metadata": {},
   "source": [
    "## Построение гистограмм"
   ]
  },
  {
   "cell_type": "markdown",
   "id": "1949b1ca",
   "metadata": {},
   "source": [
    "Как правило, у гистограммы по оси х расположен какой-то непрерывный показатель (например зарплаата или возраст), разделенный на интервалы. Высота стоблца означает, какое количесво наблюдений попало в каждый инервал."
   ]
  },
  {
   "cell_type": "code",
   "execution_count": 3,
   "id": "24430a5d",
   "metadata": {
    "scrolled": false
   },
   "outputs": [
    {
     "data": {
      "text/plain": [
       "<Axes: >"
      ]
     },
     "execution_count": 3,
     "metadata": {},
     "output_type": "execute_result"
    },
    {
     "data": {
      "image/png": "[encoded data removed]",
      "text/plain": [
       "<Figure size 640x480 with 1 Axes>"
      ]
     },
     "metadata": {},
     "output_type": "display_data"
    }
   ],
   "source": [
    "empl['salary'].hist()\n",
    "# Можно еще написать\n",
    "# plt.hist(empl['salary'])\n",
    "# [ 20500.,  33920.,  47340.,  60760.,  74180.,  87600., 101020., 114440., 127860., 141280., 154700.]"
   ]
  },
  {
   "cell_type": "code",
   "execution_count": 4,
   "id": "b24abac2",
   "metadata": {
    "scrolled": false
   },
   "outputs": [
    {
     "data": {
      "image/png": "[encoded data removed]",
      "text/plain": [
       "<Figure size 900x400 with 1 Axes>"
      ]
     },
     "metadata": {},
     "output_type": "display_data"
    }
   ],
   "source": [
    "plt.figure(figsize=(9, 4)) # определяем размеры графика, первое значение - ширина, второе высота\n",
    "\n",
    "plt.hist(empl['salary'], # данные\n",
    "         range=(20000, 155000), # range - интервал, на котором строится гистограмма\n",
    "         bins=27 # bins=количество столбцов, на которые делется интервал \n",
    "        )\n",
    "\n",
    "plt.title('Гитрограмма зарплат') # добавляем название графика\n",
    "plt.xlabel('Зарплата, руб') # добавляем название оси х\n",
    "plt.ylabel('Количество наблюдений') # добавляем название оси у\n",
    "plt.xticks([i for i in range(20000, 160001, 10000)], rotation=20)\n",
    "plt.grid(alpha=0.1) # добавляем сетку, устанвливая уровень прозрачности\n",
    "plt.show() # выводим график на экран"
   ]
  },
  {
   "cell_type": "code",
   "execution_count": null,
   "id": "8407aeeb",
   "metadata": {
    "scrolled": false
   },
   "outputs": [],
   "source": [
    "plt.figure(figsize=(10, 5))\n",
    "\n",
    "(sns.histplot(data=empl, # датафрейм откуда берутся данные\n",
    "              x='salary', # название колонки по которой строится график\n",
    "              binwidth=5000, # ширина стобца\n",
    "              binrange=(20000, 155000), # интервал, на котором строится гистограмма\n",
    "              stat='percent' # статистика, которая будет считаться по оси y\n",
    "             )\n",
    "    .set(title='Гитограмма зарплат', xlabel='Зарплата, руб', ylabel='%')\n",
    ")\n",
    "plt.show() # выводим график на экран"
   ]
  },
  {
   "cell_type": "markdown",
   "id": "95d9b56a",
   "metadata": {},
   "source": [
    "#### Ядерная оценка плотности"
   ]
  },
  {
   "cell_type": "code",
   "execution_count": null,
   "id": "f02e4925",
   "metadata": {
    "scrolled": false
   },
   "outputs": [],
   "source": [
    "plt.figure(figsize=(10, 5))\n",
    "(sns.kdeplot(data=empl, # датафрейм\n",
    "             x='salary', # колонка, по которой строится график\n",
    "             common_norm=True, # площадь под графиком равна 1\n",
    "             fill=True, # тень под графиком\n",
    "             bw_method=0.01 # окно пропускания\n",
    "            )\n",
    "    .set(title='Ядерная оценка плотности', xlabel='Зарплата, руб', ylabel='Плотность')\n",
    ")\n",
    "plt.show()"
   ]
  },
  {
   "cell_type": "code",
   "execution_count": null,
   "id": "0a599983",
   "metadata": {
    "scrolled": true
   },
   "outputs": [],
   "source": []
  },
  {
   "cell_type": "code",
   "execution_count": null,
   "id": "62df86f1",
   "metadata": {
    "scrolled": true
   },
   "outputs": [],
   "source": []
  },
  {
   "cell_type": "code",
   "execution_count": null,
   "id": "d6c3f690",
   "metadata": {
    "scrolled": true
   },
   "outputs": [],
   "source": []
  },
  {
   "cell_type": "markdown",
   "id": "b7465ddc",
   "metadata": {},
   "source": [
    "## Статистики\n",
    "\n",
    "Статистика - это функция от выборки (то есть от данных)\n",
    "\n",
    "Это может быть среднее значение, сумма всех элементов элементов выборки, первое значение, число уникальных значений или просто сама выборка"
   ]
  },
  {
   "cell_type": "markdown",
   "id": "9e72d01a",
   "metadata": {},
   "source": [
    "### Сумма"
   ]
  },
  {
   "cell_type": "code",
   "execution_count": null,
   "id": "57f2ea10",
   "metadata": {
    "scrolled": true
   },
   "outputs": [],
   "source": [
    "empl['salary'].sum()"
   ]
  },
  {
   "cell_type": "markdown",
   "id": "56edac44",
   "metadata": {},
   "source": [
    "### Произведение"
   ]
  },
  {
   "cell_type": "code",
   "execution_count": null,
   "id": "1d29d2c6",
   "metadata": {
    "scrolled": true
   },
   "outputs": [],
   "source": [
    "empl['salary'].head().prod()"
   ]
  },
  {
   "cell_type": "markdown",
   "id": "dfe0412f",
   "metadata": {},
   "source": [
    "### Количество заполненных строк"
   ]
  },
  {
   "cell_type": "code",
   "execution_count": null,
   "id": "0607951e",
   "metadata": {
    "scrolled": true
   },
   "outputs": [],
   "source": [
    "empl['salary'].count()"
   ]
  },
  {
   "cell_type": "markdown",
   "id": "36c04b3e",
   "metadata": {},
   "source": [
    "## Характеристики среднего"
   ]
  },
  {
   "cell_type": "markdown",
   "id": "e21d9d2f",
   "metadata": {},
   "source": [
    "### Среднее арифметическое"
   ]
  },
  {
   "cell_type": "markdown",
   "id": "a11a47dc",
   "metadata": {},
   "source": [
    "$$\n",
    "Среднее\\ арифметическое = {сумма \\over количество\\ непустых\\ строк}\n",
    "$$"
   ]
  },
  {
   "cell_type": "code",
   "execution_count": null,
   "id": "d288e089",
   "metadata": {
    "scrolled": true
   },
   "outputs": [],
   "source": [
    "empl['salary'].mean()\n",
    "# empl['salary'].sum() / empl['salary'].count()"
   ]
  },
  {
   "cell_type": "markdown",
   "id": "1e37414e",
   "metadata": {},
   "source": [
    "Возвращаемое число не обычный float, а нампаевский"
   ]
  },
  {
   "cell_type": "code",
   "execution_count": null,
   "id": "e367e498",
   "metadata": {
    "scrolled": true
   },
   "outputs": [],
   "source": [
    "type(empl['salary'].mean())"
   ]
  },
  {
   "cell_type": "markdown",
   "id": "c99ee942",
   "metadata": {},
   "source": [
    "Поэтому с ним можно продолжать рабоать, например округлить"
   ]
  },
  {
   "cell_type": "code",
   "execution_count": null,
   "id": "4be462b5",
   "metadata": {
    "scrolled": true
   },
   "outputs": [],
   "source": [
    "empl['salary'].mean().round()"
   ]
  },
  {
   "cell_type": "markdown",
   "id": "38a5c458",
   "metadata": {},
   "source": [
    "Центрирование данных (это вычитание из них среднего значения)"
   ]
  },
  {
   "cell_type": "code",
   "execution_count": null,
   "id": "a20f421f",
   "metadata": {
    "scrolled": true
   },
   "outputs": [],
   "source": [
    "empl['salary'] - empl['salary'].mean()"
   ]
  },
  {
   "cell_type": "code",
   "execution_count": null,
   "id": "83cb9240",
   "metadata": {
    "scrolled": true
   },
   "outputs": [],
   "source": []
  },
  {
   "cell_type": "code",
   "execution_count": null,
   "id": "e558e8c9",
   "metadata": {
    "scrolled": true
   },
   "outputs": [],
   "source": []
  },
  {
   "cell_type": "markdown",
   "id": "de6b4fbe",
   "metadata": {},
   "source": [
    "### Медиана"
   ]
  },
  {
   "cell_type": "markdown",
   "id": "b3941ce6",
   "metadata": {},
   "source": [
    "Медиана - это значение, которое находится посередине в отсортированном массиве"
   ]
  },
  {
   "cell_type": "code",
   "execution_count": null,
   "id": "77534286",
   "metadata": {
    "scrolled": true
   },
   "outputs": [],
   "source": [
    "# рисуем гистограмму\n",
    "empl['salary'].hist(figsize=(10, 2), bins=27, range=(20000, 155000))\n",
    "# рисуем вертикальную красную линию\n",
    "plt.axline(xy1=(empl.query('report_dt == \"2022-12-31\"')['salary'].median(), 0),\n",
    "           xy2=(empl.query('report_dt == \"2022-12-31\"')['salary'].median(), 100), color='r')\n",
    "plt.show()"
   ]
  },
  {
   "cell_type": "code",
   "execution_count": null,
   "id": "cbd51168",
   "metadata": {
    "scrolled": true
   },
   "outputs": [],
   "source": [
    "empl['salary'].median()"
   ]
  },
  {
   "cell_type": "code",
   "execution_count": null,
   "id": "38f87fa2",
   "metadata": {
    "scrolled": true
   },
   "outputs": [],
   "source": []
  },
  {
   "cell_type": "code",
   "execution_count": null,
   "id": "3bbae548",
   "metadata": {
    "scrolled": true
   },
   "outputs": [],
   "source": []
  },
  {
   "cell_type": "markdown",
   "id": "56793c71",
   "metadata": {},
   "source": [
    "### Мода"
   ]
  },
  {
   "cell_type": "markdown",
   "id": "7b111e3c",
   "metadata": {},
   "source": [
    "Мода - это самое частое значение"
   ]
  },
  {
   "cell_type": "code",
   "execution_count": null,
   "id": "214e0e78",
   "metadata": {
    "scrolled": true
   },
   "outputs": [],
   "source": [
    "empl['salary'].mode()"
   ]
  },
  {
   "cell_type": "code",
   "execution_count": null,
   "id": "26d0bd7c",
   "metadata": {
    "scrolled": true
   },
   "outputs": [],
   "source": [
    "empl.query('salary == salary.mode().item()')['salary'].count()"
   ]
  },
  {
   "cell_type": "code",
   "execution_count": null,
   "id": "5953c163",
   "metadata": {
    "scrolled": true
   },
   "outputs": [],
   "source": [
    "empl['salary'].mode().item()\n",
    "# empl['salary'].mode().iloc[0]"
   ]
  },
  {
   "cell_type": "code",
   "execution_count": null,
   "id": "ccd4037e",
   "metadata": {
    "scrolled": true
   },
   "outputs": [],
   "source": [
    "pd.Series([1, 2, 3, 1, 3]).mode()"
   ]
  },
  {
   "cell_type": "code",
   "execution_count": null,
   "id": "98520723",
   "metadata": {
    "scrolled": true
   },
   "outputs": [],
   "source": []
  },
  {
   "cell_type": "code",
   "execution_count": null,
   "id": "9288915a",
   "metadata": {
    "scrolled": true
   },
   "outputs": [],
   "source": []
  },
  {
   "cell_type": "code",
   "execution_count": null,
   "id": "d618665c",
   "metadata": {
    "scrolled": true
   },
   "outputs": [],
   "source": []
  },
  {
   "cell_type": "code",
   "execution_count": null,
   "id": "24563bed",
   "metadata": {
    "scrolled": true
   },
   "outputs": [],
   "source": []
  },
  {
   "cell_type": "markdown",
   "id": "f38f65b9",
   "metadata": {},
   "source": [
    "## Характеристики разброса"
   ]
  },
  {
   "cell_type": "code",
   "execution_count": null,
   "id": "e25e18fe",
   "metadata": {
    "scrolled": false
   },
   "outputs": [],
   "source": [
    "plt.figure(figsize=(8, 5))\n",
    "np.random.seed(10)\n",
    "plt.subplot(2, 1, 1)\n",
    "plt.hist(np.random.normal(0, 1, 10000), bins=50)\n",
    "plt.xlim((-10, 10))\n",
    "plt.subplot(2, 1, 2)\n",
    "plt.hist(np.random.normal(0, 3, 10000), bins=50)\n",
    "plt.xlim((-10, 10))\n",
    "plt.show()"
   ]
  },
  {
   "cell_type": "markdown",
   "id": "a0d6372a",
   "metadata": {},
   "source": [
    "### Дисперсия"
   ]
  },
  {
   "cell_type": "markdown",
   "id": "7dcc2c0a",
   "metadata": {},
   "source": [
    "Дисперсия - это средний квадрат отклонения от среднего"
   ]
  },
  {
   "cell_type": "code",
   "execution_count": null,
   "id": "a178704e",
   "metadata": {
    "scrolled": true
   },
   "outputs": [],
   "source": [
    "empl['salary'].var()"
   ]
  },
  {
   "cell_type": "markdown",
   "id": "64048fa3",
   "metadata": {},
   "source": [
    "Попробуем посчитать ее руками"
   ]
  },
  {
   "cell_type": "code",
   "execution_count": null,
   "id": "8d97e12f",
   "metadata": {
    "scrolled": true
   },
   "outputs": [],
   "source": [
    "((empl['salary'] - empl['salary'].mean()) ** 2).mean()"
   ]
  },
  {
   "cell_type": "markdown",
   "id": "6592bf37",
   "metadata": {},
   "source": [
    "Как ее считает pandas"
   ]
  },
  {
   "cell_type": "code",
   "execution_count": null,
   "id": "053c9eb4",
   "metadata": {
    "scrolled": true
   },
   "outputs": [],
   "source": [
    "# Усредняем полученные числа\n",
    "((empl['salary'] - empl['salary'].mean()) ** 2).sum() / (empl['salary'].count() - 1)"
   ]
  },
  {
   "cell_type": "code",
   "execution_count": null,
   "id": "1e46f7ad",
   "metadata": {
    "scrolled": false
   },
   "outputs": [],
   "source": [
    "# Дисперсии равны\n",
    "empl['salary'].var()"
   ]
  },
  {
   "cell_type": "code",
   "execution_count": null,
   "id": "5c3863d8",
   "metadata": {
    "scrolled": true
   },
   "outputs": [],
   "source": []
  },
  {
   "cell_type": "code",
   "execution_count": null,
   "id": "79c13c9a",
   "metadata": {
    "scrolled": true
   },
   "outputs": [],
   "source": []
  },
  {
   "cell_type": "code",
   "execution_count": null,
   "id": "228f3c32",
   "metadata": {
    "scrolled": true
   },
   "outputs": [],
   "source": []
  },
  {
   "cell_type": "markdown",
   "id": "8cadd080",
   "metadata": {},
   "source": [
    "Можно не вычитать единицу из знаменателя, а просто усреднить"
   ]
  },
  {
   "cell_type": "code",
   "execution_count": null,
   "id": "6490bea3",
   "metadata": {
    "scrolled": true
   },
   "outputs": [],
   "source": [
    "((empl['salary'] - empl['salary'].mean()) ** 2).mean()"
   ]
  },
  {
   "cell_type": "code",
   "execution_count": null,
   "id": "cd485e81",
   "metadata": {
    "scrolled": true
   },
   "outputs": [],
   "source": [
    "empl['salary'].to_numpy().var()"
   ]
  },
  {
   "cell_type": "code",
   "execution_count": null,
   "id": "e617b9dc",
   "metadata": {
    "scrolled": true
   },
   "outputs": [],
   "source": [
    "empl['salary'].var(ddof=0)"
   ]
  },
  {
   "cell_type": "code",
   "execution_count": null,
   "id": "1e588143",
   "metadata": {
    "scrolled": true
   },
   "outputs": [],
   "source": []
  },
  {
   "cell_type": "code",
   "execution_count": null,
   "id": "57b5b57d",
   "metadata": {
    "scrolled": true
   },
   "outputs": [],
   "source": []
  },
  {
   "cell_type": "code",
   "execution_count": null,
   "id": "0970639d",
   "metadata": {
    "scrolled": true
   },
   "outputs": [],
   "source": []
  },
  {
   "cell_type": "markdown",
   "id": "b0e63a2b",
   "metadata": {},
   "source": [
    "### Стандартное отклонение "
   ]
  },
  {
   "cell_type": "markdown",
   "id": "d8ad8714",
   "metadata": {},
   "source": [
    "Стандартное отклонение (среднеквадратичное отклонение) - это квадратный корень из дисперсии"
   ]
  },
  {
   "cell_type": "code",
   "execution_count": null,
   "id": "64d697d0",
   "metadata": {
    "scrolled": true
   },
   "outputs": [],
   "source": [
    "empl['salary'].std()"
   ]
  },
  {
   "cell_type": "code",
   "execution_count": null,
   "id": "8434e07c",
   "metadata": {
    "scrolled": true
   },
   "outputs": [],
   "source": [
    "empl['salary'].var() ** 0.5"
   ]
  },
  {
   "cell_type": "code",
   "execution_count": null,
   "id": "5bef2582",
   "metadata": {
    "scrolled": true
   },
   "outputs": [],
   "source": []
  },
  {
   "cell_type": "code",
   "execution_count": null,
   "id": "f110bf3e",
   "metadata": {
    "scrolled": true
   },
   "outputs": [],
   "source": []
  },
  {
   "cell_type": "code",
   "execution_count": null,
   "id": "55a72cff",
   "metadata": {
    "scrolled": true
   },
   "outputs": [],
   "source": []
  },
  {
   "cell_type": "markdown",
   "id": "5e1395d6",
   "metadata": {},
   "source": [
    "### Минимум максимум"
   ]
  },
  {
   "cell_type": "code",
   "execution_count": null,
   "id": "16f36cb3",
   "metadata": {
    "scrolled": true
   },
   "outputs": [],
   "source": [
    "empl['salary'].min()"
   ]
  },
  {
   "cell_type": "code",
   "execution_count": null,
   "id": "ddfecedc",
   "metadata": {
    "scrolled": true
   },
   "outputs": [],
   "source": [
    "empl['salary'].max()"
   ]
  },
  {
   "cell_type": "code",
   "execution_count": null,
   "id": "5b330035",
   "metadata": {
    "scrolled": true
   },
   "outputs": [],
   "source": []
  },
  {
   "cell_type": "code",
   "execution_count": null,
   "id": "3317071e",
   "metadata": {
    "scrolled": true
   },
   "outputs": [],
   "source": []
  },
  {
   "cell_type": "code",
   "execution_count": null,
   "id": "673da4a6",
   "metadata": {
    "scrolled": true
   },
   "outputs": [],
   "source": []
  },
  {
   "cell_type": "markdown",
   "id": "5ab94607",
   "metadata": {},
   "source": [
    "### Квантили"
   ]
  },
  {
   "cell_type": "code",
   "execution_count": null,
   "id": "31f5fef4",
   "metadata": {
    "scrolled": true
   },
   "outputs": [],
   "source": [
    "quantile = 0.75\n",
    "salary = empl.query('report_dt == \"2022-12-31\"')['salary']\n",
    "\n",
    "salary.hist(figsize=(10, 2), bins=27, range=(20000, 155000))\n",
    "\n",
    "plt.axline(xy1=(salary.quantile(quantile), 0), xy2=(salary.quantile(quantile), 100), color='r')\n",
    "\n",
    "plt.annotate(f'{int(quantile * 100)}% людей зарабатывают \\n меньше или столько же',\n",
    "            (salary.quantile(quantile), 20), xytext=(salary.quantile(quantile) + 5000, 100),\n",
    "             arrowprops={'arrowstyle': '->'})\n",
    "\n",
    "plt.title(f'{quantile} квантиль зарплат равен {salary.quantile(quantile)}')\n",
    "plt.grid(False)\n",
    "plt.xlabel('Зарплата')\n",
    "plt.ylabel('Количество наблюдений')\n",
    "plt.show()"
   ]
  },
  {
   "cell_type": "code",
   "execution_count": null,
   "id": "99b5ee0e",
   "metadata": {
    "scrolled": true
   },
   "outputs": [],
   "source": [
    "empl.query('report_dt == \"2022-12-31\"')['salary'].quantile(0.2)"
   ]
  },
  {
   "cell_type": "markdown",
   "id": "badfc65f",
   "metadata": {},
   "source": [
    "Если квантиль в точности не определен, тогда он будет интерполирован"
   ]
  },
  {
   "cell_type": "code",
   "execution_count": null,
   "id": "ddb4bd53",
   "metadata": {
    "scrolled": true
   },
   "outputs": [],
   "source": [
    "# в массииве только целые числа, но метод вернул дробное число\n",
    "empl['salary'].quantile(0.0001)"
   ]
  },
  {
   "cell_type": "markdown",
   "id": "8b10347e",
   "metadata": {},
   "source": [
    "Это же касается и медианы"
   ]
  },
  {
   "cell_type": "code",
   "execution_count": null,
   "id": "4e275bb6",
   "metadata": {
    "scrolled": true
   },
   "outputs": [],
   "source": [
    "pd.Series([1, 2, 3, 4]).median()"
   ]
  },
  {
   "cell_type": "code",
   "execution_count": null,
   "id": "72c13432",
   "metadata": {
    "scrolled": true
   },
   "outputs": [],
   "source": [
    "pd.Series([1, 2, 3, 4]).quantile(0.5)"
   ]
  },
  {
   "cell_type": "code",
   "execution_count": null,
   "id": "dcb26068",
   "metadata": {
    "scrolled": true
   },
   "outputs": [],
   "source": [
    "pd.Series([1, 2, 3, 4]).quantile(0.5, interpolation='higher')"
   ]
  },
  {
   "cell_type": "markdown",
   "id": "09a41ee3",
   "metadata": {},
   "source": [
    "### При помощи метода rank можно получить квантиль каждого наблюдения"
   ]
  },
  {
   "cell_type": "code",
   "execution_count": null,
   "id": "b257875a",
   "metadata": {
    "scrolled": true
   },
   "outputs": [],
   "source": [
    "empl['salary'].rank(pct=True).head()"
   ]
  },
  {
   "cell_type": "code",
   "execution_count": null,
   "id": "a65b78a8",
   "metadata": {
    "scrolled": true
   },
   "outputs": [],
   "source": []
  },
  {
   "cell_type": "code",
   "execution_count": null,
   "id": "70dadb06",
   "metadata": {
    "scrolled": true
   },
   "outputs": [],
   "source": []
  },
  {
   "cell_type": "code",
   "execution_count": null,
   "id": "cc46eb13",
   "metadata": {
    "scrolled": true
   },
   "outputs": [],
   "source": []
  },
  {
   "cell_type": "markdown",
   "id": "f0206bd5",
   "metadata": {},
   "source": [
    "#### В numpy функции и методы называются так же как и в пандасе кроме квантилей"
   ]
  },
  {
   "cell_type": "code",
   "execution_count": null,
   "id": "2c1cabd7",
   "metadata": {
    "scrolled": true
   },
   "outputs": [],
   "source": [
    "np.mean(np.arange(100))"
   ]
  },
  {
   "cell_type": "code",
   "execution_count": null,
   "id": "7a931db7",
   "metadata": {
    "scrolled": true
   },
   "outputs": [],
   "source": [
    "np.arange(100).mean()"
   ]
  },
  {
   "cell_type": "markdown",
   "id": "7c2511df",
   "metadata": {},
   "source": [
    "Персентиль в сто раз больше квантиля"
   ]
  },
  {
   "cell_type": "code",
   "execution_count": null,
   "id": "f641b755",
   "metadata": {
    "scrolled": true
   },
   "outputs": [],
   "source": [
    "np.percentile(np.arange(1001), 57)"
   ]
  },
  {
   "cell_type": "code",
   "execution_count": null,
   "id": "40bfa41d",
   "metadata": {
    "scrolled": true
   },
   "outputs": [],
   "source": [
    "pd.Series(np.arange(1001)).quantile(0.57)"
   ]
  },
  {
   "cell_type": "code",
   "execution_count": null,
   "id": "9affd317",
   "metadata": {
    "scrolled": true
   },
   "outputs": [],
   "source": []
  },
  {
   "cell_type": "code",
   "execution_count": null,
   "id": "e6914138",
   "metadata": {
    "scrolled": true
   },
   "outputs": [],
   "source": []
  },
  {
   "cell_type": "code",
   "execution_count": null,
   "id": "f02af8ae",
   "metadata": {
    "scrolled": true
   },
   "outputs": [],
   "source": []
  },
  {
   "cell_type": "markdown",
   "id": "98829943",
   "metadata": {},
   "source": [
    "### Все эти методы есть и у датафреймов"
   ]
  },
  {
   "cell_type": "code",
   "execution_count": null,
   "id": "be8567e3",
   "metadata": {
    "scrolled": true
   },
   "outputs": [],
   "source": [
    "path_marks = '../tables/оценки.xlsx' if os.path.exists('../tables/оценки.xlsx') else 'https://drive.google.com/uc?id=17f4DXx53J0WooNkhO13xidseZJ-O2obs'\n",
    "\n",
    "marks = pd.read_excel(path_marks)\n",
    "marks.head()"
   ]
  },
  {
   "cell_type": "code",
   "execution_count": null,
   "id": "c7d48450",
   "metadata": {
    "scrolled": true
   },
   "outputs": [],
   "source": [
    "# Считаем среднее только по колонкам, в которых лежат числа\n",
    "marks.mean(numeric_only=True)"
   ]
  },
  {
   "cell_type": "code",
   "execution_count": null,
   "id": "ac1b527c",
   "metadata": {
    "scrolled": true
   },
   "outputs": [],
   "source": [
    "# Если все колонки уже численные, то параметр numeric_only можно не использовать\n",
    "marks[['Математика', 'Литература']].mean()"
   ]
  },
  {
   "cell_type": "markdown",
   "id": "518d6dc8",
   "metadata": {},
   "source": [
    "### Можно указывать ось, по которой считать статистику"
   ]
  },
  {
   "cell_type": "code",
   "execution_count": null,
   "id": "3143d1f1",
   "metadata": {
    "scrolled": true
   },
   "outputs": [],
   "source": [
    "(marks\n",
    "    .set_index(['ФИО', 'Пол']) # убираем нечисленные колонки\n",
    "    .mean(axis=1)\n",
    "    .to_frame()\n",
    ")"
   ]
  },
  {
   "cell_type": "code",
   "execution_count": null,
   "id": "7ee356fe",
   "metadata": {
    "scrolled": true
   },
   "outputs": [],
   "source": []
  },
  {
   "cell_type": "code",
   "execution_count": null,
   "id": "b0a6ff76",
   "metadata": {
    "scrolled": true
   },
   "outputs": [],
   "source": []
  },
  {
   "cell_type": "markdown",
   "id": "309389ca",
   "metadata": {},
   "source": [
    "### Расчет статистики по всему датафрейму целиком"
   ]
  },
  {
   "cell_type": "code",
   "execution_count": null,
   "id": "f957ae4a",
   "metadata": {
    "scrolled": true
   },
   "outputs": [],
   "source": [
    "# Работает с версии 2.0.0. и выше\n",
    "(marks\n",
    "    .set_index(['ФИО', 'Пол']) # убираем нечисленные колонки\n",
    "    .mean(axis=None)\n",
    ")"
   ]
  },
  {
   "cell_type": "code",
   "execution_count": null,
   "id": "9380300e",
   "metadata": {
    "scrolled": true
   },
   "outputs": [],
   "source": [
    "(marks\n",
    "    .set_index(['ФИО', 'Пол'])\n",
    "    .to_numpy()\n",
    "    .mean()\n",
    ")"
   ]
  },
  {
   "cell_type": "code",
   "execution_count": null,
   "id": "d401b0f7",
   "metadata": {
    "scrolled": true
   },
   "outputs": [],
   "source": []
  },
  {
   "cell_type": "code",
   "execution_count": null,
   "id": "f3743d31",
   "metadata": {
    "scrolled": true
   },
   "outputs": [],
   "source": []
  },
  {
   "cell_type": "code",
   "execution_count": null,
   "id": "4b302d03",
   "metadata": {
    "scrolled": true
   },
   "outputs": [],
   "source": []
  },
  {
   "cell_type": "markdown",
   "id": "dafecc02",
   "metadata": {},
   "source": [
    "### Еще визуализация распределений"
   ]
  },
  {
   "cell_type": "code",
   "execution_count": null,
   "id": "4efc6e1e",
   "metadata": {
    "scrolled": false
   },
   "outputs": [],
   "source": [
    "sns.boxplot(data=empl, y='salary').set(title='Ящик с усами', ylabel='Зарплата')\n",
    "plt.show()"
   ]
  },
  {
   "cell_type": "code",
   "execution_count": null,
   "id": "adfd59b2",
   "metadata": {
    "scrolled": false
   },
   "outputs": [],
   "source": [
    "# Добавляем деление по оси х\n",
    "plt.figure(figsize=(10, 5))\n",
    "sns.boxplot(data=empl, y='salary', x='report_dt').set(title='Ящик с усами', ylabel='Зарплата')\n",
    "plt.show()"
   ]
  },
  {
   "cell_type": "code",
   "execution_count": null,
   "id": "2e54b887",
   "metadata": {
    "scrolled": false
   },
   "outputs": [],
   "source": [
    "plt.figure(figsize=(10, 5))\n",
    "(sns.boxplot(data=empl, y='salary', x='report_dt')\n",
    "    .set(title='Ящик с усами', ylabel='Зарплата')\n",
    ")\n",
    "# обрезаем выбросы\n",
    "plt.ylim((19000, 60000))\n",
    "plt.show()"
   ]
  },
  {
   "cell_type": "code",
   "execution_count": null,
   "id": "a536622c",
   "metadata": {
    "scrolled": false
   },
   "outputs": [],
   "source": [
    "# Добавляем hue\n",
    "plt.figure(figsize=(10, 5))\n",
    "(sns.boxplot(data=empl\n",
    "                 .replace({'mgmt_flag': {0: 'Младший персонал', 1: 'Старший персонал'}}),\n",
    "             y='salary', x='report_dt', hue='mgmt_flag')\n",
    " \n",
    "    .set(title='Ящик с усами', ylabel='Зарплата')\n",
    ")\n",
    "plt.legend(loc='upper right')\n",
    "plt.show()"
   ]
  },
  {
   "cell_type": "code",
   "execution_count": null,
   "id": "b8408452",
   "metadata": {
    "scrolled": false
   },
   "outputs": [],
   "source": [
    "plt.figure(figsize=(10, 5))\n",
    "(sns.violinplot(data=empl\n",
    "                 .replace({'mgmt_flag': {0: 'Младший персонал', 1: 'Старший персонал'}}),\n",
    "             y='salary', x='report_dt', hue='mgmt_flag')\n",
    " \n",
    "    .set(title='Скрипичная диаграмма', ylabel='Зарплата')\n",
    ")\n",
    "plt.legend(loc='upper right')\n",
    "plt.show()"
   ]
  },
  {
   "cell_type": "code",
   "execution_count": null,
   "id": "468483d2",
   "metadata": {
    "scrolled": false
   },
   "outputs": [],
   "source": [
    "plt.figure(figsize=(10, 5))\n",
    "(sns.stripplot(data=empl\n",
    "                 .replace({'mgmt_flag': {0: 'Младший персонал', 1: 'Старший персонал'}}),\n",
    "             y='salary', x='report_dt', hue='mgmt_flag')\n",
    " \n",
    "    .set(title='Точечная диаграмма', ylabel='Зарплата')\n",
    ")\n",
    "plt.legend(loc='upper right')\n",
    "plt.show()"
   ]
  },
  {
   "cell_type": "code",
   "execution_count": null,
   "id": "94004aeb",
   "metadata": {
    "scrolled": true
   },
   "outputs": [],
   "source": []
  },
  {
   "cell_type": "code",
   "execution_count": null,
   "id": "3009cb3a",
   "metadata": {
    "scrolled": true
   },
   "outputs": [],
   "source": []
  },
  {
   "cell_type": "code",
   "execution_count": null,
   "id": "88daa7fc",
   "metadata": {
    "scrolled": true
   },
   "outputs": [],
   "source": []
  },
  {
   "cell_type": "markdown",
   "id": "fc6ee7c0",
   "metadata": {},
   "source": [
    "### Корреляция"
   ]
  },
  {
   "cell_type": "code",
   "execution_count": null,
   "id": "6d8d3439",
   "metadata": {
    "scrolled": false
   },
   "outputs": [],
   "source": [
    "plt.figure(figsize=(15, 10))\n",
    "for i, cor in enumerate([0.1, 0.4, 0.7, 0.95, -0.1, -0.4, -0.7, -0.95]):\n",
    "    # Генерируем данные\n",
    "    np.random.seed(i + 1)\n",
    "    x, y = np.random.multivariate_normal([0, 0], [[1, cor], [cor, 1]], 150).T\n",
    "    y = y * np.random.randint(1, 5)\n",
    "    # Говорим на какое место поставить график (2 стобца, 4 колонки, номер позиции)\n",
    "    plt.subplot(2, 4, i + 1)\n",
    "    # рисуем грайик\n",
    "    sns.regplot(x=x, y=y)\n",
    "    # подписываем график\n",
    "    plt.title(f'Коэффициент корреляции: {np.round(np.corrcoef(x, y)[0][1], 2)}')\n",
    "plt.show()"
   ]
  },
  {
   "cell_type": "code",
   "execution_count": null,
   "id": "500dbff2",
   "metadata": {
    "scrolled": false
   },
   "outputs": [],
   "source": [
    "np.random.seed(500)\n",
    "t = np.random.rand(50) * 10\n",
    "cos = np.cos(t) + np.random.normal(0, 0.05, 50)\n",
    "sin = np.sin(t) + np.random.normal(0, 0.05, 50)\n",
    "# рисуем график\n",
    "plt.scatter(cos, sin)\n",
    "# подписываем \n",
    "plt.text(y=0, x=0, s=f'corr = {np.corrcoef(cos, sin)[0, 1]:0.3f}', fontsize=16, ha='center', va='center')\n",
    "plt.show()"
   ]
  },
  {
   "cell_type": "code",
   "execution_count": null,
   "id": "03f62b28",
   "metadata": {
    "scrolled": true
   },
   "outputs": [],
   "source": []
  },
  {
   "cell_type": "code",
   "execution_count": null,
   "id": "da7604d7",
   "metadata": {
    "scrolled": true
   },
   "outputs": [],
   "source": []
  },
  {
   "cell_type": "markdown",
   "id": "0959dab0",
   "metadata": {},
   "source": [
    "#### Расчет коэффицииента корреляции"
   ]
  },
  {
   "cell_type": "code",
   "execution_count": null,
   "id": "621a3209",
   "metadata": {
    "scrolled": true
   },
   "outputs": [],
   "source": [
    "marks['Математика'].corr(marks['Литература'])"
   ]
  },
  {
   "cell_type": "markdown",
   "id": "d0ab1a46",
   "metadata": {},
   "source": [
    "То же самое можно сделать руками"
   ]
  },
  {
   "cell_type": "code",
   "execution_count": null,
   "id": "9f613c7c",
   "metadata": {
    "scrolled": true
   },
   "outputs": [],
   "source": [
    "math_mean = marks['Математика'].mean()\n",
    "math_std = marks['Математика'].std(ddof=0)\n",
    "\n",
    "lit_mean = marks['Литература'].mean()\n",
    "lit_std = marks['Литература'].std(ddof=0)\n",
    "\n",
    "math_normilized = (marks['Математика'] - math_mean) / math_std\n",
    "lit_normilized = (marks['Литература'] - lit_mean) / lit_std\n",
    "\n",
    "\n",
    "(math_normilized * lit_normilized).mean()"
   ]
  },
  {
   "cell_type": "markdown",
   "id": "bceac7de",
   "metadata": {},
   "source": [
    "###  Корреляционная матрица"
   ]
  },
  {
   "cell_type": "code",
   "execution_count": null,
   "id": "c35593f6",
   "metadata": {
    "scrolled": true
   },
   "outputs": [],
   "source": [
    "marks.corr(numeric_only=True)"
   ]
  },
  {
   "cell_type": "code",
   "execution_count": null,
   "id": "a3e7d5dd",
   "metadata": {
    "scrolled": false
   },
   "outputs": [],
   "source": [
    "sns.heatmap(marks.corr(numeric_only=True))"
   ]
  },
  {
   "cell_type": "code",
   "execution_count": null,
   "id": "cfeb4f16",
   "metadata": {
    "scrolled": false
   },
   "outputs": [],
   "source": [
    "sns.heatmap(marks.corr(numeric_only=True),\n",
    "            annot=True, # Добавляем численные значения в клетки\n",
    "            # цветовая схема, разделенная на 8 цветов\n",
    "            cmap=sns.color_palette(\"coolwarm\", n_colors=8),\n",
    "            vmin=-1, # минимальное значение в легенде\n",
    "            vmax=1) # максимальное значение в легенде"
   ]
  },
  {
   "cell_type": "markdown",
   "id": "ba49fd0d",
   "metadata": {},
   "source": [
    "Можно разукрасить сам датафрейм"
   ]
  },
  {
   "cell_type": "code",
   "execution_count": null,
   "id": "76429c2c",
   "metadata": {
    "scrolled": true
   },
   "outputs": [],
   "source": [
    "(marks\n",
    "    .corr(numeric_only=True)\n",
    "    .style\n",
    "    .background_gradient(cmap=sns.color_palette(\"coolwarm\", as_cmap=True),\n",
    "                         axis=None,\n",
    "                         vmin=-1,\n",
    "                         vmax=1)\n",
    ")"
   ]
  },
  {
   "cell_type": "code",
   "execution_count": null,
   "id": "36096490",
   "metadata": {
    "scrolled": true
   },
   "outputs": [],
   "source": []
  },
  {
   "cell_type": "code",
   "execution_count": null,
   "id": "2cb70a71",
   "metadata": {
    "scrolled": true
   },
   "outputs": [],
   "source": []
  },
  {
   "cell_type": "markdown",
   "id": "31ee2b05",
   "metadata": {},
   "source": [
    "## Агрегация нескольких статистик вместе"
   ]
  },
  {
   "cell_type": "markdown",
   "id": "4fee9e3f",
   "metadata": {},
   "source": [
    "### describe"
   ]
  },
  {
   "cell_type": "code",
   "execution_count": null,
   "id": "a8df9b08",
   "metadata": {
    "scrolled": true
   },
   "outputs": [],
   "source": [
    "empl['salary'].describe()"
   ]
  },
  {
   "cell_type": "code",
   "execution_count": null,
   "id": "8f535fd9",
   "metadata": {
    "scrolled": true
   },
   "outputs": [],
   "source": [
    "empl.describe()"
   ]
  },
  {
   "cell_type": "markdown",
   "id": "4f436ae6",
   "metadata": {},
   "source": [
    "Можно добавить дополнительные квантили"
   ]
  },
  {
   "cell_type": "code",
   "execution_count": null,
   "id": "2eb5cefb",
   "metadata": {
    "scrolled": true
   },
   "outputs": [],
   "source": [
    "empl.describe([0.1, 0.25, 0.75, 0.9])"
   ]
  },
  {
   "cell_type": "code",
   "execution_count": null,
   "id": "ca3f4d2e",
   "metadata": {
    "scrolled": true
   },
   "outputs": [],
   "source": []
  },
  {
   "cell_type": "code",
   "execution_count": null,
   "id": "7a869bc7",
   "metadata": {
    "scrolled": true
   },
   "outputs": [],
   "source": []
  },
  {
   "cell_type": "code",
   "execution_count": null,
   "id": "86feed1f",
   "metadata": {
    "scrolled": true
   },
   "outputs": [],
   "source": []
  },
  {
   "cell_type": "markdown",
   "id": "fba7bdee",
   "metadata": {},
   "source": [
    "### agg\n",
    "\n",
    "Позволяет собирать несколько статистик вместе"
   ]
  },
  {
   "cell_type": "code",
   "execution_count": null,
   "id": "cd341081",
   "metadata": {
    "scrolled": true
   },
   "outputs": [],
   "source": [
    "# список из названий методов\n",
    "empl['salary'].agg(['mean', 'max', 'std'])"
   ]
  },
  {
   "cell_type": "code",
   "execution_count": null,
   "id": "8bba2a7b",
   "metadata": {
    "scrolled": true
   },
   "outputs": [],
   "source": [
    "# их можно комбинировать с функциями из numpy\n",
    "empl['salary'].agg([np.mean, np.max, 'std'])"
   ]
  },
  {
   "cell_type": "code",
   "execution_count": null,
   "id": "3c2b073d",
   "metadata": {
    "scrolled": true
   },
   "outputs": [],
   "source": [
    "# Можно использовать свои функции\n",
    "(empl['salary']\n",
    "    .agg(\n",
    "        ['mean',\n",
    "         lambda s: (s ** (1 / s.count())).prod(),\n",
    "         lambda s: 1 / ((1 / s).mean())\n",
    "        ])\n",
    "    .set_axis(['Среднее арифметическое', 'Среднее геометрическое', 'Среднее гармоническое'])\n",
    ")"
   ]
  },
  {
   "cell_type": "markdown",
   "id": "4da6fa44",
   "metadata": {},
   "source": [
    "#### Можно передать словарь. Сначала как метод будет называться, а затем функция"
   ]
  },
  {
   "cell_type": "code",
   "execution_count": null,
   "id": "e033b520",
   "metadata": {
    "scrolled": true
   },
   "outputs": [],
   "source": [
    "(empl['salary']\n",
    "    .agg({'Среднее арифметическое': 'mean',\n",
    "          'Среднее геометрическое': lambda s: (s ** (1 / s.count())).prod(),\n",
    "          'Среднее гармоническое': lambda s: 1 / ((1 / s).mean())\n",
    "         })\n",
    ")"
   ]
  },
  {
   "cell_type": "code",
   "execution_count": null,
   "id": "75ec3c20",
   "metadata": {
    "scrolled": true
   },
   "outputs": [],
   "source": []
  },
  {
   "cell_type": "code",
   "execution_count": null,
   "id": "169f5104",
   "metadata": {
    "scrolled": true
   },
   "outputs": [],
   "source": []
  },
  {
   "cell_type": "markdown",
   "id": "f885dc21",
   "metadata": {},
   "source": [
    "### То же самое можно делать с датафреймами"
   ]
  },
  {
   "cell_type": "code",
   "execution_count": null,
   "id": "61c8fde8",
   "metadata": {
    "scrolled": true
   },
   "outputs": [],
   "source": [
    "marks.head()"
   ]
  },
  {
   "cell_type": "code",
   "execution_count": null,
   "id": "58ba13bd",
   "metadata": {
    "scrolled": true
   },
   "outputs": [],
   "source": [
    "# передаем список из функци\n",
    "(marks\n",
    "    .drop(['ФИО', 'Пол'], axis=1)\n",
    "    .agg(['mean', 'max', 'min'])\n",
    ")"
   ]
  },
  {
   "cell_type": "code",
   "execution_count": null,
   "id": "78c4cb2d",
   "metadata": {
    "scrolled": true
   },
   "outputs": [],
   "source": [
    "# можно передать словарь со списком функций агрегации\n",
    "(marks\n",
    "    .drop(['ФИО', 'Пол'], axis=1)\n",
    "    .agg({'Математика': ['mean', 'max'],\n",
    "         'Русский язык': 'std',\n",
    "         'Литература': ['mean', 'median']})\n",
    ")"
   ]
  },
  {
   "cell_type": "code",
   "execution_count": null,
   "id": "b870edfa",
   "metadata": {
    "scrolled": true
   },
   "outputs": [],
   "source": [
    "(marks\n",
    "    .drop(['ФИО', 'Пол'], axis=1)\n",
    "    .agg(avarage = ('Математика', 'mean'),\n",
    "         summa = ('Математика', 'sum'),\n",
    "         sqrt_err = ('История', 'std')\n",
    "#          summa = ('История', 'sum'), # это работать не будет \n",
    "        )\n",
    ")"
   ]
  },
  {
   "cell_type": "code",
   "execution_count": null,
   "id": "bc3e7b34",
   "metadata": {
    "scrolled": true
   },
   "outputs": [],
   "source": []
  },
  {
   "cell_type": "code",
   "execution_count": null,
   "id": "e46c53af",
   "metadata": {
    "scrolled": true
   },
   "outputs": [],
   "source": []
  },
  {
   "cell_type": "code",
   "execution_count": null,
   "id": "2b5d58f2",
   "metadata": {
    "scrolled": true
   },
   "outputs": [],
   "source": []
  },
  {
   "cell_type": "markdown",
   "id": "4c26e37f",
   "metadata": {},
   "source": [
    "## На вход функии в метод agg приходит объект Series"
   ]
  },
  {
   "cell_type": "code",
   "execution_count": null,
   "id": "7d9c9606",
   "metadata": {
    "scrolled": true
   },
   "outputs": [],
   "source": [
    "(marks\n",
    "    .drop(['ФИО', 'Пол'], axis=1)\n",
    "    .agg(\n",
    "        ['mean',\n",
    "         lambda s: s[s >= 4].mean() # фильтровать значения получится только внутри колонки и только по ней самой\n",
    "        ])\n",
    "    .set_axis(['Среднее', 'Среднее среди тех, у кого 4 или 5'])\n",
    ")"
   ]
  },
  {
   "cell_type": "code",
   "execution_count": null,
   "id": "5d65c619",
   "metadata": {
    "scrolled": true
   },
   "outputs": [],
   "source": []
  },
  {
   "cell_type": "markdown",
   "id": "c1c214f9",
   "metadata": {},
   "source": [
    "#### В метод agg нельзя передавать квантили"
   ]
  },
  {
   "cell_type": "code",
   "execution_count": null,
   "id": "777a011b",
   "metadata": {
    "scrolled": true
   },
   "outputs": [],
   "source": [
    "empl['salary'].agg([np.mean, np.max, 'std', lambda x: x.quantile(0.8)])"
   ]
  },
  {
   "cell_type": "code",
   "execution_count": null,
   "id": "708c2bae",
   "metadata": {
    "scrolled": true
   },
   "outputs": [],
   "source": [
    "class Quantile:\n",
    "    def __init__(self, q: float):\n",
    "        self.q = q\n",
    "        self.__name__ = f'{q} квантиль'\n",
    "    \n",
    "    def __call__(self, series: pd.Series):\n",
    "        return series.quantile(self.q)"
   ]
  },
  {
   "cell_type": "code",
   "execution_count": null,
   "id": "47ca722c",
   "metadata": {
    "scrolled": true
   },
   "outputs": [],
   "source": [
    "empl['salary'].agg([np.mean, np.max, 'std', Quantile(0.8)])"
   ]
  },
  {
   "cell_type": "code",
   "execution_count": null,
   "id": "1f4aad81",
   "metadata": {
    "scrolled": true
   },
   "outputs": [],
   "source": []
  },
  {
   "cell_type": "code",
   "execution_count": null,
   "id": "87bb34ed",
   "metadata": {
    "scrolled": true
   },
   "outputs": [],
   "source": []
  },
  {
   "cell_type": "code",
   "execution_count": null,
   "id": "b97d17bd",
   "metadata": {
    "scrolled": true
   },
   "outputs": [],
   "source": []
  },
  {
   "cell_type": "markdown",
   "id": "95978c16",
   "metadata": {},
   "source": [
    "#### Иногда после агрегации необходимо выполнять дополнительные действия"
   ]
  },
  {
   "cell_type": "code",
   "execution_count": null,
   "id": "e58deac0",
   "metadata": {
    "scrolled": true
   },
   "outputs": [],
   "source": [
    "path_sales_2022 = '../tables/sales_2022.parquet' if os.path.exists('../tables/sales_2022.parquet') else 'https://drive.google.com/uc?id=17e7FwXVdsWc2aziK9s5KidIvPcfKt9F5'\n",
    "sales = pd.read_parquet(path_sales_2022).iloc[:, -2:]\n",
    "sales.head()"
   ]
  },
  {
   "cell_type": "markdown",
   "id": "d409b8e9",
   "metadata": {},
   "source": [
    "Найдем среднюю строимость проданных товаров"
   ]
  },
  {
   "cell_type": "code",
   "execution_count": null,
   "id": "28de0648",
   "metadata": {
    "scrolled": true
   },
   "outputs": [],
   "source": [
    "(sales\n",
    "    .assign(price_mul_number = lambda x: x['price'] * x['goods_number'])\n",
    "    [['goods_number', 'price_mul_number']]\n",
    "    .sum()\n",
    "    .to_frame()\n",
    "    .T\n",
    "    .assign(mean_goods_price_sold=lambda x: x['price_mul_number'] / x['goods_number'])\n",
    "    .drop(['goods_number', 'price_mul_number'], axis=1)\n",
    "     .iloc[0, 0]\n",
    ")"
   ]
  },
  {
   "cell_type": "code",
   "execution_count": null,
   "id": "1a6f0a08",
   "metadata": {
    "scrolled": true
   },
   "outputs": [],
   "source": []
  },
  {
   "cell_type": "code",
   "execution_count": null,
   "id": "dc59e752",
   "metadata": {
    "scrolled": true
   },
   "outputs": [],
   "source": []
  },
  {
   "cell_type": "code",
   "execution_count": null,
   "id": "f1a96656",
   "metadata": {
    "scrolled": true
   },
   "outputs": [],
   "source": []
  },
  {
   "cell_type": "markdown",
   "id": "82c297e1",
   "metadata": {},
   "source": [
    "### Статистические функции в сочетании с другими методами"
   ]
  },
  {
   "cell_type": "markdown",
   "id": "f1afd03c",
   "metadata": {},
   "source": [
    "#### Проверяем процент заполенных значений"
   ]
  },
  {
   "cell_type": "code",
   "execution_count": null,
   "id": "fc259f8a",
   "metadata": {
    "scrolled": true
   },
   "outputs": [],
   "source": [
    "(empl\n",
    "    .notnull()\n",
    "    .mean()\n",
    ")"
   ]
  },
  {
   "cell_type": "markdown",
   "id": "116c9386",
   "metadata": {},
   "source": [
    "#### Или наоборот считаем количество пропущенных значений"
   ]
  },
  {
   "cell_type": "code",
   "execution_count": null,
   "id": "f8019b9c",
   "metadata": {
    "scrolled": false
   },
   "outputs": [],
   "source": [
    "empl['employee_evaluation'].isna().sum()"
   ]
  },
  {
   "cell_type": "markdown",
   "id": "235aacac",
   "metadata": {},
   "source": [
    "#### Доля людей, зарабатывающих больше 50 000"
   ]
  },
  {
   "cell_type": "code",
   "execution_count": null,
   "id": "3bc524b0",
   "metadata": {
    "scrolled": true
   },
   "outputs": [],
   "source": [
    "empl['salary'].ge(50000).mean()\n",
    "# То же самое, что и\n",
    "# (empl['salary'] >= 50000).mean()"
   ]
  },
  {
   "cell_type": "markdown",
   "id": "53162ef4",
   "metadata": {},
   "source": [
    "#### Число записей по зарплате, втречающихся только 1 раз"
   ]
  },
  {
   "cell_type": "code",
   "execution_count": null,
   "id": "c2414e21",
   "metadata": {
    "scrolled": true
   },
   "outputs": [],
   "source": [
    "(~empl['salary'].duplicated(keep=False)).sum()"
   ]
  },
  {
   "cell_type": "markdown",
   "id": "91621701",
   "metadata": {},
   "source": [
    "#### Доля женщин в магазине"
   ]
  },
  {
   "cell_type": "code",
   "execution_count": null,
   "id": "80ebb067",
   "metadata": {
    "scrolled": true
   },
   "outputs": [],
   "source": [
    "empl['sex'].eq('женский').mean()\n",
    "# Это то же самое, что и\n",
    "# (empl['sex'] == 'женский').mean()"
   ]
  },
  {
   "cell_type": "code",
   "execution_count": null,
   "id": "db08ee8f",
   "metadata": {
    "scrolled": true
   },
   "outputs": [],
   "source": []
  },
  {
   "cell_type": "code",
   "execution_count": null,
   "id": "b24caced",
   "metadata": {
    "scrolled": true
   },
   "outputs": [],
   "source": []
  },
  {
   "cell_type": "code",
   "execution_count": null,
   "id": "9229c153",
   "metadata": {
    "scrolled": true
   },
   "outputs": [],
   "source": []
  },
  {
   "cell_type": "code",
   "execution_count": null,
   "id": "85eb447a",
   "metadata": {
    "scrolled": true
   },
   "outputs": [],
   "source": []
  },
  {
   "cell_type": "code",
   "execution_count": null,
   "id": "9542b8db",
   "metadata": {
    "scrolled": true
   },
   "outputs": [],
   "source": []
  },
  {
   "cell_type": "code",
   "execution_count": null,
   "id": "577b6a35",
   "metadata": {
    "scrolled": true
   },
   "outputs": [],
   "source": []
  },
  {
   "cell_type": "code",
   "execution_count": null,
   "id": "1582b99b",
   "metadata": {
    "scrolled": true
   },
   "outputs": [],
   "source": []
  },
  {
   "cell_type": "code",
   "execution_count": null,
   "id": "a13fe3d7",
   "metadata": {
    "scrolled": true
   },
   "outputs": [],
   "source": []
  },
  {
   "cell_type": "code",
   "execution_count": null,
   "id": "9f4b2e55",
   "metadata": {
    "scrolled": true
   },
   "outputs": [],
   "source": []
  },
  {
   "cell_type": "code",
   "execution_count": null,
   "id": "1bf9c0a9",
   "metadata": {
    "scrolled": true
   },
   "outputs": [],
   "source": []
  },
  {
   "cell_type": "markdown",
   "id": "0b8843c3",
   "metadata": {},
   "source": [
    "# Задания"
   ]
  },
  {
   "cell_type": "markdown",
   "id": "3518b634",
   "metadata": {},
   "source": [
    "#### Описание таблиц лежит [здесь](https://github.com/victorlymarev/pandas/tree/main/tables#%D0%BE%D0%BF%D0%B8%D1%81%D0%B0%D0%BD%D0%B8%D0%B5-%D1%82%D0%B0%D0%B1%D0%BB%D0%B8%D1%86)"
   ]
  },
  {
   "cell_type": "markdown",
   "id": "9b8b6009",
   "metadata": {},
   "source": [
    "Некоторые таблицы занимают много памяти, поэтому каждые 5-10 заданий лучше перезапускайте ноутбук.\n",
    "\n",
    "В формулировке некоторых заданий может содержаться вариативность. Если у вас есть сомнения, что требуется в задании, попробуйте решить несколько вариантов. Если вы не понимаете задание, можете написать об этом в комментариях под видео.\n",
    "\n",
    "В большинстве случаев внешний вид итоговой таблицы не определен. Выведите на экран наиболее адекватный вариант. То есть таблицу, из которой можно будет сделать выводы.\n",
    "\n",
    "Курс пока находится в разработке. Вы можете помочь другим людям добавив свое решение [сюда](https://docs.google.com/forms/d/1HYTBz_KfssY3Jps2dC3n0YnEqa6WBb5OIhLo1d32Xzw/edit).\n",
    "\n",
    "Посмотреть решения других людей можно [здесь](https://docs.google.com/spreadsheets/d/1pMDYO-9UneLbPPnEuQ2shig0TOJdQTU-zipifyAnZMk/edit?resourcekey#gid=1998648012)"
   ]
  },
  {
   "cell_type": "markdown",
   "id": "6ef31261",
   "metadata": {},
   "source": [
    "### Задание 1\n",
    "Для таблицы stocks воспользуйтесь методом describe"
   ]
  },
  {
   "cell_type": "code",
   "execution_count": null,
   "id": "fd245465",
   "metadata": {
    "scrolled": true
   },
   "outputs": [],
   "source": [
    "import os\n",
    "import pandas as pd\n",
    "\n",
    "path_stocks = '../tables/stocks.parquet' if os.path.exists('../tables/stocks.parquet') else 'https://drive.google.com/uc?id=1weGquTtmR92mKYAeZhZCFHJjndyoSXZt'\n",
    "\n",
    "stocks = pd.read_parquet(path_stocks)\n",
    "stocks.head()"
   ]
  },
  {
   "cell_type": "code",
   "execution_count": null,
   "id": "78b95553",
   "metadata": {
    "scrolled": true
   },
   "outputs": [],
   "source": [
    "# Напишите свой код здесь"
   ]
  },
  {
   "cell_type": "markdown",
   "id": "85c783db",
   "metadata": {},
   "source": [
    "### Задание 2\n",
    "\n",
    "Посчитайте долю выходных дней в 2020 году"
   ]
  },
  {
   "cell_type": "code",
   "execution_count": null,
   "id": "bc8ea75e",
   "metadata": {
    "scrolled": true
   },
   "outputs": [],
   "source": [
    "import os\n",
    "import pandas as pd\n",
    "\n",
    "path_w_ends = '../tables/выходные.csv' if os.path.exists('../tables/выходные.csv') else 'https://drive.google.com/uc?id=1hAsoXSPTFihFmBuF-E0uSj9pX4gpojwC'\n",
    "\n",
    "w_ends = pd.read_csv(path_w_ends)\n",
    "w_ends.head()"
   ]
  },
  {
   "cell_type": "code",
   "execution_count": null,
   "id": "407a9f35",
   "metadata": {
    "scrolled": true
   },
   "outputs": [],
   "source": [
    "# Напишите свой код здесь"
   ]
  },
  {
   "cell_type": "markdown",
   "id": "52765af7",
   "metadata": {},
   "source": [
    "### Задание 3\n",
    "\n",
    "Для колонки зарплата посчитайте среднее значение, медиану, 0.25 квантиль, 0.9 квантиль, станадартное отклонение за 2022 год"
   ]
  },
  {
   "cell_type": "code",
   "execution_count": null,
   "id": "89ccb798",
   "metadata": {
    "scrolled": true
   },
   "outputs": [],
   "source": [
    "import os\n",
    "import pandas as pd\n",
    "\n",
    "path_empl = '../tables/employees.parquet' if os.path.exists('../tables/employees.parquet') else 'https://drive.google.com/uc?id=1AARD5-eVlCxoApt5CYZebrC3Cqw42lvj'\n",
    "\n",
    "empl = pd.read_parquet(path_empl)\n",
    "empl.head()"
   ]
  },
  {
   "cell_type": "code",
   "execution_count": null,
   "id": "8d795eb7",
   "metadata": {
    "scrolled": true
   },
   "outputs": [],
   "source": [
    "# Напишите свой код здесь"
   ]
  },
  {
   "cell_type": "markdown",
   "id": "03a11656",
   "metadata": {},
   "source": [
    "### Задание 4\n",
    "\n",
    "Посчитать какой процент женщин в руководстве (поле mgmt)"
   ]
  },
  {
   "cell_type": "code",
   "execution_count": null,
   "id": "29f7febd",
   "metadata": {
    "scrolled": true
   },
   "outputs": [],
   "source": [
    "import os\n",
    "import pandas as pd\n",
    "\n",
    "path_empl = '../tables/employees.parquet' if os.path.exists('../tables/employees.parquet') else 'https://drive.google.com/uc?id=1AARD5-eVlCxoApt5CYZebrC3Cqw42lvj'\n",
    "\n",
    "empl = pd.read_parquet(path_empl)\n",
    "empl.head()"
   ]
  },
  {
   "cell_type": "code",
   "execution_count": null,
   "id": "ee905043",
   "metadata": {
    "scrolled": true
   },
   "outputs": [],
   "source": [
    "# Напишите свой код здесь"
   ]
  },
  {
   "cell_type": "markdown",
   "id": "712c1c5f",
   "metadata": {},
   "source": [
    "### Задание 5\n",
    "\n",
    "Посчитать какой процент сотрудников - мужчины"
   ]
  },
  {
   "cell_type": "code",
   "execution_count": null,
   "id": "9f8dbd50",
   "metadata": {
    "scrolled": true
   },
   "outputs": [],
   "source": [
    "import os\n",
    "import pandas as pd\n",
    "\n",
    "path_empl = '../tables/employees.parquet' if os.path.exists('../tables/employees.parquet') else 'https://drive.google.com/uc?id=1AARD5-eVlCxoApt5CYZebrC3Cqw42lvj'\n",
    "\n",
    "empl = pd.read_parquet(path_empl)\n",
    "empl.head()"
   ]
  },
  {
   "cell_type": "code",
   "execution_count": null,
   "id": "5b5f8496",
   "metadata": {
    "scrolled": true
   },
   "outputs": [],
   "source": [
    "# Напишите свой код здесь"
   ]
  },
  {
   "cell_type": "markdown",
   "id": "a5a8e035",
   "metadata": {},
   "source": [
    "### Задание 6\n",
    "\n",
    "Посчитайте среднюю оценку по математике среди мальчиков"
   ]
  },
  {
   "cell_type": "code",
   "execution_count": null,
   "id": "77d262ae",
   "metadata": {
    "scrolled": true
   },
   "outputs": [],
   "source": [
    "import os\n",
    "import pandas as pd\n",
    "\n",
    "path_marks = '../tables/школьные оценки.xlsx' if os.path.exists('../tables/школьные оценки.xlsx') else 'https://drive.google.com/uc?id=1v9kRv1I03CXtQ6vFE4mE3hFAty436qAo'\n",
    "\n",
    "marks = pd.read_excel(path_marks)\n",
    "marks.head()"
   ]
  },
  {
   "cell_type": "code",
   "execution_count": null,
   "id": "addc3b5d",
   "metadata": {
    "scrolled": true
   },
   "outputs": [],
   "source": [
    "# Напишите свой код здесь"
   ]
  },
  {
   "cell_type": "markdown",
   "id": "172575e9",
   "metadata": {},
   "source": [
    "### Задание 7\n",
    "\n",
    "Посчитайте коэффициент корреляции между ценой товара и ценой товара по скидке"
   ]
  },
  {
   "cell_type": "code",
   "execution_count": null,
   "id": "11477852",
   "metadata": {
    "scrolled": true
   },
   "outputs": [],
   "source": [
    "import os\n",
    "import pandas as pd\n",
    "\n",
    "path_prices = '../tables/prices.parquet' if os.path.exists('../tables/prices.parquet') else 'https://drive.google.com/uc?id=1_KfYyYCsib8woanbP3VouLUpYp103dV5'\n",
    "\n",
    "prices = pd.read_parquet(path_prices)\n",
    "prices.head()"
   ]
  },
  {
   "cell_type": "code",
   "execution_count": null,
   "id": "312cda71",
   "metadata": {
    "scrolled": true
   },
   "outputs": [],
   "source": [
    "# Напишите свой код здесь"
   ]
  },
  {
   "cell_type": "markdown",
   "id": "3946f415",
   "metadata": {},
   "source": [
    "### Задание 8\n",
    "\n",
    "Найдите детей, у которых либо все тройки, либо все четверки, либо все пятерки"
   ]
  },
  {
   "cell_type": "code",
   "execution_count": null,
   "id": "3af7921e",
   "metadata": {
    "scrolled": true
   },
   "outputs": [],
   "source": [
    "import os\n",
    "import pandas as pd\n",
    "\n",
    "path_marks = '../tables/школьные оценки.xlsx' if os.path.exists('../tables/школьные оценки.xlsx') else 'https://drive.google.com/uc?id=1v9kRv1I03CXtQ6vFE4mE3hFAty436qAo'\n",
    "\n",
    "marks = pd.read_excel(path_marks)\n",
    "marks.head()"
   ]
  },
  {
   "cell_type": "code",
   "execution_count": null,
   "id": "fedfb480",
   "metadata": {
    "scrolled": true
   },
   "outputs": [],
   "source": [
    "# Напишите свой код здесь"
   ]
  },
  {
   "cell_type": "markdown",
   "id": "3e42b6ef",
   "metadata": {},
   "source": [
    "### Задание 9\n",
    "\n",
    "Посчитайте сумарную выручку и среднюю стоимость проданного товара в магазине 5"
   ]
  },
  {
   "cell_type": "code",
   "execution_count": null,
   "id": "703262db",
   "metadata": {
    "scrolled": true
   },
   "outputs": [],
   "source": [
    "# таблица sales - большая, и в некоторых случаях ваш компьютер может не справиться с ее обработкой\n",
    "# поэтому лучше работайте с частью этой таблицы\n",
    "# но если вы хотите попробовать поработать с полной версией таблицы,\n",
    "# можете заменить переменную path_sales_2022 на path_sales внутри функции read_parquet\n",
    "\n",
    "import os\n",
    "import pandas as pd\n",
    "\n",
    "path_sales_2022 = '../tables/sales_2022.parquet' if os.path.exists('../tables/sales_2022.parquet') else 'https://drive.google.com/uc?id=17e7FwXVdsWc2aziK9s5KidIvPcfKt9F5'\n",
    "# path_sales = '../tables/sales.parquet' if os.path.exists('../tables/sales.parquet') else \"https://drive.usercontent.google.com/download?id=15KwSxyM6hpNABGe6_vsrFZvD09VfHFyK&export=download&authuser=1&confirm=t&uuid=115bd48c-cc2c-4f2a-8b42-be5ca6ef6db8&at=APZUnTUVb8nfNANw5wr9Cad7PJ3U:1693327774694\"\n",
    "\n",
    "sales = pd.read_parquet(path_sales_2022)\n",
    "sales.head()"
   ]
  },
  {
   "cell_type": "code",
   "execution_count": null,
   "id": "979d4b0e",
   "metadata": {
    "scrolled": true
   },
   "outputs": [],
   "source": [
    "# Напишите свой код здесь"
   ]
  },
  {
   "cell_type": "markdown",
   "id": "f1df2fb9",
   "metadata": {},
   "source": [
    "### Задание 10\n",
    "\n",
    "Отберите детей, у которых была всего одна тройка"
   ]
  },
  {
   "cell_type": "code",
   "execution_count": null,
   "id": "a3adc003",
   "metadata": {
    "scrolled": true
   },
   "outputs": [],
   "source": [
    "import os\n",
    "import pandas as pd\n",
    "\n",
    "path_marks = '../tables/школьные оценки.xlsx' if os.path.exists('../tables/школьные оценки.xlsx') else 'https://drive.google.com/uc?id=1v9kRv1I03CXtQ6vFE4mE3hFAty436qAo'\n",
    "\n",
    "marks = pd.read_excel(path_marks)\n",
    "marks.head()"
   ]
  },
  {
   "cell_type": "code",
   "execution_count": null,
   "id": "93f49fdb",
   "metadata": {
    "scrolled": true
   },
   "outputs": [],
   "source": [
    "# Напишите свой код здесь"
   ]
  },
  {
   "attachments": {
    "image.png": {
     "image/png": "[encoded data removed]"
    }
   },
   "cell_type": "markdown",
   "id": "7e050ddc",
   "metadata": {},
   "source": [
    "### Задание 11\n",
    "\n",
    "Согласно неравенству Маркова, для неотрицательного показателя доля наблюдейний, превышающих некоторое число а меньше или равна среднему значению этого показателя, деленному на это число а.\n",
    "\n",
    "![image.png](attachment:image.png)\n",
    "\n",
    "P - доля наблюдений, для которых выполняется условие, записанное в скобках\n",
    "\n",
    "E X - среднее значение показателя X\n",
    "\n",
    "\n",
    "Проверьте неравенство на данных по зарплате сотрудников по состоянию на 31 декабря 2022 года. Посчитайте долю сотрудников, зарабатывающих больше 90 000 и сравните это значение со средней зарплатой деленной на 90 000. Выполняется ли оно?"
   ]
  },
  {
   "cell_type": "code",
   "execution_count": null,
   "id": "1f7a760b",
   "metadata": {
    "scrolled": true
   },
   "outputs": [],
   "source": [
    "import os\n",
    "import pandas as pd\n",
    "\n",
    "path_empl = '../tables/employees.parquet' if os.path.exists('../tables/employees.parquet') else 'https://drive.google.com/uc?id=1AARD5-eVlCxoApt5CYZebrC3Cqw42lvj'\n",
    "\n",
    "empl = pd.read_parquet(path_empl)\n",
    "empl.head()"
   ]
  },
  {
   "cell_type": "code",
   "execution_count": null,
   "id": "d2139b3c",
   "metadata": {
    "scrolled": true
   },
   "outputs": [],
   "source": [
    "# Напишите свой код здесь"
   ]
  },
  {
   "cell_type": "markdown",
   "id": "cb5da4eb",
   "metadata": {},
   "source": [
    "### Задание 12\n",
    "\n",
    "Посчитайте среднюю оценку по математике среди мальчиков\n",
    "\n",
    "Сделайте 100 выборок с возвращением в которых посчитайте 80 квантиль в зарплате мужчин за 31 декабря 2022 года. Усредните полученные значения\n",
    "\n",
    "Затем сделайте то же самое, только для женщин. Сравните результаты"
   ]
  },
  {
   "cell_type": "code",
   "execution_count": null,
   "id": "a45bb77b",
   "metadata": {
    "scrolled": true
   },
   "outputs": [],
   "source": [
    "import os\n",
    "import pandas as pd\n",
    "\n",
    "path_marks = '../tables/школьные оценки.xlsx' if os.path.exists('../tables/школьные оценки.xlsx') else 'https://drive.google.com/uc?id=1v9kRv1I03CXtQ6vFE4mE3hFAty436qAo'\n",
    "\n",
    "marks = pd.read_excel(path_marks)\n",
    "marks.head()"
   ]
  },
  {
   "cell_type": "code",
   "execution_count": null,
   "id": "926862d1",
   "metadata": {
    "scrolled": true
   },
   "outputs": [],
   "source": [
    "# Напишите свой код здесь"
   ]
  },
  {
   "cell_type": "markdown",
   "id": "e50cb409",
   "metadata": {},
   "source": [
    "### Задание 13\n",
    "\n",
    "Перемножьте колонки price и goods_number и добавьте получившееся значение как отдельрную колнку. После этого для нее и для колонки price посчитайте 2 показателя: среднюю абсолютную ошибку относительно среднего и среднюю абсолютную ошибку относительно медианы. \n",
    "\n",
    "Для этого из каждого значения в колонке вычтите среднее (медиану) по колонке. Затем возьмите модуль от получившейся колонки. Затем усредните ее."
   ]
  },
  {
   "cell_type": "code",
   "execution_count": null,
   "id": "f330d2f6",
   "metadata": {
    "scrolled": true
   },
   "outputs": [],
   "source": [
    "# таблица sales - большая, и в некоторых случаях ваш компьютер может не справиться с ее обработкой\n",
    "# поэтому лучше работайте с частью этой таблицы\n",
    "# но если вы хотите попробовать поработать с полной версией таблицы,\n",
    "# можете заменить переменную path_sales_2022 на path_sales внутри функции read_parquet\n",
    "\n",
    "import os\n",
    "import pandas as pd\n",
    "\n",
    "path_sales_2022 = '../tables/sales_2022.parquet' if os.path.exists('../tables/sales_2022.parquet') else 'https://drive.google.com/uc?id=17e7FwXVdsWc2aziK9s5KidIvPcfKt9F5'\n",
    "# path_sales = '../tables/sales.parquet' if os.path.exists('../tables/sales.parquet') else \"https://drive.usercontent.google.com/download?id=15KwSxyM6hpNABGe6_vsrFZvD09VfHFyK&export=download&authuser=1&confirm=t&uuid=115bd48c-cc2c-4f2a-8b42-be5ca6ef6db8&at=APZUnTUVb8nfNANw5wr9Cad7PJ3U:1693327774694\"\n",
    "\n",
    "sales = pd.read_parquet(path_sales_2022)\n",
    "sales.head()"
   ]
  },
  {
   "cell_type": "code",
   "execution_count": null,
   "id": "43ca3a7a",
   "metadata": {
    "scrolled": true
   },
   "outputs": [],
   "source": [
    "# Напишите свой код здесь"
   ]
  },
  {
   "cell_type": "markdown",
   "id": "d8500fe6",
   "metadata": {},
   "source": [
    "## Задания на нампай"
   ]
  },
  {
   "cell_type": "markdown",
   "id": "9d732af4",
   "metadata": {},
   "source": [
    "### Задание 14\n",
    "\n",
    "В нампае в большинстве случаев названия стат функций называются точно так же как и в пандасе.\n",
    "\n",
    "Посчитайте среднее, и стандартное отклонение по всей матрице и по отдельной строке (в отдельных ячейках)"
   ]
  },
  {
   "cell_type": "code",
   "execution_count": null,
   "id": "3d28d187",
   "metadata": {
    "scrolled": true
   },
   "outputs": [],
   "source": [
    "import numpy as np\n",
    "np.random.seed(21)\n",
    "m = np.random.rand(56).reshape(-1, 4)\n",
    "m"
   ]
  },
  {
   "cell_type": "code",
   "execution_count": null,
   "id": "b7348940",
   "metadata": {
    "scrolled": true
   },
   "outputs": [],
   "source": [
    "# Напишите свой код здесь"
   ]
  },
  {
   "cell_type": "markdown",
   "id": "127029e7",
   "metadata": {},
   "source": [
    "### Задание 15\n",
    "\n",
    "В этом задании давайте посмотрим на то, что если две нормальные случайные величины некоррелированы, то они необязательно независимы.\n",
    "\n",
    "Просимулируем 2 нормальные случайные величины, создав 100000 реализаций каждой."
   ]
  },
  {
   "cell_type": "code",
   "execution_count": null,
   "id": "6ac314a7",
   "metadata": {
    "scrolled": true
   },
   "outputs": [],
   "source": [
    "from scipy.stats import shapiro\n",
    "import numpy as np\n",
    "import matplotlib.pyplot as plt\n",
    "\n",
    "np.random.seed(35)\n",
    "x = np.random.normal(0, 1, size=100000)\n",
    "y = x * np.random.choice([-1, 1], size=100000)"
   ]
  },
  {
   "cell_type": "markdown",
   "id": "84269f43",
   "metadata": {},
   "source": [
    "Проверим, что распрдееления действительно являются нормальными. Будем считать, что если pvalue больше 0.05, то распределение нормальное"
   ]
  },
  {
   "cell_type": "code",
   "execution_count": null,
   "id": "f20802a3",
   "metadata": {
    "scrolled": true
   },
   "outputs": [],
   "source": [
    "shapiro(x)"
   ]
  },
  {
   "cell_type": "code",
   "execution_count": null,
   "id": "7cbae330",
   "metadata": {
    "scrolled": true
   },
   "outputs": [],
   "source": [
    "shapiro(y)"
   ]
  },
  {
   "cell_type": "markdown",
   "id": "0415865c",
   "metadata": {},
   "source": [
    "Посчитайте коэффициент корреляции между x и y. Это можно сделать при помощи np.corrcoef. В эту функцию через запятую предайте x и y"
   ]
  },
  {
   "cell_type": "code",
   "execution_count": null,
   "id": "86387422",
   "metadata": {
    "scrolled": true
   },
   "outputs": [],
   "source": [
    "# Напишите свой код здесь"
   ]
  },
  {
   "cell_type": "markdown",
   "id": "6abf6707",
   "metadata": {},
   "source": [
    "Как видите коэффициент корреляции очень близок к нулю (если считать теоретически, то он будет в точности равен нулю).\n",
    "\n",
    "Теперь постройте scatter для переменных x и y при помощи функции plt.scatter(x, y). \n",
    "Можно ли сказать, что переменные независимы?"
   ]
  },
  {
   "cell_type": "code",
   "execution_count": null,
   "id": "9c61e5cb",
   "metadata": {
    "scrolled": true
   },
   "outputs": [],
   "source": [
    "# Напишите свой код здесь"
   ]
  },
  {
   "cell_type": "markdown",
   "id": "e3b5b236",
   "metadata": {},
   "source": [
    "При помощи теста Шапиро проверьте является ли нормальной случайной величина x + 2 * y.\n",
    "\n",
    "Это кстати говорит о том, что сумма двух нормальных случайных величин необязательно распределена нормально. \n",
    "\n",
    "(Впрочем на самом деле это крайний случай)"
   ]
  },
  {
   "cell_type": "code",
   "execution_count": null,
   "id": "e6c24275",
   "metadata": {
    "scrolled": true
   },
   "outputs": [],
   "source": [
    "# Напишите свой код здесь"
   ]
  },
  {
   "cell_type": "markdown",
   "id": "ef07dddb",
   "metadata": {},
   "source": [
    "### Задание 16\n",
    "\n",
    "Не используя функцию corr посчитайте коэффициент коррляции между оценками (задание для тех, кто знает как перемножать матрицы)"
   ]
  },
  {
   "cell_type": "code",
   "execution_count": null,
   "id": "b69f1c62",
   "metadata": {
    "scrolled": true
   },
   "outputs": [],
   "source": [
    "import os\n",
    "import pandas as pd\n",
    "\n",
    "path_marks = '../tables/школьные оценки.xlsx' if os.path.exists('../tables/школьные оценки.xlsx') else 'https://drive.google.com/uc?id=1v9kRv1I03CXtQ6vFE4mE3hFAty436qAo'\n",
    "\n",
    "marks = pd.read_excel(path_marks)\n",
    "marks.head()"
   ]
  },
  {
   "cell_type": "code",
   "execution_count": null,
   "id": "fcd36ffd",
   "metadata": {
    "scrolled": true
   },
   "outputs": [],
   "source": [
    "# Напишите свой код здесь"
   ]
  },
  {
   "cell_type": "code",
   "execution_count": null,
   "id": "df0bc603",
   "metadata": {
    "scrolled": true
   },
   "outputs": [],
   "source": []
  },
  {
   "cell_type": "code",
   "execution_count": null,
   "id": "46aa7191",
   "metadata": {
    "scrolled": true
   },
   "outputs": [],
   "source": []
  },
  {
   "cell_type": "code",
   "execution_count": null,
   "id": "1b22f86f",
   "metadata": {
    "scrolled": true
   },
   "outputs": [],
   "source": []
  },
  {
   "cell_type": "code",
   "execution_count": null,
   "id": "1ea118f6",
   "metadata": {
    "scrolled": true
   },
   "outputs": [],
   "source": []
  }
 ],
 "metadata": {
  "kernelspec": {
   "display_name": "Python 3 (ipykernel)",
   "language": "python",
   "name": "python3"
  },
  "language_info": {
   "codemirror_mode": {
    "name": "ipython",
    "version": 3
   },
   "file_extension": ".py",
   "mimetype": "text/x-python",
   "name": "python",
   "nbconvert_exporter": "python",
   "pygments_lexer": "ipython3",
   "version": "3.11.5"
  }
 },
 "nbformat": 4,
 "nbformat_minor": 5
}
