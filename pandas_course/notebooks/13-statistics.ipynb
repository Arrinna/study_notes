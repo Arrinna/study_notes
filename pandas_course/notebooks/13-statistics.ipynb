{
 "cells": [
  {
   "cell_type": "markdown",
   "id": "863f8c2b",
   "metadata": {},
   "source": [
    "<a target=\"_blank\" href=\"https://colab.research.google.com/github/victorlymarev/pandas/blob/main/notebooks/13-statistics.ipynb\">\n",
    "  <img src=\"https://colab.research.google.com/assets/colab-badge.svg\" alt=\"Open In Colab\"/>\n",
    "</a>"
   ]
  },
  {
   "cell_type": "markdown",
   "id": "e90dc97a",
   "metadata": {},
   "source": [
    "# Агрегации \n",
    "#### [Ссылка на видео](https://youtu.be/AYeN8DhNNIM)"
   ]
  },
  {
   "cell_type": "code",
   "execution_count": 1,
   "id": "0e95af5e",
   "metadata": {
    "scrolled": true
   },
   "outputs": [],
   "source": [
    "import pandas as pd\n",
    "import numpy as np\n",
    "import seaborn as sns\n",
    "import matplotlib.pyplot as plt\n",
    "import os"
   ]
  },
  {
   "cell_type": "code",
   "execution_count": 9,
   "id": "b9ea42f4",
   "metadata": {
    "scrolled": true
   },
   "outputs": [
    {
     "data": {
      "text/html": [
       "<div>\n",
       "<style scoped>\n",
       "    .dataframe tbody tr th:only-of-type {\n",
       "        vertical-align: middle;\n",
       "    }\n",
       "\n",
       "    .dataframe tbody tr th {\n",
       "        vertical-align: top;\n",
       "    }\n",
       "\n",
       "    .dataframe thead th {\n",
       "        text-align: right;\n",
       "    }\n",
       "</style>\n",
       "<table border=\"1\" class=\"dataframe\">\n",
       "  <thead>\n",
       "    <tr style=\"text-align: right;\">\n",
       "      <th></th>\n",
       "      <th>report_dt</th>\n",
       "      <th>fio</th>\n",
       "      <th>sex</th>\n",
       "      <th>birth_date</th>\n",
       "      <th>mgmt_flag</th>\n",
       "      <th>employee_evaluation</th>\n",
       "      <th>salary</th>\n",
       "    </tr>\n",
       "  </thead>\n",
       "  <tbody>\n",
       "    <tr>\n",
       "      <th>27931</th>\n",
       "      <td>2022-10-31</td>\n",
       "      <td>Васильева Дарья Тимуровна</td>\n",
       "      <td>женский</td>\n",
       "      <td>1994-02-16</td>\n",
       "      <td>1</td>\n",
       "      <td>4.0</td>\n",
       "      <td>76600.0</td>\n",
       "    </tr>\n",
       "    <tr>\n",
       "      <th>27932</th>\n",
       "      <td>2022-10-31</td>\n",
       "      <td>Балашов Петр Максимович</td>\n",
       "      <td>мужской</td>\n",
       "      <td>1980-09-16</td>\n",
       "      <td>0</td>\n",
       "      <td>7.0</td>\n",
       "      <td>42700.0</td>\n",
       "    </tr>\n",
       "    <tr>\n",
       "      <th>27933</th>\n",
       "      <td>2022-10-31</td>\n",
       "      <td>Филимонов Дмитрий Васильевич</td>\n",
       "      <td>мужской</td>\n",
       "      <td>1974-12-12</td>\n",
       "      <td>0</td>\n",
       "      <td>4.0</td>\n",
       "      <td>20900.0</td>\n",
       "    </tr>\n",
       "    <tr>\n",
       "      <th>27934</th>\n",
       "      <td>2022-10-31</td>\n",
       "      <td>Демьянова Юлия Ярославовна</td>\n",
       "      <td>женский</td>\n",
       "      <td>1980-08-15</td>\n",
       "      <td>0</td>\n",
       "      <td>5.0</td>\n",
       "      <td>21200.0</td>\n",
       "    </tr>\n",
       "    <tr>\n",
       "      <th>27935</th>\n",
       "      <td>2022-10-31</td>\n",
       "      <td>Головина Кристина Захаровна</td>\n",
       "      <td>женский</td>\n",
       "      <td>1974-04-30</td>\n",
       "      <td>0</td>\n",
       "      <td>8.0</td>\n",
       "      <td>29000.0</td>\n",
       "    </tr>\n",
       "  </tbody>\n",
       "</table>\n",
       "</div>"
      ],
      "text/plain": [
       "       report_dt                           fio      sex birth_date  mgmt_flag  \\\n",
       "27931 2022-10-31     Васильева Дарья Тимуровна  женский 1994-02-16          1   \n",
       "27932 2022-10-31       Балашов Петр Максимович  мужской 1980-09-16          0   \n",
       "27933 2022-10-31  Филимонов Дмитрий Васильевич  мужской 1974-12-12          0   \n",
       "27934 2022-10-31    Демьянова Юлия Ярославовна  женский 1980-08-15          0   \n",
       "27935 2022-10-31   Головина Кристина Захаровна  женский 1974-04-30          0   \n",
       "\n",
       "       employee_evaluation   salary  \n",
       "27931                  4.0  76600.0  \n",
       "27932                  7.0  42700.0  \n",
       "27933                  4.0  20900.0  \n",
       "27934                  5.0  21200.0  \n",
       "27935                  8.0  29000.0  "
      ]
     },
     "execution_count": 9,
     "metadata": {},
     "output_type": "execute_result"
    }
   ],
   "source": [
    "path_empl = '../tables_/employees.parquet' if os.path.exists('../tables_/employees.parquet') else 'https://drive.google.com/uc?id=1AARD5-eVlCxoApt5CYZebrC3Cqw42lvj'\n",
    "\n",
    "empl = pd.read_parquet(path_empl).query('report_dt >= \"2022-10-31\"')[\n",
    "    ['report_dt', 'fio', 'sex', 'birth_date', 'mgmt_flag', 'employee_evaluation', 'salary']]\n",
    "empl.head()"
   ]
  },
  {
   "cell_type": "code",
   "execution_count": null,
   "id": "a3752097",
   "metadata": {
    "scrolled": true
   },
   "outputs": [],
   "source": []
  },
  {
   "cell_type": "markdown",
   "id": "f53a8f4e",
   "metadata": {},
   "source": [
    "## Построение гистограмм"
   ]
  },
  {
   "cell_type": "markdown",
   "id": "1949b1ca",
   "metadata": {},
   "source": [
    "Как правило, у гистограммы по оси х расположен какой-то непрерывный показатель (например зарплаата или возраст), разделенный на интервалы. Высота стоблца означает, какое количесво наблюдений попало в каждый инервал."
   ]
  },
  {
   "cell_type": "code",
   "execution_count": 3,
   "id": "24430a5d",
   "metadata": {
    "scrolled": false
   },
   "outputs": [
    {
     "data": {
      "text/plain": [
       "<Axes: >"
      ]
     },
     "execution_count": 3,
     "metadata": {},
     "output_type": "execute_result"
    },
    {
     "data": {
      "image/png": "[encoded data removed]",
      "text/plain": [
       "<Figure size 640x480 with 1 Axes>"
      ]
     },
     "metadata": {},
     "output_type": "display_data"
    }
   ],
   "source": [
    "empl['salary'].hist()\n",
    "# Можно еще написать\n",
    "# plt.hist(empl['salary'])\n",
    "# [ 20500.,  33920.,  47340.,  60760.,  74180.,  87600., 101020., 114440., 127860., 141280., 154700.]"
   ]
  },
  {
   "cell_type": "code",
   "execution_count": 4,
   "id": "b24abac2",
   "metadata": {
    "scrolled": false
   },
   "outputs": [
    {
     "data": {
      "image/png": "[encoded data removed]",
      "text/plain": [
       "<Figure size 900x400 with 1 Axes>"
      ]
     },
     "metadata": {},
     "output_type": "display_data"
    }
   ],
   "source": [
    "plt.figure(figsize=(9, 4)) # определяем размеры графика, первое значение - ширина, второе высота\n",
    "\n",
    "plt.hist(empl['salary'], # данные\n",
    "         range=(20000, 155000), # range - интервал, на котором строится гистограмма\n",
    "         bins=27 # bins=количество столбцов, на которые делется интервал \n",
    "        )\n",
    "\n",
    "plt.title('Гитрограмма зарплат') # добавляем название графика\n",
    "plt.xlabel('Зарплата, руб') # добавляем название оси х\n",
    "plt.ylabel('Количество наблюдений') # добавляем название оси у\n",
    "plt.xticks([i for i in range(20000, 160001, 10000)], rotation=20)\n",
    "plt.grid(alpha=0.1) # добавляем сетку, устанвливая уровень прозрачности\n",
    "plt.show() # выводим график на экран"
   ]
  },
  {
   "cell_type": "code",
   "execution_count": 5,
   "id": "8407aeeb",
   "metadata": {
    "scrolled": false
   },
   "outputs": [
    {
     "data": {
      "image/png": "[encoded data removed]",
      "text/plain": [
       "<Figure size 1000x500 with 1 Axes>"
      ]
     },
     "metadata": {},
     "output_type": "display_data"
    }
   ],
   "source": [
    "plt.figure(figsize=(10, 5))\n",
    "\n",
    "(sns.histplot(data=empl, # датафрейм откуда берутся данные\n",
    "              x='salary', # название колонки по которой строится график\n",
    "              binwidth=5000, # ширина стобца\n",
    "              binrange=(20000, 155000), # интервал, на котором строится гистограмма\n",
    "              stat='percent' # статистика, которая будет считаться по оси y\n",
    "             )\n",
    "    .set(title='Гитограмма зарплат', xlabel='Зарплата, руб', ylabel='%')\n",
    ")\n",
    "plt.show() # выводим график на экран"
   ]
  },
  {
   "cell_type": "markdown",
   "id": "95d9b56a",
   "metadata": {},
   "source": [
    "#### Ядерная оценка плотности"
   ]
  },
  {
   "cell_type": "code",
   "execution_count": 7,
   "id": "f02e4925",
   "metadata": {
    "scrolled": false
   },
   "outputs": [
    {
     "data": {
      "image/png": "[encoded data removed]",
      "text/plain": [
       "<Figure size 1000x500 with 1 Axes>"
      ]
     },
     "metadata": {},
     "output_type": "display_data"
    }
   ],
   "source": [
    "plt.figure(figsize=(10, 5))\n",
    "(sns.kdeplot(data=empl, # датафрейм\n",
    "             x='salary', # колонка, по которой строится график\n",
    "             common_norm=True, # площадь под графиком равна 1\n",
    "             fill=True, # тень под графиком\n",
    "             bw_method=0.1 # окно пропускания\n",
    "            )\n",
    "    .set(title='Ядерная оценка плотности', xlabel='Зарплата, руб', ylabel='Плотность')\n",
    ")\n",
    "plt.show()"
   ]
  },
  {
   "cell_type": "code",
   "execution_count": null,
   "id": "0a599983",
   "metadata": {
    "scrolled": true
   },
   "outputs": [],
   "source": []
  },
  {
   "cell_type": "code",
   "execution_count": null,
   "id": "62df86f1",
   "metadata": {
    "scrolled": true
   },
   "outputs": [],
   "source": []
  },
  {
   "cell_type": "code",
   "execution_count": null,
   "id": "d6c3f690",
   "metadata": {
    "scrolled": true
   },
   "outputs": [],
   "source": []
  },
  {
   "cell_type": "markdown",
   "id": "b7465ddc",
   "metadata": {},
   "source": [
    "## Статистики\n",
    "\n",
    "Статистика - это функция от выборки (то есть от данных)\n",
    "\n",
    "Это может быть среднее значение, сумма всех элементов элементов выборки, первое значение, число уникальных значений или просто сама выборка"
   ]
  },
  {
   "cell_type": "markdown",
   "id": "9e72d01a",
   "metadata": {},
   "source": [
    "### Сумма"
   ]
  },
  {
   "cell_type": "code",
   "execution_count": 8,
   "id": "57f2ea10",
   "metadata": {
    "scrolled": true
   },
   "outputs": [
    {
     "data": {
      "text/plain": [
       "np.float64(54074500.0)"
      ]
     },
     "execution_count": 8,
     "metadata": {},
     "output_type": "execute_result"
    }
   ],
   "source": [
    "empl['salary'].sum()"
   ]
  },
  {
   "cell_type": "markdown",
   "id": "56edac44",
   "metadata": {},
   "source": [
    "### Произведение"
   ]
  },
  {
   "cell_type": "code",
   "execution_count": 9,
   "id": "1d29d2c6",
   "metadata": {
    "scrolled": true
   },
   "outputs": [
    {
     "data": {
      "text/plain": [
       "np.float64(4.20278128424e+22)"
      ]
     },
     "execution_count": 9,
     "metadata": {},
     "output_type": "execute_result"
    }
   ],
   "source": [
    "empl['salary'].head().prod()"
   ]
  },
  {
   "cell_type": "markdown",
   "id": "dfe0412f",
   "metadata": {},
   "source": [
    "### Количество заполненных строк"
   ]
  },
  {
   "cell_type": "code",
   "execution_count": 10,
   "id": "0607951e",
   "metadata": {
    "scrolled": true
   },
   "outputs": [
    {
     "data": {
      "text/plain": [
       "np.int64(1441)"
      ]
     },
     "execution_count": 10,
     "metadata": {},
     "output_type": "execute_result"
    }
   ],
   "source": [
    "empl['salary'].count()"
   ]
  },
  {
   "cell_type": "markdown",
   "id": "36c04b3e",
   "metadata": {},
   "source": [
    "## Характеристики среднего"
   ]
  },
  {
   "cell_type": "markdown",
   "id": "e21d9d2f",
   "metadata": {},
   "source": [
    "### Среднее арифметическое"
   ]
  },
  {
   "cell_type": "markdown",
   "id": "a11a47dc",
   "metadata": {},
   "source": [
    "$$\n",
    "Среднее\\ арифметическое = {сумма \\over количество\\ непустых\\ строк}\n",
    "$$"
   ]
  },
  {
   "cell_type": "code",
   "execution_count": 11,
   "id": "d288e089",
   "metadata": {
    "scrolled": true
   },
   "outputs": [
    {
     "data": {
      "text/plain": [
       "np.float64(37525.67661346287)"
      ]
     },
     "execution_count": 11,
     "metadata": {},
     "output_type": "execute_result"
    }
   ],
   "source": [
    "empl['salary'].mean()\n",
    "# empl['salary'].sum() / empl['salary'].count()"
   ]
  },
  {
   "cell_type": "markdown",
   "id": "1e37414e",
   "metadata": {},
   "source": [
    "Возвращаемое число не обычный float, а нампаевский"
   ]
  },
  {
   "cell_type": "code",
   "execution_count": 12,
   "id": "e367e498",
   "metadata": {
    "scrolled": true
   },
   "outputs": [
    {
     "data": {
      "text/plain": [
       "numpy.float64"
      ]
     },
     "execution_count": 12,
     "metadata": {},
     "output_type": "execute_result"
    }
   ],
   "source": [
    "type(empl['salary'].mean())"
   ]
  },
  {
   "cell_type": "markdown",
   "id": "c99ee942",
   "metadata": {},
   "source": [
    "Поэтому с ним можно продолжать рабоать, например округлить"
   ]
  },
  {
   "cell_type": "code",
   "execution_count": 13,
   "id": "4be462b5",
   "metadata": {
    "scrolled": true
   },
   "outputs": [
    {
     "data": {
      "text/plain": [
       "np.float64(37526.0)"
      ]
     },
     "execution_count": 13,
     "metadata": {},
     "output_type": "execute_result"
    }
   ],
   "source": [
    "empl['salary'].mean().round()"
   ]
  },
  {
   "cell_type": "markdown",
   "id": "38a5c458",
   "metadata": {},
   "source": [
    "Центрирование данных (это вычитание из них среднего значения)"
   ]
  },
  {
   "cell_type": "code",
   "execution_count": null,
   "id": "a20f421f",
   "metadata": {
    "scrolled": true
   },
   "outputs": [],
   "source": [
    "empl['salary'] - empl['salary'].mean()"
   ]
  },
  {
   "cell_type": "code",
   "execution_count": null,
   "id": "83cb9240",
   "metadata": {
    "scrolled": true
   },
   "outputs": [],
   "source": []
  },
  {
   "cell_type": "code",
   "execution_count": null,
   "id": "e558e8c9",
   "metadata": {
    "scrolled": true
   },
   "outputs": [],
   "source": []
  },
  {
   "cell_type": "markdown",
   "id": "de6b4fbe",
   "metadata": {},
   "source": [
    "### Медиана"
   ]
  },
  {
   "cell_type": "markdown",
   "id": "b3941ce6",
   "metadata": {},
   "source": [
    "Медиана - это значение, которое находится посередине в отсортированном массиве"
   ]
  },
  {
   "cell_type": "code",
   "execution_count": 14,
   "id": "77534286",
   "metadata": {
    "scrolled": true
   },
   "outputs": [
    {
     "name": "stderr",
     "output_type": "stream",
     "text": [
      "C:\\Users\\Panda\\AppData\\Local\\Temp\\ipykernel_10124\\1542010189.py:4: FutureWarning: The behavior of 'isin' with dtype=datetime64[us] and castable values (e.g. strings) is deprecated. In a future version, these will not be considered matching by isin. Explicitly cast to the appropriate dtype before calling isin instead.\n",
      "  plt.axline(xy1=(empl.query('report_dt == \"2022-12-31\"')['salary'].median(), 0),\n",
      "C:\\Users\\Panda\\AppData\\Local\\Temp\\ipykernel_10124\\1542010189.py:5: FutureWarning: The behavior of 'isin' with dtype=datetime64[us] and castable values (e.g. strings) is deprecated. In a future version, these will not be considered matching by isin. Explicitly cast to the appropriate dtype before calling isin instead.\n",
      "  xy2=(empl.query('report_dt == \"2022-12-31\"')['salary'].median(), 100), color='r')\n"
     ]
    },
    {
     "data": {
      "image/png": "[encoded data removed]",
      "text/plain": [
       "<Figure size 1000x200 with 1 Axes>"
      ]
     },
     "metadata": {},
     "output_type": "display_data"
    }
   ],
   "source": [
    "# рисуем гистограмму\n",
    "empl['salary'].hist(figsize=(10, 2), bins=27, range=(20000, 155000))\n",
    "# рисуем вертикальную красную линию\n",
    "plt.axline(xy1=(empl.query('report_dt == \"2022-12-31\"')['salary'].median(), 0),\n",
    "           xy2=(empl.query('report_dt == \"2022-12-31\"')['salary'].median(), 100), color='r')\n",
    "plt.show()"
   ]
  },
  {
   "cell_type": "code",
   "execution_count": 15,
   "id": "cbd51168",
   "metadata": {
    "scrolled": true
   },
   "outputs": [
    {
     "data": {
      "text/plain": [
       "30600.0"
      ]
     },
     "execution_count": 15,
     "metadata": {},
     "output_type": "execute_result"
    }
   ],
   "source": [
    "empl['salary'].median()"
   ]
  },
  {
   "cell_type": "code",
   "execution_count": null,
   "id": "38f87fa2",
   "metadata": {
    "scrolled": true
   },
   "outputs": [],
   "source": []
  },
  {
   "cell_type": "code",
   "execution_count": null,
   "id": "3bbae548",
   "metadata": {
    "scrolled": true
   },
   "outputs": [],
   "source": []
  },
  {
   "cell_type": "markdown",
   "id": "56793c71",
   "metadata": {},
   "source": [
    "### Мода"
   ]
  },
  {
   "cell_type": "markdown",
   "id": "7b111e3c",
   "metadata": {},
   "source": [
    "Мода - это самое частое значение"
   ]
  },
  {
   "cell_type": "code",
   "execution_count": 16,
   "id": "214e0e78",
   "metadata": {
    "scrolled": true
   },
   "outputs": [
    {
     "data": {
      "text/plain": [
       "0    38000.0\n",
       "Name: salary, dtype: float64"
      ]
     },
     "execution_count": 16,
     "metadata": {},
     "output_type": "execute_result"
    }
   ],
   "source": [
    "empl['salary'].mode()"
   ]
  },
  {
   "cell_type": "code",
   "execution_count": 17,
   "id": "26d0bd7c",
   "metadata": {
    "scrolled": true
   },
   "outputs": [
    {
     "data": {
      "text/plain": [
       "np.int64(106)"
      ]
     },
     "execution_count": 17,
     "metadata": {},
     "output_type": "execute_result"
    }
   ],
   "source": [
    "empl.query('salary == salary.mode().item()')['salary'].count()"
   ]
  },
  {
   "cell_type": "code",
   "execution_count": 18,
   "id": "5953c163",
   "metadata": {
    "scrolled": true
   },
   "outputs": [
    {
     "data": {
      "text/plain": [
       "38000.0"
      ]
     },
     "execution_count": 18,
     "metadata": {},
     "output_type": "execute_result"
    }
   ],
   "source": [
    "empl['salary'].mode().item()\n",
    "# empl['salary'].mode().iloc[0]"
   ]
  },
  {
   "cell_type": "code",
   "execution_count": 19,
   "id": "ccd4037e",
   "metadata": {
    "scrolled": true
   },
   "outputs": [
    {
     "data": {
      "text/plain": [
       "0    1\n",
       "1    3\n",
       "dtype: int64"
      ]
     },
     "execution_count": 19,
     "metadata": {},
     "output_type": "execute_result"
    }
   ],
   "source": [
    "pd.Series([1, 2, 3, 1, 3]).mode()"
   ]
  },
  {
   "cell_type": "code",
   "execution_count": null,
   "id": "98520723",
   "metadata": {
    "scrolled": true
   },
   "outputs": [],
   "source": []
  },
  {
   "cell_type": "code",
   "execution_count": null,
   "id": "9288915a",
   "metadata": {
    "scrolled": true
   },
   "outputs": [],
   "source": []
  },
  {
   "cell_type": "code",
   "execution_count": null,
   "id": "d618665c",
   "metadata": {
    "scrolled": true
   },
   "outputs": [],
   "source": []
  },
  {
   "cell_type": "code",
   "execution_count": null,
   "id": "24563bed",
   "metadata": {
    "scrolled": true
   },
   "outputs": [],
   "source": []
  },
  {
   "cell_type": "markdown",
   "id": "f38f65b9",
   "metadata": {},
   "source": [
    "## Характеристики разброса"
   ]
  },
  {
   "cell_type": "code",
   "execution_count": 20,
   "id": "e25e18fe",
   "metadata": {
    "scrolled": false
   },
   "outputs": [
    {
     "data": {
      "image/png": "[encoded data removed]",
      "text/plain": [
       "<Figure size 800x500 with 2 Axes>"
      ]
     },
     "metadata": {},
     "output_type": "display_data"
    }
   ],
   "source": [
    "plt.figure(figsize=(8, 5))\n",
    "np.random.seed(10)\n",
    "plt.subplot(2, 1, 1)\n",
    "plt.hist(np.random.normal(0, 1, 10000), bins=50)\n",
    "plt.xlim((-10, 10))\n",
    "plt.subplot(2, 1, 2)\n",
    "plt.hist(np.random.normal(0, 3, 10000), bins=50)\n",
    "plt.xlim((-10, 10))\n",
    "plt.show()"
   ]
  },
  {
   "cell_type": "markdown",
   "id": "a0d6372a",
   "metadata": {},
   "source": [
    "### Дисперсия"
   ]
  },
  {
   "cell_type": "markdown",
   "id": "7dcc2c0a",
   "metadata": {},
   "source": [
    "Дисперсия - это средний квадрат отклонения от среднего"
   ]
  },
  {
   "cell_type": "code",
   "execution_count": 21,
   "id": "a178704e",
   "metadata": {
    "scrolled": true
   },
   "outputs": [
    {
     "data": {
      "text/plain": [
       "505531465.2536816"
      ]
     },
     "execution_count": 21,
     "metadata": {},
     "output_type": "execute_result"
    }
   ],
   "source": [
    "empl['salary'].var()"
   ]
  },
  {
   "cell_type": "markdown",
   "id": "64048fa3",
   "metadata": {},
   "source": [
    "Попробуем посчитать ее руками"
   ]
  },
  {
   "cell_type": "code",
   "execution_count": 22,
   "id": "8d97e12f",
   "metadata": {
    "scrolled": true
   },
   "outputs": [
    {
     "data": {
      "text/plain": [
       "np.float64(505180645.36107)"
      ]
     },
     "execution_count": 22,
     "metadata": {},
     "output_type": "execute_result"
    }
   ],
   "source": [
    "((empl['salary'] - empl['salary'].mean()) ** 2).mean()"
   ]
  },
  {
   "cell_type": "markdown",
   "id": "6592bf37",
   "metadata": {},
   "source": [
    "Как ее считает pandas"
   ]
  },
  {
   "cell_type": "code",
   "execution_count": 23,
   "id": "053c9eb4",
   "metadata": {
    "scrolled": true
   },
   "outputs": [
    {
     "data": {
      "text/plain": [
       "np.float64(505531465.25368184)"
      ]
     },
     "execution_count": 23,
     "metadata": {},
     "output_type": "execute_result"
    }
   ],
   "source": [
    "# Усредняем полученные числа\n",
    "((empl['salary'] - empl['salary'].mean()) ** 2).sum() / (empl['salary'].count() - 1)"
   ]
  },
  {
   "cell_type": "code",
   "execution_count": 24,
   "id": "1e46f7ad",
   "metadata": {
    "scrolled": false
   },
   "outputs": [
    {
     "data": {
      "text/plain": [
       "505531465.2536816"
      ]
     },
     "execution_count": 24,
     "metadata": {},
     "output_type": "execute_result"
    }
   ],
   "source": [
    "# Дисперсии равны\n",
    "empl['salary'].var()"
   ]
  },
  {
   "cell_type": "code",
   "execution_count": null,
   "id": "5c3863d8",
   "metadata": {
    "scrolled": true
   },
   "outputs": [],
   "source": []
  },
  {
   "cell_type": "code",
   "execution_count": null,
   "id": "79c13c9a",
   "metadata": {
    "scrolled": true
   },
   "outputs": [],
   "source": []
  },
  {
   "cell_type": "code",
   "execution_count": null,
   "id": "228f3c32",
   "metadata": {
    "scrolled": true
   },
   "outputs": [],
   "source": []
  },
  {
   "cell_type": "markdown",
   "id": "8cadd080",
   "metadata": {},
   "source": [
    "Можно не вычитать единицу из знаменателя, а просто усреднить"
   ]
  },
  {
   "cell_type": "code",
   "execution_count": 25,
   "id": "6490bea3",
   "metadata": {
    "scrolled": true
   },
   "outputs": [
    {
     "data": {
      "text/plain": [
       "np.float64(505180645.36107)"
      ]
     },
     "execution_count": 25,
     "metadata": {},
     "output_type": "execute_result"
    }
   ],
   "source": [
    "((empl['salary'] - empl['salary'].mean()) ** 2).mean()"
   ]
  },
  {
   "cell_type": "code",
   "execution_count": 26,
   "id": "cd485e81",
   "metadata": {
    "scrolled": true
   },
   "outputs": [
    {
     "data": {
      "text/plain": [
       "np.float64(505180645.36107)"
      ]
     },
     "execution_count": 26,
     "metadata": {},
     "output_type": "execute_result"
    }
   ],
   "source": [
    "empl['salary'].to_numpy().var()"
   ]
  },
  {
   "cell_type": "code",
   "execution_count": 28,
   "id": "e617b9dc",
   "metadata": {
    "scrolled": true
   },
   "outputs": [
    {
     "data": {
      "text/plain": [
       "505180645.36106974"
      ]
     },
     "execution_count": 28,
     "metadata": {},
     "output_type": "execute_result"
    }
   ],
   "source": [
    "empl['salary'].var(ddof=0)"
   ]
  },
  {
   "cell_type": "code",
   "execution_count": null,
   "id": "1e588143",
   "metadata": {
    "scrolled": true
   },
   "outputs": [],
   "source": []
  },
  {
   "cell_type": "code",
   "execution_count": null,
   "id": "57b5b57d",
   "metadata": {
    "scrolled": true
   },
   "outputs": [],
   "source": []
  },
  {
   "cell_type": "code",
   "execution_count": null,
   "id": "0970639d",
   "metadata": {
    "scrolled": true
   },
   "outputs": [],
   "source": []
  },
  {
   "cell_type": "markdown",
   "id": "b0e63a2b",
   "metadata": {},
   "source": [
    "### Стандартное отклонение "
   ]
  },
  {
   "cell_type": "markdown",
   "id": "d8ad8714",
   "metadata": {},
   "source": [
    "Стандартное отклонение (среднеквадратичное отклонение) - это квадратный корень из дисперсии"
   ]
  },
  {
   "cell_type": "code",
   "execution_count": 29,
   "id": "64d697d0",
   "metadata": {
    "scrolled": true
   },
   "outputs": [
    {
     "data": {
      "text/plain": [
       "22484.026891410747"
      ]
     },
     "execution_count": 29,
     "metadata": {},
     "output_type": "execute_result"
    }
   ],
   "source": [
    "empl['salary'].std()"
   ]
  },
  {
   "cell_type": "code",
   "execution_count": 30,
   "id": "8434e07c",
   "metadata": {
    "scrolled": true
   },
   "outputs": [
    {
     "data": {
      "text/plain": [
       "22484.026891410747"
      ]
     },
     "execution_count": 30,
     "metadata": {},
     "output_type": "execute_result"
    }
   ],
   "source": [
    "empl['salary'].var() ** 0.5"
   ]
  },
  {
   "cell_type": "code",
   "execution_count": null,
   "id": "5bef2582",
   "metadata": {
    "scrolled": true
   },
   "outputs": [],
   "source": []
  },
  {
   "cell_type": "code",
   "execution_count": null,
   "id": "f110bf3e",
   "metadata": {
    "scrolled": true
   },
   "outputs": [],
   "source": []
  },
  {
   "cell_type": "code",
   "execution_count": null,
   "id": "55a72cff",
   "metadata": {
    "scrolled": true
   },
   "outputs": [],
   "source": []
  },
  {
   "cell_type": "markdown",
   "id": "5e1395d6",
   "metadata": {},
   "source": [
    "### Минимум максимум"
   ]
  },
  {
   "cell_type": "code",
   "execution_count": null,
   "id": "16f36cb3",
   "metadata": {
    "scrolled": true
   },
   "outputs": [],
   "source": [
    "empl['salary'].min()"
   ]
  },
  {
   "cell_type": "code",
   "execution_count": null,
   "id": "ddfecedc",
   "metadata": {
    "scrolled": true
   },
   "outputs": [],
   "source": [
    "empl['salary'].max()"
   ]
  },
  {
   "cell_type": "code",
   "execution_count": null,
   "id": "5b330035",
   "metadata": {
    "scrolled": true
   },
   "outputs": [],
   "source": []
  },
  {
   "cell_type": "code",
   "execution_count": null,
   "id": "3317071e",
   "metadata": {
    "scrolled": true
   },
   "outputs": [],
   "source": []
  },
  {
   "cell_type": "code",
   "execution_count": null,
   "id": "673da4a6",
   "metadata": {
    "scrolled": true
   },
   "outputs": [],
   "source": []
  },
  {
   "cell_type": "markdown",
   "id": "5ab94607",
   "metadata": {},
   "source": [
    "### Квантили"
   ]
  },
  {
   "cell_type": "code",
   "execution_count": 32,
   "id": "31f5fef4",
   "metadata": {
    "scrolled": true
   },
   "outputs": [
    {
     "name": "stderr",
     "output_type": "stream",
     "text": [
      "C:\\Users\\Panda\\AppData\\Local\\Temp\\ipykernel_10124\\1057379640.py:2: FutureWarning: The behavior of 'isin' with dtype=datetime64[us] and castable values (e.g. strings) is deprecated. In a future version, these will not be considered matching by isin. Explicitly cast to the appropriate dtype before calling isin instead.\n",
      "  salary = empl.query('report_dt == \"2022-12-31\"')['salary']\n"
     ]
    },
    {
     "data": {
      "image/png": "[encoded data removed]",
      "text/plain": [
       "<Figure size 1000x200 with 1 Axes>"
      ]
     },
     "metadata": {},
     "output_type": "display_data"
    }
   ],
   "source": [
    "quantile = 0.9\n",
    "salary = empl.query('report_dt == \"2022-12-31\"')['salary']\n",
    "\n",
    "salary.hist(figsize=(10, 2), bins=27, range=(20000, 155000))\n",
    "\n",
    "plt.axline(xy1=(salary.quantile(quantile), 0), xy2=(salary.quantile(quantile), 100), color='r')\n",
    "\n",
    "plt.annotate(f'{int(quantile * 100)}% людей зарабатывают \\n меньше или столько же',\n",
    "            (salary.quantile(quantile), 20), xytext=(salary.quantile(quantile) + 5000, 100),\n",
    "             arrowprops={'arrowstyle': '->'})\n",
    "\n",
    "plt.title(f'{quantile} квантиль зарплат равен {salary.quantile(quantile)}')\n",
    "plt.grid(False)\n",
    "plt.xlabel('Зарплата')\n",
    "plt.ylabel('Количество наблюдений')\n",
    "plt.show()"
   ]
  },
  {
   "cell_type": "code",
   "execution_count": null,
   "id": "99b5ee0e",
   "metadata": {
    "scrolled": true
   },
   "outputs": [],
   "source": [
    "empl.query('report_dt == \"2022-12-31\"')['salary'].quantile(0.2)"
   ]
  },
  {
   "cell_type": "markdown",
   "id": "badfc65f",
   "metadata": {},
   "source": [
    "Если квантиль в точности не определен, тогда он будет интерполирован"
   ]
  },
  {
   "cell_type": "code",
   "execution_count": 35,
   "id": "ddb4bd53",
   "metadata": {
    "scrolled": true
   },
   "outputs": [
    {
     "data": {
      "text/plain": [
       "np.float64(20528.8)"
      ]
     },
     "execution_count": 35,
     "metadata": {},
     "output_type": "execute_result"
    }
   ],
   "source": [
    "# в массииве только целые числа, но метод вернул дробное число\n",
    "empl['salary'].quantile(0.0001)"
   ]
  },
  {
   "cell_type": "markdown",
   "id": "8b10347e",
   "metadata": {},
   "source": [
    "Это же касается и медианы"
   ]
  },
  {
   "cell_type": "code",
   "execution_count": 33,
   "id": "4e275bb6",
   "metadata": {
    "scrolled": true
   },
   "outputs": [
    {
     "data": {
      "text/plain": [
       "2.5"
      ]
     },
     "execution_count": 33,
     "metadata": {},
     "output_type": "execute_result"
    }
   ],
   "source": [
    "pd.Series([1, 2, 3, 4]).median()"
   ]
  },
  {
   "cell_type": "code",
   "execution_count": 34,
   "id": "72c13432",
   "metadata": {
    "scrolled": true
   },
   "outputs": [
    {
     "data": {
      "text/plain": [
       "np.float64(2.5)"
      ]
     },
     "execution_count": 34,
     "metadata": {},
     "output_type": "execute_result"
    }
   ],
   "source": [
    "pd.Series([1, 2, 3, 4]).quantile(0.5)"
   ]
  },
  {
   "cell_type": "code",
   "execution_count": 36,
   "id": "dcb26068",
   "metadata": {
    "scrolled": true
   },
   "outputs": [
    {
     "data": {
      "text/plain": [
       "np.int64(3)"
      ]
     },
     "execution_count": 36,
     "metadata": {},
     "output_type": "execute_result"
    }
   ],
   "source": [
    "pd.Series([1, 2, 3, 4]).quantile(0.5, interpolation='higher')"
   ]
  },
  {
   "cell_type": "markdown",
   "id": "09a41ee3",
   "metadata": {},
   "source": [
    "### При помощи метода rank можно получить квантиль каждого наблюдения"
   ]
  },
  {
   "cell_type": "code",
   "execution_count": null,
   "id": "b257875a",
   "metadata": {
    "scrolled": true
   },
   "outputs": [],
   "source": [
    "empl['salary'].rank(pct=True).head()"
   ]
  },
  {
   "cell_type": "code",
   "execution_count": null,
   "id": "a65b78a8",
   "metadata": {
    "scrolled": true
   },
   "outputs": [],
   "source": []
  },
  {
   "cell_type": "code",
   "execution_count": null,
   "id": "70dadb06",
   "metadata": {
    "scrolled": true
   },
   "outputs": [],
   "source": []
  },
  {
   "cell_type": "code",
   "execution_count": null,
   "id": "cc46eb13",
   "metadata": {
    "scrolled": true
   },
   "outputs": [],
   "source": []
  },
  {
   "cell_type": "markdown",
   "id": "f0206bd5",
   "metadata": {},
   "source": [
    "#### В numpy функции и методы называются так же как и в пандасе кроме квантилей"
   ]
  },
  {
   "cell_type": "code",
   "execution_count": 37,
   "id": "2c1cabd7",
   "metadata": {
    "scrolled": true
   },
   "outputs": [
    {
     "data": {
      "text/plain": [
       "np.float64(49.5)"
      ]
     },
     "execution_count": 37,
     "metadata": {},
     "output_type": "execute_result"
    }
   ],
   "source": [
    "np.mean(np.arange(100))"
   ]
  },
  {
   "cell_type": "code",
   "execution_count": null,
   "id": "7a931db7",
   "metadata": {
    "scrolled": true
   },
   "outputs": [],
   "source": [
    "np.arange(100).mean()"
   ]
  },
  {
   "cell_type": "markdown",
   "id": "7c2511df",
   "metadata": {},
   "source": [
    "Персентиль в сто раз больше квантиля"
   ]
  },
  {
   "cell_type": "code",
   "execution_count": 38,
   "id": "f641b755",
   "metadata": {
    "scrolled": true
   },
   "outputs": [
    {
     "data": {
      "text/plain": [
       "np.float64(570.0)"
      ]
     },
     "execution_count": 38,
     "metadata": {},
     "output_type": "execute_result"
    }
   ],
   "source": [
    "np.percentile(np.arange(1001), 57)"
   ]
  },
  {
   "cell_type": "code",
   "execution_count": 39,
   "id": "40bfa41d",
   "metadata": {
    "scrolled": true
   },
   "outputs": [
    {
     "data": {
      "text/plain": [
       "np.float64(570.0)"
      ]
     },
     "execution_count": 39,
     "metadata": {},
     "output_type": "execute_result"
    }
   ],
   "source": [
    "pd.Series(np.arange(1001)).quantile(0.57)"
   ]
  },
  {
   "cell_type": "code",
   "execution_count": null,
   "id": "9affd317",
   "metadata": {
    "scrolled": true
   },
   "outputs": [],
   "source": []
  },
  {
   "cell_type": "code",
   "execution_count": null,
   "id": "e6914138",
   "metadata": {
    "scrolled": true
   },
   "outputs": [],
   "source": []
  },
  {
   "cell_type": "code",
   "execution_count": null,
   "id": "f02af8ae",
   "metadata": {
    "scrolled": true
   },
   "outputs": [],
   "source": []
  },
  {
   "cell_type": "markdown",
   "id": "98829943",
   "metadata": {},
   "source": [
    "### Все эти методы есть и у датафреймов"
   ]
  },
  {
   "cell_type": "code",
   "execution_count": 40,
   "id": "be8567e3",
   "metadata": {
    "scrolled": true
   },
   "outputs": [
    {
     "data": {
      "text/html": [
       "<div>\n",
       "<style scoped>\n",
       "    .dataframe tbody tr th:only-of-type {\n",
       "        vertical-align: middle;\n",
       "    }\n",
       "\n",
       "    .dataframe tbody tr th {\n",
       "        vertical-align: top;\n",
       "    }\n",
       "\n",
       "    .dataframe thead th {\n",
       "        text-align: right;\n",
       "    }\n",
       "</style>\n",
       "<table border=\"1\" class=\"dataframe\">\n",
       "  <thead>\n",
       "    <tr style=\"text-align: right;\">\n",
       "      <th></th>\n",
       "      <th>ФИО</th>\n",
       "      <th>Пол</th>\n",
       "      <th>Математика</th>\n",
       "      <th>Русский язык</th>\n",
       "      <th>Литература</th>\n",
       "      <th>Физика</th>\n",
       "      <th>История</th>\n",
       "      <th>Физическая культура</th>\n",
       "    </tr>\n",
       "  </thead>\n",
       "  <tbody>\n",
       "    <tr>\n",
       "      <th>0</th>\n",
       "      <td>Суханова Маргарита Богдановна</td>\n",
       "      <td>женский</td>\n",
       "      <td>3</td>\n",
       "      <td>3</td>\n",
       "      <td>3</td>\n",
       "      <td>3</td>\n",
       "      <td>3</td>\n",
       "      <td>5</td>\n",
       "    </tr>\n",
       "    <tr>\n",
       "      <th>1</th>\n",
       "      <td>Лаврентьев Давид Анатольевич</td>\n",
       "      <td>мужской</td>\n",
       "      <td>3</td>\n",
       "      <td>3</td>\n",
       "      <td>3</td>\n",
       "      <td>5</td>\n",
       "      <td>3</td>\n",
       "      <td>3</td>\n",
       "    </tr>\n",
       "    <tr>\n",
       "      <th>2</th>\n",
       "      <td>Винниченко Дарья Максимовна</td>\n",
       "      <td>женский</td>\n",
       "      <td>4</td>\n",
       "      <td>5</td>\n",
       "      <td>5</td>\n",
       "      <td>3</td>\n",
       "      <td>4</td>\n",
       "      <td>5</td>\n",
       "    </tr>\n",
       "    <tr>\n",
       "      <th>3</th>\n",
       "      <td>Козлова Маргарита Максимовна</td>\n",
       "      <td>женский</td>\n",
       "      <td>5</td>\n",
       "      <td>5</td>\n",
       "      <td>5</td>\n",
       "      <td>5</td>\n",
       "      <td>4</td>\n",
       "      <td>5</td>\n",
       "    </tr>\n",
       "    <tr>\n",
       "      <th>4</th>\n",
       "      <td>Кулешов Евгений Маратович</td>\n",
       "      <td>мужской</td>\n",
       "      <td>3</td>\n",
       "      <td>3</td>\n",
       "      <td>4</td>\n",
       "      <td>3</td>\n",
       "      <td>4</td>\n",
       "      <td>3</td>\n",
       "    </tr>\n",
       "  </tbody>\n",
       "</table>\n",
       "</div>"
      ],
      "text/plain": [
       "                             ФИО      Пол  Математика  Русский язык  \\\n",
       "0  Суханова Маргарита Богдановна  женский           3             3   \n",
       "1   Лаврентьев Давид Анатольевич  мужской           3             3   \n",
       "2    Винниченко Дарья Максимовна  женский           4             5   \n",
       "3   Козлова Маргарита Максимовна  женский           5             5   \n",
       "4      Кулешов Евгений Маратович  мужской           3             3   \n",
       "\n",
       "   Литература  Физика  История  Физическая культура  \n",
       "0           3       3        3                    5  \n",
       "1           3       5        3                    3  \n",
       "2           5       3        4                    5  \n",
       "3           5       5        4                    5  \n",
       "4           4       3        4                    3  "
      ]
     },
     "execution_count": 40,
     "metadata": {},
     "output_type": "execute_result"
    }
   ],
   "source": [
    "path_marks = '../tables/оценки.xlsx' if os.path.exists('../tables/оценки.xlsx') else 'https://drive.google.com/uc?id=17f4DXx53J0WooNkhO13xidseZJ-O2obs'\n",
    "\n",
    "marks = pd.read_excel(path_marks)\n",
    "marks.head()"
   ]
  },
  {
   "cell_type": "code",
   "execution_count": 41,
   "id": "c7d48450",
   "metadata": {
    "scrolled": true
   },
   "outputs": [
    {
     "data": {
      "text/plain": [
       "Математика             4.000000\n",
       "Русский язык           4.052632\n",
       "Литература             3.947368\n",
       "Физика                 3.947368\n",
       "История                3.894737\n",
       "Физическая культура    4.684211\n",
       "dtype: float64"
      ]
     },
     "execution_count": 41,
     "metadata": {},
     "output_type": "execute_result"
    }
   ],
   "source": [
    "# Считаем среднее только по колонкам, в которых лежат числа\n",
    "marks.mean(numeric_only=True)"
   ]
  },
  {
   "cell_type": "code",
   "execution_count": 42,
   "id": "ac1b527c",
   "metadata": {
    "scrolled": true
   },
   "outputs": [
    {
     "data": {
      "text/plain": [
       "Математика    4.000000\n",
       "Литература    3.947368\n",
       "dtype: float64"
      ]
     },
     "execution_count": 42,
     "metadata": {},
     "output_type": "execute_result"
    }
   ],
   "source": [
    "# Если все колонки уже численные, то параметр numeric_only можно не использовать\n",
    "marks[['Математика', 'Литература']].mean()"
   ]
  },
  {
   "cell_type": "markdown",
   "id": "518d6dc8",
   "metadata": {},
   "source": [
    "### Можно указывать ось, по которой считать статистику"
   ]
  },
  {
   "cell_type": "code",
   "execution_count": 43,
   "id": "3143d1f1",
   "metadata": {
    "scrolled": true
   },
   "outputs": [
    {
     "data": {
      "text/html": [
       "<div>\n",
       "<style scoped>\n",
       "    .dataframe tbody tr th:only-of-type {\n",
       "        vertical-align: middle;\n",
       "    }\n",
       "\n",
       "    .dataframe tbody tr th {\n",
       "        vertical-align: top;\n",
       "    }\n",
       "\n",
       "    .dataframe thead th {\n",
       "        text-align: right;\n",
       "    }\n",
       "</style>\n",
       "<table border=\"1\" class=\"dataframe\">\n",
       "  <thead>\n",
       "    <tr style=\"text-align: right;\">\n",
       "      <th></th>\n",
       "      <th></th>\n",
       "      <th>0</th>\n",
       "    </tr>\n",
       "    <tr>\n",
       "      <th>ФИО</th>\n",
       "      <th>Пол</th>\n",
       "      <th></th>\n",
       "    </tr>\n",
       "  </thead>\n",
       "  <tbody>\n",
       "    <tr>\n",
       "      <th>Суханова Маргарита Богдановна</th>\n",
       "      <th>женский</th>\n",
       "      <td>3.333333</td>\n",
       "    </tr>\n",
       "    <tr>\n",
       "      <th>Лаврентьев Давид Анатольевич</th>\n",
       "      <th>мужской</th>\n",
       "      <td>3.333333</td>\n",
       "    </tr>\n",
       "    <tr>\n",
       "      <th>Винниченко Дарья Максимовна</th>\n",
       "      <th>женский</th>\n",
       "      <td>4.333333</td>\n",
       "    </tr>\n",
       "    <tr>\n",
       "      <th>Козлова Маргарита Максимовна</th>\n",
       "      <th>женский</th>\n",
       "      <td>4.833333</td>\n",
       "    </tr>\n",
       "    <tr>\n",
       "      <th>Кулешов Евгений Маратович</th>\n",
       "      <th>мужской</th>\n",
       "      <td>3.333333</td>\n",
       "    </tr>\n",
       "    <tr>\n",
       "      <th>Исаева Елизаваета Петровна</th>\n",
       "      <th>женский</th>\n",
       "      <td>3.666667</td>\n",
       "    </tr>\n",
       "    <tr>\n",
       "      <th>Артамонова Арина Семеновна</th>\n",
       "      <th>женский</th>\n",
       "      <td>4.000000</td>\n",
       "    </tr>\n",
       "    <tr>\n",
       "      <th>Михайлова Ксения Родионовна</th>\n",
       "      <th>женский</th>\n",
       "      <td>4.000000</td>\n",
       "    </tr>\n",
       "    <tr>\n",
       "      <th>Бирюкова Арина Александровна</th>\n",
       "      <th>женский</th>\n",
       "      <td>3.666667</td>\n",
       "    </tr>\n",
       "    <tr>\n",
       "      <th>Сухарев Евгений Валерьевич</th>\n",
       "      <th>мужской</th>\n",
       "      <td>4.333333</td>\n",
       "    </tr>\n",
       "    <tr>\n",
       "      <th>Суслов Артём Глебович</th>\n",
       "      <th>мужской</th>\n",
       "      <td>3.666667</td>\n",
       "    </tr>\n",
       "    <tr>\n",
       "      <th>Бородина Валерия Даниловна</th>\n",
       "      <th>женский</th>\n",
       "      <td>4.166667</td>\n",
       "    </tr>\n",
       "    <tr>\n",
       "      <th>Казанцева Мария Владимировна</th>\n",
       "      <th>женский</th>\n",
       "      <td>4.166667</td>\n",
       "    </tr>\n",
       "    <tr>\n",
       "      <th>Петухов Александр Алексеевич</th>\n",
       "      <th>мужской</th>\n",
       "      <td>4.500000</td>\n",
       "    </tr>\n",
       "    <tr>\n",
       "      <th>Панфилов Марат Евгеньевич</th>\n",
       "      <th>мужской</th>\n",
       "      <td>4.333333</td>\n",
       "    </tr>\n",
       "    <tr>\n",
       "      <th>Минина Маргарита Кирилловна</th>\n",
       "      <th>женский</th>\n",
       "      <td>5.000000</td>\n",
       "    </tr>\n",
       "    <tr>\n",
       "      <th>Фомичева Ольга Даниловна</th>\n",
       "      <th>женский</th>\n",
       "      <td>4.166667</td>\n",
       "    </tr>\n",
       "    <tr>\n",
       "      <th>Мальцева Арина Семеновна</th>\n",
       "      <th>женский</th>\n",
       "      <td>4.166667</td>\n",
       "    </tr>\n",
       "    <tr>\n",
       "      <th>Родина Арина Викторовна</th>\n",
       "      <th>женский</th>\n",
       "      <td>4.666667</td>\n",
       "    </tr>\n",
       "  </tbody>\n",
       "</table>\n",
       "</div>"
      ],
      "text/plain": [
       "                                              0\n",
       "ФИО                           Пол              \n",
       "Суханова Маргарита Богдановна женский  3.333333\n",
       "Лаврентьев Давид Анатольевич  мужской  3.333333\n",
       "Винниченко Дарья Максимовна   женский  4.333333\n",
       "Козлова Маргарита Максимовна  женский  4.833333\n",
       "Кулешов Евгений Маратович     мужской  3.333333\n",
       "Исаева Елизаваета Петровна    женский  3.666667\n",
       "Артамонова Арина Семеновна    женский  4.000000\n",
       "Михайлова Ксения Родионовна   женский  4.000000\n",
       "Бирюкова Арина Александровна  женский  3.666667\n",
       "Сухарев Евгений Валерьевич    мужской  4.333333\n",
       "Суслов Артём Глебович         мужской  3.666667\n",
       "Бородина Валерия Даниловна    женский  4.166667\n",
       "Казанцева Мария Владимировна  женский  4.166667\n",
       "Петухов Александр Алексеевич  мужской  4.500000\n",
       "Панфилов Марат Евгеньевич     мужской  4.333333\n",
       "Минина Маргарита Кирилловна   женский  5.000000\n",
       "Фомичева Ольга Даниловна      женский  4.166667\n",
       "Мальцева Арина Семеновна      женский  4.166667\n",
       "Родина Арина Викторовна       женский  4.666667"
      ]
     },
     "execution_count": 43,
     "metadata": {},
     "output_type": "execute_result"
    }
   ],
   "source": [
    "(marks\n",
    "    .set_index(['ФИО', 'Пол']) # убираем нечисленные колонки\n",
    "    .mean(axis=1)\n",
    "    .to_frame()\n",
    ")"
   ]
  },
  {
   "cell_type": "code",
   "execution_count": null,
   "id": "7ee356fe",
   "metadata": {
    "scrolled": true
   },
   "outputs": [],
   "source": []
  },
  {
   "cell_type": "code",
   "execution_count": null,
   "id": "b0a6ff76",
   "metadata": {
    "scrolled": true
   },
   "outputs": [],
   "source": []
  },
  {
   "cell_type": "markdown",
   "id": "309389ca",
   "metadata": {},
   "source": [
    "### Расчет статистики по всему датафрейму целиком"
   ]
  },
  {
   "cell_type": "code",
   "execution_count": 44,
   "id": "f957ae4a",
   "metadata": {
    "scrolled": true
   },
   "outputs": [
    {
     "data": {
      "text/plain": [
       "np.float64(4.087719298245614)"
      ]
     },
     "execution_count": 44,
     "metadata": {},
     "output_type": "execute_result"
    }
   ],
   "source": [
    "# Работает с версии 2.0.0. и выше\n",
    "(marks\n",
    "    .set_index(['ФИО', 'Пол']) # убираем нечисленные колонки\n",
    "    .mean(axis=None)\n",
    ")"
   ]
  },
  {
   "cell_type": "code",
   "execution_count": 45,
   "id": "9380300e",
   "metadata": {
    "scrolled": true
   },
   "outputs": [
    {
     "data": {
      "text/plain": [
       "np.float64(4.087719298245614)"
      ]
     },
     "execution_count": 45,
     "metadata": {},
     "output_type": "execute_result"
    }
   ],
   "source": [
    "(marks\n",
    "    .set_index(['ФИО', 'Пол'])\n",
    "    .to_numpy()\n",
    "    .mean()\n",
    ")"
   ]
  },
  {
   "cell_type": "code",
   "execution_count": null,
   "id": "d401b0f7",
   "metadata": {
    "scrolled": true
   },
   "outputs": [],
   "source": []
  },
  {
   "cell_type": "code",
   "execution_count": null,
   "id": "f3743d31",
   "metadata": {
    "scrolled": true
   },
   "outputs": [],
   "source": []
  },
  {
   "cell_type": "code",
   "execution_count": null,
   "id": "4b302d03",
   "metadata": {
    "scrolled": true
   },
   "outputs": [],
   "source": []
  },
  {
   "cell_type": "markdown",
   "id": "dafecc02",
   "metadata": {},
   "source": [
    "### Еще визуализация распределений"
   ]
  },
  {
   "cell_type": "code",
   "execution_count": 46,
   "id": "4efc6e1e",
   "metadata": {
    "scrolled": false
   },
   "outputs": [
    {
     "name": "stderr",
     "output_type": "stream",
     "text": [
      "C:\\ProgramData\\anaconda3\\Lib\\site-packages\\seaborn\\categorical.py:632: FutureWarning: SeriesGroupBy.grouper is deprecated and will be removed in a future version of pandas.\n",
      "  positions = grouped.grouper.result_index.to_numpy(dtype=float)\n"
     ]
    },
    {
     "data": {
      "image/png": "[encoded data removed]",
      "text/plain": [
       "<Figure size 640x480 with 1 Axes>"
      ]
     },
     "metadata": {},
     "output_type": "display_data"
    }
   ],
   "source": [
    "sns.boxplot(data=empl, y='salary').set(title='Ящик с усами', ylabel='Зарплата')\n",
    "plt.show()"
   ]
  },
  {
   "cell_type": "code",
   "execution_count": 47,
   "id": "adfd59b2",
   "metadata": {
    "scrolled": false
   },
   "outputs": [
    {
     "name": "stderr",
     "output_type": "stream",
     "text": [
      "C:\\ProgramData\\anaconda3\\Lib\\site-packages\\seaborn\\categorical.py:632: FutureWarning: SeriesGroupBy.grouper is deprecated and will be removed in a future version of pandas.\n",
      "  positions = grouped.grouper.result_index.to_numpy(dtype=float)\n"
     ]
    },
    {
     "data": {
      "image/png": "[encoded data removed]",
      "text/plain": [
       "<Figure size 1000x500 with 1 Axes>"
      ]
     },
     "metadata": {},
     "output_type": "display_data"
    }
   ],
   "source": [
    "# Добавляем деление по оси х\n",
    "plt.figure(figsize=(10, 5))\n",
    "sns.boxplot(data=empl, y='salary', x='report_dt').set(title='Ящик с усами', ylabel='Зарплата')\n",
    "plt.show()"
   ]
  },
  {
   "cell_type": "code",
   "execution_count": 48,
   "id": "2e54b887",
   "metadata": {
    "scrolled": false
   },
   "outputs": [
    {
     "name": "stderr",
     "output_type": "stream",
     "text": [
      "C:\\ProgramData\\anaconda3\\Lib\\site-packages\\seaborn\\categorical.py:632: FutureWarning: SeriesGroupBy.grouper is deprecated and will be removed in a future version of pandas.\n",
      "  positions = grouped.grouper.result_index.to_numpy(dtype=float)\n"
     ]
    },
    {
     "data": {
      "image/png": "[encoded data removed]",
      "text/plain": [
       "<Figure size 1000x500 with 1 Axes>"
      ]
     },
     "metadata": {},
     "output_type": "display_data"
    }
   ],
   "source": [
    "plt.figure(figsize=(10, 5))\n",
    "(sns.boxplot(data=empl, y='salary', x='report_dt')\n",
    "    .set(title='Ящик с усами', ylabel='Зарплата')\n",
    ")\n",
    "# обрезаем выбросы\n",
    "plt.ylim((19000, 60000))\n",
    "plt.show()"
   ]
  },
  {
   "cell_type": "code",
   "execution_count": 49,
   "id": "a536622c",
   "metadata": {
    "scrolled": false
   },
   "outputs": [
    {
     "name": "stderr",
     "output_type": "stream",
     "text": [
      "C:\\ProgramData\\anaconda3\\Lib\\site-packages\\seaborn\\_base.py:948: FutureWarning: When grouping with a length-1 list-like, you will need to pass a length-1 tuple to get_group in a future version of pandas. Pass `(name,)` instead of `name` to silence this warning.\n",
      "  data_subset = grouped_data.get_group(pd_key)\n",
      "C:\\ProgramData\\anaconda3\\Lib\\site-packages\\seaborn\\categorical.py:632: FutureWarning: SeriesGroupBy.grouper is deprecated and will be removed in a future version of pandas.\n",
      "  positions = grouped.grouper.result_index.to_numpy(dtype=float)\n",
      "C:\\ProgramData\\anaconda3\\Lib\\site-packages\\seaborn\\_base.py:948: FutureWarning: When grouping with a length-1 list-like, you will need to pass a length-1 tuple to get_group in a future version of pandas. Pass `(name,)` instead of `name` to silence this warning.\n",
      "  data_subset = grouped_data.get_group(pd_key)\n",
      "C:\\ProgramData\\anaconda3\\Lib\\site-packages\\seaborn\\categorical.py:632: FutureWarning: SeriesGroupBy.grouper is deprecated and will be removed in a future version of pandas.\n",
      "  positions = grouped.grouper.result_index.to_numpy(dtype=float)\n"
     ]
    },
    {
     "data": {
      "image/png": "[encoded data removed]",
      "text/plain": [
       "<Figure size 1000x500 with 1 Axes>"
      ]
     },
     "metadata": {},
     "output_type": "display_data"
    }
   ],
   "source": [
    "# Добавляем hue\n",
    "plt.figure(figsize=(10, 5))\n",
    "(sns.boxplot(data=empl\n",
    "                 .replace({'mgmt_flag': {0: 'Младший персонал', 1: 'Старший персонал'}}),\n",
    "             y='salary', x='report_dt', hue='mgmt_flag')\n",
    " \n",
    "    .set(title='Ящик с усами', ylabel='Зарплата')\n",
    ")\n",
    "plt.legend(loc='upper right')\n",
    "plt.show()"
   ]
  },
  {
   "cell_type": "code",
   "execution_count": 50,
   "id": "b8408452",
   "metadata": {
    "scrolled": false
   },
   "outputs": [
    {
     "data": {
      "image/png": "[encoded data removed]",
      "text/plain": [
       "<Figure size 1000x500 with 1 Axes>"
      ]
     },
     "metadata": {},
     "output_type": "display_data"
    }
   ],
   "source": [
    "plt.figure(figsize=(10, 5))\n",
    "(sns.violinplot(data=empl\n",
    "                 .replace({'mgmt_flag': {0: 'Младший персонал', 1: 'Старший персонал'}}),\n",
    "             y='salary', x='report_dt', hue='mgmt_flag')\n",
    " \n",
    "    .set(title='Скрипичная диаграмма', ylabel='Зарплата')\n",
    ")\n",
    "plt.legend(loc='upper right')\n",
    "plt.show()"
   ]
  },
  {
   "cell_type": "code",
   "execution_count": 51,
   "id": "468483d2",
   "metadata": {
    "scrolled": false
   },
   "outputs": [
    {
     "name": "stderr",
     "output_type": "stream",
     "text": [
      "C:\\ProgramData\\anaconda3\\Lib\\site-packages\\seaborn\\_base.py:948: FutureWarning: When grouping with a length-1 list-like, you will need to pass a length-1 tuple to get_group in a future version of pandas. Pass `(name,)` instead of `name` to silence this warning.\n",
      "  data_subset = grouped_data.get_group(pd_key)\n"
     ]
    },
    {
     "data": {
      "image/png": "[encoded data removed]",
      "text/plain": [
       "<Figure size 1000x500 with 1 Axes>"
      ]
     },
     "metadata": {},
     "output_type": "display_data"
    }
   ],
   "source": [
    "plt.figure(figsize=(10, 5))\n",
    "(sns.stripplot(data=empl\n",
    "                 .replace({'mgmt_flag': {0: 'Младший персонал', 1: 'Старший персонал'}}),\n",
    "             y='salary', x='report_dt', hue='mgmt_flag')\n",
    " \n",
    "    .set(title='Точечная диаграмма', ylabel='Зарплата')\n",
    ")\n",
    "plt.legend(loc='upper right')\n",
    "plt.show()"
   ]
  },
  {
   "cell_type": "code",
   "execution_count": null,
   "id": "94004aeb",
   "metadata": {
    "scrolled": true
   },
   "outputs": [],
   "source": []
  },
  {
   "cell_type": "code",
   "execution_count": null,
   "id": "3009cb3a",
   "metadata": {
    "scrolled": true
   },
   "outputs": [],
   "source": []
  },
  {
   "cell_type": "code",
   "execution_count": null,
   "id": "88daa7fc",
   "metadata": {
    "scrolled": true
   },
   "outputs": [],
   "source": []
  },
  {
   "cell_type": "markdown",
   "id": "fc6ee7c0",
   "metadata": {},
   "source": [
    "### Корреляция"
   ]
  },
  {
   "cell_type": "code",
   "execution_count": 52,
   "id": "6d8d3439",
   "metadata": {
    "scrolled": false
   },
   "outputs": [
    {
     "data": {
      "image/png": "[encoded data removed]",
      "text/plain": [
       "<Figure size 1500x1000 with 8 Axes>"
      ]
     },
     "metadata": {},
     "output_type": "display_data"
    }
   ],
   "source": [
    "plt.figure(figsize=(15, 10))\n",
    "for i, cor in enumerate([0.1, 0.4, 0.7, 0.95, -0.1, -0.4, -0.7, -0.95]):\n",
    "    # Генерируем данные\n",
    "    np.random.seed(i + 1)\n",
    "    x, y = np.random.multivariate_normal([0, 0], [[1, cor], [cor, 1]], 150).T\n",
    "    y = y * np.random.randint(1, 5)\n",
    "    # Говорим на какое место поставить график (2 стобца, 4 колонки, номер позиции)\n",
    "    plt.subplot(2, 4, i + 1)\n",
    "    # рисуем грайик\n",
    "    sns.regplot(x=x, y=y)\n",
    "    # подписываем график\n",
    "    plt.title(f'Коэффициент корреляции: {np.round(np.corrcoef(x, y)[0][1], 2)}')\n",
    "plt.show()"
   ]
  },
  {
   "cell_type": "code",
   "execution_count": 53,
   "id": "500dbff2",
   "metadata": {
    "scrolled": false
   },
   "outputs": [
    {
     "data": {
      "image/png": "[encoded data removed]",
      "text/plain": [
       "<Figure size 640x480 with 1 Axes>"
      ]
     },
     "metadata": {},
     "output_type": "display_data"
    }
   ],
   "source": [
    "np.random.seed(500)\n",
    "t = np.random.rand(50) * 10\n",
    "cos = np.cos(t) + np.random.normal(0, 0.05, 50)\n",
    "sin = np.sin(t) + np.random.normal(0, 0.05, 50)\n",
    "# рисуем график\n",
    "plt.scatter(cos, sin)\n",
    "# подписываем \n",
    "plt.text(y=0, x=0, s=f'corr = {np.corrcoef(cos, sin)[0, 1]:0.3f}', fontsize=16, ha='center', va='center')\n",
    "plt.show()"
   ]
  },
  {
   "cell_type": "code",
   "execution_count": null,
   "id": "03f62b28",
   "metadata": {
    "scrolled": true
   },
   "outputs": [],
   "source": []
  },
  {
   "cell_type": "code",
   "execution_count": null,
   "id": "da7604d7",
   "metadata": {
    "scrolled": true
   },
   "outputs": [],
   "source": []
  },
  {
   "cell_type": "markdown",
   "id": "0959dab0",
   "metadata": {},
   "source": [
    "#### Расчет коэффицииента корреляции"
   ]
  },
  {
   "cell_type": "code",
   "execution_count": 54,
   "id": "621a3209",
   "metadata": {
    "scrolled": true
   },
   "outputs": [
    {
     "data": {
      "text/plain": [
       "np.float64(0.31715648392255463)"
      ]
     },
     "execution_count": 54,
     "metadata": {},
     "output_type": "execute_result"
    }
   ],
   "source": [
    "marks['Математика'].corr(marks['Литература'])"
   ]
  },
  {
   "cell_type": "markdown",
   "id": "d0ab1a46",
   "metadata": {},
   "source": [
    "То же самое можно сделать руками"
   ]
  },
  {
   "cell_type": "code",
   "execution_count": 55,
   "id": "9f613c7c",
   "metadata": {
    "scrolled": true
   },
   "outputs": [
    {
     "data": {
      "text/plain": [
       "np.float64(0.3171564839225547)"
      ]
     },
     "execution_count": 55,
     "metadata": {},
     "output_type": "execute_result"
    }
   ],
   "source": [
    "math_mean = marks['Математика'].mean()\n",
    "math_std = marks['Математика'].std(ddof=0)\n",
    "\n",
    "lit_mean = marks['Литература'].mean()\n",
    "lit_std = marks['Литература'].std(ddof=0)\n",
    "\n",
    "math_normilized = (marks['Математика'] - math_mean) / math_std\n",
    "lit_normilized = (marks['Литература'] - lit_mean) / lit_std\n",
    "\n",
    "\n",
    "(math_normilized * lit_normilized).mean()"
   ]
  },
  {
   "cell_type": "markdown",
   "id": "bceac7de",
   "metadata": {},
   "source": [
    "###  Корреляционная матрица"
   ]
  },
  {
   "cell_type": "code",
   "execution_count": 56,
   "id": "c35593f6",
   "metadata": {
    "scrolled": true
   },
   "outputs": [
    {
     "data": {
      "text/html": [
       "<div>\n",
       "<style scoped>\n",
       "    .dataframe tbody tr th:only-of-type {\n",
       "        vertical-align: middle;\n",
       "    }\n",
       "\n",
       "    .dataframe tbody tr th {\n",
       "        vertical-align: top;\n",
       "    }\n",
       "\n",
       "    .dataframe thead th {\n",
       "        text-align: right;\n",
       "    }\n",
       "</style>\n",
       "<table border=\"1\" class=\"dataframe\">\n",
       "  <thead>\n",
       "    <tr style=\"text-align: right;\">\n",
       "      <th></th>\n",
       "      <th>Математика</th>\n",
       "      <th>Русский язык</th>\n",
       "      <th>Литература</th>\n",
       "      <th>Физика</th>\n",
       "      <th>История</th>\n",
       "      <th>Физическая культура</th>\n",
       "    </tr>\n",
       "  </thead>\n",
       "  <tbody>\n",
       "    <tr>\n",
       "      <th>Математика</th>\n",
       "      <td>1.000000</td>\n",
       "      <td>0.528594</td>\n",
       "      <td>0.317156</td>\n",
       "      <td>0.477876</td>\n",
       "      <td>0.202139</td>\n",
       "      <td>0.444300</td>\n",
       "    </tr>\n",
       "    <tr>\n",
       "      <th>Русский язык</th>\n",
       "      <td>0.528594</td>\n",
       "      <td>1.000000</td>\n",
       "      <td>0.676471</td>\n",
       "      <td>0.207400</td>\n",
       "      <td>0.652345</td>\n",
       "      <td>0.506791</td>\n",
       "    </tr>\n",
       "    <tr>\n",
       "      <th>Литература</th>\n",
       "      <td>0.317156</td>\n",
       "      <td>0.676471</td>\n",
       "      <td>1.000000</td>\n",
       "      <td>0.095723</td>\n",
       "      <td>0.629850</td>\n",
       "      <td>0.197772</td>\n",
       "    </tr>\n",
       "    <tr>\n",
       "      <th>Физика</th>\n",
       "      <td>0.477876</td>\n",
       "      <td>0.207400</td>\n",
       "      <td>0.095723</td>\n",
       "      <td>1.000000</td>\n",
       "      <td>0.183027</td>\n",
       "      <td>-0.033524</td>\n",
       "    </tr>\n",
       "    <tr>\n",
       "      <th>История</th>\n",
       "      <td>0.202139</td>\n",
       "      <td>0.652345</td>\n",
       "      <td>0.629850</td>\n",
       "      <td>0.183027</td>\n",
       "      <td>1.000000</td>\n",
       "      <td>0.265886</td>\n",
       "    </tr>\n",
       "    <tr>\n",
       "      <th>Физическая культура</th>\n",
       "      <td>0.444300</td>\n",
       "      <td>0.506791</td>\n",
       "      <td>0.197772</td>\n",
       "      <td>-0.033524</td>\n",
       "      <td>0.265886</td>\n",
       "      <td>1.000000</td>\n",
       "    </tr>\n",
       "  </tbody>\n",
       "</table>\n",
       "</div>"
      ],
      "text/plain": [
       "                     Математика  Русский язык  Литература    Физика   История  \\\n",
       "Математика             1.000000      0.528594    0.317156  0.477876  0.202139   \n",
       "Русский язык           0.528594      1.000000    0.676471  0.207400  0.652345   \n",
       "Литература             0.317156      0.676471    1.000000  0.095723  0.629850   \n",
       "Физика                 0.477876      0.207400    0.095723  1.000000  0.183027   \n",
       "История                0.202139      0.652345    0.629850  0.183027  1.000000   \n",
       "Физическая культура    0.444300      0.506791    0.197772 -0.033524  0.265886   \n",
       "\n",
       "                     Физическая культура  \n",
       "Математика                      0.444300  \n",
       "Русский язык                    0.506791  \n",
       "Литература                      0.197772  \n",
       "Физика                         -0.033524  \n",
       "История                         0.265886  \n",
       "Физическая культура             1.000000  "
      ]
     },
     "execution_count": 56,
     "metadata": {},
     "output_type": "execute_result"
    }
   ],
   "source": [
    "marks.corr(numeric_only=True)"
   ]
  },
  {
   "cell_type": "code",
   "execution_count": 57,
   "id": "a3e7d5dd",
   "metadata": {
    "scrolled": false
   },
   "outputs": [
    {
     "data": {
      "text/plain": [
       "<Axes: >"
      ]
     },
     "execution_count": 57,
     "metadata": {},
     "output_type": "execute_result"
    },
    {
     "data": {
      "image/png": "[encoded data removed]",
      "text/plain": [
       "<Figure size 640x480 with 2 Axes>"
      ]
     },
     "metadata": {},
     "output_type": "display_data"
    }
   ],
   "source": [
    "sns.heatmap(marks.corr(numeric_only=True))"
   ]
  },
  {
   "cell_type": "code",
   "execution_count": 58,
   "id": "cfeb4f16",
   "metadata": {
    "scrolled": false
   },
   "outputs": [
    {
     "data": {
      "text/plain": [
       "<Axes: >"
      ]
     },
     "execution_count": 58,
     "metadata": {},
     "output_type": "execute_result"
    },
    {
     "data": {
      "image/png": "[encoded data removed]",
      "text/plain": [
       "<Figure size 640x480 with 2 Axes>"
      ]
     },
     "metadata": {},
     "output_type": "display_data"
    }
   ],
   "source": [
    "sns.heatmap(marks.corr(numeric_only=True),\n",
    "            annot=True, # Добавляем численные значения в клетки\n",
    "            # цветовая схема, разделенная на 8 цветов\n",
    "            cmap=sns.color_palette(\"coolwarm\", n_colors=8),\n",
    "            vmin=-1, # минимальное значение в легенде\n",
    "            vmax=1) # максимальное значение в легенде"
   ]
  },
  {
   "cell_type": "markdown",
   "id": "ba49fd0d",
   "metadata": {},
   "source": [
    "Можно разукрасить сам датафрейм"
   ]
  },
  {
   "cell_type": "code",
   "execution_count": 59,
   "id": "76429c2c",
   "metadata": {
    "scrolled": true
   },
   "outputs": [
    {
     "data": {
      "text/html": [
       "<style type=\"text/css\">\n",
       "#T_b8606_row0_col0, #T_b8606_row1_col1, #T_b8606_row2_col2, #T_b8606_row3_col3, #T_b8606_row4_col4, #T_b8606_row5_col5 {\n",
       "  background-color: #b40426;\n",
       "  color: #f1f1f1;\n",
       "}\n",
       "#T_b8606_row0_col1, #T_b8606_row1_col0 {\n",
       "  background-color: #f39475;\n",
       "  color: #000000;\n",
       "}\n",
       "#T_b8606_row0_col2, #T_b8606_row2_col0 {\n",
       "  background-color: #f7ba9f;\n",
       "  color: #000000;\n",
       "}\n",
       "#T_b8606_row0_col3, #T_b8606_row3_col0 {\n",
       "  background-color: #f59d7e;\n",
       "  color: #000000;\n",
       "}\n",
       "#T_b8606_row0_col4, #T_b8606_row2_col5, #T_b8606_row4_col0, #T_b8606_row5_col2 {\n",
       "  background-color: #f2cbb7;\n",
       "  color: #000000;\n",
       "}\n",
       "#T_b8606_row0_col5, #T_b8606_row5_col0 {\n",
       "  background-color: #f6a586;\n",
       "  color: #000000;\n",
       "}\n",
       "#T_b8606_row1_col2, #T_b8606_row2_col1 {\n",
       "  background-color: #e67259;\n",
       "  color: #f1f1f1;\n",
       "}\n",
       "#T_b8606_row1_col3, #T_b8606_row3_col1 {\n",
       "  background-color: #f2cab5;\n",
       "  color: #000000;\n",
       "}\n",
       "#T_b8606_row1_col4, #T_b8606_row4_col1 {\n",
       "  background-color: #e9785d;\n",
       "  color: #f1f1f1;\n",
       "}\n",
       "#T_b8606_row1_col5, #T_b8606_row5_col1 {\n",
       "  background-color: #f4987a;\n",
       "  color: #000000;\n",
       "}\n",
       "#T_b8606_row2_col3, #T_b8606_row3_col2 {\n",
       "  background-color: #e9d5cb;\n",
       "  color: #000000;\n",
       "}\n",
       "#T_b8606_row2_col4, #T_b8606_row4_col2 {\n",
       "  background-color: #eb7d62;\n",
       "  color: #f1f1f1;\n",
       "}\n",
       "#T_b8606_row3_col4, #T_b8606_row4_col3 {\n",
       "  background-color: #f1cdba;\n",
       "  color: #000000;\n",
       "}\n",
       "#T_b8606_row3_col5, #T_b8606_row5_col3 {\n",
       "  background-color: #d8dce2;\n",
       "  color: #000000;\n",
       "}\n",
       "#T_b8606_row4_col5, #T_b8606_row5_col4 {\n",
       "  background-color: #f5c1a9;\n",
       "  color: #000000;\n",
       "}\n",
       "</style>\n",
       "<table id=\"T_b8606\">\n",
       "  <thead>\n",
       "    <tr>\n",
       "      <th class=\"blank level0\" >&nbsp;</th>\n",
       "      <th id=\"T_b8606_level0_col0\" class=\"col_heading level0 col0\" >Математика</th>\n",
       "      <th id=\"T_b8606_level0_col1\" class=\"col_heading level0 col1\" >Русский язык</th>\n",
       "      <th id=\"T_b8606_level0_col2\" class=\"col_heading level0 col2\" >Литература</th>\n",
       "      <th id=\"T_b8606_level0_col3\" class=\"col_heading level0 col3\" >Физика</th>\n",
       "      <th id=\"T_b8606_level0_col4\" class=\"col_heading level0 col4\" >История</th>\n",
       "      <th id=\"T_b8606_level0_col5\" class=\"col_heading level0 col5\" >Физическая культура</th>\n",
       "    </tr>\n",
       "  </thead>\n",
       "  <tbody>\n",
       "    <tr>\n",
       "      <th id=\"T_b8606_level0_row0\" class=\"row_heading level0 row0\" >Математика</th>\n",
       "      <td id=\"T_b8606_row0_col0\" class=\"data row0 col0\" >1.000000</td>\n",
       "      <td id=\"T_b8606_row0_col1\" class=\"data row0 col1\" >0.528594</td>\n",
       "      <td id=\"T_b8606_row0_col2\" class=\"data row0 col2\" >0.317156</td>\n",
       "      <td id=\"T_b8606_row0_col3\" class=\"data row0 col3\" >0.477876</td>\n",
       "      <td id=\"T_b8606_row0_col4\" class=\"data row0 col4\" >0.202139</td>\n",
       "      <td id=\"T_b8606_row0_col5\" class=\"data row0 col5\" >0.444300</td>\n",
       "    </tr>\n",
       "    <tr>\n",
       "      <th id=\"T_b8606_level0_row1\" class=\"row_heading level0 row1\" >Русский язык</th>\n",
       "      <td id=\"T_b8606_row1_col0\" class=\"data row1 col0\" >0.528594</td>\n",
       "      <td id=\"T_b8606_row1_col1\" class=\"data row1 col1\" >1.000000</td>\n",
       "      <td id=\"T_b8606_row1_col2\" class=\"data row1 col2\" >0.676471</td>\n",
       "      <td id=\"T_b8606_row1_col3\" class=\"data row1 col3\" >0.207400</td>\n",
       "      <td id=\"T_b8606_row1_col4\" class=\"data row1 col4\" >0.652345</td>\n",
       "      <td id=\"T_b8606_row1_col5\" class=\"data row1 col5\" >0.506791</td>\n",
       "    </tr>\n",
       "    <tr>\n",
       "      <th id=\"T_b8606_level0_row2\" class=\"row_heading level0 row2\" >Литература</th>\n",
       "      <td id=\"T_b8606_row2_col0\" class=\"data row2 col0\" >0.317156</td>\n",
       "      <td id=\"T_b8606_row2_col1\" class=\"data row2 col1\" >0.676471</td>\n",
       "      <td id=\"T_b8606_row2_col2\" class=\"data row2 col2\" >1.000000</td>\n",
       "      <td id=\"T_b8606_row2_col3\" class=\"data row2 col3\" >0.095723</td>\n",
       "      <td id=\"T_b8606_row2_col4\" class=\"data row2 col4\" >0.629850</td>\n",
       "      <td id=\"T_b8606_row2_col5\" class=\"data row2 col5\" >0.197772</td>\n",
       "    </tr>\n",
       "    <tr>\n",
       "      <th id=\"T_b8606_level0_row3\" class=\"row_heading level0 row3\" >Физика</th>\n",
       "      <td id=\"T_b8606_row3_col0\" class=\"data row3 col0\" >0.477876</td>\n",
       "      <td id=\"T_b8606_row3_col1\" class=\"data row3 col1\" >0.207400</td>\n",
       "      <td id=\"T_b8606_row3_col2\" class=\"data row3 col2\" >0.095723</td>\n",
       "      <td id=\"T_b8606_row3_col3\" class=\"data row3 col3\" >1.000000</td>\n",
       "      <td id=\"T_b8606_row3_col4\" class=\"data row3 col4\" >0.183027</td>\n",
       "      <td id=\"T_b8606_row3_col5\" class=\"data row3 col5\" >-0.033524</td>\n",
       "    </tr>\n",
       "    <tr>\n",
       "      <th id=\"T_b8606_level0_row4\" class=\"row_heading level0 row4\" >История</th>\n",
       "      <td id=\"T_b8606_row4_col0\" class=\"data row4 col0\" >0.202139</td>\n",
       "      <td id=\"T_b8606_row4_col1\" class=\"data row4 col1\" >0.652345</td>\n",
       "      <td id=\"T_b8606_row4_col2\" class=\"data row4 col2\" >0.629850</td>\n",
       "      <td id=\"T_b8606_row4_col3\" class=\"data row4 col3\" >0.183027</td>\n",
       "      <td id=\"T_b8606_row4_col4\" class=\"data row4 col4\" >1.000000</td>\n",
       "      <td id=\"T_b8606_row4_col5\" class=\"data row4 col5\" >0.265886</td>\n",
       "    </tr>\n",
       "    <tr>\n",
       "      <th id=\"T_b8606_level0_row5\" class=\"row_heading level0 row5\" >Физическая культура</th>\n",
       "      <td id=\"T_b8606_row5_col0\" class=\"data row5 col0\" >0.444300</td>\n",
       "      <td id=\"T_b8606_row5_col1\" class=\"data row5 col1\" >0.506791</td>\n",
       "      <td id=\"T_b8606_row5_col2\" class=\"data row5 col2\" >0.197772</td>\n",
       "      <td id=\"T_b8606_row5_col3\" class=\"data row5 col3\" >-0.033524</td>\n",
       "      <td id=\"T_b8606_row5_col4\" class=\"data row5 col4\" >0.265886</td>\n",
       "      <td id=\"T_b8606_row5_col5\" class=\"data row5 col5\" >1.000000</td>\n",
       "    </tr>\n",
       "  </tbody>\n",
       "</table>\n"
      ],
      "text/plain": [
       "<pandas.io.formats.style.Styler at 0x2cf2ca32c10>"
      ]
     },
     "execution_count": 59,
     "metadata": {},
     "output_type": "execute_result"
    }
   ],
   "source": [
    "(marks\n",
    "    .corr(numeric_only=True)\n",
    "    .style\n",
    "    .background_gradient(cmap=sns.color_palette(\"coolwarm\", as_cmap=True),\n",
    "                         axis=None,\n",
    "                         vmin=-1,\n",
    "                         vmax=1)\n",
    ")"
   ]
  },
  {
   "cell_type": "code",
   "execution_count": null,
   "id": "36096490",
   "metadata": {
    "scrolled": true
   },
   "outputs": [],
   "source": []
  },
  {
   "cell_type": "code",
   "execution_count": null,
   "id": "2cb70a71",
   "metadata": {
    "scrolled": true
   },
   "outputs": [],
   "source": []
  },
  {
   "cell_type": "markdown",
   "id": "31ee2b05",
   "metadata": {},
   "source": [
    "## Агрегация нескольких статистик вместе"
   ]
  },
  {
   "cell_type": "markdown",
   "id": "4fee9e3f",
   "metadata": {},
   "source": [
    "### describe"
   ]
  },
  {
   "cell_type": "code",
   "execution_count": 60,
   "id": "a8df9b08",
   "metadata": {
    "scrolled": true
   },
   "outputs": [
    {
     "data": {
      "text/plain": [
       "count      1441.000000\n",
       "mean      37525.676613\n",
       "std       22484.026891\n",
       "min       20500.000000\n",
       "25%       25800.000000\n",
       "50%       30600.000000\n",
       "75%       38700.000000\n",
       "max      154700.000000\n",
       "Name: salary, dtype: float64"
      ]
     },
     "execution_count": 60,
     "metadata": {},
     "output_type": "execute_result"
    }
   ],
   "source": [
    "empl['salary'].describe()"
   ]
  },
  {
   "cell_type": "code",
   "execution_count": 61,
   "id": "8f535fd9",
   "metadata": {
    "scrolled": true
   },
   "outputs": [
    {
     "data": {
      "text/html": [
       "<div>\n",
       "<style scoped>\n",
       "    .dataframe tbody tr th:only-of-type {\n",
       "        vertical-align: middle;\n",
       "    }\n",
       "\n",
       "    .dataframe tbody tr th {\n",
       "        vertical-align: top;\n",
       "    }\n",
       "\n",
       "    .dataframe thead th {\n",
       "        text-align: right;\n",
       "    }\n",
       "</style>\n",
       "<table border=\"1\" class=\"dataframe\">\n",
       "  <thead>\n",
       "    <tr style=\"text-align: right;\">\n",
       "      <th></th>\n",
       "      <th>report_dt</th>\n",
       "      <th>birth_date</th>\n",
       "      <th>mgmt_flag</th>\n",
       "      <th>employee_evaluation</th>\n",
       "      <th>salary</th>\n",
       "    </tr>\n",
       "  </thead>\n",
       "  <tbody>\n",
       "    <tr>\n",
       "      <th>count</th>\n",
       "      <td>1441</td>\n",
       "      <td>1441</td>\n",
       "      <td>1441.000000</td>\n",
       "      <td>1385.000000</td>\n",
       "      <td>1441.000000</td>\n",
       "    </tr>\n",
       "    <tr>\n",
       "      <th>mean</th>\n",
       "      <td>2022-11-30 18:36:13.490631</td>\n",
       "      <td>1980-08-05 05:46:45.551700</td>\n",
       "      <td>0.100625</td>\n",
       "      <td>5.574729</td>\n",
       "      <td>37525.676613</td>\n",
       "    </tr>\n",
       "    <tr>\n",
       "      <th>min</th>\n",
       "      <td>2022-10-31 00:00:00</td>\n",
       "      <td>1962-01-07 00:00:00</td>\n",
       "      <td>0.000000</td>\n",
       "      <td>3.000000</td>\n",
       "      <td>20500.000000</td>\n",
       "    </tr>\n",
       "    <tr>\n",
       "      <th>25%</th>\n",
       "      <td>2022-10-31 00:00:00</td>\n",
       "      <td>1972-06-21 00:00:00</td>\n",
       "      <td>0.000000</td>\n",
       "      <td>5.000000</td>\n",
       "      <td>25800.000000</td>\n",
       "    </tr>\n",
       "    <tr>\n",
       "      <th>50%</th>\n",
       "      <td>2022-11-30 00:00:00</td>\n",
       "      <td>1981-11-07 00:00:00</td>\n",
       "      <td>0.000000</td>\n",
       "      <td>6.000000</td>\n",
       "      <td>30600.000000</td>\n",
       "    </tr>\n",
       "    <tr>\n",
       "      <th>75%</th>\n",
       "      <td>2022-12-31 00:00:00</td>\n",
       "      <td>1988-07-04 00:00:00</td>\n",
       "      <td>0.000000</td>\n",
       "      <td>6.000000</td>\n",
       "      <td>38700.000000</td>\n",
       "    </tr>\n",
       "    <tr>\n",
       "      <th>max</th>\n",
       "      <td>2022-12-31 00:00:00</td>\n",
       "      <td>2002-09-25 00:00:00</td>\n",
       "      <td>1.000000</td>\n",
       "      <td>10.000000</td>\n",
       "      <td>154700.000000</td>\n",
       "    </tr>\n",
       "    <tr>\n",
       "      <th>std</th>\n",
       "      <td>NaN</td>\n",
       "      <td>NaN</td>\n",
       "      <td>0.300935</td>\n",
       "      <td>1.169369</td>\n",
       "      <td>22484.026891</td>\n",
       "    </tr>\n",
       "  </tbody>\n",
       "</table>\n",
       "</div>"
      ],
      "text/plain": [
       "                        report_dt                  birth_date    mgmt_flag  \\\n",
       "count                        1441                        1441  1441.000000   \n",
       "mean   2022-11-30 18:36:13.490631  1980-08-05 05:46:45.551700     0.100625   \n",
       "min           2022-10-31 00:00:00         1962-01-07 00:00:00     0.000000   \n",
       "25%           2022-10-31 00:00:00         1972-06-21 00:00:00     0.000000   \n",
       "50%           2022-11-30 00:00:00         1981-11-07 00:00:00     0.000000   \n",
       "75%           2022-12-31 00:00:00         1988-07-04 00:00:00     0.000000   \n",
       "max           2022-12-31 00:00:00         2002-09-25 00:00:00     1.000000   \n",
       "std                           NaN                         NaN     0.300935   \n",
       "\n",
       "       employee_evaluation         salary  \n",
       "count          1385.000000    1441.000000  \n",
       "mean              5.574729   37525.676613  \n",
       "min               3.000000   20500.000000  \n",
       "25%               5.000000   25800.000000  \n",
       "50%               6.000000   30600.000000  \n",
       "75%               6.000000   38700.000000  \n",
       "max              10.000000  154700.000000  \n",
       "std               1.169369   22484.026891  "
      ]
     },
     "execution_count": 61,
     "metadata": {},
     "output_type": "execute_result"
    }
   ],
   "source": [
    "empl.describe()"
   ]
  },
  {
   "cell_type": "markdown",
   "id": "4f436ae6",
   "metadata": {},
   "source": [
    "Можно добавить дополнительные квантили"
   ]
  },
  {
   "cell_type": "code",
   "execution_count": 62,
   "id": "2eb5cefb",
   "metadata": {
    "scrolled": true
   },
   "outputs": [
    {
     "data": {
      "text/html": [
       "<div>\n",
       "<style scoped>\n",
       "    .dataframe tbody tr th:only-of-type {\n",
       "        vertical-align: middle;\n",
       "    }\n",
       "\n",
       "    .dataframe tbody tr th {\n",
       "        vertical-align: top;\n",
       "    }\n",
       "\n",
       "    .dataframe thead th {\n",
       "        text-align: right;\n",
       "    }\n",
       "</style>\n",
       "<table border=\"1\" class=\"dataframe\">\n",
       "  <thead>\n",
       "    <tr style=\"text-align: right;\">\n",
       "      <th></th>\n",
       "      <th>report_dt</th>\n",
       "      <th>birth_date</th>\n",
       "      <th>mgmt_flag</th>\n",
       "      <th>employee_evaluation</th>\n",
       "      <th>salary</th>\n",
       "    </tr>\n",
       "  </thead>\n",
       "  <tbody>\n",
       "    <tr>\n",
       "      <th>count</th>\n",
       "      <td>1441</td>\n",
       "      <td>1441</td>\n",
       "      <td>1441.000000</td>\n",
       "      <td>1385.000000</td>\n",
       "      <td>1441.000000</td>\n",
       "    </tr>\n",
       "    <tr>\n",
       "      <th>mean</th>\n",
       "      <td>2022-11-30 18:36:13.490631</td>\n",
       "      <td>1980-08-05 05:46:45.551700</td>\n",
       "      <td>0.100625</td>\n",
       "      <td>5.574729</td>\n",
       "      <td>37525.676613</td>\n",
       "    </tr>\n",
       "    <tr>\n",
       "      <th>min</th>\n",
       "      <td>2022-10-31 00:00:00</td>\n",
       "      <td>1962-01-07 00:00:00</td>\n",
       "      <td>0.000000</td>\n",
       "      <td>3.000000</td>\n",
       "      <td>20500.000000</td>\n",
       "    </tr>\n",
       "    <tr>\n",
       "      <th>10%</th>\n",
       "      <td>2022-10-31 00:00:00</td>\n",
       "      <td>1965-08-07 00:00:00</td>\n",
       "      <td>0.000000</td>\n",
       "      <td>4.000000</td>\n",
       "      <td>21300.000000</td>\n",
       "    </tr>\n",
       "    <tr>\n",
       "      <th>25%</th>\n",
       "      <td>2022-10-31 00:00:00</td>\n",
       "      <td>1972-06-21 00:00:00</td>\n",
       "      <td>0.000000</td>\n",
       "      <td>5.000000</td>\n",
       "      <td>25800.000000</td>\n",
       "    </tr>\n",
       "    <tr>\n",
       "      <th>50%</th>\n",
       "      <td>2022-11-30 00:00:00</td>\n",
       "      <td>1981-11-07 00:00:00</td>\n",
       "      <td>0.000000</td>\n",
       "      <td>6.000000</td>\n",
       "      <td>30600.000000</td>\n",
       "    </tr>\n",
       "    <tr>\n",
       "      <th>75%</th>\n",
       "      <td>2022-12-31 00:00:00</td>\n",
       "      <td>1988-07-04 00:00:00</td>\n",
       "      <td>0.000000</td>\n",
       "      <td>6.000000</td>\n",
       "      <td>38700.000000</td>\n",
       "    </tr>\n",
       "    <tr>\n",
       "      <th>90%</th>\n",
       "      <td>2022-12-31 00:00:00</td>\n",
       "      <td>1991-09-20 00:00:00</td>\n",
       "      <td>1.000000</td>\n",
       "      <td>7.000000</td>\n",
       "      <td>58400.000000</td>\n",
       "    </tr>\n",
       "    <tr>\n",
       "      <th>max</th>\n",
       "      <td>2022-12-31 00:00:00</td>\n",
       "      <td>2002-09-25 00:00:00</td>\n",
       "      <td>1.000000</td>\n",
       "      <td>10.000000</td>\n",
       "      <td>154700.000000</td>\n",
       "    </tr>\n",
       "    <tr>\n",
       "      <th>std</th>\n",
       "      <td>NaN</td>\n",
       "      <td>NaN</td>\n",
       "      <td>0.300935</td>\n",
       "      <td>1.169369</td>\n",
       "      <td>22484.026891</td>\n",
       "    </tr>\n",
       "  </tbody>\n",
       "</table>\n",
       "</div>"
      ],
      "text/plain": [
       "                        report_dt                  birth_date    mgmt_flag  \\\n",
       "count                        1441                        1441  1441.000000   \n",
       "mean   2022-11-30 18:36:13.490631  1980-08-05 05:46:45.551700     0.100625   \n",
       "min           2022-10-31 00:00:00         1962-01-07 00:00:00     0.000000   \n",
       "10%           2022-10-31 00:00:00         1965-08-07 00:00:00     0.000000   \n",
       "25%           2022-10-31 00:00:00         1972-06-21 00:00:00     0.000000   \n",
       "50%           2022-11-30 00:00:00         1981-11-07 00:00:00     0.000000   \n",
       "75%           2022-12-31 00:00:00         1988-07-04 00:00:00     0.000000   \n",
       "90%           2022-12-31 00:00:00         1991-09-20 00:00:00     1.000000   \n",
       "max           2022-12-31 00:00:00         2002-09-25 00:00:00     1.000000   \n",
       "std                           NaN                         NaN     0.300935   \n",
       "\n",
       "       employee_evaluation         salary  \n",
       "count          1385.000000    1441.000000  \n",
       "mean              5.574729   37525.676613  \n",
       "min               3.000000   20500.000000  \n",
       "10%               4.000000   21300.000000  \n",
       "25%               5.000000   25800.000000  \n",
       "50%               6.000000   30600.000000  \n",
       "75%               6.000000   38700.000000  \n",
       "90%               7.000000   58400.000000  \n",
       "max              10.000000  154700.000000  \n",
       "std               1.169369   22484.026891  "
      ]
     },
     "execution_count": 62,
     "metadata": {},
     "output_type": "execute_result"
    }
   ],
   "source": [
    "empl.describe([0.1, 0.25, 0.75, 0.9])"
   ]
  },
  {
   "cell_type": "code",
   "execution_count": null,
   "id": "ca3f4d2e",
   "metadata": {
    "scrolled": true
   },
   "outputs": [],
   "source": []
  },
  {
   "cell_type": "code",
   "execution_count": null,
   "id": "7a869bc7",
   "metadata": {
    "scrolled": true
   },
   "outputs": [],
   "source": []
  },
  {
   "cell_type": "code",
   "execution_count": null,
   "id": "86feed1f",
   "metadata": {
    "scrolled": true
   },
   "outputs": [],
   "source": []
  },
  {
   "cell_type": "markdown",
   "id": "fba7bdee",
   "metadata": {},
   "source": [
    "### agg\n",
    "\n",
    "Позволяет собирать несколько статистик вместе"
   ]
  },
  {
   "cell_type": "code",
   "execution_count": 63,
   "id": "cd341081",
   "metadata": {
    "scrolled": true
   },
   "outputs": [
    {
     "data": {
      "text/plain": [
       "mean     37525.676613\n",
       "max     154700.000000\n",
       "std      22484.026891\n",
       "Name: salary, dtype: float64"
      ]
     },
     "execution_count": 63,
     "metadata": {},
     "output_type": "execute_result"
    }
   ],
   "source": [
    "# список из названий методов\n",
    "empl['salary'].agg(['mean', 'max', 'std'])"
   ]
  },
  {
   "cell_type": "code",
   "execution_count": 64,
   "id": "8bba2a7b",
   "metadata": {
    "scrolled": true
   },
   "outputs": [
    {
     "name": "stderr",
     "output_type": "stream",
     "text": [
      "C:\\Users\\Panda\\AppData\\Local\\Temp\\ipykernel_10124\\3300989841.py:2: FutureWarning: The provided callable <function mean at 0x000002CF1A14F6A0> is currently using Series.mean. In a future version of pandas, the provided callable will be used directly. To keep current behavior pass the string \"mean\" instead.\n",
      "  empl['salary'].agg([np.mean, np.max, 'std'])\n",
      "C:\\Users\\Panda\\AppData\\Local\\Temp\\ipykernel_10124\\3300989841.py:2: FutureWarning: The provided callable <function max at 0x000002CF1A14ECA0> is currently using Series.max. In a future version of pandas, the provided callable will be used directly. To keep current behavior pass the string \"max\" instead.\n",
      "  empl['salary'].agg([np.mean, np.max, 'std'])\n"
     ]
    },
    {
     "data": {
      "text/plain": [
       "mean     37525.676613\n",
       "max     154700.000000\n",
       "std      22484.026891\n",
       "Name: salary, dtype: float64"
      ]
     },
     "execution_count": 64,
     "metadata": {},
     "output_type": "execute_result"
    }
   ],
   "source": [
    "# их можно комбинировать с функциями из numpy\n",
    "empl['salary'].agg([np.mean, np.max, 'std'])"
   ]
  },
  {
   "cell_type": "code",
   "execution_count": 67,
   "id": "3c2b073d",
   "metadata": {
    "scrolled": true
   },
   "outputs": [
    {
     "data": {
      "text/plain": [
       "Среднее арифметическое    37525.676613\n",
       "Среднее геометрическое    33655.975017\n",
       "Среднее гармоническое     31303.995178\n",
       "Name: salary, dtype: float64"
      ]
     },
     "execution_count": 67,
     "metadata": {},
     "output_type": "execute_result"
    }
   ],
   "source": [
    "# Можно использовать свои функции\n",
    "(empl['salary']\n",
    "    .agg(\n",
    "        ['mean',\n",
    "         lambda s: (s ** (1 / s.count())).prod(),\n",
    "         lambda s: 1 / ((1 / s).mean())\n",
    "        ])\n",
    "    .set_axis(['Среднее арифметическое', 'Среднее геометрическое', 'Среднее гармоническое'])\n",
    ")"
   ]
  },
  {
   "cell_type": "markdown",
   "id": "4da6fa44",
   "metadata": {},
   "source": [
    "#### Можно передать словарь. Сначала как метод будет называться, а затем функция"
   ]
  },
  {
   "cell_type": "code",
   "execution_count": 68,
   "id": "e033b520",
   "metadata": {
    "scrolled": true
   },
   "outputs": [
    {
     "data": {
      "text/plain": [
       "Среднее арифметическое    37525.676613\n",
       "Среднее геометрическое    33655.975017\n",
       "Среднее гармоническое     31303.995178\n",
       "Name: salary, dtype: float64"
      ]
     },
     "execution_count": 68,
     "metadata": {},
     "output_type": "execute_result"
    }
   ],
   "source": [
    "(empl['salary']\n",
    "    .agg({'Среднее арифметическое': 'mean',\n",
    "          'Среднее геометрическое': lambda s: (s ** (1 / s.count())).prod(),\n",
    "          'Среднее гармоническое': lambda s: 1 / ((1 / s).mean())\n",
    "         })\n",
    ")"
   ]
  },
  {
   "cell_type": "code",
   "execution_count": null,
   "id": "75ec3c20",
   "metadata": {
    "scrolled": true
   },
   "outputs": [],
   "source": []
  },
  {
   "cell_type": "code",
   "execution_count": null,
   "id": "169f5104",
   "metadata": {
    "scrolled": true
   },
   "outputs": [],
   "source": []
  },
  {
   "cell_type": "markdown",
   "id": "f885dc21",
   "metadata": {},
   "source": [
    "### То же самое можно делать с датафреймами"
   ]
  },
  {
   "cell_type": "code",
   "execution_count": 69,
   "id": "61c8fde8",
   "metadata": {
    "scrolled": true
   },
   "outputs": [
    {
     "data": {
      "text/html": [
       "<div>\n",
       "<style scoped>\n",
       "    .dataframe tbody tr th:only-of-type {\n",
       "        vertical-align: middle;\n",
       "    }\n",
       "\n",
       "    .dataframe tbody tr th {\n",
       "        vertical-align: top;\n",
       "    }\n",
       "\n",
       "    .dataframe thead th {\n",
       "        text-align: right;\n",
       "    }\n",
       "</style>\n",
       "<table border=\"1\" class=\"dataframe\">\n",
       "  <thead>\n",
       "    <tr style=\"text-align: right;\">\n",
       "      <th></th>\n",
       "      <th>ФИО</th>\n",
       "      <th>Пол</th>\n",
       "      <th>Математика</th>\n",
       "      <th>Русский язык</th>\n",
       "      <th>Литература</th>\n",
       "      <th>Физика</th>\n",
       "      <th>История</th>\n",
       "      <th>Физическая культура</th>\n",
       "    </tr>\n",
       "  </thead>\n",
       "  <tbody>\n",
       "    <tr>\n",
       "      <th>0</th>\n",
       "      <td>Суханова Маргарита Богдановна</td>\n",
       "      <td>женский</td>\n",
       "      <td>3</td>\n",
       "      <td>3</td>\n",
       "      <td>3</td>\n",
       "      <td>3</td>\n",
       "      <td>3</td>\n",
       "      <td>5</td>\n",
       "    </tr>\n",
       "    <tr>\n",
       "      <th>1</th>\n",
       "      <td>Лаврентьев Давид Анатольевич</td>\n",
       "      <td>мужской</td>\n",
       "      <td>3</td>\n",
       "      <td>3</td>\n",
       "      <td>3</td>\n",
       "      <td>5</td>\n",
       "      <td>3</td>\n",
       "      <td>3</td>\n",
       "    </tr>\n",
       "    <tr>\n",
       "      <th>2</th>\n",
       "      <td>Винниченко Дарья Максимовна</td>\n",
       "      <td>женский</td>\n",
       "      <td>4</td>\n",
       "      <td>5</td>\n",
       "      <td>5</td>\n",
       "      <td>3</td>\n",
       "      <td>4</td>\n",
       "      <td>5</td>\n",
       "    </tr>\n",
       "    <tr>\n",
       "      <th>3</th>\n",
       "      <td>Козлова Маргарита Максимовна</td>\n",
       "      <td>женский</td>\n",
       "      <td>5</td>\n",
       "      <td>5</td>\n",
       "      <td>5</td>\n",
       "      <td>5</td>\n",
       "      <td>4</td>\n",
       "      <td>5</td>\n",
       "    </tr>\n",
       "    <tr>\n",
       "      <th>4</th>\n",
       "      <td>Кулешов Евгений Маратович</td>\n",
       "      <td>мужской</td>\n",
       "      <td>3</td>\n",
       "      <td>3</td>\n",
       "      <td>4</td>\n",
       "      <td>3</td>\n",
       "      <td>4</td>\n",
       "      <td>3</td>\n",
       "    </tr>\n",
       "  </tbody>\n",
       "</table>\n",
       "</div>"
      ],
      "text/plain": [
       "                             ФИО      Пол  Математика  Русский язык  \\\n",
       "0  Суханова Маргарита Богдановна  женский           3             3   \n",
       "1   Лаврентьев Давид Анатольевич  мужской           3             3   \n",
       "2    Винниченко Дарья Максимовна  женский           4             5   \n",
       "3   Козлова Маргарита Максимовна  женский           5             5   \n",
       "4      Кулешов Евгений Маратович  мужской           3             3   \n",
       "\n",
       "   Литература  Физика  История  Физическая культура  \n",
       "0           3       3        3                    5  \n",
       "1           3       5        3                    3  \n",
       "2           5       3        4                    5  \n",
       "3           5       5        4                    5  \n",
       "4           4       3        4                    3  "
      ]
     },
     "execution_count": 69,
     "metadata": {},
     "output_type": "execute_result"
    }
   ],
   "source": [
    "marks.head()"
   ]
  },
  {
   "cell_type": "code",
   "execution_count": 70,
   "id": "58ba13bd",
   "metadata": {
    "scrolled": true
   },
   "outputs": [
    {
     "data": {
      "text/html": [
       "<div>\n",
       "<style scoped>\n",
       "    .dataframe tbody tr th:only-of-type {\n",
       "        vertical-align: middle;\n",
       "    }\n",
       "\n",
       "    .dataframe tbody tr th {\n",
       "        vertical-align: top;\n",
       "    }\n",
       "\n",
       "    .dataframe thead th {\n",
       "        text-align: right;\n",
       "    }\n",
       "</style>\n",
       "<table border=\"1\" class=\"dataframe\">\n",
       "  <thead>\n",
       "    <tr style=\"text-align: right;\">\n",
       "      <th></th>\n",
       "      <th>Математика</th>\n",
       "      <th>Русский язык</th>\n",
       "      <th>Литература</th>\n",
       "      <th>Физика</th>\n",
       "      <th>История</th>\n",
       "      <th>Физическая культура</th>\n",
       "    </tr>\n",
       "  </thead>\n",
       "  <tbody>\n",
       "    <tr>\n",
       "      <th>mean</th>\n",
       "      <td>4.0</td>\n",
       "      <td>4.052632</td>\n",
       "      <td>3.947368</td>\n",
       "      <td>3.947368</td>\n",
       "      <td>3.894737</td>\n",
       "      <td>4.684211</td>\n",
       "    </tr>\n",
       "    <tr>\n",
       "      <th>max</th>\n",
       "      <td>5.0</td>\n",
       "      <td>5.000000</td>\n",
       "      <td>5.000000</td>\n",
       "      <td>5.000000</td>\n",
       "      <td>5.000000</td>\n",
       "      <td>5.000000</td>\n",
       "    </tr>\n",
       "    <tr>\n",
       "      <th>min</th>\n",
       "      <td>3.0</td>\n",
       "      <td>3.000000</td>\n",
       "      <td>3.000000</td>\n",
       "      <td>3.000000</td>\n",
       "      <td>3.000000</td>\n",
       "      <td>3.000000</td>\n",
       "    </tr>\n",
       "  </tbody>\n",
       "</table>\n",
       "</div>"
      ],
      "text/plain": [
       "      Математика  Русский язык  Литература    Физика   История  \\\n",
       "mean         4.0      4.052632    3.947368  3.947368  3.894737   \n",
       "max          5.0      5.000000    5.000000  5.000000  5.000000   \n",
       "min          3.0      3.000000    3.000000  3.000000  3.000000   \n",
       "\n",
       "      Физическая культура  \n",
       "mean             4.684211  \n",
       "max              5.000000  \n",
       "min              3.000000  "
      ]
     },
     "execution_count": 70,
     "metadata": {},
     "output_type": "execute_result"
    }
   ],
   "source": [
    "# передаем список из функци\n",
    "(marks\n",
    "    .drop(['ФИО', 'Пол'], axis=1)\n",
    "    .agg(['mean', 'max', 'min'])\n",
    ")"
   ]
  },
  {
   "cell_type": "code",
   "execution_count": 71,
   "id": "78c4cb2d",
   "metadata": {
    "scrolled": true
   },
   "outputs": [
    {
     "data": {
      "text/html": [
       "<div>\n",
       "<style scoped>\n",
       "    .dataframe tbody tr th:only-of-type {\n",
       "        vertical-align: middle;\n",
       "    }\n",
       "\n",
       "    .dataframe tbody tr th {\n",
       "        vertical-align: top;\n",
       "    }\n",
       "\n",
       "    .dataframe thead th {\n",
       "        text-align: right;\n",
       "    }\n",
       "</style>\n",
       "<table border=\"1\" class=\"dataframe\">\n",
       "  <thead>\n",
       "    <tr style=\"text-align: right;\">\n",
       "      <th></th>\n",
       "      <th>Математика</th>\n",
       "      <th>Русский язык</th>\n",
       "      <th>Литература</th>\n",
       "    </tr>\n",
       "  </thead>\n",
       "  <tbody>\n",
       "    <tr>\n",
       "      <th>mean</th>\n",
       "      <td>4.0</td>\n",
       "      <td>NaN</td>\n",
       "      <td>3.947368</td>\n",
       "    </tr>\n",
       "    <tr>\n",
       "      <th>max</th>\n",
       "      <td>5.0</td>\n",
       "      <td>NaN</td>\n",
       "      <td>NaN</td>\n",
       "    </tr>\n",
       "    <tr>\n",
       "      <th>std</th>\n",
       "      <td>NaN</td>\n",
       "      <td>0.705036</td>\n",
       "      <td>NaN</td>\n",
       "    </tr>\n",
       "    <tr>\n",
       "      <th>median</th>\n",
       "      <td>NaN</td>\n",
       "      <td>NaN</td>\n",
       "      <td>4.000000</td>\n",
       "    </tr>\n",
       "  </tbody>\n",
       "</table>\n",
       "</div>"
      ],
      "text/plain": [
       "        Математика  Русский язык  Литература\n",
       "mean           4.0           NaN    3.947368\n",
       "max            5.0           NaN         NaN\n",
       "std            NaN      0.705036         NaN\n",
       "median         NaN           NaN    4.000000"
      ]
     },
     "execution_count": 71,
     "metadata": {},
     "output_type": "execute_result"
    }
   ],
   "source": [
    "# можно передать словарь со списком функций агрегации\n",
    "(marks\n",
    "    .drop(['ФИО', 'Пол'], axis=1)\n",
    "    .agg({'Математика': ['mean', 'max'],\n",
    "         'Русский язык': 'std',\n",
    "         'Литература': ['mean', 'median']})\n",
    ")"
   ]
  },
  {
   "cell_type": "code",
   "execution_count": 72,
   "id": "b870edfa",
   "metadata": {
    "scrolled": true
   },
   "outputs": [
    {
     "data": {
      "text/html": [
       "<div>\n",
       "<style scoped>\n",
       "    .dataframe tbody tr th:only-of-type {\n",
       "        vertical-align: middle;\n",
       "    }\n",
       "\n",
       "    .dataframe tbody tr th {\n",
       "        vertical-align: top;\n",
       "    }\n",
       "\n",
       "    .dataframe thead th {\n",
       "        text-align: right;\n",
       "    }\n",
       "</style>\n",
       "<table border=\"1\" class=\"dataframe\">\n",
       "  <thead>\n",
       "    <tr style=\"text-align: right;\">\n",
       "      <th></th>\n",
       "      <th>Математика</th>\n",
       "      <th>История</th>\n",
       "    </tr>\n",
       "  </thead>\n",
       "  <tbody>\n",
       "    <tr>\n",
       "      <th>avarage</th>\n",
       "      <td>4.0</td>\n",
       "      <td>NaN</td>\n",
       "    </tr>\n",
       "    <tr>\n",
       "      <th>summa</th>\n",
       "      <td>76.0</td>\n",
       "      <td>NaN</td>\n",
       "    </tr>\n",
       "    <tr>\n",
       "      <th>sqrt_err</th>\n",
       "      <td>NaN</td>\n",
       "      <td>0.737468</td>\n",
       "    </tr>\n",
       "  </tbody>\n",
       "</table>\n",
       "</div>"
      ],
      "text/plain": [
       "          Математика   История\n",
       "avarage          4.0       NaN\n",
       "summa           76.0       NaN\n",
       "sqrt_err         NaN  0.737468"
      ]
     },
     "execution_count": 72,
     "metadata": {},
     "output_type": "execute_result"
    }
   ],
   "source": [
    "(marks\n",
    "    .drop(['ФИО', 'Пол'], axis=1)\n",
    "    .agg(avarage = ('Математика', 'mean'),\n",
    "         summa = ('Математика', 'sum'),\n",
    "         sqrt_err = ('История', 'std')\n",
    "#          summa = ('История', 'sum'), # это работать не будет \n",
    "        )\n",
    ")"
   ]
  },
  {
   "cell_type": "code",
   "execution_count": null,
   "id": "bc3e7b34",
   "metadata": {
    "scrolled": true
   },
   "outputs": [],
   "source": []
  },
  {
   "cell_type": "code",
   "execution_count": null,
   "id": "e46c53af",
   "metadata": {
    "scrolled": true
   },
   "outputs": [],
   "source": []
  },
  {
   "cell_type": "code",
   "execution_count": null,
   "id": "2b5d58f2",
   "metadata": {
    "scrolled": true
   },
   "outputs": [],
   "source": []
  },
  {
   "cell_type": "markdown",
   "id": "4c26e37f",
   "metadata": {},
   "source": [
    "## На вход функии в метод agg приходит объект Series"
   ]
  },
  {
   "cell_type": "code",
   "execution_count": 73,
   "id": "7d9c9606",
   "metadata": {
    "scrolled": true
   },
   "outputs": [
    {
     "data": {
      "text/html": [
       "<div>\n",
       "<style scoped>\n",
       "    .dataframe tbody tr th:only-of-type {\n",
       "        vertical-align: middle;\n",
       "    }\n",
       "\n",
       "    .dataframe tbody tr th {\n",
       "        vertical-align: top;\n",
       "    }\n",
       "\n",
       "    .dataframe thead th {\n",
       "        text-align: right;\n",
       "    }\n",
       "</style>\n",
       "<table border=\"1\" class=\"dataframe\">\n",
       "  <thead>\n",
       "    <tr style=\"text-align: right;\">\n",
       "      <th></th>\n",
       "      <th>Математика</th>\n",
       "      <th>Русский язык</th>\n",
       "      <th>Литература</th>\n",
       "      <th>Физика</th>\n",
       "      <th>История</th>\n",
       "      <th>Физическая культура</th>\n",
       "    </tr>\n",
       "  </thead>\n",
       "  <tbody>\n",
       "    <tr>\n",
       "      <th>Среднее</th>\n",
       "      <td>4.000000</td>\n",
       "      <td>4.052632</td>\n",
       "      <td>3.947368</td>\n",
       "      <td>3.947368</td>\n",
       "      <td>3.894737</td>\n",
       "      <td>4.684211</td>\n",
       "    </tr>\n",
       "    <tr>\n",
       "      <th>Среднее среди тех, у кого 4 или 5</th>\n",
       "      <td>4.357143</td>\n",
       "      <td>4.333333</td>\n",
       "      <td>4.285714</td>\n",
       "      <td>4.384615</td>\n",
       "      <td>4.307692</td>\n",
       "      <td>4.882353</td>\n",
       "    </tr>\n",
       "  </tbody>\n",
       "</table>\n",
       "</div>"
      ],
      "text/plain": [
       "                                   Математика  Русский язык  Литература  \\\n",
       "Среднее                              4.000000      4.052632    3.947368   \n",
       "Среднее среди тех, у кого 4 или 5    4.357143      4.333333    4.285714   \n",
       "\n",
       "                                     Физика   История  Физическая культура  \n",
       "Среднее                            3.947368  3.894737             4.684211  \n",
       "Среднее среди тех, у кого 4 или 5  4.384615  4.307692             4.882353  "
      ]
     },
     "execution_count": 73,
     "metadata": {},
     "output_type": "execute_result"
    }
   ],
   "source": [
    "(marks\n",
    "    .drop(['ФИО', 'Пол'], axis=1)\n",
    "    .agg(\n",
    "        ['mean',\n",
    "         lambda s: s[s >= 4].mean() # фильтровать значения получится только внутри колонки и только по ней самой\n",
    "        ])\n",
    "    .set_axis(['Среднее', 'Среднее среди тех, у кого 4 или 5'])\n",
    ")"
   ]
  },
  {
   "cell_type": "code",
   "execution_count": null,
   "id": "5d65c619",
   "metadata": {
    "scrolled": true
   },
   "outputs": [],
   "source": []
  },
  {
   "cell_type": "markdown",
   "id": "c1c214f9",
   "metadata": {},
   "source": [
    "#### В метод agg нельзя передавать квантили"
   ]
  },
  {
   "cell_type": "code",
   "execution_count": 74,
   "id": "777a011b",
   "metadata": {
    "scrolled": true
   },
   "outputs": [
    {
     "name": "stderr",
     "output_type": "stream",
     "text": [
      "C:\\Users\\Panda\\AppData\\Local\\Temp\\ipykernel_10124\\1867502077.py:1: FutureWarning: The provided callable <function mean at 0x000002CF1A14F6A0> is currently using Series.mean. In a future version of pandas, the provided callable will be used directly. To keep current behavior pass the string \"mean\" instead.\n",
      "  empl['salary'].agg([np.mean, np.max, 'std', lambda x: x.quantile(0.8)])\n",
      "C:\\Users\\Panda\\AppData\\Local\\Temp\\ipykernel_10124\\1867502077.py:1: FutureWarning: The provided callable <function max at 0x000002CF1A14ECA0> is currently using Series.max. In a future version of pandas, the provided callable will be used directly. To keep current behavior pass the string \"max\" instead.\n",
      "  empl['salary'].agg([np.mean, np.max, 'std', lambda x: x.quantile(0.8)])\n"
     ]
    },
    {
     "data": {
      "text/plain": [
       "mean         37525.676613\n",
       "max         154700.000000\n",
       "std          22484.026891\n",
       "<lambda>     42700.000000\n",
       "Name: salary, dtype: float64"
      ]
     },
     "execution_count": 74,
     "metadata": {},
     "output_type": "execute_result"
    }
   ],
   "source": [
    "empl['salary'].agg([np.mean, np.max, 'std', lambda x: x.quantile(0.8)])"
   ]
  },
  {
   "cell_type": "code",
   "execution_count": 75,
   "id": "708c2bae",
   "metadata": {
    "scrolled": true
   },
   "outputs": [],
   "source": [
    "class Quantile:\n",
    "    def __init__(self, q: float):\n",
    "        self.q = q\n",
    "        self.__name__ = f'{q} квантиль'\n",
    "    \n",
    "    def __call__(self, series: pd.Series):\n",
    "        return series.quantile(self.q)"
   ]
  },
  {
   "cell_type": "code",
   "execution_count": 76,
   "id": "47ca722c",
   "metadata": {
    "scrolled": true
   },
   "outputs": [
    {
     "name": "stderr",
     "output_type": "stream",
     "text": [
      "C:\\Users\\Panda\\AppData\\Local\\Temp\\ipykernel_10124\\463567872.py:1: FutureWarning: The provided callable <function mean at 0x000002CF1A14F6A0> is currently using Series.mean. In a future version of pandas, the provided callable will be used directly. To keep current behavior pass the string \"mean\" instead.\n",
      "  empl['salary'].agg([np.mean, np.max, 'std', Quantile(0.8)])\n",
      "C:\\Users\\Panda\\AppData\\Local\\Temp\\ipykernel_10124\\463567872.py:1: FutureWarning: The provided callable <function max at 0x000002CF1A14ECA0> is currently using Series.max. In a future version of pandas, the provided callable will be used directly. To keep current behavior pass the string \"max\" instead.\n",
      "  empl['salary'].agg([np.mean, np.max, 'std', Quantile(0.8)])\n"
     ]
    },
    {
     "data": {
      "text/plain": [
       "mean             37525.676613\n",
       "max             154700.000000\n",
       "std              22484.026891\n",
       "0.8 квантиль     42700.000000\n",
       "Name: salary, dtype: float64"
      ]
     },
     "execution_count": 76,
     "metadata": {},
     "output_type": "execute_result"
    }
   ],
   "source": [
    "empl['salary'].agg([np.mean, np.max, 'std', Quantile(0.8)])"
   ]
  },
  {
   "cell_type": "code",
   "execution_count": null,
   "id": "1f4aad81",
   "metadata": {
    "scrolled": true
   },
   "outputs": [],
   "source": []
  },
  {
   "cell_type": "code",
   "execution_count": null,
   "id": "87bb34ed",
   "metadata": {
    "scrolled": true
   },
   "outputs": [],
   "source": []
  },
  {
   "cell_type": "code",
   "execution_count": null,
   "id": "b97d17bd",
   "metadata": {
    "scrolled": true
   },
   "outputs": [],
   "source": []
  },
  {
   "cell_type": "markdown",
   "id": "95978c16",
   "metadata": {},
   "source": [
    "#### Иногда после агрегации необходимо выполнять дополнительные действия"
   ]
  },
  {
   "cell_type": "code",
   "execution_count": 2,
   "id": "e58deac0",
   "metadata": {
    "scrolled": true
   },
   "outputs": [
    {
     "data": {
      "text/html": [
       "<div>\n",
       "<style scoped>\n",
       "    .dataframe tbody tr th:only-of-type {\n",
       "        vertical-align: middle;\n",
       "    }\n",
       "\n",
       "    .dataframe tbody tr th {\n",
       "        vertical-align: top;\n",
       "    }\n",
       "\n",
       "    .dataframe thead th {\n",
       "        text-align: right;\n",
       "    }\n",
       "</style>\n",
       "<table border=\"1\" class=\"dataframe\">\n",
       "  <thead>\n",
       "    <tr style=\"text-align: right;\">\n",
       "      <th></th>\n",
       "      <th>price</th>\n",
       "      <th>goods_number</th>\n",
       "    </tr>\n",
       "  </thead>\n",
       "  <tbody>\n",
       "    <tr>\n",
       "      <th>0</th>\n",
       "      <td>1199.9</td>\n",
       "      <td>1</td>\n",
       "    </tr>\n",
       "    <tr>\n",
       "      <th>1</th>\n",
       "      <td>2299.9</td>\n",
       "      <td>1</td>\n",
       "    </tr>\n",
       "    <tr>\n",
       "      <th>2</th>\n",
       "      <td>4720.0</td>\n",
       "      <td>1</td>\n",
       "    </tr>\n",
       "    <tr>\n",
       "      <th>3</th>\n",
       "      <td>5899.9</td>\n",
       "      <td>1</td>\n",
       "    </tr>\n",
       "    <tr>\n",
       "      <th>4</th>\n",
       "      <td>8999.9</td>\n",
       "      <td>1</td>\n",
       "    </tr>\n",
       "  </tbody>\n",
       "</table>\n",
       "</div>"
      ],
      "text/plain": [
       "    price  goods_number\n",
       "0  1199.9             1\n",
       "1  2299.9             1\n",
       "2  4720.0             1\n",
       "3  5899.9             1\n",
       "4  8999.9             1"
      ]
     },
     "execution_count": 2,
     "metadata": {},
     "output_type": "execute_result"
    }
   ],
   "source": [
    "path_sales_2022 = '../tables/sales_2022.parquet' if os.path.exists('../tables/sales_2022.parquet') else 'https://drive.google.com/uc?id=17e7FwXVdsWc2aziK9s5KidIvPcfKt9F5'\n",
    "sales = pd.read_parquet(path_sales_2022).iloc[:, -2:]\n",
    "sales.head()"
   ]
  },
  {
   "cell_type": "markdown",
   "id": "d409b8e9",
   "metadata": {},
   "source": [
    "Найдем среднюю строимость проданных товаров"
   ]
  },
  {
   "cell_type": "code",
   "execution_count": 7,
   "id": "28de0648",
   "metadata": {
    "scrolled": true
   },
   "outputs": [
    {
     "data": {
      "text/html": [
       "<div>\n",
       "<style scoped>\n",
       "    .dataframe tbody tr th:only-of-type {\n",
       "        vertical-align: middle;\n",
       "    }\n",
       "\n",
       "    .dataframe tbody tr th {\n",
       "        vertical-align: top;\n",
       "    }\n",
       "\n",
       "    .dataframe thead th {\n",
       "        text-align: right;\n",
       "    }\n",
       "</style>\n",
       "<table border=\"1\" class=\"dataframe\">\n",
       "  <thead>\n",
       "    <tr style=\"text-align: right;\">\n",
       "      <th></th>\n",
       "      <th>goods_number</th>\n",
       "      <th>price_mul_number</th>\n",
       "      <th>mean_goods_price_sold</th>\n",
       "    </tr>\n",
       "  </thead>\n",
       "  <tbody>\n",
       "    <tr>\n",
       "      <th>0</th>\n",
       "      <td>2496690.0</td>\n",
       "      <td>8.849085e+09</td>\n",
       "      <td>3544.326843</td>\n",
       "    </tr>\n",
       "  </tbody>\n",
       "</table>\n",
       "</div>"
      ],
      "text/plain": [
       "   goods_number  price_mul_number  mean_goods_price_sold\n",
       "0     2496690.0      8.849085e+09            3544.326843"
      ]
     },
     "execution_count": 7,
     "metadata": {},
     "output_type": "execute_result"
    }
   ],
   "source": [
    "(sales\n",
    "    .assign(price_mul_number = lambda x: x['price'] * x['goods_number'])\n",
    "    [['goods_number', 'price_mul_number']]\n",
    "    .sum()\n",
    "    .to_frame()\n",
    "    .T\n",
    "    .assign(mean_goods_price_sold=lambda x: x['price_mul_number'] / x['goods_number'])\n",
    "#    .drop(['goods_number', 'price_mul_number'], axis=1)\n",
    "#     .iloc[0, 0]\n",
    ")"
   ]
  },
  {
   "cell_type": "code",
   "execution_count": null,
   "id": "1a6f0a08",
   "metadata": {
    "scrolled": true
   },
   "outputs": [],
   "source": []
  },
  {
   "cell_type": "code",
   "execution_count": null,
   "id": "dc59e752",
   "metadata": {
    "scrolled": true
   },
   "outputs": [],
   "source": []
  },
  {
   "cell_type": "code",
   "execution_count": null,
   "id": "f1a96656",
   "metadata": {
    "scrolled": true
   },
   "outputs": [],
   "source": []
  },
  {
   "cell_type": "markdown",
   "id": "82c297e1",
   "metadata": {},
   "source": [
    "### Статистические функции в сочетании с другими методами"
   ]
  },
  {
   "cell_type": "markdown",
   "id": "f1afd03c",
   "metadata": {},
   "source": [
    "#### Проверяем процент заполенных значений"
   ]
  },
  {
   "cell_type": "code",
   "execution_count": 10,
   "id": "fc259f8a",
   "metadata": {
    "scrolled": true
   },
   "outputs": [
    {
     "data": {
      "text/plain": [
       "report_dt              1.000000\n",
       "fio                    1.000000\n",
       "sex                    1.000000\n",
       "birth_date             1.000000\n",
       "mgmt_flag              1.000000\n",
       "employee_evaluation    0.961138\n",
       "salary                 1.000000\n",
       "dtype: float64"
      ]
     },
     "execution_count": 10,
     "metadata": {},
     "output_type": "execute_result"
    }
   ],
   "source": [
    "(empl\n",
    "    .notnull()\n",
    "    .mean()\n",
    ")"
   ]
  },
  {
   "cell_type": "markdown",
   "id": "116c9386",
   "metadata": {},
   "source": [
    "#### Или наоборот считаем количество пропущенных значений"
   ]
  },
  {
   "cell_type": "code",
   "execution_count": 11,
   "id": "f8019b9c",
   "metadata": {
    "scrolled": false
   },
   "outputs": [
    {
     "data": {
      "text/plain": [
       "np.int64(56)"
      ]
     },
     "execution_count": 11,
     "metadata": {},
     "output_type": "execute_result"
    }
   ],
   "source": [
    "empl['employee_evaluation'].isna().sum()"
   ]
  },
  {
   "cell_type": "markdown",
   "id": "235aacac",
   "metadata": {},
   "source": [
    "#### Доля людей, зарабатывающих больше 50 000"
   ]
  },
  {
   "cell_type": "code",
   "execution_count": 14,
   "id": "3bc524b0",
   "metadata": {
    "scrolled": true
   },
   "outputs": [
    {
     "data": {
      "text/plain": [
       "np.float64(0.1311589174184594)"
      ]
     },
     "execution_count": 14,
     "metadata": {},
     "output_type": "execute_result"
    }
   ],
   "source": [
    "empl['salary'].ge(50000).mean()\n",
    "# То же самое, что и\n",
    "(empl['salary'] >= 50000).mean()"
   ]
  },
  {
   "cell_type": "markdown",
   "id": "53162ef4",
   "metadata": {},
   "source": [
    "#### Число записей по зарплате, втречающихся только 1 раз"
   ]
  },
  {
   "cell_type": "code",
   "execution_count": 15,
   "id": "c2414e21",
   "metadata": {
    "scrolled": true
   },
   "outputs": [
    {
     "data": {
      "text/plain": [
       "np.int64(7)"
      ]
     },
     "execution_count": 15,
     "metadata": {},
     "output_type": "execute_result"
    }
   ],
   "source": [
    "(~empl['salary'].duplicated(keep=False)).sum()"
   ]
  },
  {
   "cell_type": "markdown",
   "id": "91621701",
   "metadata": {},
   "source": [
    "#### Доля женщин в магазине"
   ]
  },
  {
   "cell_type": "code",
   "execution_count": 17,
   "id": "80ebb067",
   "metadata": {
    "scrolled": true
   },
   "outputs": [
    {
     "data": {
      "text/plain": [
       "np.float64(0.6412213740458015)"
      ]
     },
     "execution_count": 17,
     "metadata": {},
     "output_type": "execute_result"
    }
   ],
   "source": [
    "empl['sex'].eq('женский').mean()\n",
    "# Это то же самое, что и\n",
    "(empl['sex'] == 'женский').mean()"
   ]
  },
  {
   "cell_type": "code",
   "execution_count": null,
   "id": "db08ee8f",
   "metadata": {
    "scrolled": true
   },
   "outputs": [],
   "source": []
  },
  {
   "cell_type": "code",
   "execution_count": null,
   "id": "b24caced",
   "metadata": {
    "scrolled": true
   },
   "outputs": [],
   "source": []
  },
  {
   "cell_type": "code",
   "execution_count": null,
   "id": "9229c153",
   "metadata": {
    "scrolled": true
   },
   "outputs": [],
   "source": []
  },
  {
   "cell_type": "code",
   "execution_count": null,
   "id": "85eb447a",
   "metadata": {
    "scrolled": true
   },
   "outputs": [],
   "source": []
  },
  {
   "cell_type": "code",
   "execution_count": null,
   "id": "9542b8db",
   "metadata": {
    "scrolled": true
   },
   "outputs": [],
   "source": []
  },
  {
   "cell_type": "code",
   "execution_count": null,
   "id": "577b6a35",
   "metadata": {
    "scrolled": true
   },
   "outputs": [],
   "source": []
  },
  {
   "cell_type": "code",
   "execution_count": null,
   "id": "1582b99b",
   "metadata": {
    "scrolled": true
   },
   "outputs": [],
   "source": []
  },
  {
   "cell_type": "code",
   "execution_count": null,
   "id": "a13fe3d7",
   "metadata": {
    "scrolled": true
   },
   "outputs": [],
   "source": []
  },
  {
   "cell_type": "code",
   "execution_count": null,
   "id": "9f4b2e55",
   "metadata": {
    "scrolled": true
   },
   "outputs": [],
   "source": []
  },
  {
   "cell_type": "code",
   "execution_count": null,
   "id": "1bf9c0a9",
   "metadata": {
    "scrolled": true
   },
   "outputs": [],
   "source": []
  },
  {
   "cell_type": "markdown",
   "id": "0b8843c3",
   "metadata": {},
   "source": [
    "# Задания"
   ]
  },
  {
   "cell_type": "markdown",
   "id": "3518b634",
   "metadata": {},
   "source": [
    "#### Описание таблиц лежит [здесь](https://github.com/victorlymarev/pandas/tree/main/tables#%D0%BE%D0%BF%D0%B8%D1%81%D0%B0%D0%BD%D0%B8%D0%B5-%D1%82%D0%B0%D0%B1%D0%BB%D0%B8%D1%86)"
   ]
  },
  {
   "cell_type": "markdown",
   "id": "9b8b6009",
   "metadata": {},
   "source": [
    "Некоторые таблицы занимают много памяти, поэтому каждые 5-10 заданий лучше перезапускайте ноутбук.\n",
    "\n",
    "В формулировке некоторых заданий может содержаться вариативность. Если у вас есть сомнения, что требуется в задании, попробуйте решить несколько вариантов. Если вы не понимаете задание, можете написать об этом в комментариях под видео.\n",
    "\n",
    "В большинстве случаев внешний вид итоговой таблицы не определен. Выведите на экран наиболее адекватный вариант. То есть таблицу, из которой можно будет сделать выводы.\n",
    "\n",
    "Курс пока находится в разработке. Вы можете помочь другим людям добавив свое решение [сюда](https://docs.google.com/forms/d/1HYTBz_KfssY3Jps2dC3n0YnEqa6WBb5OIhLo1d32Xzw/edit).\n",
    "\n",
    "Посмотреть решения других людей можно [здесь](https://docs.google.com/spreadsheets/d/1pMDYO-9UneLbPPnEuQ2shig0TOJdQTU-zipifyAnZMk/edit?resourcekey#gid=1998648012)"
   ]
  },
  {
   "cell_type": "markdown",
   "id": "6ef31261",
   "metadata": {},
   "source": [
    "### Задание 1\n",
    "Для таблицы stocks воспользуйтесь методом describe"
   ]
  },
  {
   "cell_type": "code",
   "execution_count": null,
   "id": "fd245465",
   "metadata": {
    "scrolled": true
   },
   "outputs": [],
   "source": [
    "import os\n",
    "import pandas as pd\n",
    "\n",
    "path_stocks = '../tables/stocks.parquet' if os.path.exists('../tables/stocks.parquet') else 'https://drive.google.com/uc?id=1weGquTtmR92mKYAeZhZCFHJjndyoSXZt'\n",
    "\n",
    "stocks = pd.read_parquet(path_stocks)\n",
    "stocks.head()"
   ]
  },
  {
   "cell_type": "code",
   "execution_count": null,
   "id": "78b95553",
   "metadata": {
    "scrolled": true
   },
   "outputs": [],
   "source": [
    "# Напишите свой код здесь"
   ]
  },
  {
   "cell_type": "markdown",
   "id": "85c783db",
   "metadata": {},
   "source": [
    "### Задание 2\n",
    "\n",
    "Посчитайте долю выходных дней в 2020 году"
   ]
  },
  {
   "cell_type": "code",
   "execution_count": null,
   "id": "bc8ea75e",
   "metadata": {
    "scrolled": true
   },
   "outputs": [],
   "source": [
    "import os\n",
    "import pandas as pd\n",
    "\n",
    "path_w_ends = '../tables/выходные.csv' if os.path.exists('../tables/выходные.csv') else 'https://drive.google.com/uc?id=1hAsoXSPTFihFmBuF-E0uSj9pX4gpojwC'\n",
    "\n",
    "w_ends = pd.read_csv(path_w_ends)\n",
    "w_ends.head()"
   ]
  },
  {
   "cell_type": "code",
   "execution_count": null,
   "id": "407a9f35",
   "metadata": {
    "scrolled": true
   },
   "outputs": [],
   "source": [
    "# Напишите свой код здесь"
   ]
  },
  {
   "cell_type": "markdown",
   "id": "52765af7",
   "metadata": {},
   "source": [
    "### Задание 3\n",
    "\n",
    "Для колонки зарплата посчитайте среднее значение, медиану, 0.25 квантиль, 0.9 квантиль, станадартное отклонение за 2022 год"
   ]
  },
  {
   "cell_type": "code",
   "execution_count": null,
   "id": "89ccb798",
   "metadata": {
    "scrolled": true
   },
   "outputs": [],
   "source": [
    "import os\n",
    "import pandas as pd\n",
    "\n",
    "path_empl = '../tables/employees.parquet' if os.path.exists('../tables/employees.parquet') else 'https://drive.google.com/uc?id=1AARD5-eVlCxoApt5CYZebrC3Cqw42lvj'\n",
    "\n",
    "empl = pd.read_parquet(path_empl)\n",
    "empl.head()"
   ]
  },
  {
   "cell_type": "code",
   "execution_count": null,
   "id": "8d795eb7",
   "metadata": {
    "scrolled": true
   },
   "outputs": [],
   "source": [
    "# Напишите свой код здесь"
   ]
  },
  {
   "cell_type": "markdown",
   "id": "03a11656",
   "metadata": {},
   "source": [
    "### Задание 4\n",
    "\n",
    "Посчитать какой процент женщин в руководстве (поле mgmt)"
   ]
  },
  {
   "cell_type": "code",
   "execution_count": null,
   "id": "29f7febd",
   "metadata": {
    "scrolled": true
   },
   "outputs": [],
   "source": [
    "import os\n",
    "import pandas as pd\n",
    "\n",
    "path_empl = '../tables/employees.parquet' if os.path.exists('../tables/employees.parquet') else 'https://drive.google.com/uc?id=1AARD5-eVlCxoApt5CYZebrC3Cqw42lvj'\n",
    "\n",
    "empl = pd.read_parquet(path_empl)\n",
    "empl.head()"
   ]
  },
  {
   "cell_type": "code",
   "execution_count": null,
   "id": "ee905043",
   "metadata": {
    "scrolled": true
   },
   "outputs": [],
   "source": [
    "# Напишите свой код здесь"
   ]
  },
  {
   "cell_type": "markdown",
   "id": "712c1c5f",
   "metadata": {},
   "source": [
    "### Задание 5\n",
    "\n",
    "Посчитать какой процент сотрудников - мужчины"
   ]
  },
  {
   "cell_type": "code",
   "execution_count": null,
   "id": "9f8dbd50",
   "metadata": {
    "scrolled": true
   },
   "outputs": [],
   "source": [
    "import os\n",
    "import pandas as pd\n",
    "\n",
    "path_empl = '../tables/employees.parquet' if os.path.exists('../tables/employees.parquet') else 'https://drive.google.com/uc?id=1AARD5-eVlCxoApt5CYZebrC3Cqw42lvj'\n",
    "\n",
    "empl = pd.read_parquet(path_empl)\n",
    "empl.head()"
   ]
  },
  {
   "cell_type": "code",
   "execution_count": null,
   "id": "5b5f8496",
   "metadata": {
    "scrolled": true
   },
   "outputs": [],
   "source": [
    "# Напишите свой код здесь"
   ]
  },
  {
   "cell_type": "markdown",
   "id": "a5a8e035",
   "metadata": {},
   "source": [
    "### Задание 6\n",
    "\n",
    "Посчитайте среднюю оценку по математике среди мальчиков"
   ]
  },
  {
   "cell_type": "code",
   "execution_count": null,
   "id": "77d262ae",
   "metadata": {
    "scrolled": true
   },
   "outputs": [],
   "source": [
    "import os\n",
    "import pandas as pd\n",
    "\n",
    "path_marks = '../tables/школьные оценки.xlsx' if os.path.exists('../tables/школьные оценки.xlsx') else 'https://drive.google.com/uc?id=1v9kRv1I03CXtQ6vFE4mE3hFAty436qAo'\n",
    "\n",
    "marks = pd.read_excel(path_marks)\n",
    "marks.head()"
   ]
  },
  {
   "cell_type": "code",
   "execution_count": null,
   "id": "addc3b5d",
   "metadata": {
    "scrolled": true
   },
   "outputs": [],
   "source": [
    "# Напишите свой код здесь"
   ]
  },
  {
   "cell_type": "markdown",
   "id": "172575e9",
   "metadata": {},
   "source": [
    "### Задание 7\n",
    "\n",
    "Посчитайте коэффициент корреляции между ценой товара и ценой товара по скидке"
   ]
  },
  {
   "cell_type": "code",
   "execution_count": null,
   "id": "11477852",
   "metadata": {
    "scrolled": true
   },
   "outputs": [],
   "source": [
    "import os\n",
    "import pandas as pd\n",
    "\n",
    "path_prices = '../tables/prices.parquet' if os.path.exists('../tables/prices.parquet') else 'https://drive.google.com/uc?id=1_KfYyYCsib8woanbP3VouLUpYp103dV5'\n",
    "\n",
    "prices = pd.read_parquet(path_prices)\n",
    "prices.head()"
   ]
  },
  {
   "cell_type": "code",
   "execution_count": null,
   "id": "312cda71",
   "metadata": {
    "scrolled": true
   },
   "outputs": [],
   "source": [
    "# Напишите свой код здесь"
   ]
  },
  {
   "cell_type": "markdown",
   "id": "3946f415",
   "metadata": {},
   "source": [
    "### Задание 8\n",
    "\n",
    "Найдите детей, у которых либо все тройки, либо все четверки, либо все пятерки"
   ]
  },
  {
   "cell_type": "code",
   "execution_count": null,
   "id": "3af7921e",
   "metadata": {
    "scrolled": true
   },
   "outputs": [],
   "source": [
    "import os\n",
    "import pandas as pd\n",
    "\n",
    "path_marks = '../tables/школьные оценки.xlsx' if os.path.exists('../tables/школьные оценки.xlsx') else 'https://drive.google.com/uc?id=1v9kRv1I03CXtQ6vFE4mE3hFAty436qAo'\n",
    "\n",
    "marks = pd.read_excel(path_marks)\n",
    "marks.head()"
   ]
  },
  {
   "cell_type": "code",
   "execution_count": null,
   "id": "fedfb480",
   "metadata": {
    "scrolled": true
   },
   "outputs": [],
   "source": [
    "# Напишите свой код здесь"
   ]
  },
  {
   "cell_type": "markdown",
   "id": "3e42b6ef",
   "metadata": {},
   "source": [
    "### Задание 9\n",
    "\n",
    "Посчитайте сумарную выручку и среднюю стоимость проданного товара в магазине 5"
   ]
  },
  {
   "cell_type": "code",
   "execution_count": null,
   "id": "703262db",
   "metadata": {
    "scrolled": true
   },
   "outputs": [],
   "source": [
    "# таблица sales - большая, и в некоторых случаях ваш компьютер может не справиться с ее обработкой\n",
    "# поэтому лучше работайте с частью этой таблицы\n",
    "# но если вы хотите попробовать поработать с полной версией таблицы,\n",
    "# можете заменить переменную path_sales_2022 на path_sales внутри функции read_parquet\n",
    "\n",
    "import os\n",
    "import pandas as pd\n",
    "\n",
    "path_sales_2022 = '../tables/sales_2022.parquet' if os.path.exists('../tables/sales_2022.parquet') else 'https://drive.google.com/uc?id=17e7FwXVdsWc2aziK9s5KidIvPcfKt9F5'\n",
    "# path_sales = '../tables/sales.parquet' if os.path.exists('../tables/sales.parquet') else \"https://drive.usercontent.google.com/download?id=15KwSxyM6hpNABGe6_vsrFZvD09VfHFyK&export=download&authuser=1&confirm=t&uuid=115bd48c-cc2c-4f2a-8b42-be5ca6ef6db8&at=APZUnTUVb8nfNANw5wr9Cad7PJ3U:1693327774694\"\n",
    "\n",
    "sales = pd.read_parquet(path_sales_2022)\n",
    "sales.head()"
   ]
  },
  {
   "cell_type": "code",
   "execution_count": null,
   "id": "979d4b0e",
   "metadata": {
    "scrolled": true
   },
   "outputs": [],
   "source": [
    "# Напишите свой код здесь"
   ]
  },
  {
   "cell_type": "markdown",
   "id": "f1df2fb9",
   "metadata": {},
   "source": [
    "### Задание 10\n",
    "\n",
    "Отберите детей, у которых была всего одна тройка"
   ]
  },
  {
   "cell_type": "code",
   "execution_count": null,
   "id": "a3adc003",
   "metadata": {
    "scrolled": true
   },
   "outputs": [],
   "source": [
    "import os\n",
    "import pandas as pd\n",
    "\n",
    "path_marks = '../tables/школьные оценки.xlsx' if os.path.exists('../tables/школьные оценки.xlsx') else 'https://drive.google.com/uc?id=1v9kRv1I03CXtQ6vFE4mE3hFAty436qAo'\n",
    "\n",
    "marks = pd.read_excel(path_marks)\n",
    "marks.head()"
   ]
  },
  {
   "cell_type": "code",
   "execution_count": null,
   "id": "93f49fdb",
   "metadata": {
    "scrolled": true
   },
   "outputs": [],
   "source": [
    "# Напишите свой код здесь"
   ]
  },
  {
   "attachments": {
    "image.png": {
     "image/png": "[encoded data removed]"
    }
   },
   "cell_type": "markdown",
   "id": "7e050ddc",
   "metadata": {},
   "source": [
    "### Задание 11\n",
    "\n",
    "Согласно неравенству Маркова, для неотрицательного показателя доля наблюдейний, превышающих некоторое число а меньше или равна среднему значению этого показателя, деленному на это число а.\n",
    "\n",
    "![image.png](attachment:image.png)\n",
    "\n",
    "P - доля наблюдений, для которых выполняется условие, записанное в скобках\n",
    "\n",
    "E X - среднее значение показателя X\n",
    "\n",
    "\n",
    "Проверьте неравенство на данных по зарплате сотрудников по состоянию на 31 декабря 2022 года. Посчитайте долю сотрудников, зарабатывающих больше 90 000 и сравните это значение со средней зарплатой деленной на 90 000. Выполняется ли оно?"
   ]
  },
  {
   "cell_type": "code",
   "execution_count": null,
   "id": "1f7a760b",
   "metadata": {
    "scrolled": true
   },
   "outputs": [],
   "source": [
    "import os\n",
    "import pandas as pd\n",
    "\n",
    "path_empl = '../tables/employees.parquet' if os.path.exists('../tables/employees.parquet') else 'https://drive.google.com/uc?id=1AARD5-eVlCxoApt5CYZebrC3Cqw42lvj'\n",
    "\n",
    "empl = pd.read_parquet(path_empl)\n",
    "empl.head()"
   ]
  },
  {
   "cell_type": "code",
   "execution_count": null,
   "id": "d2139b3c",
   "metadata": {
    "scrolled": true
   },
   "outputs": [],
   "source": [
    "# Напишите свой код здесь"
   ]
  },
  {
   "cell_type": "markdown",
   "id": "cb5da4eb",
   "metadata": {},
   "source": [
    "### Задание 12\n",
    "\n",
    "Посчитайте среднюю оценку по математике среди мальчиков\n",
    "\n",
    "Сделайте 100 выборок с возвращением в которых посчитайте 80 квантиль в зарплате мужчин за 31 декабря 2022 года. Усредните полученные значения\n",
    "\n",
    "Затем сделайте то же самое, только для женщин. Сравните результаты"
   ]
  },
  {
   "cell_type": "code",
   "execution_count": null,
   "id": "a45bb77b",
   "metadata": {
    "scrolled": true
   },
   "outputs": [],
   "source": [
    "import os\n",
    "import pandas as pd\n",
    "\n",
    "path_marks = '../tables/школьные оценки.xlsx' if os.path.exists('../tables/школьные оценки.xlsx') else 'https://drive.google.com/uc?id=1v9kRv1I03CXtQ6vFE4mE3hFAty436qAo'\n",
    "\n",
    "marks = pd.read_excel(path_marks)\n",
    "marks.head()"
   ]
  },
  {
   "cell_type": "code",
   "execution_count": null,
   "id": "926862d1",
   "metadata": {
    "scrolled": true
   },
   "outputs": [],
   "source": [
    "# Напишите свой код здесь"
   ]
  },
  {
   "cell_type": "markdown",
   "id": "e50cb409",
   "metadata": {},
   "source": [
    "### Задание 13\n",
    "\n",
    "Перемножьте колонки price и goods_number и добавьте получившееся значение как отдельрную колнку. После этого для нее и для колонки price посчитайте 2 показателя: среднюю абсолютную ошибку относительно среднего и среднюю абсолютную ошибку относительно медианы. \n",
    "\n",
    "Для этого из каждого значения в колонке вычтите среднее (медиану) по колонке. Затем возьмите модуль от получившейся колонки. Затем усредните ее."
   ]
  },
  {
   "cell_type": "code",
   "execution_count": null,
   "id": "f330d2f6",
   "metadata": {
    "scrolled": true
   },
   "outputs": [],
   "source": [
    "# таблица sales - большая, и в некоторых случаях ваш компьютер может не справиться с ее обработкой\n",
    "# поэтому лучше работайте с частью этой таблицы\n",
    "# но если вы хотите попробовать поработать с полной версией таблицы,\n",
    "# можете заменить переменную path_sales_2022 на path_sales внутри функции read_parquet\n",
    "\n",
    "import os\n",
    "import pandas as pd\n",
    "\n",
    "path_sales_2022 = '../tables/sales_2022.parquet' if os.path.exists('../tables/sales_2022.parquet') else 'https://drive.google.com/uc?id=17e7FwXVdsWc2aziK9s5KidIvPcfKt9F5'\n",
    "# path_sales = '../tables/sales.parquet' if os.path.exists('../tables/sales.parquet') else \"https://drive.usercontent.google.com/download?id=15KwSxyM6hpNABGe6_vsrFZvD09VfHFyK&export=download&authuser=1&confirm=t&uuid=115bd48c-cc2c-4f2a-8b42-be5ca6ef6db8&at=APZUnTUVb8nfNANw5wr9Cad7PJ3U:1693327774694\"\n",
    "\n",
    "sales = pd.read_parquet(path_sales_2022)\n",
    "sales.head()"
   ]
  },
  {
   "cell_type": "code",
   "execution_count": null,
   "id": "43ca3a7a",
   "metadata": {
    "scrolled": true
   },
   "outputs": [],
   "source": [
    "# Напишите свой код здесь"
   ]
  },
  {
   "cell_type": "markdown",
   "id": "d8500fe6",
   "metadata": {},
   "source": [
    "## Задания на нампай"
   ]
  },
  {
   "cell_type": "markdown",
   "id": "9d732af4",
   "metadata": {},
   "source": [
    "### Задание 14\n",
    "\n",
    "В нампае в большинстве случаев названия стат функций называются точно так же как и в пандасе.\n",
    "\n",
    "Посчитайте среднее, и стандартное отклонение по всей матрице и по отдельной строке (в отдельных ячейках)"
   ]
  },
  {
   "cell_type": "code",
   "execution_count": null,
   "id": "3d28d187",
   "metadata": {
    "scrolled": true
   },
   "outputs": [],
   "source": [
    "import numpy as np\n",
    "np.random.seed(21)\n",
    "m = np.random.rand(56).reshape(-1, 4)\n",
    "m"
   ]
  },
  {
   "cell_type": "code",
   "execution_count": null,
   "id": "b7348940",
   "metadata": {
    "scrolled": true
   },
   "outputs": [],
   "source": [
    "# Напишите свой код здесь"
   ]
  },
  {
   "cell_type": "markdown",
   "id": "127029e7",
   "metadata": {},
   "source": [
    "### Задание 15\n",
    "\n",
    "В этом задании давайте посмотрим на то, что если две нормальные случайные величины некоррелированы, то они необязательно независимы.\n",
    "\n",
    "Просимулируем 2 нормальные случайные величины, создав 100000 реализаций каждой."
   ]
  },
  {
   "cell_type": "code",
   "execution_count": null,
   "id": "6ac314a7",
   "metadata": {
    "scrolled": true
   },
   "outputs": [],
   "source": [
    "from scipy.stats import shapiro\n",
    "import numpy as np\n",
    "import matplotlib.pyplot as plt\n",
    "\n",
    "np.random.seed(35)\n",
    "x = np.random.normal(0, 1, size=100000)\n",
    "y = x * np.random.choice([-1, 1], size=100000)"
   ]
  },
  {
   "cell_type": "markdown",
   "id": "84269f43",
   "metadata": {},
   "source": [
    "Проверим, что распрдееления действительно являются нормальными. Будем считать, что если pvalue больше 0.05, то распределение нормальное"
   ]
  },
  {
   "cell_type": "code",
   "execution_count": null,
   "id": "f20802a3",
   "metadata": {
    "scrolled": true
   },
   "outputs": [],
   "source": [
    "shapiro(x)"
   ]
  },
  {
   "cell_type": "code",
   "execution_count": null,
   "id": "7cbae330",
   "metadata": {
    "scrolled": true
   },
   "outputs": [],
   "source": [
    "shapiro(y)"
   ]
  },
  {
   "cell_type": "markdown",
   "id": "0415865c",
   "metadata": {},
   "source": [
    "Посчитайте коэффициент корреляции между x и y. Это можно сделать при помощи np.corrcoef. В эту функцию через запятую предайте x и y"
   ]
  },
  {
   "cell_type": "code",
   "execution_count": null,
   "id": "86387422",
   "metadata": {
    "scrolled": true
   },
   "outputs": [],
   "source": [
    "# Напишите свой код здесь"
   ]
  },
  {
   "cell_type": "markdown",
   "id": "6abf6707",
   "metadata": {},
   "source": [
    "Как видите коэффициент корреляции очень близок к нулю (если считать теоретически, то он будет в точности равен нулю).\n",
    "\n",
    "Теперь постройте scatter для переменных x и y при помощи функции plt.scatter(x, y). \n",
    "Можно ли сказать, что переменные независимы?"
   ]
  },
  {
   "cell_type": "code",
   "execution_count": null,
   "id": "9c61e5cb",
   "metadata": {
    "scrolled": true
   },
   "outputs": [],
   "source": [
    "# Напишите свой код здесь"
   ]
  },
  {
   "cell_type": "markdown",
   "id": "e3b5b236",
   "metadata": {},
   "source": [
    "При помощи теста Шапиро проверьте является ли нормальной случайной величина x + 2 * y.\n",
    "\n",
    "Это кстати говорит о том, что сумма двух нормальных случайных величин необязательно распределена нормально. \n",
    "\n",
    "(Впрочем на самом деле это крайний случай)"
   ]
  },
  {
   "cell_type": "code",
   "execution_count": null,
   "id": "e6c24275",
   "metadata": {
    "scrolled": true
   },
   "outputs": [],
   "source": [
    "# Напишите свой код здесь"
   ]
  },
  {
   "cell_type": "markdown",
   "id": "ef07dddb",
   "metadata": {},
   "source": [
    "### Задание 16\n",
    "\n",
    "Не используя функцию corr посчитайте коэффициент коррляции между оценками (задание для тех, кто знает как перемножать матрицы)"
   ]
  },
  {
   "cell_type": "code",
   "execution_count": null,
   "id": "b69f1c62",
   "metadata": {
    "scrolled": true
   },
   "outputs": [],
   "source": [
    "import os\n",
    "import pandas as pd\n",
    "\n",
    "path_marks = '../tables/школьные оценки.xlsx' if os.path.exists('../tables/школьные оценки.xlsx') else 'https://drive.google.com/uc?id=1v9kRv1I03CXtQ6vFE4mE3hFAty436qAo'\n",
    "\n",
    "marks = pd.read_excel(path_marks)\n",
    "marks.head()"
   ]
  },
  {
   "cell_type": "code",
   "execution_count": null,
   "id": "fcd36ffd",
   "metadata": {
    "scrolled": true
   },
   "outputs": [],
   "source": [
    "# Напишите свой код здесь"
   ]
  },
  {
   "cell_type": "code",
   "execution_count": null,
   "id": "df0bc603",
   "metadata": {
    "scrolled": true
   },
   "outputs": [],
   "source": []
  },
  {
   "cell_type": "code",
   "execution_count": null,
   "id": "46aa7191",
   "metadata": {
    "scrolled": true
   },
   "outputs": [],
   "source": []
  },
  {
   "cell_type": "code",
   "execution_count": null,
   "id": "1b22f86f",
   "metadata": {
    "scrolled": true
   },
   "outputs": [],
   "source": []
  },
  {
   "cell_type": "code",
   "execution_count": null,
   "id": "1ea118f6",
   "metadata": {
    "scrolled": true
   },
   "outputs": [],
   "source": []
  }
 ],
 "metadata": {
  "kernelspec": {
   "display_name": "Python 3 (ipykernel)",
   "language": "python",
   "name": "python3"
  },
  "language_info": {
   "codemirror_mode": {
    "name": "ipython",
    "version": 3
   },
   "file_extension": ".py",
   "mimetype": "text/x-python",
   "name": "python",
   "nbconvert_exporter": "python",
   "pygments_lexer": "ipython3",
   "version": "3.11.5"
  }
 },
 "nbformat": 4,
 "nbformat_minor": 5
}
