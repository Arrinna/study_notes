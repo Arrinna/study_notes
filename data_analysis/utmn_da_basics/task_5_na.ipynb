{
 "cells": [
  {
   "cell_type": "markdown",
   "metadata": {
    "id": "MYm1QOCpT66k"
   },
   "source": [
    "# Пустые ячейки в таблице и восстановление данных"
   ]
  },
  {
   "cell_type": "code",
   "execution_count": null,
   "metadata": {
    "colab": {
     "base_uri": "https://localhost:8080/"
    },
    "executionInfo": {
     "elapsed": 262,
     "status": "ok",
     "timestamp": 1665573869787,
     "user": {
      "displayName": "Артём Шевляков",
      "userId": "05637357451040981141"
     },
     "user_tz": -300
    },
    "id": "XzRosr4ZUAzy",
    "outputId": "79998fcb-4ad3-4a88-b7d1-706828947f1c"
   },
   "outputs": [
    {
     "data": {
      "text/plain": [
       "count    157.000000\n",
       "mean      64.031847\n",
       "std       16.502300\n",
       "min        3.000000\n",
       "25%       53.000000\n",
       "50%       60.000000\n",
       "75%       71.000000\n",
       "max      120.000000\n",
       "Name: Weight, dtype: float64"
      ]
     },
     "execution_count": 6,
     "metadata": {},
     "output_type": "execute_result"
    }
   ],
   "source": [
    "import pandas as pd\n",
    "df=pd.read_csv('/content/drive/MyDrive/Colab Notebooks/задания к курсу/students.csv', delimiter=',')\n",
    "df['Weight'].describe()"
   ]
  },
  {
   "cell_type": "code",
   "execution_count": null,
   "metadata": {
    "colab": {
     "base_uri": "https://localhost:8080/"
    },
    "executionInfo": {
     "elapsed": 11657,
     "status": "ok",
     "timestamp": 1665573658875,
     "user": {
      "displayName": "Артём Шевляков",
      "userId": "05637357451040981141"
     },
     "user_tz": -300
    },
    "id": "tv4iAvgT7EqT",
    "outputId": "721106a1-7af6-44b2-f73b-a7c54dd68f44"
   },
   "outputs": [
    {
     "name": "stdout",
     "output_type": "stream",
     "text": [
      "Drive already mounted at /content/drive; to attempt to forcibly remount, call drive.mount(\"/content/drive\", force_remount=True).\n"
     ]
    }
   ],
   "source": [
    "from google.colab import drive\n",
    "drive.mount('/content/drive')"
   ]
  },
  {
   "cell_type": "markdown",
   "metadata": {
    "id": "9uItG1B2V6F9"
   },
   "source": [
    "Удаление объектов/столбцов с отсутствующими данными"
   ]
  },
  {
   "cell_type": "code",
   "execution_count": null,
   "metadata": {
    "id": "bhUQPkhjV7n-"
   },
   "outputs": [],
   "source": [
    "df1=df.dropna()\n",
    "df1.info()"
   ]
  },
  {
   "cell_type": "code",
   "execution_count": null,
   "metadata": {
    "id": "nWheXU1cS8Xe"
   },
   "outputs": [],
   "source": [
    "df=df.dropna()\n",
    "#теперь в  таблице df лежат студенты, у которых нет пропусков в данных"
   ]
  },
  {
   "cell_type": "code",
   "execution_count": null,
   "metadata": {
    "id": "vaDNRLV2TYzZ"
   },
   "outputs": [],
   "source": [
    "df=df.fillna(0)\n",
    "#теперь в  таблице df лежат студенты, у которых пропуски в признаках заполнены 0"
   ]
  },
  {
   "cell_type": "code",
   "execution_count": null,
   "metadata": {
    "id": "icnbnTCETvby"
   },
   "outputs": [],
   "source": [
    "df=df.fillna(df.mean())\n",
    "#теперь в  таблице df лежат студенты, у которых пропуски в признаках заполнены средним значением по столбцу"
   ]
  },
  {
   "cell_type": "markdown",
   "metadata": {
    "id": "2SbEy9INWXLV"
   },
   "source": [
    "Замена пропущенные значения"
   ]
  },
  {
   "cell_type": "code",
   "execution_count": null,
   "metadata": {
    "id": "mrJIHSzwWqTb"
   },
   "outputs": [],
   "source": [
    "df2=df.fillna(0)\n",
    "df2.info()"
   ]
  },
  {
   "cell_type": "markdown",
   "metadata": {
    "id": "AKnuP_DEYQS0"
   },
   "source": [
    "Замена пропущенного значения на среднее по столбцу (или на медиану\\\\)"
   ]
  },
  {
   "cell_type": "code",
   "execution_count": null,
   "metadata": {
    "colab": {
     "base_uri": "https://localhost:8080/"
    },
    "executionInfo": {
     "elapsed": 368,
     "status": "ok",
     "timestamp": 1662444189739,
     "user": {
      "displayName": "Артём Шевляков",
      "userId": "05637357451040981141"
     },
     "user_tz": -360
    },
    "id": "e6ZYwiY_YVcg",
    "outputId": "6191c888-df1c-443b-ca0e-1a0accaae97c"
   },
   "outputs": [
    {
     "name": "stdout",
     "output_type": "stream",
     "text": [
      "<class 'pandas.core.frame.DataFrame'>\n",
      "RangeIndex: 186 entries, 0 to 185\n",
      "Data columns (total 48 columns):\n",
      " #   Column                       Non-Null Count  Dtype  \n",
      "---  ------                       --------------  -----  \n",
      " 0   Age                          186 non-null    int64  \n",
      " 1   Growth                       186 non-null    int64  \n",
      " 2   Shoe size                    186 non-null    int64  \n",
      " 3   Course number                186 non-null    int64  \n",
      " 4   Year of birth                186 non-null    int64  \n",
      " 5   Friend number                186 non-null    int64  \n",
      " 6   Russian rating               186 non-null    int64  \n",
      " 7   Maths rating                 186 non-null    int64  \n",
      " 8   Physics rating               186 non-null    int64  \n",
      " 9   Computer science rating      186 non-null    int64  \n",
      " 10  Chemistry rating             186 non-null    int64  \n",
      " 11  Literature rating            186 non-null    int64  \n",
      " 12  History rating               186 non-null    int64  \n",
      " 13  Geography rating             186 non-null    int64  \n",
      " 14  Biology rating               186 non-null    int64  \n",
      " 15  Foreign language rating      186 non-null    int64  \n",
      " 16  Social science rating        186 non-null    int64  \n",
      " 17  Distance to home km          186 non-null    int64  \n",
      " 18  Minutes to first class       186 non-null    int64  \n",
      " 19  Children number              186 non-null    float64\n",
      " 20  Removed teeth                186 non-null    float64\n",
      " 21  Weight                       186 non-null    float64\n",
      " 22  Glasses                      184 non-null    object \n",
      " 23  Sex                          186 non-null    object \n",
      " 24  Problems in last semester    186 non-null    object \n",
      " 25  Coin                         186 non-null    object \n",
      " 26  Rock paper scissors          186 non-null    object \n",
      " 27  Animal                       186 non-null    object \n",
      " 28  Month of birthday            186 non-null    int64  \n",
      " 29  Your rating in university    186 non-null    object \n",
      " 30  Fastfood                     186 non-null    object \n",
      " 31  Height of 5000 mm            186 non-null    int64  \n",
      " 32  Width of 5000 mm             186 non-null    int64  \n",
      " 33  Putin age                    186 non-null    int64  \n",
      " 34  Army                         186 non-null    object \n",
      " 35  Hostel                       186 non-null    object \n",
      " 36  Hair length                  186 non-null    float64\n",
      " 37  Floor number                 186 non-null    int64  \n",
      " 38  Social network duration min  186 non-null    int64  \n",
      " 39  Chocolate                    186 non-null    object \n",
      " 40  City population              186 non-null    float64\n",
      " 41  Strange people               186 non-null    object \n",
      " 42  Your insitute                186 non-null    object \n",
      " 43  Brother-sister               186 non-null    object \n",
      " 44  Plane seat                   186 non-null    object \n",
      " 45  MIddle and index finger      186 non-null    int64  \n",
      " 46  Middle and ring finger       186 non-null    float64\n",
      " 47  Middle and little finger     186 non-null    float64\n",
      "dtypes: float64(7), int64(26), object(15)\n",
      "memory usage: 69.9+ KB\n"
     ]
    },
    {
     "name": "stderr",
     "output_type": "stream",
     "text": [
      "/usr/local/lib/python3.7/dist-packages/ipykernel_launcher.py:1: FutureWarning: Dropping of nuisance columns in DataFrame reductions (with 'numeric_only=None') is deprecated; in a future version this will raise TypeError.  Select only valid columns before calling the reduction.\n",
      "  \"\"\"Entry point for launching an IPython kernel.\n"
     ]
    }
   ],
   "source": [
    "df3=df.fillna(df.median())\n",
    "df3.info()"
   ]
  },
  {
   "cell_type": "code",
   "execution_count": null,
   "metadata": {
    "id": "7cbrLNb8ZcRo"
   },
   "outputs": [],
   "source": [
    "df['Children number']=df['Children number'].fillna(df['Children number'].mean())\n",
    "# заполнить пропуски в признаке \"Количество детей\" средним значением по столбцу"
   ]
  },
  {
   "cell_type": "markdown",
   "metadata": {
    "id": "ThdzruVfYi6O"
   },
   "source": [
    "Как пропуски в одном признаке заменить по одному правилу, а пропуски во втором столбце - по другому правилу."
   ]
  },
  {
   "cell_type": "code",
   "execution_count": null,
   "metadata": {
    "colab": {
     "base_uri": "https://localhost:8080/"
    },
    "executionInfo": {
     "elapsed": 35,
     "status": "ok",
     "timestamp": 1662444435058,
     "user": {
      "displayName": "Артём Шевляков",
      "userId": "05637357451040981141"
     },
     "user_tz": -360
    },
    "id": "zVQyRzjuYiCP",
    "outputId": "0f78d6b3-591c-4b0a-c763-26d96c709797"
   },
   "outputs": [
    {
     "name": "stdout",
     "output_type": "stream",
     "text": [
      "<class 'pandas.core.frame.DataFrame'>\n",
      "RangeIndex: 186 entries, 0 to 185\n",
      "Data columns (total 48 columns):\n",
      " #   Column                       Non-Null Count  Dtype  \n",
      "---  ------                       --------------  -----  \n",
      " 0   Age                          186 non-null    int64  \n",
      " 1   Growth                       186 non-null    int64  \n",
      " 2   Shoe size                    186 non-null    int64  \n",
      " 3   Course number                186 non-null    int64  \n",
      " 4   Year of birth                186 non-null    int64  \n",
      " 5   Friend number                186 non-null    int64  \n",
      " 6   Russian rating               186 non-null    int64  \n",
      " 7   Maths rating                 186 non-null    int64  \n",
      " 8   Physics rating               186 non-null    int64  \n",
      " 9   Computer science rating      186 non-null    int64  \n",
      " 10  Chemistry rating             186 non-null    int64  \n",
      " 11  Literature rating            186 non-null    int64  \n",
      " 12  History rating               186 non-null    int64  \n",
      " 13  Geography rating             186 non-null    int64  \n",
      " 14  Biology rating               186 non-null    int64  \n",
      " 15  Foreign language rating      186 non-null    int64  \n",
      " 16  Social science rating        186 non-null    int64  \n",
      " 17  Distance to home km          186 non-null    int64  \n",
      " 18  Minutes to first class       186 non-null    int64  \n",
      " 19  Children number              186 non-null    float64\n",
      " 20  Removed teeth                186 non-null    float64\n",
      " 21  Weight                       186 non-null    float64\n",
      " 22  Glasses                      184 non-null    object \n",
      " 23  Sex                          186 non-null    object \n",
      " 24  Problems in last semester    186 non-null    object \n",
      " 25  Coin                         186 non-null    object \n",
      " 26  Rock paper scissors          186 non-null    object \n",
      " 27  Animal                       186 non-null    object \n",
      " 28  Month of birthday            186 non-null    int64  \n",
      " 29  Your rating in university    186 non-null    object \n",
      " 30  Fastfood                     186 non-null    object \n",
      " 31  Height of 5000 mm            186 non-null    int64  \n",
      " 32  Width of 5000 mm             186 non-null    int64  \n",
      " 33  Putin age                    186 non-null    int64  \n",
      " 34  Army                         186 non-null    object \n",
      " 35  Hostel                       186 non-null    object \n",
      " 36  Hair length                  186 non-null    float64\n",
      " 37  Floor number                 186 non-null    int64  \n",
      " 38  Social network duration min  186 non-null    int64  \n",
      " 39  Chocolate                    186 non-null    object \n",
      " 40  City population              186 non-null    float64\n",
      " 41  Strange people               186 non-null    object \n",
      " 42  Your insitute                186 non-null    object \n",
      " 43  Brother-sister               186 non-null    object \n",
      " 44  Plane seat                   186 non-null    object \n",
      " 45  MIddle and index finger      186 non-null    int64  \n",
      " 46  Middle and ring finger       186 non-null    float64\n",
      " 47  Middle and little finger     186 non-null    float64\n",
      "dtypes: float64(7), int64(26), object(15)\n",
      "memory usage: 69.9+ KB\n"
     ]
    }
   ],
   "source": [
    "df['Weight']=df['Weight'].fillna(df['Weight'].mean())\n",
    "df['Children number']=df['Children number'].fillna(0)\n",
    "df['Removed teeth']=df['Removed teeth'].fillna(df['Removed teeth'].median())\n",
    "df.info()"
   ]
  },
  {
   "cell_type": "markdown",
   "metadata": {
    "id": "wi7niFL3aV5Z"
   },
   "source": [
    "Заполнение пропусков в категориальных признаках"
   ]
  },
  {
   "cell_type": "code",
   "execution_count": null,
   "metadata": {
    "colab": {
     "base_uri": "https://localhost:8080/"
    },
    "executionInfo": {
     "elapsed": 24,
     "status": "ok",
     "timestamp": 1662444500516,
     "user": {
      "displayName": "Артём Шевляков",
      "userId": "05637357451040981141"
     },
     "user_tz": -360
    },
    "id": "Wd8SZ_pmaZzu",
    "outputId": "3e427cf7-34f2-445c-8d7b-354f43a78704"
   },
   "outputs": [
    {
     "data": {
      "text/plain": [
       "нет                                    89\n",
       "да                                     85\n",
       "простите. не увидел(а) вопроса ))))    10\n",
       "Name: Glasses, dtype: int64"
      ]
     },
     "execution_count": 12,
     "metadata": {},
     "output_type": "execute_result"
    }
   ],
   "source": [
    "df['Glasses'].value_counts()"
   ]
  },
  {
   "cell_type": "code",
   "execution_count": null,
   "metadata": {
    "colab": {
     "base_uri": "https://localhost:8080/"
    },
    "executionInfo": {
     "elapsed": 352,
     "status": "ok",
     "timestamp": 1662444593530,
     "user": {
      "displayName": "Артём Шевляков",
      "userId": "05637357451040981141"
     },
     "user_tz": -360
    },
    "id": "U5SGi86rao66",
    "outputId": "45ff91de-6d4d-41ab-cc3a-fe397327b125"
   },
   "outputs": [
    {
     "data": {
      "text/plain": [
       "нет                                    89\n",
       "да                                     87\n",
       "простите. не увидел(а) вопроса ))))    10\n",
       "Name: Glasses, dtype: int64"
      ]
     },
     "execution_count": 13,
     "metadata": {},
     "output_type": "execute_result"
    }
   ],
   "source": [
    "df['Glasses']=df['Glasses'].fillna('да')\n",
    "df['Glasses'].value_counts()"
   ]
  },
  {
   "cell_type": "code",
   "execution_count": null,
   "metadata": {
    "colab": {
     "base_uri": "https://localhost:8080/"
    },
    "executionInfo": {
     "elapsed": 3,
     "status": "ok",
     "timestamp": 1665573928966,
     "user": {
      "displayName": "Артём Шевляков",
      "userId": "05637357451040981141"
     },
     "user_tz": -300
    },
    "id": "sYiHa5Er7Yt8",
    "outputId": "64d31ea7-d770-4730-9687-4152765f4761"
   },
   "outputs": [
    {
     "name": "stderr",
     "output_type": "stream",
     "text": [
      "/usr/local/lib/python3.7/dist-packages/ipykernel_launcher.py:3: SettingWithCopyWarning: \n",
      "A value is trying to be set on a copy of a slice from a DataFrame.\n",
      "Try using .loc[row_indexer,col_indexer] = value instead\n",
      "\n",
      "See the caveats in the documentation: https://pandas.pydata.org/pandas-docs/stable/user_guide/indexing.html#returning-a-view-versus-a-copy\n",
      "  This is separate from the ipykernel package so we can avoid doing imports until\n",
      "/usr/local/lib/python3.7/dist-packages/ipykernel_launcher.py:4: SettingWithCopyWarning: \n",
      "A value is trying to be set on a copy of a slice from a DataFrame.\n",
      "Try using .loc[row_indexer,col_indexer] = value instead\n",
      "\n",
      "See the caveats in the documentation: https://pandas.pydata.org/pandas-docs/stable/user_guide/indexing.html#returning-a-view-versus-a-copy\n",
      "  after removing the cwd from sys.path.\n"
     ]
    },
    {
     "data": {
      "text/plain": [
       "count    186.000000\n",
       "mean      63.532012\n",
       "std       15.293717\n",
       "min        3.000000\n",
       "25%       55.000000\n",
       "50%       59.105263\n",
       "75%       70.000000\n",
       "max      120.000000\n",
       "Name: Weight, dtype: float64"
      ]
     },
     "execution_count": 7,
     "metadata": {},
     "output_type": "execute_result"
    }
   ],
   "source": [
    "female=df[df['Sex']=='женский']\n",
    "male=df[df['Sex']=='мужской']\n",
    "female['Weight']=female['Weight'].fillna(female['Weight'].mean())\n",
    "male['Weight']=male['Weight'].fillna(male['Weight'].mean())\n",
    "df_restored=male.append(female)\n",
    "df_restored['Weight'].describe()"
   ]
  },
  {
   "cell_type": "code",
   "execution_count": null,
   "metadata": {
    "id": "f45m1mLd8UjF"
   },
   "outputs": [],
   "source": [
    "singles=df[df['Brother-sister']=='нет ни брата ни сестры']\n",
    "sublings=df[df['Brother-sister']!='нет ни брата ни сестры']"
   ]
  },
  {
   "cell_type": "code",
   "execution_count": null,
   "metadata": {
    "colab": {
     "base_uri": "https://localhost:8080/"
    },
    "executionInfo": {
     "elapsed": 2,
     "status": "ok",
     "timestamp": 1665574032354,
     "user": {
      "displayName": "Артём Шевляков",
      "userId": "05637357451040981141"
     },
     "user_tz": -300
    },
    "id": "j2ea4S5L8krT",
    "outputId": "3cf3106a-5bd9-46d8-b8d0-2e57a7d4f24c"
   },
   "outputs": [
    {
     "data": {
      "text/plain": [
       "count      31.000000\n",
       "mean       34.338710\n",
       "std       183.678087\n",
       "min         0.000000\n",
       "25%         0.250000\n",
       "50%         1.000000\n",
       "75%         2.000000\n",
       "max      1024.000000\n",
       "Name: Children number, dtype: float64"
      ]
     },
     "execution_count": 11,
     "metadata": {},
     "output_type": "execute_result"
    }
   ],
   "source": [
    "singles['Children number'].describe()"
   ]
  },
  {
   "cell_type": "code",
   "execution_count": null,
   "metadata": {
    "colab": {
     "base_uri": "https://localhost:8080/"
    },
    "executionInfo": {
     "elapsed": 2,
     "status": "ok",
     "timestamp": 1665574043060,
     "user": {
      "displayName": "Артём Шевляков",
      "userId": "05637357451040981141"
     },
     "user_tz": -300
    },
    "id": "kZrC25np8trE",
    "outputId": "e9c7c62c-9cd8-433a-e91b-14295a3b67eb"
   },
   "outputs": [
    {
     "data": {
      "text/plain": [
       "count    119.000000\n",
       "mean       1.521008\n",
       "std        1.176023\n",
       "min        0.000000\n",
       "25%        1.000000\n",
       "50%        2.000000\n",
       "75%        2.000000\n",
       "max        6.000000\n",
       "Name: Children number, dtype: float64"
      ]
     },
     "execution_count": 12,
     "metadata": {},
     "output_type": "execute_result"
    }
   ],
   "source": [
    "sublings['Children number'].describe()"
   ]
  },
  {
   "cell_type": "code",
   "execution_count": null,
   "metadata": {
    "colab": {
     "base_uri": "https://localhost:8080/"
    },
    "executionInfo": {
     "elapsed": 300,
     "status": "ok",
     "timestamp": 1665574174852,
     "user": {
      "displayName": "Артём Шевляков",
      "userId": "05637357451040981141"
     },
     "user_tz": -300
    },
    "id": "XQslJtvq84m8",
    "outputId": "be4b6e27-6296-4c7f-9561-309f46efd65d"
   },
   "outputs": [
    {
     "name": "stderr",
     "output_type": "stream",
     "text": [
      "/usr/local/lib/python3.7/dist-packages/ipykernel_launcher.py:1: SettingWithCopyWarning: \n",
      "A value is trying to be set on a copy of a slice from a DataFrame.\n",
      "Try using .loc[row_indexer,col_indexer] = value instead\n",
      "\n",
      "See the caveats in the documentation: https://pandas.pydata.org/pandas-docs/stable/user_guide/indexing.html#returning-a-view-versus-a-copy\n",
      "  \"\"\"Entry point for launching an IPython kernel.\n",
      "/usr/local/lib/python3.7/dist-packages/ipykernel_launcher.py:2: SettingWithCopyWarning: \n",
      "A value is trying to be set on a copy of a slice from a DataFrame.\n",
      "Try using .loc[row_indexer,col_indexer] = value instead\n",
      "\n",
      "See the caveats in the documentation: https://pandas.pydata.org/pandas-docs/stable/user_guide/indexing.html#returning-a-view-versus-a-copy\n",
      "  \n"
     ]
    },
    {
     "data": {
      "text/plain": [
       "count     186.000000\n",
       "mean        7.040323\n",
       "std        74.978265\n",
       "min         0.000000\n",
       "25%         1.000000\n",
       "50%         2.000000\n",
       "75%         2.000000\n",
       "max      1024.000000\n",
       "Name: Children number, dtype: float64"
      ]
     },
     "execution_count": 13,
     "metadata": {},
     "output_type": "execute_result"
    }
   ],
   "source": [
    "singles['Children number']=singles['Children number'].fillna(singles['Children number'].median())\n",
    "sublings['Children number']=sublings['Children number'].fillna(sublings['Children number'].median())\n",
    "df_restored1=singles.append(sublings)\n",
    "df_restored1['Children number'].describe()"
   ]
  },
  {
   "cell_type": "code",
   "execution_count": null,
   "metadata": {
    "colab": {
     "base_uri": "https://localhost:8080/"
    },
    "executionInfo": {
     "elapsed": 3,
     "status": "ok",
     "timestamp": 1665574195025,
     "user": {
      "displayName": "Артём Шевляков",
      "userId": "05637357451040981141"
     },
     "user_tz": -300
    },
    "id": "STgQzzuq9S70",
    "outputId": "2e7ed1ef-5886-427d-8239-eda311d8e246"
   },
   "outputs": [
    {
     "data": {
      "text/plain": [
       "count     150.000000\n",
       "mean        8.303333\n",
       "std        83.496552\n",
       "min         0.000000\n",
       "25%         0.625000\n",
       "50%         1.500000\n",
       "75%         2.000000\n",
       "max      1024.000000\n",
       "Name: Children number, dtype: float64"
      ]
     },
     "execution_count": 14,
     "metadata": {},
     "output_type": "execute_result"
    }
   ],
   "source": [
    "df['Children number'].describe()"
   ]
  },
  {
   "cell_type": "code",
   "execution_count": null,
   "metadata": {
    "colab": {
     "base_uri": "https://localhost:8080/"
    },
    "executionInfo": {
     "elapsed": 3,
     "status": "ok",
     "timestamp": 1665573966626,
     "user": {
      "displayName": "Артём Шевляков",
      "userId": "05637357451040981141"
     },
     "user_tz": -300
    },
    "id": "mosHbNQ88ayM",
    "outputId": "4f2900b4-afa6-4408-bbf4-d5fdee6b3be2"
   },
   "outputs": [
    {
     "data": {
      "text/plain": [
       "есть брат                 62\n",
       "есть сестра               55\n",
       "нет ни брата ни сестры    39\n",
       "есть и брат и сестра      30\n",
       "Name: Brother-sister, dtype: int64"
      ]
     },
     "execution_count": 8,
     "metadata": {},
     "output_type": "execute_result"
    }
   ],
   "source": [
    "df['Brother-sister'].value_counts()"
   ]
  },
  {
   "cell_type": "code",
   "execution_count": null,
   "metadata": {
    "colab": {
     "base_uri": "https://localhost:8080/"
    },
    "executionInfo": {
     "elapsed": 2,
     "status": "ok",
     "timestamp": 1665574258077,
     "user": {
      "displayName": "Артём Шевляков",
      "userId": "05637357451040981141"
     },
     "user_tz": -300
    },
    "id": "ZLahH4vG9dpD",
    "outputId": "ef8a6bcc-24cf-4cd9-e959-9ae344d6eb0a"
   },
   "outputs": [
    {
     "data": {
      "text/plain": [
       "36"
      ]
     },
     "execution_count": 15,
     "metadata": {},
     "output_type": "execute_result"
    }
   ],
   "source": [
    "len(df)-df['Children number'].count()"
   ]
  }
 ],
 "metadata": {
  "colab": {
   "authorship_tag": "ABX9TyMnUJ03CDJno/2S7wLhZfPV",
   "mount_file_id": "1xpEcFywt2luCfQXjSuk3mawKKDjF-E4x",
   "provenance": []
  },
  "kernelspec": {
   "display_name": "Python [conda env:base] *",
   "language": "python",
   "name": "conda-base-py"
  },
  "language_info": {
   "codemirror_mode": {
    "name": "ipython",
    "version": 3
   },
   "file_extension": ".py",
   "mimetype": "text/x-python",
   "name": "python",
   "nbconvert_exporter": "python",
   "pygments_lexer": "ipython3",
   "version": "3.13.5"
  }
 },
 "nbformat": 4,
 "nbformat_minor": 4
}
