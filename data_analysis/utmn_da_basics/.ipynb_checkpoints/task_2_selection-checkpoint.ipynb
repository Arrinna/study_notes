{
 "cells": [
  {
   "cell_type": "markdown",
   "metadata": {
    "id": "596PBV94ohOP"
   },
   "source": [
    "# Второе задание"
   ]
  },
  {
   "cell_type": "code",
   "execution_count": null,
   "metadata": {
    "id": "PlMgsZcGongr"
   },
   "outputs": [],
   "source": [
    "import pandas as pd\n",
    "#Это подключение библиотеки рабоы с таблицами (2й способ комментирования кода)"
   ]
  },
  {
   "cell_type": "code",
   "execution_count": null,
   "metadata": {
    "colab": {
     "base_uri": "https://localhost:8080/"
    },
    "executionInfo": {
     "elapsed": 2222,
     "status": "ok",
     "timestamp": 1662096001512,
     "user": {
      "displayName": "Артём Шевляков",
      "userId": "05637357451040981141"
     },
     "user_tz": -360
    },
    "id": "0xkh8yp8otBA",
    "outputId": "9d92abae-4a28-461f-fd63-8bfd5da1c76f"
   },
   "outputs": [
    {
     "name": "stdout",
     "output_type": "stream",
     "text": [
      "<class 'pandas.core.frame.DataFrame'>\n",
      "RangeIndex: 186 entries, 0 to 185\n",
      "Data columns (total 48 columns):\n",
      " #   Column                       Non-Null Count  Dtype  \n",
      "---  ------                       --------------  -----  \n",
      " 0   Age                          186 non-null    int64  \n",
      " 1   Growth                       186 non-null    int64  \n",
      " 2   Shoe size                    186 non-null    int64  \n",
      " 3   Course number                186 non-null    int64  \n",
      " 4   Year of birth                186 non-null    int64  \n",
      " 5   Friend number                186 non-null    int64  \n",
      " 6   Russian rating               186 non-null    int64  \n",
      " 7   Maths rating                 186 non-null    int64  \n",
      " 8   Physics rating               186 non-null    int64  \n",
      " 9   Computer science rating      186 non-null    int64  \n",
      " 10  Chemistry rating             186 non-null    int64  \n",
      " 11  Literature rating            186 non-null    int64  \n",
      " 12  History rating               186 non-null    int64  \n",
      " 13  Geography rating             186 non-null    int64  \n",
      " 14  Biology rating               186 non-null    int64  \n",
      " 15  Foreign language rating      186 non-null    int64  \n",
      " 16  Social science rating        186 non-null    int64  \n",
      " 17  Distance to home km          186 non-null    int64  \n",
      " 18  Minutes to first class       186 non-null    int64  \n",
      " 19  Children number              150 non-null    float64\n",
      " 20  Removed teeth                148 non-null    float64\n",
      " 21  Weight                       157 non-null    float64\n",
      " 22  Glasses                      184 non-null    object \n",
      " 23  Sex                          186 non-null    object \n",
      " 24  Problems in last semester    186 non-null    object \n",
      " 25  Coin                         186 non-null    object \n",
      " 26  Rock paper scissors          186 non-null    object \n",
      " 27  Animal                       186 non-null    object \n",
      " 28  Month of birthday            186 non-null    int64  \n",
      " 29  Your rating in university    186 non-null    object \n",
      " 30  Fastfood                     186 non-null    object \n",
      " 31  Height of 5000 mm            186 non-null    int64  \n",
      " 32  Width of 5000 mm             186 non-null    int64  \n",
      " 33  Putin age                    186 non-null    int64  \n",
      " 34  Army                         186 non-null    object \n",
      " 35  Hostel                       186 non-null    object \n",
      " 36  Hair length                  186 non-null    float64\n",
      " 37  Floor number                 186 non-null    int64  \n",
      " 38  Social network duration min  186 non-null    int64  \n",
      " 39  Chocolate                    186 non-null    object \n",
      " 40  City population              186 non-null    float64\n",
      " 41  Strange people               186 non-null    object \n",
      " 42  Your insitute                186 non-null    object \n",
      " 43  Brother-sister               186 non-null    object \n",
      " 44  Plane seat                   186 non-null    object \n",
      " 45  MIddle and index finger      186 non-null    int64  \n",
      " 46  Middle and ring finger       186 non-null    float64\n",
      " 47  Middle and little finger     186 non-null    float64\n",
      "dtypes: float64(7), int64(26), object(15)\n",
      "memory usage: 69.9+ KB\n"
     ]
    }
   ],
   "source": [
    "df=pd.read_csv('/content/drive/MyDrive/Colab Notebooks/students.csv',delimiter=',')\n",
    "df.info()"
   ]
  },
  {
   "cell_type": "code",
   "execution_count": null,
   "metadata": {
    "colab": {
     "base_uri": "https://localhost:8080/"
    },
    "executionInfo": {
     "elapsed": 545,
     "status": "ok",
     "timestamp": 1662096120212,
     "user": {
      "displayName": "Артём Шевляков",
      "userId": "05637357451040981141"
     },
     "user_tz": -360
    },
    "id": "Zdy-MyONpGp8",
    "outputId": "a93b2668-4d5c-4a61-82d9-aa794d53beeb"
   },
   "outputs": [
    {
     "data": {
      "text/plain": [
       "170.66129032258064"
      ]
     },
     "execution_count": 4,
     "metadata": {},
     "output_type": "execute_result"
    }
   ],
   "source": [
    "df['Growth'].mean()\n",
    "# среднее значение признака"
   ]
  },
  {
   "cell_type": "code",
   "execution_count": null,
   "metadata": {
    "colab": {
     "base_uri": "https://localhost:8080/"
    },
    "executionInfo": {
     "elapsed": 16,
     "status": "ok",
     "timestamp": 1662096145225,
     "user": {
      "displayName": "Артём Шевляков",
      "userId": "05637357451040981141"
     },
     "user_tz": -360
    },
    "id": "4zaYdEJBpj8p",
    "outputId": "e4bad486-1083-4113-9f4a-404cefb35c3c"
   },
   "outputs": [
    {
     "data": {
      "text/plain": [
       "count    186.000000\n",
       "mean     170.661290\n",
       "std        9.055881\n",
       "min      153.000000\n",
       "25%      164.000000\n",
       "50%      169.000000\n",
       "75%      178.000000\n",
       "max      197.000000\n",
       "Name: Growth, dtype: float64"
      ]
     },
     "execution_count": 5,
     "metadata": {},
     "output_type": "execute_result"
    }
   ],
   "source": [
    "df['Growth'].describe()"
   ]
  },
  {
   "cell_type": "code",
   "execution_count": null,
   "metadata": {
    "colab": {
     "base_uri": "https://localhost:8080/"
    },
    "executionInfo": {
     "elapsed": 572,
     "status": "ok",
     "timestamp": 1662096181466,
     "user": {
      "displayName": "Артём Шевляков",
      "userId": "05637357451040981141"
     },
     "user_tz": -360
    },
    "id": "mrfqQzwxpr6a",
    "outputId": "2cd761e4-4eec-4fa1-f600-1fdab07e2bcb"
   },
   "outputs": [
    {
     "data": {
      "text/plain": [
       "169.0"
      ]
     },
     "execution_count": 6,
     "metadata": {},
     "output_type": "execute_result"
    }
   ],
   "source": [
    "df['Growth'].median()\n",
    "# медиана признака"
   ]
  },
  {
   "cell_type": "code",
   "execution_count": null,
   "metadata": {
    "colab": {
     "base_uri": "https://localhost:8080/"
    },
    "executionInfo": {
     "elapsed": 472,
     "status": "ok",
     "timestamp": 1662096265798,
     "user": {
      "displayName": "Артём Шевляков",
      "userId": "05637357451040981141"
     },
     "user_tz": -360
    },
    "id": "44qplu5Ip28X",
    "outputId": "f5b084fd-c63c-43ee-cd3d-819165802ae3"
   },
   "outputs": [
    {
     "data": {
      "text/plain": [
       "(153, 197, 9.055880959226972)"
      ]
     },
     "execution_count": 7,
     "metadata": {},
     "output_type": "execute_result"
    }
   ],
   "source": [
    "df['Growth'].min(), df['Growth'].max(), df['Growth'].std() "
   ]
  },
  {
   "cell_type": "markdown",
   "metadata": {
    "id": "ETm-SH0GqU5H"
   },
   "source": [
    "# Смысл квадратных скобок в Питоне\n",
    "\n",
    "Если знак \"точка\" означает начало **просьбы** к \"невидимой сущности\", то смысл квадратных скобок [] такой:\n",
    "\n",
    "[] - это сокращение фразы \"**такие, что**\"  (или: \"то, что относится к...\")"
   ]
  },
  {
   "cell_type": "code",
   "execution_count": null,
   "metadata": {
    "colab": {
     "base_uri": "https://localhost:8080/"
    },
    "executionInfo": {
     "elapsed": 447,
     "status": "ok",
     "timestamp": 1662096601745,
     "user": {
      "displayName": "Артём Шевляков",
      "userId": "05637357451040981141"
     },
     "user_tz": -360
    },
    "id": "nwDHGbpXqsqC",
    "outputId": "77144214-62a4-4f4f-be8c-8420682f2b41"
   },
   "outputs": [
    {
     "data": {
      "text/plain": [
       "0      женский\n",
       "1      мужской\n",
       "2      мужской\n",
       "3      женский\n",
       "4      женский\n",
       "        ...   \n",
       "181    женский\n",
       "182    женский\n",
       "183    женский\n",
       "184    женский\n",
       "185    женский\n",
       "Name: Sex, Length: 186, dtype: object"
      ]
     },
     "execution_count": 8,
     "metadata": {},
     "output_type": "execute_result"
    }
   ],
   "source": [
    "df['Sex']\n",
    "# взять из таблицы df то, что относится к признаку Sex"
   ]
  },
  {
   "cell_type": "code",
   "execution_count": null,
   "metadata": {
    "id": "SRzzAl6yrYYT"
   },
   "outputs": [],
   "source": [
    "# как в таблице оставить несколько столбцов\n",
    "df_cut=df[['Growth', 'Weight', 'Sex', 'Age']]"
   ]
  },
  {
   "cell_type": "code",
   "execution_count": null,
   "metadata": {
    "id": "wtfd-jcc6kph"
   },
   "outputs": [],
   "source": [
    "df_cut=df[['Sex','Age']]\n",
    "# в таблицу df_cut скопированы столбцы призанков 'Sex' и 'Age' таблицы df "
   ]
  },
  {
   "cell_type": "code",
   "execution_count": null,
   "metadata": {
    "colab": {
     "base_uri": "https://localhost:8080/",
     "height": 206
    },
    "executionInfo": {
     "elapsed": 28,
     "status": "ok",
     "timestamp": 1662096805103,
     "user": {
      "displayName": "Артём Шевляков",
      "userId": "05637357451040981141"
     },
     "user_tz": -360
    },
    "id": "1PKeSJchrdqX",
    "outputId": "c6357647-b8f2-487e-8ae8-c801b9778e69"
   },
   "outputs": [
    {
     "data": {
      "text/html": [
       "\n",
       "  <div id=\"df-348c4595-918f-49fb-aebc-4e672a8aa0d8\">\n",
       "    <div class=\"colab-df-container\">\n",
       "      <div>\n",
       "<style scoped>\n",
       "    .dataframe tbody tr th:only-of-type {\n",
       "        vertical-align: middle;\n",
       "    }\n",
       "\n",
       "    .dataframe tbody tr th {\n",
       "        vertical-align: top;\n",
       "    }\n",
       "\n",
       "    .dataframe thead th {\n",
       "        text-align: right;\n",
       "    }\n",
       "</style>\n",
       "<table border=\"1\" class=\"dataframe\">\n",
       "  <thead>\n",
       "    <tr style=\"text-align: right;\">\n",
       "      <th></th>\n",
       "      <th>Growth</th>\n",
       "      <th>Weight</th>\n",
       "      <th>Sex</th>\n",
       "      <th>Age</th>\n",
       "    </tr>\n",
       "  </thead>\n",
       "  <tbody>\n",
       "    <tr>\n",
       "      <th>0</th>\n",
       "      <td>170</td>\n",
       "      <td>64.0</td>\n",
       "      <td>женский</td>\n",
       "      <td>20</td>\n",
       "    </tr>\n",
       "    <tr>\n",
       "      <th>1</th>\n",
       "      <td>191</td>\n",
       "      <td>73.0</td>\n",
       "      <td>мужской</td>\n",
       "      <td>22</td>\n",
       "    </tr>\n",
       "    <tr>\n",
       "      <th>2</th>\n",
       "      <td>172</td>\n",
       "      <td>60.0</td>\n",
       "      <td>мужской</td>\n",
       "      <td>21</td>\n",
       "    </tr>\n",
       "    <tr>\n",
       "      <th>3</th>\n",
       "      <td>168</td>\n",
       "      <td>59.0</td>\n",
       "      <td>женский</td>\n",
       "      <td>19</td>\n",
       "    </tr>\n",
       "    <tr>\n",
       "      <th>4</th>\n",
       "      <td>159</td>\n",
       "      <td>57.0</td>\n",
       "      <td>женский</td>\n",
       "      <td>23</td>\n",
       "    </tr>\n",
       "  </tbody>\n",
       "</table>\n",
       "</div>\n",
       "      <button class=\"colab-df-convert\" onclick=\"convertToInteractive('df-348c4595-918f-49fb-aebc-4e672a8aa0d8')\"\n",
       "              title=\"Convert this dataframe to an interactive table.\"\n",
       "              style=\"display:none;\">\n",
       "        \n",
       "  <svg xmlns=\"http://www.w3.org/2000/svg\" height=\"24px\"viewBox=\"0 0 24 24\"\n",
       "       width=\"24px\">\n",
       "    <path d=\"M0 0h24v24H0V0z\" fill=\"none\"/>\n",
       "    <path d=\"M18.56 5.44l.94 2.06.94-2.06 2.06-.94-2.06-.94-.94-2.06-.94 2.06-2.06.94zm-11 1L8.5 8.5l.94-2.06 2.06-.94-2.06-.94L8.5 2.5l-.94 2.06-2.06.94zm10 10l.94 2.06.94-2.06 2.06-.94-2.06-.94-.94-2.06-.94 2.06-2.06.94z\"/><path d=\"M17.41 7.96l-1.37-1.37c-.4-.4-.92-.59-1.43-.59-.52 0-1.04.2-1.43.59L10.3 9.45l-7.72 7.72c-.78.78-.78 2.05 0 2.83L4 21.41c.39.39.9.59 1.41.59.51 0 1.02-.2 1.41-.59l7.78-7.78 2.81-2.81c.8-.78.8-2.07 0-2.86zM5.41 20L4 18.59l7.72-7.72 1.47 1.35L5.41 20z\"/>\n",
       "  </svg>\n",
       "      </button>\n",
       "      \n",
       "  <style>\n",
       "    .colab-df-container {\n",
       "      display:flex;\n",
       "      flex-wrap:wrap;\n",
       "      gap: 12px;\n",
       "    }\n",
       "\n",
       "    .colab-df-convert {\n",
       "      background-color: #E8F0FE;\n",
       "      border: none;\n",
       "      border-radius: 50%;\n",
       "      cursor: pointer;\n",
       "      display: none;\n",
       "      fill: #1967D2;\n",
       "      height: 32px;\n",
       "      padding: 0 0 0 0;\n",
       "      width: 32px;\n",
       "    }\n",
       "\n",
       "    .colab-df-convert:hover {\n",
       "      background-color: #E2EBFA;\n",
       "      box-shadow: 0px 1px 2px rgba(60, 64, 67, 0.3), 0px 1px 3px 1px rgba(60, 64, 67, 0.15);\n",
       "      fill: #174EA6;\n",
       "    }\n",
       "\n",
       "    [theme=dark] .colab-df-convert {\n",
       "      background-color: #3B4455;\n",
       "      fill: #D2E3FC;\n",
       "    }\n",
       "\n",
       "    [theme=dark] .colab-df-convert:hover {\n",
       "      background-color: #434B5C;\n",
       "      box-shadow: 0px 1px 3px 1px rgba(0, 0, 0, 0.15);\n",
       "      filter: drop-shadow(0px 1px 2px rgba(0, 0, 0, 0.3));\n",
       "      fill: #FFFFFF;\n",
       "    }\n",
       "  </style>\n",
       "\n",
       "      <script>\n",
       "        const buttonEl =\n",
       "          document.querySelector('#df-348c4595-918f-49fb-aebc-4e672a8aa0d8 button.colab-df-convert');\n",
       "        buttonEl.style.display =\n",
       "          google.colab.kernel.accessAllowed ? 'block' : 'none';\n",
       "\n",
       "        async function convertToInteractive(key) {\n",
       "          const element = document.querySelector('#df-348c4595-918f-49fb-aebc-4e672a8aa0d8');\n",
       "          const dataTable =\n",
       "            await google.colab.kernel.invokeFunction('convertToInteractive',\n",
       "                                                     [key], {});\n",
       "          if (!dataTable) return;\n",
       "\n",
       "          const docLinkHtml = 'Like what you see? Visit the ' +\n",
       "            '<a target=\"_blank\" href=https://colab.research.google.com/notebooks/data_table.ipynb>data table notebook</a>'\n",
       "            + ' to learn more about interactive tables.';\n",
       "          element.innerHTML = '';\n",
       "          dataTable['output_type'] = 'display_data';\n",
       "          await google.colab.output.renderOutput(dataTable, element);\n",
       "          const docLink = document.createElement('div');\n",
       "          docLink.innerHTML = docLinkHtml;\n",
       "          element.appendChild(docLink);\n",
       "        }\n",
       "      </script>\n",
       "    </div>\n",
       "  </div>\n",
       "  "
      ],
      "text/plain": [
       "   Growth  Weight      Sex  Age\n",
       "0     170    64.0  женский   20\n",
       "1     191    73.0  мужской   22\n",
       "2     172    60.0  мужской   21\n",
       "3     168    59.0  женский   19\n",
       "4     159    57.0  женский   23"
      ]
     },
     "execution_count": 13,
     "metadata": {},
     "output_type": "execute_result"
    }
   ],
   "source": [
    "df_cut.head()"
   ]
  },
  {
   "cell_type": "code",
   "execution_count": null,
   "metadata": {
    "id": "uAQYSomLslmx"
   },
   "outputs": [],
   "source": [
    "#Как сделать новую таблицу, в которой будут все женщины из df?\n",
    "#df[у кого пол женский]\n",
    "female=df[df['Sex']=='женский']\n",
    "# == оператор проверки на равенство"
   ]
  },
  {
   "cell_type": "code",
   "execution_count": null,
   "metadata": {
    "colab": {
     "base_uri": "https://localhost:8080/",
     "height": 542
    },
    "executionInfo": {
     "elapsed": 513,
     "status": "ok",
     "timestamp": 1662097232324,
     "user": {
      "displayName": "Артём Шевляков",
      "userId": "05637357451040981141"
     },
     "user_tz": -360
    },
    "id": "txnfscBVtuz2",
    "outputId": "34138702-1fe2-4b6d-e5ad-e91860d63915"
   },
   "outputs": [
    {
     "data": {
      "text/html": [
       "\n",
       "  <div id=\"df-00169ace-63ea-405f-a3f6-422aa4884ef5\">\n",
       "    <div class=\"colab-df-container\">\n",
       "      <div>\n",
       "<style scoped>\n",
       "    .dataframe tbody tr th:only-of-type {\n",
       "        vertical-align: middle;\n",
       "    }\n",
       "\n",
       "    .dataframe tbody tr th {\n",
       "        vertical-align: top;\n",
       "    }\n",
       "\n",
       "    .dataframe thead th {\n",
       "        text-align: right;\n",
       "    }\n",
       "</style>\n",
       "<table border=\"1\" class=\"dataframe\">\n",
       "  <thead>\n",
       "    <tr style=\"text-align: right;\">\n",
       "      <th></th>\n",
       "      <th>Age</th>\n",
       "      <th>Growth</th>\n",
       "      <th>Shoe size</th>\n",
       "      <th>Course number</th>\n",
       "      <th>Year of birth</th>\n",
       "      <th>Friend number</th>\n",
       "      <th>Russian rating</th>\n",
       "      <th>Maths rating</th>\n",
       "      <th>Physics rating</th>\n",
       "      <th>Computer science rating</th>\n",
       "      <th>...</th>\n",
       "      <th>Social network duration min</th>\n",
       "      <th>Chocolate</th>\n",
       "      <th>City population</th>\n",
       "      <th>Strange people</th>\n",
       "      <th>Your insitute</th>\n",
       "      <th>Brother-sister</th>\n",
       "      <th>Plane seat</th>\n",
       "      <th>MIddle and index finger</th>\n",
       "      <th>Middle and ring finger</th>\n",
       "      <th>Middle and little finger</th>\n",
       "    </tr>\n",
       "  </thead>\n",
       "  <tbody>\n",
       "    <tr>\n",
       "      <th>0</th>\n",
       "      <td>20</td>\n",
       "      <td>170</td>\n",
       "      <td>40</td>\n",
       "      <td>2</td>\n",
       "      <td>2002</td>\n",
       "      <td>100</td>\n",
       "      <td>85</td>\n",
       "      <td>86</td>\n",
       "      <td>0</td>\n",
       "      <td>84</td>\n",
       "      <td>...</td>\n",
       "      <td>45</td>\n",
       "      <td>Сникерс</td>\n",
       "      <td>800000.0</td>\n",
       "      <td>Экономический</td>\n",
       "      <td>Математический и ИТ</td>\n",
       "      <td>нет ни брата ни сестры</td>\n",
       "      <td>У окна (пардон: у иллюминатора)</td>\n",
       "      <td>20</td>\n",
       "      <td>10.0</td>\n",
       "      <td>40.0</td>\n",
       "    </tr>\n",
       "    <tr>\n",
       "      <th>3</th>\n",
       "      <td>19</td>\n",
       "      <td>168</td>\n",
       "      <td>38</td>\n",
       "      <td>2</td>\n",
       "      <td>2003</td>\n",
       "      <td>604</td>\n",
       "      <td>72</td>\n",
       "      <td>0</td>\n",
       "      <td>0</td>\n",
       "      <td>0</td>\n",
       "      <td>...</td>\n",
       "      <td>200</td>\n",
       "      <td>Баунти</td>\n",
       "      <td>900000.0</td>\n",
       "      <td>СоцГум</td>\n",
       "      <td>Юридический</td>\n",
       "      <td>есть сестра</td>\n",
       "      <td>У окна (пардон: у иллюминатора)</td>\n",
       "      <td>12</td>\n",
       "      <td>13.5</td>\n",
       "      <td>35.0</td>\n",
       "    </tr>\n",
       "    <tr>\n",
       "      <th>4</th>\n",
       "      <td>23</td>\n",
       "      <td>159</td>\n",
       "      <td>36</td>\n",
       "      <td>1</td>\n",
       "      <td>1998</td>\n",
       "      <td>144</td>\n",
       "      <td>0</td>\n",
       "      <td>0</td>\n",
       "      <td>0</td>\n",
       "      <td>0</td>\n",
       "      <td>...</td>\n",
       "      <td>400</td>\n",
       "      <td>Баунти</td>\n",
       "      <td>860000.0</td>\n",
       "      <td>Педагогический</td>\n",
       "      <td>Педагогический</td>\n",
       "      <td>есть сестра</td>\n",
       "      <td>У окна (пардон: у иллюминатора)</td>\n",
       "      <td>10</td>\n",
       "      <td>11.0</td>\n",
       "      <td>22.0</td>\n",
       "    </tr>\n",
       "    <tr>\n",
       "      <th>9</th>\n",
       "      <td>22</td>\n",
       "      <td>168</td>\n",
       "      <td>38</td>\n",
       "      <td>6</td>\n",
       "      <td>2000</td>\n",
       "      <td>297</td>\n",
       "      <td>71</td>\n",
       "      <td>5</td>\n",
       "      <td>0</td>\n",
       "      <td>0</td>\n",
       "      <td>...</td>\n",
       "      <td>40</td>\n",
       "      <td>Милки Вей</td>\n",
       "      <td>860.0</td>\n",
       "      <td>Математический и ИТ</td>\n",
       "      <td>СоцГум</td>\n",
       "      <td>есть брат</td>\n",
       "      <td>У окна (пардон: у иллюминатора)</td>\n",
       "      <td>15</td>\n",
       "      <td>10.0</td>\n",
       "      <td>40.0</td>\n",
       "    </tr>\n",
       "    <tr>\n",
       "      <th>10</th>\n",
       "      <td>20</td>\n",
       "      <td>158</td>\n",
       "      <td>35</td>\n",
       "      <td>4</td>\n",
       "      <td>2001</td>\n",
       "      <td>1000</td>\n",
       "      <td>85</td>\n",
       "      <td>72</td>\n",
       "      <td>0</td>\n",
       "      <td>0</td>\n",
       "      <td>...</td>\n",
       "      <td>600</td>\n",
       "      <td>КитКат</td>\n",
       "      <td>800000.0</td>\n",
       "      <td>Педагогический</td>\n",
       "      <td>Естественный (биология-химия-физика-технари)</td>\n",
       "      <td>есть и брат и сестра</td>\n",
       "      <td>У прохода</td>\n",
       "      <td>10</td>\n",
       "      <td>9.0</td>\n",
       "      <td>15.0</td>\n",
       "    </tr>\n",
       "  </tbody>\n",
       "</table>\n",
       "<p>5 rows × 48 columns</p>\n",
       "</div>\n",
       "      <button class=\"colab-df-convert\" onclick=\"convertToInteractive('df-00169ace-63ea-405f-a3f6-422aa4884ef5')\"\n",
       "              title=\"Convert this dataframe to an interactive table.\"\n",
       "              style=\"display:none;\">\n",
       "        \n",
       "  <svg xmlns=\"http://www.w3.org/2000/svg\" height=\"24px\"viewBox=\"0 0 24 24\"\n",
       "       width=\"24px\">\n",
       "    <path d=\"M0 0h24v24H0V0z\" fill=\"none\"/>\n",
       "    <path d=\"M18.56 5.44l.94 2.06.94-2.06 2.06-.94-2.06-.94-.94-2.06-.94 2.06-2.06.94zm-11 1L8.5 8.5l.94-2.06 2.06-.94-2.06-.94L8.5 2.5l-.94 2.06-2.06.94zm10 10l.94 2.06.94-2.06 2.06-.94-2.06-.94-.94-2.06-.94 2.06-2.06.94z\"/><path d=\"M17.41 7.96l-1.37-1.37c-.4-.4-.92-.59-1.43-.59-.52 0-1.04.2-1.43.59L10.3 9.45l-7.72 7.72c-.78.78-.78 2.05 0 2.83L4 21.41c.39.39.9.59 1.41.59.51 0 1.02-.2 1.41-.59l7.78-7.78 2.81-2.81c.8-.78.8-2.07 0-2.86zM5.41 20L4 18.59l7.72-7.72 1.47 1.35L5.41 20z\"/>\n",
       "  </svg>\n",
       "      </button>\n",
       "      \n",
       "  <style>\n",
       "    .colab-df-container {\n",
       "      display:flex;\n",
       "      flex-wrap:wrap;\n",
       "      gap: 12px;\n",
       "    }\n",
       "\n",
       "    .colab-df-convert {\n",
       "      background-color: #E8F0FE;\n",
       "      border: none;\n",
       "      border-radius: 50%;\n",
       "      cursor: pointer;\n",
       "      display: none;\n",
       "      fill: #1967D2;\n",
       "      height: 32px;\n",
       "      padding: 0 0 0 0;\n",
       "      width: 32px;\n",
       "    }\n",
       "\n",
       "    .colab-df-convert:hover {\n",
       "      background-color: #E2EBFA;\n",
       "      box-shadow: 0px 1px 2px rgba(60, 64, 67, 0.3), 0px 1px 3px 1px rgba(60, 64, 67, 0.15);\n",
       "      fill: #174EA6;\n",
       "    }\n",
       "\n",
       "    [theme=dark] .colab-df-convert {\n",
       "      background-color: #3B4455;\n",
       "      fill: #D2E3FC;\n",
       "    }\n",
       "\n",
       "    [theme=dark] .colab-df-convert:hover {\n",
       "      background-color: #434B5C;\n",
       "      box-shadow: 0px 1px 3px 1px rgba(0, 0, 0, 0.15);\n",
       "      filter: drop-shadow(0px 1px 2px rgba(0, 0, 0, 0.3));\n",
       "      fill: #FFFFFF;\n",
       "    }\n",
       "  </style>\n",
       "\n",
       "      <script>\n",
       "        const buttonEl =\n",
       "          document.querySelector('#df-00169ace-63ea-405f-a3f6-422aa4884ef5 button.colab-df-convert');\n",
       "        buttonEl.style.display =\n",
       "          google.colab.kernel.accessAllowed ? 'block' : 'none';\n",
       "\n",
       "        async function convertToInteractive(key) {\n",
       "          const element = document.querySelector('#df-00169ace-63ea-405f-a3f6-422aa4884ef5');\n",
       "          const dataTable =\n",
       "            await google.colab.kernel.invokeFunction('convertToInteractive',\n",
       "                                                     [key], {});\n",
       "          if (!dataTable) return;\n",
       "\n",
       "          const docLinkHtml = 'Like what you see? Visit the ' +\n",
       "            '<a target=\"_blank\" href=https://colab.research.google.com/notebooks/data_table.ipynb>data table notebook</a>'\n",
       "            + ' to learn more about interactive tables.';\n",
       "          element.innerHTML = '';\n",
       "          dataTable['output_type'] = 'display_data';\n",
       "          await google.colab.output.renderOutput(dataTable, element);\n",
       "          const docLink = document.createElement('div');\n",
       "          docLink.innerHTML = docLinkHtml;\n",
       "          element.appendChild(docLink);\n",
       "        }\n",
       "      </script>\n",
       "    </div>\n",
       "  </div>\n",
       "  "
      ],
      "text/plain": [
       "    Age  Growth  Shoe size  Course number  Year of birth  Friend number  \\\n",
       "0    20     170         40              2           2002            100   \n",
       "3    19     168         38              2           2003            604   \n",
       "4    23     159         36              1           1998            144   \n",
       "9    22     168         38              6           2000            297   \n",
       "10   20     158         35              4           2001           1000   \n",
       "\n",
       "    Russian rating  Maths rating  Physics rating  Computer science rating  \\\n",
       "0               85            86               0                       84   \n",
       "3               72             0               0                        0   \n",
       "4                0             0               0                        0   \n",
       "9               71             5               0                        0   \n",
       "10              85            72               0                        0   \n",
       "\n",
       "    ...  Social network duration min  Chocolate  City population  \\\n",
       "0   ...                           45    Сникерс         800000.0   \n",
       "3   ...                          200     Баунти         900000.0   \n",
       "4   ...                          400     Баунти         860000.0   \n",
       "9   ...                           40  Милки Вей            860.0   \n",
       "10  ...                          600     КитКат         800000.0   \n",
       "\n",
       "         Strange people                                 Your insitute  \\\n",
       "0         Экономический                           Математический и ИТ   \n",
       "3                СоцГум                                   Юридический   \n",
       "4        Педагогический                                Педагогический   \n",
       "9   Математический и ИТ                                        СоцГум   \n",
       "10       Педагогический  Естественный (биология-химия-физика-технари)   \n",
       "\n",
       "            Brother-sister                       Plane seat  \\\n",
       "0   нет ни брата ни сестры  У окна (пардон: у иллюминатора)   \n",
       "3              есть сестра  У окна (пардон: у иллюминатора)   \n",
       "4              есть сестра  У окна (пардон: у иллюминатора)   \n",
       "9                есть брат  У окна (пардон: у иллюминатора)   \n",
       "10    есть и брат и сестра                        У прохода   \n",
       "\n",
       "    MIddle and index finger  Middle and ring finger  Middle and little finger  \n",
       "0                        20                    10.0                      40.0  \n",
       "3                        12                    13.5                      35.0  \n",
       "4                        10                    11.0                      22.0  \n",
       "9                        15                    10.0                      40.0  \n",
       "10                       10                     9.0                      15.0  \n",
       "\n",
       "[5 rows x 48 columns]"
      ]
     },
     "execution_count": 16,
     "metadata": {},
     "output_type": "execute_result"
    }
   ],
   "source": [
    "female.head()"
   ]
  },
  {
   "cell_type": "code",
   "execution_count": null,
   "metadata": {
    "colab": {
     "base_uri": "https://localhost:8080/",
     "height": 542
    },
    "executionInfo": {
     "elapsed": 546,
     "status": "ok",
     "timestamp": 1662097302036,
     "user": {
      "displayName": "Артём Шевляков",
      "userId": "05637357451040981141"
     },
     "user_tz": -360
    },
    "id": "Htep_94st5sc",
    "outputId": "9c9c8372-a785-4073-b4c5-3f3974e1b791"
   },
   "outputs": [
    {
     "data": {
      "text/html": [
       "\n",
       "  <div id=\"df-ab72767c-660c-49b3-b5d5-69a8a7884c68\">\n",
       "    <div class=\"colab-df-container\">\n",
       "      <div>\n",
       "<style scoped>\n",
       "    .dataframe tbody tr th:only-of-type {\n",
       "        vertical-align: middle;\n",
       "    }\n",
       "\n",
       "    .dataframe tbody tr th {\n",
       "        vertical-align: top;\n",
       "    }\n",
       "\n",
       "    .dataframe thead th {\n",
       "        text-align: right;\n",
       "    }\n",
       "</style>\n",
       "<table border=\"1\" class=\"dataframe\">\n",
       "  <thead>\n",
       "    <tr style=\"text-align: right;\">\n",
       "      <th></th>\n",
       "      <th>Age</th>\n",
       "      <th>Growth</th>\n",
       "      <th>Shoe size</th>\n",
       "      <th>Course number</th>\n",
       "      <th>Year of birth</th>\n",
       "      <th>Friend number</th>\n",
       "      <th>Russian rating</th>\n",
       "      <th>Maths rating</th>\n",
       "      <th>Physics rating</th>\n",
       "      <th>Computer science rating</th>\n",
       "      <th>...</th>\n",
       "      <th>Social network duration min</th>\n",
       "      <th>Chocolate</th>\n",
       "      <th>City population</th>\n",
       "      <th>Strange people</th>\n",
       "      <th>Your insitute</th>\n",
       "      <th>Brother-sister</th>\n",
       "      <th>Plane seat</th>\n",
       "      <th>MIddle and index finger</th>\n",
       "      <th>Middle and ring finger</th>\n",
       "      <th>Middle and little finger</th>\n",
       "    </tr>\n",
       "  </thead>\n",
       "  <tbody>\n",
       "    <tr>\n",
       "      <th>1</th>\n",
       "      <td>22</td>\n",
       "      <td>191</td>\n",
       "      <td>43</td>\n",
       "      <td>7</td>\n",
       "      <td>2000</td>\n",
       "      <td>307</td>\n",
       "      <td>69</td>\n",
       "      <td>74</td>\n",
       "      <td>64</td>\n",
       "      <td>72</td>\n",
       "      <td>...</td>\n",
       "      <td>180</td>\n",
       "      <td>КитКат</td>\n",
       "      <td>800000.0</td>\n",
       "      <td>Математический и ИТ</td>\n",
       "      <td>Математический и ИТ</td>\n",
       "      <td>есть и брат и сестра</td>\n",
       "      <td>В середине</td>\n",
       "      <td>5</td>\n",
       "      <td>5.0</td>\n",
       "      <td>20.0</td>\n",
       "    </tr>\n",
       "    <tr>\n",
       "      <th>2</th>\n",
       "      <td>21</td>\n",
       "      <td>172</td>\n",
       "      <td>41</td>\n",
       "      <td>4</td>\n",
       "      <td>2000</td>\n",
       "      <td>186</td>\n",
       "      <td>78</td>\n",
       "      <td>62</td>\n",
       "      <td>0</td>\n",
       "      <td>0</td>\n",
       "      <td>...</td>\n",
       "      <td>90</td>\n",
       "      <td>КитКат</td>\n",
       "      <td>770000.0</td>\n",
       "      <td>Педагогический</td>\n",
       "      <td>Другое</td>\n",
       "      <td>есть брат</td>\n",
       "      <td>У окна (пардон: у иллюминатора)</td>\n",
       "      <td>13</td>\n",
       "      <td>10.0</td>\n",
       "      <td>26.0</td>\n",
       "    </tr>\n",
       "    <tr>\n",
       "      <th>5</th>\n",
       "      <td>18</td>\n",
       "      <td>177</td>\n",
       "      <td>40</td>\n",
       "      <td>2</td>\n",
       "      <td>2003</td>\n",
       "      <td>100</td>\n",
       "      <td>70</td>\n",
       "      <td>68</td>\n",
       "      <td>0</td>\n",
       "      <td>75</td>\n",
       "      <td>...</td>\n",
       "      <td>250</td>\n",
       "      <td>Сникерс</td>\n",
       "      <td>1200000.0</td>\n",
       "      <td>СоцГум</td>\n",
       "      <td>Математический и ИТ</td>\n",
       "      <td>есть брат</td>\n",
       "      <td>У окна (пардон: у иллюминатора)</td>\n",
       "      <td>12</td>\n",
       "      <td>7.0</td>\n",
       "      <td>30.0</td>\n",
       "    </tr>\n",
       "    <tr>\n",
       "      <th>6</th>\n",
       "      <td>18</td>\n",
       "      <td>180</td>\n",
       "      <td>42</td>\n",
       "      <td>0</td>\n",
       "      <td>2004</td>\n",
       "      <td>0</td>\n",
       "      <td>66</td>\n",
       "      <td>4</td>\n",
       "      <td>0</td>\n",
       "      <td>0</td>\n",
       "      <td>...</td>\n",
       "      <td>30</td>\n",
       "      <td>Сникерс</td>\n",
       "      <td>700000.0</td>\n",
       "      <td>Педагогический</td>\n",
       "      <td>Юридический</td>\n",
       "      <td>есть брат</td>\n",
       "      <td>У окна (пардон: у иллюминатора)</td>\n",
       "      <td>5</td>\n",
       "      <td>30.0</td>\n",
       "      <td>35.0</td>\n",
       "    </tr>\n",
       "    <tr>\n",
       "      <th>7</th>\n",
       "      <td>19</td>\n",
       "      <td>180</td>\n",
       "      <td>48</td>\n",
       "      <td>1</td>\n",
       "      <td>2003</td>\n",
       "      <td>5</td>\n",
       "      <td>72</td>\n",
       "      <td>0</td>\n",
       "      <td>0</td>\n",
       "      <td>0</td>\n",
       "      <td>...</td>\n",
       "      <td>240</td>\n",
       "      <td>Баунти</td>\n",
       "      <td>880000.0</td>\n",
       "      <td>Естественный (биология-химия-физика-технари)</td>\n",
       "      <td>Юридический</td>\n",
       "      <td>есть брат</td>\n",
       "      <td>У окна (пардон: у иллюминатора)</td>\n",
       "      <td>7</td>\n",
       "      <td>5.0</td>\n",
       "      <td>25.0</td>\n",
       "    </tr>\n",
       "  </tbody>\n",
       "</table>\n",
       "<p>5 rows × 48 columns</p>\n",
       "</div>\n",
       "      <button class=\"colab-df-convert\" onclick=\"convertToInteractive('df-ab72767c-660c-49b3-b5d5-69a8a7884c68')\"\n",
       "              title=\"Convert this dataframe to an interactive table.\"\n",
       "              style=\"display:none;\">\n",
       "        \n",
       "  <svg xmlns=\"http://www.w3.org/2000/svg\" height=\"24px\"viewBox=\"0 0 24 24\"\n",
       "       width=\"24px\">\n",
       "    <path d=\"M0 0h24v24H0V0z\" fill=\"none\"/>\n",
       "    <path d=\"M18.56 5.44l.94 2.06.94-2.06 2.06-.94-2.06-.94-.94-2.06-.94 2.06-2.06.94zm-11 1L8.5 8.5l.94-2.06 2.06-.94-2.06-.94L8.5 2.5l-.94 2.06-2.06.94zm10 10l.94 2.06.94-2.06 2.06-.94-2.06-.94-.94-2.06-.94 2.06-2.06.94z\"/><path d=\"M17.41 7.96l-1.37-1.37c-.4-.4-.92-.59-1.43-.59-.52 0-1.04.2-1.43.59L10.3 9.45l-7.72 7.72c-.78.78-.78 2.05 0 2.83L4 21.41c.39.39.9.59 1.41.59.51 0 1.02-.2 1.41-.59l7.78-7.78 2.81-2.81c.8-.78.8-2.07 0-2.86zM5.41 20L4 18.59l7.72-7.72 1.47 1.35L5.41 20z\"/>\n",
       "  </svg>\n",
       "      </button>\n",
       "      \n",
       "  <style>\n",
       "    .colab-df-container {\n",
       "      display:flex;\n",
       "      flex-wrap:wrap;\n",
       "      gap: 12px;\n",
       "    }\n",
       "\n",
       "    .colab-df-convert {\n",
       "      background-color: #E8F0FE;\n",
       "      border: none;\n",
       "      border-radius: 50%;\n",
       "      cursor: pointer;\n",
       "      display: none;\n",
       "      fill: #1967D2;\n",
       "      height: 32px;\n",
       "      padding: 0 0 0 0;\n",
       "      width: 32px;\n",
       "    }\n",
       "\n",
       "    .colab-df-convert:hover {\n",
       "      background-color: #E2EBFA;\n",
       "      box-shadow: 0px 1px 2px rgba(60, 64, 67, 0.3), 0px 1px 3px 1px rgba(60, 64, 67, 0.15);\n",
       "      fill: #174EA6;\n",
       "    }\n",
       "\n",
       "    [theme=dark] .colab-df-convert {\n",
       "      background-color: #3B4455;\n",
       "      fill: #D2E3FC;\n",
       "    }\n",
       "\n",
       "    [theme=dark] .colab-df-convert:hover {\n",
       "      background-color: #434B5C;\n",
       "      box-shadow: 0px 1px 3px 1px rgba(0, 0, 0, 0.15);\n",
       "      filter: drop-shadow(0px 1px 2px rgba(0, 0, 0, 0.3));\n",
       "      fill: #FFFFFF;\n",
       "    }\n",
       "  </style>\n",
       "\n",
       "      <script>\n",
       "        const buttonEl =\n",
       "          document.querySelector('#df-ab72767c-660c-49b3-b5d5-69a8a7884c68 button.colab-df-convert');\n",
       "        buttonEl.style.display =\n",
       "          google.colab.kernel.accessAllowed ? 'block' : 'none';\n",
       "\n",
       "        async function convertToInteractive(key) {\n",
       "          const element = document.querySelector('#df-ab72767c-660c-49b3-b5d5-69a8a7884c68');\n",
       "          const dataTable =\n",
       "            await google.colab.kernel.invokeFunction('convertToInteractive',\n",
       "                                                     [key], {});\n",
       "          if (!dataTable) return;\n",
       "\n",
       "          const docLinkHtml = 'Like what you see? Visit the ' +\n",
       "            '<a target=\"_blank\" href=https://colab.research.google.com/notebooks/data_table.ipynb>data table notebook</a>'\n",
       "            + ' to learn more about interactive tables.';\n",
       "          element.innerHTML = '';\n",
       "          dataTable['output_type'] = 'display_data';\n",
       "          await google.colab.output.renderOutput(dataTable, element);\n",
       "          const docLink = document.createElement('div');\n",
       "          docLink.innerHTML = docLinkHtml;\n",
       "          element.appendChild(docLink);\n",
       "        }\n",
       "      </script>\n",
       "    </div>\n",
       "  </div>\n",
       "  "
      ],
      "text/plain": [
       "   Age  Growth  Shoe size  Course number  Year of birth  Friend number  \\\n",
       "1   22     191         43              7           2000            307   \n",
       "2   21     172         41              4           2000            186   \n",
       "5   18     177         40              2           2003            100   \n",
       "6   18     180         42              0           2004              0   \n",
       "7   19     180         48              1           2003              5   \n",
       "\n",
       "   Russian rating  Maths rating  Physics rating  Computer science rating  ...  \\\n",
       "1              69            74              64                       72  ...   \n",
       "2              78            62               0                        0  ...   \n",
       "5              70            68               0                       75  ...   \n",
       "6              66             4               0                        0  ...   \n",
       "7              72             0               0                        0  ...   \n",
       "\n",
       "   Social network duration min  Chocolate  City population  \\\n",
       "1                          180     КитКат         800000.0   \n",
       "2                           90     КитКат         770000.0   \n",
       "5                          250    Сникерс        1200000.0   \n",
       "6                           30    Сникерс         700000.0   \n",
       "7                          240     Баунти         880000.0   \n",
       "\n",
       "                                 Strange people        Your insitute  \\\n",
       "1                           Математический и ИТ  Математический и ИТ   \n",
       "2                                Педагогический               Другое   \n",
       "5                                        СоцГум  Математический и ИТ   \n",
       "6                                Педагогический          Юридический   \n",
       "7  Естественный (биология-химия-физика-технари)          Юридический   \n",
       "\n",
       "         Brother-sister                       Plane seat  \\\n",
       "1  есть и брат и сестра                       В середине   \n",
       "2             есть брат  У окна (пардон: у иллюминатора)   \n",
       "5             есть брат  У окна (пардон: у иллюминатора)   \n",
       "6             есть брат  У окна (пардон: у иллюминатора)   \n",
       "7             есть брат  У окна (пардон: у иллюминатора)   \n",
       "\n",
       "   MIddle and index finger  Middle and ring finger  Middle and little finger  \n",
       "1                        5                     5.0                      20.0  \n",
       "2                       13                    10.0                      26.0  \n",
       "5                       12                     7.0                      30.0  \n",
       "6                        5                    30.0                      35.0  \n",
       "7                        7                     5.0                      25.0  \n",
       "\n",
       "[5 rows x 48 columns]"
      ]
     },
     "execution_count": 17,
     "metadata": {},
     "output_type": "execute_result"
    }
   ],
   "source": [
    "male=df[df['Sex']=='мужской']\n",
    "male.head()"
   ]
  },
  {
   "cell_type": "code",
   "execution_count": null,
   "metadata": {
    "id": "GGtLQqYK7aJF"
   },
   "outputs": [],
   "source": [
    "KFC_people=df[df['Fastfood']=='KFC']\n",
    "# скопировать всех студентов, у которых признак 'Fastfood' равен 'KFC'"
   ]
  },
  {
   "cell_type": "code",
   "execution_count": null,
   "metadata": {
    "colab": {
     "base_uri": "https://localhost:8080/"
    },
    "executionInfo": {
     "elapsed": 24,
     "status": "ok",
     "timestamp": 1662097683477,
     "user": {
      "displayName": "Артём Шевляков",
      "userId": "05637357451040981141"
     },
     "user_tz": -360
    },
    "id": "n6vpLqAqvAI9",
    "outputId": "2cbb172e-ac40-4a7e-d5d8-c5b6db8fc7e0"
   },
   "outputs": [
    {
     "data": {
      "text/plain": [
       "(165.725, 179.63636363636363)"
      ]
     },
     "execution_count": 18,
     "metadata": {},
     "output_type": "execute_result"
    }
   ],
   "source": [
    "# теперь для женщин и мужчин можно посчитать статистические характеристики\n",
    "female['Growth'].mean(),male['Growth'].mean() "
   ]
  },
  {
   "cell_type": "code",
   "execution_count": null,
   "metadata": {
    "colab": {
     "base_uri": "https://localhost:8080/"
    },
    "executionInfo": {
     "elapsed": 450,
     "status": "ok",
     "timestamp": 1662097745152,
     "user": {
      "displayName": "Артём Шевляков",
      "userId": "05637357451040981141"
     },
     "user_tz": -360
    },
    "id": "0oPXkXttvmW7",
    "outputId": "fccb795e-e90c-4800-83fd-f5a440c56fdc"
   },
   "outputs": [
    {
     "data": {
      "text/plain": [
       "(21.033333333333335, 20.060606060606062)"
      ]
     },
     "execution_count": 19,
     "metadata": {},
     "output_type": "execute_result"
    }
   ],
   "source": [
    "female['Age'].mean(),male['Age'].mean() "
   ]
  },
  {
   "cell_type": "code",
   "execution_count": null,
   "metadata": {
    "colab": {
     "base_uri": "https://localhost:8080/"
    },
    "executionInfo": {
     "elapsed": 22,
     "status": "ok",
     "timestamp": 1662097796664,
     "user": {
      "displayName": "Артём Шевляков",
      "userId": "05637357451040981141"
     },
     "user_tz": -360
    },
    "id": "dpz1pNPFv2oU",
    "outputId": "425a217f-e04b-4b22-fbdb-1f4c47489645"
   },
   "outputs": [
    {
     "data": {
      "text/plain": [
       "(20.0, 20.0)"
      ]
     },
     "execution_count": 20,
     "metadata": {},
     "output_type": "execute_result"
    }
   ],
   "source": [
    "female['Age'].median(),male['Age'].median()"
   ]
  },
  {
   "cell_type": "code",
   "execution_count": null,
   "metadata": {
    "colab": {
     "base_uri": "https://localhost:8080/"
    },
    "executionInfo": {
     "elapsed": 22,
     "status": "ok",
     "timestamp": 1662097910760,
     "user": {
      "displayName": "Артём Шевляков",
      "userId": "05637357451040981141"
     },
     "user_tz": -360
    },
    "id": "rfNif-iXwMK0",
    "outputId": "b938595c-1491-4801-ef48-2acab9a9ed13"
   },
   "outputs": [
    {
     "data": {
      "text/plain": [
       "Орел     64\n",
       "Решка    56\n",
       "Name: Coin, dtype: int64"
      ]
     },
     "execution_count": 21,
     "metadata": {},
     "output_type": "execute_result"
    }
   ],
   "source": [
    "female['Coin'].value_counts()"
   ]
  },
  {
   "cell_type": "code",
   "execution_count": null,
   "metadata": {
    "colab": {
     "base_uri": "https://localhost:8080/"
    },
    "executionInfo": {
     "elapsed": 616,
     "status": "ok",
     "timestamp": 1662097942194,
     "user": {
      "displayName": "Артём Шевляков",
      "userId": "05637357451040981141"
     },
     "user_tz": -360
    },
    "id": "r8GBRRVtwX4S",
    "outputId": "3a778e1c-f6b5-4e92-b5cb-d2430d44a3a4"
   },
   "outputs": [
    {
     "data": {
      "text/plain": [
       "Орел     54\n",
       "Решка    12\n",
       "Name: Coin, dtype: int64"
      ]
     },
     "execution_count": 22,
     "metadata": {},
     "output_type": "execute_result"
    }
   ],
   "source": [
    "male['Coin'].value_counts()"
   ]
  },
  {
   "cell_type": "markdown",
   "metadata": {
    "id": "fGbkjhF5uYGt"
   },
   "source": [
    "# Как делать разбиение таблицы и получать выборку данных?\n",
    "(общая схема)\n",
    "\n",
    "\n",
    "1. Узнать имя столбца с ключевым признаком\n",
    "2. Узнать, в каком виде информация храниться в столбце\n",
    "3. Составить выражение вида (если в столбце хранятся строки)\n",
    "\n",
    "```\n",
    "df_new=df[df['имя столбца']=='значение']\n",
    "```\n",
    "\n",
    "4. В последнем выражении символ == (проверка на равенство) можно заменить на != (проверка на не-совпадение).\n",
    "5. Если в столбце храняться числа, то помимо операций ==, != можно применять операции сравнения < (меньше), > (больше), <= (меньше или равно), >= (больше или равно). Числа в кавычки заключать НЕ НАДО:\n",
    "```\n",
    "df_new=df[df['имя столбца с числами']==число]\n",
    "```\n",
    "6. Ух!!! После всего этого таблица df_new содержит нужные вам объекты.\n"
   ]
  },
  {
   "cell_type": "code",
   "execution_count": null,
   "metadata": {
    "id": "ML-uwKm_x1Ss"
   },
   "outputs": [],
   "source": [
    "#разобьем людей на три группы\n",
    "# 1) люди с ростом меньше 165см\n",
    "#2) люди с ростом от 165 до 175\n",
    "#3) с ростом более 175\n",
    "df1=df[df['Growth']<165]\n",
    "df2=df[(165<=df['Growth']) & (df['Growth']<=175)]\n",
    "df3=df[df['Growth']>175]"
   ]
  },
  {
   "cell_type": "code",
   "execution_count": null,
   "metadata": {
    "colab": {
     "base_uri": "https://localhost:8080/"
    },
    "executionInfo": {
     "elapsed": 543,
     "status": "ok",
     "timestamp": 1662098860759,
     "user": {
      "displayName": "Артём Шевляков",
      "userId": "05637357451040981141"
     },
     "user_tz": -360
    },
    "id": "11iJxbiWzz5R",
    "outputId": "ae0905d3-03b2-4606-b159-5c8285058d32"
   },
   "outputs": [
    {
     "data": {
      "text/plain": [
       "(160.66666666666666, 169.16, 182.10526315789474)"
      ]
     },
     "execution_count": 30,
     "metadata": {},
     "output_type": "execute_result"
    }
   ],
   "source": [
    "df1['Growth'].mean(), df2['Growth'].mean(), df3['Growth'].mean()"
   ]
  },
  {
   "cell_type": "code",
   "execution_count": null,
   "metadata": {
    "id": "6d_A1b6n8AEo"
   },
   "outputs": [],
   "source": [
    "teenagers=df[df['Age']<20]\n",
    "# все студенты, у которых возраст строго меньше 20"
   ]
  },
  {
   "cell_type": "code",
   "execution_count": null,
   "metadata": {
    "colab": {
     "base_uri": "https://localhost:8080/"
    },
    "executionInfo": {
     "elapsed": 703,
     "status": "ok",
     "timestamp": 1662099213131,
     "user": {
      "displayName": "Артём Шевляков",
      "userId": "05637357451040981141"
     },
     "user_tz": -360
    },
    "id": "A0gQQS2r0Qvy",
    "outputId": "268dc2fa-b635-40e2-aff1-9d88295c0b8f"
   },
   "outputs": [
    {
     "data": {
      "text/plain": [
       "(102, 48)"
      ]
     },
     "execution_count": 31,
     "metadata": {},
     "output_type": "execute_result"
    }
   ],
   "source": [
    "# теперь решим нетривиальную задачу: найти людей, у которых прошел ДР в момент участия в опросе\n",
    "# df['Age'] df['Year of birth']  работаем с этими признаками\n",
    "#\n",
    "# У человека прошел ДР если df['Age']+df['Year of birth']==2022\n",
    "df[df['Age']+df['Year of birth']==2022].shape"
   ]
  },
  {
   "cell_type": "code",
   "execution_count": null,
   "metadata": {
    "colab": {
     "base_uri": "https://localhost:8080/"
    },
    "executionInfo": {
     "elapsed": 22,
     "status": "ok",
     "timestamp": 1662099562327,
     "user": {
      "displayName": "Артём Шевляков",
      "userId": "05637357451040981141"
     },
     "user_tz": -360
    },
    "id": "XEHXyGVe1b9X",
    "outputId": "40cb2009-30f9-46de-dfbc-b26a94661261"
   },
   "outputs": [
    {
     "data": {
      "text/plain": [
       "(110, 48)"
      ]
     },
     "execution_count": 32,
     "metadata": {},
     "output_type": "execute_result"
    }
   ],
   "source": [
    "#Последний пример показывает, что внутри квадратных скобок вы можете писать сложные выражения с участием арифметических операций\n",
    "# Более того, внутри [] можно писать вызовы других функций\n",
    "# Получим всех людей, у которых рост меньше среднего\n",
    "df[df['Growth']<df['Growth'].mean()].shape"
   ]
  },
  {
   "cell_type": "code",
   "execution_count": null,
   "metadata": {
    "id": "_271TN6l8tdY"
   },
   "outputs": [],
   "source": [
    "slim_personts=df[df['Weight']<df['Weight'].mean()]\n",
    "#все студенты, у которых вес меньше среднего"
   ]
  },
  {
   "cell_type": "code",
   "execution_count": null,
   "metadata": {
    "colab": {
     "base_uri": "https://localhost:8080/",
     "height": 261
    },
    "executionInfo": {
     "elapsed": 480,
     "status": "ok",
     "timestamp": 1662099749236,
     "user": {
      "displayName": "Артём Шевляков",
      "userId": "05637357451040981141"
     },
     "user_tz": -360
    },
    "id": "cv5aTq2l28VT",
    "outputId": "e4df9527-dbbf-41ef-de79-52ce27259c49"
   },
   "outputs": [
    {
     "data": {
      "text/html": [
       "\n",
       "  <div id=\"df-8ceefad3-f4b3-425a-af80-d62363ccce7e\">\n",
       "    <div class=\"colab-df-container\">\n",
       "      <div>\n",
       "<style scoped>\n",
       "    .dataframe tbody tr th:only-of-type {\n",
       "        vertical-align: middle;\n",
       "    }\n",
       "\n",
       "    .dataframe tbody tr th {\n",
       "        vertical-align: top;\n",
       "    }\n",
       "\n",
       "    .dataframe thead th {\n",
       "        text-align: right;\n",
       "    }\n",
       "</style>\n",
       "<table border=\"1\" class=\"dataframe\">\n",
       "  <thead>\n",
       "    <tr style=\"text-align: right;\">\n",
       "      <th></th>\n",
       "      <th>Age</th>\n",
       "      <th>Growth</th>\n",
       "      <th>Shoe size</th>\n",
       "      <th>Course number</th>\n",
       "      <th>Year of birth</th>\n",
       "      <th>Friend number</th>\n",
       "      <th>Russian rating</th>\n",
       "      <th>Maths rating</th>\n",
       "      <th>Physics rating</th>\n",
       "      <th>Computer science rating</th>\n",
       "      <th>...</th>\n",
       "      <th>Social network duration min</th>\n",
       "      <th>Chocolate</th>\n",
       "      <th>City population</th>\n",
       "      <th>Strange people</th>\n",
       "      <th>Your insitute</th>\n",
       "      <th>Brother-sister</th>\n",
       "      <th>Plane seat</th>\n",
       "      <th>MIddle and index finger</th>\n",
       "      <th>Middle and ring finger</th>\n",
       "      <th>Middle and little finger</th>\n",
       "    </tr>\n",
       "  </thead>\n",
       "  <tbody>\n",
       "    <tr>\n",
       "      <th>81</th>\n",
       "      <td>55</td>\n",
       "      <td>160</td>\n",
       "      <td>37</td>\n",
       "      <td>7</td>\n",
       "      <td>1960</td>\n",
       "      <td>2000</td>\n",
       "      <td>0</td>\n",
       "      <td>0</td>\n",
       "      <td>0</td>\n",
       "      <td>0</td>\n",
       "      <td>...</td>\n",
       "      <td>300</td>\n",
       "      <td>Милки Вей</td>\n",
       "      <td>800000.0</td>\n",
       "      <td>СоцГум</td>\n",
       "      <td>Математический и ИТ</td>\n",
       "      <td>есть брат</td>\n",
       "      <td>У окна (пардон: у иллюминатора)</td>\n",
       "      <td>10</td>\n",
       "      <td>10.0</td>\n",
       "      <td>10.0</td>\n",
       "    </tr>\n",
       "  </tbody>\n",
       "</table>\n",
       "<p>1 rows × 48 columns</p>\n",
       "</div>\n",
       "      <button class=\"colab-df-convert\" onclick=\"convertToInteractive('df-8ceefad3-f4b3-425a-af80-d62363ccce7e')\"\n",
       "              title=\"Convert this dataframe to an interactive table.\"\n",
       "              style=\"display:none;\">\n",
       "        \n",
       "  <svg xmlns=\"http://www.w3.org/2000/svg\" height=\"24px\"viewBox=\"0 0 24 24\"\n",
       "       width=\"24px\">\n",
       "    <path d=\"M0 0h24v24H0V0z\" fill=\"none\"/>\n",
       "    <path d=\"M18.56 5.44l.94 2.06.94-2.06 2.06-.94-2.06-.94-.94-2.06-.94 2.06-2.06.94zm-11 1L8.5 8.5l.94-2.06 2.06-.94-2.06-.94L8.5 2.5l-.94 2.06-2.06.94zm10 10l.94 2.06.94-2.06 2.06-.94-2.06-.94-.94-2.06-.94 2.06-2.06.94z\"/><path d=\"M17.41 7.96l-1.37-1.37c-.4-.4-.92-.59-1.43-.59-.52 0-1.04.2-1.43.59L10.3 9.45l-7.72 7.72c-.78.78-.78 2.05 0 2.83L4 21.41c.39.39.9.59 1.41.59.51 0 1.02-.2 1.41-.59l7.78-7.78 2.81-2.81c.8-.78.8-2.07 0-2.86zM5.41 20L4 18.59l7.72-7.72 1.47 1.35L5.41 20z\"/>\n",
       "  </svg>\n",
       "      </button>\n",
       "      \n",
       "  <style>\n",
       "    .colab-df-container {\n",
       "      display:flex;\n",
       "      flex-wrap:wrap;\n",
       "      gap: 12px;\n",
       "    }\n",
       "\n",
       "    .colab-df-convert {\n",
       "      background-color: #E8F0FE;\n",
       "      border: none;\n",
       "      border-radius: 50%;\n",
       "      cursor: pointer;\n",
       "      display: none;\n",
       "      fill: #1967D2;\n",
       "      height: 32px;\n",
       "      padding: 0 0 0 0;\n",
       "      width: 32px;\n",
       "    }\n",
       "\n",
       "    .colab-df-convert:hover {\n",
       "      background-color: #E2EBFA;\n",
       "      box-shadow: 0px 1px 2px rgba(60, 64, 67, 0.3), 0px 1px 3px 1px rgba(60, 64, 67, 0.15);\n",
       "      fill: #174EA6;\n",
       "    }\n",
       "\n",
       "    [theme=dark] .colab-df-convert {\n",
       "      background-color: #3B4455;\n",
       "      fill: #D2E3FC;\n",
       "    }\n",
       "\n",
       "    [theme=dark] .colab-df-convert:hover {\n",
       "      background-color: #434B5C;\n",
       "      box-shadow: 0px 1px 3px 1px rgba(0, 0, 0, 0.15);\n",
       "      filter: drop-shadow(0px 1px 2px rgba(0, 0, 0, 0.3));\n",
       "      fill: #FFFFFF;\n",
       "    }\n",
       "  </style>\n",
       "\n",
       "      <script>\n",
       "        const buttonEl =\n",
       "          document.querySelector('#df-8ceefad3-f4b3-425a-af80-d62363ccce7e button.colab-df-convert');\n",
       "        buttonEl.style.display =\n",
       "          google.colab.kernel.accessAllowed ? 'block' : 'none';\n",
       "\n",
       "        async function convertToInteractive(key) {\n",
       "          const element = document.querySelector('#df-8ceefad3-f4b3-425a-af80-d62363ccce7e');\n",
       "          const dataTable =\n",
       "            await google.colab.kernel.invokeFunction('convertToInteractive',\n",
       "                                                     [key], {});\n",
       "          if (!dataTable) return;\n",
       "\n",
       "          const docLinkHtml = 'Like what you see? Visit the ' +\n",
       "            '<a target=\"_blank\" href=https://colab.research.google.com/notebooks/data_table.ipynb>data table notebook</a>'\n",
       "            + ' to learn more about interactive tables.';\n",
       "          element.innerHTML = '';\n",
       "          dataTable['output_type'] = 'display_data';\n",
       "          await google.colab.output.renderOutput(dataTable, element);\n",
       "          const docLink = document.createElement('div');\n",
       "          docLink.innerHTML = docLinkHtml;\n",
       "          element.appendChild(docLink);\n",
       "        }\n",
       "      </script>\n",
       "    </div>\n",
       "  </div>\n",
       "  "
      ],
      "text/plain": [
       "    Age  Growth  Shoe size  Course number  Year of birth  Friend number  \\\n",
       "81   55     160         37              7           1960           2000   \n",
       "\n",
       "    Russian rating  Maths rating  Physics rating  Computer science rating  \\\n",
       "81               0             0               0                        0   \n",
       "\n",
       "    ...  Social network duration min  Chocolate  City population  \\\n",
       "81  ...                          300  Милки Вей         800000.0   \n",
       "\n",
       "    Strange people        Your insitute  Brother-sister  \\\n",
       "81          СоцГум  Математический и ИТ       есть брат   \n",
       "\n",
       "                         Plane seat  MIddle and index finger  \\\n",
       "81  У окна (пардон: у иллюминатора)                       10   \n",
       "\n",
       "    Middle and ring finger  Middle and little finger  \n",
       "81                    10.0                      10.0  \n",
       "\n",
       "[1 rows x 48 columns]"
      ]
     },
     "execution_count": 33,
     "metadata": {},
     "output_type": "execute_result"
    }
   ],
   "source": [
    "# НАйдем человека с максимальным возрастом и минимальным возрастом\n",
    "df[df['Age']==df['Age'].max()]"
   ]
  },
  {
   "cell_type": "code",
   "execution_count": null,
   "metadata": {
    "colab": {
     "base_uri": "https://localhost:8080/",
     "height": 327
    },
    "executionInfo": {
     "elapsed": 671,
     "status": "ok",
     "timestamp": 1662099800779,
     "user": {
      "displayName": "Артём Шевляков",
      "userId": "05637357451040981141"
     },
     "user_tz": -360
    },
    "id": "0M-7kg-V3dQF",
    "outputId": "b2fe2fc2-5ed2-4c37-d2a6-3526381b7e2c"
   },
   "outputs": [
    {
     "data": {
      "text/html": [
       "\n",
       "  <div id=\"df-d50f10a8-aac2-4d05-a4ee-45d6013e511a\">\n",
       "    <div class=\"colab-df-container\">\n",
       "      <div>\n",
       "<style scoped>\n",
       "    .dataframe tbody tr th:only-of-type {\n",
       "        vertical-align: middle;\n",
       "    }\n",
       "\n",
       "    .dataframe tbody tr th {\n",
       "        vertical-align: top;\n",
       "    }\n",
       "\n",
       "    .dataframe thead th {\n",
       "        text-align: right;\n",
       "    }\n",
       "</style>\n",
       "<table border=\"1\" class=\"dataframe\">\n",
       "  <thead>\n",
       "    <tr style=\"text-align: right;\">\n",
       "      <th></th>\n",
       "      <th>Age</th>\n",
       "      <th>Growth</th>\n",
       "      <th>Shoe size</th>\n",
       "      <th>Course number</th>\n",
       "      <th>Year of birth</th>\n",
       "      <th>Friend number</th>\n",
       "      <th>Russian rating</th>\n",
       "      <th>Maths rating</th>\n",
       "      <th>Physics rating</th>\n",
       "      <th>Computer science rating</th>\n",
       "      <th>...</th>\n",
       "      <th>Social network duration min</th>\n",
       "      <th>Chocolate</th>\n",
       "      <th>City population</th>\n",
       "      <th>Strange people</th>\n",
       "      <th>Your insitute</th>\n",
       "      <th>Brother-sister</th>\n",
       "      <th>Plane seat</th>\n",
       "      <th>MIddle and index finger</th>\n",
       "      <th>Middle and ring finger</th>\n",
       "      <th>Middle and little finger</th>\n",
       "    </tr>\n",
       "  </thead>\n",
       "  <tbody>\n",
       "    <tr>\n",
       "      <th>115</th>\n",
       "      <td>17</td>\n",
       "      <td>175</td>\n",
       "      <td>41</td>\n",
       "      <td>0</td>\n",
       "      <td>2004</td>\n",
       "      <td>152</td>\n",
       "      <td>96</td>\n",
       "      <td>80</td>\n",
       "      <td>0</td>\n",
       "      <td>83</td>\n",
       "      <td>...</td>\n",
       "      <td>1000</td>\n",
       "      <td>КитКат</td>\n",
       "      <td>1.0</td>\n",
       "      <td>СоцГум</td>\n",
       "      <td>Математический и ИТ</td>\n",
       "      <td>нет ни брата ни сестры</td>\n",
       "      <td>У окна (пардон: у иллюминатора)</td>\n",
       "      <td>3</td>\n",
       "      <td>2.0</td>\n",
       "      <td>5.0</td>\n",
       "    </tr>\n",
       "    <tr>\n",
       "      <th>126</th>\n",
       "      <td>17</td>\n",
       "      <td>168</td>\n",
       "      <td>39</td>\n",
       "      <td>0</td>\n",
       "      <td>2004</td>\n",
       "      <td>110</td>\n",
       "      <td>91</td>\n",
       "      <td>72</td>\n",
       "      <td>0</td>\n",
       "      <td>83</td>\n",
       "      <td>...</td>\n",
       "      <td>1000</td>\n",
       "      <td>Марс</td>\n",
       "      <td>800000.0</td>\n",
       "      <td>Экономический</td>\n",
       "      <td>Математический и ИТ</td>\n",
       "      <td>есть брат</td>\n",
       "      <td>У окна (пардон: у иллюминатора)</td>\n",
       "      <td>5</td>\n",
       "      <td>7.0</td>\n",
       "      <td>15.0</td>\n",
       "    </tr>\n",
       "  </tbody>\n",
       "</table>\n",
       "<p>2 rows × 48 columns</p>\n",
       "</div>\n",
       "      <button class=\"colab-df-convert\" onclick=\"convertToInteractive('df-d50f10a8-aac2-4d05-a4ee-45d6013e511a')\"\n",
       "              title=\"Convert this dataframe to an interactive table.\"\n",
       "              style=\"display:none;\">\n",
       "        \n",
       "  <svg xmlns=\"http://www.w3.org/2000/svg\" height=\"24px\"viewBox=\"0 0 24 24\"\n",
       "       width=\"24px\">\n",
       "    <path d=\"M0 0h24v24H0V0z\" fill=\"none\"/>\n",
       "    <path d=\"M18.56 5.44l.94 2.06.94-2.06 2.06-.94-2.06-.94-.94-2.06-.94 2.06-2.06.94zm-11 1L8.5 8.5l.94-2.06 2.06-.94-2.06-.94L8.5 2.5l-.94 2.06-2.06.94zm10 10l.94 2.06.94-2.06 2.06-.94-2.06-.94-.94-2.06-.94 2.06-2.06.94z\"/><path d=\"M17.41 7.96l-1.37-1.37c-.4-.4-.92-.59-1.43-.59-.52 0-1.04.2-1.43.59L10.3 9.45l-7.72 7.72c-.78.78-.78 2.05 0 2.83L4 21.41c.39.39.9.59 1.41.59.51 0 1.02-.2 1.41-.59l7.78-7.78 2.81-2.81c.8-.78.8-2.07 0-2.86zM5.41 20L4 18.59l7.72-7.72 1.47 1.35L5.41 20z\"/>\n",
       "  </svg>\n",
       "      </button>\n",
       "      \n",
       "  <style>\n",
       "    .colab-df-container {\n",
       "      display:flex;\n",
       "      flex-wrap:wrap;\n",
       "      gap: 12px;\n",
       "    }\n",
       "\n",
       "    .colab-df-convert {\n",
       "      background-color: #E8F0FE;\n",
       "      border: none;\n",
       "      border-radius: 50%;\n",
       "      cursor: pointer;\n",
       "      display: none;\n",
       "      fill: #1967D2;\n",
       "      height: 32px;\n",
       "      padding: 0 0 0 0;\n",
       "      width: 32px;\n",
       "    }\n",
       "\n",
       "    .colab-df-convert:hover {\n",
       "      background-color: #E2EBFA;\n",
       "      box-shadow: 0px 1px 2px rgba(60, 64, 67, 0.3), 0px 1px 3px 1px rgba(60, 64, 67, 0.15);\n",
       "      fill: #174EA6;\n",
       "    }\n",
       "\n",
       "    [theme=dark] .colab-df-convert {\n",
       "      background-color: #3B4455;\n",
       "      fill: #D2E3FC;\n",
       "    }\n",
       "\n",
       "    [theme=dark] .colab-df-convert:hover {\n",
       "      background-color: #434B5C;\n",
       "      box-shadow: 0px 1px 3px 1px rgba(0, 0, 0, 0.15);\n",
       "      filter: drop-shadow(0px 1px 2px rgba(0, 0, 0, 0.3));\n",
       "      fill: #FFFFFF;\n",
       "    }\n",
       "  </style>\n",
       "\n",
       "      <script>\n",
       "        const buttonEl =\n",
       "          document.querySelector('#df-d50f10a8-aac2-4d05-a4ee-45d6013e511a button.colab-df-convert');\n",
       "        buttonEl.style.display =\n",
       "          google.colab.kernel.accessAllowed ? 'block' : 'none';\n",
       "\n",
       "        async function convertToInteractive(key) {\n",
       "          const element = document.querySelector('#df-d50f10a8-aac2-4d05-a4ee-45d6013e511a');\n",
       "          const dataTable =\n",
       "            await google.colab.kernel.invokeFunction('convertToInteractive',\n",
       "                                                     [key], {});\n",
       "          if (!dataTable) return;\n",
       "\n",
       "          const docLinkHtml = 'Like what you see? Visit the ' +\n",
       "            '<a target=\"_blank\" href=https://colab.research.google.com/notebooks/data_table.ipynb>data table notebook</a>'\n",
       "            + ' to learn more about interactive tables.';\n",
       "          element.innerHTML = '';\n",
       "          dataTable['output_type'] = 'display_data';\n",
       "          await google.colab.output.renderOutput(dataTable, element);\n",
       "          const docLink = document.createElement('div');\n",
       "          docLink.innerHTML = docLinkHtml;\n",
       "          element.appendChild(docLink);\n",
       "        }\n",
       "      </script>\n",
       "    </div>\n",
       "  </div>\n",
       "  "
      ],
      "text/plain": [
       "     Age  Growth  Shoe size  Course number  Year of birth  Friend number  \\\n",
       "115   17     175         41              0           2004            152   \n",
       "126   17     168         39              0           2004            110   \n",
       "\n",
       "     Russian rating  Maths rating  Physics rating  Computer science rating  \\\n",
       "115              96            80               0                       83   \n",
       "126              91            72               0                       83   \n",
       "\n",
       "     ...  Social network duration min  Chocolate  City population  \\\n",
       "115  ...                         1000     КитКат              1.0   \n",
       "126  ...                         1000       Марс         800000.0   \n",
       "\n",
       "     Strange people        Your insitute          Brother-sister  \\\n",
       "115          СоцГум  Математический и ИТ  нет ни брата ни сестры   \n",
       "126   Экономический  Математический и ИТ               есть брат   \n",
       "\n",
       "                          Plane seat  MIddle and index finger  \\\n",
       "115  У окна (пардон: у иллюминатора)                        3   \n",
       "126  У окна (пардон: у иллюминатора)                        5   \n",
       "\n",
       "     Middle and ring finger  Middle and little finger  \n",
       "115                     2.0                       5.0  \n",
       "126                     7.0                      15.0  \n",
       "\n",
       "[2 rows x 48 columns]"
      ]
     },
     "execution_count": 35,
     "metadata": {},
     "output_type": "execute_result"
    }
   ],
   "source": [
    "df[df['Age']==df['Age'].min()]"
   ]
  }
 ],
 "metadata": {
  "colab": {
   "authorship_tag": "ABX9TyP8CM+JsogwfCoMN9BNWDjc",
   "mount_file_id": "1ub_vvidDTArzRfiZJJLWS6X1x0TiQhTW",
   "provenance": []
  },
  "kernelspec": {
   "display_name": "Python [conda env:base] *",
   "language": "python",
   "name": "conda-base-py"
  },
  "language_info": {
   "codemirror_mode": {
    "name": "ipython",
    "version": 3
   },
   "file_extension": ".py",
   "mimetype": "text/x-python",
   "name": "python",
   "nbconvert_exporter": "python",
   "pygments_lexer": "ipython3",
   "version": "3.13.5"
  }
 },
 "nbformat": 4,
 "nbformat_minor": 4
}
