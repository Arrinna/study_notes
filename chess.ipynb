{
 "cells": [
  {
   "cell_type": "markdown",
   "id": "12064a45",
   "metadata": {},
   "source": [
    "Шпаргалка для всех задач по шахматам:\n",
    "\n",
    "Ход ладьи:\n",
    "x1 == x2 or y1 == y2\n",
    "\n",
    "Ход коня:\n",
    "abs((x1 - x2) * (y1 - y2)) == 2\n",
    "\n",
    "Ход слона:\n",
    "abs(x1 - x2) == abs(y1 - y2)\n",
    "\n",
    "Ход ферзя (слон or ладья):\n",
    "abs(x1 - x2) == abs(y1 - y2) or x1 == x2 or y1 == y2\n",
    "\n",
    "Ход короля:\n",
    "abs(x1 - x2) <= 1 and abs(y1 - y2) <= 1"
   ]
  },
  {
   "cell_type": "code",
   "execution_count": null,
   "id": "bccbc90c",
   "metadata": {},
   "outputs": [],
   "source": [
    "#  Ход ладьи\n",
    "#  x1 == x2 or y1 == y2\n",
    "\n",
    "n = 8\n",
    "m = [list(input()) for _ in range(n)]\n",
    "\n",
    "row, col = [(i, j) for i in range(n) for j in range(n) if m[i][j] == 'T'][0]\n",
    "\n",
    "for i in range(n):\n",
    "    for j in range(n):\n",
    "        if (i == row and j != col) or (j == col and i != row):\n",
    "            m[i][j] = '+'\n",
    "        \n",
    "for row in range(n):\n",
    "    print(*m[row], sep='')"
   ]
  },
  {
   "cell_type": "code",
   "execution_count": null,
   "id": "fac42986",
   "metadata": {},
   "outputs": [],
   "source": [
    "#  Ход слона\n",
    "#  abs(x1 - x2) == abs(y1 - y2)\n",
    "\n",
    "n = 8\n",
    "matrix = [list(input()) for _ in range(n)]\n",
    "\n",
    "row, col = [(i, j) for i in range(n) for j in range(n) if matrix[i][j] == 'S'][0]\n",
    "\n",
    "for i in range(n):\n",
    "    for j in range(n):\n",
    "        if (i != row and j != col) and ((i - j == row - col) or (i + j == row + col)):\n",
    "            matrix[i][j] = '+' \n",
    "        \n",
    "for row in range(n):\n",
    "    print(*matrix[row], sep='')"
   ]
  },
  {
   "cell_type": "code",
   "execution_count": null,
   "id": "442c8d99",
   "metadata": {},
   "outputs": [],
   "source": [
    "#  Ход ферзя\n",
    "#  abs(x1 - x2) == abs(y1 - y2) or x1 == x2 or y1 == y2\n",
    "\n",
    "n = 8\n",
    "matrix = [list(input()) for _ in range(n)]\n",
    "\n",
    "row, col = [(i, j) for i in range(n) for j in range(n) if matrix[i][j] == 'F'][0]\n",
    "\n",
    "for i in range(n):\n",
    "    for j in range(n):\n",
    "        if (i == row and j != col) or (j == col and i != row):\n",
    "            matrix[i][j] = '+'\n",
    "        if (i != row and j != col) and ((i - j == row - col) or (i + j == row + col)):\n",
    "            matrix[i][j] = '+' \n",
    "        \n",
    "for row in range(n):\n",
    "    print(*matrix[row], sep='')"
   ]
  },
  {
   "cell_type": "code",
   "execution_count": 1,
   "id": "0f0562d6",
   "metadata": {},
   "outputs": [
    {
     "ename": "SyntaxError",
     "evalue": "invalid syntax (278816276.py, line 2)",
     "output_type": "error",
     "traceback": [
      "\u001b[1;36m  Cell \u001b[1;32mIn[1], line 2\u001b[1;36m\u001b[0m\n\u001b[1;33m    Ход коня:\u001b[0m\n\u001b[1;37m        ^\u001b[0m\n\u001b[1;31mSyntaxError\u001b[0m\u001b[1;31m:\u001b[0m invalid syntax\n"
     ]
    }
   ],
   "source": [
    "#  Ход коня\n",
    "#  abs((x1 - x2) * (y1 - y2)) == 2\n",
    "\n",
    "n = 8\n",
    "matrix = [list(input()) for _ in range(n)]\n",
    "\n",
    "row, col = [(i, j) for i in range(n) for j in range(n) if matrix[i][j] == 'H'][0]\n",
    "\n",
    "for i in range(n):\n",
    "    for j in range(n):\n",
    "        if abs((i - row) * (j - col)) == 2:\n",
    "            matrix[i][j] = '+'\n",
    "        \n",
    "for row in range(n):\n",
    "    print(*matrix[row], sep='')"
   ]
  },
  {
   "cell_type": "code",
   "execution_count": null,
   "id": "5be871e9",
   "metadata": {},
   "outputs": [],
   "source": []
  }
 ],
 "metadata": {
  "kernelspec": {
   "display_name": "Python [conda env:base] *",
   "language": "python",
   "name": "conda-base-py"
  },
  "language_info": {
   "codemirror_mode": {
    "name": "ipython",
    "version": 3
   },
   "file_extension": ".py",
   "mimetype": "text/x-python",
   "name": "python",
   "nbconvert_exporter": "python",
   "pygments_lexer": "ipython3",
   "version": "3.13.5"
  }
 },
 "nbformat": 4,
 "nbformat_minor": 5
}
