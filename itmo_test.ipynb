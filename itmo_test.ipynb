{
 "cells": [
  {
   "cell_type": "markdown",
   "id": "a74239f8-1e99-4c90-9d49-036e894a2f56",
   "metadata": {},
   "source": [
    "# Языки программирования"
   ]
  },
  {
   "cell_type": "code",
   "execution_count": 114,
   "id": "0cd5c079-f254-40c5-98fd-4169fee46e01",
   "metadata": {},
   "outputs": [
    {
     "name": "stdout",
     "output_type": "stream",
     "text": [
      "-198\n"
     ]
    }
   ],
   "source": [
    "x = 3\n",
    "n = 2\n",
    "y = 2\n",
    "i = 0\n",
    "y = (y-x) * 3\n",
    "\n",
    "while n >= i:\n",
    "    i += 1\n",
    "    y = (y-x) * 3\n",
    "\n",
    "print(y)"
   ]
  },
  {
   "cell_type": "code",
   "execution_count": 132,
   "id": "19ae51c9-680b-4f17-accc-5c484d3cfe5a",
   "metadata": {},
   "outputs": [
    {
     "name": "stdout",
     "output_type": "stream",
     "text": [
      "287\n"
     ]
    }
   ],
   "source": [
    "import numpy as np\n",
    "\n",
    "a = np.array([29, 47, 9, 34, 26, 27, 16, 41, 14, 4, 38, 25, 24, 18, 45, 11])\n",
    "reshaped_a = a.reshape(2, -1)\n",
    "print(sum(reshaped_a.max(axis=0)))"
   ]
  },
  {
   "cell_type": "code",
   "execution_count": 119,
   "id": "8d822952-b377-4cd4-b49e-a3833d5d510a",
   "metadata": {},
   "outputs": [
    {
     "name": "stdout",
     "output_type": "stream",
     "text": [
      "<class 'pandas.core.frame.DataFrame'>\n",
      "RangeIndex: 205 entries, 0 to 204\n",
      "Data columns (total 27 columns):\n",
      " #   Column                 Non-Null Count  Dtype  \n",
      "---  ------                 --------------  -----  \n",
      " 0   fairings               169 non-null    object \n",
      " 1   links                  205 non-null    object \n",
      " 2   static_fire_date_utc   121 non-null    object \n",
      " 3   static_fire_date_unix  121 non-null    float64\n",
      " 4   net                    205 non-null    bool   \n",
      " 5   window                 117 non-null    float64\n",
      " 6   rocket                 205 non-null    object \n",
      " 7   success                186 non-null    float64\n",
      " 8   failures               205 non-null    object \n",
      " 9   details                134 non-null    object \n",
      " 10  crew                   205 non-null    object \n",
      " 11  ships                  205 non-null    object \n",
      " 12  capsules               205 non-null    object \n",
      " 13  payloads               205 non-null    object \n",
      " 14  launchpad              205 non-null    object \n",
      " 15  flight_number          205 non-null    int64  \n",
      " 16  name                   205 non-null    object \n",
      " 17  date_utc               205 non-null    object \n",
      " 18  date_unix              205 non-null    int64  \n",
      " 19  date_local             205 non-null    object \n",
      " 20  date_precision         205 non-null    object \n",
      " 21  upcoming               205 non-null    bool   \n",
      " 22  cores                  205 non-null    object \n",
      " 23  auto_update            205 non-null    bool   \n",
      " 24  tbd                    205 non-null    bool   \n",
      " 25  launch_library_id      72 non-null     object \n",
      " 26  id                     205 non-null    object \n",
      "dtypes: bool(4), float64(3), int64(2), object(18)\n",
      "memory usage: 37.8+ KB\n"
     ]
    }
   ],
   "source": [
    "import pandas as pd\n",
    "df = pd.read_json('https://api.spacexdata.com/v4/launches')\n",
    "df.info()"
   ]
  },
  {
   "cell_type": "code",
   "execution_count": 120,
   "id": "9a4afafb-0f38-42ec-90d6-c38969ba8adc",
   "metadata": {},
   "outputs": [
    {
     "name": "stdout",
     "output_type": "stream",
     "text": [
      "<class 'pandas.core.frame.DataFrame'>\n",
      "RangeIndex: 205 entries, 0 to 204\n",
      "Data columns (total 27 columns):\n",
      " #   Column                 Non-Null Count  Dtype              \n",
      "---  ------                 --------------  -----              \n",
      " 0   fairings               169 non-null    object             \n",
      " 1   links                  205 non-null    object             \n",
      " 2   static_fire_date_utc   121 non-null    object             \n",
      " 3   static_fire_date_unix  121 non-null    float64            \n",
      " 4   net                    205 non-null    bool               \n",
      " 5   window                 117 non-null    float64            \n",
      " 6   rocket                 205 non-null    object             \n",
      " 7   success                186 non-null    float64            \n",
      " 8   failures               205 non-null    object             \n",
      " 9   details                134 non-null    object             \n",
      " 10  crew                   205 non-null    object             \n",
      " 11  ships                  205 non-null    object             \n",
      " 12  capsules               205 non-null    object             \n",
      " 13  payloads               205 non-null    object             \n",
      " 14  launchpad              205 non-null    object             \n",
      " 15  flight_number          205 non-null    int64              \n",
      " 16  name                   205 non-null    object             \n",
      " 17  date_utc               205 non-null    datetime64[ns, UTC]\n",
      " 18  date_unix              205 non-null    int64              \n",
      " 19  date_local             205 non-null    object             \n",
      " 20  date_precision         205 non-null    object             \n",
      " 21  upcoming               205 non-null    bool               \n",
      " 22  cores                  205 non-null    object             \n",
      " 23  auto_update            205 non-null    bool               \n",
      " 24  tbd                    205 non-null    bool               \n",
      " 25  launch_library_id      72 non-null     object             \n",
      " 26  id                     205 non-null    object             \n",
      "dtypes: bool(4), datetime64[ns, UTC](1), float64(3), int64(2), object(17)\n",
      "memory usage: 37.8+ KB\n"
     ]
    }
   ],
   "source": [
    "df['date_utc'] = pd.to_datetime(df['date_utc'])\n",
    "df.info()"
   ]
  },
  {
   "cell_type": "code",
   "execution_count": 121,
   "id": "e43a58df-4080-40ec-bc8a-0de756b4168b",
   "metadata": {},
   "outputs": [
    {
     "data": {
      "text/plain": [
       "success\n",
       "1.0    181\n",
       "0.0      5\n",
       "Name: count, dtype: int64"
      ]
     },
     "execution_count": 121,
     "metadata": {},
     "output_type": "execute_result"
    }
   ],
   "source": [
    "df['success'].value_counts()"
   ]
  },
  {
   "cell_type": "code",
   "execution_count": 124,
   "id": "807da683-42be-4980-a0f6-16cc18d53ae0",
   "metadata": {},
   "outputs": [
    {
     "data": {
      "text/plain": [
       "(181, 27)"
      ]
     },
     "execution_count": 124,
     "metadata": {},
     "output_type": "execute_result"
    }
   ],
   "source": [
    "filtered_df = df[(df['success'] == 1.0) & (df['date_utc'] < '2025-06-01')]\n",
    "filtered_df.shape"
   ]
  },
  {
   "cell_type": "code",
   "execution_count": 125,
   "id": "743fdd2f-c318-47ca-b99b-738cade1c5c1",
   "metadata": {},
   "outputs": [],
   "source": [
    "sorted_filtered_df = filtered_df.sort_values('date_utc', ascending=False).reset_index()"
   ]
  },
  {
   "cell_type": "code",
   "execution_count": 127,
   "id": "e7938c6a-acd2-4448-aea4-be4d098ac516",
   "metadata": {},
   "outputs": [
    {
     "data": {
      "text/plain": [
       "'Starlink 4-26 (v1.5)'"
      ]
     },
     "execution_count": 127,
     "metadata": {},
     "output_type": "execute_result"
    }
   ],
   "source": [
    "sorted_filtered_df.iloc[9]['name']"
   ]
  },
  {
   "cell_type": "markdown",
   "id": "ee0fa06b-a521-4b2b-8d18-4a5200c76ac2",
   "metadata": {},
   "source": [
    "# Высшая математика"
   ]
  },
  {
   "cell_type": "code",
   "execution_count": 133,
   "id": "36c3fb44-404c-4f7e-9583-20dd813ad2b7",
   "metadata": {},
   "outputs": [
    {
     "name": "stdout",
     "output_type": "stream",
     "text": [
      "-9.0\n"
     ]
    }
   ],
   "source": [
    "import numpy as np\n",
    "\n",
    "a = np.array([[-2, -4,  2],\n",
    "              [-5,  0, -1],\n",
    "              [-5,  0, -5]])\n",
    "\n",
    "b = np.array([[ 0, -4, 36],\n",
    "              [ 8, 24, 20],\n",
    "              [20, 20,  0]])\n",
    "\n",
    "# A*X = B\n",
    "x = np.linalg.solve(a, b)\n",
    "\n",
    "x_sum = np.sum(x)\n",
    "\n",
    "print(x_sum)"
   ]
  },
  {
   "cell_type": "markdown",
   "id": "3edf6ac9-9d4a-4e2d-8745-3503b4ab72cc",
   "metadata": {},
   "source": [
    "# Алгоритмы и структуры данных"
   ]
  },
  {
   "cell_type": "code",
   "execution_count": 138,
   "id": "63fee292-3f0b-4c5a-ad50-6bea0010c0eb",
   "metadata": {},
   "outputs": [
    {
     "data": {
      "image/png": "[encoded data removed]",
      "text/plain": [
       "<Figure size 640x480 with 1 Axes>"
      ]
     },
     "metadata": {},
     "output_type": "display_data"
    }
   ],
   "source": [
    "import networkx as nx\n",
    "import matplotlib.pyplot as plt\n",
    "\n",
    "G = nx.Graph()\n",
    "edges = [\n",
    "    (\"A\", \"B\", 6),\n",
    "    (\"A\", \"C\", 5),\n",
    "    (\"B\", \"C\", 4),\n",
    "    (\"B\", \"D\", 2),\n",
    "    (\"C\", \"D\", 3),\n",
    "]\n",
    "G.add_weighted_edges_from(edges)\n",
    "\n",
    "pos = nx.spring_layout(G)  # авторазмещение вершин\n",
    "nx.draw(G, pos, with_labels=True)\n",
    "labels = nx.get_edge_attributes(G, 'weight')\n",
    "nx.draw_networkx_edge_labels(G, pos, edge_labels=labels)\n",
    "plt.show()"
   ]
  },
  {
   "cell_type": "code",
   "execution_count": 148,
   "id": "d37b735b-f18e-4810-90e4-0b5b09c63a71",
   "metadata": {},
   "outputs": [
    {
     "name": "stdout",
     "output_type": "stream",
     "text": [
      "4\n"
     ]
    }
   ],
   "source": [
    "import numpy as np\n",
    "\n",
    "def min_cubes(N):\n",
    "    # все кубы <= N\n",
    "    cubes = [i**3 for i in range(1, int(N**(1/3)) + 1)]\n",
    "    \n",
    "    # DP: dp[x] = минимальное количество кубов для суммы x\n",
    "    dp = [np.inf] * (N + 1)\n",
    "    dp[0] = 0\n",
    "    \n",
    "    for i in range(1, N + 1):\n",
    "        for c in cubes:\n",
    "            if c <= i:\n",
    "                dp[i] = min(dp[i], dp[i - c] + 1)\n",
    "    \n",
    "    return dp[N]\n",
    "\n",
    "print(min_cubes(2025))\n"
   ]
  },
  {
   "cell_type": "code",
   "execution_count": 144,
   "id": "99d2e6bb-a09f-40a1-9c33-db1429c91480",
   "metadata": {},
   "outputs": [],
   "source": [
    "N = 2025\n",
    "cubes = [i**3 for i in range(1, int(N**(1/3)) + 1)]\n",
    "dp = [float('inf')] * (N + 1)\n",
    "dp[i]"
   ]
  },
  {
   "cell_type": "code",
   "execution_count": 146,
   "id": "968b1f73-8622-425d-af2e-260653a5ef68",
   "metadata": {},
   "outputs": [
    {
     "name": "stdout",
     "output_type": "stream",
     "text": [
      "899\n"
     ]
    }
   ],
   "source": [
    "import itertools\n",
    "\n",
    "a = [23, 5, 12, 30, 7, 19, 2, 14, 11, 4]\n",
    "b = [20, 8, 1, 6, 25, 9, 3, 18, 17, 15]\n",
    "k = 3\n",
    "n = len(a)\n",
    "\n",
    "max_sum = 0\n",
    "for indices in itertools.combinations(range(n), k):\n",
    "    current_sum = sum(a[i] * b[i] for i in indices)\n",
    "    if current_sum > max_sum:\n",
    "        max_sum = current_sum\n",
    "\n",
    "print(max_sum)"
   ]
  },
  {
   "cell_type": "code",
   "execution_count": null,
   "id": "6d739ab7-2fda-484c-9b7b-c97010149e8f",
   "metadata": {},
   "outputs": [],
   "source": []
  }
 ],
 "metadata": {
  "kernelspec": {
   "display_name": "Python 3 (ipykernel)",
   "language": "python",
   "name": "python3"
  },
  "language_info": {
   "codemirror_mode": {
    "name": "ipython",
    "version": 3
   },
   "file_extension": ".py",
   "mimetype": "text/x-python",
   "name": "python",
   "nbconvert_exporter": "python",
   "pygments_lexer": "ipython3",
   "version": "3.13.5"
  }
 },
 "nbformat": 4,
 "nbformat_minor": 5
}
