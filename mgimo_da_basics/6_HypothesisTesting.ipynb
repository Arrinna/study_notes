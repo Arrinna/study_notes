{
 "cells": [
  {
   "cell_type": "markdown",
   "id": "587a6297",
   "metadata": {},
   "source": [
    "# Тестирование гипотез в Python"
   ]
  },
  {
   "cell_type": "code",
   "execution_count": 1,
   "id": "1355bd96",
   "metadata": {},
   "outputs": [
    {
     "data": {
      "text/plain": [
       "(706, 34)"
      ]
     },
     "execution_count": 1,
     "metadata": {},
     "output_type": "execute_result"
    }
   ],
   "source": [
    "import pandas as pd\n",
    "import scipy.stats as scs\n",
    "import statsmodels.stats.diagnostic as sm\n",
    "import seaborn as sns\n",
    "import pingouin as pg\n",
    "df = pd.read_csv('sleep75.csv')\n",
    "df.shape # Размер датасета"
   ]
  },
  {
   "cell_type": "markdown",
   "id": "2cce79ea",
   "metadata": {},
   "source": [
    "Основные переменные в датафрейме `df`\n",
    "- `sleep`: продолжительность сна (мин/нед)\n",
    "- `totwrk`: рабочее время (мин/нед)\n",
    "- `age`: возраст (в годах)\n",
    "- `educ`: уровень образрвания в годах\n",
    "- `male`: гендерный фактор (бинарная, =1 для мужчин)\n",
    "- `south`: географический фактор (бинарная, =1 если живёт на юге)"
   ]
  },
  {
   "cell_type": "code",
   "execution_count": 2,
   "id": "2d3bb6cf",
   "metadata": {},
   "outputs": [
    {
     "data": {
      "text/plain": [
       "706"
      ]
     },
     "execution_count": 2,
     "metadata": {},
     "output_type": "execute_result"
    }
   ],
   "source": [
    "df.shape[0] # Число наблюдений"
   ]
  },
  {
   "cell_type": "markdown",
   "id": "4d1cf94f",
   "metadata": {},
   "source": [
    "## Одновыборочный t-тест\n",
    "Для переменной `sleep` будем тестировать гипотезу $H_0:\\mu=3200$\n",
    "Уровень значимости выберем 5%"
   ]
  },
  {
   "cell_type": "code",
   "execution_count": 5,
   "id": "e2ca6f2e",
   "metadata": {},
   "outputs": [
    {
     "data": {
      "text/plain": [
       "(np.float64(3.9672744144153147), np.float64(8.013385140555246e-05))"
      ]
     },
     "execution_count": 5,
     "metadata": {},
     "output_type": "execute_result"
    }
   ],
   "source": [
    "# Первый способ с использованием библиотеки scipy.stats\n",
    "t_stat, p_val=scs.ttest_1samp(a=df['sleep'], popmean=3200)\n",
    "t_stat, p_val"
   ]
  },
  {
   "cell_type": "markdown",
   "id": "3beb2bc1",
   "metadata": {},
   "source": [
    "5%-критическое значение $t$-распределения со степенями свободы $n-1=705$"
   ]
  },
  {
   "cell_type": "code",
   "execution_count": 6,
   "id": "4f1ba8da",
   "metadata": {},
   "outputs": [
    {
     "data": {
      "text/plain": [
       "np.float64(1.9633345943574534)"
      ]
     },
     "execution_count": 6,
     "metadata": {},
     "output_type": "execute_result"
    }
   ],
   "source": [
    "scs.t.ppf( q=1-0.05/2, df=df['sleep'].shape[0]-1 )"
   ]
  },
  {
   "cell_type": "code",
   "execution_count": 8,
   "id": "32818d75",
   "metadata": {},
   "outputs": [
    {
     "data": {
      "text/html": [
       "<div>\n",
       "<style scoped>\n",
       "    .dataframe tbody tr th:only-of-type {\n",
       "        vertical-align: middle;\n",
       "    }\n",
       "\n",
       "    .dataframe tbody tr th {\n",
       "        vertical-align: top;\n",
       "    }\n",
       "\n",
       "    .dataframe thead th {\n",
       "        text-align: right;\n",
       "    }\n",
       "</style>\n",
       "<table border=\"1\" class=\"dataframe\">\n",
       "  <thead>\n",
       "    <tr style=\"text-align: right;\">\n",
       "      <th></th>\n",
       "      <th>T</th>\n",
       "      <th>dof</th>\n",
       "      <th>alternative</th>\n",
       "      <th>p-val</th>\n",
       "      <th>CI95%</th>\n",
       "      <th>cohen-d</th>\n",
       "      <th>BF10</th>\n",
       "      <th>power</th>\n",
       "    </tr>\n",
       "  </thead>\n",
       "  <tbody>\n",
       "    <tr>\n",
       "      <th>T-test</th>\n",
       "      <td>3.967274</td>\n",
       "      <td>705</td>\n",
       "      <td>two-sided</td>\n",
       "      <td>0.00008</td>\n",
       "      <td>[3233.52, 3299.19]</td>\n",
       "      <td>0.14931</td>\n",
       "      <td>98.426</td>\n",
       "      <td>0.977352</td>\n",
       "    </tr>\n",
       "  </tbody>\n",
       "</table>\n",
       "</div>"
      ],
      "text/plain": [
       "               T  dof alternative    p-val               CI95%  cohen-d  \\\n",
       "T-test  3.967274  705   two-sided  0.00008  [3233.52, 3299.19]  0.14931   \n",
       "\n",
       "          BF10     power  \n",
       "T-test  98.426  0.977352  "
      ]
     },
     "execution_count": 8,
     "metadata": {},
     "output_type": "execute_result"
    }
   ],
   "source": [
    "# Второй способ с использованием бибиотеки pengouin\n",
    "pg.ttest(x=df['sleep'], y=3200)"
   ]
  },
  {
   "cell_type": "markdown",
   "id": "86a31cd9",
   "metadata": {},
   "source": [
    "**Вывод**: на выбранно уровне значимости тестируемая гипотеза отвергается ($|t|>t_{cr}$, p_val<5\\%)"
   ]
  },
  {
   "cell_type": "markdown",
   "id": "ceb330f3",
   "metadata": {},
   "source": [
    "## Двухвыборочный t-тест\n",
    "Разделим наблюдения по переменной `sleep` на две подвыборки относительно бинарной переменной `male`.\n",
    "Будем тестировать гипотезу о равенстве средних в генеральной совокупности $H_0:\\mu_{X}=\\mu_{Y}$ при **допущении неравенства дисперсий**. Уровень значимости выберем 1%"
   ]
  },
  {
   "cell_type": "code",
   "execution_count": 9,
   "id": "8206d964",
   "metadata": {},
   "outputs": [
    {
     "data": {
      "text/plain": [
       "(np.float64(-0.9474052094024158), np.float64(0.34378977584461323))"
      ]
     },
     "execution_count": 9,
     "metadata": {},
     "output_type": "execute_result"
    }
   ],
   "source": [
    "# Первый способ с использованием библиотеки scipy.stats\n",
    "X = df[ df['male']==1 ]['sleep']\n",
    "Y = df[ df['male']==0 ]['sleep']\n",
    "t_stat, p_val=scs.ttest_ind(a=X, b=Y, equal_var=False)\n",
    "t_stat, p_val"
   ]
  },
  {
   "cell_type": "code",
   "execution_count": 10,
   "id": "a548a173",
   "metadata": {},
   "outputs": [
    {
     "data": {
      "text/html": [
       "<div>\n",
       "<style scoped>\n",
       "    .dataframe tbody tr th:only-of-type {\n",
       "        vertical-align: middle;\n",
       "    }\n",
       "\n",
       "    .dataframe tbody tr th {\n",
       "        vertical-align: top;\n",
       "    }\n",
       "\n",
       "    .dataframe thead th {\n",
       "        text-align: right;\n",
       "    }\n",
       "</style>\n",
       "<table border=\"1\" class=\"dataframe\">\n",
       "  <thead>\n",
       "    <tr style=\"text-align: right;\">\n",
       "      <th></th>\n",
       "      <th>T</th>\n",
       "      <th>dof</th>\n",
       "      <th>alternative</th>\n",
       "      <th>p-val</th>\n",
       "      <th>CI95%</th>\n",
       "      <th>cohen-d</th>\n",
       "      <th>BF10</th>\n",
       "      <th>power</th>\n",
       "    </tr>\n",
       "  </thead>\n",
       "  <tbody>\n",
       "    <tr>\n",
       "      <th>T-test</th>\n",
       "      <td>-0.947405</td>\n",
       "      <td>640.242596</td>\n",
       "      <td>two-sided</td>\n",
       "      <td>0.34379</td>\n",
       "      <td>[-98.88, 34.52]</td>\n",
       "      <td>0.072407</td>\n",
       "      <td>0.132</td>\n",
       "      <td>0.158552</td>\n",
       "    </tr>\n",
       "  </tbody>\n",
       "</table>\n",
       "</div>"
      ],
      "text/plain": [
       "               T         dof alternative    p-val            CI95%   cohen-d  \\\n",
       "T-test -0.947405  640.242596   two-sided  0.34379  [-98.88, 34.52]  0.072407   \n",
       "\n",
       "         BF10     power  \n",
       "T-test  0.132  0.158552  "
      ]
     },
     "execution_count": 10,
     "metadata": {},
     "output_type": "execute_result"
    }
   ],
   "source": [
    "# Второй способ с использованием бибиотеки pengouin\n",
    "pg.ttest(x=X,y=Y)"
   ]
  },
  {
   "cell_type": "markdown",
   "id": "f8e16476",
   "metadata": {},
   "source": [
    "1%-критическое значение $t$-распределения со степенями свободы $$df=\\frac{\\left(s_X^2/n+s_Y^2/m\\right)^2}{\\frac{(s^2_X/n)^2}{n-1}+\\frac{(s^2_Y/m)^2}{m-1}} $$"
   ]
  },
  {
   "cell_type": "code",
   "execution_count": 11,
   "id": "bf4a4733",
   "metadata": {},
   "outputs": [
    {
     "data": {
      "text/plain": [
       "(np.float64(1.9636761492270411), 640.2425956081363)"
      ]
     },
     "execution_count": 11,
     "metadata": {},
     "output_type": "execute_result"
    }
   ],
   "source": [
    "s_X=X.std()\n",
    "s_Y=Y.std()\n",
    "n=X.shape[0]\n",
    "m=Y.shape[0]\n",
    "# степени свободы\n",
    "dof=((s_X**2)/n+(s_Y**2)/m)**2 /( ((s_X**2)/n)**2/(n-1)+((s_Y**2)/m)**2/(m-1) )\n",
    "# критическое значение t-распределения\n",
    "t_cr=scs.t.ppf( q=1-0.05/2, df=dof )\n",
    "t_cr, dof"
   ]
  },
  {
   "cell_type": "markdown",
   "id": "8abe7fc8",
   "metadata": {},
   "source": [
    "## Значимость корреляции\n",
    "Проверим значимость корреляции между переменными `sleep` и `totwrk`. Уровень значимости выберем 10%"
   ]
  },
  {
   "cell_type": "code",
   "execution_count": 12,
   "id": "8085f39f",
   "metadata": {},
   "outputs": [
    {
     "data": {
      "text/plain": [
       "(np.float64(-0.32138353369305783), np.float64(1.994094951876018e-18))"
      ]
     },
     "execution_count": 12,
     "metadata": {},
     "output_type": "execute_result"
    }
   ],
   "source": [
    "# Первый способ с использованием библиотеки scipy.stats\n",
    "t_stat, p_val=scs.pearsonr(x=df['sleep'], y=df['totwrk'])\n",
    "t_stat, p_val"
   ]
  },
  {
   "cell_type": "code",
   "execution_count": 13,
   "id": "aaf743bf",
   "metadata": {},
   "outputs": [
    {
     "data": {
      "text/html": [
       "<div>\n",
       "<style scoped>\n",
       "    .dataframe tbody tr th:only-of-type {\n",
       "        vertical-align: middle;\n",
       "    }\n",
       "\n",
       "    .dataframe tbody tr th {\n",
       "        vertical-align: top;\n",
       "    }\n",
       "\n",
       "    .dataframe thead th {\n",
       "        text-align: right;\n",
       "    }\n",
       "</style>\n",
       "<table border=\"1\" class=\"dataframe\">\n",
       "  <thead>\n",
       "    <tr style=\"text-align: right;\">\n",
       "      <th></th>\n",
       "      <th>n</th>\n",
       "      <th>r</th>\n",
       "      <th>CI95%</th>\n",
       "      <th>p-val</th>\n",
       "      <th>BF10</th>\n",
       "      <th>power</th>\n",
       "    </tr>\n",
       "  </thead>\n",
       "  <tbody>\n",
       "    <tr>\n",
       "      <th>pearson</th>\n",
       "      <td>706</td>\n",
       "      <td>-0.321384</td>\n",
       "      <td>[-0.39, -0.25]</td>\n",
       "      <td>1.994095e-18</td>\n",
       "      <td>1.961e+15</td>\n",
       "      <td>1.0</td>\n",
       "    </tr>\n",
       "  </tbody>\n",
       "</table>\n",
       "</div>"
      ],
      "text/plain": [
       "           n         r           CI95%         p-val       BF10  power\n",
       "pearson  706 -0.321384  [-0.39, -0.25]  1.994095e-18  1.961e+15    1.0"
      ]
     },
     "execution_count": 13,
     "metadata": {},
     "output_type": "execute_result"
    }
   ],
   "source": [
    "# Второй способ с использованием бибиотеки pingouin\n",
    "pg.corr(x=df['sleep'], y=df['totwrk'])"
   ]
  },
  {
   "cell_type": "markdown",
   "id": "446421f4",
   "metadata": {},
   "source": [
    "10%-критическое значение $t$-распределения со степенями свободы $n-2=704$"
   ]
  },
  {
   "cell_type": "code",
   "execution_count": 14,
   "id": "2a1cbfff",
   "metadata": {},
   "outputs": [
    {
     "data": {
      "text/plain": [
       "np.float64(1.6470209401133937)"
      ]
     },
     "execution_count": 14,
     "metadata": {},
     "output_type": "execute_result"
    }
   ],
   "source": [
    "scs.t.ppf( q=1-0.10/2, df=df['sleep'].shape[0]-2 )"
   ]
  },
  {
   "cell_type": "markdown",
   "id": "d44e3fe2",
   "metadata": {},
   "source": [
    "**Вывод**: корреляция значима"
   ]
  },
  {
   "cell_type": "markdown",
   "id": "e503d52f",
   "metadata": {},
   "source": [
    "Проверим значимость корреляции между переменными `age` и `totwrk`."
   ]
  },
  {
   "cell_type": "code",
   "execution_count": 15,
   "id": "830ecf45",
   "metadata": {},
   "outputs": [
    {
     "data": {
      "text/plain": [
       "(np.float64(-0.04956989119946762), np.float64(0.18831515338531457))"
      ]
     },
     "execution_count": 15,
     "metadata": {},
     "output_type": "execute_result"
    }
   ],
   "source": [
    "t_stat, p_val=scs.pearsonr(x=df['age'], y=df['totwrk'])\n",
    "t_stat, p_val"
   ]
  },
  {
   "cell_type": "code",
   "execution_count": 16,
   "id": "0c971fbb",
   "metadata": {},
   "outputs": [
    {
     "data": {
      "text/html": [
       "<div>\n",
       "<style scoped>\n",
       "    .dataframe tbody tr th:only-of-type {\n",
       "        vertical-align: middle;\n",
       "    }\n",
       "\n",
       "    .dataframe tbody tr th {\n",
       "        vertical-align: top;\n",
       "    }\n",
       "\n",
       "    .dataframe thead th {\n",
       "        text-align: right;\n",
       "    }\n",
       "</style>\n",
       "<table border=\"1\" class=\"dataframe\">\n",
       "  <thead>\n",
       "    <tr style=\"text-align: right;\">\n",
       "      <th></th>\n",
       "      <th>n</th>\n",
       "      <th>r</th>\n",
       "      <th>CI95%</th>\n",
       "      <th>p-val</th>\n",
       "      <th>BF10</th>\n",
       "      <th>power</th>\n",
       "    </tr>\n",
       "  </thead>\n",
       "  <tbody>\n",
       "    <tr>\n",
       "      <th>pearson</th>\n",
       "      <td>706</td>\n",
       "      <td>-0.04957</td>\n",
       "      <td>[-0.12, 0.02]</td>\n",
       "      <td>0.188315</td>\n",
       "      <td>0.112</td>\n",
       "      <td>0.260364</td>\n",
       "    </tr>\n",
       "  </tbody>\n",
       "</table>\n",
       "</div>"
      ],
      "text/plain": [
       "           n        r          CI95%     p-val   BF10     power\n",
       "pearson  706 -0.04957  [-0.12, 0.02]  0.188315  0.112  0.260364"
      ]
     },
     "execution_count": 16,
     "metadata": {},
     "output_type": "execute_result"
    }
   ],
   "source": [
    "# Второй способ с использованием бибиотеки pengouin\n",
    "pg.corr(x=df['age'], y=df['totwrk'])"
   ]
  },
  {
   "cell_type": "markdown",
   "id": "dc7117d0",
   "metadata": {},
   "source": [
    "**Вывод**: корреляция незначима (критическое значение тоже)"
   ]
  },
  {
   "cell_type": "code",
   "execution_count": 17,
   "id": "d8d59d14",
   "metadata": {},
   "outputs": [
    {
     "data": {
      "text/plain": [
       "<Axes: >"
      ]
     },
     "execution_count": 17,
     "metadata": {},
     "output_type": "execute_result"
    },
    {
     "data": {
      "image/png": "[encoded data removed]",
      "text/plain": [
       "<Figure size 640x480 with 2 Axes>"
      ]
     },
     "metadata": {},
     "output_type": "display_data"
    }
   ],
   "source": [
    "# Визц=уализация корреляционной матрицы\n",
    "sns.heatmap(df[['sleep', 'totwrk', 'age', 'educ']].corr(), annot = True)"
   ]
  },
  {
   "cell_type": "markdown",
   "id": "c0332827",
   "metadata": {},
   "source": [
    "## Одновыборочный тест Колмогорова-Смирнова на сравнение с нормальным распределением\n",
    "Для переменной `sleep`"
   ]
  },
  {
   "cell_type": "code",
   "execution_count": 18,
   "id": "b10e1919",
   "metadata": {},
   "outputs": [
    {
     "data": {
      "text/plain": [
       "(np.float64(0.046880441069508394), np.float64(0.0015723943766754293))"
      ]
     },
     "execution_count": 18,
     "metadata": {},
     "output_type": "execute_result"
    }
   ],
   "source": [
    "sm.lilliefors(df['sleep'], dist='norm')"
   ]
  },
  {
   "cell_type": "markdown",
   "id": "ac85ef70",
   "metadata": {},
   "source": [
    "5%-критическое значение $\\lambda_{cr}=0.886$.\n",
    "**Вывод**: гипотеза отвергается"
   ]
  },
  {
   "cell_type": "code",
   "execution_count": 19,
   "id": "0e2b8c87",
   "metadata": {},
   "outputs": [
    {
     "data": {
      "text/plain": [
       "<Axes: xlabel='sleep', ylabel='Proportion'>"
      ]
     },
     "execution_count": 19,
     "metadata": {},
     "output_type": "execute_result"
    },
    {
     "data": {
      "image/png": "[encoded data removed]",
      "text/plain": [
       "<Figure size 640x480 with 1 Axes>"
      ]
     },
     "metadata": {},
     "output_type": "display_data"
    }
   ],
   "source": [
    "# Эмпирическая функция распределения для sleep\n",
    "sns.ecdfplot(df, x='sleep')"
   ]
  },
  {
   "cell_type": "markdown",
   "id": "df152d58",
   "metadata": {},
   "source": [
    "## Двухвыборочный тест Колмогорова-Смирнова\n",
    "Разделим наблюдения по переменной `sleep` на две подвыборки относительно бинарной переменной `male`. Потестируем гипотезу об одинаковой распределённости эти выборок"
   ]
  },
  {
   "cell_type": "code",
   "execution_count": 20,
   "id": "b7eeb00f",
   "metadata": {},
   "outputs": [
    {
     "data": {
      "text/plain": [
       "(np.float64(0.07794117647058824), np.float64(0.22739744706319376))"
      ]
     },
     "execution_count": 20,
     "metadata": {},
     "output_type": "execute_result"
    }
   ],
   "source": [
    "X = df[ df['male']==1 ]['sleep']\n",
    "Y = df[ df['male']==0 ]['sleep']\n",
    "stat, p_val=scs.ks_2samp(X,Y)\n",
    "stat, p_val"
   ]
  },
  {
   "cell_type": "markdown",
   "id": "e1d1496b",
   "metadata": {},
   "source": [
    "5%-критическое значени $\\lambda_{cr}=1.36$. \n",
    "**Вывод**: тестируемая гипоза не отвергается"
   ]
  },
  {
   "cell_type": "code",
   "execution_count": 21,
   "id": "a0ca6f3b",
   "metadata": {},
   "outputs": [
    {
     "name": "stderr",
     "output_type": "stream",
     "text": [
      "C:\\ProgramData\\anaconda3\\Lib\\site-packages\\seaborn\\_base.py:948: FutureWarning: When grouping with a length-1 list-like, you will need to pass a length-1 tuple to get_group in a future version of pandas. Pass `(name,)` instead of `name` to silence this warning.\n",
      "  data_subset = grouped_data.get_group(pd_key)\n"
     ]
    },
    {
     "data": {
      "text/plain": [
       "<Axes: xlabel='sleep', ylabel='Proportion'>"
      ]
     },
     "execution_count": 21,
     "metadata": {},
     "output_type": "execute_result"
    },
    {
     "data": {
      "image/png": "[encoded data removed]",
      "text/plain": [
       "<Figure size 640x480 with 1 Axes>"
      ]
     },
     "metadata": {},
     "output_type": "display_data"
    }
   ],
   "source": [
    "sns.ecdfplot(df, x='sleep', hue='male')"
   ]
  },
  {
   "cell_type": "markdown",
   "id": "19d335d2",
   "metadata": {},
   "source": [
    "Разделим наблюдения по переменной `totwrk` на две подвыборки относительно бинарной переменной `south`. Потестируем гипотезу об одинаковой распределённости эти выборок"
   ]
  },
  {
   "cell_type": "code",
   "execution_count": 22,
   "id": "b5afdce6",
   "metadata": {},
   "outputs": [
    {
     "data": {
      "text/plain": [
       "(np.float64(0.1063034188034188), np.float64(0.16754841740423074))"
      ]
     },
     "execution_count": 22,
     "metadata": {},
     "output_type": "execute_result"
    }
   ],
   "source": [
    "X = df[ df['south']==1 ]['totwrk']\n",
    "Y = df[ df['south']==0 ]['totwrk']\n",
    "stat, p_val=scs.ks_2samp(X,Y)\n",
    "stat, p_val"
   ]
  },
  {
   "cell_type": "markdown",
   "id": "567050e3",
   "metadata": {},
   "source": [
    "Критическое значение такое же. Гипотеза не отвергается\n"
   ]
  },
  {
   "cell_type": "code",
   "execution_count": 23,
   "id": "7c88113d",
   "metadata": {},
   "outputs": [
    {
     "name": "stderr",
     "output_type": "stream",
     "text": [
      "C:\\ProgramData\\anaconda3\\Lib\\site-packages\\seaborn\\_base.py:948: FutureWarning: When grouping with a length-1 list-like, you will need to pass a length-1 tuple to get_group in a future version of pandas. Pass `(name,)` instead of `name` to silence this warning.\n",
      "  data_subset = grouped_data.get_group(pd_key)\n"
     ]
    },
    {
     "data": {
      "text/plain": [
       "<Axes: xlabel='totwrk', ylabel='Proportion'>"
      ]
     },
     "execution_count": 23,
     "metadata": {},
     "output_type": "execute_result"
    },
    {
     "data": {
      "image/png": "[encoded data removed]",
      "text/plain": [
       "<Figure size 640x480 with 1 Axes>"
      ]
     },
     "metadata": {},
     "output_type": "display_data"
    }
   ],
   "source": [
    "# Эмпириеские функции распределения для totwrk с разделением по бинраной переменной south\n",
    "sns.ecdfplot(df, x='totwrk', hue='south')"
   ]
  },
  {
   "cell_type": "code",
   "execution_count": null,
   "id": "bbda9999",
   "metadata": {},
   "outputs": [],
   "source": []
  }
 ],
 "metadata": {
  "kernelspec": {
   "display_name": "Python 3 (ipykernel)",
   "language": "python",
   "name": "python3"
  },
  "language_info": {
   "codemirror_mode": {
    "name": "ipython",
    "version": 3
   },
   "file_extension": ".py",
   "mimetype": "text/x-python",
   "name": "python",
   "nbconvert_exporter": "python",
   "pygments_lexer": "ipython3",
   "version": "3.11.5"
  }
 },
 "nbformat": 4,
 "nbformat_minor": 5
}
