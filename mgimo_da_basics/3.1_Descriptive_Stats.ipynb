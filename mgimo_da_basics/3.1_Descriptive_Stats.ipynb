{
 "cells": [
  {
   "cell_type": "markdown",
   "id": "79f34ad0",
   "metadata": {},
   "source": [
    "# Описательные статистики"
   ]
  },
  {
   "cell_type": "code",
   "execution_count": 4,
   "id": "44e04a9a",
   "metadata": {},
   "outputs": [
    {
     "data": {
      "text/html": [
       "<div>\n",
       "<style scoped>\n",
       "    .dataframe tbody tr th:only-of-type {\n",
       "        vertical-align: middle;\n",
       "    }\n",
       "\n",
       "    .dataframe tbody tr th {\n",
       "        vertical-align: top;\n",
       "    }\n",
       "\n",
       "    .dataframe thead th {\n",
       "        text-align: right;\n",
       "    }\n",
       "</style>\n",
       "<table border=\"1\" class=\"dataframe\">\n",
       "  <thead>\n",
       "    <tr style=\"text-align: right;\">\n",
       "      <th></th>\n",
       "      <th>age</th>\n",
       "      <th>black</th>\n",
       "      <th>case</th>\n",
       "      <th>clerical</th>\n",
       "      <th>construc</th>\n",
       "      <th>educ</th>\n",
       "      <th>earns74</th>\n",
       "      <th>gdhlth</th>\n",
       "      <th>inlf</th>\n",
       "      <th>leis1</th>\n",
       "      <th>...</th>\n",
       "      <th>spwrk75</th>\n",
       "      <th>totwrk</th>\n",
       "      <th>union</th>\n",
       "      <th>worknrm</th>\n",
       "      <th>workscnd</th>\n",
       "      <th>exper</th>\n",
       "      <th>yngkid</th>\n",
       "      <th>yrsmarr</th>\n",
       "      <th>hrwage</th>\n",
       "      <th>agesq</th>\n",
       "    </tr>\n",
       "  </thead>\n",
       "  <tbody>\n",
       "    <tr>\n",
       "      <th>0</th>\n",
       "      <td>32</td>\n",
       "      <td>0</td>\n",
       "      <td>1</td>\n",
       "      <td>0.0</td>\n",
       "      <td>0.0</td>\n",
       "      <td>12</td>\n",
       "      <td>0</td>\n",
       "      <td>0</td>\n",
       "      <td>1</td>\n",
       "      <td>3529</td>\n",
       "      <td>...</td>\n",
       "      <td>0</td>\n",
       "      <td>3438</td>\n",
       "      <td>0</td>\n",
       "      <td>3438</td>\n",
       "      <td>0</td>\n",
       "      <td>14</td>\n",
       "      <td>0</td>\n",
       "      <td>13</td>\n",
       "      <td>7.070004</td>\n",
       "      <td>1024</td>\n",
       "    </tr>\n",
       "    <tr>\n",
       "      <th>1</th>\n",
       "      <td>31</td>\n",
       "      <td>0</td>\n",
       "      <td>2</td>\n",
       "      <td>0.0</td>\n",
       "      <td>0.0</td>\n",
       "      <td>14</td>\n",
       "      <td>9500</td>\n",
       "      <td>1</td>\n",
       "      <td>1</td>\n",
       "      <td>2140</td>\n",
       "      <td>...</td>\n",
       "      <td>0</td>\n",
       "      <td>5020</td>\n",
       "      <td>0</td>\n",
       "      <td>5020</td>\n",
       "      <td>0</td>\n",
       "      <td>11</td>\n",
       "      <td>0</td>\n",
       "      <td>0</td>\n",
       "      <td>1.429999</td>\n",
       "      <td>961</td>\n",
       "    </tr>\n",
       "    <tr>\n",
       "      <th>2</th>\n",
       "      <td>44</td>\n",
       "      <td>0</td>\n",
       "      <td>3</td>\n",
       "      <td>0.0</td>\n",
       "      <td>0.0</td>\n",
       "      <td>17</td>\n",
       "      <td>42500</td>\n",
       "      <td>1</td>\n",
       "      <td>1</td>\n",
       "      <td>4595</td>\n",
       "      <td>...</td>\n",
       "      <td>1</td>\n",
       "      <td>2815</td>\n",
       "      <td>0</td>\n",
       "      <td>2815</td>\n",
       "      <td>0</td>\n",
       "      <td>21</td>\n",
       "      <td>0</td>\n",
       "      <td>0</td>\n",
       "      <td>20.530000</td>\n",
       "      <td>1936</td>\n",
       "    </tr>\n",
       "    <tr>\n",
       "      <th>3</th>\n",
       "      <td>30</td>\n",
       "      <td>0</td>\n",
       "      <td>4</td>\n",
       "      <td>0.0</td>\n",
       "      <td>0.0</td>\n",
       "      <td>12</td>\n",
       "      <td>42500</td>\n",
       "      <td>1</td>\n",
       "      <td>1</td>\n",
       "      <td>3211</td>\n",
       "      <td>...</td>\n",
       "      <td>1</td>\n",
       "      <td>3786</td>\n",
       "      <td>0</td>\n",
       "      <td>3786</td>\n",
       "      <td>0</td>\n",
       "      <td>12</td>\n",
       "      <td>0</td>\n",
       "      <td>12</td>\n",
       "      <td>9.619998</td>\n",
       "      <td>900</td>\n",
       "    </tr>\n",
       "    <tr>\n",
       "      <th>4</th>\n",
       "      <td>64</td>\n",
       "      <td>0</td>\n",
       "      <td>5</td>\n",
       "      <td>0.0</td>\n",
       "      <td>0.0</td>\n",
       "      <td>14</td>\n",
       "      <td>2500</td>\n",
       "      <td>1</td>\n",
       "      <td>1</td>\n",
       "      <td>4052</td>\n",
       "      <td>...</td>\n",
       "      <td>1</td>\n",
       "      <td>2580</td>\n",
       "      <td>0</td>\n",
       "      <td>2580</td>\n",
       "      <td>0</td>\n",
       "      <td>44</td>\n",
       "      <td>0</td>\n",
       "      <td>33</td>\n",
       "      <td>2.750000</td>\n",
       "      <td>4096</td>\n",
       "    </tr>\n",
       "  </tbody>\n",
       "</table>\n",
       "<p>5 rows × 34 columns</p>\n",
       "</div>"
      ],
      "text/plain": [
       "   age  black  case  clerical  construc  educ  earns74  gdhlth  inlf  leis1  \\\n",
       "0   32      0     1       0.0       0.0    12        0       0     1   3529   \n",
       "1   31      0     2       0.0       0.0    14     9500       1     1   2140   \n",
       "2   44      0     3       0.0       0.0    17    42500       1     1   4595   \n",
       "3   30      0     4       0.0       0.0    12    42500       1     1   3211   \n",
       "4   64      0     5       0.0       0.0    14     2500       1     1   4052   \n",
       "\n",
       "   ...  spwrk75  totwrk  union  worknrm  workscnd  exper  yngkid  yrsmarr  \\\n",
       "0  ...        0    3438      0     3438         0     14       0       13   \n",
       "1  ...        0    5020      0     5020         0     11       0        0   \n",
       "2  ...        1    2815      0     2815         0     21       0        0   \n",
       "3  ...        1    3786      0     3786         0     12       0       12   \n",
       "4  ...        1    2580      0     2580         0     44       0       33   \n",
       "\n",
       "      hrwage  agesq  \n",
       "0   7.070004   1024  \n",
       "1   1.429999    961  \n",
       "2  20.530000   1936  \n",
       "3   9.619998    900  \n",
       "4   2.750000   4096  \n",
       "\n",
       "[5 rows x 34 columns]"
      ]
     },
     "execution_count": 4,
     "metadata": {},
     "output_type": "execute_result"
    }
   ],
   "source": [
    "import statistics\n",
    "import pandas as pd\n",
    "df = pd.read_csv('sleep75.csv')\n",
    "df.shape, df.size\n",
    "df.head()"
   ]
  },
  {
   "cell_type": "markdown",
   "id": "22674c6f",
   "metadata": {},
   "source": [
    "Основные переменные в датафрейме `df`\n",
    "- `sleep`: продолжительность сна (мин/нед)\n",
    "- `totwrk`: рабочее время (мин/нед)\n",
    "- `age`: возраст (в годах)\n",
    "- `educ`: уровень образрвания в годах\n",
    "- `male`: гендерный фактор (бинарная, =1 для мужчин)\n",
    "- `south`: географический фактор (бинарная, =1 если живёт на юге)"
   ]
  },
  {
   "cell_type": "code",
   "execution_count": 11,
   "id": "8c0cc60f",
   "metadata": {},
   "outputs": [
    {
     "name": "stdout",
     "output_type": "stream",
     "text": [
      "<class 'pandas.core.frame.DataFrame'>\n",
      "RangeIndex: 706 entries, 0 to 705\n",
      "Data columns (total 34 columns):\n",
      " #   Column    Non-Null Count  Dtype  \n",
      "---  ------    --------------  -----  \n",
      " 0   age       706 non-null    int64  \n",
      " 1   black     706 non-null    int64  \n",
      " 2   case      706 non-null    int64  \n",
      " 3   clerical  706 non-null    float64\n",
      " 4   construc  706 non-null    float64\n",
      " 5   educ      706 non-null    int64  \n",
      " 6   earns74   706 non-null    int64  \n",
      " 7   gdhlth    706 non-null    int64  \n",
      " 8   inlf      706 non-null    int64  \n",
      " 9   leis1     706 non-null    int64  \n",
      " 10  leis2     706 non-null    int64  \n",
      " 11  leis3     706 non-null    int64  \n",
      " 12  smsa      706 non-null    int64  \n",
      " 13  lhrwage   532 non-null    float64\n",
      " 14  lothinc   706 non-null    float64\n",
      " 15  male      706 non-null    int64  \n",
      " 16  marr      706 non-null    int64  \n",
      " 17  prot      706 non-null    int64  \n",
      " 18  rlxall    706 non-null    int64  \n",
      " 19  selfe     706 non-null    int64  \n",
      " 20  sleep     706 non-null    int64  \n",
      " 21  slpnaps   706 non-null    int64  \n",
      " 22  south     706 non-null    int64  \n",
      " 23  spsepay   706 non-null    int64  \n",
      " 24  spwrk75   706 non-null    int64  \n",
      " 25  totwrk    706 non-null    int64  \n",
      " 26  union     706 non-null    int64  \n",
      " 27  worknrm   706 non-null    int64  \n",
      " 28  workscnd  706 non-null    int64  \n",
      " 29  exper     706 non-null    int64  \n",
      " 30  yngkid    706 non-null    int64  \n",
      " 31  yrsmarr   706 non-null    int64  \n",
      " 32  hrwage    532 non-null    float64\n",
      " 33  agesq     706 non-null    int64  \n",
      "dtypes: float64(5), int64(29)\n",
      "memory usage: 187.7 KB\n"
     ]
    }
   ],
   "source": [
    "df.info()"
   ]
  },
  {
   "cell_type": "markdown",
   "id": "61fb2c71",
   "metadata": {},
   "source": [
    "Для удобства создадим новый дата фрейм `df1` с количественными переменными: `sleep, totwrk, age`, `educ`"
   ]
  },
  {
   "cell_type": "code",
   "execution_count": 12,
   "id": "2ec50777",
   "metadata": {},
   "outputs": [
    {
     "name": "stdout",
     "output_type": "stream",
     "text": [
      "<class 'pandas.core.frame.DataFrame'>\n",
      "RangeIndex: 706 entries, 0 to 705\n",
      "Data columns (total 4 columns):\n",
      " #   Column  Non-Null Count  Dtype\n",
      "---  ------  --------------  -----\n",
      " 0   sleep   706 non-null    int64\n",
      " 1   totwrk  706 non-null    int64\n",
      " 2   age     706 non-null    int64\n",
      " 3   educ    706 non-null    int64\n",
      "dtypes: int64(4)\n",
      "memory usage: 22.2 KB\n"
     ]
    }
   ],
   "source": [
    "df1 = df[['sleep', 'totwrk', 'age', 'educ']]\n",
    "df1.info()"
   ]
  },
  {
   "cell_type": "markdown",
   "id": "8e5bafa5",
   "metadata": {},
   "source": [
    "## Основные описательные статистики по переменным дата фрейма\n",
    "метод `.descrive()` из библиотеки `pandas`"
   ]
  },
  {
   "cell_type": "code",
   "execution_count": 7,
   "id": "7743383f",
   "metadata": {},
   "outputs": [
    {
     "data": {
      "text/html": [
       "<div>\n",
       "<style scoped>\n",
       "    .dataframe tbody tr th:only-of-type {\n",
       "        vertical-align: middle;\n",
       "    }\n",
       "\n",
       "    .dataframe tbody tr th {\n",
       "        vertical-align: top;\n",
       "    }\n",
       "\n",
       "    .dataframe thead th {\n",
       "        text-align: right;\n",
       "    }\n",
       "</style>\n",
       "<table border=\"1\" class=\"dataframe\">\n",
       "  <thead>\n",
       "    <tr style=\"text-align: right;\">\n",
       "      <th></th>\n",
       "      <th>sleep</th>\n",
       "      <th>totwrk</th>\n",
       "      <th>age</th>\n",
       "      <th>educ</th>\n",
       "    </tr>\n",
       "  </thead>\n",
       "  <tbody>\n",
       "    <tr>\n",
       "      <th>count</th>\n",
       "      <td>706.000000</td>\n",
       "      <td>706.000000</td>\n",
       "      <td>706.000000</td>\n",
       "      <td>706.000000</td>\n",
       "    </tr>\n",
       "    <tr>\n",
       "      <th>mean</th>\n",
       "      <td>3266.355524</td>\n",
       "      <td>2122.920680</td>\n",
       "      <td>38.815864</td>\n",
       "      <td>12.780453</td>\n",
       "    </tr>\n",
       "    <tr>\n",
       "      <th>std</th>\n",
       "      <td>444.413448</td>\n",
       "      <td>947.470123</td>\n",
       "      <td>11.342637</td>\n",
       "      <td>2.784702</td>\n",
       "    </tr>\n",
       "    <tr>\n",
       "      <th>min</th>\n",
       "      <td>755.000000</td>\n",
       "      <td>0.000000</td>\n",
       "      <td>23.000000</td>\n",
       "      <td>1.000000</td>\n",
       "    </tr>\n",
       "    <tr>\n",
       "      <th>25%</th>\n",
       "      <td>3015.000000</td>\n",
       "      <td>1553.500000</td>\n",
       "      <td>29.000000</td>\n",
       "      <td>12.000000</td>\n",
       "    </tr>\n",
       "    <tr>\n",
       "      <th>50%</th>\n",
       "      <td>3270.500000</td>\n",
       "      <td>2288.000000</td>\n",
       "      <td>36.000000</td>\n",
       "      <td>12.000000</td>\n",
       "    </tr>\n",
       "    <tr>\n",
       "      <th>75%</th>\n",
       "      <td>3532.250000</td>\n",
       "      <td>2691.750000</td>\n",
       "      <td>48.000000</td>\n",
       "      <td>16.000000</td>\n",
       "    </tr>\n",
       "    <tr>\n",
       "      <th>max</th>\n",
       "      <td>4695.000000</td>\n",
       "      <td>6415.000000</td>\n",
       "      <td>65.000000</td>\n",
       "      <td>17.000000</td>\n",
       "    </tr>\n",
       "  </tbody>\n",
       "</table>\n",
       "</div>"
      ],
      "text/plain": [
       "             sleep       totwrk         age        educ\n",
       "count   706.000000   706.000000  706.000000  706.000000\n",
       "mean   3266.355524  2122.920680   38.815864   12.780453\n",
       "std     444.413448   947.470123   11.342637    2.784702\n",
       "min     755.000000     0.000000   23.000000    1.000000\n",
       "25%    3015.000000  1553.500000   29.000000   12.000000\n",
       "50%    3270.500000  2288.000000   36.000000   12.000000\n",
       "75%    3532.250000  2691.750000   48.000000   16.000000\n",
       "max    4695.000000  6415.000000   65.000000   17.000000"
      ]
     },
     "execution_count": 7,
     "metadata": {},
     "output_type": "execute_result"
    }
   ],
   "source": [
    "df1.describe()"
   ]
  },
  {
   "cell_type": "markdown",
   "id": "19569365",
   "metadata": {},
   "source": [
    "## Корреляции и ковариации\n",
    "Методы `.cov()` и `.corr()` из библиотеки `pandas` вычисляют ковариационну и корреляционную матрицы соответственно для переменных из датафрейма"
   ]
  },
  {
   "cell_type": "code",
   "execution_count": 8,
   "id": "c465f6ff",
   "metadata": {},
   "outputs": [
    {
     "data": {
      "text/html": [
       "<div>\n",
       "<style scoped>\n",
       "    .dataframe tbody tr th:only-of-type {\n",
       "        vertical-align: middle;\n",
       "    }\n",
       "\n",
       "    .dataframe tbody tr th {\n",
       "        vertical-align: top;\n",
       "    }\n",
       "\n",
       "    .dataframe thead th {\n",
       "        text-align: right;\n",
       "    }\n",
       "</style>\n",
       "<table border=\"1\" class=\"dataframe\">\n",
       "  <thead>\n",
       "    <tr style=\"text-align: right;\">\n",
       "      <th></th>\n",
       "      <th>sleep</th>\n",
       "      <th>totwrk</th>\n",
       "      <th>age</th>\n",
       "      <th>educ</th>\n",
       "    </tr>\n",
       "  </thead>\n",
       "  <tbody>\n",
       "    <tr>\n",
       "      <th>sleep</th>\n",
       "      <td>197503.313140</td>\n",
       "      <td>-135324.471051</td>\n",
       "      <td>455.553501</td>\n",
       "      <td>-117.572899</td>\n",
       "    </tr>\n",
       "    <tr>\n",
       "      <th>totwrk</th>\n",
       "      <td>-135324.471051</td>\n",
       "      <td>897699.633416</td>\n",
       "      <td>-532.718173</td>\n",
       "      <td>86.023696</td>\n",
       "    </tr>\n",
       "    <tr>\n",
       "      <th>age</th>\n",
       "      <td>455.553501</td>\n",
       "      <td>-532.718173</td>\n",
       "      <td>128.655408</td>\n",
       "      <td>-8.396512</td>\n",
       "    </tr>\n",
       "    <tr>\n",
       "      <th>educ</th>\n",
       "      <td>-117.572899</td>\n",
       "      <td>86.023696</td>\n",
       "      <td>-8.396512</td>\n",
       "      <td>7.754568</td>\n",
       "    </tr>\n",
       "  </tbody>\n",
       "</table>\n",
       "</div>"
      ],
      "text/plain": [
       "                sleep         totwrk         age        educ\n",
       "sleep   197503.313140 -135324.471051  455.553501 -117.572899\n",
       "totwrk -135324.471051  897699.633416 -532.718173   86.023696\n",
       "age        455.553501    -532.718173  128.655408   -8.396512\n",
       "educ      -117.572899      86.023696   -8.396512    7.754568"
      ]
     },
     "execution_count": 8,
     "metadata": {},
     "output_type": "execute_result"
    }
   ],
   "source": [
    "df1.cov()"
   ]
  },
  {
   "cell_type": "code",
   "execution_count": 9,
   "id": "b97a990a",
   "metadata": {},
   "outputs": [
    {
     "data": {
      "text/html": [
       "<div>\n",
       "<style scoped>\n",
       "    .dataframe tbody tr th:only-of-type {\n",
       "        vertical-align: middle;\n",
       "    }\n",
       "\n",
       "    .dataframe tbody tr th {\n",
       "        vertical-align: top;\n",
       "    }\n",
       "\n",
       "    .dataframe thead th {\n",
       "        text-align: right;\n",
       "    }\n",
       "</style>\n",
       "<table border=\"1\" class=\"dataframe\">\n",
       "  <thead>\n",
       "    <tr style=\"text-align: right;\">\n",
       "      <th></th>\n",
       "      <th>sleep</th>\n",
       "      <th>totwrk</th>\n",
       "      <th>age</th>\n",
       "      <th>educ</th>\n",
       "    </tr>\n",
       "  </thead>\n",
       "  <tbody>\n",
       "    <tr>\n",
       "      <th>sleep</th>\n",
       "      <td>1.000</td>\n",
       "      <td>-0.321</td>\n",
       "      <td>0.090</td>\n",
       "      <td>-0.095</td>\n",
       "    </tr>\n",
       "    <tr>\n",
       "      <th>totwrk</th>\n",
       "      <td>-0.321</td>\n",
       "      <td>1.000</td>\n",
       "      <td>-0.050</td>\n",
       "      <td>0.033</td>\n",
       "    </tr>\n",
       "    <tr>\n",
       "      <th>age</th>\n",
       "      <td>0.090</td>\n",
       "      <td>-0.050</td>\n",
       "      <td>1.000</td>\n",
       "      <td>-0.266</td>\n",
       "    </tr>\n",
       "    <tr>\n",
       "      <th>educ</th>\n",
       "      <td>-0.095</td>\n",
       "      <td>0.033</td>\n",
       "      <td>-0.266</td>\n",
       "      <td>1.000</td>\n",
       "    </tr>\n",
       "  </tbody>\n",
       "</table>\n",
       "</div>"
      ],
      "text/plain": [
       "        sleep  totwrk    age   educ\n",
       "sleep   1.000  -0.321  0.090 -0.095\n",
       "totwrk -0.321   1.000 -0.050  0.033\n",
       "age     0.090  -0.050  1.000 -0.266\n",
       "educ   -0.095   0.033 -0.266  1.000"
      ]
     },
     "execution_count": 9,
     "metadata": {},
     "output_type": "execute_result"
    }
   ],
   "source": [
    "# round( df1.corr(), 3)\n",
    "df1.corr().round(3)"
   ]
  },
  {
   "cell_type": "markdown",
   "id": "afc96c2a",
   "metadata": {},
   "source": [
    "Методы `.covariance()` и `correlation()` из библиотеки `statistics` вычисляют ковариацию и корреляция для двух переменных (массивов данных)"
   ]
  },
  {
   "cell_type": "markdown",
   "id": "00282451",
   "metadata": {},
   "source": [
    "## Выборочное среднее\n",
    "метод ``.mean()`` из библиотеки ``pandas``"
   ]
  },
  {
   "cell_type": "code",
   "execution_count": 10,
   "id": "ff16e464",
   "metadata": {},
   "outputs": [
    {
     "data": {
      "text/plain": [
       "sleep     3266.356\n",
       "totwrk    2122.921\n",
       "age         38.816\n",
       "educ        12.780\n",
       "dtype: float64"
      ]
     },
     "execution_count": 10,
     "metadata": {},
     "output_type": "execute_result"
    }
   ],
   "source": [
    "df1.mean().round(3)"
   ]
  },
  {
   "cell_type": "markdown",
   "id": "be40988d",
   "metadata": {},
   "source": [
    "метод ``.mean()`` из библиотеки ``statistics`` (для одномерного массива). Результат округляется с использованием функции `round()`"
   ]
  },
  {
   "cell_type": "code",
   "execution_count": 13,
   "id": "7cd84abf",
   "metadata": {},
   "outputs": [
    {
     "data": {
      "text/plain": [
       "3266.36"
      ]
     },
     "execution_count": 13,
     "metadata": {},
     "output_type": "execute_result"
    }
   ],
   "source": [
    "round( statistics.mean(df['sleep']), 2)"
   ]
  },
  {
   "cell_type": "markdown",
   "id": "946a3e65",
   "metadata": {},
   "source": [
    "## Стандартное отклонение\n",
    "метод ``.std()`` из библиотеки ``pandas``"
   ]
  },
  {
   "cell_type": "code",
   "execution_count": 14,
   "id": "3085af98",
   "metadata": {},
   "outputs": [
    {
     "data": {
      "text/plain": [
       "sleep     444.413\n",
       "totwrk    947.470\n",
       "age        11.343\n",
       "educ        2.785\n",
       "dtype: float64"
      ]
     },
     "execution_count": 14,
     "metadata": {},
     "output_type": "execute_result"
    }
   ],
   "source": [
    "df1.std().round(3)"
   ]
  },
  {
   "cell_type": "markdown",
   "id": "99b7586b",
   "metadata": {},
   "source": [
    "метод ``.stdev()`` из библиотеки ``statistics`` (для одномерного массива). Результат округляется с использованием функции `round()`"
   ]
  },
  {
   "cell_type": "code",
   "execution_count": 15,
   "id": "05bff630",
   "metadata": {},
   "outputs": [
    {
     "data": {
      "text/plain": [
       "444.413"
      ]
     },
     "execution_count": 15,
     "metadata": {},
     "output_type": "execute_result"
    }
   ],
   "source": [
    "round( statistics.stdev(df['sleep']), 3)"
   ]
  },
  {
   "cell_type": "markdown",
   "id": "e1d83053",
   "metadata": {},
   "source": [
    "Смещённая дисперсия $Var(X)$: метод `.pstdev()` из библиотеки ``statistics`` (для одномерного массива). Результат округляется с использованием функции `round()`"
   ]
  },
  {
   "cell_type": "code",
   "execution_count": 16,
   "id": "41fe3bea",
   "metadata": {},
   "outputs": [
    {
     "data": {
      "text/plain": [
       "444.099"
      ]
     },
     "execution_count": 16,
     "metadata": {},
     "output_type": "execute_result"
    }
   ],
   "source": [
    "round( statistics.pstdev(df['sleep']), 3)"
   ]
  },
  {
   "cell_type": "markdown",
   "id": "e47fa220",
   "metadata": {},
   "source": [
    "# Медиана\n",
    "метод ``.median()`` из библиотеки ``pandas``"
   ]
  },
  {
   "cell_type": "code",
   "execution_count": 17,
   "id": "6a602d04",
   "metadata": {},
   "outputs": [
    {
     "data": {
      "text/plain": [
       "sleep     3270.5\n",
       "totwrk    2288.0\n",
       "age         36.0\n",
       "educ        12.0\n",
       "dtype: float64"
      ]
     },
     "execution_count": 17,
     "metadata": {},
     "output_type": "execute_result"
    }
   ],
   "source": [
    "df1.median()"
   ]
  },
  {
   "cell_type": "markdown",
   "id": "58ce5a47",
   "metadata": {},
   "source": [
    "метод `.median()` из библиотеки ``statistics`` (для одномерного массива)."
   ]
  },
  {
   "cell_type": "code",
   "execution_count": 18,
   "id": "3c93dffa",
   "metadata": {},
   "outputs": [
    {
     "data": {
      "text/plain": [
       "3270.5"
      ]
     },
     "execution_count": 18,
     "metadata": {},
     "output_type": "execute_result"
    }
   ],
   "source": [
    "statistics.median(df['sleep'])"
   ]
  },
  {
   "cell_type": "markdown",
   "id": "23903735",
   "metadata": {},
   "source": [
    "# Квантили\n",
    "метод ``.quantile()`` из библиотеки ``pandas``: аргумент $q=0.25$ для первой квартили и $q=0.75$ для третей квартили"
   ]
  },
  {
   "cell_type": "code",
   "execution_count": 19,
   "id": "f5aacd9f",
   "metadata": {},
   "outputs": [
    {
     "data": {
      "text/plain": [
       "(sleep     3015.0\n",
       " totwrk    1553.5\n",
       " age         29.0\n",
       " educ        12.0\n",
       " Name: 0.25, dtype: float64,\n",
       " sleep     3532.25\n",
       " totwrk    2691.75\n",
       " age         48.00\n",
       " educ        16.00\n",
       " Name: 0.75, dtype: float64)"
      ]
     },
     "execution_count": 19,
     "metadata": {},
     "output_type": "execute_result"
    }
   ],
   "source": [
    "df1.quantile(q=0.25), df1.quantile(q=0.75)"
   ]
  },
  {
   "cell_type": "markdown",
   "id": "549cfd9b",
   "metadata": {},
   "source": [
    "Метод `.quantiles(n=4)` из библиотеки `statistics` вычисляет квантили из условия, что они делят выборку на $n$ равных частей (по умолчанию на 4 части)"
   ]
  },
  {
   "cell_type": "code",
   "execution_count": 20,
   "id": "f386ad93",
   "metadata": {},
   "outputs": [
    {
     "data": {
      "text/plain": [
       "[3015.0, 3270.5, 3533.75]"
      ]
     },
     "execution_count": 20,
     "metadata": {},
     "output_type": "execute_result"
    }
   ],
   "source": [
    "statistics.quantiles(data=df['sleep'], n=4)"
   ]
  },
  {
   "cell_type": "code",
   "execution_count": null,
   "id": "e8581bb2",
   "metadata": {},
   "outputs": [],
   "source": []
  }
 ],
 "metadata": {
  "kernelspec": {
   "display_name": "Python [conda env:base] *",
   "language": "python",
   "name": "conda-base-py"
  },
  "language_info": {
   "codemirror_mode": {
    "name": "ipython",
    "version": 3
   },
   "file_extension": ".py",
   "mimetype": "text/x-python",
   "name": "python",
   "nbconvert_exporter": "python",
   "pygments_lexer": "ipython3",
   "version": "3.13.5"
  }
 },
 "nbformat": 4,
 "nbformat_minor": 5
}
