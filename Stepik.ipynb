{
 "cells": [
  {
   "cell_type": "code",
   "execution_count": 1,
   "id": "ad62d896",
   "metadata": {},
   "outputs": [
    {
     "name": "stdout",
     "output_type": "stream",
     "text": [
      "5\n",
      "1 2 3 4 5\n",
      "16 17 18 19 6\n",
      "15 24 25 20 7\n",
      "14 23 22 21 8\n",
      "13 12 11 10 9\n"
     ]
    }
   ],
   "source": [
    "n = int(input())\n",
    "\n",
    "# посторим матрицу n * n из нулей\n",
    "flst = []\n",
    "for i in range(n):\n",
    "    flst.append([0] * n)\n",
    "\n",
    "# сделаем список чисел от 1 до n**2\n",
    "lst = []\n",
    "for i in range(1,n*n+1):\n",
    "    lst.append(i)\n",
    "\n",
    "# заполняем из списка чисел в матрицу по спирали\n",
    "for j in range(n):\n",
    "    \n",
    "    for i in range(j, n):\n",
    "        flst[j][i] = lst[0]  # заполняем вправо\n",
    "        lst = lst[1:]\n",
    "\n",
    "    for i in range(j+1,n):\n",
    "        flst[i][-j-1] = lst[0]  # заполняем вниз\n",
    "        lst = lst[1:]\n",
    "\n",
    "    for i in range(j+2,n+1):  \n",
    "        flst[-j-1][-i] = lst[0]  # заполняем влево\n",
    "        lst = lst[1:]\n",
    "\n",
    "    for i in range(j+2,n):\n",
    "        flst[-i][j] = lst[0]  # заполняем вверх\n",
    "        lst = lst[1:]\n",
    "\n",
    "    n = n - 1  # уходим на новый виток спирали\n",
    "\n",
    "for i in range(len(flst)):\n",
    "    print(*flst[i])"
   ]
  },
  {
   "cell_type": "code",
   "execution_count": null,
   "id": "64f2b7bb",
   "metadata": {},
   "outputs": [],
   "source": [
    "std = float(input('input sd (стандартное отклонение) '))\n",
    "n = float(input('input n (размер выборки) '))\n",
    "mean = float(input('input mean (выборочное среднее) '))\n",
    "Z = 1.96  # квантиль нормального распределения для 95% доверительного интервала (из таблицы нормального распределения: 1.96)\n",
    "left = mean - Z * (std / n ** 0.5)  \n",
    "right = mean + Z * (std / n ** 0.5)\n",
    "print('доверительный интервал:', [left, right])"
   ]
  },
  {
   "cell_type": "code",
   "execution_count": 16,
   "id": "c1de5097",
   "metadata": {},
   "outputs": [
    {
     "name": "stdout",
     "output_type": "stream",
     "text": [
      "1614\n",
      "ДА\n"
     ]
    }
   ],
   "source": [
    "# Позиции чисел в цифре\n",
    "\n",
    "i = int(input())\n",
    "\n",
    "digit1 = i // 1000\n",
    "digit2 = (i // 100) % 10\n",
    "digit3 = (i // 10) % 10\n",
    "digit4 = i % 10\n",
    "\n",
    "if digit1+digit4 == digit2-digit3:\n",
    "    print('ДА')\n",
    "else:\n",
    "    print('НЕТ')"
   ]
  },
  {
   "cell_type": "code",
   "execution_count": 22,
   "id": "cabc5fe8",
   "metadata": {},
   "outputs": [
    {
     "name": "stdout",
     "output_type": "stream",
     "text": [
      "10\n",
      "5\n",
      "0\n",
      "YES\n"
     ]
    }
   ],
   "source": [
    "# Арифметическая прогрессия\n",
    "\n",
    "a, b, c = int(input()), int(input()), int(input())\n",
    "\n",
    "if b-a == c-b:\n",
    "    print('YES')\n",
    "else:\n",
    "    print('NO')"
   ]
  },
  {
   "cell_type": "code",
   "execution_count": 33,
   "id": "4b121eef",
   "metadata": {},
   "outputs": [
    {
     "name": "stdout",
     "output_type": "stream",
     "text": [
      "100\n",
      "200\n",
      "5\n",
      "1\n",
      "1\n"
     ]
    }
   ],
   "source": [
    "a, b, c, d = int(input()), int(input()), int(input()), int(input())\n",
    "\n",
    "if a<=b and a<=c and a<=d:\n",
    "    print(a)\n",
    "else:\n",
    "    if b<=a and b<=c and c<=d:\n",
    "        print(b)\n",
    "    else:\n",
    "        if c<=b and c<=a and c<=d:\n",
    "            print(c)\n",
    "        else:\n",
    "            print(d)"
   ]
  },
  {
   "cell_type": "code",
   "execution_count": 44,
   "id": "afb21910",
   "metadata": {},
   "outputs": [
    {
     "name": "stdout",
     "output_type": "stream",
     "text": [
      "-1\n",
      "-2\n",
      "3\n",
      "3\n"
     ]
    }
   ],
   "source": [
    "a, b, d = int(input()), int(input()), int(input())\n",
    "\n",
    "if a<0:\n",
    "    if b<0:\n",
    "        if d<0:\n",
    "            print(0)\n",
    "        else:\n",
    "            print(d)\n",
    "    else:\n",
    "        if d<0:\n",
    "            print(b)\n",
    "        else:\n",
    "            print(b+d)\n",
    "else:\n",
    "    if b<0:\n",
    "        if d<0:\n",
    "            print(a)\n",
    "        else:\n",
    "            print(a+d)\n",
    "    else:\n",
    "        if d<0:\n",
    "            print(a+b)\n",
    "        else:\n",
    "            print(a+b+d)"
   ]
  },
  {
   "cell_type": "code",
   "execution_count": 45,
   "id": "86fb5564",
   "metadata": {},
   "outputs": [
    {
     "name": "stdout",
     "output_type": "stream",
     "text": [
      "-1\n",
      "-2\n",
      "3\n",
      "3\n"
     ]
    }
   ],
   "source": [
    "a, b, c = int(input()), int(input()), int(input())\n",
    "total = 0\n",
    "if a > 0:\n",
    "    total = total + a\n",
    "if b > 0:\n",
    "    total = total + b\n",
    "if c > 0:\n",
    "    total = total + c\n",
    "print(total)\n"
   ]
  },
  {
   "cell_type": "code",
   "execution_count": 2,
   "id": "8183b28f",
   "metadata": {},
   "outputs": [
    {
     "name": "stdout",
     "output_type": "stream",
     "text": [
      "2004\n",
      "YES\n"
     ]
    }
   ],
   "source": [
    "year = int(input())\n",
    "\n",
    "if (year % 4 == 0 and year % 100 != 0) or year % 400 == 0:\n",
    "    print('YES')\n",
    "else:\n",
    "    print('NO')"
   ]
  },
  {
   "cell_type": "code",
   "execution_count": 9,
   "id": "e26a9893",
   "metadata": {},
   "outputs": [
    {
     "name": "stdout",
     "output_type": "stream",
     "text": [
      "1 2 3\n",
      "1,2,3\n"
     ]
    }
   ],
   "source": [
    "a,b,c = map(float,input().split())\n",
    "print(int(a),int(b),int(c), sep=',')"
   ]
  },
  {
   "cell_type": "code",
   "execution_count": 13,
   "id": "d08a1e58",
   "metadata": {},
   "outputs": [
    {
     "name": "stdout",
     "output_type": "stream",
     "text": [
      "1\n",
      "1\n"
     ]
    }
   ],
   "source": [
    "i = int(input())\n",
    "\n",
    "digit1 = i // 100\n",
    "digit2 = (i // 10) % 10\n",
    "digit3 = i % 10\n",
    "\n",
    "print(digit1+digit2+digit3)"
   ]
  },
  {
   "cell_type": "code",
   "execution_count": 14,
   "id": "a2b8ea0e",
   "metadata": {},
   "outputs": [
    {
     "name": "stdout",
     "output_type": "stream",
     "text": [
      "125\n",
      "3\n"
     ]
    }
   ],
   "source": [
    "#У Олега в банке есть n евро. Он хочет снять всю сумму наличными. Номиналы еврокупюр равны 1, 5, 10, 20, 100. \n",
    "#Какое минимальное число купюр должен получить Олег после того, как снимет все деньги? \n",
    "#На вход программе поступает одно положительные целое число n.\n",
    "\n",
    "import math\n",
    "\n",
    "a = int(input())\n",
    "\n",
    "print(int(a//100 + math.ceil(a//10%10/2) + int(a%10/5) + a%10*20%100*0.05))\n",
    "\n",
    "## n = int(input()); print(n // 100 + n % 100 // 20 + n % 20 // 10 + n % 10 // 5 + n % 5 // 1)"
   ]
  },
  {
   "cell_type": "code",
   "execution_count": 15,
   "id": "dc1ad034",
   "metadata": {},
   "outputs": [
    {
     "name": "stdout",
     "output_type": "stream",
     "text": [
      "137\n",
      "2 17\n"
     ]
    }
   ],
   "source": [
    "#Дано число n. С начала суток прошло n минут. Определите, сколько часов и минут будут показывать электронные часы в этот момент.\n",
    "#Программа должна вывести два числа: количество часов (от 0 до 23) и количество минут (от 0 до 59).\n",
    "#Учтите, что число n может быть больше, чем количество минут в сутках.\n",
    "\n",
    "n = int(input())\n",
    "h = (n//60)%24\n",
    "m = n%60\n",
    "print(h, m)"
   ]
  },
  {
   "cell_type": "code",
   "execution_count": 16,
   "id": "e44afd44",
   "metadata": {},
   "outputs": [
    {
     "name": "stdout",
     "output_type": "stream",
     "text": [
      "137\n",
      "0:02:17\n"
     ]
    }
   ],
   "source": [
    "n = int(input())\n",
    "print((n // 3600) % 24,':', (n // 60) % 60 // 10, (n // 60) % 60 % 10,':', n % 60 // 10,n % 60 % 10 , sep = '')"
   ]
  },
  {
   "cell_type": "code",
   "execution_count": 33,
   "id": "c949a440",
   "metadata": {},
   "outputs": [
    {
     "name": "stdout",
     "output_type": "stream",
     "text": [
      "1\n",
      "2\n",
      "3\n",
      "4\n",
      "пустое множество\n"
     ]
    }
   ],
   "source": [
    "a1, b1, a2, b2 = int(input()), int(input()), int(input()), int(input()) \n",
    "\n",
    "if a2 < a1:\n",
    "    # теперь отрезок a1, b1 точно левее (по крайней мере своим левым концом) отрезка a2, b2\n",
    "    a1, b1, a2, b2 = a2, b2, a1, b1 \n",
    "    \n",
    "if a2 > b1: \n",
    "    print(\"пустое множество\")\n",
    "elif a2 == b1:\n",
    "    print(a2)\n",
    "else:\n",
    "    if b1 < b2:\n",
    "        print(a2, b1)\n",
    "    else:\n",
    "        print(a2, b2)"
   ]
  },
  {
   "cell_type": "code",
   "execution_count": 38,
   "id": "f6d98ac5",
   "metadata": {},
   "outputs": [
    {
     "name": "stdout",
     "output_type": "stream",
     "text": [
      "1\n",
      "1\n",
      "2\n",
      "3\n"
     ]
    }
   ],
   "source": [
    "from math import ceil\n",
    "\n",
    "a, b, c = int(input()), int(input()), int(input())\n",
    "print(ceil(a/2) + ceil(b/2) + ceil(c/2))"
   ]
  },
  {
   "cell_type": "code",
   "execution_count": 41,
   "id": "94506545",
   "metadata": {},
   "outputs": [
    {
     "name": "stdout",
     "output_type": "stream",
     "text": [
      "12\n",
      "12\n",
      "4\n",
      "2\n",
      "58\n",
      "58\n",
      "112\n"
     ]
    }
   ],
   "source": [
    "while True:\n",
    "    try:\n",
    "        # Считываем число с консоли\n",
    "        number = int(input())\n",
    "        \n",
    "        # Если число больше 100, прекращаем считывание\n",
    "        if number > 100:\n",
    "            break\n",
    "        \n",
    "        # Если число меньше 10, пропускаем его\n",
    "        if number < 10:\n",
    "            continue\n",
    "        \n",
    "        # Выводим число, если оно находится в диапазоне [10, 100]\n",
    "        print(number)\n",
    "    except ValueError:\n",
    "        # Обрабатываем случай некорректного ввода\n",
    "        print(\"Введите целое число.\")\n"
   ]
  },
  {
   "cell_type": "code",
   "execution_count": 3,
   "id": "b1364b13",
   "metadata": {},
   "outputs": [
    {
     "name": "stdout",
     "output_type": "stream",
     "text": [
      "945\n",
      "Число интересное\n"
     ]
    }
   ],
   "source": [
    "i = int(input())\n",
    "\n",
    "digit1 = i // 100\n",
    "digit2 = (i // 10) % 10\n",
    "digit3 = (i // 1) % 10\n",
    "sumi = digit1 + digit2 + digit3\n",
    "maxi = max(digit1, digit2, digit3)\n",
    "mini = max(digit1, digit2, digit3)\n",
    "midi = sumi - maxi - mini\n",
    "\n",
    "if maxi - mini == midi:\n",
    "    print('Число интересное')\n",
    "else:\n",
    "    print('Число неинтересное')"
   ]
  },
  {
   "cell_type": "code",
   "execution_count": null,
   "id": "e1d994d1",
   "metadata": {},
   "outputs": [],
   "source": [
    "n = int(input()) #  3-digit\n",
    "n1 = n // 10 ** 0 % 10\n",
    "n2 = n // 10 ** 1 % 10\n",
    "n3 = n // 10 ** 2 % 10"
   ]
  },
  {
   "cell_type": "code",
   "execution_count": 2,
   "id": "1030e934",
   "metadata": {},
   "outputs": [
    {
     "name": "stdout",
     "output_type": "stream",
     "text": [
      "12345\n",
      "5\n",
      "4\n",
      "3\n",
      "2\n",
      "1\n"
     ]
    }
   ],
   "source": [
    "n = int(input()) #  5-digit\n",
    "n1 = n // 10 ** 0 % 10 # last_digit\n",
    "n2 = n // 10 ** 1 % 10\n",
    "n3 = n // 10 ** 2 % 10\n",
    "n4 = n // 10 ** 3 % 10\n",
    "n5 = n // 10 ** 4 % 10 # first_digit\n",
    "print(n1)\n",
    "print(n2)\n",
    "print(n3)\n",
    "print(n4)\n",
    "print(n5)"
   ]
  },
  {
   "cell_type": "code",
   "execution_count": 5,
   "id": "722393a9",
   "metadata": {},
   "outputs": [
    {
     "name": "stdout",
     "output_type": "stream",
     "text": [
      "12345\n",
      "5\n",
      "4\n",
      "3\n",
      "2\n",
      "1\n"
     ]
    }
   ],
   "source": [
    "n = int(input())\n",
    "while n != 0:  # пока в числе есть цифры\n",
    "    last_digit = n % 10  # получить последнюю цифру\n",
    "    # код обработки последней цифры\n",
    "    n = n // 10  # удалить последнюю цифру из числа\n",
    "    print(last_digit)"
   ]
  },
  {
   "cell_type": "code",
   "execution_count": null,
   "id": "8a79d18e",
   "metadata": {},
   "outputs": [],
   "source": [
    "n = int(input())\n",
    "summ = 0\n",
    "cnt = 0\n",
    "mult = 1\n",
    "last_digit = n % 10\n",
    "\n",
    "while n!=0:\n",
    "    first_digit=n%10\n",
    "    digit =  n  % 10\n",
    "    summ+=digit\n",
    "    cnt+=1\n",
    "    mult=mult*digit\n",
    "    avg = summ/cnt\n",
    "    n=n//10\n",
    "    \n",
    "print(summ,cnt,mult, avg, digit, (first_digit+last_digit), sep='\\n')"
   ]
  },
  {
   "cell_type": "code",
   "execution_count": null,
   "id": "6e9a32ae",
   "metadata": {},
   "outputs": [],
   "source": [
    "n = int(input())\n",
    "second_digit=n%10\n",
    "while n>9:\n",
    "    last_digit=n%10\n",
    "    n=n//10\n",
    "    second_digit=last_digit\n",
    "    # print(last_digit)\n",
    "    # print(n)\n",
    "    # print(second_digit)\n",
    "    # print(' ')\n",
    "    \n",
    "print(second_digit)"
   ]
  },
  {
   "cell_type": "code",
   "execution_count": 2,
   "id": "7c971cc4",
   "metadata": {},
   "outputs": [
    {
     "name": "stdout",
     "output_type": "stream",
     "text": [
      "1\n",
      "9\n",
      "1\n",
      "9\n",
      "\t1\t2\t3\t4\t5\t6\t7\t8\t9\n",
      "1\t1\t2\t3\t4\t5\t6\t7\t8\t9\t\n",
      "2\t2\t4\t6\t8\t10\t12\t14\t16\t18\t\n",
      "3\t3\t6\t9\t12\t15\t18\t21\t24\t27\t\n",
      "4\t4\t8\t12\t16\t20\t24\t28\t32\t36\t\n",
      "5\t5\t10\t15\t20\t25\t30\t35\t40\t45\t\n",
      "6\t6\t12\t18\t24\t30\t36\t42\t48\t54\t\n",
      "7\t7\t14\t21\t28\t35\t42\t49\t56\t63\t\n",
      "8\t8\t16\t24\t32\t40\t48\t56\t64\t72\t\n",
      "9\t9\t18\t27\t36\t45\t54\t63\t72\t81\t\n"
     ]
    }
   ],
   "source": [
    "# таблица умножения\n",
    "a, b = int(input()), int(input()) # vertical\n",
    "c, d = int(input()), int(input()) # horizontal\n",
    "\n",
    "for i in range(c,d+1):\n",
    "    print('', i, sep='\\t', end='')\n",
    "print()\n",
    "for j in range(a,b+1):\n",
    "    print(j, end='\\t')\n",
    "    for k in range(c,d+1):\n",
    "        print(j*k, end='\\t')\n",
    "    print()"
   ]
  },
  {
   "cell_type": "code",
   "execution_count": 1,
   "id": "d0ea9068",
   "metadata": {},
   "outputs": [
    {
     "name": "stdout",
     "output_type": "stream",
     "text": [
      "3\n",
      "1 1 2\n"
     ]
    }
   ],
   "source": [
    "# Fibonacci\n",
    "\n",
    "n = int(input())\n",
    "lst = [1, 1]\n",
    "\n",
    "while n != len(lst):\n",
    "    m = sum(lst[-1:-3:-1])\n",
    "    lst.append(m)\n",
    "\n",
    "print(*lst)"
   ]
  },
  {
   "cell_type": "code",
   "execution_count": null,
   "id": "951d83f8",
   "metadata": {},
   "outputs": [],
   "source": [
    "total = 0\n",
    "for x in range(1, 11):\n",
    "    for y in range(1, 21):\n",
    "        for z in range(1, 201):\n",
    "            if 10 * x + 5 * y + 0.5 * z == 100:\n",
    "                total += 1\n",
    "                if (x+y+z)==100:\n",
    "                    print('x =', x, 'y =', y, 'z =', z, x+y+z)\n"
   ]
  },
  {
   "cell_type": "code",
   "execution_count": null,
   "id": "a343d0aa",
   "metadata": {},
   "outputs": [],
   "source": [
    "# сверху вниз, слева направо\n",
    "\n",
    "n = int(input())\n",
    "m = [list(map(int, input().split())) for i in range(n)]\n",
    "\n",
    "for column in range(n):\n",
    "    for row in range(n): \n",
    "        print(f'{m[row][column]:2}', end=\" \")\n",
    "    print()"
   ]
  },
  {
   "cell_type": "code",
   "execution_count": null,
   "id": "87876060",
   "metadata": {},
   "outputs": [],
   "source": [
    "# справа налево\n",
    "\n",
    "a = [\n",
    "  [0, 2, 4, 6],\n",
    "  [1, 5, 9, 13],\n",
    "  [3, 10, 17, 19]\n",
    "]\n",
    "\n",
    "for row in range(3):  # Перебираем строки в обычном порядке\n",
    "    for column in range(3, -1, -1):  # Перебираем столбцы в обратном порядке\n",
    "        print(f'{a[row][column]:2}', end=\" \")\n",
    "    print()"
   ]
  },
  {
   "cell_type": "code",
   "execution_count": null,
   "id": "8381be4c",
   "metadata": {},
   "outputs": [],
   "source": [
    "# сверху вниз\n",
    "\n",
    "a = [\n",
    "  [0, 2, 4, 6],\n",
    "  [1, 5, 9, 13],\n",
    "  [3, 10, 17, 19]\n",
    "]\n",
    "\n",
    "for column in range(4):  # Перебираем сперва столбцы\n",
    "    for row in range(3):  # Внутри перебираем строки\n",
    "        print(f'{a[row][column]:2}', end=\" \")\n",
    "    print()"
   ]
  },
  {
   "cell_type": "code",
   "execution_count": null,
   "id": "d0960ab6",
   "metadata": {},
   "outputs": [],
   "source": [
    "#снизу вверх, справа налево\n",
    "\n",
    "n = int(input())\n",
    "m = [list(map(int, input().split())) for i in range(n)]\n",
    "\n",
    "for column in range(n-1, -1, -1):\n",
    "    for row in range(n-1, -1, -1): \n",
    "        print(f'{m[row][column]:2}', end=\" \")\n",
    "    print()\n"
   ]
  },
  {
   "cell_type": "code",
   "execution_count": null,
   "id": "eaeae163",
   "metadata": {},
   "outputs": [],
   "source": [
    "# слева направо, снизу вверх\n",
    "\n",
    "n, m = map(int, input().split())\n",
    "matrix = [list(map(int, input().split())) for i in range(n)]\n",
    "\n",
    "for row in range(n-1, -1, -1):\n",
    "    for column in range(m):\n",
    "        print(f'{matrix[row][column]:2}', end=\" \")\n",
    "    print()"
   ]
  },
  {
   "cell_type": "markdown",
   "id": "12064a45",
   "metadata": {},
   "source": [
    "Шпаргалка для всех задач по шахматам:\n",
    "\n",
    "Ход ладьи:\n",
    "x1 == x2 or y1 == y2\n",
    "\n",
    "Ход коня:\n",
    "abs((x1 - x2) * (y1 - y2)) == 2\n",
    "\n",
    "Ход слона:\n",
    "abs(x1 - x2) == abs(y1 - y2)\n",
    "\n",
    "Ход ферзя (слон or ладья):\n",
    "abs(x1 - x2) == abs(y1 - y2) or x1 == x2 or y1 == y2\n",
    "\n",
    "Ход короля:\n",
    "abs(x1 - x2) <= 1 and abs(y1 - y2) <= 1"
   ]
  },
  {
   "cell_type": "code",
   "execution_count": null,
   "id": "bccbc90c",
   "metadata": {},
   "outputs": [],
   "source": [
    "#  Ход ладьи\n",
    "#  x1 == x2 or y1 == y2\n",
    "\n",
    "n = 8\n",
    "m = [list(input()) for _ in range(n)]\n",
    "\n",
    "row, col = [(i, j) for i in range(n) for j in range(n) if m[i][j] == 'T'][0]\n",
    "\n",
    "for i in range(n):\n",
    "    for j in range(n):\n",
    "        if (i == row and j != col) or (j == col and i != row):\n",
    "            m[i][j] = '+'\n",
    "        \n",
    "for row in range(n):\n",
    "    print(*m[row], sep='')"
   ]
  },
  {
   "cell_type": "code",
   "execution_count": null,
   "id": "fac42986",
   "metadata": {},
   "outputs": [],
   "source": [
    "#  Ход слона\n",
    "#  abs(x1 - x2) == abs(y1 - y2)\n",
    "\n",
    "n = 8\n",
    "matrix = [list(input()) for _ in range(n)]\n",
    "\n",
    "row, col = [(i, j) for i in range(n) for j in range(n) if matrix[i][j] == 'S'][0]\n",
    "\n",
    "for i in range(n):\n",
    "    for j in range(n):\n",
    "        if (i != row and j != col) and ((i - j == row - col) or (i + j == row + col)):\n",
    "            matrix[i][j] = '+' \n",
    "        \n",
    "for row in range(n):\n",
    "    print(*matrix[row], sep='')"
   ]
  },
  {
   "cell_type": "code",
   "execution_count": null,
   "id": "442c8d99",
   "metadata": {},
   "outputs": [],
   "source": [
    "#  Ход ферзя\n",
    "#  abs(x1 - x2) == abs(y1 - y2) or x1 == x2 or y1 == y2\n",
    "\n",
    "n = 8\n",
    "matrix = [list(input()) for _ in range(n)]\n",
    "\n",
    "row, col = [(i, j) for i in range(n) for j in range(n) if matrix[i][j] == 'F'][0]\n",
    "\n",
    "for i in range(n):\n",
    "    for j in range(n):\n",
    "        if (i == row and j != col) or (j == col and i != row):\n",
    "            matrix[i][j] = '+'\n",
    "        if (i != row and j != col) and ((i - j == row - col) or (i + j == row + col)):\n",
    "            matrix[i][j] = '+' \n",
    "        \n",
    "for row in range(n):\n",
    "    print(*matrix[row], sep='')"
   ]
  },
  {
   "cell_type": "code",
   "execution_count": 1,
   "id": "0f0562d6",
   "metadata": {},
   "outputs": [
    {
     "ename": "SyntaxError",
     "evalue": "invalid syntax (278816276.py, line 2)",
     "output_type": "error",
     "traceback": [
      "\u001b[1;36m  Cell \u001b[1;32mIn[1], line 2\u001b[1;36m\u001b[0m\n\u001b[1;33m    Ход коня:\u001b[0m\n\u001b[1;37m        ^\u001b[0m\n\u001b[1;31mSyntaxError\u001b[0m\u001b[1;31m:\u001b[0m invalid syntax\n"
     ]
    }
   ],
   "source": [
    "#  Ход коня\n",
    "#  abs((x1 - x2) * (y1 - y2)) == 2\n",
    "\n",
    "n = 8\n",
    "matrix = [list(input()) for _ in range(n)]\n",
    "\n",
    "row, col = [(i, j) for i in range(n) for j in range(n) if matrix[i][j] == 'H'][0]\n",
    "\n",
    "for i in range(n):\n",
    "    for j in range(n):\n",
    "        if abs((i - row) * (j - col)) == 2:\n",
    "            matrix[i][j] = '+'\n",
    "        \n",
    "for row in range(n):\n",
    "    print(*matrix[row], sep='')"
   ]
  },
  {
   "cell_type": "code",
   "execution_count": null,
   "id": "5be871e9",
   "metadata": {},
   "outputs": [],
   "source": []
  }
 ],
 "metadata": {
  "kernelspec": {
   "display_name": "Python 3 (ipykernel)",
   "language": "python",
   "name": "python3"
  },
  "language_info": {
   "codemirror_mode": {
    "name": "ipython",
    "version": 3
   },
   "file_extension": ".py",
   "mimetype": "text/x-python",
   "name": "python",
   "nbconvert_exporter": "python",
   "pygments_lexer": "ipython3",
   "version": "3.11.5"
  }
 },
 "nbformat": 4,
 "nbformat_minor": 5
}
