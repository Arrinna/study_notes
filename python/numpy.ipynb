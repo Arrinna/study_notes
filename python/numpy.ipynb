{
 "cells": [
  {
   "cell_type": "code",
   "execution_count": 3,
   "id": "5d52f379-e0ef-4404-8020-4fa75200dc60",
   "metadata": {},
   "outputs": [
    {
     "name": "stdout",
     "output_type": "stream",
     "text": [
      "Одномерный массив:\n",
      " [1 2 3 4 5]\n",
      "Двумерный массив:\n",
      " [[1 2 3]\n",
      " [4 5 6]]\n",
      "Трехмерный массив:\n",
      " [[[1 2]\n",
      "  [3 4]]\n",
      "\n",
      " [[5 6]\n",
      "  [7 8]]]\n"
     ]
    }
   ],
   "source": [
    "## Numpy\n",
    "\n",
    "import numpy as np\n",
    "\n",
    "# Пример создания массива:\n",
    "\n",
    "# Создание одномерного массива\n",
    "array_1d = np.array([1, 2, 3, 4, 5])\n",
    "\n",
    "# Создание двумерного массива\n",
    "array_2d = np.array([[1, 2, 3], [4, 5, 6]])\n",
    "\n",
    "# Создание трехмерного массива\n",
    "array_3d = np.array([[[1, 2], [3, 4]], [[5, 6], [7, 8]]])\n",
    "\n",
    "print(\"Одномерный массив:\\n\", array_1d)\n",
    "print(\"Двумерный массив:\\n\", array_2d)\n",
    "print(\"Трехмерный массив:\\n\", array_3d)\n",
    "\n",
    "# Создание массива с указанием типа данных\n",
    "float_array = np.array([1, 2, 3], dtype=np.float32)"
   ]
  },
  {
   "cell_type": "markdown",
   "id": "1708a99d-e345-4133-8638-e9fc54e12bd1",
   "metadata": {},
   "source": [
    "    Арифметические операции: сложение, вычитание, умножение, деление и возведение в степень.\n",
    "    Линейная алгебра: операции с матрицами, такие как умножение, вычисление определителей и собственных значений.\n",
    "    Статистика: функции для расчета среднего, медианы, стандартного отклонения и т.д.\n",
    "    Преобразования Фурье: для анализа сигналов."
   ]
  },
  {
   "cell_type": "code",
   "execution_count": null,
   "id": "e26b8220-7582-42c4-a9cf-be53fd238df9",
   "metadata": {},
   "outputs": [],
   "source": []
  }
 ],
 "metadata": {
  "kernelspec": {
   "display_name": "Python [conda env:base] *",
   "language": "python",
   "name": "conda-base-py"
  },
  "language_info": {
   "codemirror_mode": {
    "name": "ipython",
    "version": 3
   },
   "file_extension": ".py",
   "mimetype": "text/x-python",
   "name": "python",
   "nbconvert_exporter": "python",
   "pygments_lexer": "ipython3",
   "version": "3.13.5"
  }
 },
 "nbformat": 4,
 "nbformat_minor": 5
}
