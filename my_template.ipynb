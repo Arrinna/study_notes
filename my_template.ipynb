{
 "cells": [
  {
   "cell_type": "markdown",
   "id": "32916334-bcca-4ee2-9e5e-0511914922e1",
   "metadata": {},
   "source": [
    "# Setup"
   ]
  },
  {
   "cell_type": "code",
   "execution_count": 1,
   "id": "ef86af37-2073-45ba-b1b6-136d040ceb7b",
   "metadata": {},
   "outputs": [
    {
     "name": "stdout",
     "output_type": "stream",
     "text": [
      "1.6.1\n"
     ]
    }
   ],
   "source": [
    "# import sklearn\n",
    "# print(sklearn.__version__)"
   ]
  },
  {
   "cell_type": "code",
   "execution_count": 1,
   "id": "9af956e1-8fad-4801-9cfe-4ea9984fbd32",
   "metadata": {},
   "outputs": [],
   "source": [
    "import pandas as pd\n",
    "import numpy as np\n",
    "import os\n",
    "import re\n",
    "# import gc  #  Работа с памятью\n",
    "from datetime import datetime, timedelta\n",
    "import matplotlib.pyplot as plt\n",
    "import seaborn as sns\n",
    "\n",
    "## Phi_K Correlation\n",
    "# import phik\n",
    "# from phik.report import plot_correlation_matrix\n",
    "# from phik import report\n",
    "\n",
    "\n",
    "## Preprocessing \n",
    "from sklearn.preprocessing import LabelEncoder, OrdinalEncoder, OneHotEncoder  #  Encode categorical features\n",
    "from sklearn.preprocessing import StandardScaler, MinMaxScaler, RobustScaler  #  Transform features by scaling\n",
    "\n",
    "from sklearn.impute import SimpleImputer, KNNImputer  #  Transformers for missing value imputation\n",
    "# Some estimators are designed to handle NaN values without preprocessing \n",
    "\n",
    "from sklearn.compose import ColumnTransformer\n",
    "\n",
    "# from sklearn.pipeline import Pipeline\n",
    "# Pipeline позволяет объединить несколько шагов обработки данных и обучения в единую последовательность\n",
    "\n",
    "# from sklearn.feature_selection import SelectKBest, f_classif\n",
    "\n",
    "## Tools for model selection, such as cross validation and hyper-parameter tuning\n",
    "from sklearn.model_selection import train_test_split\n",
    "#from sklearn.model_selection import StratifiedKFold, \n",
    "#from sklearn.model_selection import RepeatedStratifiedKFold, cross_val_score  \n",
    "#from sklearn.model_selection import GridSearchCV, RandomizedSearchCV  #  Поиск оптимальных параметров\n",
    "\n",
    "\n",
    "## Ensemble-based methods for classification, regression and anomaly detection\n",
    "from sklearn.ensemble import HistGradientBoostingClassifier, AdaBoostClassifier\n",
    "# from sklearn.ensemble import RandomForestClassifier, GradientBoostingClassifier\n",
    "# from sklearn.ensemble import RandomForestRegressor, GradientBoostingRegressor\n",
    "\n",
    "\n",
    "# Linear Models section \n",
    "from sklearn.linear_model import LogisticRegression\n",
    "# from sklearn.linear_model import LinearRegression\n",
    "\n",
    "\n",
    "## Decision tree based models for classification and regression\n",
    "# from sklearn.tree import DecisionTreeClassifier\n",
    "# from sklearn.tree import DecisionTreeRegressor\n",
    "# from sklearn.tree import plot_tree\n",
    "\n",
    "## boosting models\n",
    "\n",
    "# import xgboost as xgb\n",
    "# from xgboost import XGBClassifier\n",
    "# from xgboost import XGBRegressor\n",
    "# from xgboost import plot_importance  #  Важность признаков\n",
    "# from xgboost import plot_tree  #  Визуализация дерева\n",
    "\n",
    "# import lightgbm as lgb\n",
    "# from lightgbm import early_stopping, log_evaluation\n",
    "\n",
    "# from catboost import CatBoostClassifier, Pool\n",
    "\n",
    "\n",
    "## Score functions, performance metrics\n",
    "from sklearn.metrics import mean_absolute_error, roc_auc_score, mean_squared_error, r2_score  #  Regression metrics\n",
    "from sklearn.metrics import accuracy_score, classification_report #  Classification metrics\n",
    "from sklearn.metrics import log_loss  #  Отслеживание метрик во время обучения\n",
    "## Оптимизация гиперпараметров\n",
    "import optuna\n",
    "\n",
    "## SHAP для интерпретации\n",
    "import shap\n",
    "\n",
    "\n",
    "# import warnings\n",
    "# warnings.filterwarnings(\"ignore\")\n",
    "# warnings.filterwarnings(\"ignore\", category=DeprecationWarning)\n",
    "# warnings.filterwarnings(\"ignore\", category=FutureWarning)\n",
    "# warnings.filterwarnings(\"ignore\", category=UserWarning)"
   ]
  },
  {
   "cell_type": "code",
   "execution_count": null,
   "id": "43e272bf-e868-4b32-81f0-aafc3afa50c1",
   "metadata": {},
   "outputs": [],
   "source": [
    "# pandas options\n",
    "\n",
    "pd.set_option(\"display.precision\", 2)\n"
   ]
  },
  {
   "cell_type": "markdown",
   "id": "4dd666dc-e7f9-418b-96b8-080d9f603a36",
   "metadata": {},
   "source": [
    "# Datasets"
   ]
  },
  {
   "cell_type": "code",
   "execution_count": 4,
   "id": "f6ed8d9a-b090-4a76-add1-5da1ea39d158",
   "metadata": {},
   "outputs": [
    {
     "name": "stdout",
     "output_type": "stream",
     "text": [
      "Размерность данных: (150, 4)\n",
      "Классы: ['setosa' 'versicolor' 'virginica']\n"
     ]
    }
   ],
   "source": [
    "## classification \n",
    "from sklearn.datasets import load_iris\n",
    "# from sklearn.datasets import load_breast_cancer\n",
    "# from sklearn.datasets import load_wine\n",
    "\n",
    "# ## regression\n",
    "# from sklearn.datasets import load_boston\n",
    "# from sklearn.datasets import load_diabetes\n",
    "\n",
    "# Загрузка датасета Iris\n",
    "iris = load_iris()\n",
    "X, y = iris.data, iris.target\n",
    "\n",
    "# Информация о датасете\n",
    "# print(iris.DESCR)\n",
    "print(f\"Размерность данных: {X.shape}\")\n",
    "print(f\"Классы: {iris.target_names}\")"
   ]
  },
  {
   "cell_type": "code",
   "execution_count": null,
   "id": "d6e90f57-3390-4e6c-806b-052319bcc289",
   "metadata": {},
   "outputs": [],
   "source": [
    "train_df = pd.read_csv('shift_ml_2025_train.csv')\n",
    "target = 'итоговый_статус_займа'\n",
    "test_df = pd.read_csv('shift_ml_2025_test.csv')"
   ]
  },
  {
   "cell_type": "code",
   "execution_count": null,
   "id": "cc0f3a21-3c48-48ec-a74e-3ec8d79a63fa",
   "metadata": {},
   "outputs": [],
   "source": [
    "# copy\n",
    "train = train_df.copy()\n",
    "test = test.copy()"
   ]
  },
  {
   "cell_type": "code",
   "execution_count": null,
   "id": "0949f17e-cfff-46c9-a2e8-2849a626b268",
   "metadata": {},
   "outputs": [],
   "source": [
    "# объединить несколько CSV-файлов\n",
    "\n",
    "import glob\n",
    "\n",
    "files = glob.glob('*.csv')\n",
    "dfs = [pd.read_csv(file) for file in files]\n",
    "combined = pd.concat(dfs, ignore_index=True)"
   ]
  },
  {
   "cell_type": "code",
   "execution_count": null,
   "id": "0f0b7986-7bd5-46ea-bc65-414b3ba3c774",
   "metadata": {},
   "outputs": [],
   "source": [
    "# CSV файлы\n",
    "df_csv = pd.read_csv('data.csv', encoding='utf-8', sep=',')\n",
    "\n",
    "# CSV с параметрами\n",
    "df = pd.read_csv('data.csv', \n",
    "                 sep=';',           # разделитель\n",
    "                 header=0,          # строка с заголовками\n",
    "                 index_col=0,       # столбец для индекса\n",
    "                 parse_dates=True,  # автоматическое преобразование дат\n",
    "                 na_values=['N/A', 'NULL'])  # значения для NaN\n",
    "\n",
    "# Excel файлы\n",
    "df_excel = pd.read_excel('data.xlsx', sheet_name='Sheet1')\n",
    "\n",
    "# JSON файлы\n",
    "df_json = pd.read_json('data.json')\n",
    "\n",
    "# SQL базы данных\n",
    "import sqlite3\n",
    "conn = sqlite3.connect('database.db')\n",
    "df_sql = pd.read_sql('SELECT * FROM table_name', conn)\n",
    "\n",
    "# HTML таблицы\n",
    "df_html = pd.read_html('https://example.com/table')\n",
    "\n",
    "# Parquet файлы (для больших данных)\n",
    "df_parquet = pd.read_parquet('data.parquet')"
   ]
  },
  {
   "cell_type": "markdown",
   "id": "45c915dd-3e1e-41a9-9cda-c581595e1b88",
   "metadata": {},
   "source": [
    "# Генерация синтетических данных"
   ]
  },
  {
   "cell_type": "code",
   "execution_count": null,
   "id": "2e31b032-d9c0-4ad4-a3d3-22ca83ed6705",
   "metadata": {},
   "outputs": [],
   "source": [
    "from sklearn.datasets import make_classification, make_regression\n",
    "\n",
    "# Генерация данных для классификации\n",
    "X, y = make_classification(\n",
    "    n_samples=1000,\n",
    "    n_features=20,\n",
    "    n_informative=10,\n",
    "    n_redundant=5,\n",
    "    n_clusters_per_class=1,\n",
    "    random_state=42\n",
    ")\n",
    "\n",
    "# Генерация данных для регрессии\n",
    "X_reg, y_reg = make_regression(\n",
    "    n_samples=1000,\n",
    "    n_features=10,\n",
    "    noise=0.1,\n",
    "    random_state=42\n",
    ")"
   ]
  },
  {
   "cell_type": "markdown",
   "id": "b13ce96f-829c-4e4c-9de4-847da6d27e92",
   "metadata": {},
   "source": [
    "# Basic EDA"
   ]
  },
  {
   "cell_type": "code",
   "execution_count": null,
   "id": "7288132f-bb5e-4800-bc69-9352c69d8835",
   "metadata": {},
   "outputs": [],
   "source": [
    "train.shape, test.shape"
   ]
  },
  {
   "cell_type": "code",
   "execution_count": null,
   "id": "38a5a1e1-c1c4-45bb-8224-3c3ef02fc56c",
   "metadata": {},
   "outputs": [],
   "source": [
    "train.head()"
   ]
  },
  {
   "cell_type": "code",
   "execution_count": null,
   "id": "ffa72513-f6da-47b5-9d91-6bf3896d227a",
   "metadata": {},
   "outputs": [],
   "source": [
    "train.info(verbose=True)"
   ]
  },
  {
   "cell_type": "code",
   "execution_count": null,
   "id": "8d75a03a-33a6-476f-b517-45a7bf3ee234",
   "metadata": {},
   "outputs": [],
   "source": [
    "train_df.columns"
   ]
  },
  {
   "cell_type": "code",
   "execution_count": null,
   "id": "c51bcd70-775e-4001-9612-b3587419d2eb",
   "metadata": {},
   "outputs": [],
   "source": []
  },
  {
   "cell_type": "code",
   "execution_count": null,
   "id": "f5726600-41ba-40ab-b4d7-abbf67b0c484",
   "metadata": {},
   "outputs": [],
   "source": []
  },
  {
   "cell_type": "code",
   "execution_count": null,
   "id": "2f7d3667-fcd8-4de8-a462-d62cca34fa64",
   "metadata": {},
   "outputs": [],
   "source": [
    "df.describe().T"
   ]
  },
  {
   "cell_type": "markdown",
   "id": "fa9671f8-9b3c-41e0-b4a9-3d55bc7504e8",
   "metadata": {},
   "source": [
    "### 'Баланс классов в целевой переменной'"
   ]
  },
  {
   "cell_type": "code",
   "execution_count": null,
   "id": "c1868270-4103-4030-bcd9-b276d2b6dcfc",
   "metadata": {},
   "outputs": [],
   "source": [
    "train[target].value_counts(normalize=True)"
   ]
  },
  {
   "cell_type": "code",
   "execution_count": null,
   "id": "0b9854ec-418d-440d-a853-70629ae262ed",
   "metadata": {},
   "outputs": [],
   "source": [
    "# vc = train[target].value_counts().sort_index()\n",
    "# plt.figure()\n",
    "# vc.plot(kind=\"bar\")\n",
    "# plt.title(\"Распределение классов\")\n",
    "# plt.xlabel(\"Класс\")\n",
    "# plt.ylabel(\"Количество\")\n",
    "# plt.show()"
   ]
  },
  {
   "cell_type": "code",
   "execution_count": null,
   "id": "ff221b06-8d68-4a75-bab2-168a78862b0c",
   "metadata": {},
   "outputs": [],
   "source": []
  },
  {
   "cell_type": "code",
   "execution_count": null,
   "id": "dc2236e5-da42-47af-8e44-04554e950221",
   "metadata": {},
   "outputs": [],
   "source": []
  },
  {
   "cell_type": "code",
   "execution_count": null,
   "id": "bfc121d7-67bb-4f8d-ad42-5dcbb8c2216b",
   "metadata": {},
   "outputs": [],
   "source": [
    "pd.crosstab(df[\"Churn\"], df[\"International plan\"], normalize=True)\n",
    "pd.crosstab(df[\"Churn\"], df[\"Customer service calls\"], margins=True)"
   ]
  },
  {
   "cell_type": "code",
   "execution_count": null,
   "id": "040e22b8-2cc8-494f-ae55-10f582be1fd4",
   "metadata": {},
   "outputs": [],
   "source": [
    "columns_to_show = [\"Total day minutes\", \"Total eve minutes\", \"Total night minutes\"]\n",
    "\n",
    "df.groupby([\"Churn\"])[columns_to_show].agg([np.mean, np.std, np.min, np.max])"
   ]
  },
  {
   "cell_type": "code",
   "execution_count": null,
   "id": "ab87955d-dbec-4707-a435-d9faedb61fd8",
   "metadata": {},
   "outputs": [],
   "source": [
    "df.pivot_table(\n",
    "    [\"Total day calls\", \"Total eve calls\", \"Total night calls\"],\n",
    "    [\"Area code\"],\n",
    "    aggfunc=\"mean\",\n",
    ")"
   ]
  },
  {
   "cell_type": "code",
   "execution_count": null,
   "id": "3620e784-f3dc-4d41-b436-afe0579e7e8f",
   "metadata": {},
   "outputs": [],
   "source": [
    "sns.countplot(x=\"Many_service_calls\", hue=\"Churn\", data=df);"
   ]
  },
  {
   "cell_type": "code",
   "execution_count": null,
   "id": "5b46705a-2e86-445e-a750-afe1620419df",
   "metadata": {},
   "outputs": [],
   "source": [
    "# sns.pairplot(train_df, hue='Personality')"
   ]
  },
  {
   "cell_type": "code",
   "execution_count": null,
   "id": "c2544e68-94f8-47f4-a3ca-4b1718e709ac",
   "metadata": {},
   "outputs": [],
   "source": []
  },
  {
   "cell_type": "code",
   "execution_count": null,
   "id": "13e88587-389d-4f7d-9efe-ed259e47c723",
   "metadata": {},
   "outputs": [],
   "source": []
  },
  {
   "cell_type": "code",
   "execution_count": null,
   "id": "98ef818f-3d7c-477a-8513-974124fb078f",
   "metadata": {},
   "outputs": [],
   "source": [
    "# phik_overview = train_df.phik_matrix()\n",
    "# phik_overview['Personality'].sort_values(ascending=False)"
   ]
  },
  {
   "cell_type": "markdown",
   "id": "81d09378-b9f3-46e0-8737-1cd1b0bac6fd",
   "metadata": {},
   "source": [
    "# Missing values"
   ]
  },
  {
   "cell_type": "code",
   "execution_count": null,
   "id": "642f128e-70a8-4848-9c87-766c64783a1e",
   "metadata": {},
   "outputs": [],
   "source": [
    "test_df.isnull().sum()"
   ]
  },
  {
   "cell_type": "code",
   "execution_count": null,
   "id": "57a1e47f-dce1-4ac4-8303-756cb67cd0a3",
   "metadata": {},
   "outputs": [],
   "source": [
    "missing = train.isna().sum().sort_values(ascending=False)\n",
    "missing_pct = (missing / len(train) * 100).round(2)\n",
    "display(pd.DataFrame({\"missing\": missing, \"missing_pct\": missing_pct}).head(25))"
   ]
  },
  {
   "cell_type": "code",
   "execution_count": null,
   "id": "a92e617f-90f2-4b17-8a23-36232fc3c2dd",
   "metadata": {},
   "outputs": [],
   "source": []
  },
  {
   "cell_type": "code",
   "execution_count": null,
   "id": "c5cb6728-c08b-40dc-b511-7fc0a44ada6a",
   "metadata": {},
   "outputs": [],
   "source": []
  },
  {
   "cell_type": "markdown",
   "id": "22a62d17-4362-46c7-86a3-a2525bbce958",
   "metadata": {},
   "source": [
    "# Duplicates"
   ]
  },
  {
   "cell_type": "code",
   "execution_count": null,
   "id": "7db38f97-ab1b-4778-be3a-eddf0c241ead",
   "metadata": {},
   "outputs": [],
   "source": [
    "# DataFrame.duplicated(subset=None, keep='first')"
   ]
  },
  {
   "cell_type": "code",
   "execution_count": null,
   "id": "5099c30f-1722-4dd6-8591-f9f5878d6ed1",
   "metadata": {},
   "outputs": [],
   "source": [
    "# DataFrame.drop_duplicates(subset=None, *, keep='first', inplace=False, ignore_index=False)"
   ]
  },
  {
   "cell_type": "code",
   "execution_count": null,
   "id": "e8b0882f-5b80-4324-96a7-ed77d8e5e2b6",
   "metadata": {},
   "outputs": [],
   "source": []
  },
  {
   "cell_type": "code",
   "execution_count": null,
   "id": "d8988130-ffa7-4914-b7ba-350f9ec4817a",
   "metadata": {},
   "outputs": [],
   "source": []
  },
  {
   "cell_type": "code",
   "execution_count": null,
   "id": "f22c6d15-3768-438b-9471-3b1a64aa751c",
   "metadata": {},
   "outputs": [],
   "source": []
  },
  {
   "cell_type": "code",
   "execution_count": null,
   "id": "6d11255c-cffa-4c42-b77a-e2af8bf88a9b",
   "metadata": {},
   "outputs": [],
   "source": [
    "# Преобразование типов данных\n",
    "df['Возраст'] = df['Возраст'].astype('int64')\n",
    "df['Дата'] = pd.to_datetime(df['Дата'])"
   ]
  },
  {
   "cell_type": "code",
   "execution_count": null,
   "id": "8c0f9106-2d53-45b0-a86c-c8251bc95230",
   "metadata": {},
   "outputs": [],
   "source": []
  },
  {
   "cell_type": "markdown",
   "id": "945c2c31-9e6d-4753-95ce-68c32189efb1",
   "metadata": {},
   "source": [
    "# Выбираем нужные признаки"
   ]
  },
  {
   "cell_type": "code",
   "execution_count": null,
   "id": "1c3fc45d-6f34-44cc-88e5-3a32a48dabda",
   "metadata": {},
   "outputs": [],
   "source": [
    "X = train.drop(target, axis=1)\n",
    "y = train[target]"
   ]
  },
  {
   "cell_type": "code",
   "execution_count": null,
   "id": "c54ce596-1e27-4a31-b699-cc4c144b5e1a",
   "metadata": {},
   "outputs": [],
   "source": []
  },
  {
   "cell_type": "code",
   "execution_count": null,
   "id": "ec46bc37-2429-4d19-b49d-18932016a11f",
   "metadata": {},
   "outputs": [],
   "source": []
  },
  {
   "cell_type": "code",
   "execution_count": null,
   "id": "8583d1db-fed9-4e70-a35a-003eb280b594",
   "metadata": {},
   "outputs": [],
   "source": [
    "# Categorical features\n",
    "cat_features = X.select_dtypes(include=['object']).columns.tolist()\n",
    "cat_features"
   ]
  },
  {
   "cell_type": "code",
   "execution_count": null,
   "id": "7dd33af8-b660-4f9e-8e56-b2cee6a708fb",
   "metadata": {},
   "outputs": [],
   "source": []
  },
  {
   "cell_type": "code",
   "execution_count": null,
   "id": "b385be37-f387-4d16-8f91-acb534bd432a",
   "metadata": {},
   "outputs": [],
   "source": []
  },
  {
   "cell_type": "code",
   "execution_count": null,
   "id": "022e398f-c989-4e3d-bc6b-8ea726a2b734",
   "metadata": {},
   "outputs": [],
   "source": [
    "d = {\"No\": False, \"Yes\": True}\n",
    "df[\"International plan\"] = df[\"International plan\"].map(d)"
   ]
  },
  {
   "cell_type": "code",
   "execution_count": null,
   "id": "c56eabd8-e250-4a1a-bafd-09851c228794",
   "metadata": {},
   "outputs": [],
   "source": []
  },
  {
   "cell_type": "code",
   "execution_count": null,
   "id": "0760aba5-26ea-421b-b9cf-a040dd9084ed",
   "metadata": {},
   "outputs": [],
   "source": []
  },
  {
   "cell_type": "code",
   "execution_count": null,
   "id": "6150d0bc-d795-47e9-b2b4-8356e097ca26",
   "metadata": {},
   "outputs": [],
   "source": []
  },
  {
   "cell_type": "markdown",
   "id": "cd16fee6-f407-48dc-b9f1-f029f95bcbd9",
   "metadata": {},
   "source": [
    "# Предобработка данных"
   ]
  },
  {
   "cell_type": "markdown",
   "id": "b0922499-307f-4bf6-9e40-73befb78ba21",
   "metadata": {},
   "source": [
    "| Метод | Класс | Назначение | Параметры |\n",
    "| ----- | ----- | ---------- | ---------- |\n",
    "| Стандартизация | StandardScaler | Приведение к нормальному распределению | with_mean, with_std |\n",
    "| Нормализация | MinMaxScaler | Масштабирование в диапазон [0,1] | feature_range |\n",
    "| Робастное масштабирование | RobustScaler | Устойчивость к выбросам | quantile_range |\n",
    "| One-hot кодирование | OneHotEncoder | Кодирование категориальных признаков | sparse_output, drop |\n",
    "| Кодирование меток | LabelEncoder | Преобразование категорий в числа | - |\n",
    "| Полиномиальные признаки | PolynomialFeatures | Создание полиномиальных комбинаций | degree, include_bias |"
   ]
  },
  {
   "cell_type": "markdown",
   "id": "09308709-75a6-4910-ac30-268c9e94d9d1",
   "metadata": {},
   "source": [
    "### Transform features by scaling"
   ]
  },
  {
   "cell_type": "code",
   "execution_count": null,
   "id": "154e09bf-fac1-419b-8f6f-f6c9bae92b89",
   "metadata": {},
   "outputs": [],
   "source": [
    "# Стандартизация (среднее=0, стд=1)\n",
    "scaler = StandardScaler()\n",
    "X_scaled = scaler.fit_transform(X_train)\n",
    "\n",
    "# Нормализация в диапазон [0, 1]\n",
    "min_max_scaler = MinMaxScaler()\n",
    "X_minmax = min_max_scaler.fit_transform(X_train)\n",
    "\n",
    "# Устойчивое масштабирование (робастное к выбросам)\n",
    "robust_scaler = RobustScaler()\n",
    "X_robust = robust_scaler.fit_transform(X_train)"
   ]
  },
  {
   "cell_type": "code",
   "execution_count": null,
   "id": "60cdd154-cf54-479e-871b-399cdb4119af",
   "metadata": {},
   "outputs": [],
   "source": []
  },
  {
   "cell_type": "markdown",
   "id": "45bf2f3e-705c-41c9-ac84-2dcfd1e0eca1",
   "metadata": {},
   "source": [
    "###  Encode categorical features"
   ]
  },
  {
   "cell_type": "code",
   "execution_count": null,
   "id": "27327bb0-d921-4c25-b48a-cabdd3d00095",
   "metadata": {},
   "outputs": [],
   "source": [
    "# Кодирование меток\n",
    "label_encoder = LabelEncoder()\n",
    "y_encoded = label_encoder.fit_transform(y_categorical)\n",
    "\n",
    "# Encode target\n",
    "le = LabelEncoder()\n",
    "y_encoded = le.fit_transform(y)\n",
    "\n",
    "# One-hot кодирование\n",
    "encoder = OneHotEncoder(sparse_output=False)\n",
    "X_encoded = encoder.fit_transform(X_categorical)\n",
    "\n",
    "# Для pandas DataFrame\n",
    "df_encoded = pd.get_dummies(df, columns=['categorical_column'])"
   ]
  },
  {
   "cell_type": "code",
   "execution_count": null,
   "id": "a59675d1-abaf-4f55-a5b9-e0b1c5a32a58",
   "metadata": {},
   "outputs": [],
   "source": [
    "# Encode categorical features\n",
    "cat_cols = ['Stage_fear','Drained_after_socializing']\n",
    "encoder = OrdinalEncoder()\n",
    "X[cat_cols] = encoder.fit_transform(X[cat_cols])\n",
    "X_test[cat_cols] = encoder.fit_transform(X_test[cat_cols])"
   ]
  },
  {
   "cell_type": "code",
   "execution_count": null,
   "id": "32432a5e-62ae-492d-b7fa-e778e0c5ab12",
   "metadata": {},
   "outputs": [],
   "source": []
  },
  {
   "cell_type": "code",
   "execution_count": null,
   "id": "76ec05af-482b-42ff-84e9-f445dba95066",
   "metadata": {},
   "outputs": [],
   "source": []
  },
  {
   "cell_type": "code",
   "execution_count": null,
   "id": "5923d3d2-7731-45e2-aedb-9e7f68851a5a",
   "metadata": {},
   "outputs": [],
   "source": []
  },
  {
   "cell_type": "code",
   "execution_count": null,
   "id": "adbf82a2-ddff-4247-bc57-b58e2d03ffa2",
   "metadata": {},
   "outputs": [],
   "source": []
  },
  {
   "cell_type": "markdown",
   "id": "6293b7cf-dbb8-4174-a6a5-e7f4ea24d4f9",
   "metadata": {},
   "source": [
    "# Разделение на обучающую и тестовую выборки"
   ]
  },
  {
   "cell_type": "code",
   "execution_count": null,
   "id": "d97d431f-7de5-4032-be9b-a89a4abf4b26",
   "metadata": {},
   "outputs": [],
   "source": [
    "X_train, X_test, y_train, y_test = train_test_split(\n",
    "    X, y, \n",
    "    test_size=0.2,\n",
    "    random_state=42,\n",
    "    stratify=y  # Сохранение пропорций классов\n",
    ")"
   ]
  },
  {
   "cell_type": "code",
   "execution_count": null,
   "id": "db6c5d4e-74b8-4a92-a26e-259abda752cd",
   "metadata": {},
   "outputs": [],
   "source": [
    "# Разделение на три части\n",
    "X_train, X_temp, y_train, y_temp = train_test_split(X, y, \n",
    "                                                    test_size=0.4, \n",
    "                                                    random_state=42)\n",
    "\n",
    "X_val, X_test, y_val, y_test = train_test_split(X_temp, y_temp, \n",
    "                                                test_size=0.5, \n",
    "                                                random_state=42)"
   ]
  },
  {
   "cell_type": "code",
   "execution_count": 4,
   "id": "83d02aab-6aee-458d-8c22-7b35c3908774",
   "metadata": {},
   "outputs": [],
   "source": [
    "# 5-Fold CV\n",
    "\n",
    "skf = StratifiedKFold(n_splits=5, shuffle=True, random_state=42)\n",
    "oof_pred = np.zeros(len(X))\n",
    "test_pred = np.zeros(len(X_test))"
   ]
  },
  {
   "cell_type": "markdown",
   "id": "206cee73-f2c9-4fe1-9b67-a31a1ec4a948",
   "metadata": {},
   "source": [
    "# Обучаем модель"
   ]
  },
  {
   "cell_type": "markdown",
   "id": "f5f54c98-6814-4fa6-9130-d3a72167451b",
   "metadata": {},
   "source": [
    "### Линейные модели"
   ]
  },
  {
   "cell_type": "code",
   "execution_count": null,
   "id": "95e1763c-3ac2-4953-93e4-f303d7b04e91",
   "metadata": {},
   "outputs": [],
   "source": [
    "# Линейная регрессия\n",
    "linear_reg = LinearRegression()\n",
    "linear_reg.fit(X_train, y_train)\n",
    "print(f\"Коэффициенты: {linear_reg.coef_}\")\n",
    "print(f\"Свободный член: {linear_reg.intercept_}\")\n",
    "\n",
    "# Логистическая регрессия\n",
    "logistic_reg = LogisticRegression(random_state=42)\n",
    "logistic_reg.fit(X_train, y_train)\n",
    "\n",
    "# Регуляризованные модели\n",
    "ridge = Ridge(alpha=1.0)\n",
    "lasso = Lasso(alpha=1.0)"
   ]
  },
  {
   "cell_type": "markdown",
   "id": "5c6178b0-1c2b-4a5a-b20a-2314614551fc",
   "metadata": {},
   "source": [
    "### Деревья решений"
   ]
  },
  {
   "cell_type": "code",
   "execution_count": null,
   "id": "4590f43a-f02e-4cc6-be64-54098d2fbc4f",
   "metadata": {},
   "outputs": [],
   "source": [
    "# Дерево решений для классификации\n",
    "tree_clf = DecisionTreeClassifier(\n",
    "    max_depth=3,\n",
    "    min_samples_split=5,\n",
    "    random_state=42\n",
    ")\n",
    "tree_clf.fit(X_train, y_train)\n",
    "\n",
    "# Визуализация дерева\n",
    "plt.figure(figsize=(12, 8))\n",
    "plot_tree(tree_clf, feature_names=iris.feature_names, class_names=iris.target_names, filled=True)\n",
    "plt.show()"
   ]
  },
  {
   "cell_type": "markdown",
   "id": "b4fa03f5-03fe-4dff-906b-e47d6b32267f",
   "metadata": {},
   "source": [
    "### Ансамблевые методы"
   ]
  },
  {
   "cell_type": "code",
   "execution_count": null,
   "id": "30a5dbce-f27b-47ec-ab94-d99a97e0a35b",
   "metadata": {},
   "outputs": [],
   "source": [
    "# Случайный лес\n",
    "rf_clf = RandomForestClassifier(\n",
    "    n_estimators=100,\n",
    "    max_depth=3,\n",
    "    random_state=42\n",
    ")\n",
    "rf_clf.fit(X_train, y_train)\n",
    "\n",
    "# Градиентный бустинг\n",
    "gb_clf = GradientBoostingClassifier(\n",
    "    n_estimators=100,\n",
    "    learning_rate=0.1,\n",
    "    random_state=42\n",
    ")\n",
    "gb_clf.fit(X_train, y_train)\n",
    "\n",
    "# Важность признаков\n",
    "feature_importance = rf_clf.feature_importances_"
   ]
  },
  {
   "cell_type": "markdown",
   "id": "d0f8193d-b3bc-411b-9126-7f68f271b045",
   "metadata": {},
   "source": [
    "### Метод опорных векторов"
   ]
  },
  {
   "cell_type": "code",
   "execution_count": null,
   "id": "15bbaa0d-0474-4629-bc0b-f4e11125b3e5",
   "metadata": {},
   "outputs": [],
   "source": [
    "from sklearn.svm import SVC, SVR, LinearSVC\n",
    "\n",
    "# SVM для классификации\n",
    "svm_clf = SVC(\n",
    "    kernel='rbf',\n",
    "    C=1.0,\n",
    "    gamma='scale',\n",
    "    random_state=42\n",
    ")\n",
    "svm_clf.fit(X_train, y_train)\n",
    "\n",
    "# SVM для регрессии\n",
    "svm_reg = SVR(kernel='rbf', C=1.0, gamma='scale')"
   ]
  },
  {
   "cell_type": "markdown",
   "id": "b9ff19cf-a460-4471-b167-00efaf53d26b",
   "metadata": {},
   "source": [
    "### Алгоритмы кластеризации"
   ]
  },
  {
   "cell_type": "code",
   "execution_count": null,
   "id": "556591ea-20be-4baa-b45b-4ae7299237a6",
   "metadata": {},
   "outputs": [],
   "source": [
    "from sklearn.cluster import KMeans, AgglomerativeClustering, DBSCAN\n",
    "\n",
    "# K-means\n",
    "kmeans = KMeans(n_clusters=3, random_state=42)\n",
    "cluster_labels = kmeans.fit_predict(X)\n",
    "\n",
    "# Иерархическая кластеризация\n",
    "agg_clustering = AgglomerativeClustering(n_clusters=3)\n",
    "agg_labels = agg_clustering.fit_predict(X)\n",
    "\n",
    "# DBSCAN\n",
    "dbscan = DBSCAN(eps=0.5, min_samples=5)\n",
    "dbscan_labels = dbscan.fit_predict(X)"
   ]
  },
  {
   "cell_type": "markdown",
   "id": "3ff2575a-e0ae-4b66-9c4f-f7b265856e66",
   "metadata": {},
   "source": [
    "### Кросс-валидация"
   ]
  },
  {
   "cell_type": "code",
   "execution_count": null,
   "id": "cb6fa789-4ad5-41fd-b60d-accbe087a620",
   "metadata": {},
   "outputs": [],
   "source": [
    "from sklearn.model_selection import cross_val_score, StratifiedKFold\n",
    "\n",
    "# Простая кросс-валидация\n",
    "scores = cross_val_score(model, X, y, cv=5)\n",
    "print(f\"Средняя точность: {scores.mean():.3f} (+/- {scores.std() * 2:.3f})\")\n",
    "\n",
    "# Стратифицированная кросс-валидация\n",
    "skf = StratifiedKFold(n_splits=5, shuffle=True, random_state=42)\n",
    "scores = cross_val_score(model, X, y, cv=skf)"
   ]
  },
  {
   "cell_type": "markdown",
   "id": "937e6e45-88c7-43ac-8546-25e56258e0ab",
   "metadata": {},
   "source": [
    "### Подбор гиперпараметров"
   ]
  },
  {
   "cell_type": "code",
   "execution_count": null,
   "id": "e693c474-d908-4553-a546-1d2f297e6969",
   "metadata": {},
   "outputs": [],
   "source": [
    "from sklearn.model_selection import GridSearchCV, RandomizedSearchCV\n",
    "\n",
    "# Сетка параметров\n",
    "param_grid = {\n",
    "    'n_estimators': [50, 100, 200],\n",
    "    'max_depth': [3, 5, 7, None],\n",
    "    'min_samples_split': [2, 5, 10]\n",
    "}\n",
    "\n",
    "# Поиск по сетке\n",
    "grid_search = GridSearchCV(\n",
    "    RandomForestClassifier(random_state=42),\n",
    "    param_grid,\n",
    "    cv=5,\n",
    "    scoring='accuracy',\n",
    "    n_jobs=-1\n",
    ")\n",
    "\n",
    "grid_search.fit(X_train, y_train)\n",
    "print(f\"Лучшие параметры: {grid_search.best_params_}\")\n",
    "print(f\"Лучший результат: {grid_search.best_score_:.3f}\")\n",
    "\n",
    "# Случайный поиск\n",
    "random_search = RandomizedSearchCV(\n",
    "    RandomForestClassifier(random_state=42),\n",
    "    param_grid,\n",
    "    n_iter=20,\n",
    "    cv=5,\n",
    "    random_state=42\n",
    ")"
   ]
  },
  {
   "cell_type": "code",
   "execution_count": null,
   "id": "8e111c62-6ff5-4a3a-acb7-a77b67c6445f",
   "metadata": {},
   "outputs": [],
   "source": []
  },
  {
   "cell_type": "code",
   "execution_count": null,
   "id": "b223f6ba-d726-434a-a532-5583e047d299",
   "metadata": {},
   "outputs": [],
   "source": []
  },
  {
   "cell_type": "code",
   "execution_count": null,
   "id": "dc99327b-382c-47fb-aa6e-9a4d8064a5fd",
   "metadata": {},
   "outputs": [],
   "source": []
  },
  {
   "cell_type": "code",
   "execution_count": 3,
   "id": "c25545d7-89c7-43c6-ad9c-5a5ef4946bfd",
   "metadata": {},
   "outputs": [],
   "source": [
    "# CatBoost\n",
    "\n",
    "cb_params = dict(\n",
    "    iterations=2000,\n",
    "    learning_rate=0.05,\n",
    "    depth=8,\n",
    "    loss_function=\"Logloss\",\n",
    "    eval_metric=\"AUC\",\n",
    "    random_seed=42,\n",
    "    l2_leaf_reg=3.0,\n",
    "    verbose=200,\n",
    "    early_stopping_rounds=200,\n",
    "    task_type=\"CPU\"  # есть GPU — ставь \"GPU\"\n",
    ")\n",
    "\n",
    "model = CatBoostClassifier(cb_params)\n",
    "\n",
    "model.fit(X_train, y_train, eval_set=(X_val, y_val), use_best_model=True)"
   ]
  },
  {
   "cell_type": "code",
   "execution_count": null,
   "id": "53f9c201-ee50-4374-ac6a-4fa71ac276e5",
   "metadata": {},
   "outputs": [],
   "source": []
  },
  {
   "cell_type": "code",
   "execution_count": null,
   "id": "535ad03a-156e-42ca-8091-0175a89d785c",
   "metadata": {},
   "outputs": [],
   "source": []
  },
  {
   "cell_type": "code",
   "execution_count": null,
   "id": "87177334-9ad7-4134-b4a6-483b45b9c099",
   "metadata": {},
   "outputs": [],
   "source": []
  },
  {
   "cell_type": "code",
   "execution_count": null,
   "id": "aaf001da-0ef2-46c8-b06a-3315b023a7e4",
   "metadata": {},
   "outputs": [],
   "source": []
  },
  {
   "cell_type": "code",
   "execution_count": null,
   "id": "c73c9582-9730-4dc8-b2eb-e037cf30bdfb",
   "metadata": {},
   "outputs": [],
   "source": []
  },
  {
   "cell_type": "markdown",
   "id": "bc747194-b7d9-4040-9d62-2bda142332e5",
   "metadata": {},
   "source": [
    "# Оценка качества моделей"
   ]
  },
  {
   "cell_type": "code",
   "execution_count": null,
   "id": "e80747e4-58b5-4e1a-89db-540cf377d874",
   "metadata": {},
   "outputs": [],
   "source": [
    "# Метрики для классификации\n",
    "from sklearn.metrics import accuracy_score, precision_score, recall_score, f1_score\n",
    "from sklearn.metrics import confusion_matrix, classification_report\n",
    "\n",
    "# Предсказания\n",
    "y_pred = model.predict(X_test)\n",
    "\n",
    "# Основные метрики\n",
    "accuracy = accuracy_score(y_test, y_pred)\n",
    "precision = precision_score(y_test, y_pred, average='weighted')\n",
    "recall = recall_score(y_test, y_pred, average='weighted')\n",
    "f1 = f1_score(y_test, y_pred, average='weighted')\n",
    "\n",
    "print(f\"Точность: {accuracy:.3f}\")\n",
    "print(f\"Precision: {precision:.3f}\")\n",
    "print(f\"Recall: {recall:.3f}\")\n",
    "print(f\"F1-score: {f1:.3f}\")\n",
    "\n",
    "# Подробный отчет\n",
    "print(classification_report(y_test, y_pred))\n",
    "\n",
    "# Матрица ошибок\n",
    "cm = confusion_matrix(y_test, y_pred)"
   ]
  },
  {
   "cell_type": "code",
   "execution_count": null,
   "id": "ba5cb7d6-aaf8-42d8-8ab6-b4e1f25d945c",
   "metadata": {},
   "outputs": [],
   "source": [
    "# Метрики для регрессии\n",
    "from sklearn.metrics import mean_squared_error, mean_absolute_error, r2_score\n",
    "\n",
    "y_pred_reg = model.predict(X_test)\n",
    "\n",
    "mse = mean_squared_error(y_test, y_pred_reg)\n",
    "mae = mean_absolute_error(y_test, y_pred_reg)\n",
    "r2 = r2_score(y_test, y_pred_reg)\n",
    "\n",
    "print(f\"MSE: {mse:.3f}\")\n",
    "print(f\"MAE: {mae:.3f}\")\n",
    "print(f\"R²: {r2:.3f}\")"
   ]
  },
  {
   "cell_type": "code",
   "execution_count": null,
   "id": "3c8ec178-5542-4f28-b07b-46bfb5cebddb",
   "metadata": {},
   "outputs": [],
   "source": []
  },
  {
   "cell_type": "code",
   "execution_count": null,
   "id": "b567ffc3-65eb-4add-9e2c-a62189bca728",
   "metadata": {},
   "outputs": [],
   "source": []
  },
  {
   "cell_type": "code",
   "execution_count": null,
   "id": "9b0c2840-9347-4a43-8eb6-68f14b134e2a",
   "metadata": {},
   "outputs": [],
   "source": []
  },
  {
   "cell_type": "code",
   "execution_count": null,
   "id": "77b04f4b-ac7e-400f-82cc-abdec0c35f62",
   "metadata": {},
   "outputs": [],
   "source": []
  },
  {
   "cell_type": "code",
   "execution_count": null,
   "id": "2a29d6d3-5cf9-4892-92d9-07b454c05157",
   "metadata": {},
   "outputs": [],
   "source": [
    "val_pred = model.predict_proba(X_val)[:, 1]\n",
    "val_auc = roc_auc_score(y_val, val_pred)\n",
    "print(f\"Validation ROC-AUC: {val_auc:.4f}\")"
   ]
  },
  {
   "cell_type": "code",
   "execution_count": null,
   "id": "bc721145-e086-4a1b-ae5a-8af5177c5bb8",
   "metadata": {},
   "outputs": [],
   "source": []
  },
  {
   "cell_type": "code",
   "execution_count": null,
   "id": "9dffc2d7-4391-4e72-a3ba-8e52f039303d",
   "metadata": {},
   "outputs": [],
   "source": []
  },
  {
   "cell_type": "code",
   "execution_count": null,
   "id": "675b050a-5d2a-4f26-97a9-e70c8363aace",
   "metadata": {},
   "outputs": [],
   "source": [
    "# Делаем предсказания"
   ]
  },
  {
   "cell_type": "code",
   "execution_count": null,
   "id": "05736239-026d-4609-9ec4-c002806b1d33",
   "metadata": {},
   "outputs": [],
   "source": []
  },
  {
   "cell_type": "code",
   "execution_count": null,
   "id": "f6b77e58-fa1b-4e58-81c3-77a8852ab5bb",
   "metadata": {},
   "outputs": [],
   "source": []
  },
  {
   "cell_type": "code",
   "execution_count": null,
   "id": "9e794a06-6b12-43d2-a5ca-824f957b7cad",
   "metadata": {},
   "outputs": [],
   "source": []
  },
  {
   "cell_type": "code",
   "execution_count": null,
   "id": "e19ce0fa-9755-49e5-8203-def8ee7dff5d",
   "metadata": {},
   "outputs": [],
   "source": [
    "# Формируем сабмит"
   ]
  },
  {
   "cell_type": "code",
   "execution_count": null,
   "id": "214330a4-468b-499a-a716-792c5f54da4c",
   "metadata": {},
   "outputs": [],
   "source": []
  },
  {
   "cell_type": "code",
   "execution_count": null,
   "id": "52f38b0b-1238-4813-bba4-43261c5c46da",
   "metadata": {},
   "outputs": [],
   "source": []
  },
  {
   "cell_type": "code",
   "execution_count": null,
   "id": "2278d6aa-dbb4-473b-9e7c-4fa4bb3dc399",
   "metadata": {},
   "outputs": [],
   "source": []
  },
  {
   "cell_type": "code",
   "execution_count": null,
   "id": "9647788c-55c3-4bcd-8027-3dd73a685e86",
   "metadata": {},
   "outputs": [],
   "source": []
  },
  {
   "cell_type": "code",
   "execution_count": null,
   "id": "6c5d05a9-1594-4e00-90ec-0b1c63df5446",
   "metadata": {},
   "outputs": [],
   "source": [
    "# Сохранение и загрузка моделей\n",
    "# import joblib\n",
    "# import pickle\n",
    "\n",
    "# # Сохранение с помощью joblib (рекомендуется)\n",
    "# joblib.dump(model, 'model.pkl')\n",
    "# loaded_model = joblib.load('model.pkl')\n",
    "\n",
    "# # Сохранение с помощью pickle\n",
    "# with open('model.pkl', 'wb') as f:\n",
    "#     pickle.dump(model, f)\n",
    "\n",
    "# with open('model.pkl', 'rb') as f:\n",
    "#     loaded_model = pickle.load(f)"
   ]
  }
 ],
 "metadata": {
  "kernelspec": {
   "display_name": "Python 3 (ipykernel)",
   "language": "python",
   "name": "python3"
  },
  "language_info": {
   "codemirror_mode": {
    "name": "ipython",
    "version": 3
   },
   "file_extension": ".py",
   "mimetype": "text/x-python",
   "name": "python",
   "nbconvert_exporter": "python",
   "pygments_lexer": "ipython3",
   "version": "3.13.5"
  }
 },
 "nbformat": 4,
 "nbformat_minor": 5
}
