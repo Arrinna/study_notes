{
 "cells": [
  {
   "cell_type": "markdown",
   "id": "b945ed17-cf98-4575-b13a-a0ae231e1ffd",
   "metadata": {},
   "source": [
    "# Машинное обучение\n",
    "ОмГТУ, Артём Шевляков\n",
    "\n",
    "https://stepik.org/course/8057/syllabus"
   ]
  },
  {
   "cell_type": "code",
   "execution_count": 20,
   "id": "7caa7912-e88a-4ef2-bf7c-db24251412ca",
   "metadata": {},
   "outputs": [],
   "source": [
    "import pandas as pd\n",
    "import numpy as np\n"
   ]
  },
  {
   "cell_type": "markdown",
   "id": "c8756942-35af-4b6f-9c5f-7fd92717e095",
   "metadata": {},
   "source": [
    "## Введение в машинное обучение и основные понятия статистики, Восстановление пропущенных значений"
   ]
  },
  {
   "cell_type": "code",
   "execution_count": 21,
   "id": "1e285979-557b-4a25-991c-36b2738eeabc",
   "metadata": {},
   "outputs": [
    {
     "name": "stdout",
     "output_type": "stream",
     "text": [
      "2.0\n",
      "1.0\n"
     ]
    }
   ],
   "source": [
    "P = pd.Series([-0,1,5])\n",
    "\n",
    "print(round(P.mean(), 2))\n",
    "print(round(P.median(), 2))"
   ]
  },
  {
   "cell_type": "code",
   "execution_count": 30,
   "id": "1fb6c943-6602-423a-8fc2-f24409651253",
   "metadata": {},
   "outputs": [
    {
     "name": "stdout",
     "output_type": "stream",
     "text": [
      "2.83\n",
      "4.0\n",
      "2\n"
     ]
    }
   ],
   "source": [
    "# Даны два вектора значений признаков Р1=(0,1,2) Р2=(2,1,0).\n",
    "# Евклидово расстояние между ними равно\n",
    "# Расстояние в метрике Манхэттен между ними равно\n",
    "# Расстояние между ними в max-метрике равно \n",
    "\n",
    "Р1 = pd.Series([0,1,2]) \n",
    "Р2 = pd.Series([2,1,0])\n",
    "\n",
    "evq = np.linalg.norm(Р1 - Р2)\n",
    "manh = np.linalg.norm(Р1 - Р2,ord=1)\n",
    "maxmetr = max(np.abs(Р1 - Р2))\n",
    "print(round(evq, 2))\n",
    "print(round(manh, 2))\n",
    "print(round(maxmetr, 2))"
   ]
  },
  {
   "cell_type": "code",
   "execution_count": 31,
   "id": "2c51ccb4-c70a-4f96-9031-5cfb7a99a058",
   "metadata": {},
   "outputs": [
    {
     "data": {
      "text/plain": [
       "array([0.2, 0. , 1. , 0.4, 0.4])"
      ]
     },
     "execution_count": 31,
     "metadata": {},
     "output_type": "execute_result"
    }
   ],
   "source": [
    "# Дан вектор значений признака Р=(1,0,5,2,2). \n",
    "# Нормализуем этот вектор по формуле, использующей минимальное и максимальное значение признака Р. \n",
    "# Значение первой координаты нормализованного вектора будет равно \n",
    "\n",
    "a = np.array([1, 0, 5, 2, 2])\n",
    "\n",
    "np.vectorize(lambda x: (x - a.min())/(a.max() - a.min()))(a)"
   ]
  },
  {
   "cell_type": "code",
   "execution_count": 33,
   "id": "a09bf329-982a-47f2-8706-dca0977719ea",
   "metadata": {},
   "outputs": [
    {
     "data": {
      "text/plain": [
       "array([-0.5976143 , -1.19522861,  1.79284291,  0.        ,  0.        ])"
      ]
     },
     "execution_count": 33,
     "metadata": {},
     "output_type": "execute_result"
    }
   ],
   "source": [
    "# Дан вектор значений признака Р=(1,0,5,2,2). \n",
    "# Нормализуем этот вектор по формуле, использующей среднее значением и отклонение признака Р. \n",
    "# Значение последней координаты нормализованного вектора будет равно \n",
    "\n",
    "a = np.array([1, 0, 5, 2, 2])\n",
    "np.vectorize(lambda x: (x - a.mean())/a.std())(a)"
   ]
  },
  {
   "cell_type": "code",
   "execution_count": 60,
   "id": "dce614fa-9dcd-43e4-9f0b-3ddbd2d76eaf",
   "metadata": {},
   "outputs": [
    {
     "name": "stdout",
     "output_type": "stream",
     "text": [
      "4.0 3.0 3.0\n",
      "4.0\n"
     ]
    }
   ],
   "source": [
    "# Следующая таблица содержит информацию об оценках, выставленных фильмам.\n",
    "# Требуется оценить, какую оценку поставит Саша фильму «Гарри Поттер». \n",
    "# Сделаем это с помощью метрики Манхэттен (для простоты вычислений данные в таблице нормировать не нужно). \n",
    "# Для этого подсчитаем расстояния от Саши до других людей, используя информацию из первых 3 столбцов. \n",
    "# Чему равна ожидаемая оценка для «Гарри Поттера» (округлить до одного знака после запятой)?\n",
    "\n",
    "P1 = pd.Series([5,5,5,3])\n",
    "P2 = pd.Series([5,3,4,4])\n",
    "P3 = pd.Series([2,5,3,5])\n",
    "P4 = pd.Series([3,4,4,None])\n",
    "\n",
    "a = np.abs(P1[:3]-P4[:3]).sum()\n",
    "b = np.abs(P2[:3]-P4[:3]).sum()\n",
    "c = np.abs(P3[:3]-P4[:3]).sum()\n",
    "\n",
    "print(a,b,c)\n",
    "\n",
    "#print(np.floor((1/((1/a) + (1/b)+(1/c)))*((P1[3:4]/a)+(P2[3:4]/b)+(P3[3:4]/c))))\n",
    "P4[3] = (1/(1/a + 1/b + 1/c)) * (P1[3]/a + P2[3]/b + P3[3]/c)\n",
    "print(np.floor(P4[3]))"
   ]
  },
  {
   "cell_type": "code",
   "execution_count": 67,
   "id": "baa37f18-0d8a-47cd-8c60-2348aae6733a",
   "metadata": {},
   "outputs": [
    {
     "name": "stdout",
     "output_type": "stream",
     "text": [
      "1.73\n"
     ]
    }
   ],
   "source": [
    "# Таблица содержит сведения о заказах анонимных пользователей в интернет-магазине. \n",
    "# По строкам отложены наименования товаров, а столбцы — номера заказов \n",
    "# (в ячейке стоит 1, если товар входит в соответствующий заказ; 0 — в противном случае). \n",
    "# При построении рекомендательной системы необходимо оценить степень похожести товаров с помощью вычисления евклидовой метрики. \n",
    "# Наиболее похожим (близким) на товар А будет товар С и расстояние между этими товарами равно (ответ округлить до сотых).\n",
    "\n",
    "\n",
    "A = np.array([1,0,1,0,1,0])\n",
    "B = np.array([0,1,1,1,0,0])\n",
    "C = np.array([1,1,0,1,1,0])\n",
    "D = np.array([1,1,0,1,1,1])\n",
    "\n",
    "print(round(np.linalg.norm(A - C), 2))"
   ]
  },
  {
   "cell_type": "markdown",
   "id": "f536c11b-4128-4cfd-870d-e0acc9cae6a9",
   "metadata": {},
   "source": [
    "## Поиск выбросов и аномалий"
   ]
  },
  {
   "cell_type": "code",
   "execution_count": null,
   "id": "1afe654a-dfe4-4a1a-a8ae-447da5657c79",
   "metadata": {},
   "outputs": [],
   "source": []
  }
 ],
 "metadata": {
  "kernelspec": {
   "display_name": "Python 3 (ipykernel)",
   "language": "python",
   "name": "python3"
  },
  "language_info": {
   "codemirror_mode": {
    "name": "ipython",
    "version": 3
   },
   "file_extension": ".py",
   "mimetype": "text/x-python",
   "name": "python",
   "nbconvert_exporter": "python",
   "pygments_lexer": "ipython3",
   "version": "3.13.5"
  }
 },
 "nbformat": 4,
 "nbformat_minor": 5
}
