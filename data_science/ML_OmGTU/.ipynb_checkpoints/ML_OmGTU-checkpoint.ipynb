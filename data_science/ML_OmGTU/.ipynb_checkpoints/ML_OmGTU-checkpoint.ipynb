{
 "cells": [
  {
   "cell_type": "markdown",
   "id": "b945ed17-cf98-4575-b13a-a0ae231e1ffd",
   "metadata": {},
   "source": [
    "# Машинное обучение\n",
    "ОмГТУ, Артём Шевляков\n",
    "\n",
    "https://stepik.org/course/8057/syllabus"
   ]
  },
  {
   "cell_type": "code",
   "execution_count": 1,
   "id": "7caa7912-e88a-4ef2-bf7c-db24251412ca",
   "metadata": {},
   "outputs": [],
   "source": [
    "import pandas as pd\n",
    "import numpy as np\n"
   ]
  },
  {
   "cell_type": "markdown",
   "id": "c8756942-35af-4b6f-9c5f-7fd92717e095",
   "metadata": {},
   "source": [
    "## Введение в машинное обучение и основные понятия статистики, Восстановление пропущенных значений"
   ]
  },
  {
   "cell_type": "code",
   "execution_count": 21,
   "id": "1e285979-557b-4a25-991c-36b2738eeabc",
   "metadata": {},
   "outputs": [
    {
     "name": "stdout",
     "output_type": "stream",
     "text": [
      "2.0\n",
      "1.0\n"
     ]
    }
   ],
   "source": [
    "P = pd.Series([-0,1,5])\n",
    "\n",
    "print(round(P.mean(), 2))\n",
    "print(round(P.median(), 2))"
   ]
  },
  {
   "cell_type": "code",
   "execution_count": 30,
   "id": "1fb6c943-6602-423a-8fc2-f24409651253",
   "metadata": {},
   "outputs": [
    {
     "name": "stdout",
     "output_type": "stream",
     "text": [
      "2.83\n",
      "4.0\n",
      "2\n"
     ]
    }
   ],
   "source": [
    "# Даны два вектора значений признаков Р1=(0,1,2) Р2=(2,1,0).\n",
    "# Евклидово расстояние между ними равно\n",
    "# Расстояние в метрике Манхэттен между ними равно\n",
    "# Расстояние между ними в max-метрике равно \n",
    "\n",
    "Р1 = pd.Series([0,1,2]) \n",
    "Р2 = pd.Series([2,1,0])\n",
    "\n",
    "evq = np.linalg.norm(Р1 - Р2)\n",
    "manh = np.linalg.norm(Р1 - Р2,ord=1)\n",
    "maxmetr = max(np.abs(Р1 - Р2))\n",
    "print(round(evq, 2))\n",
    "print(round(manh, 2))\n",
    "print(round(maxmetr, 2))"
   ]
  },
  {
   "cell_type": "code",
   "execution_count": 31,
   "id": "2c51ccb4-c70a-4f96-9031-5cfb7a99a058",
   "metadata": {},
   "outputs": [
    {
     "data": {
      "text/plain": [
       "array([0.2, 0. , 1. , 0.4, 0.4])"
      ]
     },
     "execution_count": 31,
     "metadata": {},
     "output_type": "execute_result"
    }
   ],
   "source": [
    "# Дан вектор значений признака Р=(1,0,5,2,2). \n",
    "# Нормализуем этот вектор по формуле, использующей минимальное и максимальное значение признака Р. \n",
    "# Значение первой координаты нормализованного вектора будет равно \n",
    "\n",
    "a = np.array([1, 0, 5, 2, 2])\n",
    "\n",
    "np.vectorize(lambda x: (x - a.min())/(a.max() - a.min()))(a)"
   ]
  },
  {
   "cell_type": "code",
   "execution_count": 33,
   "id": "a09bf329-982a-47f2-8706-dca0977719ea",
   "metadata": {},
   "outputs": [
    {
     "data": {
      "text/plain": [
       "array([-0.5976143 , -1.19522861,  1.79284291,  0.        ,  0.        ])"
      ]
     },
     "execution_count": 33,
     "metadata": {},
     "output_type": "execute_result"
    }
   ],
   "source": [
    "# Дан вектор значений признака Р=(1,0,5,2,2). \n",
    "# Нормализуем этот вектор по формуле, использующей среднее значением и отклонение признака Р. \n",
    "# Значение последней координаты нормализованного вектора будет равно \n",
    "\n",
    "a = np.array([1, 0, 5, 2, 2])\n",
    "np.vectorize(lambda x: (x - a.mean())/a.std())(a)"
   ]
  },
  {
   "cell_type": "code",
   "execution_count": 60,
   "id": "dce614fa-9dcd-43e4-9f0b-3ddbd2d76eaf",
   "metadata": {},
   "outputs": [
    {
     "name": "stdout",
     "output_type": "stream",
     "text": [
      "4.0 3.0 3.0\n",
      "4.0\n"
     ]
    }
   ],
   "source": [
    "# Следующая таблица содержит информацию об оценках, выставленных фильмам.\n",
    "# Требуется оценить, какую оценку поставит Саша фильму «Гарри Поттер». \n",
    "# Сделаем это с помощью метрики Манхэттен (для простоты вычислений данные в таблице нормировать не нужно). \n",
    "# Для этого подсчитаем расстояния от Саши до других людей, используя информацию из первых 3 столбцов. \n",
    "# Чему равна ожидаемая оценка для «Гарри Поттера» (округлить до одного знака после запятой)?\n",
    "\n",
    "P1 = pd.Series([5,5,5,3])\n",
    "P2 = pd.Series([5,3,4,4])\n",
    "P3 = pd.Series([2,5,3,5])\n",
    "P4 = pd.Series([3,4,4,None])\n",
    "\n",
    "a = np.abs(P1[:3]-P4[:3]).sum()\n",
    "b = np.abs(P2[:3]-P4[:3]).sum()\n",
    "c = np.abs(P3[:3]-P4[:3]).sum()\n",
    "\n",
    "print(a,b,c)\n",
    "\n",
    "#print(np.floor((1/((1/a) + (1/b)+(1/c)))*((P1[3:4]/a)+(P2[3:4]/b)+(P3[3:4]/c))))\n",
    "P4[3] = (1/(1/a + 1/b + 1/c)) * (P1[3]/a + P2[3]/b + P3[3]/c)\n",
    "print(np.floor(P4[3]))"
   ]
  },
  {
   "cell_type": "code",
   "execution_count": 67,
   "id": "baa37f18-0d8a-47cd-8c60-2348aae6733a",
   "metadata": {},
   "outputs": [
    {
     "name": "stdout",
     "output_type": "stream",
     "text": [
      "1.73\n"
     ]
    }
   ],
   "source": [
    "# Таблица содержит сведения о заказах анонимных пользователей в интернет-магазине. \n",
    "# По строкам отложены наименования товаров, а столбцы — номера заказов \n",
    "# (в ячейке стоит 1, если товар входит в соответствующий заказ; 0 — в противном случае). \n",
    "# При построении рекомендательной системы необходимо оценить степень похожести товаров с помощью вычисления евклидовой метрики. \n",
    "# Наиболее похожим (близким) на товар А будет товар С и расстояние между этими товарами равно (ответ округлить до сотых).\n",
    "\n",
    "\n",
    "A = np.array([1,0,1,0,1,0])\n",
    "B = np.array([0,1,1,1,0,0])\n",
    "C = np.array([1,1,0,1,1,0])\n",
    "D = np.array([1,1,0,1,1,1])\n",
    "\n",
    "print(round(np.linalg.norm(A - C), 2))"
   ]
  },
  {
   "cell_type": "markdown",
   "id": "f536c11b-4128-4cfd-870d-e0acc9cae6a9",
   "metadata": {},
   "source": [
    "## Поиск выбросов и аномалий"
   ]
  },
  {
   "cell_type": "code",
   "execution_count": 6,
   "id": "1afe654a-dfe4-4a1a-a8ae-447da5657c79",
   "metadata": {},
   "outputs": [
    {
     "name": "stdout",
     "output_type": "stream",
     "text": [
      "-1.0 7.0\n"
     ]
    }
   ],
   "source": [
    "# Первая и третья квартиль значений признака Р равны 2, 4 соответственно. \n",
    "# Какие из следующих значений будут считаться выбросами?\n",
    "\n",
    "interval_1 = 2 - 1.5 * (4 - 2)  #  Q25 - 1.5 * (Q75 - Q25)\n",
    "\n",
    "interval_2 = 4 + 1.5 * (4 - 2)  #  Q75 + 1.5 *(Q75 - Q25)\n",
    "\n",
    "print(interval_1, interval_2)"
   ]
  },
  {
   "cell_type": "code",
   "execution_count": 8,
   "id": "1b2398cb-aa24-41a2-898f-88c00db5f17f",
   "metadata": {},
   "outputs": [
    {
     "name": "stdout",
     "output_type": "stream",
     "text": [
      "6.699999999999999 13.3\n"
     ]
    }
   ],
   "source": [
    "# Среднее значение, отклонение и медиана десяти значений признака Р равны 10, 1.1 (одна целая одна десятая), и 9 соответственно. \n",
    "# Какие из следующих значений будут выбросами? Не забудьте в процессе решения проверить симметричность выборки.\n",
    "\n",
    "\n",
    "\n",
    "# Если выборка семмитричная, то выброс за пределами интервала: \n",
    "#          (Среднее значение  - 3 * отклонение, Среднее значение  + 3 * отклонение)\n",
    "# Если несеммитричная то (Среднее значение  - 5 * отклонение, Среднее значение  + 5 * отклонение)\n",
    "# Если медиана и среднее близки друг к другу, то выборка считается семмитричной\n",
    "\n",
    "mean_p = 10\n",
    "median_p = 9\n",
    "std_p = 1.1\n",
    "\n",
    "interval_1 = (mean_p - 3 * std_p) \n",
    "interval_2 = (mean_p + 3 * std_p) \n",
    "\n",
    "print(interval_1, interval_2)"
   ]
  },
  {
   "cell_type": "code",
   "execution_count": 7,
   "id": "0291ac6b-15b3-4a07-981c-20189a4ef9e1",
   "metadata": {},
   "outputs": [
    {
     "name": "stdout",
     "output_type": "stream",
     "text": [
      "Выборка симметрична\n",
      "\n",
      "выбросы по Шовене: 7 13.5 6 14 13 6.5\n",
      "\n",
      "выбросы по квартилям: 13.5 6 14 6.5\n"
     ]
    }
   ],
   "source": [
    "p = [7, 13.5, 6, 14, 13, 6.5]\n",
    "n = 10\n",
    "mean_p = 10\n",
    "median_p = 9\n",
    "std_p = 1.1\n",
    "\n",
    "# проверка на симметричность\n",
    "symm = 'симметрична' if abs(mean_p - median_p) <= 3 * std_p / n**.5 else 'несимметрична'\n",
    "print('Выборка', symm)\n",
    "\n",
    "# проверка по Шовене\n",
    "from math import erfc\n",
    "out_sh = []\n",
    "for x in p:\n",
    "    if erfc(abs(x - mean_p) / std_p) < 1 / (2 * n):\n",
    "        out_sh.append(x)\n",
    "print('\\nвыбросы по Шовене:', *out_sh)\n",
    "\n",
    "# проверка по квартилям\n",
    "mult = 3 if symm == 'симметрична' else 5\n",
    "left, right = mean_p - mult * std_p, mean_p + mult * std_p\n",
    "out_q = []\n",
    "for x in p:\n",
    "    if not left <= x <= right:\n",
    "        out_q.append(x)\n",
    "print('\\nвыбросы по квартилям:', *out_q)"
   ]
  },
  {
   "cell_type": "code",
   "execution_count": 9,
   "id": "faec0876-7753-49ec-bee7-869dd66be160",
   "metadata": {},
   "outputs": [
    {
     "name": "stdout",
     "output_type": "stream",
     "text": [
      "a: 12\n",
      "b: 16\n",
      "c: 16\n",
      "d: 20\n"
     ]
    }
   ],
   "source": [
    "# В данной задаче выбросы будем искать по следующему правилу: \n",
    "# «Выбросом будет считаться объект, у которого суммарное расстояние от него до остальных объектов выборки наибольшее». \n",
    "# Таким образом, в указанной таблице выбросом будет (написать имя объекта в виде заглавной латинской буквы): \n",
    "# (при вычислении использовать метрику Манхэттен, нормализацию не проводить), \n",
    "# сумма расстояний от него до остальных объектов будет равна .\n",
    "\n",
    "    \n",
    "    def manhet(list1, list2, list3, list4):\n",
    "    s = 0\n",
    "    for a, b, c, d in zip(list1, list2, list3, list4):\n",
    "        s += abs(a - b) + abs(a - c) + abs(a - d)\n",
    "    return s\n",
    "\n",
    "a = [1, 1, 0]\n",
    "b = [0, 2, -1]\n",
    "c = [2, 3, 1]\n",
    "d = [1, 0, 4]\n",
    "\n",
    "print('a:', manhet(a, b, c, d))\n",
    "print('b:', manhet(b, c, d, a))\n",
    "print('c:', manhet(c, b, a, d))\n",
    "print('d:', manhet(d, b, c, a))"
   ]
  },
  {
   "cell_type": "code",
   "execution_count": null,
   "id": "f4fd690e-fa52-4091-8812-83160327ee5e",
   "metadata": {},
   "outputs": [],
   "source": [
    "# Кластеризация с помощью графов\n",
    "\n",
    "# Первый способ:\n",
    "import pandas as pd\n",
    "from neulab.Clustering import CGraph\n",
    "d = {'Age': [18, 33, 42, 24, 19, 25], 'Sex': [0, 1, 1, 0, 2, 2]}\n",
    "df = pd.DataFrame(data=d, index=['A', 'B', 'C', 'D', 'E', 'F'])\n",
    "\n",
    "clusters = CGraph(df, metric='manhattan', r='std', rnd=3, draw=False, info=True)\n",
    "\n",
    "Output:\n",
    "Distances: {'A|B': 1.125, 'A|C': 1.5, 'A|D': 0.25, 'A|E': 1.042, 'A|F': 1.292, 'B|C': 0.375, 'B|D': 0.875, 'B|E': 1.083, 'B|F': 0.833, 'C|B': 0.375, 'C|D': 1.25, 'C|E': 1.458, 'C|F': 1.208, 'D|B': 0.875, 'D|C': 1.25, 'D|E': 1.208, 'D|F': 1.042, 'E|B': 1.083, 'E|C': 1.458, 'E|D': 1.208, 'E|F': 0.25}\n",
    "R = 0.388\n",
    "Found clusters: [['D', 'A'], ['C', 'B'], ['E', 'F']]\n",
    "\n",
    "# Второй способ через остовное дерево:\n",
    "\n",
    "import pandas as pd\n",
    "from neulab.Clustering import CGraphMST\n",
    "\n",
    "d = {'Age': [18, 33, 42, 24, 19, 25], 'Sex': [0, 1, 1, 0, 2, 2]}\n",
    "df = pd.DataFrame(data=d, index=['A', 'B', 'C', 'D', 'E', 'F'])\n",
    "\n",
    "clusters = CGraphMST(df, clst_num=3, metric='manhattan', rnd=3, draw=True, info=True)"
   ]
  },
  {
   "cell_type": "code",
   "execution_count": 1,
   "id": "e03ceb26-6d39-43a3-847c-fb3deffe8e1b",
   "metadata": {},
   "outputs": [
    {
     "name": "stdout",
     "output_type": "stream",
     "text": [
      "12.0\n",
      "3.0\n",
      "6.324555320336759\n",
      "5.656854249492381\n"
     ]
    }
   ],
   "source": [
    "from math import sqrt\n",
    "x, y = 36, 4\n",
    "print(sqrt(x * y))\n",
    "print(sqrt(x / y))\n",
    "print(sqrt(x + y))\n",
    "print(sqrt(x - y))"
   ]
  },
  {
   "cell_type": "code",
   "execution_count": null,
   "id": "f3a3a400-1a82-4941-9aea-765ccca02493",
   "metadata": {},
   "outputs": [],
   "source": []
  }
 ],
 "metadata": {
  "kernelspec": {
   "display_name": "Python 3 (ipykernel)",
   "language": "python",
   "name": "python3"
  },
  "language_info": {
   "codemirror_mode": {
    "name": "ipython",
    "version": 3
   },
   "file_extension": ".py",
   "mimetype": "text/x-python",
   "name": "python",
   "nbconvert_exporter": "python",
   "pygments_lexer": "ipython3",
   "version": "3.13.5"
  }
 },
 "nbformat": 4,
 "nbformat_minor": 5
}
